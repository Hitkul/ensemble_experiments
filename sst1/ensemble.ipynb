{
 "cells": [
  {
   "cell_type": "code",
   "execution_count": 9,
   "metadata": {},
   "outputs": [],
   "source": [
    "# import matplotlib\n",
    "# matplotlib.use('Agg')\n",
    "import sys\n",
    "sys.path.append('../')\n",
    "import json\n",
    "import string\n",
    "from nltk.corpus import stopwords\n",
    "import numpy as np\n",
    "import pandas as pd\n",
    "from os import remove\n",
    "from pprint import pprint\n",
    "import re\n",
    "from keras.preprocessing.text import Tokenizer\n",
    "from keras.preprocessing.sequence import pad_sequences\n",
    "from keras.utils import to_categorical\n",
    "import keras.backend as K\n",
    "from gensim.models import KeyedVectors\n",
    "import word2vecReader as godin_embedding\n",
    "import fasttext\n",
    "from sklearn.model_selection import StratifiedKFold\n",
    "from sklearn.model_selection import train_test_split\n",
    "from sklearn.metrics import accuracy_score\n",
    "from sklearn.linear_model import LogisticRegression\n",
    "from base_learners import cnn,lstm,bi_lstm,cnn_bi_lstm,cnn_lstm\n",
    "%matplotlib inline\n",
    "import matplotlib.pyplot as plt\n",
    "plt.rcParams[\"figure.figsize\"] = [12,10]\n",
    "from mlens.visualization import corrmat\n",
    "from sklearn.model_selection import StratifiedKFold"
   ]
  },
  {
   "cell_type": "code",
   "execution_count": 10,
   "metadata": {
    "collapsed": true
   },
   "outputs": [],
   "source": [
    "def load_data_from_file(filename):\n",
    "    with open(filename,'r', errors='ignore') as fin:\n",
    "        lines = fin.readlines()\n",
    "    label = [int(x.split()[0]) for x in lines]\n",
    "    sentence = [' '.join(x.split()[1:]) for x in lines]\n",
    "    return label,sentence"
   ]
  },
  {
   "cell_type": "code",
   "execution_count": 11,
   "metadata": {
    "collapsed": true
   },
   "outputs": [],
   "source": [
    "train_labels,train_sentences = load_data_from_file('dataset/sst1/stsa.fine.train')\n",
    "dev_label,dev_sentence = load_data_from_file('dataset/sst1/stsa.fine.dev')\n",
    "test_labels,test_sentences = load_data_from_file('dataset/sst1/stsa.fine.test')"
   ]
  },
  {
   "cell_type": "code",
   "execution_count": 12,
   "metadata": {
    "collapsed": true
   },
   "outputs": [],
   "source": [
    "train_sentences = train_sentences+dev_sentence\n",
    "train_labels = train_labels+dev_label"
   ]
  },
  {
   "cell_type": "code",
   "execution_count": 13,
   "metadata": {},
   "outputs": [
    {
     "data": {
      "text/plain": [
       "(9645, 9645, 2210, 2210)"
      ]
     },
     "execution_count": 13,
     "metadata": {},
     "output_type": "execute_result"
    }
   ],
   "source": [
    "len(train_labels),len(train_sentences),len(test_labels),len(test_sentences)"
   ]
  },
  {
   "cell_type": "code",
   "execution_count": 14,
   "metadata": {
    "collapsed": true
   },
   "outputs": [],
   "source": [
    "train_labels = train_labels[:200]\n",
    "train_sentences = train_sentences[:200]\n",
    "test_labels=test_labels[:50]\n",
    "test_sentences = test_sentences[:50]"
   ]
  },
  {
   "cell_type": "code",
   "execution_count": 15,
   "metadata": {},
   "outputs": [
    {
     "data": {
      "text/plain": [
       "5"
      ]
     },
     "execution_count": 15,
     "metadata": {},
     "output_type": "execute_result"
    }
   ],
   "source": [
    "number_of_classes = len(set(train_labels))\n",
    "number_of_classes"
   ]
  },
  {
   "cell_type": "code",
   "execution_count": 16,
   "metadata": {},
   "outputs": [
    {
     "data": {
      "text/plain": [
       "(200, 200, 50, 50)"
      ]
     },
     "execution_count": 16,
     "metadata": {},
     "output_type": "execute_result"
    }
   ],
   "source": [
    "len(train_labels),len(train_sentences),len(test_labels),len(test_sentences)"
   ]
  },
  {
   "cell_type": "code",
   "execution_count": 17,
   "metadata": {
    "collapsed": true
   },
   "outputs": [],
   "source": [
    "def remove_punctuation(s):\n",
    "    list_punctuation = list(string.punctuation)\n",
    "    for i in list_punctuation:\n",
    "        s = s.replace(i,'')\n",
    "    return s"
   ]
  },
  {
   "cell_type": "code",
   "execution_count": 18,
   "metadata": {
    "collapsed": true
   },
   "outputs": [],
   "source": [
    "def clean_sentence(sentence):\n",
    "    #removes links\n",
    "    sentence = re.sub(r'(?P<url>https?://[^\\s]+)', r'', sentence)\n",
    "    # remove @usernames\n",
    "    sentence = re.sub(r\"\\@(\\w+)\", \"\", sentence)\n",
    "    #remove # from #tags\n",
    "    sentence = sentence.replace('#','')\n",
    "    # split into tokens by white space\n",
    "    tokens = sentence.split()\n",
    "    # remove punctuation from each token\n",
    "    # should have used translate but for some reason it breaks on my server\n",
    "    tokens = [remove_punctuation(w) for w in tokens]\n",
    "    # remove remaining tokens that are not alphabetic\n",
    "    tokens = [word for word in tokens if word.isalpha()]\n",
    "    # filter out stop words\n",
    "    stop_words = set(stopwords.words('english'))\n",
    "    tokens = [w for w in tokens if not w in stop_words]\n",
    "    # filter out short tokens\n",
    "    tokens = [word for word in tokens if len(word) > 1]\n",
    "    tokens = ' '.join(tokens)\n",
    "    return tokens"
   ]
  },
  {
   "cell_type": "code",
   "execution_count": 19,
   "metadata": {},
   "outputs": [
    {
     "name": "stdout",
     "output_type": "stream",
     "text": [
      "cleaning data\n"
     ]
    }
   ],
   "source": [
    "print(\"cleaning data\")\n",
    "trainX = [clean_sentence(s) for s in train_sentences]\n",
    "testX = [clean_sentence(s) for s in test_sentences]\n",
    "trainY = np.array(train_labels)\n",
    "testY=test_labels"
   ]
  },
  {
   "cell_type": "code",
   "execution_count": 20,
   "metadata": {
    "collapsed": true
   },
   "outputs": [],
   "source": [
    "max_len = 24"
   ]
  },
  {
   "cell_type": "code",
   "execution_count": 21,
   "metadata": {
    "collapsed": true
   },
   "outputs": [],
   "source": [
    "def create_tokenizer(lines):\n",
    "    tokenizer = Tokenizer()\n",
    "    tokenizer.fit_on_texts(lines)\n",
    "    return tokenizer"
   ]
  },
  {
   "cell_type": "code",
   "execution_count": 22,
   "metadata": {
    "collapsed": true
   },
   "outputs": [],
   "source": [
    "def encode_text(tokenizer, lines, length):\n",
    "    encoded = tokenizer.texts_to_sequences(lines)\n",
    "    padded = pad_sequences(encoded, maxlen=length, padding='post')\n",
    "    return padded"
   ]
  },
  {
   "cell_type": "code",
   "execution_count": 23,
   "metadata": {
    "collapsed": true
   },
   "outputs": [],
   "source": [
    "def load_godin_word_embedding(path):\n",
    "    print(\"Loading Goding model.\")\n",
    "    return godin_embedding.Word2Vec.load_word2vec_format(path, binary=True)"
   ]
  },
  {
   "cell_type": "code",
   "execution_count": 24,
   "metadata": {
    "collapsed": true
   },
   "outputs": [],
   "source": [
    "def load_google_word2vec(file_name):\n",
    "    print(\"Loading google news word2vec\")\n",
    "    return KeyedVectors.load_word2vec_format(file_name, binary=True)"
   ]
  },
  {
   "cell_type": "code",
   "execution_count": 25,
   "metadata": {
    "collapsed": true
   },
   "outputs": [],
   "source": [
    "def get_word_embedding_matrix(model,dim):\n",
    "    #dim = 300 for google word2vec\n",
    "    #dim = 400 for godin\n",
    "    #dim = 100 for fast text\n",
    "    embedding_matrix = np.zeros((vocab_size,dim))\n",
    "    for word, i in tokenizer.word_index.items():\n",
    "        try:\n",
    "            embedding_vector = model[word]\n",
    "        except KeyError:\n",
    "            embedding_vector = None\n",
    "        if embedding_vector is not None:\n",
    "            embedding_matrix[i]=embedding_vector\n",
    "    return embedding_matrix"
   ]
  },
  {
   "cell_type": "code",
   "execution_count": 26,
   "metadata": {},
   "outputs": [
    {
     "name": "stdout",
     "output_type": "stream",
     "text": [
      "Max document length: 24\n",
      "Vocabulary size: 1249\n"
     ]
    }
   ],
   "source": [
    "tokenizer = create_tokenizer(trainX)\n",
    "vocab_size = len(tokenizer.word_index) + 1\n",
    "print('Max document length: %d' % max_len)\n",
    "print('Vocabulary size: %d' % vocab_size)\n",
    "trainX = encode_text(tokenizer, trainX, max_len)\n",
    "testX = encode_text(tokenizer, testX, max_len)\n",
    "trainY = to_categorical(trainY,num_classes=number_of_classes)"
   ]
  },
  {
   "cell_type": "code",
   "execution_count": 27,
   "metadata": {},
   "outputs": [
    {
     "name": "stdout",
     "output_type": "stream",
     "text": [
      "Loading google news word2vec\n"
     ]
    }
   ],
   "source": [
    "# godin_model = load_godin_word_embedding(\"../word_embeddings/word2vec_twitter_model.bin\")\n",
    "word2vec_model= load_google_word2vec('../word_embeddings/GoogleNews-vectors-negative300.bin')"
   ]
  },
  {
   "cell_type": "code",
   "execution_count": 28,
   "metadata": {
    "collapsed": true
   },
   "outputs": [],
   "source": [
    "embedding_matrix_word2vec = get_word_embedding_matrix(word2vec_model,300)\n",
    "# embedding_matrix_godin = get_word_embedding_matrix(godin_model,400)"
   ]
  },
  {
   "cell_type": "markdown",
   "metadata": {},
   "source": [
    "## base models"
   ]
  },
  {
   "cell_type": "code",
   "execution_count": 29,
   "metadata": {
    "collapsed": true
   },
   "outputs": [],
   "source": [
    "cnn_parameter = {'batch': 8,\n",
    "                'dropout': 0.6,\n",
    "                'em': 'embedding_matrix_word2vec',\n",
    "                'em_trainable_flag': True,\n",
    "                'epoch': 10,\n",
    "                'filter_size': 6,\n",
    "                'learning_rate': 0.0001,\n",
    "                'n_dense': 200,\n",
    "                'n_filters': 100}\n",
    "\n",
    "lstm_parameter={'batch': 64,\n",
    "                    'dropout': 0.6,\n",
    "                    'em': 'embedding_matrix_word2vec',\n",
    "                    'em_trainable_flag': False,\n",
    "                    'epoch': 20,\n",
    "                    'learning_rate': 0.0034157107277860235,\n",
    "                    'units_out': 128}\n",
    "\n",
    "cnn_lstm_parameter={'batch': 8,\n",
    "                    'conv_dropout': 0.5,\n",
    "                    'em': 'embedding_matrix_word2vec',\n",
    "                    'em_trainable_flag': False,\n",
    "                    'epoch': 10,\n",
    "                    'filter_size': 1,\n",
    "                    'learning_rate': 0.001,\n",
    "                    'lstm_dropout': 0.4,\n",
    "                    'n_filters': 100,\n",
    "                    'units_out': 64}\n",
    "\n",
    "cnn_bi_lstm_parameter={'batch': 8,\n",
    "                    'conv_dropout': 0.5,\n",
    "                    'em': 'embedding_matrix_word2vec',\n",
    "                    'em_trainable_flag': False,\n",
    "                    'epoch': 5,\n",
    "                    'filter_size': 1,\n",
    "                    'learning_rate': 0.001,\n",
    "                    'lstm_dropout': 0.2,\n",
    "                    'n_filters': 100,\n",
    "                    'units_out': 64}\n",
    "\n",
    "bi_lstm_parameter={'batch':8,\n",
    "                 'dropout': 0.6,\n",
    "                 'em': 'embedding_matrix_word2vec',\n",
    "                 'em_trainable_flag': False,\n",
    "                 'epoch': 5,\n",
    "                 'learning_rate': 0.0001,\n",
    "                 'units_out': 256}"
   ]
  },
  {
   "cell_type": "code",
   "execution_count": 30,
   "metadata": {
    "collapsed": true
   },
   "outputs": [],
   "source": [
    "# cnn\n",
    "# 0.4710\n",
    "def init_cnn():\n",
    "    return cnn(length=max_len,\n",
    "               vocab_size=vocab_size,\n",
    "               learning_rate=cnn_parameter['learning_rate'],\n",
    "               n_dense=cnn_parameter['n_dense'],\n",
    "               dropout=cnn_parameter['dropout'],\n",
    "               n_filters=cnn_parameter['n_filters'],\n",
    "               filter_size=cnn_parameter['filter_size'],\n",
    "               em=eval(cnn_parameter['em']),\n",
    "               number_of_classes=number_of_classes,\n",
    "               em_trainable_flag=cnn_parameter['em_trainable_flag'])"
   ]
  },
  {
   "cell_type": "code",
   "execution_count": 31,
   "metadata": {
    "collapsed": true
   },
   "outputs": [],
   "source": [
    "#  lstm\n",
    "# 0.4701\n",
    "def init_lstm():\n",
    "    return lstm(length=max_len,\n",
    "                vocab_size=vocab_size,\n",
    "                learning_rate=lstm_parameter['learning_rate'],\n",
    "                dropout=lstm_parameter['dropout'],\n",
    "                units_out=lstm_parameter['units_out'],\n",
    "                em=eval(lstm_parameter['em']),\n",
    "                number_of_classes=number_of_classes,\n",
    "                em_trainable_flag=lstm_parameter['em_trainable_flag'])"
   ]
  },
  {
   "cell_type": "code",
   "execution_count": 32,
   "metadata": {
    "collapsed": true
   },
   "outputs": [],
   "source": [
    "# bi_lstm\n",
    "# 0.4529\n",
    "def init_bi_lstm():\n",
    "    return bi_lstm(length=max_len,\n",
    "                vocab_size=vocab_size,\n",
    "                learning_rate=bi_lstm_parameter['learning_rate'],\n",
    "                dropout=bi_lstm_parameter['dropout'],\n",
    "                units_out=bi_lstm_parameter['units_out'],\n",
    "                em=eval(bi_lstm_parameter['em']),\n",
    "                number_of_classes=number_of_classes,\n",
    "                em_trainable_flag=bi_lstm_parameter['em_trainable_flag'])"
   ]
  },
  {
   "cell_type": "code",
   "execution_count": 33,
   "metadata": {
    "collapsed": true
   },
   "outputs": [],
   "source": [
    "# cnn_lstm\n",
    "# 0.4179\n",
    "def init_cnn_lstm():\n",
    "    return cnn_lstm(length=max_len,\n",
    "                    vocab_size=vocab_size,\n",
    "                    learning_rate=cnn_lstm_parameter['learning_rate'],\n",
    "                    n_filters=cnn_lstm_parameter['n_filters'],\n",
    "                    filter_size=cnn_lstm_parameter['filter_size'],\n",
    "                    em=eval(cnn_lstm_parameter['em']),\n",
    "                    number_of_classes=number_of_classes,\n",
    "                    em_trainable_flag=cnn_lstm_parameter['em_trainable_flag'],\n",
    "                    conv_dropout=cnn_lstm_parameter['conv_dropout'],\n",
    "                    l_or_g_dropout=cnn_lstm_parameter['lstm_dropout'],\n",
    "                    units_out=cnn_lstm_parameter['units_out'])"
   ]
  },
  {
   "cell_type": "code",
   "execution_count": 34,
   "metadata": {
    "collapsed": true
   },
   "outputs": [],
   "source": [
    "# cnn_bi_lstm\n",
    "# 0.4705\n",
    "def init_cnn_bi_lstm():\n",
    "    return cnn_bi_lstm(length=max_len,\n",
    "                    vocab_size=vocab_size,\n",
    "                    learning_rate=cnn_bi_lstm_parameter['learning_rate'],\n",
    "                    n_filters=cnn_bi_lstm_parameter['n_filters'],\n",
    "                    filter_size=cnn_bi_lstm_parameter['filter_size'],\n",
    "                    em=eval(cnn_bi_lstm_parameter['em']),\n",
    "                    number_of_classes=number_of_classes,\n",
    "                    em_trainable_flag=cnn_bi_lstm_parameter['em_trainable_flag'],\n",
    "                    conv_dropout=cnn_bi_lstm_parameter['conv_dropout'],\n",
    "                    l_or_g_dropout=cnn_bi_lstm_parameter['lstm_dropout'],\n",
    "                    units_out=cnn_bi_lstm_parameter['units_out'])"
   ]
  },
  {
   "cell_type": "code",
   "execution_count": 35,
   "metadata": {
    "collapsed": true
   },
   "outputs": [],
   "source": [
    "def get_pred_of_model(m,epoch,batch,trainX,trainY,testX,testY):\n",
    "    history = m.fit(trainX,trainY,epochs=epoch,batch_size=batch,verbose=2)\n",
    "    pred = m.predict(testX)    \n",
    "    pred_class = np.argmax(pred,axis=1)\n",
    "    pred_class=pred_class.astype(int)\n",
    "    acc = accuracy_score(testY,pred_class)\n",
    "    print(acc)\n",
    "#     print(pred)\n",
    "    return acc,pred_class,pred"
   ]
  },
  {
   "cell_type": "code",
   "execution_count": 36,
   "metadata": {
    "collapsed": true
   },
   "outputs": [],
   "source": [
    "pred_prob_base = np.zeros((len(testX),number_of_classes,5))\n",
    "pred_class_base = np.zeros((len(testX),5),dtype=np.int32)\n",
    "acc_results={}"
   ]
  },
  {
   "cell_type": "code",
   "execution_count": 37,
   "metadata": {},
   "outputs": [
    {
     "name": "stdout",
     "output_type": "stream",
     "text": [
      "_________________________________________________________________\n",
      "Layer (type)                 Output Shape              Param #   \n",
      "=================================================================\n",
      "embedding_1 (Embedding)      (None, 24, 300)           374700    \n",
      "_________________________________________________________________\n",
      "dropout_1 (Dropout)          (None, 24, 300)           0         \n",
      "_________________________________________________________________\n",
      "conv1d_1 (Conv1D)            (None, 19, 100)           180100    \n",
      "_________________________________________________________________\n",
      "global_max_pooling1d_1 (Glob (None, 100)               0         \n",
      "_________________________________________________________________\n",
      "dense_1 (Dense)              (None, 200)               20200     \n",
      "_________________________________________________________________\n",
      "dropout_2 (Dropout)          (None, 200)               0         \n",
      "_________________________________________________________________\n",
      "activation_1 (Activation)    (None, 200)               0         \n",
      "_________________________________________________________________\n",
      "dense_2 (Dense)              (None, 5)                 1005      \n",
      "_________________________________________________________________\n",
      "activation_2 (Activation)    (None, 5)                 0         \n",
      "=================================================================\n",
      "Total params: 576,005\n",
      "Trainable params: 576,005\n",
      "Non-trainable params: 0\n",
      "_________________________________________________________________\n",
      "None\n",
      "Epoch 1/10\n",
      " - 1s - loss: 0.5101 - acc: 0.7990\n",
      "Epoch 2/10\n",
      " - 0s - loss: 0.5071 - acc: 0.7990\n",
      "Epoch 3/10\n",
      " - 0s - loss: 0.4936 - acc: 0.7990\n",
      "Epoch 4/10\n",
      " - 0s - loss: 0.4956 - acc: 0.7980\n",
      "Epoch 5/10\n",
      " - 1s - loss: 0.4889 - acc: 0.8010\n",
      "Epoch 6/10\n",
      " - 0s - loss: 0.4929 - acc: 0.7990\n",
      "Epoch 7/10\n",
      " - 0s - loss: 0.4970 - acc: 0.7990\n",
      "Epoch 8/10\n",
      " - 0s - loss: 0.4802 - acc: 0.7990\n",
      "Epoch 9/10\n",
      " - 0s - loss: 0.4796 - acc: 0.7990\n",
      "Epoch 10/10\n",
      " - 0s - loss: 0.4816 - acc: 0.8000\n",
      "0.32\n"
     ]
    }
   ],
   "source": [
    "cnn_base = init_cnn()\n",
    "acc_results['cnn'],pred_class_base[:,0],pred_prob_base[:,:,0] = get_pred_of_model(cnn_base,cnn_parameter['epoch'],cnn_parameter['batch'],trainX,trainY,testX,testY)"
   ]
  },
  {
   "cell_type": "code",
   "execution_count": 38,
   "metadata": {},
   "outputs": [
    {
     "name": "stdout",
     "output_type": "stream",
     "text": [
      "_________________________________________________________________\n",
      "Layer (type)                 Output Shape              Param #   \n",
      "=================================================================\n",
      "embedding_2 (Embedding)      (None, 24, 300)           374700    \n",
      "_________________________________________________________________\n",
      "lstm_1 (LSTM)                (None, 128)               219648    \n",
      "_________________________________________________________________\n",
      "dense_3 (Dense)              (None, 5)                 645       \n",
      "=================================================================\n",
      "Total params: 594,993\n",
      "Trainable params: 220,293\n",
      "Non-trainable params: 374,700\n",
      "_________________________________________________________________\n",
      "None\n",
      "Epoch 1/20\n",
      " - 1s - loss: 0.4992 - acc: 0.8000\n",
      "Epoch 2/20\n",
      " - 0s - loss: 0.4908 - acc: 0.8000\n",
      "Epoch 3/20\n",
      " - 0s - loss: 0.4864 - acc: 0.8010\n",
      "Epoch 4/20\n",
      " - 0s - loss: 0.4878 - acc: 0.8040\n",
      "Epoch 5/20\n",
      " - 0s - loss: 0.4873 - acc: 0.7990\n",
      "Epoch 6/20\n",
      " - 0s - loss: 0.4822 - acc: 0.8010\n",
      "Epoch 7/20\n",
      " - 0s - loss: 0.4828 - acc: 0.7990\n",
      "Epoch 8/20\n",
      " - 0s - loss: 0.4839 - acc: 0.8010\n",
      "Epoch 9/20\n",
      " - 0s - loss: 0.4791 - acc: 0.8020\n",
      "Epoch 10/20\n",
      " - 0s - loss: 0.4769 - acc: 0.8050\n",
      "Epoch 11/20\n",
      " - 0s - loss: 0.4664 - acc: 0.8080\n",
      "Epoch 12/20\n",
      " - 0s - loss: 0.4738 - acc: 0.8010\n",
      "Epoch 13/20\n",
      " - 0s - loss: 0.4842 - acc: 0.8000\n",
      "Epoch 14/20\n",
      " - 0s - loss: 0.4827 - acc: 0.8010\n",
      "Epoch 15/20\n",
      " - 0s - loss: 0.4834 - acc: 0.7950\n",
      "Epoch 16/20\n",
      " - 0s - loss: 0.4885 - acc: 0.7970\n",
      "Epoch 17/20\n",
      " - 0s - loss: 0.4719 - acc: 0.8040\n",
      "Epoch 18/20\n",
      " - 0s - loss: 0.4680 - acc: 0.8040\n",
      "Epoch 19/20\n",
      " - 0s - loss: 0.4727 - acc: 0.8060\n",
      "Epoch 20/20\n",
      " - 0s - loss: 0.4654 - acc: 0.8020\n",
      "0.34\n"
     ]
    }
   ],
   "source": [
    "lstm_base = init_lstm()\n",
    "acc_results['lstm'],pred_class_base[:,1],pred_prob_base[:,:,1] = get_pred_of_model(lstm_base,lstm_parameter['epoch'],lstm_parameter['batch'],trainX,trainY,testX,testY)"
   ]
  },
  {
   "cell_type": "code",
   "execution_count": 39,
   "metadata": {},
   "outputs": [
    {
     "name": "stdout",
     "output_type": "stream",
     "text": [
      "_________________________________________________________________\n",
      "Layer (type)                 Output Shape              Param #   \n",
      "=================================================================\n",
      "embedding_3 (Embedding)      (None, 24, 300)           374700    \n",
      "_________________________________________________________________\n",
      "bidirectional_1 (Bidirection (None, 512)               1140736   \n",
      "_________________________________________________________________\n",
      "dropout_3 (Dropout)          (None, 512)               0         \n",
      "_________________________________________________________________\n",
      "dense_4 (Dense)              (None, 5)                 2565      \n",
      "=================================================================\n",
      "Total params: 1,518,001\n",
      "Trainable params: 1,143,301\n",
      "Non-trainable params: 374,700\n",
      "_________________________________________________________________\n",
      "None\n",
      "Epoch 1/5\n",
      " - 3s - loss: 0.4988 - acc: 0.8000\n",
      "Epoch 2/5\n",
      " - 2s - loss: 0.4928 - acc: 0.8000\n",
      "Epoch 3/5\n",
      " - 2s - loss: 0.4865 - acc: 0.8000\n",
      "Epoch 4/5\n",
      " - 2s - loss: 0.4820 - acc: 0.8000\n",
      "Epoch 5/5\n",
      " - 2s - loss: 0.4774 - acc: 0.8000\n",
      "0.3\n"
     ]
    }
   ],
   "source": [
    "bi_lstm_base=init_bi_lstm()\n",
    "acc_results['bi_lstm'],pred_class_base[:,2],pred_prob_base[:,:,2] = get_pred_of_model(bi_lstm_base,bi_lstm_parameter['epoch'],bi_lstm_parameter['batch'],trainX,trainY,testX,testY)"
   ]
  },
  {
   "cell_type": "code",
   "execution_count": 40,
   "metadata": {},
   "outputs": [
    {
     "name": "stdout",
     "output_type": "stream",
     "text": [
      "_________________________________________________________________\n",
      "Layer (type)                 Output Shape              Param #   \n",
      "=================================================================\n",
      "embedding_4 (Embedding)      (None, 24, 300)           374700    \n",
      "_________________________________________________________________\n",
      "conv1d_2 (Conv1D)            (None, 24, 100)           30100     \n",
      "_________________________________________________________________\n",
      "dropout_4 (Dropout)          (None, 24, 100)           0         \n",
      "_________________________________________________________________\n",
      "max_pooling1d_1 (MaxPooling1 (None, 12, 100)           0         \n",
      "_________________________________________________________________\n",
      "lstm_3 (LSTM)                (None, 64)                42240     \n",
      "_________________________________________________________________\n",
      "dropout_5 (Dropout)          (None, 64)                0         \n",
      "_________________________________________________________________\n",
      "dense_5 (Dense)              (None, 5)                 325       \n",
      "=================================================================\n",
      "Total params: 447,365\n",
      "Trainable params: 72,665\n",
      "Non-trainable params: 374,700\n",
      "_________________________________________________________________\n",
      "None\n",
      "Epoch 1/10\n",
      " - 1s - loss: 0.4981 - acc: 0.8000\n",
      "Epoch 2/10\n",
      " - 0s - loss: 0.4926 - acc: 0.8000\n",
      "Epoch 3/10\n",
      " - 0s - loss: 0.4870 - acc: 0.8000\n",
      "Epoch 4/10\n",
      " - 0s - loss: 0.4819 - acc: 0.8000\n",
      "Epoch 5/10\n",
      " - 0s - loss: 0.4715 - acc: 0.8040\n",
      "Epoch 6/10\n",
      " - 0s - loss: 0.4432 - acc: 0.8140\n",
      "Epoch 7/10\n",
      " - 0s - loss: 0.3915 - acc: 0.8390\n",
      "Epoch 8/10\n",
      " - 0s - loss: 0.3624 - acc: 0.8450\n",
      "Epoch 9/10\n",
      " - 0s - loss: 0.3232 - acc: 0.8630\n",
      "Epoch 10/10\n",
      " - 0s - loss: 0.2900 - acc: 0.8840\n",
      "0.24\n"
     ]
    }
   ],
   "source": [
    "cnn_lstm_base = init_cnn_lstm()\n",
    "acc_results['cnn_lstm'],pred_class_base[:,3],pred_prob_base[:,:,3] = get_pred_of_model(cnn_lstm_base,cnn_lstm_parameter['epoch'],cnn_lstm_parameter['batch'],trainX,trainY,testX,testY)"
   ]
  },
  {
   "cell_type": "code",
   "execution_count": 41,
   "metadata": {},
   "outputs": [
    {
     "name": "stdout",
     "output_type": "stream",
     "text": [
      "_________________________________________________________________\n",
      "Layer (type)                 Output Shape              Param #   \n",
      "=================================================================\n",
      "embedding_5 (Embedding)      (None, 24, 300)           374700    \n",
      "_________________________________________________________________\n",
      "conv1d_3 (Conv1D)            (None, 24, 100)           30100     \n",
      "_________________________________________________________________\n",
      "dropout_6 (Dropout)          (None, 24, 100)           0         \n",
      "_________________________________________________________________\n",
      "max_pooling1d_2 (MaxPooling1 (None, 12, 100)           0         \n",
      "_________________________________________________________________\n",
      "bidirectional_2 (Bidirection (None, 128)               84480     \n",
      "_________________________________________________________________\n",
      "dropout_7 (Dropout)          (None, 128)               0         \n",
      "_________________________________________________________________\n",
      "dense_6 (Dense)              (None, 5)                 645       \n",
      "=================================================================\n",
      "Total params: 489,925\n",
      "Trainable params: 115,225\n",
      "Non-trainable params: 374,700\n",
      "_________________________________________________________________\n",
      "None\n",
      "Epoch 1/5\n",
      " - 1s - loss: 0.4955 - acc: 0.8000\n",
      "Epoch 2/5\n",
      " - 0s - loss: 0.4821 - acc: 0.8000\n",
      "Epoch 3/5\n",
      " - 1s - loss: 0.4713 - acc: 0.8000\n",
      "Epoch 4/5\n",
      " - 1s - loss: 0.4551 - acc: 0.8010\n",
      "Epoch 5/5\n",
      " - 0s - loss: 0.4219 - acc: 0.8150\n",
      "0.34\n"
     ]
    }
   ],
   "source": [
    "cnn_bi_lstm_base = init_cnn_bi_lstm()\n",
    "acc_results['cnn_bi_lstm'],pred_class_base[:,4],pred_prob_base[:,:,4] = get_pred_of_model(cnn_bi_lstm_base,cnn_bi_lstm_parameter['epoch'],cnn_bi_lstm_parameter['batch'],trainX,trainY,testX,testY)"
   ]
  },
  {
   "cell_type": "code",
   "execution_count": 42,
   "metadata": {},
   "outputs": [
    {
     "data": {
      "text/plain": [
       "{'bi_lstm': 0.3,\n",
       " 'cnn': 0.32,\n",
       " 'cnn_bi_lstm': 0.34,\n",
       " 'cnn_lstm': 0.24,\n",
       " 'lstm': 0.34}"
      ]
     },
     "execution_count": 42,
     "metadata": {},
     "output_type": "execute_result"
    }
   ],
   "source": [
    "acc_results"
   ]
  },
  {
   "cell_type": "code",
   "execution_count": 43,
   "metadata": {},
   "outputs": [
    {
     "data": {
      "text/plain": [
       "array([[1, 1, 3, 1, 1],\n",
       "       [1, 1, 3, 3, 3],\n",
       "       [1, 3, 3, 1, 1],\n",
       "       [1, 1, 3, 3, 1],\n",
       "       [1, 1, 1, 2, 1],\n",
       "       [3, 3, 3, 3, 3],\n",
       "       [3, 3, 3, 4, 1],\n",
       "       [3, 3, 3, 4, 3],\n",
       "       [1, 1, 3, 1, 1],\n",
       "       [3, 1, 3, 2, 1]], dtype=int32)"
      ]
     },
     "execution_count": 43,
     "metadata": {},
     "output_type": "execute_result"
    }
   ],
   "source": [
    "pred_class_base[:10]"
   ]
  },
  {
   "cell_type": "code",
   "execution_count": 44,
   "metadata": {},
   "outputs": [
    {
     "data": {
      "text/plain": [
       "array([[[0.16627568, 0.11532968, 0.16015093, 0.06110611, 0.16268025],\n",
       "        [0.22956753, 0.27253938, 0.22555529, 0.57644874, 0.28481767],\n",
       "        [0.18614276, 0.22483024, 0.20037745, 0.17761035, 0.24080448],\n",
       "        [0.22366777, 0.21324579, 0.23497273, 0.14870676, 0.20089483],\n",
       "        [0.19434614, 0.17405495, 0.17894365, 0.03612804, 0.11080283]],\n",
       "\n",
       "       [[0.15720554, 0.12618168, 0.13902088, 0.04127952, 0.11504462],\n",
       "        [0.24367116, 0.23447637, 0.22253746, 0.11868766, 0.22523078],\n",
       "        [0.19933127, 0.20918716, 0.18396403, 0.12579308, 0.19623537],\n",
       "        [0.232896  , 0.23127767, 0.27044374, 0.67780101, 0.33911368],\n",
       "        [0.16689597, 0.19887716, 0.18403395, 0.03643874, 0.12437558]]])"
      ]
     },
     "execution_count": 44,
     "metadata": {},
     "output_type": "execute_result"
    }
   ],
   "source": [
    "pred_prob_base[:2]"
   ]
  },
  {
   "cell_type": "markdown",
   "metadata": {},
   "source": [
    "## Analyzing performance of base models "
   ]
  },
  {
   "cell_type": "code",
   "execution_count": 45,
   "metadata": {
    "collapsed": true
   },
   "outputs": [],
   "source": [
    "number_of_base_models = 5"
   ]
  },
  {
   "cell_type": "code",
   "execution_count": 46,
   "metadata": {
    "collapsed": true
   },
   "outputs": [],
   "source": [
    "correct_predicted_by_all = 0\n",
    "incorrect_predicted_by_all = 0\n",
    "correct_predicted_by_some=[0 for _ in range(number_of_base_models-1)] #index0 = correct predicted by 1, index1 = correct predicted by 2 and so on."
   ]
  },
  {
   "cell_type": "code",
   "execution_count": 47,
   "metadata": {
    "collapsed": true
   },
   "outputs": [],
   "source": [
    "# pred_class_base[0],np.bincount(pred_class_base[0]),len(np.bincount(pred_class_base[0])),testY[0]"
   ]
  },
  {
   "cell_type": "code",
   "execution_count": 48,
   "metadata": {
    "collapsed": true
   },
   "outputs": [],
   "source": [
    "for x,y in zip(pred_class_base,testY):\n",
    "    bin_count = np.bincount(x)\n",
    "    if len(bin_count)<=y or bin_count[y]==0:\n",
    "        incorrect_predicted_by_all+=1\n",
    "    elif bin_count[y] == number_of_base_models:\n",
    "        correct_predicted_by_all+=1\n",
    "    else:\n",
    "        correct_predicted_by_some[bin_count[y]-1]+=1"
   ]
  },
  {
   "cell_type": "code",
   "execution_count": 49,
   "metadata": {},
   "outputs": [
    {
     "data": {
      "text/plain": [
       "(23, 2, [6, 5, 5, 9])"
      ]
     },
     "execution_count": 49,
     "metadata": {},
     "output_type": "execute_result"
    }
   ],
   "source": [
    "incorrect_predicted_by_all,correct_predicted_by_all,correct_predicted_by_some"
   ]
  },
  {
   "cell_type": "code",
   "execution_count": 50,
   "metadata": {},
   "outputs": [
    {
     "name": "stdout",
     "output_type": "stream",
     "text": [
      "results look good\n"
     ]
    }
   ],
   "source": [
    "if sum(correct_predicted_by_some)+correct_predicted_by_all+incorrect_predicted_by_all == len(testY):\n",
    "    print(\"results look good\")\n",
    "else:\n",
    "    print(\"something went wrong\")"
   ]
  },
  {
   "cell_type": "code",
   "execution_count": 51,
   "metadata": {
    "collapsed": true
   },
   "outputs": [],
   "source": [
    "acc_results['base_model_counts']={}"
   ]
  },
  {
   "cell_type": "code",
   "execution_count": 52,
   "metadata": {
    "collapsed": true
   },
   "outputs": [],
   "source": [
    "acc_results['base_model_counts']['correct_predicted_by_all'] = correct_predicted_by_all\n",
    "acc_results['base_model_counts']['incorrect_predicted_by_all'] = incorrect_predicted_by_all\n",
    "acc_results['base_model_counts']['correct_predicted_by_some'] = correct_predicted_by_some"
   ]
  },
  {
   "cell_type": "code",
   "execution_count": 53,
   "metadata": {},
   "outputs": [
    {
     "data": {
      "text/plain": [
       "{'base_model_counts': {'correct_predicted_by_all': 2,\n",
       "  'correct_predicted_by_some': [6, 5, 5, 9],\n",
       "  'incorrect_predicted_by_all': 23},\n",
       " 'bi_lstm': 0.3,\n",
       " 'cnn': 0.32,\n",
       " 'cnn_bi_lstm': 0.34,\n",
       " 'cnn_lstm': 0.24,\n",
       " 'lstm': 0.34}"
      ]
     },
     "execution_count": 53,
     "metadata": {},
     "output_type": "execute_result"
    }
   ],
   "source": [
    "acc_results"
   ]
  },
  {
   "cell_type": "markdown",
   "metadata": {},
   "source": [
    "## prediction corelation"
   ]
  },
  {
   "cell_type": "code",
   "execution_count": 54,
   "metadata": {
    "collapsed": true
   },
   "outputs": [],
   "source": [
    "pred_df = pd.DataFrame(pred_class_base)\n",
    "pred_df.columns = [\"cnn\",\"lstm\",\"bi_lstm\",\"cnn_lstm\",\"cnn_bi_lstm\"]"
   ]
  },
  {
   "cell_type": "code",
   "execution_count": 55,
   "metadata": {},
   "outputs": [
    {
     "data": {
      "text/html": [
       "<div>\n",
       "<style>\n",
       "    .dataframe thead tr:only-child th {\n",
       "        text-align: right;\n",
       "    }\n",
       "\n",
       "    .dataframe thead th {\n",
       "        text-align: left;\n",
       "    }\n",
       "\n",
       "    .dataframe tbody tr th {\n",
       "        vertical-align: top;\n",
       "    }\n",
       "</style>\n",
       "<table border=\"1\" class=\"dataframe\">\n",
       "  <thead>\n",
       "    <tr style=\"text-align: right;\">\n",
       "      <th></th>\n",
       "      <th>cnn</th>\n",
       "      <th>lstm</th>\n",
       "      <th>bi_lstm</th>\n",
       "      <th>cnn_lstm</th>\n",
       "      <th>cnn_bi_lstm</th>\n",
       "    </tr>\n",
       "  </thead>\n",
       "  <tbody>\n",
       "    <tr>\n",
       "      <th>0</th>\n",
       "      <td>1</td>\n",
       "      <td>1</td>\n",
       "      <td>3</td>\n",
       "      <td>1</td>\n",
       "      <td>1</td>\n",
       "    </tr>\n",
       "    <tr>\n",
       "      <th>1</th>\n",
       "      <td>1</td>\n",
       "      <td>1</td>\n",
       "      <td>3</td>\n",
       "      <td>3</td>\n",
       "      <td>3</td>\n",
       "    </tr>\n",
       "    <tr>\n",
       "      <th>2</th>\n",
       "      <td>1</td>\n",
       "      <td>3</td>\n",
       "      <td>3</td>\n",
       "      <td>1</td>\n",
       "      <td>1</td>\n",
       "    </tr>\n",
       "    <tr>\n",
       "      <th>3</th>\n",
       "      <td>1</td>\n",
       "      <td>1</td>\n",
       "      <td>3</td>\n",
       "      <td>3</td>\n",
       "      <td>1</td>\n",
       "    </tr>\n",
       "    <tr>\n",
       "      <th>4</th>\n",
       "      <td>1</td>\n",
       "      <td>1</td>\n",
       "      <td>1</td>\n",
       "      <td>2</td>\n",
       "      <td>1</td>\n",
       "    </tr>\n",
       "  </tbody>\n",
       "</table>\n",
       "</div>"
      ],
      "text/plain": [
       "   cnn  lstm  bi_lstm  cnn_lstm  cnn_bi_lstm\n",
       "0    1     1        3         1            1\n",
       "1    1     1        3         3            3\n",
       "2    1     3        3         1            1\n",
       "3    1     1        3         3            1\n",
       "4    1     1        1         2            1"
      ]
     },
     "execution_count": 55,
     "metadata": {},
     "output_type": "execute_result"
    }
   ],
   "source": [
    "pred_df.head()"
   ]
  },
  {
   "cell_type": "code",
   "execution_count": 56,
   "metadata": {},
   "outputs": [
    {
     "data": {
      "image/png": "[encoded data removed]",
      "text/plain": [
       "<matplotlib.figure.Figure at 0x7f5d06eac2b0>"
      ]
     },
     "metadata": {},
     "output_type": "display_data"
    },
    {
     "data": {
      "text/plain": [
       "<matplotlib.axes._subplots.AxesSubplot at 0x7f5d550e2d30>"
      ]
     },
     "execution_count": 56,
     "metadata": {},
     "output_type": "execute_result"
    }
   ],
   "source": [
    "# corrmat(pred_df.corr(), inflate=False,show=False)\n",
    "# plt.savefig('results/corr_matrix_base.png', bbox_inches='tight')\n",
    "corrmat(pred_df.corr(), inflate=False)"
   ]
  },
  {
   "cell_type": "markdown",
   "metadata": {},
   "source": [
    "## average"
   ]
  },
  {
   "cell_type": "code",
   "execution_count": 57,
   "metadata": {
    "collapsed": true
   },
   "outputs": [],
   "source": [
    "avg_pred_prob = pred_prob_base.mean(axis=2)"
   ]
  },
  {
   "cell_type": "code",
   "execution_count": 58,
   "metadata": {
    "collapsed": true
   },
   "outputs": [],
   "source": [
    "avg_pred_class = np.argmax(avg_pred_prob,axis=1)\n",
    "avg_pred_class=avg_pred_class.astype(int)"
   ]
  },
  {
   "cell_type": "code",
   "execution_count": 59,
   "metadata": {},
   "outputs": [
    {
     "data": {
      "text/plain": [
       "0.32"
      ]
     },
     "execution_count": 59,
     "metadata": {},
     "output_type": "execute_result"
    }
   ],
   "source": [
    "acc = accuracy_score(testY,avg_pred_class)\n",
    "acc"
   ]
  },
  {
   "cell_type": "code",
   "execution_count": 60,
   "metadata": {
    "collapsed": true
   },
   "outputs": [],
   "source": [
    "acc_results['average'] = acc"
   ]
  },
  {
   "cell_type": "code",
   "execution_count": 61,
   "metadata": {},
   "outputs": [
    {
     "data": {
      "text/plain": [
       "{'average': 0.32,\n",
       " 'base_model_counts': {'correct_predicted_by_all': 2,\n",
       "  'correct_predicted_by_some': [6, 5, 5, 9],\n",
       "  'incorrect_predicted_by_all': 23},\n",
       " 'bi_lstm': 0.3,\n",
       " 'cnn': 0.32,\n",
       " 'cnn_bi_lstm': 0.34,\n",
       " 'cnn_lstm': 0.24,\n",
       " 'lstm': 0.34}"
      ]
     },
     "execution_count": 61,
     "metadata": {},
     "output_type": "execute_result"
    }
   ],
   "source": [
    "acc_results"
   ]
  },
  {
   "cell_type": "code",
   "execution_count": 62,
   "metadata": {
    "collapsed": true
   },
   "outputs": [],
   "source": [
    "pred_df['average']=avg_pred_class"
   ]
  },
  {
   "cell_type": "markdown",
   "metadata": {},
   "source": [
    "## Majority"
   ]
  },
  {
   "cell_type": "code",
   "execution_count": 63,
   "metadata": {
    "collapsed": true
   },
   "outputs": [],
   "source": [
    "majority_pred_class = [int(np.argmax(np.bincount(x))) for x in pred_class_base]"
   ]
  },
  {
   "cell_type": "code",
   "execution_count": 64,
   "metadata": {},
   "outputs": [
    {
     "data": {
      "text/plain": [
       "0.38"
      ]
     },
     "execution_count": 64,
     "metadata": {},
     "output_type": "execute_result"
    }
   ],
   "source": [
    "acc = accuracy_score(testY,majority_pred_class)\n",
    "acc"
   ]
  },
  {
   "cell_type": "code",
   "execution_count": 65,
   "metadata": {
    "collapsed": true
   },
   "outputs": [],
   "source": [
    "acc_results['majority'] = acc"
   ]
  },
  {
   "cell_type": "code",
   "execution_count": 66,
   "metadata": {},
   "outputs": [
    {
     "data": {
      "text/plain": [
       "{'average': 0.32,\n",
       " 'base_model_counts': {'correct_predicted_by_all': 2,\n",
       "  'correct_predicted_by_some': [6, 5, 5, 9],\n",
       "  'incorrect_predicted_by_all': 23},\n",
       " 'bi_lstm': 0.3,\n",
       " 'cnn': 0.32,\n",
       " 'cnn_bi_lstm': 0.34,\n",
       " 'cnn_lstm': 0.24,\n",
       " 'lstm': 0.34,\n",
       " 'majority': 0.38}"
      ]
     },
     "execution_count": 66,
     "metadata": {},
     "output_type": "execute_result"
    }
   ],
   "source": [
    "acc_results"
   ]
  },
  {
   "cell_type": "code",
   "execution_count": 67,
   "metadata": {
    "collapsed": true
   },
   "outputs": [],
   "source": [
    "pred_df['majority']=majority_pred_class"
   ]
  },
  {
   "cell_type": "markdown",
   "metadata": {},
   "source": [
    "## Blend ensemble"
   ]
  },
  {
   "cell_type": "code",
   "execution_count": 68,
   "metadata": {
    "collapsed": true
   },
   "outputs": [],
   "source": [
    "seed=42"
   ]
  },
  {
   "cell_type": "code",
   "execution_count": 69,
   "metadata": {
    "collapsed": true
   },
   "outputs": [],
   "source": [
    "baseX, devX, baseY, devY = train_test_split(trainX, train_labels, test_size=0.10, random_state=seed)"
   ]
  },
  {
   "cell_type": "code",
   "execution_count": 70,
   "metadata": {
    "collapsed": true
   },
   "outputs": [],
   "source": [
    "baseY = np.array(baseY)\n",
    "baseY = to_categorical(baseY,num_classes=number_of_classes)"
   ]
  },
  {
   "cell_type": "code",
   "execution_count": 71,
   "metadata": {},
   "outputs": [
    {
     "data": {
      "text/plain": [
       "(180, 180, 20, 20)"
      ]
     },
     "execution_count": 71,
     "metadata": {},
     "output_type": "execute_result"
    }
   ],
   "source": [
    "len(baseX),len(baseY),len(devX),len(devY)"
   ]
  },
  {
   "cell_type": "code",
   "execution_count": 72,
   "metadata": {
    "collapsed": true
   },
   "outputs": [],
   "source": [
    "metaX = np.zeros((len(devY),5),dtype=np.int32)"
   ]
  },
  {
   "cell_type": "code",
   "execution_count": 73,
   "metadata": {},
   "outputs": [
    {
     "name": "stdout",
     "output_type": "stream",
     "text": [
      "_________________________________________________________________\n",
      "Layer (type)                 Output Shape              Param #   \n",
      "=================================================================\n",
      "embedding_6 (Embedding)      (None, 24, 300)           374700    \n",
      "_________________________________________________________________\n",
      "dropout_8 (Dropout)          (None, 24, 300)           0         \n",
      "_________________________________________________________________\n",
      "conv1d_4 (Conv1D)            (None, 19, 100)           180100    \n",
      "_________________________________________________________________\n",
      "global_max_pooling1d_2 (Glob (None, 100)               0         \n",
      "_________________________________________________________________\n",
      "dense_7 (Dense)              (None, 200)               20200     \n",
      "_________________________________________________________________\n",
      "dropout_9 (Dropout)          (None, 200)               0         \n",
      "_________________________________________________________________\n",
      "activation_3 (Activation)    (None, 200)               0         \n",
      "_________________________________________________________________\n",
      "dense_8 (Dense)              (None, 5)                 1005      \n",
      "_________________________________________________________________\n",
      "activation_4 (Activation)    (None, 5)                 0         \n",
      "=================================================================\n",
      "Total params: 576,005\n",
      "Trainable params: 576,005\n",
      "Non-trainable params: 0\n",
      "_________________________________________________________________\n",
      "None\n",
      "Epoch 1/10\n",
      " - 1s - loss: 0.5104 - acc: 0.7956\n",
      "Epoch 2/10\n",
      " - 0s - loss: 0.5043 - acc: 0.7933\n",
      "Epoch 3/10\n",
      " - 0s - loss: 0.5019 - acc: 0.7967\n",
      "Epoch 4/10\n",
      " - 0s - loss: 0.5032 - acc: 0.7978\n",
      "Epoch 5/10\n",
      " - 0s - loss: 0.4836 - acc: 0.7967\n",
      "Epoch 6/10\n",
      " - 0s - loss: 0.4869 - acc: 0.7989\n",
      "Epoch 7/10\n",
      " - 0s - loss: 0.4874 - acc: 0.7944\n",
      "Epoch 8/10\n",
      " - 0s - loss: 0.4967 - acc: 0.7956\n",
      "Epoch 9/10\n",
      " - 0s - loss: 0.4871 - acc: 0.7989\n",
      "Epoch 10/10\n",
      " - 0s - loss: 0.4781 - acc: 0.8000\n",
      "0.25\n"
     ]
    }
   ],
   "source": [
    "_,metaX[:,0],_ = get_pred_of_model(init_cnn(),cnn_parameter['epoch'],cnn_parameter['batch'],baseX,baseY,devX,devY)"
   ]
  },
  {
   "cell_type": "code",
   "execution_count": 74,
   "metadata": {},
   "outputs": [
    {
     "name": "stdout",
     "output_type": "stream",
     "text": [
      "_________________________________________________________________\n",
      "Layer (type)                 Output Shape              Param #   \n",
      "=================================================================\n",
      "embedding_7 (Embedding)      (None, 24, 300)           374700    \n",
      "_________________________________________________________________\n",
      "lstm_5 (LSTM)                (None, 128)               219648    \n",
      "_________________________________________________________________\n",
      "dense_9 (Dense)              (None, 5)                 645       \n",
      "=================================================================\n",
      "Total params: 594,993\n",
      "Trainable params: 220,293\n",
      "Non-trainable params: 374,700\n",
      "_________________________________________________________________\n",
      "None\n",
      "Epoch 1/20\n",
      " - 1s - loss: 0.5002 - acc: 0.8000\n",
      "Epoch 2/20\n",
      " - 0s - loss: 0.4927 - acc: 0.8000\n",
      "Epoch 3/20\n",
      " - 0s - loss: 0.4867 - acc: 0.7989\n",
      "Epoch 4/20\n",
      " - 0s - loss: 0.4852 - acc: 0.8000\n",
      "Epoch 5/20\n",
      " - 0s - loss: 0.4881 - acc: 0.8000\n",
      "Epoch 6/20\n",
      " - 0s - loss: 0.4770 - acc: 0.8000\n",
      "Epoch 7/20\n",
      " - 0s - loss: 0.4831 - acc: 0.8000\n",
      "Epoch 8/20\n",
      " - 0s - loss: 0.4817 - acc: 0.7989\n",
      "Epoch 9/20\n",
      " - 0s - loss: 0.4801 - acc: 0.8022\n",
      "Epoch 10/20\n",
      " - 0s - loss: 0.4740 - acc: 0.8033\n",
      "Epoch 11/20\n",
      " - 0s - loss: 0.4704 - acc: 0.8033\n",
      "Epoch 12/20\n",
      " - 0s - loss: 0.4667 - acc: 0.8000\n",
      "Epoch 13/20\n",
      " - 0s - loss: 0.4581 - acc: 0.8056\n",
      "Epoch 14/20\n",
      " - 0s - loss: 0.4647 - acc: 0.7978\n",
      "Epoch 15/20\n",
      " - 0s - loss: 0.4592 - acc: 0.8022\n",
      "Epoch 16/20\n",
      " - 0s - loss: 0.4535 - acc: 0.8022\n",
      "Epoch 17/20\n",
      " - 0s - loss: 0.4622 - acc: 0.8100\n",
      "Epoch 18/20\n",
      " - 0s - loss: 0.4452 - acc: 0.8100\n",
      "Epoch 19/20\n",
      " - 0s - loss: 0.4543 - acc: 0.8000\n",
      "Epoch 20/20\n",
      " - 0s - loss: 0.4467 - acc: 0.8089\n",
      "0.4\n"
     ]
    }
   ],
   "source": [
    "_,metaX[:,1],_ = get_pred_of_model(init_lstm(),lstm_parameter['epoch'],lstm_parameter['batch'],baseX,baseY,devX,devY)"
   ]
  },
  {
   "cell_type": "code",
   "execution_count": 75,
   "metadata": {},
   "outputs": [
    {
     "name": "stdout",
     "output_type": "stream",
     "text": [
      "_________________________________________________________________\n",
      "Layer (type)                 Output Shape              Param #   \n",
      "=================================================================\n",
      "embedding_8 (Embedding)      (None, 24, 300)           374700    \n",
      "_________________________________________________________________\n",
      "bidirectional_3 (Bidirection (None, 512)               1140736   \n",
      "_________________________________________________________________\n",
      "dropout_10 (Dropout)         (None, 512)               0         \n",
      "_________________________________________________________________\n",
      "dense_10 (Dense)             (None, 5)                 2565      \n",
      "=================================================================\n",
      "Total params: 1,518,001\n",
      "Trainable params: 1,143,301\n",
      "Non-trainable params: 374,700\n",
      "_________________________________________________________________\n",
      "None\n",
      "Epoch 1/5\n",
      " - 3s - loss: 0.4989 - acc: 0.8000\n",
      "Epoch 2/5\n",
      " - 2s - loss: 0.4919 - acc: 0.8000\n",
      "Epoch 3/5\n",
      " - 2s - loss: 0.4877 - acc: 0.8000\n",
      "Epoch 4/5\n",
      " - 3s - loss: 0.4821 - acc: 0.8000\n",
      "Epoch 5/5\n",
      " - 2s - loss: 0.4765 - acc: 0.8000\n",
      "0.25\n"
     ]
    }
   ],
   "source": [
    "_,metaX[:,2],_ = get_pred_of_model(init_bi_lstm(),bi_lstm_parameter['epoch'],bi_lstm_parameter['batch'],baseX,baseY,devX,devY)"
   ]
  },
  {
   "cell_type": "code",
   "execution_count": 76,
   "metadata": {},
   "outputs": [
    {
     "name": "stdout",
     "output_type": "stream",
     "text": [
      "_________________________________________________________________\n",
      "Layer (type)                 Output Shape              Param #   \n",
      "=================================================================\n",
      "embedding_9 (Embedding)      (None, 24, 300)           374700    \n",
      "_________________________________________________________________\n",
      "conv1d_5 (Conv1D)            (None, 24, 100)           30100     \n",
      "_________________________________________________________________\n",
      "dropout_11 (Dropout)         (None, 24, 100)           0         \n",
      "_________________________________________________________________\n",
      "max_pooling1d_3 (MaxPooling1 (None, 12, 100)           0         \n",
      "_________________________________________________________________\n",
      "lstm_7 (LSTM)                (None, 64)                42240     \n",
      "_________________________________________________________________\n",
      "dropout_12 (Dropout)         (None, 64)                0         \n",
      "_________________________________________________________________\n",
      "dense_11 (Dense)             (None, 5)                 325       \n",
      "=================================================================\n",
      "Total params: 447,365\n",
      "Trainable params: 72,665\n",
      "Non-trainable params: 374,700\n",
      "_________________________________________________________________\n",
      "None\n",
      "Epoch 1/10\n",
      " - 1s - loss: 0.4983 - acc: 0.8000\n",
      "Epoch 2/10\n",
      " - 0s - loss: 0.4865 - acc: 0.8000\n",
      "Epoch 3/10\n",
      " - 0s - loss: 0.4877 - acc: 0.8011\n",
      "Epoch 4/10\n",
      " - 0s - loss: 0.4802 - acc: 0.8000\n",
      "Epoch 5/10\n",
      " - 0s - loss: 0.4667 - acc: 0.8033\n",
      "Epoch 6/10\n",
      " - 0s - loss: 0.4215 - acc: 0.8167\n",
      "Epoch 7/10\n",
      " - 0s - loss: 0.3545 - acc: 0.8611\n",
      "Epoch 8/10\n",
      " - 0s - loss: 0.3561 - acc: 0.8456\n",
      "Epoch 9/10\n",
      " - 0s - loss: 0.2790 - acc: 0.8744\n",
      "Epoch 10/10\n",
      " - 0s - loss: 0.3128 - acc: 0.8733\n",
      "0.3\n"
     ]
    }
   ],
   "source": [
    "_,metaX[:,3],_ = get_pred_of_model(init_cnn_lstm(),cnn_lstm_parameter['epoch'],cnn_lstm_parameter['batch'],baseX,baseY,devX,devY)"
   ]
  },
  {
   "cell_type": "code",
   "execution_count": 77,
   "metadata": {},
   "outputs": [
    {
     "name": "stdout",
     "output_type": "stream",
     "text": [
      "_________________________________________________________________\n",
      "Layer (type)                 Output Shape              Param #   \n",
      "=================================================================\n",
      "embedding_10 (Embedding)     (None, 24, 300)           374700    \n",
      "_________________________________________________________________\n",
      "conv1d_6 (Conv1D)            (None, 24, 100)           30100     \n",
      "_________________________________________________________________\n",
      "dropout_13 (Dropout)         (None, 24, 100)           0         \n",
      "_________________________________________________________________\n",
      "max_pooling1d_4 (MaxPooling1 (None, 12, 100)           0         \n",
      "_________________________________________________________________\n",
      "bidirectional_4 (Bidirection (None, 128)               84480     \n",
      "_________________________________________________________________\n",
      "dropout_14 (Dropout)         (None, 128)               0         \n",
      "_________________________________________________________________\n",
      "dense_12 (Dense)             (None, 5)                 645       \n",
      "=================================================================\n",
      "Total params: 489,925\n",
      "Trainable params: 115,225\n",
      "Non-trainable params: 374,700\n",
      "_________________________________________________________________\n",
      "None\n",
      "Epoch 1/5\n",
      " - 2s - loss: 0.4931 - acc: 0.8000\n",
      "Epoch 2/5\n",
      " - 0s - loss: 0.4790 - acc: 0.8000\n",
      "Epoch 3/5\n",
      " - 0s - loss: 0.4649 - acc: 0.8000\n",
      "Epoch 4/5\n",
      " - 0s - loss: 0.4494 - acc: 0.8022\n",
      "Epoch 5/5\n",
      " - 0s - loss: 0.4110 - acc: 0.8189\n",
      "0.3\n"
     ]
    }
   ],
   "source": [
    "_,metaX[:,4],_ = get_pred_of_model(init_cnn_bi_lstm(),cnn_bi_lstm_parameter['epoch'],cnn_bi_lstm_parameter['batch'],baseX,baseY,devX,devY)"
   ]
  },
  {
   "cell_type": "code",
   "execution_count": 78,
   "metadata": {},
   "outputs": [
    {
     "data": {
      "text/plain": [
       "(20, 20)"
      ]
     },
     "execution_count": 78,
     "metadata": {},
     "output_type": "execute_result"
    }
   ],
   "source": [
    "len(devY),len(metaX)"
   ]
  },
  {
   "cell_type": "code",
   "execution_count": 79,
   "metadata": {
    "collapsed": true
   },
   "outputs": [],
   "source": [
    "meta_model=LogisticRegression()"
   ]
  },
  {
   "cell_type": "code",
   "execution_count": 80,
   "metadata": {},
   "outputs": [
    {
     "data": {
      "text/plain": [
       "LogisticRegression(C=1.0, class_weight=None, dual=False, fit_intercept=True,\n",
       "          intercept_scaling=1, max_iter=100, multi_class='ovr', n_jobs=1,\n",
       "          penalty='l2', random_state=None, solver='liblinear', tol=0.0001,\n",
       "          verbose=0, warm_start=False)"
      ]
     },
     "execution_count": 80,
     "metadata": {},
     "output_type": "execute_result"
    }
   ],
   "source": [
    "meta_model.fit(metaX,devY)"
   ]
  },
  {
   "cell_type": "code",
   "execution_count": 81,
   "metadata": {
    "collapsed": true
   },
   "outputs": [],
   "source": [
    "blend_pred_class = meta_model.predict(pred_class_base)"
   ]
  },
  {
   "cell_type": "code",
   "execution_count": 82,
   "metadata": {},
   "outputs": [
    {
     "data": {
      "text/plain": [
       "0.18"
      ]
     },
     "execution_count": 82,
     "metadata": {},
     "output_type": "execute_result"
    }
   ],
   "source": [
    "acc = accuracy_score(testY,blend_pred_class)\n",
    "acc"
   ]
  },
  {
   "cell_type": "code",
   "execution_count": 83,
   "metadata": {
    "collapsed": true
   },
   "outputs": [],
   "source": [
    "acc_results['blend'] = acc"
   ]
  },
  {
   "cell_type": "code",
   "execution_count": 84,
   "metadata": {},
   "outputs": [
    {
     "data": {
      "text/plain": [
       "{'average': 0.32,\n",
       " 'base_model_counts': {'correct_predicted_by_all': 2,\n",
       "  'correct_predicted_by_some': [6, 5, 5, 9],\n",
       "  'incorrect_predicted_by_all': 23},\n",
       " 'bi_lstm': 0.3,\n",
       " 'blend': 0.18,\n",
       " 'cnn': 0.32,\n",
       " 'cnn_bi_lstm': 0.34,\n",
       " 'cnn_lstm': 0.24,\n",
       " 'lstm': 0.34,\n",
       " 'majority': 0.38}"
      ]
     },
     "execution_count": 84,
     "metadata": {},
     "output_type": "execute_result"
    }
   ],
   "source": [
    "acc_results"
   ]
  },
  {
   "cell_type": "code",
   "execution_count": 85,
   "metadata": {
    "collapsed": true
   },
   "outputs": [],
   "source": [
    "pred_df['blend']=blend_pred_class"
   ]
  },
  {
   "cell_type": "markdown",
   "metadata": {},
   "source": [
    "## Stacked ensemble"
   ]
  },
  {
   "cell_type": "code",
   "execution_count": 86,
   "metadata": {
    "collapsed": true
   },
   "outputs": [],
   "source": [
    "np.random.seed(seed)"
   ]
  },
  {
   "cell_type": "code",
   "execution_count": 87,
   "metadata": {
    "collapsed": true
   },
   "outputs": [],
   "source": [
    "kfold = StratifiedKFold(n_splits=10, shuffle=True, random_state=seed)"
   ]
  },
  {
   "cell_type": "code",
   "execution_count": 88,
   "metadata": {
    "collapsed": true
   },
   "outputs": [],
   "source": [
    "stacked_metaX=np.array([[0, 0, 0, 0,0]],dtype=np.int64)"
   ]
  },
  {
   "cell_type": "code",
   "execution_count": 89,
   "metadata": {
    "collapsed": true
   },
   "outputs": [],
   "source": [
    "stacked_metaY = []"
   ]
  },
  {
   "cell_type": "code",
   "execution_count": 90,
   "metadata": {
    "collapsed": true
   },
   "outputs": [],
   "source": [
    "count=1"
   ]
  },
  {
   "cell_type": "code",
   "execution_count": 91,
   "metadata": {
    "collapsed": true
   },
   "outputs": [],
   "source": [
    "trainX=[clean_sentence(x) for x in train_sentences]"
   ]
  },
  {
   "cell_type": "code",
   "execution_count": 92,
   "metadata": {
    "collapsed": true
   },
   "outputs": [],
   "source": [
    "trainY=train_labels"
   ]
  },
  {
   "cell_type": "code",
   "execution_count": 93,
   "metadata": {
    "collapsed": true
   },
   "outputs": [],
   "source": [
    "trainY=np.array(trainY)\n",
    "trainX=np.array(trainX)"
   ]
  },
  {
   "cell_type": "code",
   "execution_count": 94,
   "metadata": {},
   "outputs": [
    {
     "name": "stdout",
     "output_type": "stream",
     "text": [
      "----------------------itr = 1--------------\n",
      "_________________________________________________________________\n",
      "Layer (type)                 Output Shape              Param #   \n",
      "=================================================================\n",
      "embedding_11 (Embedding)     (None, 24, 300)           347400    \n",
      "_________________________________________________________________\n",
      "dropout_15 (Dropout)         (None, 24, 300)           0         \n",
      "_________________________________________________________________\n",
      "conv1d_7 (Conv1D)            (None, 19, 100)           180100    \n",
      "_________________________________________________________________\n",
      "global_max_pooling1d_3 (Glob (None, 100)               0         \n",
      "_________________________________________________________________\n",
      "dense_13 (Dense)             (None, 200)               20200     \n",
      "_________________________________________________________________\n",
      "dropout_16 (Dropout)         (None, 200)               0         \n",
      "_________________________________________________________________\n",
      "activation_5 (Activation)    (None, 200)               0         \n",
      "_________________________________________________________________\n",
      "dense_14 (Dense)             (None, 5)                 1005      \n",
      "_________________________________________________________________\n",
      "activation_6 (Activation)    (None, 5)                 0         \n",
      "=================================================================\n",
      "Total params: 548,705\n",
      "Trainable params: 548,705\n",
      "Non-trainable params: 0\n",
      "_________________________________________________________________\n",
      "None\n",
      "Epoch 1/10\n",
      " - 2s - loss: 0.5149 - acc: 0.7876\n",
      "Epoch 2/10\n",
      " - 0s - loss: 0.5038 - acc: 0.7944\n",
      "Epoch 3/10\n",
      " - 0s - loss: 0.5062 - acc: 0.7910\n",
      "Epoch 4/10\n",
      " - 0s - loss: 0.4886 - acc: 0.7944\n",
      "Epoch 5/10\n",
      " - 0s - loss: 0.4916 - acc: 0.8000\n",
      "Epoch 6/10\n",
      " - 0s - loss: 0.4970 - acc: 0.8011\n",
      "Epoch 7/10\n",
      " - 0s - loss: 0.4847 - acc: 0.8011\n",
      "Epoch 8/10\n",
      " - 0s - loss: 0.4867 - acc: 0.7944\n",
      "Epoch 9/10\n",
      " - 0s - loss: 0.4911 - acc: 0.7978\n",
      "Epoch 10/10\n",
      " - 0s - loss: 0.4835 - acc: 0.8011\n",
      "0.3181818181818182\n",
      "_________________________________________________________________\n",
      "Layer (type)                 Output Shape              Param #   \n",
      "=================================================================\n",
      "embedding_12 (Embedding)     (None, 24, 300)           347400    \n",
      "_________________________________________________________________\n",
      "lstm_9 (LSTM)                (None, 128)               219648    \n",
      "_________________________________________________________________\n",
      "dense_15 (Dense)             (None, 5)                 645       \n",
      "=================================================================\n",
      "Total params: 567,693\n",
      "Trainable params: 220,293\n",
      "Non-trainable params: 347,400\n",
      "_________________________________________________________________\n",
      "None\n",
      "Epoch 1/20\n",
      " - 2s - loss: 0.4991 - acc: 0.8000\n",
      "Epoch 2/20\n",
      " - 0s - loss: 0.4915 - acc: 0.8000\n",
      "Epoch 3/20\n",
      " - 0s - loss: 0.4833 - acc: 0.8011\n",
      "Epoch 4/20\n",
      " - 0s - loss: 0.4927 - acc: 0.7989\n",
      "Epoch 5/20\n",
      " - 0s - loss: 0.4804 - acc: 0.8000\n",
      "Epoch 6/20\n",
      " - 0s - loss: 0.4782 - acc: 0.8011\n",
      "Epoch 7/20\n",
      " - 0s - loss: 0.4861 - acc: 0.7966\n",
      "Epoch 8/20\n",
      " - 0s - loss: 0.4785 - acc: 0.7989\n",
      "Epoch 9/20\n",
      " - 0s - loss: 0.4749 - acc: 0.8000\n",
      "Epoch 10/20\n",
      " - 0s - loss: 0.4761 - acc: 0.8000\n",
      "Epoch 11/20\n",
      " - 0s - loss: 0.4725 - acc: 0.8000\n",
      "Epoch 12/20\n",
      " - 0s - loss: 0.4760 - acc: 0.7955\n",
      "Epoch 13/20\n",
      " - 0s - loss: 0.4661 - acc: 0.8011\n",
      "Epoch 14/20\n",
      " - 0s - loss: 0.4502 - acc: 0.8011\n",
      "Epoch 15/20\n",
      " - 0s - loss: 0.4565 - acc: 0.8034\n",
      "Epoch 16/20\n",
      " - 0s - loss: 0.4384 - acc: 0.8101\n",
      "Epoch 17/20\n",
      " - 0s - loss: 0.4659 - acc: 0.8034\n",
      "Epoch 18/20\n",
      " - 0s - loss: 0.4553 - acc: 0.8000\n",
      "Epoch 19/20\n",
      " - 0s - loss: 0.4470 - acc: 0.8056\n",
      "Epoch 20/20\n",
      " - 0s - loss: 0.4572 - acc: 0.8011\n",
      "0.4090909090909091\n",
      "_________________________________________________________________\n",
      "Layer (type)                 Output Shape              Param #   \n",
      "=================================================================\n",
      "embedding_13 (Embedding)     (None, 24, 300)           347400    \n",
      "_________________________________________________________________\n",
      "bidirectional_5 (Bidirection (None, 512)               1140736   \n",
      "_________________________________________________________________\n",
      "dropout_17 (Dropout)         (None, 512)               0         \n",
      "_________________________________________________________________\n",
      "dense_16 (Dense)             (None, 5)                 2565      \n",
      "=================================================================\n",
      "Total params: 1,490,701\n",
      "Trainable params: 1,143,301\n",
      "Non-trainable params: 347,400\n",
      "_________________________________________________________________\n",
      "None\n",
      "Epoch 1/5\n",
      " - 6s - loss: 0.5022 - acc: 0.8000\n",
      "Epoch 2/5\n",
      " - 2s - loss: 0.4944 - acc: 0.8000\n",
      "Epoch 3/5\n",
      " - 2s - loss: 0.4882 - acc: 0.8000\n",
      "Epoch 4/5\n",
      " - 2s - loss: 0.4845 - acc: 0.8000\n",
      "Epoch 5/5\n",
      " - 2s - loss: 0.4783 - acc: 0.8000\n",
      "0.2727272727272727\n",
      "_________________________________________________________________\n",
      "Layer (type)                 Output Shape              Param #   \n",
      "=================================================================\n",
      "embedding_14 (Embedding)     (None, 24, 300)           347400    \n",
      "_________________________________________________________________\n",
      "conv1d_8 (Conv1D)            (None, 24, 100)           30100     \n",
      "_________________________________________________________________\n",
      "dropout_18 (Dropout)         (None, 24, 100)           0         \n",
      "_________________________________________________________________\n",
      "max_pooling1d_5 (MaxPooling1 (None, 12, 100)           0         \n",
      "_________________________________________________________________\n",
      "lstm_11 (LSTM)               (None, 64)                42240     \n",
      "_________________________________________________________________\n",
      "dropout_19 (Dropout)         (None, 64)                0         \n",
      "_________________________________________________________________\n",
      "dense_17 (Dense)             (None, 5)                 325       \n",
      "=================================================================\n",
      "Total params: 420,065\n",
      "Trainable params: 72,665\n",
      "Non-trainable params: 347,400\n",
      "_________________________________________________________________\n",
      "None\n",
      "Epoch 1/10\n",
      " - 2s - loss: 0.5005 - acc: 0.8000\n",
      "Epoch 2/10\n",
      " - 0s - loss: 0.4845 - acc: 0.8000\n",
      "Epoch 3/10\n",
      " - 0s - loss: 0.4866 - acc: 0.7989\n",
      "Epoch 4/10\n",
      " - 0s - loss: 0.4855 - acc: 0.8000\n",
      "Epoch 5/10\n",
      " - 0s - loss: 0.4738 - acc: 0.8000\n",
      "Epoch 6/10\n",
      " - 0s - loss: 0.4631 - acc: 0.8079\n",
      "Epoch 7/10\n",
      " - 0s - loss: 0.4286 - acc: 0.8112\n",
      "Epoch 8/10\n",
      " - 0s - loss: 0.3906 - acc: 0.8337\n",
      "Epoch 9/10\n",
      " - 0s - loss: 0.3458 - acc: 0.8517\n",
      "Epoch 10/10\n",
      " - 0s - loss: 0.3140 - acc: 0.8596\n",
      "0.4090909090909091\n",
      "_________________________________________________________________\n",
      "Layer (type)                 Output Shape              Param #   \n",
      "=================================================================\n",
      "embedding_15 (Embedding)     (None, 24, 300)           347400    \n",
      "_________________________________________________________________\n",
      "conv1d_9 (Conv1D)            (None, 24, 100)           30100     \n",
      "_________________________________________________________________\n",
      "dropout_20 (Dropout)         (None, 24, 100)           0         \n",
      "_________________________________________________________________\n",
      "max_pooling1d_6 (MaxPooling1 (None, 12, 100)           0         \n",
      "_________________________________________________________________\n",
      "bidirectional_6 (Bidirection (None, 128)               84480     \n",
      "_________________________________________________________________\n",
      "dropout_21 (Dropout)         (None, 128)               0         \n",
      "_________________________________________________________________\n",
      "dense_18 (Dense)             (None, 5)                 645       \n",
      "=================================================================\n",
      "Total params: 462,625\n",
      "Trainable params: 115,225\n",
      "Non-trainable params: 347,400\n",
      "_________________________________________________________________\n",
      "None\n",
      "Epoch 1/5\n",
      " - 2s - loss: 0.4965 - acc: 0.8000\n",
      "Epoch 2/5\n",
      " - 0s - loss: 0.4825 - acc: 0.8000\n",
      "Epoch 3/5\n",
      " - 0s - loss: 0.4735 - acc: 0.8000\n",
      "Epoch 4/5\n",
      " - 0s - loss: 0.4626 - acc: 0.8011\n",
      "Epoch 5/5\n",
      " - 0s - loss: 0.4440 - acc: 0.8022\n",
      "0.2727272727272727\n",
      "----------------------itr = 2--------------\n",
      "_________________________________________________________________\n",
      "Layer (type)                 Output Shape              Param #   \n",
      "=================================================================\n",
      "embedding_16 (Embedding)     (None, 24, 300)           343800    \n",
      "_________________________________________________________________\n",
      "dropout_22 (Dropout)         (None, 24, 300)           0         \n",
      "_________________________________________________________________\n",
      "conv1d_10 (Conv1D)           (None, 19, 100)           180100    \n",
      "_________________________________________________________________\n",
      "global_max_pooling1d_4 (Glob (None, 100)               0         \n",
      "_________________________________________________________________\n",
      "dense_19 (Dense)             (None, 200)               20200     \n",
      "_________________________________________________________________\n",
      "dropout_23 (Dropout)         (None, 200)               0         \n",
      "_________________________________________________________________\n",
      "activation_7 (Activation)    (None, 200)               0         \n",
      "_________________________________________________________________\n",
      "dense_20 (Dense)             (None, 5)                 1005      \n",
      "_________________________________________________________________\n",
      "activation_8 (Activation)    (None, 5)                 0         \n",
      "=================================================================\n",
      "Total params: 545,105\n",
      "Trainable params: 545,105\n",
      "Non-trainable params: 0\n",
      "_________________________________________________________________\n",
      "None\n"
     ]
    },
    {
     "name": "stdout",
     "output_type": "stream",
     "text": [
      "Epoch 1/10\n",
      " - 3s - loss: 0.5265 - acc: 0.7944\n",
      "Epoch 2/10\n",
      " - 0s - loss: 0.5033 - acc: 0.7966\n",
      "Epoch 3/10\n",
      " - 0s - loss: 0.5106 - acc: 0.7989\n",
      "Epoch 4/10\n",
      " - 0s - loss: 0.4913 - acc: 0.8000\n",
      "Epoch 5/10\n",
      " - 1s - loss: 0.4855 - acc: 0.7966\n",
      "Epoch 6/10\n",
      " - 0s - loss: 0.4852 - acc: 0.7978\n",
      "Epoch 7/10\n",
      " - 0s - loss: 0.4904 - acc: 0.8011\n",
      "Epoch 8/10\n",
      " - 0s - loss: 0.4798 - acc: 0.7989\n",
      "Epoch 9/10\n",
      " - 0s - loss: 0.4857 - acc: 0.7989\n",
      "Epoch 10/10\n",
      " - 0s - loss: 0.4741 - acc: 0.8011\n",
      "0.23809523809523808\n",
      "_________________________________________________________________\n",
      "Layer (type)                 Output Shape              Param #   \n",
      "=================================================================\n",
      "embedding_17 (Embedding)     (None, 24, 300)           343800    \n",
      "_________________________________________________________________\n",
      "lstm_13 (LSTM)               (None, 128)               219648    \n",
      "_________________________________________________________________\n",
      "dense_21 (Dense)             (None, 5)                 645       \n",
      "=================================================================\n",
      "Total params: 564,093\n",
      "Trainable params: 220,293\n",
      "Non-trainable params: 343,800\n",
      "_________________________________________________________________\n",
      "None\n",
      "Epoch 1/20\n",
      " - 2s - loss: 0.4982 - acc: 0.8000\n",
      "Epoch 2/20\n",
      " - 0s - loss: 0.4923 - acc: 0.8000\n",
      "Epoch 3/20\n",
      " - 0s - loss: 0.4882 - acc: 0.8000\n",
      "Epoch 4/20\n",
      " - 0s - loss: 0.4850 - acc: 0.8011\n",
      "Epoch 5/20\n",
      " - 0s - loss: 0.4803 - acc: 0.8000\n",
      "Epoch 6/20\n",
      " - 0s - loss: 0.4864 - acc: 0.7989\n",
      "Epoch 7/20\n",
      " - 0s - loss: 0.4759 - acc: 0.8000\n",
      "Epoch 8/20\n",
      " - 0s - loss: 0.4736 - acc: 0.8000\n",
      "Epoch 9/20\n",
      " - 0s - loss: 0.4650 - acc: 0.7989\n",
      "Epoch 10/20\n",
      " - 0s - loss: 0.4685 - acc: 0.7989\n",
      "Epoch 11/20\n",
      " - 0s - loss: 0.4616 - acc: 0.8034\n",
      "Epoch 12/20\n",
      " - 0s - loss: 0.4566 - acc: 0.8123\n",
      "Epoch 13/20\n",
      " - 0s - loss: 0.4540 - acc: 0.8022\n",
      "Epoch 14/20\n",
      " - 0s - loss: 0.4722 - acc: 0.8011\n",
      "Epoch 15/20\n",
      " - 0s - loss: 0.4424 - acc: 0.8134\n",
      "Epoch 16/20\n",
      " - 0s - loss: 0.4581 - acc: 0.7966\n",
      "Epoch 17/20\n",
      " - 0s - loss: 0.4378 - acc: 0.8089\n",
      "Epoch 18/20\n",
      " - 0s - loss: 0.4574 - acc: 0.7899\n",
      "Epoch 19/20\n",
      " - 0s - loss: 0.4392 - acc: 0.8011\n",
      "Epoch 20/20\n",
      " - 0s - loss: 0.4373 - acc: 0.7989\n",
      "0.3333333333333333\n",
      "_________________________________________________________________\n",
      "Layer (type)                 Output Shape              Param #   \n",
      "=================================================================\n",
      "embedding_18 (Embedding)     (None, 24, 300)           343800    \n",
      "_________________________________________________________________\n",
      "bidirectional_7 (Bidirection (None, 512)               1140736   \n",
      "_________________________________________________________________\n",
      "dropout_24 (Dropout)         (None, 512)               0         \n",
      "_________________________________________________________________\n",
      "dense_22 (Dense)             (None, 5)                 2565      \n",
      "=================================================================\n",
      "Total params: 1,487,101\n",
      "Trainable params: 1,143,301\n",
      "Non-trainable params: 343,800\n",
      "_________________________________________________________________\n",
      "None\n",
      "Epoch 1/5\n",
      " - 5s - loss: 0.5010 - acc: 0.8000\n",
      "Epoch 2/5\n",
      " - 2s - loss: 0.4921 - acc: 0.8000\n",
      "Epoch 3/5\n",
      " - 2s - loss: 0.4879 - acc: 0.8000\n",
      "Epoch 4/5\n",
      " - 2s - loss: 0.4804 - acc: 0.8000\n",
      "Epoch 5/5\n",
      " - 2s - loss: 0.4793 - acc: 0.8000\n",
      "0.2857142857142857\n",
      "_________________________________________________________________\n",
      "Layer (type)                 Output Shape              Param #   \n",
      "=================================================================\n",
      "embedding_19 (Embedding)     (None, 24, 300)           343800    \n",
      "_________________________________________________________________\n",
      "conv1d_11 (Conv1D)           (None, 24, 100)           30100     \n",
      "_________________________________________________________________\n",
      "dropout_25 (Dropout)         (None, 24, 100)           0         \n",
      "_________________________________________________________________\n",
      "max_pooling1d_7 (MaxPooling1 (None, 12, 100)           0         \n",
      "_________________________________________________________________\n",
      "lstm_15 (LSTM)               (None, 64)                42240     \n",
      "_________________________________________________________________\n",
      "dropout_26 (Dropout)         (None, 64)                0         \n",
      "_________________________________________________________________\n",
      "dense_23 (Dense)             (None, 5)                 325       \n",
      "=================================================================\n",
      "Total params: 416,465\n",
      "Trainable params: 72,665\n",
      "Non-trainable params: 343,800\n",
      "_________________________________________________________________\n",
      "None\n",
      "Epoch 1/10\n",
      " - 3s - loss: 0.4986 - acc: 0.8000\n",
      "Epoch 2/10\n",
      " - 0s - loss: 0.4905 - acc: 0.8000\n",
      "Epoch 3/10\n",
      " - 0s - loss: 0.4841 - acc: 0.8000\n",
      "Epoch 4/10\n",
      " - 0s - loss: 0.4884 - acc: 0.8000\n",
      "Epoch 5/10\n",
      " - 0s - loss: 0.4740 - acc: 0.8011\n",
      "Epoch 6/10\n",
      " - 0s - loss: 0.4434 - acc: 0.8078\n",
      "Epoch 7/10\n",
      " - 0s - loss: 0.4087 - acc: 0.8123\n",
      "Epoch 8/10\n",
      " - 0s - loss: 0.3496 - acc: 0.8469\n",
      "Epoch 9/10\n",
      " - 0s - loss: 0.3206 - acc: 0.8581\n",
      "Epoch 10/10\n",
      " - 0s - loss: 0.2732 - acc: 0.8849\n",
      "0.38095238095238093\n",
      "_________________________________________________________________\n",
      "Layer (type)                 Output Shape              Param #   \n",
      "=================================================================\n",
      "embedding_20 (Embedding)     (None, 24, 300)           343800    \n",
      "_________________________________________________________________\n",
      "conv1d_12 (Conv1D)           (None, 24, 100)           30100     \n",
      "_________________________________________________________________\n",
      "dropout_27 (Dropout)         (None, 24, 100)           0         \n",
      "_________________________________________________________________\n",
      "max_pooling1d_8 (MaxPooling1 (None, 12, 100)           0         \n",
      "_________________________________________________________________\n",
      "bidirectional_8 (Bidirection (None, 128)               84480     \n",
      "_________________________________________________________________\n",
      "dropout_28 (Dropout)         (None, 128)               0         \n",
      "_________________________________________________________________\n",
      "dense_24 (Dense)             (None, 5)                 645       \n",
      "=================================================================\n",
      "Total params: 459,025\n",
      "Trainable params: 115,225\n",
      "Non-trainable params: 343,800\n",
      "_________________________________________________________________\n",
      "None\n",
      "Epoch 1/5\n",
      " - 3s - loss: 0.4961 - acc: 0.8000\n",
      "Epoch 2/5\n",
      " - 0s - loss: 0.4802 - acc: 0.8000\n",
      "Epoch 3/5\n",
      " - 0s - loss: 0.4701 - acc: 0.8000\n",
      "Epoch 4/5\n",
      " - 0s - loss: 0.4556 - acc: 0.8011\n",
      "Epoch 5/5\n",
      " - 0s - loss: 0.4246 - acc: 0.8067\n",
      "0.3333333333333333\n",
      "----------------------itr = 3--------------\n",
      "_________________________________________________________________\n",
      "Layer (type)                 Output Shape              Param #   \n",
      "=================================================================\n",
      "embedding_21 (Embedding)     (None, 24, 300)           343800    \n",
      "_________________________________________________________________\n",
      "dropout_29 (Dropout)         (None, 24, 300)           0         \n",
      "_________________________________________________________________\n",
      "conv1d_13 (Conv1D)           (None, 19, 100)           180100    \n",
      "_________________________________________________________________\n",
      "global_max_pooling1d_5 (Glob (None, 100)               0         \n",
      "_________________________________________________________________\n",
      "dense_25 (Dense)             (None, 200)               20200     \n",
      "_________________________________________________________________\n",
      "dropout_30 (Dropout)         (None, 200)               0         \n",
      "_________________________________________________________________\n",
      "activation_9 (Activation)    (None, 200)               0         \n",
      "_________________________________________________________________\n",
      "dense_26 (Dense)             (None, 5)                 1005      \n",
      "_________________________________________________________________\n",
      "activation_10 (Activation)   (None, 5)                 0         \n",
      "=================================================================\n",
      "Total params: 545,105\n",
      "Trainable params: 545,105\n",
      "Non-trainable params: 0\n",
      "_________________________________________________________________\n",
      "None\n",
      "Epoch 1/10\n",
      " - 3s - loss: 0.5185 - acc: 0.7978\n",
      "Epoch 2/10\n"
     ]
    },
    {
     "name": "stdout",
     "output_type": "stream",
     "text": [
      " - 0s - loss: 0.5209 - acc: 0.7944\n",
      "Epoch 3/10\n",
      " - 0s - loss: 0.4914 - acc: 0.7978\n",
      "Epoch 4/10\n",
      " - 0s - loss: 0.4961 - acc: 0.7955\n",
      "Epoch 5/10\n",
      " - 0s - loss: 0.4900 - acc: 0.7955\n",
      "Epoch 6/10\n",
      " - 0s - loss: 0.4982 - acc: 0.7989\n",
      "Epoch 7/10\n",
      " - 0s - loss: 0.4957 - acc: 0.7989\n",
      "Epoch 8/10\n",
      " - 0s - loss: 0.4822 - acc: 0.8000\n",
      "Epoch 9/10\n",
      " - 0s - loss: 0.4833 - acc: 0.8011\n",
      "Epoch 10/10\n",
      " - 0s - loss: 0.4860 - acc: 0.7978\n",
      "0.3333333333333333\n",
      "_________________________________________________________________\n",
      "Layer (type)                 Output Shape              Param #   \n",
      "=================================================================\n",
      "embedding_22 (Embedding)     (None, 24, 300)           343800    \n",
      "_________________________________________________________________\n",
      "lstm_17 (LSTM)               (None, 128)               219648    \n",
      "_________________________________________________________________\n",
      "dense_27 (Dense)             (None, 5)                 645       \n",
      "=================================================================\n",
      "Total params: 564,093\n",
      "Trainable params: 220,293\n",
      "Non-trainable params: 343,800\n",
      "_________________________________________________________________\n",
      "None\n",
      "Epoch 1/20\n",
      " - 3s - loss: 0.4991 - acc: 0.8000\n",
      "Epoch 2/20\n",
      " - 0s - loss: 0.4897 - acc: 0.8000\n",
      "Epoch 3/20\n",
      " - 0s - loss: 0.4879 - acc: 0.7989\n",
      "Epoch 4/20\n",
      " - 0s - loss: 0.4814 - acc: 0.8022\n",
      "Epoch 5/20\n",
      " - 0s - loss: 0.4789 - acc: 0.8022\n",
      "Epoch 6/20\n",
      " - 0s - loss: 0.4793 - acc: 0.7989\n",
      "Epoch 7/20\n",
      " - 0s - loss: 0.4729 - acc: 0.8022\n",
      "Epoch 8/20\n",
      " - 0s - loss: 0.4707 - acc: 0.7978\n",
      "Epoch 9/20\n",
      " - 0s - loss: 0.4634 - acc: 0.8089\n",
      "Epoch 10/20\n",
      " - 0s - loss: 0.4668 - acc: 0.7989\n",
      "Epoch 11/20\n",
      " - 0s - loss: 0.4740 - acc: 0.7855\n",
      "Epoch 12/20\n",
      " - 0s - loss: 0.4622 - acc: 0.8022\n",
      "Epoch 13/20\n",
      " - 0s - loss: 0.4649 - acc: 0.7989\n",
      "Epoch 14/20\n",
      " - 0s - loss: 0.4605 - acc: 0.8067\n",
      "Epoch 15/20\n",
      " - 0s - loss: 0.4435 - acc: 0.8112\n",
      "Epoch 16/20\n",
      " - 0s - loss: 0.4635 - acc: 0.7955\n",
      "Epoch 17/20\n",
      " - 0s - loss: 0.4341 - acc: 0.8134\n",
      "Epoch 18/20\n",
      " - 0s - loss: 0.4412 - acc: 0.8134\n",
      "Epoch 19/20\n",
      " - 0s - loss: 0.4459 - acc: 0.7966\n",
      "Epoch 20/20\n",
      " - 0s - loss: 0.4444 - acc: 0.8011\n",
      "0.09523809523809523\n",
      "_________________________________________________________________\n",
      "Layer (type)                 Output Shape              Param #   \n",
      "=================================================================\n",
      "embedding_23 (Embedding)     (None, 24, 300)           343800    \n",
      "_________________________________________________________________\n",
      "bidirectional_9 (Bidirection (None, 512)               1140736   \n",
      "_________________________________________________________________\n",
      "dropout_31 (Dropout)         (None, 512)               0         \n",
      "_________________________________________________________________\n",
      "dense_28 (Dense)             (None, 5)                 2565      \n",
      "=================================================================\n",
      "Total params: 1,487,101\n",
      "Trainable params: 1,143,301\n",
      "Non-trainable params: 343,800\n",
      "_________________________________________________________________\n",
      "None\n",
      "Epoch 1/5\n",
      " - 6s - loss: 0.4991 - acc: 0.8000\n",
      "Epoch 2/5\n",
      " - 2s - loss: 0.4928 - acc: 0.8000\n",
      "Epoch 3/5\n",
      " - 3s - loss: 0.4860 - acc: 0.8000\n",
      "Epoch 4/5\n",
      " - 2s - loss: 0.4824 - acc: 0.8000\n",
      "Epoch 5/5\n",
      " - 2s - loss: 0.4786 - acc: 0.8000\n",
      "0.23809523809523808\n",
      "_________________________________________________________________\n",
      "Layer (type)                 Output Shape              Param #   \n",
      "=================================================================\n",
      "embedding_24 (Embedding)     (None, 24, 300)           343800    \n",
      "_________________________________________________________________\n",
      "conv1d_14 (Conv1D)           (None, 24, 100)           30100     \n",
      "_________________________________________________________________\n",
      "dropout_32 (Dropout)         (None, 24, 100)           0         \n",
      "_________________________________________________________________\n",
      "max_pooling1d_9 (MaxPooling1 (None, 12, 100)           0         \n",
      "_________________________________________________________________\n",
      "lstm_19 (LSTM)               (None, 64)                42240     \n",
      "_________________________________________________________________\n",
      "dropout_33 (Dropout)         (None, 64)                0         \n",
      "_________________________________________________________________\n",
      "dense_29 (Dense)             (None, 5)                 325       \n",
      "=================================================================\n",
      "Total params: 416,465\n",
      "Trainable params: 72,665\n",
      "Non-trainable params: 343,800\n",
      "_________________________________________________________________\n",
      "None\n",
      "Epoch 1/10\n",
      " - 4s - loss: 0.4969 - acc: 0.8000\n",
      "Epoch 2/10\n",
      " - 0s - loss: 0.4838 - acc: 0.8000\n",
      "Epoch 3/10\n",
      " - 0s - loss: 0.4881 - acc: 0.8000\n",
      "Epoch 4/10\n",
      " - 0s - loss: 0.4800 - acc: 0.8000\n",
      "Epoch 5/10\n",
      " - 0s - loss: 0.4678 - acc: 0.8022\n",
      "Epoch 6/10\n",
      " - 0s - loss: 0.4296 - acc: 0.8134\n",
      "Epoch 7/10\n",
      " - 0s - loss: 0.4239 - acc: 0.8056\n",
      "Epoch 8/10\n",
      " - 0s - loss: 0.3614 - acc: 0.8458\n",
      "Epoch 9/10\n",
      " - 0s - loss: 0.3077 - acc: 0.8693\n",
      "Epoch 10/10\n",
      " - 0s - loss: 0.2750 - acc: 0.8905\n",
      "0.19047619047619047\n",
      "_________________________________________________________________\n",
      "Layer (type)                 Output Shape              Param #   \n",
      "=================================================================\n",
      "embedding_25 (Embedding)     (None, 24, 300)           343800    \n",
      "_________________________________________________________________\n",
      "conv1d_15 (Conv1D)           (None, 24, 100)           30100     \n",
      "_________________________________________________________________\n",
      "dropout_34 (Dropout)         (None, 24, 100)           0         \n",
      "_________________________________________________________________\n",
      "max_pooling1d_10 (MaxPooling (None, 12, 100)           0         \n",
      "_________________________________________________________________\n",
      "bidirectional_10 (Bidirectio (None, 128)               84480     \n",
      "_________________________________________________________________\n",
      "dropout_35 (Dropout)         (None, 128)               0         \n",
      "_________________________________________________________________\n",
      "dense_30 (Dense)             (None, 5)                 645       \n",
      "=================================================================\n",
      "Total params: 459,025\n",
      "Trainable params: 115,225\n",
      "Non-trainable params: 343,800\n",
      "_________________________________________________________________\n",
      "None\n",
      "Epoch 1/5\n",
      " - 4s - loss: 0.4942 - acc: 0.8000\n",
      "Epoch 2/5\n",
      " - 0s - loss: 0.4798 - acc: 0.8000\n",
      "Epoch 3/5\n",
      " - 0s - loss: 0.4692 - acc: 0.8000\n",
      "Epoch 4/5\n",
      " - 0s - loss: 0.4546 - acc: 0.8000\n",
      "Epoch 5/5\n",
      " - 0s - loss: 0.4203 - acc: 0.8123\n",
      "0.23809523809523808\n",
      "----------------------itr = 4--------------\n",
      "_________________________________________________________________\n",
      "Layer (type)                 Output Shape              Param #   \n",
      "=================================================================\n",
      "embedding_26 (Embedding)     (None, 24, 300)           342000    \n",
      "_________________________________________________________________\n",
      "dropout_36 (Dropout)         (None, 24, 300)           0         \n",
      "_________________________________________________________________\n",
      "conv1d_16 (Conv1D)           (None, 19, 100)           180100    \n",
      "_________________________________________________________________\n",
      "global_max_pooling1d_6 (Glob (None, 100)               0         \n",
      "_________________________________________________________________\n",
      "dense_31 (Dense)             (None, 200)               20200     \n",
      "_________________________________________________________________\n",
      "dropout_37 (Dropout)         (None, 200)               0         \n",
      "_________________________________________________________________\n",
      "activation_11 (Activation)   (None, 200)               0         \n",
      "_________________________________________________________________\n",
      "dense_32 (Dense)             (None, 5)                 1005      \n",
      "_________________________________________________________________\n",
      "activation_12 (Activation)   (None, 5)                 0         \n",
      "=================================================================\n",
      "Total params: 543,305\n",
      "Trainable params: 543,305\n",
      "Non-trainable params: 0\n",
      "_________________________________________________________________\n",
      "None\n",
      "Epoch 1/10\n",
      " - 4s - loss: 0.5248 - acc: 0.7989\n",
      "Epoch 2/10\n",
      " - 0s - loss: 0.5110 - acc: 0.7989\n",
      "Epoch 3/10\n",
      " - 0s - loss: 0.4992 - acc: 0.8000\n"
     ]
    },
    {
     "name": "stdout",
     "output_type": "stream",
     "text": [
      "Epoch 4/10\n",
      " - 0s - loss: 0.5040 - acc: 0.7966\n",
      "Epoch 5/10\n",
      " - 0s - loss: 0.4935 - acc: 0.7933\n",
      "Epoch 6/10\n",
      " - 0s - loss: 0.4752 - acc: 0.8022\n",
      "Epoch 7/10\n",
      " - 0s - loss: 0.4915 - acc: 0.8022\n",
      "Epoch 8/10\n",
      " - 0s - loss: 0.4982 - acc: 0.8034\n",
      "Epoch 9/10\n",
      " - 0s - loss: 0.4731 - acc: 0.7989\n",
      "Epoch 10/10\n",
      " - 0s - loss: 0.4813 - acc: 0.8022\n",
      "0.2857142857142857\n",
      "_________________________________________________________________\n",
      "Layer (type)                 Output Shape              Param #   \n",
      "=================================================================\n",
      "embedding_27 (Embedding)     (None, 24, 300)           342000    \n",
      "_________________________________________________________________\n",
      "lstm_21 (LSTM)               (None, 128)               219648    \n",
      "_________________________________________________________________\n",
      "dense_33 (Dense)             (None, 5)                 645       \n",
      "=================================================================\n",
      "Total params: 562,293\n",
      "Trainable params: 220,293\n",
      "Non-trainable params: 342,000\n",
      "_________________________________________________________________\n",
      "None\n",
      "Epoch 1/20\n",
      " - 3s - loss: 0.4995 - acc: 0.8000\n",
      "Epoch 2/20\n",
      " - 0s - loss: 0.4905 - acc: 0.8000\n",
      "Epoch 3/20\n",
      " - 0s - loss: 0.4899 - acc: 0.8000\n",
      "Epoch 4/20\n",
      " - 0s - loss: 0.4833 - acc: 0.8022\n",
      "Epoch 5/20\n",
      " - 0s - loss: 0.4759 - acc: 0.8000\n",
      "Epoch 6/20\n",
      " - 0s - loss: 0.4808 - acc: 0.8000\n",
      "Epoch 7/20\n",
      " - 0s - loss: 0.4805 - acc: 0.7989\n",
      "Epoch 8/20\n",
      " - 0s - loss: 0.4823 - acc: 0.7978\n",
      "Epoch 9/20\n",
      " - 0s - loss: 0.4827 - acc: 0.7966\n",
      "Epoch 10/20\n",
      " - 0s - loss: 0.4726 - acc: 0.8034\n",
      "Epoch 11/20\n",
      " - 0s - loss: 0.4716 - acc: 0.8034\n",
      "Epoch 12/20\n",
      " - 0s - loss: 0.4631 - acc: 0.8067\n",
      "Epoch 13/20\n",
      " - 0s - loss: 0.4539 - acc: 0.8078\n",
      "Epoch 14/20\n",
      " - 0s - loss: 0.4583 - acc: 0.7989\n",
      "Epoch 15/20\n",
      " - 0s - loss: 0.4617 - acc: 0.8045\n",
      "Epoch 16/20\n",
      " - 0s - loss: 0.4495 - acc: 0.8078\n",
      "Epoch 17/20\n",
      " - 0s - loss: 0.4696 - acc: 0.7966\n",
      "Epoch 18/20\n",
      " - 0s - loss: 0.4491 - acc: 0.8101\n",
      "Epoch 19/20\n",
      " - 0s - loss: 0.4628 - acc: 0.8034\n",
      "Epoch 20/20\n",
      " - 0s - loss: 0.4651 - acc: 0.8000\n",
      "0.38095238095238093\n",
      "_________________________________________________________________\n",
      "Layer (type)                 Output Shape              Param #   \n",
      "=================================================================\n",
      "embedding_28 (Embedding)     (None, 24, 300)           342000    \n",
      "_________________________________________________________________\n",
      "bidirectional_11 (Bidirectio (None, 512)               1140736   \n",
      "_________________________________________________________________\n",
      "dropout_38 (Dropout)         (None, 512)               0         \n",
      "_________________________________________________________________\n",
      "dense_34 (Dense)             (None, 5)                 2565      \n",
      "=================================================================\n",
      "Total params: 1,485,301\n",
      "Trainable params: 1,143,301\n",
      "Non-trainable params: 342,000\n",
      "_________________________________________________________________\n",
      "None\n",
      "Epoch 1/5\n",
      " - 5s - loss: 0.5005 - acc: 0.8000\n",
      "Epoch 2/5\n",
      " - 2s - loss: 0.4912 - acc: 0.8000\n",
      "Epoch 3/5\n",
      " - 2s - loss: 0.4882 - acc: 0.8000\n",
      "Epoch 4/5\n",
      " - 2s - loss: 0.4827 - acc: 0.8000\n",
      "Epoch 5/5\n",
      " - 2s - loss: 0.4779 - acc: 0.8000\n",
      "0.2857142857142857\n",
      "_________________________________________________________________\n",
      "Layer (type)                 Output Shape              Param #   \n",
      "=================================================================\n",
      "embedding_29 (Embedding)     (None, 24, 300)           342000    \n",
      "_________________________________________________________________\n",
      "conv1d_17 (Conv1D)           (None, 24, 100)           30100     \n",
      "_________________________________________________________________\n",
      "dropout_39 (Dropout)         (None, 24, 100)           0         \n",
      "_________________________________________________________________\n",
      "max_pooling1d_11 (MaxPooling (None, 12, 100)           0         \n",
      "_________________________________________________________________\n",
      "lstm_23 (LSTM)               (None, 64)                42240     \n",
      "_________________________________________________________________\n",
      "dropout_40 (Dropout)         (None, 64)                0         \n",
      "_________________________________________________________________\n",
      "dense_35 (Dense)             (None, 5)                 325       \n",
      "=================================================================\n",
      "Total params: 414,665\n",
      "Trainable params: 72,665\n",
      "Non-trainable params: 342,000\n",
      "_________________________________________________________________\n",
      "None\n",
      "Epoch 1/10\n",
      " - 4s - loss: 0.4960 - acc: 0.8000\n",
      "Epoch 2/10\n",
      " - 0s - loss: 0.4867 - acc: 0.8000\n",
      "Epoch 3/10\n",
      " - 0s - loss: 0.4832 - acc: 0.8011\n",
      "Epoch 4/10\n",
      " - 0s - loss: 0.4778 - acc: 0.8022\n",
      "Epoch 5/10\n",
      " - 0s - loss: 0.4656 - acc: 0.8034\n",
      "Epoch 6/10\n",
      " - 0s - loss: 0.4392 - acc: 0.8179\n",
      "Epoch 7/10\n",
      " - 0s - loss: 0.4330 - acc: 0.8179\n",
      "Epoch 8/10\n",
      " - 0s - loss: 0.3492 - acc: 0.8648\n",
      "Epoch 9/10\n",
      " - 0s - loss: 0.3059 - acc: 0.8726\n",
      "Epoch 10/10\n",
      " - 0s - loss: 0.2926 - acc: 0.8682\n",
      "0.38095238095238093\n",
      "_________________________________________________________________\n",
      "Layer (type)                 Output Shape              Param #   \n",
      "=================================================================\n",
      "embedding_30 (Embedding)     (None, 24, 300)           342000    \n",
      "_________________________________________________________________\n",
      "conv1d_18 (Conv1D)           (None, 24, 100)           30100     \n",
      "_________________________________________________________________\n",
      "dropout_41 (Dropout)         (None, 24, 100)           0         \n",
      "_________________________________________________________________\n",
      "max_pooling1d_12 (MaxPooling (None, 12, 100)           0         \n",
      "_________________________________________________________________\n",
      "bidirectional_12 (Bidirectio (None, 128)               84480     \n",
      "_________________________________________________________________\n",
      "dropout_42 (Dropout)         (None, 128)               0         \n",
      "_________________________________________________________________\n",
      "dense_36 (Dense)             (None, 5)                 645       \n",
      "=================================================================\n",
      "Total params: 457,225\n",
      "Trainable params: 115,225\n",
      "Non-trainable params: 342,000\n",
      "_________________________________________________________________\n",
      "None\n",
      "Epoch 1/5\n",
      " - 4s - loss: 0.4930 - acc: 0.8000\n",
      "Epoch 2/5\n",
      " - 0s - loss: 0.4779 - acc: 0.8000\n",
      "Epoch 3/5\n",
      " - 0s - loss: 0.4653 - acc: 0.8000\n",
      "Epoch 4/5\n",
      " - 0s - loss: 0.4459 - acc: 0.8000\n",
      "Epoch 5/5\n",
      " - 0s - loss: 0.4142 - acc: 0.8190\n",
      "0.38095238095238093\n",
      "----------------------itr = 5--------------\n",
      "_________________________________________________________________\n",
      "Layer (type)                 Output Shape              Param #   \n",
      "=================================================================\n",
      "embedding_31 (Embedding)     (None, 24, 300)           348600    \n",
      "_________________________________________________________________\n",
      "dropout_43 (Dropout)         (None, 24, 300)           0         \n",
      "_________________________________________________________________\n",
      "conv1d_19 (Conv1D)           (None, 19, 100)           180100    \n",
      "_________________________________________________________________\n",
      "global_max_pooling1d_7 (Glob (None, 100)               0         \n",
      "_________________________________________________________________\n",
      "dense_37 (Dense)             (None, 200)               20200     \n",
      "_________________________________________________________________\n",
      "dropout_44 (Dropout)         (None, 200)               0         \n",
      "_________________________________________________________________\n",
      "activation_13 (Activation)   (None, 200)               0         \n",
      "_________________________________________________________________\n",
      "dense_38 (Dense)             (None, 5)                 1005      \n",
      "_________________________________________________________________\n",
      "activation_14 (Activation)   (None, 5)                 0         \n",
      "=================================================================\n",
      "Total params: 549,905\n",
      "Trainable params: 549,905\n",
      "Non-trainable params: 0\n",
      "_________________________________________________________________\n",
      "None\n",
      "Epoch 1/10\n",
      " - 4s - loss: 0.5228 - acc: 0.7989\n",
      "Epoch 2/10\n",
      " - 0s - loss: 0.5061 - acc: 0.7900\n",
      "Epoch 3/10\n",
      " - 1s - loss: 0.5024 - acc: 0.7989\n",
      "Epoch 4/10\n",
      " - 1s - loss: 0.4956 - acc: 0.8022\n",
      "Epoch 5/10\n"
     ]
    },
    {
     "name": "stdout",
     "output_type": "stream",
     "text": [
      " - 0s - loss: 0.5014 - acc: 0.7944\n",
      "Epoch 6/10\n",
      " - 0s - loss: 0.4884 - acc: 0.8000\n",
      "Epoch 7/10\n",
      " - 0s - loss: 0.4924 - acc: 0.7989\n",
      "Epoch 8/10\n",
      " - 0s - loss: 0.4955 - acc: 0.7956\n",
      "Epoch 9/10\n",
      " - 0s - loss: 0.4878 - acc: 0.8011\n",
      "Epoch 10/10\n",
      " - 0s - loss: 0.4881 - acc: 0.7989\n",
      "0.2\n",
      "_________________________________________________________________\n",
      "Layer (type)                 Output Shape              Param #   \n",
      "=================================================================\n",
      "embedding_32 (Embedding)     (None, 24, 300)           348600    \n",
      "_________________________________________________________________\n",
      "lstm_25 (LSTM)               (None, 128)               219648    \n",
      "_________________________________________________________________\n",
      "dense_39 (Dense)             (None, 5)                 645       \n",
      "=================================================================\n",
      "Total params: 568,893\n",
      "Trainable params: 220,293\n",
      "Non-trainable params: 348,600\n",
      "_________________________________________________________________\n",
      "None\n",
      "Epoch 1/20\n",
      " - 4s - loss: 0.4992 - acc: 0.8000\n",
      "Epoch 2/20\n",
      " - 0s - loss: 0.4925 - acc: 0.8000\n",
      "Epoch 3/20\n",
      " - 0s - loss: 0.4875 - acc: 0.8000\n",
      "Epoch 4/20\n",
      " - 0s - loss: 0.4878 - acc: 0.8000\n",
      "Epoch 5/20\n",
      " - 0s - loss: 0.4834 - acc: 0.8011\n",
      "Epoch 6/20\n",
      " - 0s - loss: 0.4818 - acc: 0.7989\n",
      "Epoch 7/20\n",
      " - 0s - loss: 0.4783 - acc: 0.8011\n",
      "Epoch 8/20\n",
      " - 0s - loss: 0.4733 - acc: 0.8011\n",
      "Epoch 9/20\n",
      " - 0s - loss: 0.4681 - acc: 0.8067\n",
      "Epoch 10/20\n",
      " - 0s - loss: 0.4671 - acc: 0.8000\n",
      "Epoch 11/20\n",
      " - 0s - loss: 0.4648 - acc: 0.7933\n",
      "Epoch 12/20\n",
      " - 0s - loss: 0.4754 - acc: 0.7978\n",
      "Epoch 13/20\n",
      " - 0s - loss: 0.4617 - acc: 0.8078\n",
      "Epoch 14/20\n",
      " - 0s - loss: 0.4537 - acc: 0.7989\n",
      "Epoch 15/20\n",
      " - 0s - loss: 0.4491 - acc: 0.8044\n",
      "Epoch 16/20\n",
      " - 0s - loss: 0.4682 - acc: 0.7878\n",
      "Epoch 17/20\n",
      " - 0s - loss: 0.4469 - acc: 0.8000\n",
      "Epoch 18/20\n",
      " - 0s - loss: 0.4597 - acc: 0.8000\n",
      "Epoch 19/20\n",
      " - 0s - loss: 0.4467 - acc: 0.8078\n",
      "Epoch 20/20\n",
      " - 0s - loss: 0.4401 - acc: 0.8111\n",
      "0.25\n",
      "_________________________________________________________________\n",
      "Layer (type)                 Output Shape              Param #   \n",
      "=================================================================\n",
      "embedding_33 (Embedding)     (None, 24, 300)           348600    \n",
      "_________________________________________________________________\n",
      "bidirectional_13 (Bidirectio (None, 512)               1140736   \n",
      "_________________________________________________________________\n",
      "dropout_45 (Dropout)         (None, 512)               0         \n",
      "_________________________________________________________________\n",
      "dense_40 (Dense)             (None, 5)                 2565      \n",
      "=================================================================\n",
      "Total params: 1,491,901\n",
      "Trainable params: 1,143,301\n",
      "Non-trainable params: 348,600\n",
      "_________________________________________________________________\n",
      "None\n",
      "Epoch 1/5\n",
      " - 8s - loss: 0.4991 - acc: 0.8000\n",
      "Epoch 2/5\n",
      " - 2s - loss: 0.4906 - acc: 0.8000\n",
      "Epoch 3/5\n",
      " - 2s - loss: 0.4863 - acc: 0.8000\n",
      "Epoch 4/5\n",
      " - 2s - loss: 0.4855 - acc: 0.8000\n",
      "Epoch 5/5\n",
      " - 2s - loss: 0.4787 - acc: 0.8000\n",
      "0.3\n",
      "_________________________________________________________________\n",
      "Layer (type)                 Output Shape              Param #   \n",
      "=================================================================\n",
      "embedding_34 (Embedding)     (None, 24, 300)           348600    \n",
      "_________________________________________________________________\n",
      "conv1d_20 (Conv1D)           (None, 24, 100)           30100     \n",
      "_________________________________________________________________\n",
      "dropout_46 (Dropout)         (None, 24, 100)           0         \n",
      "_________________________________________________________________\n",
      "max_pooling1d_13 (MaxPooling (None, 12, 100)           0         \n",
      "_________________________________________________________________\n",
      "lstm_27 (LSTM)               (None, 64)                42240     \n",
      "_________________________________________________________________\n",
      "dropout_47 (Dropout)         (None, 64)                0         \n",
      "_________________________________________________________________\n",
      "dense_41 (Dense)             (None, 5)                 325       \n",
      "=================================================================\n",
      "Total params: 421,265\n",
      "Trainable params: 72,665\n",
      "Non-trainable params: 348,600\n",
      "_________________________________________________________________\n",
      "None\n",
      "Epoch 1/10\n",
      " - 5s - loss: 0.4975 - acc: 0.8000\n",
      "Epoch 2/10\n",
      " - 0s - loss: 0.4929 - acc: 0.8000\n",
      "Epoch 3/10\n",
      " - 0s - loss: 0.4839 - acc: 0.8000\n",
      "Epoch 4/10\n",
      " - 0s - loss: 0.4793 - acc: 0.8000\n",
      "Epoch 5/10\n",
      " - 0s - loss: 0.4663 - acc: 0.8033\n",
      "Epoch 6/10\n",
      " - 0s - loss: 0.4220 - acc: 0.8100\n",
      "Epoch 7/10\n",
      " - 0s - loss: 0.3907 - acc: 0.8211\n",
      "Epoch 8/10\n",
      " - 0s - loss: 0.3191 - acc: 0.8622\n",
      "Epoch 9/10\n",
      " - 0s - loss: 0.3089 - acc: 0.8633\n",
      "Epoch 10/10\n",
      " - 0s - loss: 0.2950 - acc: 0.8744\n",
      "0.2\n",
      "_________________________________________________________________\n",
      "Layer (type)                 Output Shape              Param #   \n",
      "=================================================================\n",
      "embedding_35 (Embedding)     (None, 24, 300)           348600    \n",
      "_________________________________________________________________\n",
      "conv1d_21 (Conv1D)           (None, 24, 100)           30100     \n",
      "_________________________________________________________________\n",
      "dropout_48 (Dropout)         (None, 24, 100)           0         \n",
      "_________________________________________________________________\n",
      "max_pooling1d_14 (MaxPooling (None, 12, 100)           0         \n",
      "_________________________________________________________________\n",
      "bidirectional_14 (Bidirectio (None, 128)               84480     \n",
      "_________________________________________________________________\n",
      "dropout_49 (Dropout)         (None, 128)               0         \n",
      "_________________________________________________________________\n",
      "dense_42 (Dense)             (None, 5)                 645       \n",
      "=================================================================\n",
      "Total params: 463,825\n",
      "Trainable params: 115,225\n",
      "Non-trainable params: 348,600\n",
      "_________________________________________________________________\n",
      "None\n",
      "Epoch 1/5\n",
      " - 6s - loss: 0.4919 - acc: 0.8000\n",
      "Epoch 2/5\n",
      " - 0s - loss: 0.4822 - acc: 0.8000\n",
      "Epoch 3/5\n",
      " - 0s - loss: 0.4668 - acc: 0.8000\n",
      "Epoch 4/5\n",
      " - 0s - loss: 0.4547 - acc: 0.8000\n",
      "Epoch 5/5\n",
      " - 0s - loss: 0.4253 - acc: 0.8078\n",
      "0.15\n",
      "----------------------itr = 6--------------\n",
      "_________________________________________________________________\n",
      "Layer (type)                 Output Shape              Param #   \n",
      "=================================================================\n",
      "embedding_36 (Embedding)     (None, 24, 300)           338400    \n",
      "_________________________________________________________________\n",
      "dropout_50 (Dropout)         (None, 24, 300)           0         \n",
      "_________________________________________________________________\n",
      "conv1d_22 (Conv1D)           (None, 19, 100)           180100    \n",
      "_________________________________________________________________\n",
      "global_max_pooling1d_8 (Glob (None, 100)               0         \n",
      "_________________________________________________________________\n",
      "dense_43 (Dense)             (None, 200)               20200     \n",
      "_________________________________________________________________\n",
      "dropout_51 (Dropout)         (None, 200)               0         \n",
      "_________________________________________________________________\n",
      "activation_15 (Activation)   (None, 200)               0         \n",
      "_________________________________________________________________\n",
      "dense_44 (Dense)             (None, 5)                 1005      \n",
      "_________________________________________________________________\n",
      "activation_16 (Activation)   (None, 5)                 0         \n",
      "=================================================================\n",
      "Total params: 539,705\n",
      "Trainable params: 539,705\n",
      "Non-trainable params: 0\n",
      "_________________________________________________________________\n",
      "None\n",
      "Epoch 1/10\n",
      " - 4s - loss: 0.5127 - acc: 0.7989\n",
      "Epoch 2/10\n",
      " - 0s - loss: 0.4988 - acc: 0.7967\n",
      "Epoch 3/10\n",
      " - 0s - loss: 0.5013 - acc: 0.7967\n",
      "Epoch 4/10\n",
      " - 0s - loss: 0.4920 - acc: 0.7978\n",
      "Epoch 5/10\n",
      " - 0s - loss: 0.4984 - acc: 0.7956\n",
      "Epoch 6/10\n",
      " - 0s - loss: 0.4990 - acc: 0.7989\n",
      "Epoch 7/10\n",
      " - 0s - loss: 0.4815 - acc: 0.7989\n",
      "Epoch 8/10\n"
     ]
    },
    {
     "name": "stdout",
     "output_type": "stream",
     "text": [
      " - 0s - loss: 0.4881 - acc: 0.8011\n",
      "Epoch 9/10\n",
      " - 0s - loss: 0.4983 - acc: 0.7967\n",
      "Epoch 10/10\n",
      " - 0s - loss: 0.4809 - acc: 0.7989\n",
      "0.3\n",
      "_________________________________________________________________\n",
      "Layer (type)                 Output Shape              Param #   \n",
      "=================================================================\n",
      "embedding_37 (Embedding)     (None, 24, 300)           338400    \n",
      "_________________________________________________________________\n",
      "lstm_29 (LSTM)               (None, 128)               219648    \n",
      "_________________________________________________________________\n",
      "dense_45 (Dense)             (None, 5)                 645       \n",
      "=================================================================\n",
      "Total params: 558,693\n",
      "Trainable params: 220,293\n",
      "Non-trainable params: 338,400\n",
      "_________________________________________________________________\n",
      "None\n",
      "Epoch 1/20\n",
      " - 5s - loss: 0.5003 - acc: 0.8000\n",
      "Epoch 2/20\n",
      " - 0s - loss: 0.4955 - acc: 0.8000\n",
      "Epoch 3/20\n",
      " - 0s - loss: 0.4880 - acc: 0.8000\n",
      "Epoch 4/20\n",
      " - 0s - loss: 0.4866 - acc: 0.8000\n",
      "Epoch 5/20\n",
      " - 0s - loss: 0.4802 - acc: 0.7989\n",
      "Epoch 6/20\n",
      " - 0s - loss: 0.4869 - acc: 0.8011\n",
      "Epoch 7/20\n",
      " - 0s - loss: 0.4777 - acc: 0.8000\n",
      "Epoch 8/20\n",
      " - 0s - loss: 0.4791 - acc: 0.8011\n",
      "Epoch 9/20\n",
      " - 0s - loss: 0.4753 - acc: 0.8033\n",
      "Epoch 10/20\n",
      " - 0s - loss: 0.4727 - acc: 0.8011\n",
      "Epoch 11/20\n",
      " - 0s - loss: 0.4672 - acc: 0.8100\n",
      "Epoch 12/20\n",
      " - 0s - loss: 0.4651 - acc: 0.8044\n",
      "Epoch 13/20\n",
      " - 0s - loss: 0.4699 - acc: 0.8044\n",
      "Epoch 14/20\n",
      " - 0s - loss: 0.4685 - acc: 0.8100\n",
      "Epoch 15/20\n",
      " - 0s - loss: 0.4592 - acc: 0.8056\n",
      "Epoch 16/20\n",
      " - 0s - loss: 0.4614 - acc: 0.8044\n",
      "Epoch 17/20\n",
      " - 0s - loss: 0.4485 - acc: 0.8044\n",
      "Epoch 18/20\n",
      " - 0s - loss: 0.4583 - acc: 0.7944\n",
      "Epoch 19/20\n",
      " - 0s - loss: 0.4605 - acc: 0.7967\n",
      "Epoch 20/20\n",
      " - 0s - loss: 0.4627 - acc: 0.8033\n",
      "0.4\n",
      "_________________________________________________________________\n",
      "Layer (type)                 Output Shape              Param #   \n",
      "=================================================================\n",
      "embedding_38 (Embedding)     (None, 24, 300)           338400    \n",
      "_________________________________________________________________\n",
      "bidirectional_15 (Bidirectio (None, 512)               1140736   \n",
      "_________________________________________________________________\n",
      "dropout_52 (Dropout)         (None, 512)               0         \n",
      "_________________________________________________________________\n",
      "dense_46 (Dense)             (None, 5)                 2565      \n",
      "=================================================================\n",
      "Total params: 1,481,701\n",
      "Trainable params: 1,143,301\n",
      "Non-trainable params: 338,400\n",
      "_________________________________________________________________\n",
      "None\n",
      "Epoch 1/5\n",
      " - 7s - loss: 0.5013 - acc: 0.8000\n",
      "Epoch 2/5\n",
      " - 2s - loss: 0.4935 - acc: 0.8000\n",
      "Epoch 3/5\n",
      " - 2s - loss: 0.4876 - acc: 0.8000\n",
      "Epoch 4/5\n",
      " - 3s - loss: 0.4834 - acc: 0.8000\n",
      "Epoch 5/5\n",
      " - 3s - loss: 0.4771 - acc: 0.8000\n",
      "0.3\n",
      "_________________________________________________________________\n",
      "Layer (type)                 Output Shape              Param #   \n",
      "=================================================================\n",
      "embedding_39 (Embedding)     (None, 24, 300)           338400    \n",
      "_________________________________________________________________\n",
      "conv1d_23 (Conv1D)           (None, 24, 100)           30100     \n",
      "_________________________________________________________________\n",
      "dropout_53 (Dropout)         (None, 24, 100)           0         \n",
      "_________________________________________________________________\n",
      "max_pooling1d_15 (MaxPooling (None, 12, 100)           0         \n",
      "_________________________________________________________________\n",
      "lstm_31 (LSTM)               (None, 64)                42240     \n",
      "_________________________________________________________________\n",
      "dropout_54 (Dropout)         (None, 64)                0         \n",
      "_________________________________________________________________\n",
      "dense_47 (Dense)             (None, 5)                 325       \n",
      "=================================================================\n",
      "Total params: 411,065\n",
      "Trainable params: 72,665\n",
      "Non-trainable params: 338,400\n",
      "_________________________________________________________________\n",
      "None\n",
      "Epoch 1/10\n",
      " - 6s - loss: 0.4962 - acc: 0.8000\n",
      "Epoch 2/10\n",
      " - 0s - loss: 0.4856 - acc: 0.7989\n",
      "Epoch 3/10\n",
      " - 0s - loss: 0.4831 - acc: 0.8000\n",
      "Epoch 4/10\n",
      " - 0s - loss: 0.4805 - acc: 0.8011\n",
      "Epoch 5/10\n",
      " - 0s - loss: 0.4513 - acc: 0.8033\n",
      "Epoch 6/10\n",
      " - 0s - loss: 0.4156 - acc: 0.8144\n",
      "Epoch 7/10\n",
      " - 0s - loss: 0.3913 - acc: 0.8322\n",
      "Epoch 8/10\n",
      " - 0s - loss: 0.3318 - acc: 0.8522\n",
      "Epoch 9/10\n",
      " - 0s - loss: 0.2621 - acc: 0.8889\n",
      "Epoch 10/10\n",
      " - 1s - loss: 0.2774 - acc: 0.8911\n",
      "0.3\n",
      "_________________________________________________________________\n",
      "Layer (type)                 Output Shape              Param #   \n",
      "=================================================================\n",
      "embedding_40 (Embedding)     (None, 24, 300)           338400    \n",
      "_________________________________________________________________\n",
      "conv1d_24 (Conv1D)           (None, 24, 100)           30100     \n",
      "_________________________________________________________________\n",
      "dropout_55 (Dropout)         (None, 24, 100)           0         \n",
      "_________________________________________________________________\n",
      "max_pooling1d_16 (MaxPooling (None, 12, 100)           0         \n",
      "_________________________________________________________________\n",
      "bidirectional_16 (Bidirectio (None, 128)               84480     \n",
      "_________________________________________________________________\n",
      "dropout_56 (Dropout)         (None, 128)               0         \n",
      "_________________________________________________________________\n",
      "dense_48 (Dense)             (None, 5)                 645       \n",
      "=================================================================\n",
      "Total params: 453,625\n",
      "Trainable params: 115,225\n",
      "Non-trainable params: 338,400\n",
      "_________________________________________________________________\n",
      "None\n",
      "Epoch 1/5\n",
      " - 8s - loss: 0.4940 - acc: 0.8000\n",
      "Epoch 2/5\n",
      " - 1s - loss: 0.4831 - acc: 0.8000\n",
      "Epoch 3/5\n",
      " - 1s - loss: 0.4725 - acc: 0.8000\n",
      "Epoch 4/5\n",
      " - 1s - loss: 0.4533 - acc: 0.8011\n",
      "Epoch 5/5\n",
      " - 1s - loss: 0.4312 - acc: 0.8078\n",
      "0.4\n",
      "----------------------itr = 7--------------\n",
      "_________________________________________________________________\n",
      "Layer (type)                 Output Shape              Param #   \n",
      "=================================================================\n",
      "embedding_41 (Embedding)     (None, 24, 300)           332100    \n",
      "_________________________________________________________________\n",
      "dropout_57 (Dropout)         (None, 24, 300)           0         \n",
      "_________________________________________________________________\n",
      "conv1d_25 (Conv1D)           (None, 19, 100)           180100    \n",
      "_________________________________________________________________\n",
      "global_max_pooling1d_9 (Glob (None, 100)               0         \n",
      "_________________________________________________________________\n",
      "dense_49 (Dense)             (None, 200)               20200     \n",
      "_________________________________________________________________\n",
      "dropout_58 (Dropout)         (None, 200)               0         \n",
      "_________________________________________________________________\n",
      "activation_17 (Activation)   (None, 200)               0         \n",
      "_________________________________________________________________\n",
      "dense_50 (Dense)             (None, 5)                 1005      \n",
      "_________________________________________________________________\n",
      "activation_18 (Activation)   (None, 5)                 0         \n",
      "=================================================================\n",
      "Total params: 533,405\n",
      "Trainable params: 533,405\n",
      "Non-trainable params: 0\n",
      "_________________________________________________________________\n",
      "None\n",
      "Epoch 1/10\n",
      " - 6s - loss: 0.5248 - acc: 0.7933\n",
      "Epoch 2/10\n",
      " - 0s - loss: 0.5121 - acc: 0.7956\n",
      "Epoch 3/10\n",
      " - 0s - loss: 0.5101 - acc: 0.7967\n",
      "Epoch 4/10\n",
      " - 0s - loss: 0.5015 - acc: 0.7989\n",
      "Epoch 5/10\n",
      " - 0s - loss: 0.5041 - acc: 0.7956\n",
      "Epoch 6/10\n",
      " - 0s - loss: 0.4877 - acc: 0.7956\n",
      "Epoch 7/10\n",
      " - 0s - loss: 0.4877 - acc: 0.7967\n",
      "Epoch 8/10\n",
      " - 0s - loss: 0.4899 - acc: 0.8000\n",
      "Epoch 9/10\n",
      " - 0s - loss: 0.4903 - acc: 0.7989\n",
      "Epoch 10/10\n",
      " - 0s - loss: 0.4851 - acc: 0.7967\n",
      "0.3\n",
      "_________________________________________________________________\n",
      "Layer (type)                 Output Shape              Param #   \n",
      "=================================================================\n",
      "embedding_42 (Embedding)     (None, 24, 300)           332100    \n",
      "_________________________________________________________________\n",
      "lstm_33 (LSTM)               (None, 128)               219648    \n",
      "_________________________________________________________________\n",
      "dense_51 (Dense)             (None, 5)                 645       \n",
      "=================================================================\n",
      "Total params: 552,393\n",
      "Trainable params: 220,293\n",
      "Non-trainable params: 332,100\n",
      "_________________________________________________________________\n",
      "None\n"
     ]
    },
    {
     "name": "stdout",
     "output_type": "stream",
     "text": [
      "Epoch 1/20\n",
      " - 8s - loss: 0.4992 - acc: 0.8000\n",
      "Epoch 2/20\n",
      " - 0s - loss: 0.4930 - acc: 0.8000\n",
      "Epoch 3/20\n",
      " - 0s - loss: 0.4873 - acc: 0.8011\n",
      "Epoch 4/20\n",
      " - 0s - loss: 0.4829 - acc: 0.8022\n",
      "Epoch 5/20\n",
      " - 0s - loss: 0.4821 - acc: 0.7989\n",
      "Epoch 6/20\n",
      " - 0s - loss: 0.4819 - acc: 0.7989\n",
      "Epoch 7/20\n",
      " - 0s - loss: 0.4881 - acc: 0.8000\n",
      "Epoch 8/20\n",
      " - 0s - loss: 0.4846 - acc: 0.7989\n",
      "Epoch 9/20\n",
      " - 0s - loss: 0.4788 - acc: 0.8000\n",
      "Epoch 10/20\n",
      " - 0s - loss: 0.4822 - acc: 0.8011\n",
      "Epoch 11/20\n",
      " - 0s - loss: 0.4769 - acc: 0.8022\n",
      "Epoch 12/20\n",
      " - 0s - loss: 0.4802 - acc: 0.7978\n",
      "Epoch 13/20\n",
      " - 0s - loss: 0.4657 - acc: 0.8022\n",
      "Epoch 14/20\n",
      " - 0s - loss: 0.4494 - acc: 0.8111\n",
      "Epoch 15/20\n",
      " - 0s - loss: 0.4804 - acc: 0.7922\n",
      "Epoch 16/20\n",
      " - 0s - loss: 0.4616 - acc: 0.8089\n",
      "Epoch 17/20\n",
      " - 0s - loss: 0.4686 - acc: 0.8044\n",
      "Epoch 18/20\n",
      " - 0s - loss: 0.4713 - acc: 0.7989\n",
      "Epoch 19/20\n",
      " - 0s - loss: 0.4551 - acc: 0.8044\n",
      "Epoch 20/20\n",
      " - 0s - loss: 0.4641 - acc: 0.7878\n",
      "0.35\n",
      "_________________________________________________________________\n",
      "Layer (type)                 Output Shape              Param #   \n",
      "=================================================================\n",
      "embedding_43 (Embedding)     (None, 24, 300)           332100    \n",
      "_________________________________________________________________\n",
      "bidirectional_17 (Bidirectio (None, 512)               1140736   \n",
      "_________________________________________________________________\n",
      "dropout_59 (Dropout)         (None, 512)               0         \n",
      "_________________________________________________________________\n",
      "dense_52 (Dense)             (None, 5)                 2565      \n",
      "=================================================================\n",
      "Total params: 1,475,401\n",
      "Trainable params: 1,143,301\n",
      "Non-trainable params: 332,100\n",
      "_________________________________________________________________\n",
      "None\n",
      "Epoch 1/5\n",
      " - 11s - loss: 0.4961 - acc: 0.8000\n",
      "Epoch 2/5\n",
      " - 3s - loss: 0.4906 - acc: 0.8000\n",
      "Epoch 3/5\n",
      " - 3s - loss: 0.4838 - acc: 0.8000\n",
      "Epoch 4/5\n",
      " - 3s - loss: 0.4811 - acc: 0.8000\n",
      "Epoch 5/5\n",
      " - 3s - loss: 0.4781 - acc: 0.8000\n",
      "0.3\n",
      "_________________________________________________________________\n",
      "Layer (type)                 Output Shape              Param #   \n",
      "=================================================================\n",
      "embedding_44 (Embedding)     (None, 24, 300)           332100    \n",
      "_________________________________________________________________\n",
      "conv1d_26 (Conv1D)           (None, 24, 100)           30100     \n",
      "_________________________________________________________________\n",
      "dropout_60 (Dropout)         (None, 24, 100)           0         \n",
      "_________________________________________________________________\n",
      "max_pooling1d_17 (MaxPooling (None, 12, 100)           0         \n",
      "_________________________________________________________________\n",
      "lstm_35 (LSTM)               (None, 64)                42240     \n",
      "_________________________________________________________________\n",
      "dropout_61 (Dropout)         (None, 64)                0         \n",
      "_________________________________________________________________\n",
      "dense_53 (Dense)             (None, 5)                 325       \n",
      "=================================================================\n",
      "Total params: 404,765\n",
      "Trainable params: 72,665\n",
      "Non-trainable params: 332,100\n",
      "_________________________________________________________________\n",
      "None\n",
      "Epoch 1/10\n",
      " - 8s - loss: 0.4945 - acc: 0.8000\n",
      "Epoch 2/10\n",
      " - 0s - loss: 0.4853 - acc: 0.8011\n",
      "Epoch 3/10\n",
      " - 0s - loss: 0.4837 - acc: 0.7989\n",
      "Epoch 4/10\n",
      " - 0s - loss: 0.4795 - acc: 0.8022\n",
      "Epoch 5/10\n",
      " - 0s - loss: 0.4698 - acc: 0.8056\n",
      "Epoch 6/10\n",
      " - 0s - loss: 0.4330 - acc: 0.8156\n",
      "Epoch 7/10\n",
      " - 0s - loss: 0.3822 - acc: 0.8389\n",
      "Epoch 8/10\n",
      " - 1s - loss: 0.3579 - acc: 0.8478\n",
      "Epoch 9/10\n",
      " - 1s - loss: 0.3368 - acc: 0.8589\n",
      "Epoch 10/10\n",
      " - 0s - loss: 0.3055 - acc: 0.8744\n",
      "0.15\n",
      "_________________________________________________________________\n",
      "Layer (type)                 Output Shape              Param #   \n",
      "=================================================================\n",
      "embedding_45 (Embedding)     (None, 24, 300)           332100    \n",
      "_________________________________________________________________\n",
      "conv1d_27 (Conv1D)           (None, 24, 100)           30100     \n",
      "_________________________________________________________________\n",
      "dropout_62 (Dropout)         (None, 24, 100)           0         \n",
      "_________________________________________________________________\n",
      "max_pooling1d_18 (MaxPooling (None, 12, 100)           0         \n",
      "_________________________________________________________________\n",
      "bidirectional_18 (Bidirectio (None, 128)               84480     \n",
      "_________________________________________________________________\n",
      "dropout_63 (Dropout)         (None, 128)               0         \n",
      "_________________________________________________________________\n",
      "dense_54 (Dense)             (None, 5)                 645       \n",
      "=================================================================\n",
      "Total params: 447,325\n",
      "Trainable params: 115,225\n",
      "Non-trainable params: 332,100\n",
      "_________________________________________________________________\n",
      "None\n",
      "Epoch 1/5\n",
      " - 8s - loss: 0.4941 - acc: 0.8000\n",
      "Epoch 2/5\n",
      " - 0s - loss: 0.4795 - acc: 0.8000\n",
      "Epoch 3/5\n",
      " - 0s - loss: 0.4690 - acc: 0.8000\n",
      "Epoch 4/5\n",
      " - 0s - loss: 0.4476 - acc: 0.8022\n",
      "Epoch 5/5\n",
      " - 0s - loss: 0.4176 - acc: 0.8156\n",
      "0.3\n",
      "----------------------itr = 8--------------\n",
      "_________________________________________________________________\n",
      "Layer (type)                 Output Shape              Param #   \n",
      "=================================================================\n",
      "embedding_46 (Embedding)     (None, 24, 300)           348600    \n",
      "_________________________________________________________________\n",
      "dropout_64 (Dropout)         (None, 24, 300)           0         \n",
      "_________________________________________________________________\n",
      "conv1d_28 (Conv1D)           (None, 19, 100)           180100    \n",
      "_________________________________________________________________\n",
      "global_max_pooling1d_10 (Glo (None, 100)               0         \n",
      "_________________________________________________________________\n",
      "dense_55 (Dense)             (None, 200)               20200     \n",
      "_________________________________________________________________\n",
      "dropout_65 (Dropout)         (None, 200)               0         \n",
      "_________________________________________________________________\n",
      "activation_19 (Activation)   (None, 200)               0         \n",
      "_________________________________________________________________\n",
      "dense_56 (Dense)             (None, 5)                 1005      \n",
      "_________________________________________________________________\n",
      "activation_20 (Activation)   (None, 5)                 0         \n",
      "=================================================================\n",
      "Total params: 549,905\n",
      "Trainable params: 549,905\n",
      "Non-trainable params: 0\n",
      "_________________________________________________________________\n",
      "None\n",
      "Epoch 1/10\n",
      " - 7s - loss: 0.5005 - acc: 0.7978\n",
      "Epoch 2/10\n",
      " - 1s - loss: 0.4883 - acc: 0.7989\n",
      "Epoch 3/10\n",
      " - 0s - loss: 0.5047 - acc: 0.7923\n",
      "Epoch 4/10\n",
      " - 0s - loss: 0.4892 - acc: 0.8000\n",
      "Epoch 5/10\n",
      " - 0s - loss: 0.4998 - acc: 0.8000\n",
      "Epoch 6/10\n",
      " - 0s - loss: 0.4926 - acc: 0.7978\n",
      "Epoch 7/10\n",
      " - 0s - loss: 0.4685 - acc: 0.8022\n",
      "Epoch 8/10\n",
      " - 0s - loss: 0.4841 - acc: 0.7989\n",
      "Epoch 9/10\n",
      " - 0s - loss: 0.4820 - acc: 0.8000\n",
      "Epoch 10/10\n",
      " - 0s - loss: 0.4802 - acc: 0.8022\n",
      "0.2631578947368421\n",
      "_________________________________________________________________\n",
      "Layer (type)                 Output Shape              Param #   \n",
      "=================================================================\n",
      "embedding_47 (Embedding)     (None, 24, 300)           348600    \n",
      "_________________________________________________________________\n",
      "lstm_37 (LSTM)               (None, 128)               219648    \n",
      "_________________________________________________________________\n",
      "dense_57 (Dense)             (None, 5)                 645       \n",
      "=================================================================\n",
      "Total params: 568,893\n",
      "Trainable params: 220,293\n",
      "Non-trainable params: 348,600\n",
      "_________________________________________________________________\n",
      "None\n",
      "Epoch 1/20\n",
      " - 7s - loss: 0.4997 - acc: 0.8000\n",
      "Epoch 2/20\n",
      " - 0s - loss: 0.4939 - acc: 0.8000\n",
      "Epoch 3/20\n",
      " - 0s - loss: 0.4901 - acc: 0.8000\n"
     ]
    },
    {
     "name": "stdout",
     "output_type": "stream",
     "text": [
      "Epoch 4/20\n",
      " - 0s - loss: 0.4824 - acc: 0.7989\n",
      "Epoch 5/20\n",
      " - 0s - loss: 0.4925 - acc: 0.7978\n",
      "Epoch 6/20\n",
      " - 0s - loss: 0.4774 - acc: 0.8000\n",
      "Epoch 7/20\n",
      " - 0s - loss: 0.4748 - acc: 0.8022\n",
      "Epoch 8/20\n",
      " - 0s - loss: 0.4757 - acc: 0.8022\n",
      "Epoch 9/20\n",
      " - 0s - loss: 0.4760 - acc: 0.8022\n",
      "Epoch 10/20\n",
      " - 0s - loss: 0.4762 - acc: 0.7967\n",
      "Epoch 11/20\n",
      " - 0s - loss: 0.4576 - acc: 0.8077\n",
      "Epoch 12/20\n",
      " - 0s - loss: 0.4624 - acc: 0.7989\n",
      "Epoch 13/20\n",
      " - 0s - loss: 0.4546 - acc: 0.7989\n",
      "Epoch 14/20\n",
      " - 0s - loss: 0.4509 - acc: 0.7967\n",
      "Epoch 15/20\n",
      " - 0s - loss: 0.4596 - acc: 0.7923\n",
      "Epoch 16/20\n",
      " - 0s - loss: 0.4581 - acc: 0.7989\n",
      "Epoch 17/20\n",
      " - 0s - loss: 0.4537 - acc: 0.7978\n",
      "Epoch 18/20\n",
      " - 0s - loss: 0.4490 - acc: 0.8011\n",
      "Epoch 19/20\n",
      " - 0s - loss: 0.4440 - acc: 0.7989\n",
      "Epoch 20/20\n",
      " - 0s - loss: 0.4567 - acc: 0.7978\n",
      "0.3684210526315789\n",
      "_________________________________________________________________\n",
      "Layer (type)                 Output Shape              Param #   \n",
      "=================================================================\n",
      "embedding_48 (Embedding)     (None, 24, 300)           348600    \n",
      "_________________________________________________________________\n",
      "bidirectional_19 (Bidirectio (None, 512)               1140736   \n",
      "_________________________________________________________________\n",
      "dropout_66 (Dropout)         (None, 512)               0         \n",
      "_________________________________________________________________\n",
      "dense_58 (Dense)             (None, 5)                 2565      \n",
      "=================================================================\n",
      "Total params: 1,491,901\n",
      "Trainable params: 1,143,301\n",
      "Non-trainable params: 348,600\n",
      "_________________________________________________________________\n",
      "None\n",
      "Epoch 1/5\n",
      " - 9s - loss: 0.5000 - acc: 0.8000\n",
      "Epoch 2/5\n",
      " - 3s - loss: 0.4931 - acc: 0.8000\n",
      "Epoch 3/5\n",
      " - 3s - loss: 0.4860 - acc: 0.8000\n",
      "Epoch 4/5\n",
      " - 3s - loss: 0.4824 - acc: 0.8000\n",
      "Epoch 5/5\n",
      " - 2s - loss: 0.4775 - acc: 0.8000\n",
      "0.2631578947368421\n",
      "_________________________________________________________________\n",
      "Layer (type)                 Output Shape              Param #   \n",
      "=================================================================\n",
      "embedding_49 (Embedding)     (None, 24, 300)           348600    \n",
      "_________________________________________________________________\n",
      "conv1d_29 (Conv1D)           (None, 24, 100)           30100     \n",
      "_________________________________________________________________\n",
      "dropout_67 (Dropout)         (None, 24, 100)           0         \n",
      "_________________________________________________________________\n",
      "max_pooling1d_19 (MaxPooling (None, 12, 100)           0         \n",
      "_________________________________________________________________\n",
      "lstm_39 (LSTM)               (None, 64)                42240     \n",
      "_________________________________________________________________\n",
      "dropout_68 (Dropout)         (None, 64)                0         \n",
      "_________________________________________________________________\n",
      "dense_59 (Dense)             (None, 5)                 325       \n",
      "=================================================================\n",
      "Total params: 421,265\n",
      "Trainable params: 72,665\n",
      "Non-trainable params: 348,600\n",
      "_________________________________________________________________\n",
      "None\n",
      "Epoch 1/10\n",
      " - 7s - loss: 0.4980 - acc: 0.8000\n",
      "Epoch 2/10\n",
      " - 0s - loss: 0.4876 - acc: 0.8000\n",
      "Epoch 3/10\n",
      " - 0s - loss: 0.4829 - acc: 0.8000\n",
      "Epoch 4/10\n",
      " - 0s - loss: 0.4783 - acc: 0.8000\n",
      "Epoch 5/10\n",
      " - 0s - loss: 0.4547 - acc: 0.8033\n",
      "Epoch 6/10\n",
      " - 0s - loss: 0.4297 - acc: 0.8122\n",
      "Epoch 7/10\n",
      " - 0s - loss: 0.3871 - acc: 0.8309\n",
      "Epoch 8/10\n",
      " - 0s - loss: 0.3545 - acc: 0.8442\n",
      "Epoch 9/10\n",
      " - 0s - loss: 0.3084 - acc: 0.8652\n",
      "Epoch 10/10\n",
      " - 0s - loss: 0.2957 - acc: 0.8641\n",
      "0.3684210526315789\n",
      "_________________________________________________________________\n",
      "Layer (type)                 Output Shape              Param #   \n",
      "=================================================================\n",
      "embedding_50 (Embedding)     (None, 24, 300)           348600    \n",
      "_________________________________________________________________\n",
      "conv1d_30 (Conv1D)           (None, 24, 100)           30100     \n",
      "_________________________________________________________________\n",
      "dropout_69 (Dropout)         (None, 24, 100)           0         \n",
      "_________________________________________________________________\n",
      "max_pooling1d_20 (MaxPooling (None, 12, 100)           0         \n",
      "_________________________________________________________________\n",
      "bidirectional_20 (Bidirectio (None, 128)               84480     \n",
      "_________________________________________________________________\n",
      "dropout_70 (Dropout)         (None, 128)               0         \n",
      "_________________________________________________________________\n",
      "dense_60 (Dense)             (None, 5)                 645       \n",
      "=================================================================\n",
      "Total params: 463,825\n",
      "Trainable params: 115,225\n",
      "Non-trainable params: 348,600\n",
      "_________________________________________________________________\n",
      "None\n",
      "Epoch 1/5\n",
      " - 7s - loss: 0.4956 - acc: 0.8000\n",
      "Epoch 2/5\n",
      " - 0s - loss: 0.4813 - acc: 0.8000\n",
      "Epoch 3/5\n",
      " - 0s - loss: 0.4728 - acc: 0.8000\n",
      "Epoch 4/5\n",
      " - 1s - loss: 0.4559 - acc: 0.8000\n",
      "Epoch 5/5\n",
      " - 0s - loss: 0.4330 - acc: 0.8110\n",
      "0.3684210526315789\n",
      "----------------------itr = 9--------------\n",
      "_________________________________________________________________\n",
      "Layer (type)                 Output Shape              Param #   \n",
      "=================================================================\n",
      "embedding_51 (Embedding)     (None, 24, 300)           343500    \n",
      "_________________________________________________________________\n",
      "dropout_71 (Dropout)         (None, 24, 300)           0         \n",
      "_________________________________________________________________\n",
      "conv1d_31 (Conv1D)           (None, 19, 100)           180100    \n",
      "_________________________________________________________________\n",
      "global_max_pooling1d_11 (Glo (None, 100)               0         \n",
      "_________________________________________________________________\n",
      "dense_61 (Dense)             (None, 200)               20200     \n",
      "_________________________________________________________________\n",
      "dropout_72 (Dropout)         (None, 200)               0         \n",
      "_________________________________________________________________\n",
      "activation_21 (Activation)   (None, 200)               0         \n",
      "_________________________________________________________________\n",
      "dense_62 (Dense)             (None, 5)                 1005      \n",
      "_________________________________________________________________\n",
      "activation_22 (Activation)   (None, 5)                 0         \n",
      "=================================================================\n",
      "Total params: 544,805\n",
      "Trainable params: 544,805\n",
      "Non-trainable params: 0\n",
      "_________________________________________________________________\n",
      "None\n",
      "Epoch 1/10\n",
      " - 7s - loss: 0.5305 - acc: 0.7967\n",
      "Epoch 2/10\n",
      " - 0s - loss: 0.5092 - acc: 0.8000\n",
      "Epoch 3/10\n",
      " - 0s - loss: 0.5107 - acc: 0.7956\n",
      "Epoch 4/10\n",
      " - 0s - loss: 0.4932 - acc: 0.8000\n",
      "Epoch 5/10\n",
      " - 0s - loss: 0.4963 - acc: 0.8011\n",
      "Epoch 6/10\n",
      " - 0s - loss: 0.4851 - acc: 0.8011\n",
      "Epoch 7/10\n",
      " - 0s - loss: 0.4870 - acc: 0.7967\n",
      "Epoch 8/10\n",
      " - 0s - loss: 0.4986 - acc: 0.8011\n",
      "Epoch 9/10\n",
      " - 0s - loss: 0.4792 - acc: 0.7989\n",
      "Epoch 10/10\n",
      " - 0s - loss: 0.4898 - acc: 0.7989\n",
      "0.3333333333333333\n",
      "_________________________________________________________________\n",
      "Layer (type)                 Output Shape              Param #   \n",
      "=================================================================\n",
      "embedding_52 (Embedding)     (None, 24, 300)           343500    \n",
      "_________________________________________________________________\n",
      "lstm_41 (LSTM)               (None, 128)               219648    \n",
      "_________________________________________________________________\n",
      "dense_63 (Dense)             (None, 5)                 645       \n",
      "=================================================================\n",
      "Total params: 563,793\n",
      "Trainable params: 220,293\n",
      "Non-trainable params: 343,500\n",
      "_________________________________________________________________\n",
      "None\n",
      "Epoch 1/20\n",
      " - 7s - loss: 0.4995 - acc: 0.8000\n",
      "Epoch 2/20\n",
      " - 0s - loss: 0.4922 - acc: 0.8000\n",
      "Epoch 3/20\n",
      " - 0s - loss: 0.4837 - acc: 0.7989\n",
      "Epoch 4/20\n",
      " - 0s - loss: 0.4916 - acc: 0.7967\n",
      "Epoch 5/20\n",
      " - 0s - loss: 0.4758 - acc: 0.8011\n"
     ]
    },
    {
     "name": "stdout",
     "output_type": "stream",
     "text": [
      "Epoch 6/20\n",
      " - 0s - loss: 0.4855 - acc: 0.8011\n",
      "Epoch 7/20\n",
      " - 0s - loss: 0.4818 - acc: 0.8022\n",
      "Epoch 8/20\n",
      " - 0s - loss: 0.4747 - acc: 0.8022\n",
      "Epoch 9/20\n",
      " - 0s - loss: 0.4714 - acc: 0.8000\n",
      "Epoch 10/20\n",
      " - 0s - loss: 0.4706 - acc: 0.7967\n",
      "Epoch 11/20\n",
      " - 0s - loss: 0.4615 - acc: 0.8088\n",
      "Epoch 12/20\n",
      " - 0s - loss: 0.4531 - acc: 0.8044\n",
      "Epoch 13/20\n",
      " - 0s - loss: 0.4663 - acc: 0.8066\n",
      "Epoch 14/20\n",
      " - 0s - loss: 0.4540 - acc: 0.8088\n",
      "Epoch 15/20\n",
      " - 0s - loss: 0.4626 - acc: 0.8022\n",
      "Epoch 16/20\n",
      " - 0s - loss: 0.4427 - acc: 0.8022\n",
      "Epoch 17/20\n",
      " - 0s - loss: 0.4536 - acc: 0.7956\n",
      "Epoch 18/20\n",
      " - 0s - loss: 0.4440 - acc: 0.8110\n",
      "Epoch 19/20\n",
      " - 0s - loss: 0.4512 - acc: 0.8077\n",
      "Epoch 20/20\n",
      " - 0s - loss: 0.4619 - acc: 0.8055\n",
      "0.2777777777777778\n",
      "_________________________________________________________________\n",
      "Layer (type)                 Output Shape              Param #   \n",
      "=================================================================\n",
      "embedding_53 (Embedding)     (None, 24, 300)           343500    \n",
      "_________________________________________________________________\n",
      "bidirectional_21 (Bidirectio (None, 512)               1140736   \n",
      "_________________________________________________________________\n",
      "dropout_73 (Dropout)         (None, 512)               0         \n",
      "_________________________________________________________________\n",
      "dense_64 (Dense)             (None, 5)                 2565      \n",
      "=================================================================\n",
      "Total params: 1,486,801\n",
      "Trainable params: 1,143,301\n",
      "Non-trainable params: 343,500\n",
      "_________________________________________________________________\n",
      "None\n",
      "Epoch 1/5\n",
      " - 9s - loss: 0.4969 - acc: 0.8000\n",
      "Epoch 2/5\n",
      " - 2s - loss: 0.4919 - acc: 0.8000\n",
      "Epoch 3/5\n",
      " - 2s - loss: 0.4892 - acc: 0.8000\n",
      "Epoch 4/5\n",
      " - 2s - loss: 0.4838 - acc: 0.8000\n",
      "Epoch 5/5\n",
      " - 2s - loss: 0.4807 - acc: 0.8000\n",
      "0.3333333333333333\n",
      "_________________________________________________________________\n",
      "Layer (type)                 Output Shape              Param #   \n",
      "=================================================================\n",
      "embedding_54 (Embedding)     (None, 24, 300)           343500    \n",
      "_________________________________________________________________\n",
      "conv1d_32 (Conv1D)           (None, 24, 100)           30100     \n",
      "_________________________________________________________________\n",
      "dropout_74 (Dropout)         (None, 24, 100)           0         \n",
      "_________________________________________________________________\n",
      "max_pooling1d_21 (MaxPooling (None, 12, 100)           0         \n",
      "_________________________________________________________________\n",
      "lstm_43 (LSTM)               (None, 64)                42240     \n",
      "_________________________________________________________________\n",
      "dropout_75 (Dropout)         (None, 64)                0         \n",
      "_________________________________________________________________\n",
      "dense_65 (Dense)             (None, 5)                 325       \n",
      "=================================================================\n",
      "Total params: 416,165\n",
      "Trainable params: 72,665\n",
      "Non-trainable params: 343,500\n",
      "_________________________________________________________________\n",
      "None\n",
      "Epoch 1/10\n",
      " - 7s - loss: 0.4979 - acc: 0.8000\n",
      "Epoch 2/10\n",
      " - 0s - loss: 0.4891 - acc: 0.8000\n",
      "Epoch 3/10\n",
      " - 0s - loss: 0.4846 - acc: 0.8000\n",
      "Epoch 4/10\n",
      " - 1s - loss: 0.4837 - acc: 0.8000\n",
      "Epoch 5/10\n",
      " - 0s - loss: 0.4681 - acc: 0.8055\n",
      "Epoch 6/10\n",
      " - 0s - loss: 0.4462 - acc: 0.8055\n",
      "Epoch 7/10\n",
      " - 0s - loss: 0.4142 - acc: 0.8154\n",
      "Epoch 8/10\n",
      " - 1s - loss: 0.3509 - acc: 0.8495\n",
      "Epoch 9/10\n",
      " - 0s - loss: 0.3418 - acc: 0.8538\n",
      "Epoch 10/10\n",
      " - 1s - loss: 0.3133 - acc: 0.8549\n",
      "0.2222222222222222\n",
      "_________________________________________________________________\n",
      "Layer (type)                 Output Shape              Param #   \n",
      "=================================================================\n",
      "embedding_55 (Embedding)     (None, 24, 300)           343500    \n",
      "_________________________________________________________________\n",
      "conv1d_33 (Conv1D)           (None, 24, 100)           30100     \n",
      "_________________________________________________________________\n",
      "dropout_76 (Dropout)         (None, 24, 100)           0         \n",
      "_________________________________________________________________\n",
      "max_pooling1d_22 (MaxPooling (None, 12, 100)           0         \n",
      "_________________________________________________________________\n",
      "bidirectional_22 (Bidirectio (None, 128)               84480     \n",
      "_________________________________________________________________\n",
      "dropout_77 (Dropout)         (None, 128)               0         \n",
      "_________________________________________________________________\n",
      "dense_66 (Dense)             (None, 5)                 645       \n",
      "=================================================================\n",
      "Total params: 458,725\n",
      "Trainable params: 115,225\n",
      "Non-trainable params: 343,500\n",
      "_________________________________________________________________\n",
      "None\n",
      "Epoch 1/5\n",
      " - 8s - loss: 0.4956 - acc: 0.7978\n",
      "Epoch 2/5\n",
      " - 0s - loss: 0.4829 - acc: 0.8000\n",
      "Epoch 3/5\n",
      " - 0s - loss: 0.4696 - acc: 0.8000\n",
      "Epoch 4/5\n",
      " - 1s - loss: 0.4540 - acc: 0.8033\n",
      "Epoch 5/5\n",
      " - 1s - loss: 0.4247 - acc: 0.8132\n",
      "0.4444444444444444\n",
      "----------------------itr = 10--------------\n",
      "_________________________________________________________________\n",
      "Layer (type)                 Output Shape              Param #   \n",
      "=================================================================\n",
      "embedding_56 (Embedding)     (None, 24, 300)           346500    \n",
      "_________________________________________________________________\n",
      "dropout_78 (Dropout)         (None, 24, 300)           0         \n",
      "_________________________________________________________________\n",
      "conv1d_34 (Conv1D)           (None, 19, 100)           180100    \n",
      "_________________________________________________________________\n",
      "global_max_pooling1d_12 (Glo (None, 100)               0         \n",
      "_________________________________________________________________\n",
      "dense_67 (Dense)             (None, 200)               20200     \n",
      "_________________________________________________________________\n",
      "dropout_79 (Dropout)         (None, 200)               0         \n",
      "_________________________________________________________________\n",
      "activation_23 (Activation)   (None, 200)               0         \n",
      "_________________________________________________________________\n",
      "dense_68 (Dense)             (None, 5)                 1005      \n",
      "_________________________________________________________________\n",
      "activation_24 (Activation)   (None, 5)                 0         \n",
      "=================================================================\n",
      "Total params: 547,805\n",
      "Trainable params: 547,805\n",
      "Non-trainable params: 0\n",
      "_________________________________________________________________\n",
      "None\n",
      "Epoch 1/10\n",
      " - 9s - loss: 0.5102 - acc: 0.7967\n",
      "Epoch 2/10\n",
      " - 0s - loss: 0.5107 - acc: 0.7989\n",
      "Epoch 3/10\n",
      " - 0s - loss: 0.5053 - acc: 0.7978\n",
      "Epoch 4/10\n",
      " - 0s - loss: 0.5031 - acc: 0.7989\n",
      "Epoch 5/10\n",
      " - 0s - loss: 0.4870 - acc: 0.7989\n",
      "Epoch 6/10\n",
      " - 0s - loss: 0.4957 - acc: 0.7989\n",
      "Epoch 7/10\n",
      " - 0s - loss: 0.4905 - acc: 0.8000\n",
      "Epoch 8/10\n",
      " - 0s - loss: 0.5022 - acc: 0.7989\n",
      "Epoch 9/10\n",
      " - 0s - loss: 0.4862 - acc: 0.7989\n",
      "Epoch 10/10\n",
      " - 0s - loss: 0.4900 - acc: 0.8000\n",
      "0.3888888888888889\n",
      "_________________________________________________________________\n",
      "Layer (type)                 Output Shape              Param #   \n",
      "=================================================================\n",
      "embedding_57 (Embedding)     (None, 24, 300)           346500    \n",
      "_________________________________________________________________\n",
      "lstm_45 (LSTM)               (None, 128)               219648    \n",
      "_________________________________________________________________\n",
      "dense_69 (Dense)             (None, 5)                 645       \n",
      "=================================================================\n",
      "Total params: 566,793\n",
      "Trainable params: 220,293\n",
      "Non-trainable params: 346,500\n",
      "_________________________________________________________________\n",
      "None\n",
      "Epoch 1/20\n",
      " - 7s - loss: 0.4987 - acc: 0.8000\n",
      "Epoch 2/20\n",
      " - 0s - loss: 0.4936 - acc: 0.8000\n",
      "Epoch 3/20\n",
      " - 0s - loss: 0.4870 - acc: 0.8000\n",
      "Epoch 4/20\n",
      " - 0s - loss: 0.4834 - acc: 0.8011\n",
      "Epoch 5/20\n",
      " - 0s - loss: 0.4852 - acc: 0.8000\n",
      "Epoch 6/20\n",
      " - 0s - loss: 0.4822 - acc: 0.7989\n",
      "Epoch 7/20\n",
      " - 0s - loss: 0.4789 - acc: 0.8011\n"
     ]
    },
    {
     "name": "stdout",
     "output_type": "stream",
     "text": [
      "Epoch 8/20\n",
      " - 0s - loss: 0.4808 - acc: 0.8011\n",
      "Epoch 9/20\n",
      " - 0s - loss: 0.4758 - acc: 0.8022\n",
      "Epoch 10/20\n",
      " - 1s - loss: 0.4631 - acc: 0.8044\n",
      "Epoch 11/20\n",
      " - 1s - loss: 0.4759 - acc: 0.7978\n",
      "Epoch 12/20\n",
      " - 1s - loss: 0.4722 - acc: 0.7956\n",
      "Epoch 13/20\n",
      " - 1s - loss: 0.4638 - acc: 0.8044\n",
      "Epoch 14/20\n",
      " - 1s - loss: 0.4665 - acc: 0.8033\n",
      "Epoch 15/20\n",
      " - 0s - loss: 0.4622 - acc: 0.8044\n",
      "Epoch 16/20\n",
      " - 0s - loss: 0.4575 - acc: 0.8011\n",
      "Epoch 17/20\n",
      " - 0s - loss: 0.4576 - acc: 0.8000\n",
      "Epoch 18/20\n",
      " - 0s - loss: 0.4569 - acc: 0.8011\n",
      "Epoch 19/20\n",
      " - 0s - loss: 0.4620 - acc: 0.7945\n",
      "Epoch 20/20\n",
      " - 0s - loss: 0.4563 - acc: 0.7989\n",
      "0.2222222222222222\n",
      "_________________________________________________________________\n",
      "Layer (type)                 Output Shape              Param #   \n",
      "=================================================================\n",
      "embedding_58 (Embedding)     (None, 24, 300)           346500    \n",
      "_________________________________________________________________\n",
      "bidirectional_23 (Bidirectio (None, 512)               1140736   \n",
      "_________________________________________________________________\n",
      "dropout_80 (Dropout)         (None, 512)               0         \n",
      "_________________________________________________________________\n",
      "dense_70 (Dense)             (None, 5)                 2565      \n",
      "=================================================================\n",
      "Total params: 1,489,801\n",
      "Trainable params: 1,143,301\n",
      "Non-trainable params: 346,500\n",
      "_________________________________________________________________\n",
      "None\n",
      "Epoch 1/5\n",
      " - 12s - loss: 0.5017 - acc: 0.8000\n",
      "Epoch 2/5\n",
      " - 3s - loss: 0.4924 - acc: 0.8000\n",
      "Epoch 3/5\n",
      " - 3s - loss: 0.4886 - acc: 0.8000\n",
      "Epoch 4/5\n",
      " - 3s - loss: 0.4831 - acc: 0.8000\n",
      "Epoch 5/5\n",
      " - 3s - loss: 0.4776 - acc: 0.8000\n",
      "0.2777777777777778\n",
      "_________________________________________________________________\n",
      "Layer (type)                 Output Shape              Param #   \n",
      "=================================================================\n",
      "embedding_59 (Embedding)     (None, 24, 300)           346500    \n",
      "_________________________________________________________________\n",
      "conv1d_35 (Conv1D)           (None, 24, 100)           30100     \n",
      "_________________________________________________________________\n",
      "dropout_81 (Dropout)         (None, 24, 100)           0         \n",
      "_________________________________________________________________\n",
      "max_pooling1d_23 (MaxPooling (None, 12, 100)           0         \n",
      "_________________________________________________________________\n",
      "lstm_47 (LSTM)               (None, 64)                42240     \n",
      "_________________________________________________________________\n",
      "dropout_82 (Dropout)         (None, 64)                0         \n",
      "_________________________________________________________________\n",
      "dense_71 (Dense)             (None, 5)                 325       \n",
      "=================================================================\n",
      "Total params: 419,165\n",
      "Trainable params: 72,665\n",
      "Non-trainable params: 346,500\n",
      "_________________________________________________________________\n",
      "None\n",
      "Epoch 1/10\n",
      " - 10s - loss: 0.4961 - acc: 0.8000\n",
      "Epoch 2/10\n",
      " - 1s - loss: 0.4898 - acc: 0.8000\n",
      "Epoch 3/10\n",
      " - 1s - loss: 0.4813 - acc: 0.8000\n",
      "Epoch 4/10\n",
      " - 0s - loss: 0.4813 - acc: 0.8000\n",
      "Epoch 5/10\n",
      " - 0s - loss: 0.4656 - acc: 0.8000\n",
      "Epoch 6/10\n",
      " - 0s - loss: 0.4018 - acc: 0.8297\n",
      "Epoch 7/10\n",
      " - 0s - loss: 0.3598 - acc: 0.8418\n",
      "Epoch 8/10\n",
      " - 0s - loss: 0.3119 - acc: 0.8560\n",
      "Epoch 9/10\n",
      " - 1s - loss: 0.3170 - acc: 0.8615\n",
      "Epoch 10/10\n",
      " - 0s - loss: 0.2867 - acc: 0.8813\n",
      "0.1111111111111111\n",
      "_________________________________________________________________\n",
      "Layer (type)                 Output Shape              Param #   \n",
      "=================================================================\n",
      "embedding_60 (Embedding)     (None, 24, 300)           346500    \n",
      "_________________________________________________________________\n",
      "conv1d_36 (Conv1D)           (None, 24, 100)           30100     \n",
      "_________________________________________________________________\n",
      "dropout_83 (Dropout)         (None, 24, 100)           0         \n",
      "_________________________________________________________________\n",
      "max_pooling1d_24 (MaxPooling (None, 12, 100)           0         \n",
      "_________________________________________________________________\n",
      "bidirectional_24 (Bidirectio (None, 128)               84480     \n",
      "_________________________________________________________________\n",
      "dropout_84 (Dropout)         (None, 128)               0         \n",
      "_________________________________________________________________\n",
      "dense_72 (Dense)             (None, 5)                 645       \n",
      "=================================================================\n",
      "Total params: 461,725\n",
      "Trainable params: 115,225\n",
      "Non-trainable params: 346,500\n",
      "_________________________________________________________________\n",
      "None\n",
      "Epoch 1/5\n",
      " - 10s - loss: 0.4949 - acc: 0.8000\n",
      "Epoch 2/5\n",
      " - 0s - loss: 0.4803 - acc: 0.8000\n",
      "Epoch 3/5\n",
      " - 0s - loss: 0.4698 - acc: 0.8000\n",
      "Epoch 4/5\n",
      " - 0s - loss: 0.4526 - acc: 0.8044\n",
      "Epoch 5/5\n",
      " - 0s - loss: 0.4222 - acc: 0.8143\n",
      "0.3888888888888889\n"
     ]
    }
   ],
   "source": [
    "for train,test in kfold.split(trainX,trainY):\n",
    "    print(\"----------------------itr = {}--------------\".format(count))\n",
    "    stacked_trainX = list(trainX[train])\n",
    "    stacked_trainY = list(trainY[train])\n",
    "    stacked_testX = list(trainX[test])\n",
    "    stacked_testY = list(trainY[test])\n",
    "    \n",
    "    tokenizer = create_tokenizer(stacked_trainX)\n",
    "    vocab_size = len(tokenizer.word_index) + 1\n",
    "    stacked_trainX = encode_text(tokenizer, stacked_trainX, max_len)\n",
    "    stacked_testX = encode_text(tokenizer, stacked_testX, max_len)\n",
    "    stacked_trainY = to_categorical(stacked_trainY,num_classes=number_of_classes)\n",
    "    \n",
    "    embedding_matrix_word2vec = get_word_embedding_matrix(word2vec_model,300)\n",
    "    \n",
    "    for i in stacked_testY:\n",
    "        stacked_metaY.append(i)\n",
    "        \n",
    "    temp = np.zeros((len(stacked_testY),5),dtype=np.int64)\n",
    "    \n",
    "    _,temp[:,0],_ = get_pred_of_model(init_cnn(),cnn_parameter['epoch'],cnn_parameter['batch'],stacked_trainX,stacked_trainY,stacked_testX,stacked_testY)\n",
    "    _,temp[:,1],_ = get_pred_of_model(init_lstm(),lstm_parameter['epoch'],lstm_parameter['batch'],stacked_trainX,stacked_trainY,stacked_testX,stacked_testY)\n",
    "    _,temp[:,2],_ = get_pred_of_model(init_bi_lstm(),bi_lstm_parameter['epoch'],bi_lstm_parameter['batch'],stacked_trainX,stacked_trainY,stacked_testX,stacked_testY)\n",
    "    _,temp[:,3],_ = get_pred_of_model(init_cnn_lstm(),cnn_lstm_parameter['epoch'],cnn_lstm_parameter['batch'],stacked_trainX,stacked_trainY,stacked_testX,stacked_testY)\n",
    "    _,temp[:,4],_ = get_pred_of_model(init_cnn_bi_lstm(),cnn_bi_lstm_parameter['epoch'],cnn_bi_lstm_parameter['batch'],stacked_trainX,stacked_trainY,stacked_testX,stacked_testY)\n",
    "    \n",
    "    stacked_metaX = np.concatenate((stacked_metaX, temp), axis=0)\n",
    "    count+=1"
   ]
  },
  {
   "cell_type": "code",
   "execution_count": 95,
   "metadata": {},
   "outputs": [
    {
     "data": {
      "text/plain": [
       "(201, 200)"
      ]
     },
     "execution_count": 95,
     "metadata": {},
     "output_type": "execute_result"
    }
   ],
   "source": [
    "len(stacked_metaX),len(stacked_metaY)"
   ]
  },
  {
   "cell_type": "code",
   "execution_count": 96,
   "metadata": {
    "collapsed": true
   },
   "outputs": [],
   "source": [
    "stacked_metaX = np.delete(stacked_metaX, (0), axis=0)"
   ]
  },
  {
   "cell_type": "code",
   "execution_count": 97,
   "metadata": {
    "collapsed": true
   },
   "outputs": [],
   "source": [
    "#temp line\n",
    "# stacked_metaY=stacked_metaY[-500:]"
   ]
  },
  {
   "cell_type": "code",
   "execution_count": 98,
   "metadata": {},
   "outputs": [
    {
     "data": {
      "text/plain": [
       "(200, 200)"
      ]
     },
     "execution_count": 98,
     "metadata": {},
     "output_type": "execute_result"
    }
   ],
   "source": [
    "len(stacked_metaX),len(stacked_metaY)"
   ]
  },
  {
   "cell_type": "code",
   "execution_count": 99,
   "metadata": {
    "collapsed": true
   },
   "outputs": [],
   "source": [
    "stacked_meta_model=LogisticRegression()"
   ]
  },
  {
   "cell_type": "code",
   "execution_count": 100,
   "metadata": {},
   "outputs": [
    {
     "data": {
      "text/plain": [
       "LogisticRegression(C=1.0, class_weight=None, dual=False, fit_intercept=True,\n",
       "          intercept_scaling=1, max_iter=100, multi_class='ovr', n_jobs=1,\n",
       "          penalty='l2', random_state=None, solver='liblinear', tol=0.0001,\n",
       "          verbose=0, warm_start=False)"
      ]
     },
     "execution_count": 100,
     "metadata": {},
     "output_type": "execute_result"
    }
   ],
   "source": [
    "stacked_meta_model.fit(stacked_metaX,stacked_metaY)"
   ]
  },
  {
   "cell_type": "code",
   "execution_count": 101,
   "metadata": {
    "collapsed": true
   },
   "outputs": [],
   "source": [
    "stacked_pred_class = stacked_meta_model.predict(pred_class_base)"
   ]
  },
  {
   "cell_type": "code",
   "execution_count": 102,
   "metadata": {},
   "outputs": [
    {
     "data": {
      "text/plain": [
       "0.32"
      ]
     },
     "execution_count": 102,
     "metadata": {},
     "output_type": "execute_result"
    }
   ],
   "source": [
    "acc = accuracy_score(testY,stacked_pred_class)\n",
    "acc"
   ]
  },
  {
   "cell_type": "code",
   "execution_count": 103,
   "metadata": {
    "collapsed": true
   },
   "outputs": [],
   "source": [
    "acc_results['stacked'] = acc"
   ]
  },
  {
   "cell_type": "code",
   "execution_count": 104,
   "metadata": {},
   "outputs": [
    {
     "data": {
      "text/plain": [
       "{'average': 0.32,\n",
       " 'base_model_counts': {'correct_predicted_by_all': 2,\n",
       "  'correct_predicted_by_some': [6, 5, 5, 9],\n",
       "  'incorrect_predicted_by_all': 23},\n",
       " 'bi_lstm': 0.3,\n",
       " 'blend': 0.18,\n",
       " 'cnn': 0.32,\n",
       " 'cnn_bi_lstm': 0.34,\n",
       " 'cnn_lstm': 0.24,\n",
       " 'lstm': 0.34,\n",
       " 'majority': 0.38,\n",
       " 'stacked': 0.32}"
      ]
     },
     "execution_count": 104,
     "metadata": {},
     "output_type": "execute_result"
    }
   ],
   "source": [
    "acc_results"
   ]
  },
  {
   "cell_type": "code",
   "execution_count": 105,
   "metadata": {
    "collapsed": true
   },
   "outputs": [],
   "source": [
    "pred_df['stacked']=stacked_pred_class"
   ]
  },
  {
   "cell_type": "markdown",
   "metadata": {},
   "source": [
    "## Prediction Correlation"
   ]
  },
  {
   "cell_type": "code",
   "execution_count": 106,
   "metadata": {},
   "outputs": [
    {
     "data": {
      "image/png": "[encoded data removed]",
      "text/plain": [
       "<matplotlib.figure.Figure at 0x7f5d01113ba8>"
      ]
     },
     "metadata": {},
     "output_type": "display_data"
    },
    {
     "data": {
      "text/plain": [
       "<matplotlib.axes._subplots.AxesSubplot at 0x7f5cb0a13fd0>"
      ]
     },
     "execution_count": 106,
     "metadata": {},
     "output_type": "execute_result"
    }
   ],
   "source": [
    "# corrmat(pred_df.corr(), inflate=False,show=False)\n",
    "# plt.savefig('results/corr_matrix_full.png', bbox_inches='tight')\n",
    "corrmat(pred_df.corr(), inflate=False)"
   ]
  },
  {
   "cell_type": "markdown",
   "metadata": {},
   "source": [
    "## saving results"
   ]
  },
  {
   "cell_type": "code",
   "execution_count": 107,
   "metadata": {
    "collapsed": true
   },
   "outputs": [],
   "source": [
    "with open('results/ens_result.json','w') as fout:\n",
    "    json.dump(acc_results,fout,indent=4)"
   ]
  },
  {
   "cell_type": "code",
   "execution_count": null,
   "metadata": {
    "collapsed": true
   },
   "outputs": [],
   "source": []
  }
 ],
 "metadata": {
  "kernelspec": {
   "display_name": "Python 3",
   "language": "python",
   "name": "python3"
  },
  "language_info": {
   "codemirror_mode": {
    "name": "ipython",
    "version": 3
   },
   "file_extension": ".py",
   "mimetype": "text/x-python",
   "name": "python",
   "nbconvert_exporter": "python",
   "pygments_lexer": "ipython3",
   "version": "3.6.3"
  }
 },
 "nbformat": 4,
 "nbformat_minor": 2
}
