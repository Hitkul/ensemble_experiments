{
 "cells": [
  {
   "cell_type": "code",
   "execution_count": 277,
   "metadata": {},
   "outputs": [],
   "source": [
    "# import matplotlib\n",
    "# matplotlib.use('Agg')\n",
    "import sys\n",
    "sys.path.append('../')\n",
    "import json\n",
    "import string\n",
    "from nltk.corpus import stopwords\n",
    "import numpy as np\n",
    "import pandas as pd\n",
    "from os import remove\n",
    "from pprint import pprint\n",
    "import re\n",
    "from keras.preprocessing.text import Tokenizer\n",
    "from keras.preprocessing.sequence import pad_sequences\n",
    "from keras.utils import to_categorical\n",
    "import keras.backend as K\n",
    "from gensim.models import KeyedVectors\n",
    "import word2vecReader as godin_embedding\n",
    "import fasttext\n",
    "from sklearn.model_selection import StratifiedKFold\n",
    "from sklearn.model_selection import train_test_split\n",
    "from sklearn.metrics import accuracy_score\n",
    "from sklearn.linear_model import LogisticRegression\n",
    "from base_learners import cnn,lstm,bi_lstm,cnn_bi_lstm,cnn_lstm\n",
    "%matplotlib inline\n",
    "import matplotlib.pyplot as plt\n",
    "plt.rcParams[\"figure.figsize\"] = [12,10]\n",
    "from mlens.visualization import corrmat\n",
    "from sklearn.model_selection import StratifiedKFold"
   ]
  },
  {
   "cell_type": "code",
   "execution_count": 169,
   "metadata": {
    "collapsed": true
   },
   "outputs": [],
   "source": [
    "def load_data_from_file(filename):\n",
    "    with open(filename,'r', errors='ignore') as fin:\n",
    "        lines = fin.readlines()\n",
    "    label = [int(x.split()[0]) for x in lines]\n",
    "    sentence = [' '.join(x.split()[1:]) for x in lines]\n",
    "    return label,sentence"
   ]
  },
  {
   "cell_type": "code",
   "execution_count": 170,
   "metadata": {
    "collapsed": true
   },
   "outputs": [],
   "source": [
    "train_labels,train_sentences = load_data_from_file('dataset/sst1/stsa.fine.train')\n",
    "dev_label,dev_sentence = load_data_from_file('dataset/sst1/stsa.fine.dev')\n",
    "test_labels,test_sentences = load_data_from_file('dataset/sst1/stsa.fine.test')"
   ]
  },
  {
   "cell_type": "code",
   "execution_count": 171,
   "metadata": {
    "collapsed": true
   },
   "outputs": [],
   "source": [
    "train_sentences = train_sentences+dev_sentence\n",
    "train_labels = train_labels+dev_label"
   ]
  },
  {
   "cell_type": "code",
   "execution_count": 172,
   "metadata": {},
   "outputs": [
    {
     "data": {
      "text/plain": [
       "(9645, 9645, 2210, 2210)"
      ]
     },
     "execution_count": 172,
     "metadata": {},
     "output_type": "execute_result"
    }
   ],
   "source": [
    "len(train_labels),len(train_sentences),len(test_labels),len(test_sentences)"
   ]
  },
  {
   "cell_type": "code",
   "execution_count": 173,
   "metadata": {
    "collapsed": true
   },
   "outputs": [],
   "source": [
    "train_labels = train_labels[:500]\n",
    "train_sentences = train_sentences[:500]\n",
    "test_labels=test_labels[:100]\n",
    "test_sentences = test_sentences[:100]"
   ]
  },
  {
   "cell_type": "code",
   "execution_count": 174,
   "metadata": {},
   "outputs": [
    {
     "data": {
      "text/plain": [
       "5"
      ]
     },
     "execution_count": 174,
     "metadata": {},
     "output_type": "execute_result"
    }
   ],
   "source": [
    "number_of_classes = len(set(train_labels))\n",
    "number_of_classes"
   ]
  },
  {
   "cell_type": "code",
   "execution_count": 175,
   "metadata": {},
   "outputs": [
    {
     "data": {
      "text/plain": [
       "(500, 500, 100, 100)"
      ]
     },
     "execution_count": 175,
     "metadata": {},
     "output_type": "execute_result"
    }
   ],
   "source": [
    "len(train_labels),len(train_sentences),len(test_labels),len(test_sentences)"
   ]
  },
  {
   "cell_type": "code",
   "execution_count": 176,
   "metadata": {
    "collapsed": true
   },
   "outputs": [],
   "source": [
    "def remove_punctuation(s):\n",
    "    list_punctuation = list(string.punctuation)\n",
    "    for i in list_punctuation:\n",
    "        s = s.replace(i,'')\n",
    "    return s"
   ]
  },
  {
   "cell_type": "code",
   "execution_count": 177,
   "metadata": {
    "collapsed": true
   },
   "outputs": [],
   "source": [
    "def clean_sentence(sentence):\n",
    "    #removes links\n",
    "    sentence = re.sub(r'(?P<url>https?://[^\\s]+)', r'', sentence)\n",
    "    # remove @usernames\n",
    "    sentence = re.sub(r\"\\@(\\w+)\", \"\", sentence)\n",
    "    #remove # from #tags\n",
    "    sentence = sentence.replace('#','')\n",
    "    # split into tokens by white space\n",
    "    tokens = sentence.split()\n",
    "    # remove punctuation from each token\n",
    "    # should have used translate but for some reason it breaks on my server\n",
    "    tokens = [remove_punctuation(w) for w in tokens]\n",
    "    # remove remaining tokens that are not alphabetic\n",
    "    tokens = [word for word in tokens if word.isalpha()]\n",
    "    # filter out stop words\n",
    "    stop_words = set(stopwords.words('english'))\n",
    "    tokens = [w for w in tokens if not w in stop_words]\n",
    "    # filter out short tokens\n",
    "    tokens = [word for word in tokens if len(word) > 1]\n",
    "    tokens = ' '.join(tokens)\n",
    "    return tokens"
   ]
  },
  {
   "cell_type": "code",
   "execution_count": 178,
   "metadata": {},
   "outputs": [
    {
     "name": "stdout",
     "output_type": "stream",
     "text": [
      "cleaning data\n"
     ]
    }
   ],
   "source": [
    "print(\"cleaning data\")\n",
    "trainX = [clean_sentence(s) for s in train_sentences]\n",
    "testX = [clean_sentence(s) for s in test_sentences]\n",
    "trainY = np.array(train_labels)\n",
    "testY=test_labels"
   ]
  },
  {
   "cell_type": "code",
   "execution_count": 179,
   "metadata": {
    "collapsed": true
   },
   "outputs": [],
   "source": [
    "max_len = 24"
   ]
  },
  {
   "cell_type": "code",
   "execution_count": 180,
   "metadata": {
    "collapsed": true
   },
   "outputs": [],
   "source": [
    "def create_tokenizer(lines):\n",
    "    tokenizer = Tokenizer()\n",
    "    tokenizer.fit_on_texts(lines)\n",
    "    return tokenizer"
   ]
  },
  {
   "cell_type": "code",
   "execution_count": 181,
   "metadata": {
    "collapsed": true
   },
   "outputs": [],
   "source": [
    "def encode_text(tokenizer, lines, length):\n",
    "    encoded = tokenizer.texts_to_sequences(lines)\n",
    "    padded = pad_sequences(encoded, maxlen=length, padding='post')\n",
    "    return padded"
   ]
  },
  {
   "cell_type": "code",
   "execution_count": 182,
   "metadata": {
    "collapsed": true
   },
   "outputs": [],
   "source": [
    "def load_godin_word_embedding(path):\n",
    "    print(\"Loading Goding model.\")\n",
    "    return godin_embedding.Word2Vec.load_word2vec_format(path, binary=True)"
   ]
  },
  {
   "cell_type": "code",
   "execution_count": 183,
   "metadata": {
    "collapsed": true
   },
   "outputs": [],
   "source": [
    "def load_google_word2vec(file_name):\n",
    "    print(\"Loading google news word2vec\")\n",
    "    return KeyedVectors.load_word2vec_format(file_name, binary=True)"
   ]
  },
  {
   "cell_type": "code",
   "execution_count": 184,
   "metadata": {
    "collapsed": true
   },
   "outputs": [],
   "source": [
    "def get_word_embedding_matrix(model,dim):\n",
    "    #dim = 300 for google word2vec\n",
    "    #dim = 400 for godin\n",
    "    #dim = 100 for fast text\n",
    "    embedding_matrix = np.zeros((vocab_size,dim))\n",
    "    for word, i in tokenizer.word_index.items():\n",
    "        try:\n",
    "            embedding_vector = model[word]\n",
    "        except KeyError:\n",
    "            embedding_vector = None\n",
    "        if embedding_vector is not None:\n",
    "            embedding_matrix[i]=embedding_vector\n",
    "    return embedding_matrix"
   ]
  },
  {
   "cell_type": "code",
   "execution_count": 185,
   "metadata": {},
   "outputs": [
    {
     "name": "stdout",
     "output_type": "stream",
     "text": [
      "Max document length: 24\n",
      "Vocabulary size: 2674\n"
     ]
    }
   ],
   "source": [
    "tokenizer = create_tokenizer(trainX)\n",
    "vocab_size = len(tokenizer.word_index) + 1\n",
    "print('Max document length: %d' % max_len)\n",
    "print('Vocabulary size: %d' % vocab_size)\n",
    "trainX = encode_text(tokenizer, trainX, max_len)\n",
    "testX = encode_text(tokenizer, testX, max_len)\n",
    "trainY = to_categorical(trainY,num_classes=number_of_classes)"
   ]
  },
  {
   "cell_type": "code",
   "execution_count": 123,
   "metadata": {},
   "outputs": [
    {
     "name": "stdout",
     "output_type": "stream",
     "text": [
      "Loading google news word2vec\n"
     ]
    }
   ],
   "source": [
    "# godin_model = load_godin_word_embedding(\"../word_embeddings/word2vec_twitter_model.bin\")\n",
    "word2vec_model= load_google_word2vec('../word_embeddings/GoogleNews-vectors-negative300.bin')"
   ]
  },
  {
   "cell_type": "code",
   "execution_count": 186,
   "metadata": {
    "collapsed": true
   },
   "outputs": [],
   "source": [
    "embedding_matrix_word2vec = get_word_embedding_matrix(word2vec_model,300)\n",
    "# embedding_matrix_godin = get_word_embedding_matrix(godin_model,400)"
   ]
  },
  {
   "cell_type": "markdown",
   "metadata": {},
   "source": [
    "## base models"
   ]
  },
  {
   "cell_type": "code",
   "execution_count": 187,
   "metadata": {
    "collapsed": true
   },
   "outputs": [],
   "source": [
    "cnn_parameter = {'batch': 8,\n",
    "                'dropout': 0.6,\n",
    "                'em': 'embedding_matrix_word2vec',\n",
    "                'em_trainable_flag': True,\n",
    "                'epoch': 10,\n",
    "                'filter_size': 6,\n",
    "                'learning_rate': 0.0001,\n",
    "                'n_dense': 200,\n",
    "                'n_filters': 100}\n",
    "\n",
    "lstm_parameter={'batch': 64,\n",
    "                    'dropout': 0.6,\n",
    "                    'em': 'embedding_matrix_word2vec',\n",
    "                    'em_trainable_flag': False,\n",
    "                    'epoch': 20,\n",
    "                    'learning_rate': 0.0034157107277860235,\n",
    "                    'units_out': 128}\n",
    "\n",
    "cnn_lstm_parameter={'batch': 8,\n",
    "                    'conv_dropout': 0.5,\n",
    "                    'em': 'embedding_matrix_word2vec',\n",
    "                    'em_trainable_flag': False,\n",
    "                    'epoch': 10,\n",
    "                    'filter_size': 1,\n",
    "                    'learning_rate': 0.001,\n",
    "                    'lstm_dropout': 0.4,\n",
    "                    'n_filters': 100,\n",
    "                    'units_out': 64}\n",
    "\n",
    "cnn_bi_lstm_parameter={'batch': 8,\n",
    "                    'conv_dropout': 0.5,\n",
    "                    'em': 'embedding_matrix_word2vec',\n",
    "                    'em_trainable_flag': False,\n",
    "                    'epoch': 5,\n",
    "                    'filter_size': 1,\n",
    "                    'learning_rate': 0.001,\n",
    "                    'lstm_dropout': 0.2,\n",
    "                    'n_filters': 100,\n",
    "                    'units_out': 64}\n",
    "\n",
    "bi_lstm_parameter={'batch':8,\n",
    "                 'dropout': 0.6,\n",
    "                 'em': 'embedding_matrix_word2vec',\n",
    "                 'em_trainable_flag': False,\n",
    "                 'epoch': 5,\n",
    "                 'learning_rate': 0.0001,\n",
    "                 'units_out': 256}"
   ]
  },
  {
   "cell_type": "code",
   "execution_count": 188,
   "metadata": {
    "collapsed": true
   },
   "outputs": [],
   "source": [
    "# cnn\n",
    "# 0.4710\n",
    "def init_cnn():\n",
    "    return cnn(length=max_len,\n",
    "               vocab_size=vocab_size,\n",
    "               learning_rate=cnn_parameter['learning_rate'],\n",
    "               n_dense=cnn_parameter['n_dense'],\n",
    "               dropout=cnn_parameter['dropout'],\n",
    "               n_filters=cnn_parameter['n_filters'],\n",
    "               filter_size=cnn_parameter['filter_size'],\n",
    "               em=eval(cnn_parameter['em']),\n",
    "               number_of_classes=number_of_classes,\n",
    "               em_trainable_flag=cnn_parameter['em_trainable_flag'])"
   ]
  },
  {
   "cell_type": "code",
   "execution_count": 189,
   "metadata": {
    "collapsed": true
   },
   "outputs": [],
   "source": [
    "#  lstm\n",
    "# 0.4701\n",
    "def init_lstm():\n",
    "    return lstm(length=max_len,\n",
    "                vocab_size=vocab_size,\n",
    "                learning_rate=lstm_parameter['learning_rate'],\n",
    "                dropout=lstm_parameter['dropout'],\n",
    "                units_out=lstm_parameter['units_out'],\n",
    "                em=eval(lstm_parameter['em']),\n",
    "                number_of_classes=number_of_classes,\n",
    "                em_trainable_flag=lstm_parameter['em_trainable_flag'])"
   ]
  },
  {
   "cell_type": "code",
   "execution_count": 190,
   "metadata": {
    "collapsed": true
   },
   "outputs": [],
   "source": [
    "# bi_lstm\n",
    "# 0.4529\n",
    "def init_bi_lstm():\n",
    "    return bi_lstm(length=max_len,\n",
    "                vocab_size=vocab_size,\n",
    "                learning_rate=bi_lstm_parameter['learning_rate'],\n",
    "                dropout=bi_lstm_parameter['dropout'],\n",
    "                units_out=bi_lstm_parameter['units_out'],\n",
    "                em=eval(bi_lstm_parameter['em']),\n",
    "                number_of_classes=number_of_classes,\n",
    "                em_trainable_flag=bi_lstm_parameter['em_trainable_flag'])"
   ]
  },
  {
   "cell_type": "code",
   "execution_count": 191,
   "metadata": {
    "collapsed": true
   },
   "outputs": [],
   "source": [
    "# cnn_lstm\n",
    "# 0.4179\n",
    "def init_cnn_lstm():\n",
    "    return cnn_lstm(length=max_len,\n",
    "                    vocab_size=vocab_size,\n",
    "                    learning_rate=cnn_lstm_parameter['learning_rate'],\n",
    "                    n_filters=cnn_lstm_parameter['n_filters'],\n",
    "                    filter_size=cnn_lstm_parameter['filter_size'],\n",
    "                    em=eval(cnn_lstm_parameter['em']),\n",
    "                    number_of_classes=number_of_classes,\n",
    "                    em_trainable_flag=cnn_lstm_parameter['em_trainable_flag'],\n",
    "                    conv_dropout=cnn_lstm_parameter['conv_dropout'],\n",
    "                    l_or_g_dropout=cnn_lstm_parameter['lstm_dropout'],\n",
    "                    units_out=cnn_lstm_parameter['units_out'])"
   ]
  },
  {
   "cell_type": "code",
   "execution_count": 192,
   "metadata": {
    "collapsed": true
   },
   "outputs": [],
   "source": [
    "# cnn_bi_lstm\n",
    "# 0.4705\n",
    "def init_cnn_bi_lstm():\n",
    "    return cnn_bi_lstm(length=max_len,\n",
    "                    vocab_size=vocab_size,\n",
    "                    learning_rate=cnn_bi_lstm_parameter['learning_rate'],\n",
    "                    n_filters=cnn_bi_lstm_parameter['n_filters'],\n",
    "                    filter_size=cnn_bi_lstm_parameter['filter_size'],\n",
    "                    em=eval(cnn_bi_lstm_parameter['em']),\n",
    "                    number_of_classes=number_of_classes,\n",
    "                    em_trainable_flag=cnn_bi_lstm_parameter['em_trainable_flag'],\n",
    "                    conv_dropout=cnn_bi_lstm_parameter['conv_dropout'],\n",
    "                    l_or_g_dropout=cnn_bi_lstm_parameter['lstm_dropout'],\n",
    "                    units_out=cnn_bi_lstm_parameter['units_out'])"
   ]
  },
  {
   "cell_type": "code",
   "execution_count": 193,
   "metadata": {
    "collapsed": true
   },
   "outputs": [],
   "source": [
    "def get_pred_of_model(m,epoch,batch,trainX,trainY,testX,testY):\n",
    "    history = m.fit(trainX,trainY,epochs=epoch,batch_size=batch,verbose=2)\n",
    "    pred = m.predict(testX)    \n",
    "    pred_class = np.argmax(pred,axis=1)\n",
    "    pred_class=pred_class.astype(int)\n",
    "    acc = accuracy_score(testY,pred_class)\n",
    "    print(acc)\n",
    "#     print(pred)\n",
    "    return acc,pred_class,pred"
   ]
  },
  {
   "cell_type": "code",
   "execution_count": 194,
   "metadata": {
    "collapsed": true
   },
   "outputs": [],
   "source": [
    "pred_prob_base = np.zeros((len(testX),number_of_classes,5))\n",
    "pred_class_base = np.zeros((len(testX),5),dtype=np.int32)\n",
    "acc_results={}"
   ]
  },
  {
   "cell_type": "code",
   "execution_count": 195,
   "metadata": {},
   "outputs": [
    {
     "name": "stdout",
     "output_type": "stream",
     "text": [
      "_________________________________________________________________\n",
      "Layer (type)                 Output Shape              Param #   \n",
      "=================================================================\n",
      "embedding_13 (Embedding)     (None, 24, 300)           802200    \n",
      "_________________________________________________________________\n",
      "dropout_19 (Dropout)         (None, 24, 300)           0         \n",
      "_________________________________________________________________\n",
      "conv1d_9 (Conv1D)            (None, 19, 100)           180100    \n",
      "_________________________________________________________________\n",
      "global_max_pooling1d_3 (Glob (None, 100)               0         \n",
      "_________________________________________________________________\n",
      "dense_15 (Dense)             (None, 200)               20200     \n",
      "_________________________________________________________________\n",
      "dropout_20 (Dropout)         (None, 200)               0         \n",
      "_________________________________________________________________\n",
      "activation_5 (Activation)    (None, 200)               0         \n",
      "_________________________________________________________________\n",
      "dense_16 (Dense)             (None, 5)                 1005      \n",
      "_________________________________________________________________\n",
      "activation_6 (Activation)    (None, 5)                 0         \n",
      "=================================================================\n",
      "Total params: 1,003,505\n",
      "Trainable params: 1,003,505\n",
      "Non-trainable params: 0\n",
      "_________________________________________________________________\n",
      "None\n",
      "Epoch 1/10\n",
      " - 3s - loss: 0.5182 - acc: 0.7904\n",
      "Epoch 2/10\n",
      " - 1s - loss: 0.5047 - acc: 0.7952\n",
      "Epoch 3/10\n",
      " - 1s - loss: 0.4989 - acc: 0.7996\n",
      "Epoch 4/10\n",
      " - 1s - loss: 0.4864 - acc: 0.8000\n",
      "Epoch 5/10\n",
      " - 1s - loss: 0.4879 - acc: 0.7980\n",
      "Epoch 6/10\n",
      " - 1s - loss: 0.4927 - acc: 0.7952\n",
      "Epoch 7/10\n",
      " - 1s - loss: 0.4890 - acc: 0.7996\n",
      "Epoch 8/10\n",
      " - 1s - loss: 0.4851 - acc: 0.7996\n",
      "Epoch 9/10\n",
      " - 1s - loss: 0.4744 - acc: 0.8020\n",
      "Epoch 10/10\n",
      " - 1s - loss: 0.4854 - acc: 0.8004\n",
      "0.27\n"
     ]
    }
   ],
   "source": [
    "cnn_base = init_cnn()\n",
    "acc_results['cnn'],pred_class_base[:,0],pred_prob_base[:,:,0] = get_pred_of_model(cnn_base,cnn_parameter['epoch'],cnn_parameter['batch'],trainX,trainY,testX,testY)"
   ]
  },
  {
   "cell_type": "code",
   "execution_count": 196,
   "metadata": {},
   "outputs": [
    {
     "name": "stdout",
     "output_type": "stream",
     "text": [
      "_________________________________________________________________\n",
      "Layer (type)                 Output Shape              Param #   \n",
      "=================================================================\n",
      "embedding_14 (Embedding)     (None, 24, 300)           802200    \n",
      "_________________________________________________________________\n",
      "lstm_11 (LSTM)               (None, 128)               219648    \n",
      "_________________________________________________________________\n",
      "dense_17 (Dense)             (None, 5)                 645       \n",
      "=================================================================\n",
      "Total params: 1,022,493\n",
      "Trainable params: 220,293\n",
      "Non-trainable params: 802,200\n",
      "_________________________________________________________________\n",
      "None\n",
      "Epoch 1/20\n",
      " - 2s - loss: 0.4964 - acc: 0.8000\n",
      "Epoch 2/20\n",
      " - 1s - loss: 0.4906 - acc: 0.8000\n",
      "Epoch 3/20\n",
      " - 1s - loss: 0.4921 - acc: 0.7996\n",
      "Epoch 4/20\n",
      " - 1s - loss: 0.4893 - acc: 0.8000\n",
      "Epoch 5/20\n",
      " - 1s - loss: 0.4892 - acc: 0.8000\n",
      "Epoch 6/20\n",
      " - 1s - loss: 0.4867 - acc: 0.8000\n",
      "Epoch 7/20\n",
      " - 1s - loss: 0.4837 - acc: 0.8012\n",
      "Epoch 8/20\n",
      " - 1s - loss: 0.4793 - acc: 0.7996\n",
      "Epoch 9/20\n",
      " - 1s - loss: 0.4718 - acc: 0.7980\n",
      "Epoch 10/20\n",
      " - 1s - loss: 0.4723 - acc: 0.7952\n",
      "Epoch 11/20\n",
      " - 1s - loss: 0.4710 - acc: 0.7940\n",
      "Epoch 12/20\n",
      " - 1s - loss: 0.4641 - acc: 0.7984\n",
      "Epoch 13/20\n",
      " - 1s - loss: 0.4728 - acc: 0.7912\n",
      "Epoch 14/20\n",
      " - 1s - loss: 0.4717 - acc: 0.7960\n",
      "Epoch 15/20\n",
      " - 1s - loss: 0.4673 - acc: 0.8020\n",
      "Epoch 16/20\n",
      " - 1s - loss: 0.4655 - acc: 0.8008\n",
      "Epoch 17/20\n",
      " - 1s - loss: 0.4595 - acc: 0.8032\n",
      "Epoch 18/20\n",
      " - 1s - loss: 0.4715 - acc: 0.7984\n",
      "Epoch 19/20\n",
      " - 1s - loss: 0.4684 - acc: 0.8004\n",
      "Epoch 20/20\n",
      " - 1s - loss: 0.4719 - acc: 0.8008\n",
      "0.3\n"
     ]
    }
   ],
   "source": [
    "lstm_base = init_lstm()\n",
    "acc_results['lstm'],pred_class_base[:,1],pred_prob_base[:,:,1] = get_pred_of_model(lstm_base,lstm_parameter['epoch'],lstm_parameter['batch'],trainX,trainY,testX,testY)"
   ]
  },
  {
   "cell_type": "code",
   "execution_count": 197,
   "metadata": {},
   "outputs": [
    {
     "name": "stdout",
     "output_type": "stream",
     "text": [
      "_________________________________________________________________\n",
      "Layer (type)                 Output Shape              Param #   \n",
      "=================================================================\n",
      "embedding_15 (Embedding)     (None, 24, 300)           802200    \n",
      "_________________________________________________________________\n",
      "bidirectional_7 (Bidirection (None, 512)               1140736   \n",
      "_________________________________________________________________\n",
      "dropout_21 (Dropout)         (None, 512)               0         \n",
      "_________________________________________________________________\n",
      "dense_18 (Dense)             (None, 5)                 2565      \n",
      "=================================================================\n",
      "Total params: 1,945,501\n",
      "Trainable params: 1,143,301\n",
      "Non-trainable params: 802,200\n",
      "_________________________________________________________________\n",
      "None\n",
      "Epoch 1/5\n",
      " - 8s - loss: 0.5002 - acc: 0.8000\n",
      "Epoch 2/5\n",
      " - 6s - loss: 0.4897 - acc: 0.8000\n",
      "Epoch 3/5\n",
      " - 8s - loss: 0.4840 - acc: 0.8000\n",
      "Epoch 4/5\n",
      " - 9s - loss: 0.4800 - acc: 0.8000\n",
      "Epoch 5/5\n",
      " - 6s - loss: 0.4718 - acc: 0.8020\n",
      "0.34\n"
     ]
    }
   ],
   "source": [
    "bi_lstm_base=init_bi_lstm()\n",
    "acc_results['bi_lstm'],pred_class_base[:,2],pred_prob_base[:,:,2] = get_pred_of_model(bi_lstm_base,bi_lstm_parameter['epoch'],bi_lstm_parameter['batch'],trainX,trainY,testX,testY)"
   ]
  },
  {
   "cell_type": "code",
   "execution_count": 198,
   "metadata": {},
   "outputs": [
    {
     "name": "stdout",
     "output_type": "stream",
     "text": [
      "_________________________________________________________________\n",
      "Layer (type)                 Output Shape              Param #   \n",
      "=================================================================\n",
      "embedding_16 (Embedding)     (None, 24, 300)           802200    \n",
      "_________________________________________________________________\n",
      "conv1d_10 (Conv1D)           (None, 24, 100)           30100     \n",
      "_________________________________________________________________\n",
      "dropout_22 (Dropout)         (None, 24, 100)           0         \n",
      "_________________________________________________________________\n",
      "max_pooling1d_7 (MaxPooling1 (None, 12, 100)           0         \n",
      "_________________________________________________________________\n",
      "lstm_13 (LSTM)               (None, 64)                42240     \n",
      "_________________________________________________________________\n",
      "dropout_23 (Dropout)         (None, 64)                0         \n",
      "_________________________________________________________________\n",
      "dense_19 (Dense)             (None, 5)                 325       \n",
      "=================================================================\n",
      "Total params: 874,865\n",
      "Trainable params: 72,665\n",
      "Non-trainable params: 802,200\n",
      "_________________________________________________________________\n",
      "None\n",
      "Epoch 1/10\n",
      " - 3s - loss: 0.4955 - acc: 0.8000\n",
      "Epoch 2/10\n",
      " - 1s - loss: 0.4875 - acc: 0.8000\n",
      "Epoch 3/10\n",
      " - 1s - loss: 0.4729 - acc: 0.7992\n",
      "Epoch 4/10\n",
      " - 1s - loss: 0.4308 - acc: 0.8024\n",
      "Epoch 5/10\n",
      " - 1s - loss: 0.3976 - acc: 0.8160\n",
      "Epoch 6/10\n",
      " - 1s - loss: 0.3690 - acc: 0.8328\n",
      "Epoch 7/10\n",
      " - 1s - loss: 0.3596 - acc: 0.8404\n",
      "Epoch 8/10\n",
      " - 1s - loss: 0.3263 - acc: 0.8548\n",
      "Epoch 9/10\n",
      " - 1s - loss: 0.2906 - acc: 0.8752\n",
      "Epoch 10/10\n",
      " - 1s - loss: 0.2700 - acc: 0.8804\n",
      "0.26\n"
     ]
    }
   ],
   "source": [
    "cnn_lstm_base = init_cnn_lstm()\n",
    "acc_results['cnn_lstm'],pred_class_base[:,3],pred_prob_base[:,:,3] = get_pred_of_model(cnn_lstm_base,cnn_lstm_parameter['epoch'],cnn_lstm_parameter['batch'],trainX,trainY,testX,testY)"
   ]
  },
  {
   "cell_type": "code",
   "execution_count": 199,
   "metadata": {},
   "outputs": [
    {
     "name": "stdout",
     "output_type": "stream",
     "text": [
      "_________________________________________________________________\n",
      "Layer (type)                 Output Shape              Param #   \n",
      "=================================================================\n",
      "embedding_17 (Embedding)     (None, 24, 300)           802200    \n",
      "_________________________________________________________________\n",
      "conv1d_11 (Conv1D)           (None, 24, 100)           30100     \n",
      "_________________________________________________________________\n",
      "dropout_24 (Dropout)         (None, 24, 100)           0         \n",
      "_________________________________________________________________\n",
      "max_pooling1d_8 (MaxPooling1 (None, 12, 100)           0         \n",
      "_________________________________________________________________\n",
      "bidirectional_8 (Bidirection (None, 128)               84480     \n",
      "_________________________________________________________________\n",
      "dropout_25 (Dropout)         (None, 128)               0         \n",
      "_________________________________________________________________\n",
      "dense_20 (Dense)             (None, 5)                 645       \n",
      "=================================================================\n",
      "Total params: 917,425\n",
      "Trainable params: 115,225\n",
      "Non-trainable params: 802,200\n",
      "_________________________________________________________________\n",
      "None\n",
      "Epoch 1/5\n",
      " - 3s - loss: 0.4918 - acc: 0.8000\n",
      "Epoch 2/5\n",
      " - 1s - loss: 0.4757 - acc: 0.8000\n",
      "Epoch 3/5\n",
      " - 1s - loss: 0.4429 - acc: 0.8056\n",
      "Epoch 4/5\n",
      " - 1s - loss: 0.3976 - acc: 0.8252\n",
      "Epoch 5/5\n",
      " - 1s - loss: 0.3546 - acc: 0.8396\n",
      "0.4\n"
     ]
    }
   ],
   "source": [
    "cnn_bi_lstm_base = init_cnn_bi_lstm()\n",
    "acc_results['cnn_bi_lstm'],pred_class_base[:,4],pred_prob_base[:,:,4] = get_pred_of_model(cnn_bi_lstm_base,cnn_bi_lstm_parameter['epoch'],cnn_bi_lstm_parameter['batch'],trainX,trainY,testX,testY)"
   ]
  },
  {
   "cell_type": "code",
   "execution_count": 200,
   "metadata": {},
   "outputs": [
    {
     "data": {
      "text/plain": [
       "{'bi_lstm': 0.34,\n",
       " 'cnn': 0.27,\n",
       " 'cnn_bi_lstm': 0.4,\n",
       " 'cnn_lstm': 0.26,\n",
       " 'lstm': 0.3}"
      ]
     },
     "execution_count": 200,
     "metadata": {},
     "output_type": "execute_result"
    }
   ],
   "source": [
    "acc_results"
   ]
  },
  {
   "cell_type": "code",
   "execution_count": 201,
   "metadata": {},
   "outputs": [
    {
     "data": {
      "text/plain": [
       "array([[3, 3, 1, 2, 1],\n",
       "       [3, 3, 3, 4, 3],\n",
       "       [3, 2, 1, 2, 2],\n",
       "       [2, 1, 1, 2, 2],\n",
       "       [1, 1, 1, 2, 1],\n",
       "       [1, 3, 3, 1, 3],\n",
       "       [3, 3, 3, 4, 4],\n",
       "       [3, 3, 3, 4, 3],\n",
       "       [1, 2, 1, 2, 1],\n",
       "       [1, 2, 1, 2, 1]], dtype=int32)"
      ]
     },
     "execution_count": 201,
     "metadata": {},
     "output_type": "execute_result"
    }
   ],
   "source": [
    "pred_class_base[:10]"
   ]
  },
  {
   "cell_type": "code",
   "execution_count": 202,
   "metadata": {},
   "outputs": [
    {
     "data": {
      "text/plain": [
       "array([[[0.17623787, 0.13025507, 0.18087584, 0.16948658, 0.183841  ],\n",
       "        [0.20744656, 0.25234672, 0.23678891, 0.32571265, 0.29291061],\n",
       "        [0.20696291, 0.21391757, 0.19477294, 0.39759749, 0.26440325],\n",
       "        [0.22013785, 0.27828947, 0.22662966, 0.07610437, 0.19561501],\n",
       "        [0.18921487, 0.12519115, 0.16093269, 0.03109903, 0.06323007]],\n",
       "\n",
       "       [[0.16676995, 0.02605432, 0.14465398, 0.01681082, 0.02071357],\n",
       "        [0.2111962 , 0.16134496, 0.23299617, 0.03900532, 0.13383006],\n",
       "        [0.17895247, 0.06257109, 0.18656509, 0.04712977, 0.13429745],\n",
       "        [0.25689453, 0.40914294, 0.26496896, 0.34258524, 0.58730686],\n",
       "        [0.18618686, 0.34088668, 0.17081574, 0.55446887, 0.12385212]]])"
      ]
     },
     "execution_count": 202,
     "metadata": {},
     "output_type": "execute_result"
    }
   ],
   "source": [
    "pred_prob_base[:2]"
   ]
  },
  {
   "cell_type": "markdown",
   "metadata": {},
   "source": [
    "## Analyzing performance of base models "
   ]
  },
  {
   "cell_type": "code",
   "execution_count": 203,
   "metadata": {
    "collapsed": true
   },
   "outputs": [],
   "source": [
    "number_of_base_models = 5"
   ]
  },
  {
   "cell_type": "code",
   "execution_count": 204,
   "metadata": {
    "collapsed": true
   },
   "outputs": [],
   "source": [
    "correct_predicted_by_all = 0\n",
    "incorrect_predicted_by_all = 0\n",
    "correct_predicted_by_some=[0 for _ in range(number_of_base_models-1)] #index0 = correct predicted by 1, index1 = correct predicted by 2 and so on."
   ]
  },
  {
   "cell_type": "code",
   "execution_count": 205,
   "metadata": {},
   "outputs": [],
   "source": [
    "# pred_class_base[0],np.bincount(pred_class_base[0]),len(np.bincount(pred_class_base[0])),testY[0]"
   ]
  },
  {
   "cell_type": "code",
   "execution_count": 206,
   "metadata": {},
   "outputs": [],
   "source": [
    "for x,y in zip(pred_class_base,testY):\n",
    "    bin_count = np.bincount(x)\n",
    "    if len(bin_count)<=y or bin_count[y]==0:\n",
    "        incorrect_predicted_by_all+=1\n",
    "    elif bin_count[y] == number_of_base_models:\n",
    "        correct_predicted_by_all+=1\n",
    "    else:\n",
    "        correct_predicted_by_some[bin_count[y]-1]+=1"
   ]
  },
  {
   "cell_type": "code",
   "execution_count": 207,
   "metadata": {},
   "outputs": [
    {
     "data": {
      "text/plain": [
       "(37, 4, [22, 9, 15, 13])"
      ]
     },
     "execution_count": 207,
     "metadata": {},
     "output_type": "execute_result"
    }
   ],
   "source": [
    "incorrect_predicted_by_all,correct_predicted_by_all,correct_predicted_by_some"
   ]
  },
  {
   "cell_type": "code",
   "execution_count": 208,
   "metadata": {},
   "outputs": [
    {
     "name": "stdout",
     "output_type": "stream",
     "text": [
      "results look good\n"
     ]
    }
   ],
   "source": [
    "if sum(correct_predicted_by_some)+correct_predicted_by_all+incorrect_predicted_by_all == len(testY):\n",
    "    print(\"results look good\")\n",
    "else:\n",
    "    print(\"something went wrong\")"
   ]
  },
  {
   "cell_type": "code",
   "execution_count": 209,
   "metadata": {},
   "outputs": [],
   "source": [
    "acc_results['base_model_counts']={}"
   ]
  },
  {
   "cell_type": "code",
   "execution_count": 210,
   "metadata": {},
   "outputs": [],
   "source": [
    "acc_results['base_model_counts']['correct_predicted_by_all'] = correct_predicted_by_all\n",
    "acc_results['base_model_counts']['incorrect_predicted_by_all'] = incorrect_predicted_by_all\n",
    "acc_results['base_model_counts']['correct_predicted_by_some'] = correct_predicted_by_some"
   ]
  },
  {
   "cell_type": "code",
   "execution_count": 211,
   "metadata": {},
   "outputs": [
    {
     "data": {
      "text/plain": [
       "{'base_model_counts': {'correct_predicted_by_all': 4,\n",
       "  'correct_predicted_by_some': [22, 9, 15, 13],\n",
       "  'incorrect_predicted_by_all': 37},\n",
       " 'bi_lstm': 0.34,\n",
       " 'cnn': 0.27,\n",
       " 'cnn_bi_lstm': 0.4,\n",
       " 'cnn_lstm': 0.26,\n",
       " 'lstm': 0.3}"
      ]
     },
     "execution_count": 211,
     "metadata": {},
     "output_type": "execute_result"
    }
   ],
   "source": [
    "acc_results"
   ]
  },
  {
   "cell_type": "markdown",
   "metadata": {},
   "source": [
    "## prediction corelation"
   ]
  },
  {
   "cell_type": "code",
   "execution_count": 212,
   "metadata": {
    "collapsed": true
   },
   "outputs": [],
   "source": [
    "pred_df = pd.DataFrame(pred_class_base)\n",
    "pred_df.columns = [\"cnn\",\"lstm\",\"bi_lstm\",\"cnn_lstm\",\"cnn_bi_lstm\"]"
   ]
  },
  {
   "cell_type": "code",
   "execution_count": 213,
   "metadata": {},
   "outputs": [
    {
     "data": {
      "text/html": [
       "<div>\n",
       "<style>\n",
       "    .dataframe thead tr:only-child th {\n",
       "        text-align: right;\n",
       "    }\n",
       "\n",
       "    .dataframe thead th {\n",
       "        text-align: left;\n",
       "    }\n",
       "\n",
       "    .dataframe tbody tr th {\n",
       "        vertical-align: top;\n",
       "    }\n",
       "</style>\n",
       "<table border=\"1\" class=\"dataframe\">\n",
       "  <thead>\n",
       "    <tr style=\"text-align: right;\">\n",
       "      <th></th>\n",
       "      <th>cnn</th>\n",
       "      <th>lstm</th>\n",
       "      <th>bi_lstm</th>\n",
       "      <th>cnn_lstm</th>\n",
       "      <th>cnn_bi_lstm</th>\n",
       "    </tr>\n",
       "  </thead>\n",
       "  <tbody>\n",
       "    <tr>\n",
       "      <th>0</th>\n",
       "      <td>3</td>\n",
       "      <td>3</td>\n",
       "      <td>1</td>\n",
       "      <td>2</td>\n",
       "      <td>1</td>\n",
       "    </tr>\n",
       "    <tr>\n",
       "      <th>1</th>\n",
       "      <td>3</td>\n",
       "      <td>3</td>\n",
       "      <td>3</td>\n",
       "      <td>4</td>\n",
       "      <td>3</td>\n",
       "    </tr>\n",
       "    <tr>\n",
       "      <th>2</th>\n",
       "      <td>3</td>\n",
       "      <td>2</td>\n",
       "      <td>1</td>\n",
       "      <td>2</td>\n",
       "      <td>2</td>\n",
       "    </tr>\n",
       "    <tr>\n",
       "      <th>3</th>\n",
       "      <td>2</td>\n",
       "      <td>1</td>\n",
       "      <td>1</td>\n",
       "      <td>2</td>\n",
       "      <td>2</td>\n",
       "    </tr>\n",
       "    <tr>\n",
       "      <th>4</th>\n",
       "      <td>1</td>\n",
       "      <td>1</td>\n",
       "      <td>1</td>\n",
       "      <td>2</td>\n",
       "      <td>1</td>\n",
       "    </tr>\n",
       "  </tbody>\n",
       "</table>\n",
       "</div>"
      ],
      "text/plain": [
       "   cnn  lstm  bi_lstm  cnn_lstm  cnn_bi_lstm\n",
       "0    3     3        1         2            1\n",
       "1    3     3        3         4            3\n",
       "2    3     2        1         2            2\n",
       "3    2     1        1         2            2\n",
       "4    1     1        1         2            1"
      ]
     },
     "execution_count": 213,
     "metadata": {},
     "output_type": "execute_result"
    }
   ],
   "source": [
    "pred_df.head()"
   ]
  },
  {
   "cell_type": "code",
   "execution_count": 214,
   "metadata": {},
   "outputs": [
    {
     "data": {
      "image/png": "[encoded data removed]",
      "text/plain": [
       "<matplotlib.figure.Figure at 0x7f1cbde70828>"
      ]
     },
     "metadata": {},
     "output_type": "display_data"
    },
    {
     "data": {
      "text/plain": [
       "<matplotlib.axes._subplots.AxesSubplot at 0x7f1cbde75278>"
      ]
     },
     "execution_count": 214,
     "metadata": {},
     "output_type": "execute_result"
    }
   ],
   "source": [
    "# corrmat(pred_df.corr(), inflate=False,show=False)\n",
    "# plt.savefig('results/corr_matrix_base.png', bbox_inches='tight')\n",
    "corrmat(pred_df.corr(), inflate=False)"
   ]
  },
  {
   "cell_type": "markdown",
   "metadata": {},
   "source": [
    "## average"
   ]
  },
  {
   "cell_type": "code",
   "execution_count": 215,
   "metadata": {
    "collapsed": true
   },
   "outputs": [],
   "source": [
    "avg_pred_prob = pred_prob_base.mean(axis=2)"
   ]
  },
  {
   "cell_type": "code",
   "execution_count": 216,
   "metadata": {
    "collapsed": true
   },
   "outputs": [],
   "source": [
    "avg_pred_class = np.argmax(avg_pred_prob,axis=1)\n",
    "avg_pred_class=avg_pred_class.astype(int)"
   ]
  },
  {
   "cell_type": "code",
   "execution_count": 217,
   "metadata": {},
   "outputs": [
    {
     "data": {
      "text/plain": [
       "0.35"
      ]
     },
     "execution_count": 217,
     "metadata": {},
     "output_type": "execute_result"
    }
   ],
   "source": [
    "acc = accuracy_score(testY,avg_pred_class)\n",
    "acc"
   ]
  },
  {
   "cell_type": "code",
   "execution_count": 218,
   "metadata": {
    "collapsed": true
   },
   "outputs": [],
   "source": [
    "acc_results['average'] = acc"
   ]
  },
  {
   "cell_type": "code",
   "execution_count": 219,
   "metadata": {},
   "outputs": [
    {
     "data": {
      "text/plain": [
       "{'average': 0.35,\n",
       " 'base_model_counts': {'correct_predicted_by_all': 4,\n",
       "  'correct_predicted_by_some': [22, 9, 15, 13],\n",
       "  'incorrect_predicted_by_all': 37},\n",
       " 'bi_lstm': 0.34,\n",
       " 'cnn': 0.27,\n",
       " 'cnn_bi_lstm': 0.4,\n",
       " 'cnn_lstm': 0.26,\n",
       " 'lstm': 0.3}"
      ]
     },
     "execution_count": 219,
     "metadata": {},
     "output_type": "execute_result"
    }
   ],
   "source": [
    "acc_results"
   ]
  },
  {
   "cell_type": "code",
   "execution_count": 220,
   "metadata": {},
   "outputs": [],
   "source": [
    "pred_df['average']=avg_pred_class"
   ]
  },
  {
   "cell_type": "markdown",
   "metadata": {},
   "source": [
    "## Majority"
   ]
  },
  {
   "cell_type": "code",
   "execution_count": 221,
   "metadata": {
    "collapsed": true
   },
   "outputs": [],
   "source": [
    "majority_pred_class = [int(np.argmax(np.bincount(x))) for x in pred_class_base]"
   ]
  },
  {
   "cell_type": "code",
   "execution_count": 222,
   "metadata": {},
   "outputs": [
    {
     "data": {
      "text/plain": [
       "0.36"
      ]
     },
     "execution_count": 222,
     "metadata": {},
     "output_type": "execute_result"
    }
   ],
   "source": [
    "acc = accuracy_score(testY,majority_pred_class)\n",
    "acc"
   ]
  },
  {
   "cell_type": "code",
   "execution_count": 223,
   "metadata": {
    "collapsed": true
   },
   "outputs": [],
   "source": [
    "acc_results['majority'] = acc"
   ]
  },
  {
   "cell_type": "code",
   "execution_count": 224,
   "metadata": {},
   "outputs": [
    {
     "data": {
      "text/plain": [
       "{'average': 0.35,\n",
       " 'base_model_counts': {'correct_predicted_by_all': 4,\n",
       "  'correct_predicted_by_some': [22, 9, 15, 13],\n",
       "  'incorrect_predicted_by_all': 37},\n",
       " 'bi_lstm': 0.34,\n",
       " 'cnn': 0.27,\n",
       " 'cnn_bi_lstm': 0.4,\n",
       " 'cnn_lstm': 0.26,\n",
       " 'lstm': 0.3,\n",
       " 'majority': 0.36}"
      ]
     },
     "execution_count": 224,
     "metadata": {},
     "output_type": "execute_result"
    }
   ],
   "source": [
    "acc_results"
   ]
  },
  {
   "cell_type": "code",
   "execution_count": 225,
   "metadata": {
    "collapsed": true
   },
   "outputs": [],
   "source": [
    "pred_df['majority']=majority_pred_class"
   ]
  },
  {
   "cell_type": "markdown",
   "metadata": {},
   "source": [
    "## Blend ensemble"
   ]
  },
  {
   "cell_type": "code",
   "execution_count": 241,
   "metadata": {
    "collapsed": true
   },
   "outputs": [],
   "source": [
    "seed=42"
   ]
  },
  {
   "cell_type": "code",
   "execution_count": 242,
   "metadata": {
    "collapsed": true
   },
   "outputs": [],
   "source": [
    "baseX, devX, baseY, devY = train_test_split(trainX, train_labels, test_size=0.10, random_state=seed)"
   ]
  },
  {
   "cell_type": "code",
   "execution_count": 243,
   "metadata": {
    "collapsed": true
   },
   "outputs": [],
   "source": [
    "baseY = np.array(baseY)\n",
    "baseY = to_categorical(baseY,num_classes=number_of_classes)"
   ]
  },
  {
   "cell_type": "code",
   "execution_count": 245,
   "metadata": {},
   "outputs": [
    {
     "data": {
      "text/plain": [
       "(450, 450, 50, 50)"
      ]
     },
     "execution_count": 245,
     "metadata": {},
     "output_type": "execute_result"
    }
   ],
   "source": [
    "len(baseX),len(baseY),len(devX),len(devY)"
   ]
  },
  {
   "cell_type": "code",
   "execution_count": 248,
   "metadata": {
    "collapsed": true
   },
   "outputs": [],
   "source": [
    "metaX = np.zeros((len(devY),5),dtype=np.int32)"
   ]
  },
  {
   "cell_type": "code",
   "execution_count": 249,
   "metadata": {},
   "outputs": [
    {
     "name": "stdout",
     "output_type": "stream",
     "text": [
      "_________________________________________________________________\n",
      "Layer (type)                 Output Shape              Param #   \n",
      "=================================================================\n",
      "embedding_19 (Embedding)     (None, 24, 300)           802200    \n",
      "_________________________________________________________________\n",
      "dropout_28 (Dropout)         (None, 24, 300)           0         \n",
      "_________________________________________________________________\n",
      "conv1d_13 (Conv1D)           (None, 19, 100)           180100    \n",
      "_________________________________________________________________\n",
      "global_max_pooling1d_5 (Glob (None, 100)               0         \n",
      "_________________________________________________________________\n",
      "dense_23 (Dense)             (None, 200)               20200     \n",
      "_________________________________________________________________\n",
      "dropout_29 (Dropout)         (None, 200)               0         \n",
      "_________________________________________________________________\n",
      "activation_9 (Activation)    (None, 200)               0         \n",
      "_________________________________________________________________\n",
      "dense_24 (Dense)             (None, 5)                 1005      \n",
      "_________________________________________________________________\n",
      "activation_10 (Activation)   (None, 5)                 0         \n",
      "=================================================================\n",
      "Total params: 1,003,505\n",
      "Trainable params: 1,003,505\n",
      "Non-trainable params: 0\n",
      "_________________________________________________________________\n",
      "None\n",
      "Epoch 1/10\n",
      " - 4s - loss: 0.5007 - acc: 0.7973\n",
      "Epoch 2/10\n",
      " - 2s - loss: 0.4933 - acc: 0.7947\n",
      "Epoch 3/10\n",
      " - 1s - loss: 0.4977 - acc: 0.7987\n",
      "Epoch 4/10\n",
      " - 1s - loss: 0.4858 - acc: 0.8000\n",
      "Epoch 5/10\n",
      " - 1s - loss: 0.4908 - acc: 0.8013\n",
      "Epoch 6/10\n",
      " - 1s - loss: 0.4802 - acc: 0.8004\n",
      "Epoch 7/10\n",
      " - 1s - loss: 0.4842 - acc: 0.7996\n",
      "Epoch 8/10\n",
      " - 1s - loss: 0.4829 - acc: 0.8000\n",
      "Epoch 9/10\n",
      " - 1s - loss: 0.4823 - acc: 0.8000\n",
      "Epoch 10/10\n",
      " - 1s - loss: 0.4769 - acc: 0.7996\n",
      "0.3\n"
     ]
    }
   ],
   "source": [
    "_,metaX[:,0],_ = get_pred_of_model(init_cnn(),cnn_parameter['epoch'],cnn_parameter['batch'],baseX,baseY,devX,devY)"
   ]
  },
  {
   "cell_type": "code",
   "execution_count": 250,
   "metadata": {},
   "outputs": [
    {
     "name": "stdout",
     "output_type": "stream",
     "text": [
      "_________________________________________________________________\n",
      "Layer (type)                 Output Shape              Param #   \n",
      "=================================================================\n",
      "embedding_20 (Embedding)     (None, 24, 300)           802200    \n",
      "_________________________________________________________________\n",
      "lstm_15 (LSTM)               (None, 128)               219648    \n",
      "_________________________________________________________________\n",
      "dense_25 (Dense)             (None, 5)                 645       \n",
      "=================================================================\n",
      "Total params: 1,022,493\n",
      "Trainable params: 220,293\n",
      "Non-trainable params: 802,200\n",
      "_________________________________________________________________\n",
      "None\n",
      "Epoch 1/20\n",
      " - 3s - loss: 0.4971 - acc: 0.8000\n",
      "Epoch 2/20\n",
      " - 1s - loss: 0.4919 - acc: 0.7964\n",
      "Epoch 3/20\n",
      " - 1s - loss: 0.4887 - acc: 0.7996\n",
      "Epoch 4/20\n",
      " - 1s - loss: 0.4920 - acc: 0.7991\n",
      "Epoch 5/20\n",
      " - 1s - loss: 0.4870 - acc: 0.8004\n",
      "Epoch 6/20\n",
      " - 1s - loss: 0.4889 - acc: 0.7996\n",
      "Epoch 7/20\n",
      " - 1s - loss: 0.4946 - acc: 0.7924\n",
      "Epoch 8/20\n",
      " - 1s - loss: 0.4864 - acc: 0.8000\n",
      "Epoch 9/20\n",
      " - 1s - loss: 0.4890 - acc: 0.7996\n",
      "Epoch 10/20\n",
      " - 1s - loss: 0.4901 - acc: 0.7987\n",
      "Epoch 11/20\n",
      " - 1s - loss: 0.4820 - acc: 0.8000\n",
      "Epoch 12/20\n",
      " - 1s - loss: 0.4859 - acc: 0.8000\n",
      "Epoch 13/20\n",
      " - 1s - loss: 0.4891 - acc: 0.8000\n",
      "Epoch 14/20\n",
      " - 1s - loss: 0.4854 - acc: 0.8000\n",
      "Epoch 15/20\n",
      " - 1s - loss: 0.4778 - acc: 0.8000\n",
      "Epoch 16/20\n",
      " - 1s - loss: 0.4782 - acc: 0.8004\n",
      "Epoch 17/20\n",
      " - 1s - loss: 0.4766 - acc: 0.7969\n",
      "Epoch 18/20\n",
      " - 1s - loss: 0.4760 - acc: 0.7987\n",
      "Epoch 19/20\n",
      " - 1s - loss: 0.4748 - acc: 0.7982\n",
      "Epoch 20/20\n",
      " - 1s - loss: 0.4842 - acc: 0.7973\n",
      "0.22\n"
     ]
    }
   ],
   "source": [
    "_,metaX[:,1],_ = get_pred_of_model(init_lstm(),lstm_parameter['epoch'],lstm_parameter['batch'],baseX,baseY,devX,devY)"
   ]
  },
  {
   "cell_type": "code",
   "execution_count": 251,
   "metadata": {},
   "outputs": [
    {
     "name": "stdout",
     "output_type": "stream",
     "text": [
      "_________________________________________________________________\n",
      "Layer (type)                 Output Shape              Param #   \n",
      "=================================================================\n",
      "embedding_21 (Embedding)     (None, 24, 300)           802200    \n",
      "_________________________________________________________________\n",
      "bidirectional_9 (Bidirection (None, 512)               1140736   \n",
      "_________________________________________________________________\n",
      "dropout_30 (Dropout)         (None, 512)               0         \n",
      "_________________________________________________________________\n",
      "dense_26 (Dense)             (None, 5)                 2565      \n",
      "=================================================================\n",
      "Total params: 1,945,501\n",
      "Trainable params: 1,143,301\n",
      "Non-trainable params: 802,200\n",
      "_________________________________________________________________\n",
      "None\n",
      "Epoch 1/5\n",
      " - 7s - loss: 0.4953 - acc: 0.8000\n",
      "Epoch 2/5\n",
      " - 5s - loss: 0.4870 - acc: 0.8000\n",
      "Epoch 3/5\n",
      " - 5s - loss: 0.4802 - acc: 0.8000\n",
      "Epoch 4/5\n",
      " - 5s - loss: 0.4764 - acc: 0.8009\n",
      "Epoch 5/5\n",
      " - 4s - loss: 0.4699 - acc: 0.8004\n",
      "0.22\n"
     ]
    }
   ],
   "source": [
    "_,metaX[:,2],_ = get_pred_of_model(init_bi_lstm(),bi_lstm_parameter['epoch'],bi_lstm_parameter['batch'],baseX,baseY,devX,devY)"
   ]
  },
  {
   "cell_type": "code",
   "execution_count": 252,
   "metadata": {},
   "outputs": [
    {
     "name": "stdout",
     "output_type": "stream",
     "text": [
      "_________________________________________________________________\n",
      "Layer (type)                 Output Shape              Param #   \n",
      "=================================================================\n",
      "embedding_22 (Embedding)     (None, 24, 300)           802200    \n",
      "_________________________________________________________________\n",
      "conv1d_14 (Conv1D)           (None, 24, 100)           30100     \n",
      "_________________________________________________________________\n",
      "dropout_31 (Dropout)         (None, 24, 100)           0         \n",
      "_________________________________________________________________\n",
      "max_pooling1d_9 (MaxPooling1 (None, 12, 100)           0         \n",
      "_________________________________________________________________\n",
      "lstm_17 (LSTM)               (None, 64)                42240     \n",
      "_________________________________________________________________\n",
      "dropout_32 (Dropout)         (None, 64)                0         \n",
      "_________________________________________________________________\n",
      "dense_27 (Dense)             (None, 5)                 325       \n",
      "=================================================================\n",
      "Total params: 874,865\n",
      "Trainable params: 72,665\n",
      "Non-trainable params: 802,200\n",
      "_________________________________________________________________\n",
      "None\n",
      "Epoch 1/10\n",
      " - 3s - loss: 0.4941 - acc: 0.7996\n",
      "Epoch 2/10\n",
      " - 1s - loss: 0.4876 - acc: 0.8000\n",
      "Epoch 3/10\n",
      " - 1s - loss: 0.4824 - acc: 0.7996\n",
      "Epoch 4/10\n",
      " - 1s - loss: 0.4543 - acc: 0.8053\n",
      "Epoch 5/10\n",
      " - 1s - loss: 0.4224 - acc: 0.8160\n",
      "Epoch 6/10\n",
      " - 1s - loss: 0.3803 - acc: 0.8262\n",
      "Epoch 7/10\n",
      " - 1s - loss: 0.3556 - acc: 0.8400\n",
      "Epoch 8/10\n",
      " - 1s - loss: 0.3090 - acc: 0.8658\n",
      "Epoch 9/10\n",
      " - 1s - loss: 0.2839 - acc: 0.8773\n",
      "Epoch 10/10\n",
      " - 1s - loss: 0.2530 - acc: 0.8942\n",
      "0.18\n"
     ]
    }
   ],
   "source": [
    "_,metaX[:,3],_ = get_pred_of_model(init_cnn_lstm(),cnn_lstm_parameter['epoch'],cnn_lstm_parameter['batch'],baseX,baseY,devX,devY)"
   ]
  },
  {
   "cell_type": "code",
   "execution_count": 253,
   "metadata": {},
   "outputs": [
    {
     "name": "stdout",
     "output_type": "stream",
     "text": [
      "_________________________________________________________________\n",
      "Layer (type)                 Output Shape              Param #   \n",
      "=================================================================\n",
      "embedding_23 (Embedding)     (None, 24, 300)           802200    \n",
      "_________________________________________________________________\n",
      "conv1d_15 (Conv1D)           (None, 24, 100)           30100     \n",
      "_________________________________________________________________\n",
      "dropout_33 (Dropout)         (None, 24, 100)           0         \n",
      "_________________________________________________________________\n",
      "max_pooling1d_10 (MaxPooling (None, 12, 100)           0         \n",
      "_________________________________________________________________\n",
      "bidirectional_10 (Bidirectio (None, 128)               84480     \n",
      "_________________________________________________________________\n",
      "dropout_34 (Dropout)         (None, 128)               0         \n",
      "_________________________________________________________________\n",
      "dense_28 (Dense)             (None, 5)                 645       \n",
      "=================================================================\n",
      "Total params: 917,425\n",
      "Trainable params: 115,225\n",
      "Non-trainable params: 802,200\n",
      "_________________________________________________________________\n",
      "None\n",
      "Epoch 1/5\n",
      " - 3s - loss: 0.4900 - acc: 0.8000\n",
      "Epoch 2/5\n",
      " - 1s - loss: 0.4763 - acc: 0.7996\n",
      "Epoch 3/5\n",
      " - 1s - loss: 0.4501 - acc: 0.8018\n",
      "Epoch 4/5\n",
      " - 1s - loss: 0.4031 - acc: 0.8156\n",
      "Epoch 5/5\n",
      " - 1s - loss: 0.3600 - acc: 0.8289\n",
      "0.36\n"
     ]
    }
   ],
   "source": [
    "_,metaX[:,4],_ = get_pred_of_model(init_cnn_bi_lstm(),cnn_bi_lstm_parameter['epoch'],cnn_bi_lstm_parameter['batch'],baseX,baseY,devX,devY)"
   ]
  },
  {
   "cell_type": "code",
   "execution_count": 256,
   "metadata": {},
   "outputs": [
    {
     "data": {
      "text/plain": [
       "(50, 50)"
      ]
     },
     "execution_count": 256,
     "metadata": {},
     "output_type": "execute_result"
    }
   ],
   "source": [
    "len(devY),len(metaX)"
   ]
  },
  {
   "cell_type": "code",
   "execution_count": 258,
   "metadata": {
    "collapsed": true
   },
   "outputs": [],
   "source": [
    "meta_model=LogisticRegression()"
   ]
  },
  {
   "cell_type": "code",
   "execution_count": 260,
   "metadata": {},
   "outputs": [
    {
     "data": {
      "text/plain": [
       "LogisticRegression(C=1.0, class_weight=None, dual=False, fit_intercept=True,\n",
       "          intercept_scaling=1, max_iter=100, multi_class='ovr', n_jobs=1,\n",
       "          penalty='l2', random_state=None, solver='liblinear', tol=0.0001,\n",
       "          verbose=0, warm_start=False)"
      ]
     },
     "execution_count": 260,
     "metadata": {},
     "output_type": "execute_result"
    }
   ],
   "source": [
    "meta_model.fit(metaX,devY)"
   ]
  },
  {
   "cell_type": "code",
   "execution_count": 268,
   "metadata": {},
   "outputs": [],
   "source": [
    "blend_pred_class = meta_model.predict(pred_class_base)"
   ]
  },
  {
   "cell_type": "code",
   "execution_count": 271,
   "metadata": {},
   "outputs": [
    {
     "data": {
      "text/plain": [
       "0.28"
      ]
     },
     "execution_count": 271,
     "metadata": {},
     "output_type": "execute_result"
    }
   ],
   "source": [
    "acc = accuracy_score(testY,blend_pred_class)\n",
    "acc"
   ]
  },
  {
   "cell_type": "code",
   "execution_count": 272,
   "metadata": {
    "collapsed": true
   },
   "outputs": [],
   "source": [
    "acc_results['blend'] = acc"
   ]
  },
  {
   "cell_type": "code",
   "execution_count": 273,
   "metadata": {},
   "outputs": [
    {
     "data": {
      "text/plain": [
       "{'average': 0.35,\n",
       " 'base_model_counts': {'correct_predicted_by_all': 4,\n",
       "  'correct_predicted_by_some': [22, 9, 15, 13],\n",
       "  'incorrect_predicted_by_all': 37},\n",
       " 'bi_lstm': 0.34,\n",
       " 'blend': 0.28,\n",
       " 'cnn': 0.27,\n",
       " 'cnn_bi_lstm': 0.4,\n",
       " 'cnn_lstm': 0.26,\n",
       " 'lstm': 0.3,\n",
       " 'majority': 0.36}"
      ]
     },
     "execution_count": 273,
     "metadata": {},
     "output_type": "execute_result"
    }
   ],
   "source": [
    "acc_results"
   ]
  },
  {
   "cell_type": "code",
   "execution_count": 274,
   "metadata": {
    "collapsed": true
   },
   "outputs": [],
   "source": [
    "pred_df['blend']=blend_pred_class"
   ]
  },
  {
   "cell_type": "markdown",
   "metadata": {},
   "source": [
    "## Stacked ensemble"
   ]
  },
  {
   "cell_type": "code",
   "execution_count": 304,
   "metadata": {
    "collapsed": true
   },
   "outputs": [],
   "source": [
    "np.random.seed(seed)"
   ]
  },
  {
   "cell_type": "code",
   "execution_count": 305,
   "metadata": {
    "collapsed": true
   },
   "outputs": [],
   "source": [
    "kfold = StratifiedKFold(n_splits=10, shuffle=True, random_state=seed)"
   ]
  },
  {
   "cell_type": "code",
   "execution_count": 306,
   "metadata": {
    "collapsed": true
   },
   "outputs": [],
   "source": [
    "stacked_metaX=np.array([[0, 0, 0, 0,0]],dtype=np.int64)"
   ]
  },
  {
   "cell_type": "code",
   "execution_count": 307,
   "metadata": {
    "collapsed": true
   },
   "outputs": [],
   "source": [
    "stacked_metaY = []"
   ]
  },
  {
   "cell_type": "code",
   "execution_count": 308,
   "metadata": {
    "collapsed": true
   },
   "outputs": [],
   "source": [
    "count=1"
   ]
  },
  {
   "cell_type": "code",
   "execution_count": 309,
   "metadata": {},
   "outputs": [],
   "source": [
    "trainX=[clean_sentence(x) for x in train_sentences]"
   ]
  },
  {
   "cell_type": "code",
   "execution_count": 310,
   "metadata": {},
   "outputs": [],
   "source": [
    "trainY=train_labels"
   ]
  },
  {
   "cell_type": "code",
   "execution_count": 311,
   "metadata": {
    "collapsed": true
   },
   "outputs": [],
   "source": [
    "trainY=np.array(trainY)\n",
    "trainX=np.array(trainX)"
   ]
  },
  {
   "cell_type": "code",
   "execution_count": 313,
   "metadata": {},
   "outputs": [
    {
     "name": "stdout",
     "output_type": "stream",
     "text": [
      "----------------------itr = 1--------------\n",
      "_________________________________________________________________\n",
      "Layer (type)                 Output Shape              Param #   \n",
      "=================================================================\n",
      "embedding_24 (Embedding)     (None, 24, 300)           759000    \n",
      "_________________________________________________________________\n",
      "dropout_35 (Dropout)         (None, 24, 300)           0         \n",
      "_________________________________________________________________\n",
      "conv1d_16 (Conv1D)           (None, 19, 100)           180100    \n",
      "_________________________________________________________________\n",
      "global_max_pooling1d_6 (Glob (None, 100)               0         \n",
      "_________________________________________________________________\n",
      "dense_29 (Dense)             (None, 200)               20200     \n",
      "_________________________________________________________________\n",
      "dropout_36 (Dropout)         (None, 200)               0         \n",
      "_________________________________________________________________\n",
      "activation_11 (Activation)   (None, 200)               0         \n",
      "_________________________________________________________________\n",
      "dense_30 (Dense)             (None, 5)                 1005      \n",
      "_________________________________________________________________\n",
      "activation_12 (Activation)   (None, 5)                 0         \n",
      "=================================================================\n",
      "Total params: 960,305\n",
      "Trainable params: 960,305\n",
      "Non-trainable params: 0\n",
      "_________________________________________________________________\n",
      "None\n",
      "Epoch 1/10\n",
      " - 4s - loss: 0.5134 - acc: 0.7924\n",
      "Epoch 2/10\n",
      " - 1s - loss: 0.5084 - acc: 0.7955\n",
      "Epoch 3/10\n",
      " - 1s - loss: 0.4974 - acc: 0.7991\n",
      "Epoch 4/10\n",
      " - 1s - loss: 0.4975 - acc: 0.7964\n",
      "Epoch 5/10\n",
      " - 1s - loss: 0.4931 - acc: 0.7987\n",
      "Epoch 6/10\n",
      " - 1s - loss: 0.4939 - acc: 0.7964\n",
      "Epoch 7/10\n",
      " - 1s - loss: 0.4937 - acc: 0.7996\n",
      "Epoch 8/10\n",
      " - 1s - loss: 0.4926 - acc: 0.7991\n",
      "Epoch 9/10\n",
      " - 1s - loss: 0.4861 - acc: 0.8000\n",
      "Epoch 10/10\n",
      " - 2s - loss: 0.4783 - acc: 0.8009\n",
      "0.33962264150943394\n",
      "_________________________________________________________________\n",
      "Layer (type)                 Output Shape              Param #   \n",
      "=================================================================\n",
      "embedding_25 (Embedding)     (None, 24, 300)           759000    \n",
      "_________________________________________________________________\n",
      "lstm_19 (LSTM)               (None, 128)               219648    \n",
      "_________________________________________________________________\n",
      "dense_31 (Dense)             (None, 5)                 645       \n",
      "=================================================================\n",
      "Total params: 979,293\n",
      "Trainable params: 220,293\n",
      "Non-trainable params: 759,000\n",
      "_________________________________________________________________\n",
      "None\n",
      "Epoch 1/20\n",
      " - 4s - loss: 0.4981 - acc: 0.8000\n",
      "Epoch 2/20\n",
      " - 1s - loss: 0.4917 - acc: 0.8000\n",
      "Epoch 3/20\n",
      " - 1s - loss: 0.4894 - acc: 0.8000\n",
      "Epoch 4/20\n",
      " - 1s - loss: 0.4856 - acc: 0.8000\n",
      "Epoch 5/20\n",
      " - 1s - loss: 0.4838 - acc: 0.8000\n",
      "Epoch 6/20\n",
      " - 1s - loss: 0.4774 - acc: 0.7996\n",
      "Epoch 7/20\n",
      " - 1s - loss: 0.4711 - acc: 0.7973\n",
      "Epoch 8/20\n",
      " - 1s - loss: 0.4760 - acc: 0.7924\n",
      "Epoch 9/20\n",
      " - 1s - loss: 0.4732 - acc: 0.7978\n",
      "Epoch 10/20\n",
      " - 1s - loss: 0.4732 - acc: 0.8004\n",
      "Epoch 11/20\n",
      " - 1s - loss: 0.4717 - acc: 0.8009\n",
      "Epoch 12/20\n",
      " - 1s - loss: 0.4693 - acc: 0.7978\n",
      "Epoch 13/20\n",
      " - 1s - loss: 0.4713 - acc: 0.7960\n",
      "Epoch 14/20\n",
      " - 1s - loss: 0.4658 - acc: 0.8013\n",
      "Epoch 15/20\n",
      " - 1s - loss: 0.4668 - acc: 0.7969\n",
      "Epoch 16/20\n",
      " - 1s - loss: 0.4583 - acc: 0.7996\n",
      "Epoch 17/20\n",
      " - 1s - loss: 0.4634 - acc: 0.7987\n",
      "Epoch 18/20\n",
      " - 1s - loss: 0.4629 - acc: 0.8004\n",
      "Epoch 19/20\n",
      " - 1s - loss: 0.4611 - acc: 0.8013\n",
      "Epoch 20/20\n",
      " - 1s - loss: 0.4572 - acc: 0.7946\n",
      "0.33962264150943394\n",
      "_________________________________________________________________\n",
      "Layer (type)                 Output Shape              Param #   \n",
      "=================================================================\n",
      "embedding_26 (Embedding)     (None, 24, 300)           759000    \n",
      "_________________________________________________________________\n",
      "bidirectional_11 (Bidirectio (None, 512)               1140736   \n",
      "_________________________________________________________________\n",
      "dropout_37 (Dropout)         (None, 512)               0         \n",
      "_________________________________________________________________\n",
      "dense_32 (Dense)             (None, 5)                 2565      \n",
      "=================================================================\n",
      "Total params: 1,902,301\n",
      "Trainable params: 1,143,301\n",
      "Non-trainable params: 759,000\n",
      "_________________________________________________________________\n",
      "None\n",
      "Epoch 1/5\n",
      " - 8s - loss: 0.4958 - acc: 0.8000\n",
      "Epoch 2/5\n",
      " - 6s - loss: 0.4878 - acc: 0.8000\n",
      "Epoch 3/5\n",
      " - 5s - loss: 0.4808 - acc: 0.8000\n",
      "Epoch 4/5\n",
      " - 5s - loss: 0.4756 - acc: 0.8000\n",
      "Epoch 5/5\n",
      " - 5s - loss: 0.4691 - acc: 0.8040\n",
      "0.32075471698113206\n",
      "_________________________________________________________________\n",
      "Layer (type)                 Output Shape              Param #   \n",
      "=================================================================\n",
      "embedding_27 (Embedding)     (None, 24, 300)           759000    \n",
      "_________________________________________________________________\n",
      "conv1d_17 (Conv1D)           (None, 24, 100)           30100     \n",
      "_________________________________________________________________\n",
      "dropout_38 (Dropout)         (None, 24, 100)           0         \n",
      "_________________________________________________________________\n",
      "max_pooling1d_11 (MaxPooling (None, 12, 100)           0         \n",
      "_________________________________________________________________\n",
      "lstm_21 (LSTM)               (None, 64)                42240     \n",
      "_________________________________________________________________\n",
      "dropout_39 (Dropout)         (None, 64)                0         \n",
      "_________________________________________________________________\n",
      "dense_33 (Dense)             (None, 5)                 325       \n",
      "=================================================================\n",
      "Total params: 831,665\n",
      "Trainable params: 72,665\n",
      "Non-trainable params: 759,000\n",
      "_________________________________________________________________\n",
      "None\n",
      "Epoch 1/10\n",
      " - 4s - loss: 0.4924 - acc: 0.8000\n",
      "Epoch 2/10\n",
      " - 1s - loss: 0.4893 - acc: 0.8000\n",
      "Epoch 3/10\n",
      " - 1s - loss: 0.4820 - acc: 0.8000\n",
      "Epoch 4/10\n",
      " - 1s - loss: 0.4468 - acc: 0.7964\n",
      "Epoch 5/10\n",
      " - 1s - loss: 0.4167 - acc: 0.8040\n",
      "Epoch 6/10\n",
      " - 1s - loss: 0.3840 - acc: 0.8210\n",
      "Epoch 7/10\n",
      " - 1s - loss: 0.3476 - acc: 0.8371\n",
      "Epoch 8/10\n",
      " - 1s - loss: 0.3267 - acc: 0.8559\n",
      "Epoch 9/10\n",
      " - 1s - loss: 0.3025 - acc: 0.8644\n",
      "Epoch 10/10\n",
      " - 1s - loss: 0.2808 - acc: 0.8796\n",
      "0.3018867924528302\n",
      "_________________________________________________________________\n",
      "Layer (type)                 Output Shape              Param #   \n",
      "=================================================================\n",
      "embedding_28 (Embedding)     (None, 24, 300)           759000    \n",
      "_________________________________________________________________\n",
      "conv1d_18 (Conv1D)           (None, 24, 100)           30100     \n",
      "_________________________________________________________________\n",
      "dropout_40 (Dropout)         (None, 24, 100)           0         \n",
      "_________________________________________________________________\n",
      "max_pooling1d_12 (MaxPooling (None, 12, 100)           0         \n",
      "_________________________________________________________________\n",
      "bidirectional_12 (Bidirectio (None, 128)               84480     \n",
      "_________________________________________________________________\n",
      "dropout_41 (Dropout)         (None, 128)               0         \n",
      "_________________________________________________________________\n",
      "dense_34 (Dense)             (None, 5)                 645       \n",
      "=================================================================\n",
      "Total params: 874,225\n",
      "Trainable params: 115,225\n",
      "Non-trainable params: 759,000\n",
      "_________________________________________________________________\n",
      "None\n",
      "Epoch 1/5\n",
      " - 4s - loss: 0.4943 - acc: 0.8000\n",
      "Epoch 2/5\n",
      " - 1s - loss: 0.4787 - acc: 0.8000\n",
      "Epoch 3/5\n",
      " - 1s - loss: 0.4384 - acc: 0.8072\n",
      "Epoch 4/5\n",
      " - 1s - loss: 0.4116 - acc: 0.8152\n",
      "Epoch 5/5\n",
      " - 1s - loss: 0.3611 - acc: 0.8403\n",
      "0.3018867924528302\n",
      "----------------------itr = 2--------------\n",
      "_________________________________________________________________\n",
      "Layer (type)                 Output Shape              Param #   \n",
      "=================================================================\n",
      "embedding_29 (Embedding)     (None, 24, 300)           748200    \n",
      "_________________________________________________________________\n",
      "dropout_42 (Dropout)         (None, 24, 300)           0         \n",
      "_________________________________________________________________\n",
      "conv1d_19 (Conv1D)           (None, 19, 100)           180100    \n",
      "_________________________________________________________________\n",
      "global_max_pooling1d_7 (Glob (None, 100)               0         \n",
      "_________________________________________________________________\n",
      "dense_35 (Dense)             (None, 200)               20200     \n",
      "_________________________________________________________________\n",
      "dropout_43 (Dropout)         (None, 200)               0         \n",
      "_________________________________________________________________\n",
      "activation_13 (Activation)   (None, 200)               0         \n",
      "_________________________________________________________________\n",
      "dense_36 (Dense)             (None, 5)                 1005      \n",
      "_________________________________________________________________\n",
      "activation_14 (Activation)   (None, 5)                 0         \n",
      "=================================================================\n",
      "Total params: 949,505\n",
      "Trainable params: 949,505\n",
      "Non-trainable params: 0\n",
      "_________________________________________________________________\n",
      "None\n"
     ]
    },
    {
     "name": "stdout",
     "output_type": "stream",
     "text": [
      "Epoch 1/10\n",
      " - 4s - loss: 0.5157 - acc: 0.7964\n",
      "Epoch 2/10\n",
      " - 1s - loss: 0.5085 - acc: 0.7973\n",
      "Epoch 3/10\n",
      " - 1s - loss: 0.5006 - acc: 0.7982\n",
      "Epoch 4/10\n",
      " - 1s - loss: 0.4951 - acc: 0.7969\n",
      "Epoch 5/10\n",
      " - 1s - loss: 0.4905 - acc: 0.8000\n",
      "Epoch 6/10\n",
      " - 1s - loss: 0.4922 - acc: 0.7969\n",
      "Epoch 7/10\n",
      " - 1s - loss: 0.4826 - acc: 0.7996\n",
      "Epoch 8/10\n",
      " - 1s - loss: 0.4808 - acc: 0.7996\n",
      "Epoch 9/10\n",
      " - 2s - loss: 0.4774 - acc: 0.8018\n",
      "Epoch 10/10\n",
      " - 1s - loss: 0.4815 - acc: 0.7973\n",
      "0.3269230769230769\n",
      "_________________________________________________________________\n",
      "Layer (type)                 Output Shape              Param #   \n",
      "=================================================================\n",
      "embedding_30 (Embedding)     (None, 24, 300)           748200    \n",
      "_________________________________________________________________\n",
      "lstm_23 (LSTM)               (None, 128)               219648    \n",
      "_________________________________________________________________\n",
      "dense_37 (Dense)             (None, 5)                 645       \n",
      "=================================================================\n",
      "Total params: 968,493\n",
      "Trainable params: 220,293\n",
      "Non-trainable params: 748,200\n",
      "_________________________________________________________________\n",
      "None\n",
      "Epoch 1/20\n",
      " - 4s - loss: 0.4978 - acc: 0.8000\n",
      "Epoch 2/20\n",
      " - 1s - loss: 0.4912 - acc: 0.8000\n",
      "Epoch 3/20\n",
      " - 1s - loss: 0.4888 - acc: 0.7996\n",
      "Epoch 4/20\n",
      " - 1s - loss: 0.4899 - acc: 0.8000\n",
      "Epoch 5/20\n",
      " - 1s - loss: 0.4871 - acc: 0.7996\n",
      "Epoch 6/20\n",
      " - 1s - loss: 0.4889 - acc: 0.8000\n",
      "Epoch 7/20\n",
      " - 1s - loss: 0.4854 - acc: 0.8000\n",
      "Epoch 8/20\n",
      " - 1s - loss: 0.4810 - acc: 0.8018\n",
      "Epoch 9/20\n",
      " - 1s - loss: 0.4746 - acc: 0.7969\n",
      "Epoch 10/20\n",
      " - 1s - loss: 0.4735 - acc: 0.7946\n",
      "Epoch 11/20\n",
      " - 1s - loss: 0.4728 - acc: 0.7991\n",
      "Epoch 12/20\n",
      " - 1s - loss: 0.4684 - acc: 0.7991\n",
      "Epoch 13/20\n",
      " - 1s - loss: 0.4683 - acc: 0.7964\n",
      "Epoch 14/20\n",
      " - 1s - loss: 0.4644 - acc: 0.8013\n",
      "Epoch 15/20\n",
      " - 1s - loss: 0.4598 - acc: 0.7996\n",
      "Epoch 16/20\n",
      " - 1s - loss: 0.4539 - acc: 0.7951\n",
      "Epoch 17/20\n",
      " - 1s - loss: 0.4725 - acc: 0.7942\n",
      "Epoch 18/20\n",
      " - 1s - loss: 0.4626 - acc: 0.7973\n",
      "Epoch 19/20\n",
      " - 1s - loss: 0.4548 - acc: 0.8027\n",
      "Epoch 20/20\n",
      " - 1s - loss: 0.4494 - acc: 0.8000\n",
      "0.3076923076923077\n",
      "_________________________________________________________________\n",
      "Layer (type)                 Output Shape              Param #   \n",
      "=================================================================\n",
      "embedding_31 (Embedding)     (None, 24, 300)           748200    \n",
      "_________________________________________________________________\n",
      "bidirectional_13 (Bidirectio (None, 512)               1140736   \n",
      "_________________________________________________________________\n",
      "dropout_44 (Dropout)         (None, 512)               0         \n",
      "_________________________________________________________________\n",
      "dense_38 (Dense)             (None, 5)                 2565      \n",
      "=================================================================\n",
      "Total params: 1,891,501\n",
      "Trainable params: 1,143,301\n",
      "Non-trainable params: 748,200\n",
      "_________________________________________________________________\n",
      "None\n",
      "Epoch 1/5\n",
      " - 8s - loss: 0.4963 - acc: 0.8000\n",
      "Epoch 2/5\n",
      " - 5s - loss: 0.4877 - acc: 0.8000\n",
      "Epoch 3/5\n",
      " - 5s - loss: 0.4821 - acc: 0.8000\n",
      "Epoch 4/5\n",
      " - 5s - loss: 0.4773 - acc: 0.8000\n",
      "Epoch 5/5\n",
      " - 5s - loss: 0.4719 - acc: 0.8000\n",
      "0.34615384615384615\n",
      "_________________________________________________________________\n",
      "Layer (type)                 Output Shape              Param #   \n",
      "=================================================================\n",
      "embedding_32 (Embedding)     (None, 24, 300)           748200    \n",
      "_________________________________________________________________\n",
      "conv1d_20 (Conv1D)           (None, 24, 100)           30100     \n",
      "_________________________________________________________________\n",
      "dropout_45 (Dropout)         (None, 24, 100)           0         \n",
      "_________________________________________________________________\n",
      "max_pooling1d_13 (MaxPooling (None, 12, 100)           0         \n",
      "_________________________________________________________________\n",
      "lstm_25 (LSTM)               (None, 64)                42240     \n",
      "_________________________________________________________________\n",
      "dropout_46 (Dropout)         (None, 64)                0         \n",
      "_________________________________________________________________\n",
      "dense_39 (Dense)             (None, 5)                 325       \n",
      "=================================================================\n",
      "Total params: 820,865\n",
      "Trainable params: 72,665\n",
      "Non-trainable params: 748,200\n",
      "_________________________________________________________________\n",
      "None\n",
      "Epoch 1/10\n",
      " - 4s - loss: 0.4960 - acc: 0.8000\n",
      "Epoch 2/10\n",
      " - 1s - loss: 0.4902 - acc: 0.8000\n",
      "Epoch 3/10\n",
      " - 1s - loss: 0.4870 - acc: 0.8000\n",
      "Epoch 4/10\n",
      " - 1s - loss: 0.4822 - acc: 0.7987\n",
      "Epoch 5/10\n",
      " - 1s - loss: 0.4429 - acc: 0.8049\n",
      "Epoch 6/10\n",
      " - 1s - loss: 0.4159 - acc: 0.8134\n",
      "Epoch 7/10\n",
      " - 1s - loss: 0.3657 - acc: 0.8393\n",
      "Epoch 8/10\n",
      " - 1s - loss: 0.3146 - acc: 0.8638\n",
      "Epoch 9/10\n",
      " - 1s - loss: 0.2741 - acc: 0.8853\n",
      "Epoch 10/10\n",
      " - 1s - loss: 0.2505 - acc: 0.8960\n",
      "0.38461538461538464\n",
      "_________________________________________________________________\n",
      "Layer (type)                 Output Shape              Param #   \n",
      "=================================================================\n",
      "embedding_33 (Embedding)     (None, 24, 300)           748200    \n",
      "_________________________________________________________________\n",
      "conv1d_21 (Conv1D)           (None, 24, 100)           30100     \n",
      "_________________________________________________________________\n",
      "dropout_47 (Dropout)         (None, 24, 100)           0         \n",
      "_________________________________________________________________\n",
      "max_pooling1d_14 (MaxPooling (None, 12, 100)           0         \n",
      "_________________________________________________________________\n",
      "bidirectional_14 (Bidirectio (None, 128)               84480     \n",
      "_________________________________________________________________\n",
      "dropout_48 (Dropout)         (None, 128)               0         \n",
      "_________________________________________________________________\n",
      "dense_40 (Dense)             (None, 5)                 645       \n",
      "=================================================================\n",
      "Total params: 863,425\n",
      "Trainable params: 115,225\n",
      "Non-trainable params: 748,200\n",
      "_________________________________________________________________\n",
      "None\n",
      "Epoch 1/5\n",
      " - 5s - loss: 0.4933 - acc: 0.8000\n",
      "Epoch 2/5\n",
      " - 1s - loss: 0.4805 - acc: 0.8004\n",
      "Epoch 3/5\n",
      " - 1s - loss: 0.4628 - acc: 0.7987\n",
      "Epoch 4/5\n",
      " - 1s - loss: 0.4188 - acc: 0.8094\n",
      "Epoch 5/5\n",
      " - 1s - loss: 0.3733 - acc: 0.8259\n",
      "0.40384615384615385\n",
      "----------------------itr = 3--------------\n",
      "_________________________________________________________________\n",
      "Layer (type)                 Output Shape              Param #   \n",
      "=================================================================\n",
      "embedding_34 (Embedding)     (None, 24, 300)           742500    \n",
      "_________________________________________________________________\n",
      "dropout_49 (Dropout)         (None, 24, 300)           0         \n",
      "_________________________________________________________________\n",
      "conv1d_22 (Conv1D)           (None, 19, 100)           180100    \n",
      "_________________________________________________________________\n",
      "global_max_pooling1d_8 (Glob (None, 100)               0         \n",
      "_________________________________________________________________\n",
      "dense_41 (Dense)             (None, 200)               20200     \n",
      "_________________________________________________________________\n",
      "dropout_50 (Dropout)         (None, 200)               0         \n",
      "_________________________________________________________________\n",
      "activation_15 (Activation)   (None, 200)               0         \n",
      "_________________________________________________________________\n",
      "dense_42 (Dense)             (None, 5)                 1005      \n",
      "_________________________________________________________________\n",
      "activation_16 (Activation)   (None, 5)                 0         \n",
      "=================================================================\n",
      "Total params: 943,805\n",
      "Trainable params: 943,805\n",
      "Non-trainable params: 0\n",
      "_________________________________________________________________\n",
      "None\n",
      "Epoch 1/10\n",
      " - 5s - loss: 0.5227 - acc: 0.7951\n",
      "Epoch 2/10\n"
     ]
    },
    {
     "name": "stdout",
     "output_type": "stream",
     "text": [
      " - 1s - loss: 0.5047 - acc: 0.7960\n",
      "Epoch 3/10\n",
      " - 1s - loss: 0.4986 - acc: 0.7973\n",
      "Epoch 4/10\n",
      " - 1s - loss: 0.4873 - acc: 0.7982\n",
      "Epoch 5/10\n",
      " - 1s - loss: 0.4970 - acc: 0.7982\n",
      "Epoch 6/10\n",
      " - 2s - loss: 0.4876 - acc: 0.7991\n",
      "Epoch 7/10\n",
      " - 1s - loss: 0.4826 - acc: 0.7996\n",
      "Epoch 8/10\n",
      " - 1s - loss: 0.4857 - acc: 0.8004\n",
      "Epoch 9/10\n",
      " - 1s - loss: 0.4832 - acc: 0.8009\n",
      "Epoch 10/10\n",
      " - 1s - loss: 0.4804 - acc: 0.8004\n",
      "0.34615384615384615\n",
      "_________________________________________________________________\n",
      "Layer (type)                 Output Shape              Param #   \n",
      "=================================================================\n",
      "embedding_35 (Embedding)     (None, 24, 300)           742500    \n",
      "_________________________________________________________________\n",
      "lstm_27 (LSTM)               (None, 128)               219648    \n",
      "_________________________________________________________________\n",
      "dense_43 (Dense)             (None, 5)                 645       \n",
      "=================================================================\n",
      "Total params: 962,793\n",
      "Trainable params: 220,293\n",
      "Non-trainable params: 742,500\n",
      "_________________________________________________________________\n",
      "None\n",
      "Epoch 1/20\n",
      " - 5s - loss: 0.4967 - acc: 0.8000\n",
      "Epoch 2/20\n",
      " - 1s - loss: 0.4946 - acc: 0.7973\n",
      "Epoch 3/20\n",
      " - 1s - loss: 0.4903 - acc: 0.8000\n",
      "Epoch 4/20\n",
      " - 1s - loss: 0.4902 - acc: 0.8000\n",
      "Epoch 5/20\n",
      " - 1s - loss: 0.4859 - acc: 0.8000\n",
      "Epoch 6/20\n",
      " - 1s - loss: 0.4791 - acc: 0.7987\n",
      "Epoch 7/20\n",
      " - 1s - loss: 0.4756 - acc: 0.7987\n",
      "Epoch 8/20\n",
      " - 1s - loss: 0.4743 - acc: 0.7946\n",
      "Epoch 9/20\n",
      " - 1s - loss: 0.4759 - acc: 0.7915\n",
      "Epoch 10/20\n",
      " - 1s - loss: 0.4735 - acc: 0.7964\n",
      "Epoch 11/20\n",
      " - 1s - loss: 0.4701 - acc: 0.8000\n",
      "Epoch 12/20\n",
      " - 1s - loss: 0.4711 - acc: 0.7960\n",
      "Epoch 13/20\n",
      " - 1s - loss: 0.4652 - acc: 0.7973\n",
      "Epoch 14/20\n",
      " - 1s - loss: 0.4661 - acc: 0.8004\n",
      "Epoch 15/20\n",
      " - 1s - loss: 0.4498 - acc: 0.8013\n",
      "Epoch 16/20\n",
      " - 1s - loss: 0.4621 - acc: 0.7973\n",
      "Epoch 17/20\n",
      " - 1s - loss: 0.4642 - acc: 0.7987\n",
      "Epoch 18/20\n",
      " - 1s - loss: 0.4638 - acc: 0.7991\n",
      "Epoch 19/20\n",
      " - 1s - loss: 0.4685 - acc: 0.7920\n",
      "Epoch 20/20\n",
      " - 1s - loss: 0.4626 - acc: 0.8000\n",
      "0.2692307692307692\n",
      "_________________________________________________________________\n",
      "Layer (type)                 Output Shape              Param #   \n",
      "=================================================================\n",
      "embedding_36 (Embedding)     (None, 24, 300)           742500    \n",
      "_________________________________________________________________\n",
      "bidirectional_15 (Bidirectio (None, 512)               1140736   \n",
      "_________________________________________________________________\n",
      "dropout_51 (Dropout)         (None, 512)               0         \n",
      "_________________________________________________________________\n",
      "dense_44 (Dense)             (None, 5)                 2565      \n",
      "=================================================================\n",
      "Total params: 1,885,801\n",
      "Trainable params: 1,143,301\n",
      "Non-trainable params: 742,500\n",
      "_________________________________________________________________\n",
      "None\n",
      "Epoch 1/5\n",
      " - 9s - loss: 0.4960 - acc: 0.8000\n",
      "Epoch 2/5\n",
      " - 4s - loss: 0.4889 - acc: 0.8000\n",
      "Epoch 3/5\n",
      " - 4s - loss: 0.4814 - acc: 0.8000\n",
      "Epoch 4/5\n",
      " - 5s - loss: 0.4778 - acc: 0.8000\n",
      "Epoch 5/5\n",
      " - 6s - loss: 0.4729 - acc: 0.8004\n",
      "0.2692307692307692\n",
      "_________________________________________________________________\n",
      "Layer (type)                 Output Shape              Param #   \n",
      "=================================================================\n",
      "embedding_37 (Embedding)     (None, 24, 300)           742500    \n",
      "_________________________________________________________________\n",
      "conv1d_23 (Conv1D)           (None, 24, 100)           30100     \n",
      "_________________________________________________________________\n",
      "dropout_52 (Dropout)         (None, 24, 100)           0         \n",
      "_________________________________________________________________\n",
      "max_pooling1d_15 (MaxPooling (None, 12, 100)           0         \n",
      "_________________________________________________________________\n",
      "lstm_29 (LSTM)               (None, 64)                42240     \n",
      "_________________________________________________________________\n",
      "dropout_53 (Dropout)         (None, 64)                0         \n",
      "_________________________________________________________________\n",
      "dense_45 (Dense)             (None, 5)                 325       \n",
      "=================================================================\n",
      "Total params: 815,165\n",
      "Trainable params: 72,665\n",
      "Non-trainable params: 742,500\n",
      "_________________________________________________________________\n",
      "None\n",
      "Epoch 1/10\n",
      " - 6s - loss: 0.4956 - acc: 0.8000\n",
      "Epoch 2/10\n",
      " - 1s - loss: 0.4898 - acc: 0.8000\n",
      "Epoch 3/10\n",
      " - 1s - loss: 0.4845 - acc: 0.7996\n",
      "Epoch 4/10\n",
      " - 1s - loss: 0.4546 - acc: 0.7978\n",
      "Epoch 5/10\n",
      " - 1s - loss: 0.4036 - acc: 0.8161\n",
      "Epoch 6/10\n",
      " - 1s - loss: 0.3802 - acc: 0.8286\n",
      "Epoch 7/10\n",
      " - 1s - loss: 0.3236 - acc: 0.8580\n",
      "Epoch 8/10\n",
      " - 1s - loss: 0.3054 - acc: 0.8629\n",
      "Epoch 9/10\n",
      " - 1s - loss: 0.3013 - acc: 0.8696\n",
      "Epoch 10/10\n",
      " - 1s - loss: 0.2566 - acc: 0.8933\n",
      "0.21153846153846154\n",
      "_________________________________________________________________\n",
      "Layer (type)                 Output Shape              Param #   \n",
      "=================================================================\n",
      "embedding_38 (Embedding)     (None, 24, 300)           742500    \n",
      "_________________________________________________________________\n",
      "conv1d_24 (Conv1D)           (None, 24, 100)           30100     \n",
      "_________________________________________________________________\n",
      "dropout_54 (Dropout)         (None, 24, 100)           0         \n",
      "_________________________________________________________________\n",
      "max_pooling1d_16 (MaxPooling (None, 12, 100)           0         \n",
      "_________________________________________________________________\n",
      "bidirectional_16 (Bidirectio (None, 128)               84480     \n",
      "_________________________________________________________________\n",
      "dropout_55 (Dropout)         (None, 128)               0         \n",
      "_________________________________________________________________\n",
      "dense_46 (Dense)             (None, 5)                 645       \n",
      "=================================================================\n",
      "Total params: 857,725\n",
      "Trainable params: 115,225\n",
      "Non-trainable params: 742,500\n",
      "_________________________________________________________________\n",
      "None\n",
      "Epoch 1/5\n",
      " - 6s - loss: 0.4917 - acc: 0.8000\n",
      "Epoch 2/5\n",
      " - 1s - loss: 0.4780 - acc: 0.8000\n",
      "Epoch 3/5\n",
      " - 1s - loss: 0.4493 - acc: 0.8036\n",
      "Epoch 4/5\n",
      " - 1s - loss: 0.4054 - acc: 0.8156\n",
      "Epoch 5/5\n",
      " - 1s - loss: 0.3838 - acc: 0.8250\n",
      "0.25\n",
      "----------------------itr = 4--------------\n",
      "_________________________________________________________________\n",
      "Layer (type)                 Output Shape              Param #   \n",
      "=================================================================\n",
      "embedding_39 (Embedding)     (None, 24, 300)           740100    \n",
      "_________________________________________________________________\n",
      "dropout_56 (Dropout)         (None, 24, 300)           0         \n",
      "_________________________________________________________________\n",
      "conv1d_25 (Conv1D)           (None, 19, 100)           180100    \n",
      "_________________________________________________________________\n",
      "global_max_pooling1d_9 (Glob (None, 100)               0         \n",
      "_________________________________________________________________\n",
      "dense_47 (Dense)             (None, 200)               20200     \n",
      "_________________________________________________________________\n",
      "dropout_57 (Dropout)         (None, 200)               0         \n",
      "_________________________________________________________________\n",
      "activation_17 (Activation)   (None, 200)               0         \n",
      "_________________________________________________________________\n",
      "dense_48 (Dense)             (None, 5)                 1005      \n",
      "_________________________________________________________________\n",
      "activation_18 (Activation)   (None, 5)                 0         \n",
      "=================================================================\n",
      "Total params: 941,405\n",
      "Trainable params: 941,405\n",
      "Non-trainable params: 0\n",
      "_________________________________________________________________\n",
      "None\n",
      "Epoch 1/10\n",
      " - 6s - loss: 0.5122 - acc: 0.7924\n",
      "Epoch 2/10\n",
      " - 1s - loss: 0.4993 - acc: 0.7969\n",
      "Epoch 3/10\n",
      " - 1s - loss: 0.5028 - acc: 0.7942\n"
     ]
    },
    {
     "name": "stdout",
     "output_type": "stream",
     "text": [
      "Epoch 4/10\n",
      " - 2s - loss: 0.4972 - acc: 0.8004\n",
      "Epoch 5/10\n",
      " - 2s - loss: 0.4902 - acc: 0.7947\n",
      "Epoch 6/10\n",
      " - 1s - loss: 0.4939 - acc: 0.7978\n",
      "Epoch 7/10\n",
      " - 1s - loss: 0.4924 - acc: 0.7964\n",
      "Epoch 8/10\n",
      " - 1s - loss: 0.4882 - acc: 0.8000\n",
      "Epoch 9/10\n",
      " - 1s - loss: 0.4780 - acc: 0.8009\n",
      "Epoch 10/10\n",
      " - 1s - loss: 0.4823 - acc: 0.7960\n",
      "0.32\n",
      "_________________________________________________________________\n",
      "Layer (type)                 Output Shape              Param #   \n",
      "=================================================================\n",
      "embedding_40 (Embedding)     (None, 24, 300)           740100    \n",
      "_________________________________________________________________\n",
      "lstm_31 (LSTM)               (None, 128)               219648    \n",
      "_________________________________________________________________\n",
      "dense_49 (Dense)             (None, 5)                 645       \n",
      "=================================================================\n",
      "Total params: 960,393\n",
      "Trainable params: 220,293\n",
      "Non-trainable params: 740,100\n",
      "_________________________________________________________________\n",
      "None\n",
      "Epoch 1/20\n",
      " - 6s - loss: 0.4962 - acc: 0.8000\n",
      "Epoch 2/20\n",
      " - 1s - loss: 0.4904 - acc: 0.7996\n",
      "Epoch 3/20\n",
      " - 1s - loss: 0.4892 - acc: 0.7996\n",
      "Epoch 4/20\n",
      " - 1s - loss: 0.4969 - acc: 0.7973\n",
      "Epoch 5/20\n",
      " - 1s - loss: 0.4926 - acc: 0.8000\n",
      "Epoch 6/20\n",
      " - 1s - loss: 0.4916 - acc: 0.8000\n",
      "Epoch 7/20\n",
      " - 1s - loss: 0.4867 - acc: 0.7996\n",
      "Epoch 8/20\n",
      " - 1s - loss: 0.4823 - acc: 0.8004\n",
      "Epoch 9/20\n",
      " - 1s - loss: 0.4770 - acc: 0.8013\n",
      "Epoch 10/20\n",
      " - 1s - loss: 0.4887 - acc: 0.7947\n",
      "Epoch 11/20\n",
      " - 1s - loss: 0.4870 - acc: 0.7929\n",
      "Epoch 12/20\n",
      " - 1s - loss: 0.4849 - acc: 0.7996\n",
      "Epoch 13/20\n",
      " - 1s - loss: 0.4812 - acc: 0.7996\n",
      "Epoch 14/20\n",
      " - 1s - loss: 0.4789 - acc: 0.8000\n",
      "Epoch 15/20\n",
      " - 1s - loss: 0.4700 - acc: 0.8027\n",
      "Epoch 16/20\n",
      " - 1s - loss: 0.4776 - acc: 0.7942\n",
      "Epoch 17/20\n",
      " - 1s - loss: 0.4760 - acc: 0.7969\n",
      "Epoch 18/20\n",
      " - 1s - loss: 0.4644 - acc: 0.8000\n",
      "Epoch 19/20\n",
      " - 1s - loss: 0.4693 - acc: 0.7987\n",
      "Epoch 20/20\n",
      " - 1s - loss: 0.4841 - acc: 0.7964\n",
      "0.24\n",
      "_________________________________________________________________\n",
      "Layer (type)                 Output Shape              Param #   \n",
      "=================================================================\n",
      "embedding_41 (Embedding)     (None, 24, 300)           740100    \n",
      "_________________________________________________________________\n",
      "bidirectional_17 (Bidirectio (None, 512)               1140736   \n",
      "_________________________________________________________________\n",
      "dropout_58 (Dropout)         (None, 512)               0         \n",
      "_________________________________________________________________\n",
      "dense_50 (Dense)             (None, 5)                 2565      \n",
      "=================================================================\n",
      "Total params: 1,883,401\n",
      "Trainable params: 1,143,301\n",
      "Non-trainable params: 740,100\n",
      "_________________________________________________________________\n",
      "None\n",
      "Epoch 1/5\n",
      " - 12s - loss: 0.4959 - acc: 0.8000\n",
      "Epoch 2/5\n",
      " - 7s - loss: 0.4882 - acc: 0.8000\n",
      "Epoch 3/5\n",
      " - 4s - loss: 0.4822 - acc: 0.8000\n",
      "Epoch 4/5\n",
      " - 4s - loss: 0.4778 - acc: 0.8000\n",
      "Epoch 5/5\n",
      " - 4s - loss: 0.4695 - acc: 0.8013\n",
      "0.32\n",
      "_________________________________________________________________\n",
      "Layer (type)                 Output Shape              Param #   \n",
      "=================================================================\n",
      "embedding_42 (Embedding)     (None, 24, 300)           740100    \n",
      "_________________________________________________________________\n",
      "conv1d_26 (Conv1D)           (None, 24, 100)           30100     \n",
      "_________________________________________________________________\n",
      "dropout_59 (Dropout)         (None, 24, 100)           0         \n",
      "_________________________________________________________________\n",
      "max_pooling1d_17 (MaxPooling (None, 12, 100)           0         \n",
      "_________________________________________________________________\n",
      "lstm_33 (LSTM)               (None, 64)                42240     \n",
      "_________________________________________________________________\n",
      "dropout_60 (Dropout)         (None, 64)                0         \n",
      "_________________________________________________________________\n",
      "dense_51 (Dense)             (None, 5)                 325       \n",
      "=================================================================\n",
      "Total params: 812,765\n",
      "Trainable params: 72,665\n",
      "Non-trainable params: 740,100\n",
      "_________________________________________________________________\n",
      "None\n",
      "Epoch 1/10\n",
      " - 5s - loss: 0.4940 - acc: 0.8000\n",
      "Epoch 2/10\n",
      " - 1s - loss: 0.4885 - acc: 0.8009\n",
      "Epoch 3/10\n",
      " - 1s - loss: 0.4709 - acc: 0.8009\n",
      "Epoch 4/10\n",
      " - 1s - loss: 0.4416 - acc: 0.7991\n",
      "Epoch 5/10\n",
      " - 1s - loss: 0.4067 - acc: 0.8098\n",
      "Epoch 6/10\n",
      " - 1s - loss: 0.3927 - acc: 0.8191\n",
      "Epoch 7/10\n",
      " - 1s - loss: 0.3600 - acc: 0.8333\n",
      "Epoch 8/10\n",
      " - 1s - loss: 0.3111 - acc: 0.8649\n",
      "Epoch 9/10\n",
      " - 1s - loss: 0.2831 - acc: 0.8809\n",
      "Epoch 10/10\n",
      " - 1s - loss: 0.2619 - acc: 0.8871\n",
      "0.38\n",
      "_________________________________________________________________\n",
      "Layer (type)                 Output Shape              Param #   \n",
      "=================================================================\n",
      "embedding_43 (Embedding)     (None, 24, 300)           740100    \n",
      "_________________________________________________________________\n",
      "conv1d_27 (Conv1D)           (None, 24, 100)           30100     \n",
      "_________________________________________________________________\n",
      "dropout_61 (Dropout)         (None, 24, 100)           0         \n",
      "_________________________________________________________________\n",
      "max_pooling1d_18 (MaxPooling (None, 12, 100)           0         \n",
      "_________________________________________________________________\n",
      "bidirectional_18 (Bidirectio (None, 128)               84480     \n",
      "_________________________________________________________________\n",
      "dropout_62 (Dropout)         (None, 128)               0         \n",
      "_________________________________________________________________\n",
      "dense_52 (Dense)             (None, 5)                 645       \n",
      "=================================================================\n",
      "Total params: 855,325\n",
      "Trainable params: 115,225\n",
      "Non-trainable params: 740,100\n",
      "_________________________________________________________________\n",
      "None\n",
      "Epoch 1/5\n",
      " - 6s - loss: 0.4925 - acc: 0.8000\n",
      "Epoch 2/5\n",
      " - 1s - loss: 0.4782 - acc: 0.8000\n",
      "Epoch 3/5\n",
      " - 1s - loss: 0.4464 - acc: 0.8004\n",
      "Epoch 4/5\n",
      " - 1s - loss: 0.4101 - acc: 0.8133\n",
      "Epoch 5/5\n",
      " - 1s - loss: 0.3839 - acc: 0.8196\n",
      "0.32\n",
      "----------------------itr = 5--------------\n",
      "_________________________________________________________________\n",
      "Layer (type)                 Output Shape              Param #   \n",
      "=================================================================\n",
      "embedding_44 (Embedding)     (None, 24, 300)           735300    \n",
      "_________________________________________________________________\n",
      "dropout_63 (Dropout)         (None, 24, 300)           0         \n",
      "_________________________________________________________________\n",
      "conv1d_28 (Conv1D)           (None, 19, 100)           180100    \n",
      "_________________________________________________________________\n",
      "global_max_pooling1d_10 (Glo (None, 100)               0         \n",
      "_________________________________________________________________\n",
      "dense_53 (Dense)             (None, 200)               20200     \n",
      "_________________________________________________________________\n",
      "dropout_64 (Dropout)         (None, 200)               0         \n",
      "_________________________________________________________________\n",
      "activation_19 (Activation)   (None, 200)               0         \n",
      "_________________________________________________________________\n",
      "dense_54 (Dense)             (None, 5)                 1005      \n",
      "_________________________________________________________________\n",
      "activation_20 (Activation)   (None, 5)                 0         \n",
      "=================================================================\n",
      "Total params: 936,605\n",
      "Trainable params: 936,605\n",
      "Non-trainable params: 0\n",
      "_________________________________________________________________\n",
      "None\n",
      "Epoch 1/10\n",
      " - 6s - loss: 0.5118 - acc: 0.7991\n",
      "Epoch 2/10\n",
      " - 1s - loss: 0.5001 - acc: 0.7978\n",
      "Epoch 3/10\n",
      " - 1s - loss: 0.5037 - acc: 0.7973\n",
      "Epoch 4/10\n",
      " - 1s - loss: 0.4962 - acc: 0.8000\n",
      "Epoch 5/10\n",
      " - 1s - loss: 0.4944 - acc: 0.8000\n",
      "Epoch 6/10\n",
      " - 1s - loss: 0.4899 - acc: 0.7987\n"
     ]
    },
    {
     "name": "stdout",
     "output_type": "stream",
     "text": [
      "Epoch 7/10\n",
      " - 1s - loss: 0.4893 - acc: 0.7991\n",
      "Epoch 8/10\n",
      " - 1s - loss: 0.4828 - acc: 0.7996\n",
      "Epoch 9/10\n",
      " - 1s - loss: 0.4816 - acc: 0.8004\n",
      "Epoch 10/10\n",
      " - 1s - loss: 0.4749 - acc: 0.8009\n",
      "0.30612244897959184\n",
      "_________________________________________________________________\n",
      "Layer (type)                 Output Shape              Param #   \n",
      "=================================================================\n",
      "embedding_45 (Embedding)     (None, 24, 300)           735300    \n",
      "_________________________________________________________________\n",
      "lstm_35 (LSTM)               (None, 128)               219648    \n",
      "_________________________________________________________________\n",
      "dense_55 (Dense)             (None, 5)                 645       \n",
      "=================================================================\n",
      "Total params: 955,593\n",
      "Trainable params: 220,293\n",
      "Non-trainable params: 735,300\n",
      "_________________________________________________________________\n",
      "None\n",
      "Epoch 1/20\n",
      " - 6s - loss: 0.4933 - acc: 0.8000\n",
      "Epoch 2/20\n",
      " - 1s - loss: 0.5019 - acc: 0.7929\n",
      "Epoch 3/20\n",
      " - 1s - loss: 0.4924 - acc: 0.8000\n",
      "Epoch 4/20\n",
      " - 1s - loss: 0.4914 - acc: 0.8000\n",
      "Epoch 5/20\n",
      " - 1s - loss: 0.4898 - acc: 0.7991\n",
      "Epoch 6/20\n",
      " - 1s - loss: 0.4915 - acc: 0.8000\n",
      "Epoch 7/20\n",
      " - 1s - loss: 0.4872 - acc: 0.8004\n",
      "Epoch 8/20\n",
      " - 1s - loss: 0.4854 - acc: 0.8000\n",
      "Epoch 9/20\n",
      " - 1s - loss: 0.4829 - acc: 0.8000\n",
      "Epoch 10/20\n",
      " - 1s - loss: 0.4833 - acc: 0.7996\n",
      "Epoch 11/20\n",
      " - 1s - loss: 0.4782 - acc: 0.7996\n",
      "Epoch 12/20\n",
      " - 1s - loss: 0.4838 - acc: 0.7956\n",
      "Epoch 13/20\n",
      " - 1s - loss: 0.4778 - acc: 0.7991\n",
      "Epoch 14/20\n",
      " - 1s - loss: 0.4795 - acc: 0.7987\n",
      "Epoch 15/20\n",
      " - 1s - loss: 0.4811 - acc: 0.8000\n",
      "Epoch 16/20\n",
      " - 1s - loss: 0.4757 - acc: 0.7991\n",
      "Epoch 17/20\n",
      " - 1s - loss: 0.4695 - acc: 0.7969\n",
      "Epoch 18/20\n",
      " - 1s - loss: 0.4636 - acc: 0.8004\n",
      "Epoch 19/20\n",
      " - 1s - loss: 0.4813 - acc: 0.7969\n",
      "Epoch 20/20\n",
      " - 1s - loss: 0.4670 - acc: 0.7973\n",
      "0.2653061224489796\n",
      "_________________________________________________________________\n",
      "Layer (type)                 Output Shape              Param #   \n",
      "=================================================================\n",
      "embedding_46 (Embedding)     (None, 24, 300)           735300    \n",
      "_________________________________________________________________\n",
      "bidirectional_19 (Bidirectio (None, 512)               1140736   \n",
      "_________________________________________________________________\n",
      "dropout_65 (Dropout)         (None, 512)               0         \n",
      "_________________________________________________________________\n",
      "dense_56 (Dense)             (None, 5)                 2565      \n",
      "=================================================================\n",
      "Total params: 1,878,601\n",
      "Trainable params: 1,143,301\n",
      "Non-trainable params: 735,300\n",
      "_________________________________________________________________\n",
      "None\n",
      "Epoch 1/5\n",
      " - 10s - loss: 0.4971 - acc: 0.8000\n",
      "Epoch 2/5\n",
      " - 5s - loss: 0.4867 - acc: 0.8000\n",
      "Epoch 3/5\n",
      " - 5s - loss: 0.4798 - acc: 0.8000\n",
      "Epoch 4/5\n",
      " - 4s - loss: 0.4768 - acc: 0.7996\n",
      "Epoch 5/5\n",
      " - 4s - loss: 0.4683 - acc: 0.8000\n",
      "0.3469387755102041\n",
      "_________________________________________________________________\n",
      "Layer (type)                 Output Shape              Param #   \n",
      "=================================================================\n",
      "embedding_47 (Embedding)     (None, 24, 300)           735300    \n",
      "_________________________________________________________________\n",
      "conv1d_29 (Conv1D)           (None, 24, 100)           30100     \n",
      "_________________________________________________________________\n",
      "dropout_66 (Dropout)         (None, 24, 100)           0         \n",
      "_________________________________________________________________\n",
      "max_pooling1d_19 (MaxPooling (None, 12, 100)           0         \n",
      "_________________________________________________________________\n",
      "lstm_37 (LSTM)               (None, 64)                42240     \n",
      "_________________________________________________________________\n",
      "dropout_67 (Dropout)         (None, 64)                0         \n",
      "_________________________________________________________________\n",
      "dense_57 (Dense)             (None, 5)                 325       \n",
      "=================================================================\n",
      "Total params: 807,965\n",
      "Trainable params: 72,665\n",
      "Non-trainable params: 735,300\n",
      "_________________________________________________________________\n",
      "None\n",
      "Epoch 1/10\n",
      " - 6s - loss: 0.4964 - acc: 0.8000\n",
      "Epoch 2/10\n",
      " - 1s - loss: 0.4902 - acc: 0.8000\n",
      "Epoch 3/10\n",
      " - 1s - loss: 0.4870 - acc: 0.8004\n",
      "Epoch 4/10\n",
      " - 1s - loss: 0.4744 - acc: 0.8013\n",
      "Epoch 5/10\n",
      " - 1s - loss: 0.4516 - acc: 0.8084\n",
      "Epoch 6/10\n",
      " - 1s - loss: 0.4026 - acc: 0.8262\n",
      "Epoch 7/10\n",
      " - 1s - loss: 0.3414 - acc: 0.8506\n",
      "Epoch 8/10\n",
      " - 1s - loss: 0.3180 - acc: 0.8670\n",
      "Epoch 9/10\n",
      " - 1s - loss: 0.2725 - acc: 0.8905\n",
      "Epoch 10/10\n",
      " - 1s - loss: 0.2250 - acc: 0.9064\n",
      "0.24489795918367346\n",
      "_________________________________________________________________\n",
      "Layer (type)                 Output Shape              Param #   \n",
      "=================================================================\n",
      "embedding_48 (Embedding)     (None, 24, 300)           735300    \n",
      "_________________________________________________________________\n",
      "conv1d_30 (Conv1D)           (None, 24, 100)           30100     \n",
      "_________________________________________________________________\n",
      "dropout_68 (Dropout)         (None, 24, 100)           0         \n",
      "_________________________________________________________________\n",
      "max_pooling1d_20 (MaxPooling (None, 12, 100)           0         \n",
      "_________________________________________________________________\n",
      "bidirectional_20 (Bidirectio (None, 128)               84480     \n",
      "_________________________________________________________________\n",
      "dropout_69 (Dropout)         (None, 128)               0         \n",
      "_________________________________________________________________\n",
      "dense_58 (Dense)             (None, 5)                 645       \n",
      "=================================================================\n",
      "Total params: 850,525\n",
      "Trainable params: 115,225\n",
      "Non-trainable params: 735,300\n",
      "_________________________________________________________________\n",
      "None\n",
      "Epoch 1/5\n",
      " - 6s - loss: 0.4911 - acc: 0.8004\n",
      "Epoch 2/5\n",
      " - 1s - loss: 0.4784 - acc: 0.8004\n",
      "Epoch 3/5\n",
      " - 1s - loss: 0.4491 - acc: 0.8013\n",
      "Epoch 4/5\n",
      " - 1s - loss: 0.4127 - acc: 0.8124\n",
      "Epoch 5/5\n",
      " - 1s - loss: 0.3731 - acc: 0.8297\n",
      "0.2653061224489796\n",
      "----------------------itr = 6--------------\n",
      "_________________________________________________________________\n",
      "Layer (type)                 Output Shape              Param #   \n",
      "=================================================================\n",
      "embedding_49 (Embedding)     (None, 24, 300)           737100    \n",
      "_________________________________________________________________\n",
      "dropout_70 (Dropout)         (None, 24, 300)           0         \n",
      "_________________________________________________________________\n",
      "conv1d_31 (Conv1D)           (None, 19, 100)           180100    \n",
      "_________________________________________________________________\n",
      "global_max_pooling1d_11 (Glo (None, 100)               0         \n",
      "_________________________________________________________________\n",
      "dense_59 (Dense)             (None, 200)               20200     \n",
      "_________________________________________________________________\n",
      "dropout_71 (Dropout)         (None, 200)               0         \n",
      "_________________________________________________________________\n",
      "activation_21 (Activation)   (None, 200)               0         \n",
      "_________________________________________________________________\n",
      "dense_60 (Dense)             (None, 5)                 1005      \n",
      "_________________________________________________________________\n",
      "activation_22 (Activation)   (None, 5)                 0         \n",
      "=================================================================\n",
      "Total params: 938,405\n",
      "Trainable params: 938,405\n",
      "Non-trainable params: 0\n",
      "_________________________________________________________________\n",
      "None\n",
      "Epoch 1/10\n",
      " - 8s - loss: 0.5156 - acc: 0.7978\n",
      "Epoch 2/10\n",
      " - 1s - loss: 0.5017 - acc: 0.7982\n",
      "Epoch 3/10\n",
      " - 1s - loss: 0.5035 - acc: 0.7973\n",
      "Epoch 4/10\n",
      " - 1s - loss: 0.4925 - acc: 0.7973\n",
      "Epoch 5/10\n",
      " - 1s - loss: 0.4913 - acc: 0.8009\n",
      "Epoch 6/10\n",
      " - 1s - loss: 0.4950 - acc: 0.8000\n",
      "Epoch 7/10\n",
      " - 1s - loss: 0.4885 - acc: 0.8000\n",
      "Epoch 8/10\n"
     ]
    },
    {
     "name": "stdout",
     "output_type": "stream",
     "text": [
      " - 2s - loss: 0.4915 - acc: 0.7991\n",
      "Epoch 9/10\n",
      " - 1s - loss: 0.4791 - acc: 0.8013\n",
      "Epoch 10/10\n",
      " - 1s - loss: 0.4787 - acc: 0.8004\n",
      "0.32653061224489793\n",
      "_________________________________________________________________\n",
      "Layer (type)                 Output Shape              Param #   \n",
      "=================================================================\n",
      "embedding_50 (Embedding)     (None, 24, 300)           737100    \n",
      "_________________________________________________________________\n",
      "lstm_39 (LSTM)               (None, 128)               219648    \n",
      "_________________________________________________________________\n",
      "dense_61 (Dense)             (None, 5)                 645       \n",
      "=================================================================\n",
      "Total params: 957,393\n",
      "Trainable params: 220,293\n",
      "Non-trainable params: 737,100\n",
      "_________________________________________________________________\n",
      "None\n",
      "Epoch 1/20\n",
      " - 8s - loss: 0.4978 - acc: 0.8000\n",
      "Epoch 2/20\n",
      " - 1s - loss: 0.4900 - acc: 0.7996\n",
      "Epoch 3/20\n",
      " - 1s - loss: 0.4912 - acc: 0.8000\n",
      "Epoch 4/20\n",
      " - 1s - loss: 0.4828 - acc: 0.8000\n",
      "Epoch 5/20\n",
      " - 1s - loss: 0.4843 - acc: 0.8000\n",
      "Epoch 6/20\n",
      " - 1s - loss: 0.4756 - acc: 0.8022\n",
      "Epoch 7/20\n",
      " - 1s - loss: 0.4978 - acc: 0.7907\n",
      "Epoch 8/20\n",
      " - 1s - loss: 0.4848 - acc: 0.7982\n",
      "Epoch 9/20\n",
      " - 1s - loss: 0.4694 - acc: 0.8009\n",
      "Epoch 10/20\n",
      " - 1s - loss: 0.4837 - acc: 0.7871\n",
      "Epoch 11/20\n",
      " - 1s - loss: 0.4687 - acc: 0.8004\n",
      "Epoch 12/20\n",
      " - 1s - loss: 0.4775 - acc: 0.7982\n",
      "Epoch 13/20\n",
      " - 1s - loss: 0.4644 - acc: 0.7987\n",
      "Epoch 14/20\n",
      " - 1s - loss: 0.4662 - acc: 0.7933\n",
      "Epoch 15/20\n",
      " - 1s - loss: 0.4750 - acc: 0.7907\n",
      "Epoch 16/20\n",
      " - 1s - loss: 0.4601 - acc: 0.8004\n",
      "Epoch 17/20\n",
      " - 1s - loss: 0.4657 - acc: 0.7933\n",
      "Epoch 18/20\n",
      " - 1s - loss: 0.4630 - acc: 0.7938\n",
      "Epoch 19/20\n",
      " - 1s - loss: 0.4755 - acc: 0.7960\n",
      "Epoch 20/20\n",
      " - 1s - loss: 0.4647 - acc: 0.7991\n",
      "0.3469387755102041\n",
      "_________________________________________________________________\n",
      "Layer (type)                 Output Shape              Param #   \n",
      "=================================================================\n",
      "embedding_51 (Embedding)     (None, 24, 300)           737100    \n",
      "_________________________________________________________________\n",
      "bidirectional_21 (Bidirectio (None, 512)               1140736   \n",
      "_________________________________________________________________\n",
      "dropout_72 (Dropout)         (None, 512)               0         \n",
      "_________________________________________________________________\n",
      "dense_62 (Dense)             (None, 5)                 2565      \n",
      "=================================================================\n",
      "Total params: 1,880,401\n",
      "Trainable params: 1,143,301\n",
      "Non-trainable params: 737,100\n",
      "_________________________________________________________________\n",
      "None\n",
      "Epoch 1/5\n",
      " - 13s - loss: 0.4968 - acc: 0.8000\n",
      "Epoch 2/5\n",
      " - 5s - loss: 0.4872 - acc: 0.8000\n",
      "Epoch 3/5\n",
      " - 6s - loss: 0.4830 - acc: 0.8000\n",
      "Epoch 4/5\n",
      " - 5s - loss: 0.4785 - acc: 0.8000\n",
      "Epoch 5/5\n",
      " - 6s - loss: 0.4714 - acc: 0.8004\n",
      "0.2857142857142857\n",
      "_________________________________________________________________\n",
      "Layer (type)                 Output Shape              Param #   \n",
      "=================================================================\n",
      "embedding_52 (Embedding)     (None, 24, 300)           737100    \n",
      "_________________________________________________________________\n",
      "conv1d_32 (Conv1D)           (None, 24, 100)           30100     \n",
      "_________________________________________________________________\n",
      "dropout_73 (Dropout)         (None, 24, 100)           0         \n",
      "_________________________________________________________________\n",
      "max_pooling1d_21 (MaxPooling (None, 12, 100)           0         \n",
      "_________________________________________________________________\n",
      "lstm_41 (LSTM)               (None, 64)                42240     \n",
      "_________________________________________________________________\n",
      "dropout_74 (Dropout)         (None, 64)                0         \n",
      "_________________________________________________________________\n",
      "dense_63 (Dense)             (None, 5)                 325       \n",
      "=================================================================\n",
      "Total params: 809,765\n",
      "Trainable params: 72,665\n",
      "Non-trainable params: 737,100\n",
      "_________________________________________________________________\n",
      "None\n",
      "Epoch 1/10\n",
      " - 8s - loss: 0.4944 - acc: 0.8000\n",
      "Epoch 2/10\n",
      " - 1s - loss: 0.4889 - acc: 0.8000\n",
      "Epoch 3/10\n",
      " - 1s - loss: 0.4848 - acc: 0.8004\n",
      "Epoch 4/10\n",
      " - 1s - loss: 0.4560 - acc: 0.8049\n",
      "Epoch 5/10\n",
      " - 1s - loss: 0.4246 - acc: 0.8106\n",
      "Epoch 6/10\n",
      " - 1s - loss: 0.3957 - acc: 0.8195\n",
      "Epoch 7/10\n",
      " - 1s - loss: 0.3698 - acc: 0.8328\n",
      "Epoch 8/10\n",
      " - 1s - loss: 0.3214 - acc: 0.8563\n",
      "Epoch 9/10\n",
      " - 1s - loss: 0.2853 - acc: 0.8807\n",
      "Epoch 10/10\n",
      " - 1s - loss: 0.2702 - acc: 0.8834\n",
      "0.32653061224489793\n",
      "_________________________________________________________________\n",
      "Layer (type)                 Output Shape              Param #   \n",
      "=================================================================\n",
      "embedding_53 (Embedding)     (None, 24, 300)           737100    \n",
      "_________________________________________________________________\n",
      "conv1d_33 (Conv1D)           (None, 24, 100)           30100     \n",
      "_________________________________________________________________\n",
      "dropout_75 (Dropout)         (None, 24, 100)           0         \n",
      "_________________________________________________________________\n",
      "max_pooling1d_22 (MaxPooling (None, 12, 100)           0         \n",
      "_________________________________________________________________\n",
      "bidirectional_22 (Bidirectio (None, 128)               84480     \n",
      "_________________________________________________________________\n",
      "dropout_76 (Dropout)         (None, 128)               0         \n",
      "_________________________________________________________________\n",
      "dense_64 (Dense)             (None, 5)                 645       \n",
      "=================================================================\n",
      "Total params: 852,325\n",
      "Trainable params: 115,225\n",
      "Non-trainable params: 737,100\n",
      "_________________________________________________________________\n",
      "None\n",
      "Epoch 1/5\n",
      " - 8s - loss: 0.4907 - acc: 0.7982\n",
      "Epoch 2/5\n",
      " - 1s - loss: 0.4790 - acc: 0.8000\n",
      "Epoch 3/5\n",
      " - 1s - loss: 0.4500 - acc: 0.8018\n",
      "Epoch 4/5\n",
      " - 1s - loss: 0.4043 - acc: 0.8195\n",
      "Epoch 5/5\n",
      " - 1s - loss: 0.3760 - acc: 0.8346\n",
      "0.32653061224489793\n",
      "----------------------itr = 7--------------\n",
      "_________________________________________________________________\n",
      "Layer (type)                 Output Shape              Param #   \n",
      "=================================================================\n",
      "embedding_54 (Embedding)     (None, 24, 300)           751500    \n",
      "_________________________________________________________________\n",
      "dropout_77 (Dropout)         (None, 24, 300)           0         \n",
      "_________________________________________________________________\n",
      "conv1d_34 (Conv1D)           (None, 19, 100)           180100    \n",
      "_________________________________________________________________\n",
      "global_max_pooling1d_12 (Glo (None, 100)               0         \n",
      "_________________________________________________________________\n",
      "dense_65 (Dense)             (None, 200)               20200     \n",
      "_________________________________________________________________\n",
      "dropout_78 (Dropout)         (None, 200)               0         \n",
      "_________________________________________________________________\n",
      "activation_23 (Activation)   (None, 200)               0         \n",
      "_________________________________________________________________\n",
      "dense_66 (Dense)             (None, 5)                 1005      \n",
      "_________________________________________________________________\n",
      "activation_24 (Activation)   (None, 5)                 0         \n",
      "=================================================================\n",
      "Total params: 952,805\n",
      "Trainable params: 952,805\n",
      "Non-trainable params: 0\n",
      "_________________________________________________________________\n",
      "None\n",
      "Epoch 1/10\n",
      " - 8s - loss: 0.5172 - acc: 0.7973\n",
      "Epoch 2/10\n",
      " - 1s - loss: 0.5033 - acc: 0.7978\n",
      "Epoch 3/10\n",
      " - 1s - loss: 0.4997 - acc: 0.7969\n",
      "Epoch 4/10\n",
      " - 1s - loss: 0.4923 - acc: 0.7951\n",
      "Epoch 5/10\n",
      " - 1s - loss: 0.4945 - acc: 0.7978\n",
      "Epoch 6/10\n",
      " - 1s - loss: 0.4834 - acc: 0.8000\n",
      "Epoch 7/10\n",
      " - 1s - loss: 0.4898 - acc: 0.7991\n",
      "Epoch 8/10\n",
      " - 1s - loss: 0.4912 - acc: 0.7987\n",
      "Epoch 9/10\n",
      " - 1s - loss: 0.4776 - acc: 0.8009\n"
     ]
    },
    {
     "name": "stdout",
     "output_type": "stream",
     "text": [
      "Epoch 10/10\n",
      " - 1s - loss: 0.4830 - acc: 0.8018\n",
      "0.2653061224489796\n",
      "_________________________________________________________________\n",
      "Layer (type)                 Output Shape              Param #   \n",
      "=================================================================\n",
      "embedding_55 (Embedding)     (None, 24, 300)           751500    \n",
      "_________________________________________________________________\n",
      "lstm_43 (LSTM)               (None, 128)               219648    \n",
      "_________________________________________________________________\n",
      "dense_67 (Dense)             (None, 5)                 645       \n",
      "=================================================================\n",
      "Total params: 971,793\n",
      "Trainable params: 220,293\n",
      "Non-trainable params: 751,500\n",
      "_________________________________________________________________\n",
      "None\n",
      "Epoch 1/20\n",
      " - 7s - loss: 0.4981 - acc: 0.8000\n",
      "Epoch 2/20\n",
      " - 1s - loss: 0.4908 - acc: 0.8000\n",
      "Epoch 3/20\n",
      " - 1s - loss: 0.4900 - acc: 0.8009\n",
      "Epoch 4/20\n",
      " - 1s - loss: 0.4932 - acc: 0.8000\n",
      "Epoch 5/20\n",
      " - 1s - loss: 0.4829 - acc: 0.7996\n",
      "Epoch 6/20\n",
      " - 1s - loss: 0.4789 - acc: 0.7969\n",
      "Epoch 7/20\n",
      " - 1s - loss: 0.4849 - acc: 0.7925\n",
      "Epoch 8/20\n",
      " - 1s - loss: 0.4849 - acc: 0.8009\n",
      "Epoch 9/20\n",
      " - 1s - loss: 0.4782 - acc: 0.8000\n",
      "Epoch 10/20\n",
      " - 1s - loss: 0.4796 - acc: 0.7951\n",
      "Epoch 11/20\n",
      " - 1s - loss: 0.4812 - acc: 0.7960\n",
      "Epoch 12/20\n",
      " - 1s - loss: 0.4702 - acc: 0.8009\n",
      "Epoch 13/20\n",
      " - 1s - loss: 0.4718 - acc: 0.7991\n",
      "Epoch 14/20\n",
      " - 1s - loss: 0.4708 - acc: 0.7938\n",
      "Epoch 15/20\n",
      " - 1s - loss: 0.4675 - acc: 0.7991\n",
      "Epoch 16/20\n",
      " - 1s - loss: 0.4701 - acc: 0.7987\n",
      "Epoch 17/20\n",
      " - 1s - loss: 0.4696 - acc: 0.8000\n",
      "Epoch 18/20\n",
      " - 1s - loss: 0.4576 - acc: 0.8013\n",
      "Epoch 19/20\n",
      " - 1s - loss: 0.4690 - acc: 0.7969\n",
      "Epoch 20/20\n",
      " - 1s - loss: 0.4792 - acc: 0.7973\n",
      "0.2857142857142857\n",
      "_________________________________________________________________\n",
      "Layer (type)                 Output Shape              Param #   \n",
      "=================================================================\n",
      "embedding_56 (Embedding)     (None, 24, 300)           751500    \n",
      "_________________________________________________________________\n",
      "bidirectional_23 (Bidirectio (None, 512)               1140736   \n",
      "_________________________________________________________________\n",
      "dropout_79 (Dropout)         (None, 512)               0         \n",
      "_________________________________________________________________\n",
      "dense_68 (Dense)             (None, 5)                 2565      \n",
      "=================================================================\n",
      "Total params: 1,894,801\n",
      "Trainable params: 1,143,301\n",
      "Non-trainable params: 751,500\n",
      "_________________________________________________________________\n",
      "None\n",
      "Epoch 1/5\n",
      " - 11s - loss: 0.4970 - acc: 0.8000\n",
      "Epoch 2/5\n",
      " - 5s - loss: 0.4896 - acc: 0.8000\n",
      "Epoch 3/5\n",
      " - 5s - loss: 0.4839 - acc: 0.8000\n",
      "Epoch 4/5\n",
      " - 5s - loss: 0.4783 - acc: 0.8000\n",
      "Epoch 5/5\n",
      " - 5s - loss: 0.4709 - acc: 0.8009\n",
      "0.2857142857142857\n",
      "_________________________________________________________________\n",
      "Layer (type)                 Output Shape              Param #   \n",
      "=================================================================\n",
      "embedding_57 (Embedding)     (None, 24, 300)           751500    \n",
      "_________________________________________________________________\n",
      "conv1d_35 (Conv1D)           (None, 24, 100)           30100     \n",
      "_________________________________________________________________\n",
      "dropout_80 (Dropout)         (None, 24, 100)           0         \n",
      "_________________________________________________________________\n",
      "max_pooling1d_23 (MaxPooling (None, 12, 100)           0         \n",
      "_________________________________________________________________\n",
      "lstm_45 (LSTM)               (None, 64)                42240     \n",
      "_________________________________________________________________\n",
      "dropout_81 (Dropout)         (None, 64)                0         \n",
      "_________________________________________________________________\n",
      "dense_69 (Dense)             (None, 5)                 325       \n",
      "=================================================================\n",
      "Total params: 824,165\n",
      "Trainable params: 72,665\n",
      "Non-trainable params: 751,500\n",
      "_________________________________________________________________\n",
      "None\n",
      "Epoch 1/10\n",
      " - 7s - loss: 0.4961 - acc: 0.8000\n",
      "Epoch 2/10\n",
      " - 1s - loss: 0.4909 - acc: 0.8000\n",
      "Epoch 3/10\n",
      " - 1s - loss: 0.4813 - acc: 0.8022\n",
      "Epoch 4/10\n",
      " - 1s - loss: 0.4757 - acc: 0.8013\n",
      "Epoch 5/10\n",
      " - 1s - loss: 0.4336 - acc: 0.8102\n",
      "Epoch 6/10\n",
      " - 1s - loss: 0.3989 - acc: 0.8186\n",
      "Epoch 7/10\n",
      " - 1s - loss: 0.3561 - acc: 0.8483\n",
      "Epoch 8/10\n",
      " - 1s - loss: 0.3181 - acc: 0.8572\n",
      "Epoch 9/10\n",
      " - 1s - loss: 0.2767 - acc: 0.8816\n",
      "Epoch 10/10\n",
      " - 1s - loss: 0.2627 - acc: 0.8896\n",
      "0.1836734693877551\n",
      "_________________________________________________________________\n",
      "Layer (type)                 Output Shape              Param #   \n",
      "=================================================================\n",
      "embedding_58 (Embedding)     (None, 24, 300)           751500    \n",
      "_________________________________________________________________\n",
      "conv1d_36 (Conv1D)           (None, 24, 100)           30100     \n",
      "_________________________________________________________________\n",
      "dropout_82 (Dropout)         (None, 24, 100)           0         \n",
      "_________________________________________________________________\n",
      "max_pooling1d_24 (MaxPooling (None, 12, 100)           0         \n",
      "_________________________________________________________________\n",
      "bidirectional_24 (Bidirectio (None, 128)               84480     \n",
      "_________________________________________________________________\n",
      "dropout_83 (Dropout)         (None, 128)               0         \n",
      "_________________________________________________________________\n",
      "dense_70 (Dense)             (None, 5)                 645       \n",
      "=================================================================\n",
      "Total params: 866,725\n",
      "Trainable params: 115,225\n",
      "Non-trainable params: 751,500\n",
      "_________________________________________________________________\n",
      "None\n",
      "Epoch 1/5\n",
      " - 8s - loss: 0.4929 - acc: 0.8000\n",
      "Epoch 2/5\n",
      " - 1s - loss: 0.4802 - acc: 0.8000\n",
      "Epoch 3/5\n",
      " - 1s - loss: 0.4527 - acc: 0.8031\n",
      "Epoch 4/5\n",
      " - 1s - loss: 0.4050 - acc: 0.8142\n",
      "Epoch 5/5\n",
      " - 1s - loss: 0.3608 - acc: 0.8399\n",
      "0.3469387755102041\n",
      "----------------------itr = 8--------------\n",
      "_________________________________________________________________\n",
      "Layer (type)                 Output Shape              Param #   \n",
      "=================================================================\n",
      "embedding_59 (Embedding)     (None, 24, 300)           742500    \n",
      "_________________________________________________________________\n",
      "dropout_84 (Dropout)         (None, 24, 300)           0         \n",
      "_________________________________________________________________\n",
      "conv1d_37 (Conv1D)           (None, 19, 100)           180100    \n",
      "_________________________________________________________________\n",
      "global_max_pooling1d_13 (Glo (None, 100)               0         \n",
      "_________________________________________________________________\n",
      "dense_71 (Dense)             (None, 200)               20200     \n",
      "_________________________________________________________________\n",
      "dropout_85 (Dropout)         (None, 200)               0         \n",
      "_________________________________________________________________\n",
      "activation_25 (Activation)   (None, 200)               0         \n",
      "_________________________________________________________________\n",
      "dense_72 (Dense)             (None, 5)                 1005      \n",
      "_________________________________________________________________\n",
      "activation_26 (Activation)   (None, 5)                 0         \n",
      "=================================================================\n",
      "Total params: 943,805\n",
      "Trainable params: 943,805\n",
      "Non-trainable params: 0\n",
      "_________________________________________________________________\n",
      "None\n",
      "Epoch 1/10\n",
      " - 8s - loss: 0.5122 - acc: 0.7987\n",
      "Epoch 2/10\n",
      " - 1s - loss: 0.4949 - acc: 0.7973\n",
      "Epoch 3/10\n",
      " - 1s - loss: 0.4989 - acc: 0.7996\n",
      "Epoch 4/10\n",
      " - 1s - loss: 0.4926 - acc: 0.7978\n",
      "Epoch 5/10\n",
      " - 1s - loss: 0.4867 - acc: 0.8013\n",
      "Epoch 6/10\n",
      " - 1s - loss: 0.4848 - acc: 0.7987\n",
      "Epoch 7/10\n",
      " - 1s - loss: 0.4855 - acc: 0.8000\n",
      "Epoch 8/10\n",
      " - 1s - loss: 0.4819 - acc: 0.8000\n",
      "Epoch 9/10\n",
      " - 1s - loss: 0.4846 - acc: 0.7991\n",
      "Epoch 10/10\n",
      " - 1s - loss: 0.4831 - acc: 0.8000\n",
      "0.3469387755102041\n"
     ]
    },
    {
     "name": "stdout",
     "output_type": "stream",
     "text": [
      "_________________________________________________________________\n",
      "Layer (type)                 Output Shape              Param #   \n",
      "=================================================================\n",
      "embedding_60 (Embedding)     (None, 24, 300)           742500    \n",
      "_________________________________________________________________\n",
      "lstm_47 (LSTM)               (None, 128)               219648    \n",
      "_________________________________________________________________\n",
      "dense_73 (Dense)             (None, 5)                 645       \n",
      "=================================================================\n",
      "Total params: 962,793\n",
      "Trainable params: 220,293\n",
      "Non-trainable params: 742,500\n",
      "_________________________________________________________________\n",
      "None\n",
      "Epoch 1/20\n",
      " - 8s - loss: 0.4985 - acc: 0.8000\n",
      "Epoch 2/20\n",
      " - 1s - loss: 0.4898 - acc: 0.8004\n",
      "Epoch 3/20\n",
      " - 1s - loss: 0.4920 - acc: 0.7996\n",
      "Epoch 4/20\n",
      " - 1s - loss: 0.4889 - acc: 0.8000\n",
      "Epoch 5/20\n",
      " - 1s - loss: 0.4891 - acc: 0.8000\n",
      "Epoch 6/20\n",
      " - 1s - loss: 0.4847 - acc: 0.7973\n",
      "Epoch 7/20\n",
      " - 1s - loss: 0.4837 - acc: 0.7996\n",
      "Epoch 8/20\n",
      " - 1s - loss: 0.4771 - acc: 0.7973\n",
      "Epoch 9/20\n",
      " - 1s - loss: 0.4723 - acc: 0.8013\n",
      "Epoch 10/20\n",
      " - 1s - loss: 0.4739 - acc: 0.7996\n",
      "Epoch 11/20\n",
      " - 1s - loss: 0.4725 - acc: 0.7991\n",
      "Epoch 12/20\n",
      " - 1s - loss: 0.4787 - acc: 0.7898\n",
      "Epoch 13/20\n",
      " - 1s - loss: 0.4688 - acc: 0.7965\n",
      "Epoch 14/20\n",
      " - 1s - loss: 0.4670 - acc: 0.7951\n",
      "Epoch 15/20\n",
      " - 1s - loss: 0.4758 - acc: 0.7889\n",
      "Epoch 16/20\n",
      " - 1s - loss: 0.4709 - acc: 0.8000\n",
      "Epoch 17/20\n",
      " - 1s - loss: 0.4749 - acc: 0.7929\n",
      "Epoch 18/20\n",
      " - 1s - loss: 0.4595 - acc: 0.8004\n",
      "Epoch 19/20\n",
      " - 1s - loss: 0.4665 - acc: 0.7973\n",
      "Epoch 20/20\n",
      " - 1s - loss: 0.4595 - acc: 0.8013\n",
      "0.24489795918367346\n",
      "_________________________________________________________________\n",
      "Layer (type)                 Output Shape              Param #   \n",
      "=================================================================\n",
      "embedding_61 (Embedding)     (None, 24, 300)           742500    \n",
      "_________________________________________________________________\n",
      "bidirectional_25 (Bidirectio (None, 512)               1140736   \n",
      "_________________________________________________________________\n",
      "dropout_86 (Dropout)         (None, 512)               0         \n",
      "_________________________________________________________________\n",
      "dense_74 (Dense)             (None, 5)                 2565      \n",
      "=================================================================\n",
      "Total params: 1,885,801\n",
      "Trainable params: 1,143,301\n",
      "Non-trainable params: 742,500\n",
      "_________________________________________________________________\n",
      "None\n",
      "Epoch 1/5\n",
      " - 12s - loss: 0.4984 - acc: 0.8000\n",
      "Epoch 2/5\n",
      " - 5s - loss: 0.4894 - acc: 0.8000\n",
      "Epoch 3/5\n",
      " - 5s - loss: 0.4847 - acc: 0.8000\n",
      "Epoch 4/5\n",
      " - 5s - loss: 0.4798 - acc: 0.8000\n",
      "Epoch 5/5\n",
      " - 5s - loss: 0.4706 - acc: 0.8000\n",
      "0.32653061224489793\n",
      "_________________________________________________________________\n",
      "Layer (type)                 Output Shape              Param #   \n",
      "=================================================================\n",
      "embedding_62 (Embedding)     (None, 24, 300)           742500    \n",
      "_________________________________________________________________\n",
      "conv1d_38 (Conv1D)           (None, 24, 100)           30100     \n",
      "_________________________________________________________________\n",
      "dropout_87 (Dropout)         (None, 24, 100)           0         \n",
      "_________________________________________________________________\n",
      "max_pooling1d_25 (MaxPooling (None, 12, 100)           0         \n",
      "_________________________________________________________________\n",
      "lstm_49 (LSTM)               (None, 64)                42240     \n",
      "_________________________________________________________________\n",
      "dropout_88 (Dropout)         (None, 64)                0         \n",
      "_________________________________________________________________\n",
      "dense_75 (Dense)             (None, 5)                 325       \n",
      "=================================================================\n",
      "Total params: 815,165\n",
      "Trainable params: 72,665\n",
      "Non-trainable params: 742,500\n",
      "_________________________________________________________________\n",
      "None\n",
      "Epoch 1/10\n",
      " - 9s - loss: 0.4964 - acc: 0.7996\n",
      "Epoch 2/10\n",
      " - 1s - loss: 0.4885 - acc: 0.8004\n",
      "Epoch 3/10\n",
      " - 1s - loss: 0.4802 - acc: 0.8000\n",
      "Epoch 4/10\n",
      " - 1s - loss: 0.4511 - acc: 0.8031\n",
      "Epoch 5/10\n",
      " - 1s - loss: 0.4224 - acc: 0.8080\n",
      "Epoch 6/10\n",
      " - 1s - loss: 0.3754 - acc: 0.8288\n",
      "Epoch 7/10\n",
      " - 1s - loss: 0.3524 - acc: 0.8519\n",
      "Epoch 8/10\n",
      " - 1s - loss: 0.3250 - acc: 0.8625\n",
      "Epoch 9/10\n",
      " - 1s - loss: 0.2969 - acc: 0.8705\n",
      "Epoch 10/10\n",
      " - 1s - loss: 0.2516 - acc: 0.8918\n",
      "0.40816326530612246\n",
      "_________________________________________________________________\n",
      "Layer (type)                 Output Shape              Param #   \n",
      "=================================================================\n",
      "embedding_63 (Embedding)     (None, 24, 300)           742500    \n",
      "_________________________________________________________________\n",
      "conv1d_39 (Conv1D)           (None, 24, 100)           30100     \n",
      "_________________________________________________________________\n",
      "dropout_89 (Dropout)         (None, 24, 100)           0         \n",
      "_________________________________________________________________\n",
      "max_pooling1d_26 (MaxPooling (None, 12, 100)           0         \n",
      "_________________________________________________________________\n",
      "bidirectional_26 (Bidirectio (None, 128)               84480     \n",
      "_________________________________________________________________\n",
      "dropout_90 (Dropout)         (None, 128)               0         \n",
      "_________________________________________________________________\n",
      "dense_76 (Dense)             (None, 5)                 645       \n",
      "=================================================================\n",
      "Total params: 857,725\n",
      "Trainable params: 115,225\n",
      "Non-trainable params: 742,500\n",
      "_________________________________________________________________\n",
      "None\n",
      "Epoch 1/5\n",
      " - 9s - loss: 0.4927 - acc: 0.8000\n",
      "Epoch 2/5\n",
      " - 1s - loss: 0.4790 - acc: 0.8000\n",
      "Epoch 3/5\n",
      " - 1s - loss: 0.4511 - acc: 0.8022\n",
      "Epoch 4/5\n",
      " - 1s - loss: 0.3994 - acc: 0.8160\n",
      "Epoch 5/5\n",
      " - 1s - loss: 0.3521 - acc: 0.8408\n",
      "0.2857142857142857\n",
      "----------------------itr = 9--------------\n",
      "_________________________________________________________________\n",
      "Layer (type)                 Output Shape              Param #   \n",
      "=================================================================\n",
      "embedding_64 (Embedding)     (None, 24, 300)           723900    \n",
      "_________________________________________________________________\n",
      "dropout_91 (Dropout)         (None, 24, 300)           0         \n",
      "_________________________________________________________________\n",
      "conv1d_40 (Conv1D)           (None, 19, 100)           180100    \n",
      "_________________________________________________________________\n",
      "global_max_pooling1d_14 (Glo (None, 100)               0         \n",
      "_________________________________________________________________\n",
      "dense_77 (Dense)             (None, 200)               20200     \n",
      "_________________________________________________________________\n",
      "dropout_92 (Dropout)         (None, 200)               0         \n",
      "_________________________________________________________________\n",
      "activation_27 (Activation)   (None, 200)               0         \n",
      "_________________________________________________________________\n",
      "dense_78 (Dense)             (None, 5)                 1005      \n",
      "_________________________________________________________________\n",
      "activation_28 (Activation)   (None, 5)                 0         \n",
      "=================================================================\n",
      "Total params: 925,205\n",
      "Trainable params: 925,205\n",
      "Non-trainable params: 0\n",
      "_________________________________________________________________\n",
      "None\n",
      "Epoch 1/10\n",
      " - 11s - loss: 0.5185 - acc: 0.7951\n",
      "Epoch 2/10\n",
      " - 1s - loss: 0.5054 - acc: 0.8000\n",
      "Epoch 3/10\n",
      " - 1s - loss: 0.5003 - acc: 0.7978\n",
      "Epoch 4/10\n",
      " - 1s - loss: 0.4977 - acc: 0.7982\n",
      "Epoch 5/10\n",
      " - 1s - loss: 0.4904 - acc: 0.7991\n",
      "Epoch 6/10\n",
      " - 1s - loss: 0.4915 - acc: 0.7987\n",
      "Epoch 7/10\n",
      " - 1s - loss: 0.4940 - acc: 0.7978\n",
      "Epoch 8/10\n",
      " - 1s - loss: 0.4845 - acc: 0.7987\n",
      "Epoch 9/10\n",
      " - 1s - loss: 0.4865 - acc: 0.8000\n",
      "Epoch 10/10\n",
      " - 1s - loss: 0.4792 - acc: 0.8018\n",
      "0.2653061224489796\n",
      "_________________________________________________________________\n",
      "Layer (type)                 Output Shape              Param #   \n",
      "=================================================================\n",
      "embedding_65 (Embedding)     (None, 24, 300)           723900    \n",
      "_________________________________________________________________\n",
      "lstm_51 (LSTM)               (None, 128)               219648    \n",
      "_________________________________________________________________\n",
      "dense_79 (Dense)             (None, 5)                 645       \n",
      "=================================================================\n",
      "Total params: 944,193\n",
      "Trainable params: 220,293\n",
      "Non-trainable params: 723,900\n",
      "_________________________________________________________________\n",
      "None\n"
     ]
    },
    {
     "name": "stdout",
     "output_type": "stream",
     "text": [
      "Epoch 1/20\n",
      " - 9s - loss: 0.4979 - acc: 0.8000\n",
      "Epoch 2/20\n",
      " - 1s - loss: 0.4897 - acc: 0.8009\n",
      "Epoch 3/20\n",
      " - 1s - loss: 0.4919 - acc: 0.8000\n",
      "Epoch 4/20\n",
      " - 1s - loss: 0.4898 - acc: 0.8009\n",
      "Epoch 5/20\n",
      " - 1s - loss: 0.4900 - acc: 0.7996\n",
      "Epoch 6/20\n",
      " - 1s - loss: 0.4870 - acc: 0.8000\n",
      "Epoch 7/20\n",
      " - 1s - loss: 0.4883 - acc: 0.7991\n",
      "Epoch 8/20\n",
      " - 1s - loss: 0.4887 - acc: 0.8004\n",
      "Epoch 9/20\n",
      " - 1s - loss: 0.4817 - acc: 0.8004\n",
      "Epoch 10/20\n",
      " - 1s - loss: 0.4833 - acc: 0.7951\n",
      "Epoch 11/20\n",
      " - 1s - loss: 0.4876 - acc: 0.7947\n",
      "Epoch 12/20\n",
      " - 1s - loss: 0.4801 - acc: 0.7991\n",
      "Epoch 13/20\n",
      " - 1s - loss: 0.4748 - acc: 0.8004\n",
      "Epoch 14/20\n",
      " - 1s - loss: 0.4727 - acc: 0.8004\n",
      "Epoch 15/20\n",
      " - 1s - loss: 0.4709 - acc: 0.8004\n",
      "Epoch 16/20\n",
      " - 1s - loss: 0.4822 - acc: 0.7973\n",
      "Epoch 17/20\n",
      " - 1s - loss: 0.4734 - acc: 0.7951\n",
      "Epoch 18/20\n",
      " - 1s - loss: 0.4747 - acc: 0.7965\n",
      "Epoch 19/20\n",
      " - 1s - loss: 0.4674 - acc: 0.7987\n",
      "Epoch 20/20\n",
      " - 1s - loss: 0.4558 - acc: 0.8040\n",
      "0.24489795918367346\n",
      "_________________________________________________________________\n",
      "Layer (type)                 Output Shape              Param #   \n",
      "=================================================================\n",
      "embedding_66 (Embedding)     (None, 24, 300)           723900    \n",
      "_________________________________________________________________\n",
      "bidirectional_27 (Bidirectio (None, 512)               1140736   \n",
      "_________________________________________________________________\n",
      "dropout_93 (Dropout)         (None, 512)               0         \n",
      "_________________________________________________________________\n",
      "dense_80 (Dense)             (None, 5)                 2565      \n",
      "=================================================================\n",
      "Total params: 1,867,201\n",
      "Trainable params: 1,143,301\n",
      "Non-trainable params: 723,900\n",
      "_________________________________________________________________\n",
      "None\n",
      "Epoch 1/5\n",
      " - 16s - loss: 0.4979 - acc: 0.8000\n",
      "Epoch 2/5\n",
      " - 6s - loss: 0.4900 - acc: 0.8000\n",
      "Epoch 3/5\n",
      " - 6s - loss: 0.4839 - acc: 0.8000\n",
      "Epoch 4/5\n",
      " - 6s - loss: 0.4780 - acc: 0.8000\n",
      "Epoch 5/5\n",
      " - 6s - loss: 0.4602 - acc: 0.8040\n",
      "0.2857142857142857\n",
      "_________________________________________________________________\n",
      "Layer (type)                 Output Shape              Param #   \n",
      "=================================================================\n",
      "embedding_67 (Embedding)     (None, 24, 300)           723900    \n",
      "_________________________________________________________________\n",
      "conv1d_41 (Conv1D)           (None, 24, 100)           30100     \n",
      "_________________________________________________________________\n",
      "dropout_94 (Dropout)         (None, 24, 100)           0         \n",
      "_________________________________________________________________\n",
      "max_pooling1d_27 (MaxPooling (None, 12, 100)           0         \n",
      "_________________________________________________________________\n",
      "lstm_53 (LSTM)               (None, 64)                42240     \n",
      "_________________________________________________________________\n",
      "dropout_95 (Dropout)         (None, 64)                0         \n",
      "_________________________________________________________________\n",
      "dense_81 (Dense)             (None, 5)                 325       \n",
      "=================================================================\n",
      "Total params: 796,565\n",
      "Trainable params: 72,665\n",
      "Non-trainable params: 723,900\n",
      "_________________________________________________________________\n",
      "None\n",
      "Epoch 1/10\n",
      " - 11s - loss: 0.4951 - acc: 0.8000\n",
      "Epoch 2/10\n",
      " - 1s - loss: 0.4864 - acc: 0.8000\n",
      "Epoch 3/10\n",
      " - 1s - loss: 0.4680 - acc: 0.7987\n",
      "Epoch 4/10\n",
      " - 1s - loss: 0.4360 - acc: 0.8053\n",
      "Epoch 5/10\n",
      " - 1s - loss: 0.4045 - acc: 0.8093\n",
      "Epoch 6/10\n",
      " - 1s - loss: 0.3661 - acc: 0.8275\n",
      "Epoch 7/10\n",
      " - 1s - loss: 0.3533 - acc: 0.8390\n",
      "Epoch 8/10\n",
      " - 1s - loss: 0.3166 - acc: 0.8541\n",
      "Epoch 9/10\n",
      " - 1s - loss: 0.2801 - acc: 0.8736\n",
      "Epoch 10/10\n",
      " - 1s - loss: 0.3031 - acc: 0.8692\n",
      "0.3877551020408163\n",
      "_________________________________________________________________\n",
      "Layer (type)                 Output Shape              Param #   \n",
      "=================================================================\n",
      "embedding_68 (Embedding)     (None, 24, 300)           723900    \n",
      "_________________________________________________________________\n",
      "conv1d_42 (Conv1D)           (None, 24, 100)           30100     \n",
      "_________________________________________________________________\n",
      "dropout_96 (Dropout)         (None, 24, 100)           0         \n",
      "_________________________________________________________________\n",
      "max_pooling1d_28 (MaxPooling (None, 12, 100)           0         \n",
      "_________________________________________________________________\n",
      "bidirectional_28 (Bidirectio (None, 128)               84480     \n",
      "_________________________________________________________________\n",
      "dropout_97 (Dropout)         (None, 128)               0         \n",
      "_________________________________________________________________\n",
      "dense_82 (Dense)             (None, 5)                 645       \n",
      "=================================================================\n",
      "Total params: 839,125\n",
      "Trainable params: 115,225\n",
      "Non-trainable params: 723,900\n",
      "_________________________________________________________________\n",
      "None\n",
      "Epoch 1/5\n",
      " - 12s - loss: 0.4914 - acc: 0.8000\n",
      "Epoch 2/5\n",
      " - 1s - loss: 0.4783 - acc: 0.7978\n",
      "Epoch 3/5\n",
      " - 1s - loss: 0.4415 - acc: 0.8018\n",
      "Epoch 4/5\n",
      " - 1s - loss: 0.4125 - acc: 0.8106\n",
      "Epoch 5/5\n",
      " - 1s - loss: 0.3768 - acc: 0.8262\n",
      "0.3877551020408163\n",
      "----------------------itr = 10--------------\n",
      "_________________________________________________________________\n",
      "Layer (type)                 Output Shape              Param #   \n",
      "=================================================================\n",
      "embedding_69 (Embedding)     (None, 24, 300)           739500    \n",
      "_________________________________________________________________\n",
      "dropout_98 (Dropout)         (None, 24, 300)           0         \n",
      "_________________________________________________________________\n",
      "conv1d_43 (Conv1D)           (None, 19, 100)           180100    \n",
      "_________________________________________________________________\n",
      "global_max_pooling1d_15 (Glo (None, 100)               0         \n",
      "_________________________________________________________________\n",
      "dense_83 (Dense)             (None, 200)               20200     \n",
      "_________________________________________________________________\n",
      "dropout_99 (Dropout)         (None, 200)               0         \n",
      "_________________________________________________________________\n",
      "activation_29 (Activation)   (None, 200)               0         \n",
      "_________________________________________________________________\n",
      "dense_84 (Dense)             (None, 5)                 1005      \n",
      "_________________________________________________________________\n",
      "activation_30 (Activation)   (None, 5)                 0         \n",
      "=================================================================\n",
      "Total params: 940,805\n",
      "Trainable params: 940,805\n",
      "Non-trainable params: 0\n",
      "_________________________________________________________________\n",
      "None\n",
      "Epoch 1/10\n",
      " - 12s - loss: 0.5075 - acc: 0.7996\n",
      "Epoch 2/10\n",
      " - 1s - loss: 0.5009 - acc: 0.7965\n",
      "Epoch 3/10\n",
      " - 1s - loss: 0.5007 - acc: 0.7965\n",
      "Epoch 4/10\n",
      " - 2s - loss: 0.4950 - acc: 0.8004\n",
      "Epoch 5/10\n",
      " - 1s - loss: 0.4920 - acc: 0.7996\n",
      "Epoch 6/10\n",
      " - 1s - loss: 0.4885 - acc: 0.8000\n",
      "Epoch 7/10\n",
      " - 1s - loss: 0.4850 - acc: 0.7973\n",
      "Epoch 8/10\n",
      " - 1s - loss: 0.4891 - acc: 0.8000\n",
      "Epoch 9/10\n",
      " - 1s - loss: 0.4788 - acc: 0.8000\n",
      "Epoch 10/10\n",
      " - 1s - loss: 0.4801 - acc: 0.8009\n",
      "0.25\n",
      "_________________________________________________________________\n",
      "Layer (type)                 Output Shape              Param #   \n",
      "=================================================================\n",
      "embedding_70 (Embedding)     (None, 24, 300)           739500    \n",
      "_________________________________________________________________\n",
      "lstm_55 (LSTM)               (None, 128)               219648    \n",
      "_________________________________________________________________\n",
      "dense_85 (Dense)             (None, 5)                 645       \n",
      "=================================================================\n",
      "Total params: 959,793\n",
      "Trainable params: 220,293\n",
      "Non-trainable params: 739,500\n",
      "_________________________________________________________________\n",
      "None\n",
      "Epoch 1/20\n",
      " - 15s - loss: 0.4967 - acc: 0.8000\n",
      "Epoch 2/20\n",
      " - 1s - loss: 0.4904 - acc: 0.8004\n"
     ]
    },
    {
     "name": "stdout",
     "output_type": "stream",
     "text": [
      "Epoch 3/20\n",
      " - 1s - loss: 0.4872 - acc: 0.7991\n",
      "Epoch 4/20\n",
      " - 1s - loss: 0.4900 - acc: 0.8000\n",
      "Epoch 5/20\n",
      " - 1s - loss: 0.4857 - acc: 0.8009\n",
      "Epoch 6/20\n",
      " - 1s - loss: 0.4908 - acc: 0.8004\n",
      "Epoch 7/20\n",
      " - 1s - loss: 0.4873 - acc: 0.8000\n",
      "Epoch 8/20\n",
      " - 1s - loss: 0.4802 - acc: 0.8027\n",
      "Epoch 9/20\n",
      " - 1s - loss: 0.4807 - acc: 0.7982\n",
      "Epoch 10/20\n",
      " - 1s - loss: 0.4767 - acc: 0.7965\n",
      "Epoch 11/20\n",
      " - 1s - loss: 0.4819 - acc: 0.8004\n",
      "Epoch 12/20\n",
      " - 1s - loss: 0.4794 - acc: 0.7925\n",
      "Epoch 13/20\n",
      " - 1s - loss: 0.4765 - acc: 0.7978\n",
      "Epoch 14/20\n",
      " - 1s - loss: 0.4809 - acc: 0.8004\n",
      "Epoch 15/20\n",
      " - 1s - loss: 0.4709 - acc: 0.7965\n",
      "Epoch 16/20\n",
      " - 1s - loss: 0.4672 - acc: 0.7973\n",
      "Epoch 17/20\n",
      " - 1s - loss: 0.4690 - acc: 0.8004\n",
      "Epoch 18/20\n",
      " - 1s - loss: 0.4731 - acc: 0.7991\n",
      "Epoch 19/20\n",
      " - 1s - loss: 0.4763 - acc: 0.7912\n",
      "Epoch 20/20\n",
      " - 1s - loss: 0.4776 - acc: 0.7978\n",
      "0.25\n",
      "_________________________________________________________________\n",
      "Layer (type)                 Output Shape              Param #   \n",
      "=================================================================\n",
      "embedding_71 (Embedding)     (None, 24, 300)           739500    \n",
      "_________________________________________________________________\n",
      "bidirectional_29 (Bidirectio (None, 512)               1140736   \n",
      "_________________________________________________________________\n",
      "dropout_100 (Dropout)        (None, 512)               0         \n",
      "_________________________________________________________________\n",
      "dense_86 (Dense)             (None, 5)                 2565      \n",
      "=================================================================\n",
      "Total params: 1,882,801\n",
      "Trainable params: 1,143,301\n",
      "Non-trainable params: 739,500\n",
      "_________________________________________________________________\n",
      "None\n",
      "Epoch 1/5\n",
      " - 17s - loss: 0.4983 - acc: 0.8000\n",
      "Epoch 2/5\n",
      " - 7s - loss: 0.4889 - acc: 0.8000\n",
      "Epoch 3/5\n",
      " - 6s - loss: 0.4839 - acc: 0.8000\n",
      "Epoch 4/5\n",
      " - 6s - loss: 0.4815 - acc: 0.8004\n",
      "Epoch 5/5\n",
      " - 6s - loss: 0.4746 - acc: 0.8004\n",
      "0.3333333333333333\n",
      "_________________________________________________________________\n",
      "Layer (type)                 Output Shape              Param #   \n",
      "=================================================================\n",
      "embedding_72 (Embedding)     (None, 24, 300)           739500    \n",
      "_________________________________________________________________\n",
      "conv1d_44 (Conv1D)           (None, 24, 100)           30100     \n",
      "_________________________________________________________________\n",
      "dropout_101 (Dropout)        (None, 24, 100)           0         \n",
      "_________________________________________________________________\n",
      "max_pooling1d_29 (MaxPooling (None, 12, 100)           0         \n",
      "_________________________________________________________________\n",
      "lstm_57 (LSTM)               (None, 64)                42240     \n",
      "_________________________________________________________________\n",
      "dropout_102 (Dropout)        (None, 64)                0         \n",
      "_________________________________________________________________\n",
      "dense_87 (Dense)             (None, 5)                 325       \n",
      "=================================================================\n",
      "Total params: 812,165\n",
      "Trainable params: 72,665\n",
      "Non-trainable params: 739,500\n",
      "_________________________________________________________________\n",
      "None\n",
      "Epoch 1/10\n",
      " - 12s - loss: 0.4959 - acc: 0.8000\n",
      "Epoch 2/10\n",
      " - 1s - loss: 0.4888 - acc: 0.8000\n",
      "Epoch 3/10\n",
      " - 1s - loss: 0.4778 - acc: 0.7987\n",
      "Epoch 4/10\n",
      " - 1s - loss: 0.4449 - acc: 0.8004\n",
      "Epoch 5/10\n",
      " - 1s - loss: 0.4153 - acc: 0.8177\n",
      "Epoch 6/10\n",
      " - 1s - loss: 0.3910 - acc: 0.8150\n",
      "Epoch 7/10\n",
      " - 1s - loss: 0.3854 - acc: 0.8283\n",
      "Epoch 8/10\n",
      " - 1s - loss: 0.3405 - acc: 0.8504\n",
      "Epoch 9/10\n",
      " - 1s - loss: 0.3001 - acc: 0.8677\n",
      "Epoch 10/10\n",
      " - 1s - loss: 0.2924 - acc: 0.8704\n",
      "0.3125\n",
      "_________________________________________________________________\n",
      "Layer (type)                 Output Shape              Param #   \n",
      "=================================================================\n",
      "embedding_73 (Embedding)     (None, 24, 300)           739500    \n",
      "_________________________________________________________________\n",
      "conv1d_45 (Conv1D)           (None, 24, 100)           30100     \n",
      "_________________________________________________________________\n",
      "dropout_103 (Dropout)        (None, 24, 100)           0         \n",
      "_________________________________________________________________\n",
      "max_pooling1d_30 (MaxPooling (None, 12, 100)           0         \n",
      "_________________________________________________________________\n",
      "bidirectional_30 (Bidirectio (None, 128)               84480     \n",
      "_________________________________________________________________\n",
      "dropout_104 (Dropout)        (None, 128)               0         \n",
      "_________________________________________________________________\n",
      "dense_88 (Dense)             (None, 5)                 645       \n",
      "=================================================================\n",
      "Total params: 854,725\n",
      "Trainable params: 115,225\n",
      "Non-trainable params: 739,500\n",
      "_________________________________________________________________\n",
      "None\n",
      "Epoch 1/5\n",
      " - 12s - loss: 0.4949 - acc: 0.7991\n",
      "Epoch 2/5\n",
      " - 1s - loss: 0.4733 - acc: 0.8000\n",
      "Epoch 3/5\n",
      " - 2s - loss: 0.4497 - acc: 0.8009\n",
      "Epoch 4/5\n",
      " - 2s - loss: 0.4063 - acc: 0.8164\n",
      "Epoch 5/5\n",
      " - 1s - loss: 0.3794 - acc: 0.8261\n",
      "0.3541666666666667\n"
     ]
    }
   ],
   "source": [
    "for train,test in kfold.split(trainX,trainY):\n",
    "    print(\"----------------------itr = {}--------------\".format(count))\n",
    "    stacked_trainX = list(trainX[train])\n",
    "    stacked_trainY = list(trainY[train])\n",
    "    stacked_testX = list(trainX[test])\n",
    "    stacked_testY = list(trainY[test])\n",
    "    \n",
    "    tokenizer = create_tokenizer(stacked_trainX)\n",
    "    vocab_size = len(tokenizer.word_index) + 1\n",
    "    stacked_trainX = encode_text(tokenizer, stacked_trainX, max_len)\n",
    "    stacked_testX = encode_text(tokenizer, stacked_testX, max_len)\n",
    "    stacked_trainY = to_categorical(stacked_trainY,num_classes=number_of_classes)\n",
    "    \n",
    "    embedding_matrix_word2vec = get_word_embedding_matrix(word2vec_model,300)\n",
    "    \n",
    "    for i in stacked_testY:\n",
    "        stacked_metaY.append(i)\n",
    "        \n",
    "    temp = np.zeros((len(stacked_testY),5),dtype=np.int64)\n",
    "    \n",
    "    _,temp[:,0],_ = get_pred_of_model(init_cnn(),cnn_parameter['epoch'],cnn_parameter['batch'],stacked_trainX,stacked_trainY,stacked_testX,stacked_testY)\n",
    "    _,temp[:,1],_ = get_pred_of_model(init_lstm(),lstm_parameter['epoch'],lstm_parameter['batch'],stacked_trainX,stacked_trainY,stacked_testX,stacked_testY)\n",
    "    _,temp[:,2],_ = get_pred_of_model(init_bi_lstm(),bi_lstm_parameter['epoch'],bi_lstm_parameter['batch'],stacked_trainX,stacked_trainY,stacked_testX,stacked_testY)\n",
    "    _,temp[:,3],_ = get_pred_of_model(init_cnn_lstm(),cnn_lstm_parameter['epoch'],cnn_lstm_parameter['batch'],stacked_trainX,stacked_trainY,stacked_testX,stacked_testY)\n",
    "    _,temp[:,4],_ = get_pred_of_model(init_cnn_bi_lstm(),cnn_bi_lstm_parameter['epoch'],cnn_bi_lstm_parameter['batch'],stacked_trainX,stacked_trainY,stacked_testX,stacked_testY)\n",
    "    \n",
    "    stacked_metaX = np.concatenate((stacked_metaX, temp), axis=0)\n",
    "    count+=1"
   ]
  },
  {
   "cell_type": "code",
   "execution_count": 314,
   "metadata": {},
   "outputs": [
    {
     "data": {
      "text/plain": [
       "(501, 553)"
      ]
     },
     "execution_count": 314,
     "metadata": {},
     "output_type": "execute_result"
    }
   ],
   "source": [
    "len(stacked_metaX),len(stacked_metaY)"
   ]
  },
  {
   "cell_type": "code",
   "execution_count": 315,
   "metadata": {
    "collapsed": true
   },
   "outputs": [],
   "source": [
    "stacked_metaX = np.delete(stacked_metaX, (0), axis=0)"
   ]
  },
  {
   "cell_type": "code",
   "execution_count": 316,
   "metadata": {
    "collapsed": true
   },
   "outputs": [],
   "source": [
    "#temp line\n",
    "stacked_metaY=stacked_metaY[-500:]"
   ]
  },
  {
   "cell_type": "code",
   "execution_count": 317,
   "metadata": {},
   "outputs": [
    {
     "data": {
      "text/plain": [
       "(500, 500)"
      ]
     },
     "execution_count": 317,
     "metadata": {},
     "output_type": "execute_result"
    }
   ],
   "source": [
    "len(stacked_metaX),len(stacked_metaY)"
   ]
  },
  {
   "cell_type": "code",
   "execution_count": 320,
   "metadata": {},
   "outputs": [],
   "source": [
    "stacked_meta_model=LogisticRegression()"
   ]
  },
  {
   "cell_type": "code",
   "execution_count": 321,
   "metadata": {},
   "outputs": [
    {
     "data": {
      "text/plain": [
       "LogisticRegression(C=1.0, class_weight=None, dual=False, fit_intercept=True,\n",
       "          intercept_scaling=1, max_iter=100, multi_class='ovr', n_jobs=1,\n",
       "          penalty='l2', random_state=None, solver='liblinear', tol=0.0001,\n",
       "          verbose=0, warm_start=False)"
      ]
     },
     "execution_count": 321,
     "metadata": {},
     "output_type": "execute_result"
    }
   ],
   "source": [
    "stacked_meta_model.fit(stacked_metaX,stacked_metaY)"
   ]
  },
  {
   "cell_type": "code",
   "execution_count": 322,
   "metadata": {
    "collapsed": true
   },
   "outputs": [],
   "source": [
    "stacked_pred_class = stacked_meta_model.predict(pred_class_base)"
   ]
  },
  {
   "cell_type": "code",
   "execution_count": 323,
   "metadata": {},
   "outputs": [
    {
     "data": {
      "text/plain": [
       "0.37"
      ]
     },
     "execution_count": 323,
     "metadata": {},
     "output_type": "execute_result"
    }
   ],
   "source": [
    "acc = accuracy_score(testY,stacked_pred_class)\n",
    "acc"
   ]
  },
  {
   "cell_type": "code",
   "execution_count": 324,
   "metadata": {
    "collapsed": true
   },
   "outputs": [],
   "source": [
    "acc_results['stacked'] = acc"
   ]
  },
  {
   "cell_type": "code",
   "execution_count": 325,
   "metadata": {},
   "outputs": [
    {
     "data": {
      "text/plain": [
       "{'average': 0.35,\n",
       " 'base_model_counts': {'correct_predicted_by_all': 4,\n",
       "  'correct_predicted_by_some': [22, 9, 15, 13],\n",
       "  'incorrect_predicted_by_all': 37},\n",
       " 'bi_lstm': 0.34,\n",
       " 'blend': 0.28,\n",
       " 'cnn': 0.27,\n",
       " 'cnn_bi_lstm': 0.4,\n",
       " 'cnn_lstm': 0.26,\n",
       " 'lstm': 0.3,\n",
       " 'majority': 0.36,\n",
       " 'stacked': 0.37}"
      ]
     },
     "execution_count": 325,
     "metadata": {},
     "output_type": "execute_result"
    }
   ],
   "source": [
    "acc_results"
   ]
  },
  {
   "cell_type": "code",
   "execution_count": 326,
   "metadata": {
    "collapsed": true
   },
   "outputs": [],
   "source": [
    "pred_df['stacked']=stacked_pred_class"
   ]
  },
  {
   "cell_type": "markdown",
   "metadata": {},
   "source": [
    "## Prediction Correlation"
   ]
  },
  {
   "cell_type": "code",
   "execution_count": 327,
   "metadata": {},
   "outputs": [
    {
     "data": {
      "image/png": "[encoded data removed]",
      "text/plain": [
       "<matplotlib.figure.Figure at 0x7f1cafd1ef28>"
      ]
     },
     "metadata": {},
     "output_type": "display_data"
    },
    {
     "data": {
      "text/plain": [
       "<matplotlib.axes._subplots.AxesSubplot at 0x7f1cafd219b0>"
      ]
     },
     "execution_count": 327,
     "metadata": {},
     "output_type": "execute_result"
    }
   ],
   "source": [
    "# corrmat(pred_df.corr(), inflate=False,show=False)\n",
    "# plt.savefig('results/corr_matrix_full.png', bbox_inches='tight')\n",
    "corrmat(pred_df.corr(), inflate=False)"
   ]
  },
  {
   "cell_type": "markdown",
   "metadata": {},
   "source": [
    "## saving results"
   ]
  },
  {
   "cell_type": "code",
   "execution_count": 227,
   "metadata": {
    "collapsed": true
   },
   "outputs": [],
   "source": [
    "with open('results/ens_result.json','w') as fout:\n",
    "    json.dump(acc_results,fout,indent=4)"
   ]
  },
  {
   "cell_type": "code",
   "execution_count": null,
   "metadata": {
    "collapsed": true
   },
   "outputs": [],
   "source": []
  }
 ],
 "metadata": {
  "kernelspec": {
   "display_name": "Python 3",
   "language": "python",
   "name": "python3"
  },
  "language_info": {
   "codemirror_mode": {
    "name": "ipython",
    "version": 3
   },
   "file_extension": ".py",
   "mimetype": "text/x-python",
   "name": "python",
   "nbconvert_exporter": "python",
   "pygments_lexer": "ipython3",
   "version": "3.6.3"
  }
 },
 "nbformat": 4,
 "nbformat_minor": 2
}
