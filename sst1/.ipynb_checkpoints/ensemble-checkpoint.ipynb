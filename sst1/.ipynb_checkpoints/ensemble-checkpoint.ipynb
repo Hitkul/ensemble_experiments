{
 "cells": [
  {
   "cell_type": "code",
   "execution_count": 1,
   "metadata": {},
   "outputs": [
    {
     "name": "stderr",
     "output_type": "stream",
     "text": [
      "/home/hitkul/anaconda3/envs/ps3/lib/python3.6/site-packages/h5py/__init__.py:34: FutureWarning: Conversion of the second argument of issubdtype from `float` to `np.floating` is deprecated. In future, it will be treated as `np.float64 == np.dtype(float).type`.\n",
      "  from ._conv import register_converters as _register_converters\n",
      "Using TensorFlow backend.\n",
      "/home/hitkul/anaconda3/envs/ps3/lib/python3.6/importlib/_bootstrap.py:219: RuntimeWarning: compiletime version 3.5 of module 'tensorflow.python.framework.fast_tensor_util' does not match runtime version 3.6\n",
      "  return f(*args, **kwds)\n",
      "[MLENS] backend: threading\n"
     ]
    }
   ],
   "source": [
    "# import matplotlib\n",
    "# matplotlib.use('Agg')\n",
    "import sys\n",
    "sys.path.append('../')\n",
    "import json\n",
    "import string\n",
    "from nltk.corpus import stopwords\n",
    "import numpy as np\n",
    "import pandas as pd\n",
    "from os import remove\n",
    "from pprint import pprint\n",
    "import re\n",
    "from keras.preprocessing.text import Tokenizer\n",
    "from keras.preprocessing.sequence import pad_sequences\n",
    "from keras.utils import to_categorical\n",
    "import keras.backend as K\n",
    "from gensim.models import KeyedVectors\n",
    "import word2vecReader as godin_embedding\n",
    "import fasttext\n",
    "from sklearn.model_selection import StratifiedKFold\n",
    "from sklearn.model_selection import train_test_split\n",
    "from sklearn.metrics import accuracy_score\n",
    "from sklearn.linear_model import LogisticRegression\n",
    "from base_learners import cnn,lstm,bi_lstm,cnn_bi_lstm,cnn_lstm\n",
    "%matplotlib inline\n",
    "import matplotlib.pyplot as plt\n",
    "plt.rcParams[\"figure.figsize\"] = [12,10]\n",
    "from mlens.visualization import corrmat\n",
    "from sklearn.model_selection import StratifiedKFold\n",
    "from xgboost import XGBClassifier\n",
    "from sklearn.model_selection import GridSearchCV"
   ]
  },
  {
   "cell_type": "code",
   "execution_count": 2,
   "metadata": {
    "collapsed": true
   },
   "outputs": [],
   "source": [
    "def load_data_from_file(filename):\n",
    "    with open(filename,'r', errors='ignore') as fin:\n",
    "        lines = fin.readlines()\n",
    "    label = [int(x.split()[0]) for x in lines]\n",
    "    sentence = [' '.join(x.split()[1:]) for x in lines]\n",
    "    return label,sentence"
   ]
  },
  {
   "cell_type": "code",
   "execution_count": 3,
   "metadata": {
    "collapsed": true
   },
   "outputs": [],
   "source": [
    "train_labels,train_sentences = load_data_from_file('dataset/sst1/stsa.fine.train')\n",
    "dev_label,dev_sentence = load_data_from_file('dataset/sst1/stsa.fine.dev')\n",
    "test_labels,test_sentences = load_data_from_file('dataset/sst1/stsa.fine.test')"
   ]
  },
  {
   "cell_type": "code",
   "execution_count": 4,
   "metadata": {
    "collapsed": true
   },
   "outputs": [],
   "source": [
    "train_sentences = train_sentences+dev_sentence\n",
    "train_labels = train_labels+dev_label"
   ]
  },
  {
   "cell_type": "code",
   "execution_count": 5,
   "metadata": {},
   "outputs": [
    {
     "data": {
      "text/plain": [
       "(9645, 9645, 2210, 2210)"
      ]
     },
     "execution_count": 5,
     "metadata": {},
     "output_type": "execute_result"
    }
   ],
   "source": [
    "len(train_labels),len(train_sentences),len(test_labels),len(test_sentences)"
   ]
  },
  {
   "cell_type": "code",
   "execution_count": 6,
   "metadata": {
    "collapsed": true
   },
   "outputs": [],
   "source": [
    "train_labels = train_labels[:500]\n",
    "train_sentences = train_sentences[:500]\n",
    "test_labels=test_labels[:100]\n",
    "test_sentences = test_sentences[:100]"
   ]
  },
  {
   "cell_type": "code",
   "execution_count": 7,
   "metadata": {},
   "outputs": [
    {
     "data": {
      "text/plain": [
       "5"
      ]
     },
     "execution_count": 7,
     "metadata": {},
     "output_type": "execute_result"
    }
   ],
   "source": [
    "number_of_classes = len(set(train_labels))\n",
    "number_of_classes"
   ]
  },
  {
   "cell_type": "code",
   "execution_count": 8,
   "metadata": {},
   "outputs": [
    {
     "data": {
      "text/plain": [
       "(500, 500, 100, 100)"
      ]
     },
     "execution_count": 8,
     "metadata": {},
     "output_type": "execute_result"
    }
   ],
   "source": [
    "len(train_labels),len(train_sentences),len(test_labels),len(test_sentences)"
   ]
  },
  {
   "cell_type": "code",
   "execution_count": 9,
   "metadata": {
    "collapsed": true
   },
   "outputs": [],
   "source": [
    "def remove_punctuation(s):\n",
    "    list_punctuation = list(string.punctuation)\n",
    "    for i in list_punctuation:\n",
    "        s = s.replace(i,'')\n",
    "    return s"
   ]
  },
  {
   "cell_type": "code",
   "execution_count": 10,
   "metadata": {
    "collapsed": true
   },
   "outputs": [],
   "source": [
    "def clean_sentence(sentence):\n",
    "    #removes links\n",
    "    sentence = re.sub(r'(?P<url>https?://[^\\s]+)', r'', sentence)\n",
    "    # remove @usernames\n",
    "    sentence = re.sub(r\"\\@(\\w+)\", \"\", sentence)\n",
    "    #remove # from #tags\n",
    "    sentence = sentence.replace('#','')\n",
    "    # split into tokens by white space\n",
    "    tokens = sentence.split()\n",
    "    # remove punctuation from each token\n",
    "    # should have used translate but for some reason it breaks on my server\n",
    "    tokens = [remove_punctuation(w) for w in tokens]\n",
    "    # remove remaining tokens that are not alphabetic\n",
    "    tokens = [word for word in tokens if word.isalpha()]\n",
    "    # filter out stop words\n",
    "    stop_words = set(stopwords.words('english'))\n",
    "    tokens = [w for w in tokens if not w in stop_words]\n",
    "    # filter out short tokens\n",
    "    tokens = [word for word in tokens if len(word) > 1]\n",
    "    tokens = ' '.join(tokens)\n",
    "    return tokens"
   ]
  },
  {
   "cell_type": "code",
   "execution_count": 11,
   "metadata": {},
   "outputs": [
    {
     "name": "stdout",
     "output_type": "stream",
     "text": [
      "cleaning data\n"
     ]
    }
   ],
   "source": [
    "print(\"cleaning data\")\n",
    "trainX = [clean_sentence(s) for s in train_sentences]\n",
    "testX = [clean_sentence(s) for s in test_sentences]\n",
    "trainY = np.array(train_labels)\n",
    "testY=test_labels"
   ]
  },
  {
   "cell_type": "code",
   "execution_count": 12,
   "metadata": {
    "collapsed": true
   },
   "outputs": [],
   "source": [
    "max_len = 24"
   ]
  },
  {
   "cell_type": "code",
   "execution_count": 13,
   "metadata": {
    "collapsed": true
   },
   "outputs": [],
   "source": [
    "def create_tokenizer(lines):\n",
    "    tokenizer = Tokenizer()\n",
    "    tokenizer.fit_on_texts(lines)\n",
    "    return tokenizer"
   ]
  },
  {
   "cell_type": "code",
   "execution_count": 14,
   "metadata": {
    "collapsed": true
   },
   "outputs": [],
   "source": [
    "def encode_text(tokenizer, lines, length):\n",
    "    encoded = tokenizer.texts_to_sequences(lines)\n",
    "    padded = pad_sequences(encoded, maxlen=length, padding='post')\n",
    "    return padded"
   ]
  },
  {
   "cell_type": "code",
   "execution_count": 15,
   "metadata": {
    "collapsed": true
   },
   "outputs": [],
   "source": [
    "def load_godin_word_embedding(path):\n",
    "    print(\"Loading Goding model.\")\n",
    "    return godin_embedding.Word2Vec.load_word2vec_format(path, binary=True)"
   ]
  },
  {
   "cell_type": "code",
   "execution_count": 16,
   "metadata": {
    "collapsed": true
   },
   "outputs": [],
   "source": [
    "def load_google_word2vec(file_name):\n",
    "    print(\"Loading google news word2vec\")\n",
    "    return KeyedVectors.load_word2vec_format(file_name, binary=True)"
   ]
  },
  {
   "cell_type": "code",
   "execution_count": 17,
   "metadata": {
    "collapsed": true
   },
   "outputs": [],
   "source": [
    "def get_word_embedding_matrix(model,dim):\n",
    "    #dim = 300 for google word2vec\n",
    "    #dim = 400 for godin\n",
    "    #dim = 100 for fast text\n",
    "    embedding_matrix = np.zeros((vocab_size,dim))\n",
    "    for word, i in tokenizer.word_index.items():\n",
    "        try:\n",
    "            embedding_vector = model[word]\n",
    "        except KeyError:\n",
    "            embedding_vector = None\n",
    "        if embedding_vector is not None:\n",
    "            embedding_matrix[i]=embedding_vector\n",
    "    return embedding_matrix"
   ]
  },
  {
   "cell_type": "code",
   "execution_count": 18,
   "metadata": {},
   "outputs": [
    {
     "name": "stdout",
     "output_type": "stream",
     "text": [
      "Max document length: 24\n",
      "Vocabulary size: 2674\n"
     ]
    }
   ],
   "source": [
    "tokenizer = create_tokenizer(trainX)\n",
    "vocab_size = len(tokenizer.word_index) + 1\n",
    "print('Max document length: %d' % max_len)\n",
    "print('Vocabulary size: %d' % vocab_size)\n",
    "trainX = encode_text(tokenizer, trainX, max_len)\n",
    "testX = encode_text(tokenizer, testX, max_len)\n",
    "trainY = to_categorical(trainY,num_classes=number_of_classes)"
   ]
  },
  {
   "cell_type": "code",
   "execution_count": 19,
   "metadata": {},
   "outputs": [
    {
     "name": "stdout",
     "output_type": "stream",
     "text": [
      "Loading google news word2vec\n"
     ]
    }
   ],
   "source": [
    "# godin_model = load_godin_word_embedding(\"../word_embeddings/word2vec_twitter_model.bin\")\n",
    "word2vec_model= load_google_word2vec('../word_embeddings/GoogleNews-vectors-negative300.bin')"
   ]
  },
  {
   "cell_type": "code",
   "execution_count": 20,
   "metadata": {
    "collapsed": true
   },
   "outputs": [],
   "source": [
    "embedding_matrix_word2vec = get_word_embedding_matrix(word2vec_model,300)\n",
    "# embedding_matrix_godin = get_word_embedding_matrix(godin_model,400)"
   ]
  },
  {
   "cell_type": "markdown",
   "metadata": {},
   "source": [
    "## base models"
   ]
  },
  {
   "cell_type": "code",
   "execution_count": 21,
   "metadata": {
    "collapsed": true
   },
   "outputs": [],
   "source": [
    "cnn_parameter = {'batch': 8,\n",
    "                'dropout': 0.6,\n",
    "                'em': 'embedding_matrix_word2vec',\n",
    "                'em_trainable_flag': True,\n",
    "                'epoch': 10,\n",
    "                'filter_size': 6,\n",
    "                'learning_rate': 0.0001,\n",
    "                'n_dense': 200,\n",
    "                'n_filters': 100}\n",
    "\n",
    "lstm_parameter={'batch': 64,\n",
    "                    'dropout': 0.6,\n",
    "                    'em': 'embedding_matrix_word2vec',\n",
    "                    'em_trainable_flag': False,\n",
    "                    'epoch': 20,\n",
    "                    'learning_rate': 0.0034157107277860235,\n",
    "                    'units_out': 128}\n",
    "\n",
    "cnn_lstm_parameter={'batch': 8,\n",
    "                    'conv_dropout': 0.5,\n",
    "                    'em': 'embedding_matrix_word2vec',\n",
    "                    'em_trainable_flag': False,\n",
    "                    'epoch': 10,\n",
    "                    'filter_size': 1,\n",
    "                    'learning_rate': 0.001,\n",
    "                    'lstm_dropout': 0.4,\n",
    "                    'n_filters': 100,\n",
    "                    'units_out': 64}\n",
    "\n",
    "cnn_bi_lstm_parameter={'batch': 8,\n",
    "                    'conv_dropout': 0.5,\n",
    "                    'em': 'embedding_matrix_word2vec',\n",
    "                    'em_trainable_flag': False,\n",
    "                    'epoch': 5,\n",
    "                    'filter_size': 1,\n",
    "                    'learning_rate': 0.001,\n",
    "                    'lstm_dropout': 0.2,\n",
    "                    'n_filters': 100,\n",
    "                    'units_out': 64}\n",
    "\n",
    "bi_lstm_parameter={'batch':8,\n",
    "                 'dropout': 0.6,\n",
    "                 'em': 'embedding_matrix_word2vec',\n",
    "                 'em_trainable_flag': False,\n",
    "                 'epoch': 5,\n",
    "                 'learning_rate': 0.0001,\n",
    "                 'units_out': 256}"
   ]
  },
  {
   "cell_type": "code",
   "execution_count": 22,
   "metadata": {
    "collapsed": true
   },
   "outputs": [],
   "source": [
    "# cnn\n",
    "# 0.4710\n",
    "def init_cnn():\n",
    "    return cnn(length=max_len,\n",
    "               vocab_size=vocab_size,\n",
    "               learning_rate=cnn_parameter['learning_rate'],\n",
    "               n_dense=cnn_parameter['n_dense'],\n",
    "               dropout=cnn_parameter['dropout'],\n",
    "               n_filters=cnn_parameter['n_filters'],\n",
    "               filter_size=cnn_parameter['filter_size'],\n",
    "               em=eval(cnn_parameter['em']),\n",
    "               number_of_classes=number_of_classes,\n",
    "               em_trainable_flag=cnn_parameter['em_trainable_flag'])"
   ]
  },
  {
   "cell_type": "code",
   "execution_count": 23,
   "metadata": {
    "collapsed": true
   },
   "outputs": [],
   "source": [
    "#  lstm\n",
    "# 0.4701\n",
    "def init_lstm():\n",
    "    return lstm(length=max_len,\n",
    "                vocab_size=vocab_size,\n",
    "                learning_rate=lstm_parameter['learning_rate'],\n",
    "                dropout=lstm_parameter['dropout'],\n",
    "                units_out=lstm_parameter['units_out'],\n",
    "                em=eval(lstm_parameter['em']),\n",
    "                number_of_classes=number_of_classes,\n",
    "                em_trainable_flag=lstm_parameter['em_trainable_flag'])"
   ]
  },
  {
   "cell_type": "code",
   "execution_count": 24,
   "metadata": {
    "collapsed": true
   },
   "outputs": [],
   "source": [
    "# bi_lstm\n",
    "# 0.4529\n",
    "def init_bi_lstm():\n",
    "    return bi_lstm(length=max_len,\n",
    "                vocab_size=vocab_size,\n",
    "                learning_rate=bi_lstm_parameter['learning_rate'],\n",
    "                dropout=bi_lstm_parameter['dropout'],\n",
    "                units_out=bi_lstm_parameter['units_out'],\n",
    "                em=eval(bi_lstm_parameter['em']),\n",
    "                number_of_classes=number_of_classes,\n",
    "                em_trainable_flag=bi_lstm_parameter['em_trainable_flag'])"
   ]
  },
  {
   "cell_type": "code",
   "execution_count": 25,
   "metadata": {
    "collapsed": true
   },
   "outputs": [],
   "source": [
    "# cnn_lstm\n",
    "# 0.4179\n",
    "def init_cnn_lstm():\n",
    "    return cnn_lstm(length=max_len,\n",
    "                    vocab_size=vocab_size,\n",
    "                    learning_rate=cnn_lstm_parameter['learning_rate'],\n",
    "                    n_filters=cnn_lstm_parameter['n_filters'],\n",
    "                    filter_size=cnn_lstm_parameter['filter_size'],\n",
    "                    em=eval(cnn_lstm_parameter['em']),\n",
    "                    number_of_classes=number_of_classes,\n",
    "                    em_trainable_flag=cnn_lstm_parameter['em_trainable_flag'],\n",
    "                    conv_dropout=cnn_lstm_parameter['conv_dropout'],\n",
    "                    l_or_g_dropout=cnn_lstm_parameter['lstm_dropout'],\n",
    "                    units_out=cnn_lstm_parameter['units_out'])"
   ]
  },
  {
   "cell_type": "code",
   "execution_count": 26,
   "metadata": {
    "collapsed": true
   },
   "outputs": [],
   "source": [
    "# cnn_bi_lstm\n",
    "# 0.4705\n",
    "def init_cnn_bi_lstm():\n",
    "    return cnn_bi_lstm(length=max_len,\n",
    "                    vocab_size=vocab_size,\n",
    "                    learning_rate=cnn_bi_lstm_parameter['learning_rate'],\n",
    "                    n_filters=cnn_bi_lstm_parameter['n_filters'],\n",
    "                    filter_size=cnn_bi_lstm_parameter['filter_size'],\n",
    "                    em=eval(cnn_bi_lstm_parameter['em']),\n",
    "                    number_of_classes=number_of_classes,\n",
    "                    em_trainable_flag=cnn_bi_lstm_parameter['em_trainable_flag'],\n",
    "                    conv_dropout=cnn_bi_lstm_parameter['conv_dropout'],\n",
    "                    l_or_g_dropout=cnn_bi_lstm_parameter['lstm_dropout'],\n",
    "                    units_out=cnn_bi_lstm_parameter['units_out'])"
   ]
  },
  {
   "cell_type": "code",
   "execution_count": 27,
   "metadata": {
    "collapsed": true
   },
   "outputs": [],
   "source": [
    "def get_pred_of_model(m,epoch,batch,trainX,trainY,testX,testY):\n",
    "    history = m.fit(trainX,trainY,epochs=epoch,batch_size=batch,verbose=2)\n",
    "    pred = m.predict(testX)    \n",
    "    pred_class = np.argmax(pred,axis=1)\n",
    "    pred_class=pred_class.astype(int)\n",
    "    acc = accuracy_score(testY,pred_class)\n",
    "    print(acc)\n",
    "#     print(pred)\n",
    "    return acc,pred_class,pred"
   ]
  },
  {
   "cell_type": "code",
   "execution_count": 28,
   "metadata": {
    "collapsed": true
   },
   "outputs": [],
   "source": [
    "pred_prob_base = np.zeros((len(testX),number_of_classes,5))\n",
    "pred_class_base = np.zeros((len(testX),5),dtype=np.int32)\n",
    "acc_results={}"
   ]
  },
  {
   "cell_type": "code",
   "execution_count": 29,
   "metadata": {},
   "outputs": [
    {
     "name": "stdout",
     "output_type": "stream",
     "text": [
      "_________________________________________________________________\n",
      "Layer (type)                 Output Shape              Param #   \n",
      "=================================================================\n",
      "embedding_1 (Embedding)      (None, 24, 300)           802200    \n",
      "_________________________________________________________________\n",
      "dropout_1 (Dropout)          (None, 24, 300)           0         \n",
      "_________________________________________________________________\n",
      "conv1d_1 (Conv1D)            (None, 19, 100)           180100    \n",
      "_________________________________________________________________\n",
      "global_max_pooling1d_1 (Glob (None, 100)               0         \n",
      "_________________________________________________________________\n",
      "dense_1 (Dense)              (None, 200)               20200     \n",
      "_________________________________________________________________\n",
      "dropout_2 (Dropout)          (None, 200)               0         \n",
      "_________________________________________________________________\n",
      "activation_1 (Activation)    (None, 200)               0         \n",
      "_________________________________________________________________\n",
      "dense_2 (Dense)              (None, 5)                 1005      \n",
      "_________________________________________________________________\n",
      "activation_2 (Activation)    (None, 5)                 0         \n",
      "=================================================================\n",
      "Total params: 1,003,505\n",
      "Trainable params: 1,003,505\n",
      "Non-trainable params: 0\n",
      "_________________________________________________________________\n",
      "None\n",
      "Epoch 1/10\n",
      " - 2s - loss: 0.5168 - acc: 0.7932\n",
      "Epoch 2/10\n",
      " - 1s - loss: 0.5046 - acc: 0.7980\n",
      "Epoch 3/10\n",
      " - 1s - loss: 0.4994 - acc: 0.7980\n",
      "Epoch 4/10\n",
      " - 2s - loss: 0.5026 - acc: 0.7960\n",
      "Epoch 5/10\n",
      " - 1s - loss: 0.4843 - acc: 0.8008\n",
      "Epoch 6/10\n",
      " - 2s - loss: 0.4934 - acc: 0.8000\n",
      "Epoch 7/10\n",
      " - 1s - loss: 0.4898 - acc: 0.8008\n",
      "Epoch 8/10\n",
      " - 1s - loss: 0.4867 - acc: 0.8000\n",
      "Epoch 9/10\n",
      " - 2s - loss: 0.4837 - acc: 0.8016\n",
      "Epoch 10/10\n",
      " - 2s - loss: 0.4835 - acc: 0.8000\n",
      "0.28\n"
     ]
    }
   ],
   "source": [
    "cnn_base = init_cnn()\n",
    "acc_results['cnn'],pred_class_base[:,0],pred_prob_base[:,:,0] = get_pred_of_model(cnn_base,cnn_parameter['epoch'],cnn_parameter['batch'],trainX,trainY,testX,testY)"
   ]
  },
  {
   "cell_type": "code",
   "execution_count": 30,
   "metadata": {},
   "outputs": [
    {
     "name": "stdout",
     "output_type": "stream",
     "text": [
      "_________________________________________________________________\n",
      "Layer (type)                 Output Shape              Param #   \n",
      "=================================================================\n",
      "embedding_2 (Embedding)      (None, 24, 300)           802200    \n",
      "_________________________________________________________________\n",
      "lstm_1 (LSTM)                (None, 128)               219648    \n",
      "_________________________________________________________________\n",
      "dense_3 (Dense)              (None, 5)                 645       \n",
      "=================================================================\n",
      "Total params: 1,022,493\n",
      "Trainable params: 220,293\n",
      "Non-trainable params: 802,200\n",
      "_________________________________________________________________\n",
      "None\n",
      "Epoch 1/20\n",
      " - 1s - loss: 0.4952 - acc: 0.8004\n",
      "Epoch 2/20\n",
      " - 1s - loss: 0.4952 - acc: 0.7996\n",
      "Epoch 3/20\n",
      " - 1s - loss: 0.4896 - acc: 0.8000\n",
      "Epoch 4/20\n",
      " - 1s - loss: 0.4900 - acc: 0.8004\n",
      "Epoch 5/20\n",
      " - 1s - loss: 0.4849 - acc: 0.8000\n",
      "Epoch 6/20\n",
      " - 1s - loss: 0.4819 - acc: 0.7968\n",
      "Epoch 7/20\n",
      " - 1s - loss: 0.4727 - acc: 0.7972\n",
      "Epoch 8/20\n",
      " - 1s - loss: 0.4802 - acc: 0.7984\n",
      "Epoch 9/20\n",
      " - 1s - loss: 0.4725 - acc: 0.8004\n",
      "Epoch 10/20\n",
      " - 1s - loss: 0.4700 - acc: 0.7984\n",
      "Epoch 11/20\n",
      " - 1s - loss: 0.4703 - acc: 0.8000\n",
      "Epoch 12/20\n",
      " - 1s - loss: 0.4663 - acc: 0.7996\n",
      "Epoch 13/20\n",
      " - 1s - loss: 0.4692 - acc: 0.7940\n",
      "Epoch 14/20\n",
      " - 9s - loss: 0.4663 - acc: 0.7988\n",
      "Epoch 15/20\n",
      " - 1s - loss: 0.4644 - acc: 0.8012\n",
      "Epoch 16/20\n",
      " - 1s - loss: 0.4636 - acc: 0.7980\n",
      "Epoch 17/20\n",
      " - 1s - loss: 0.4604 - acc: 0.7932\n",
      "Epoch 18/20\n",
      " - 1s - loss: 0.4647 - acc: 0.7944\n",
      "Epoch 19/20\n",
      " - 1s - loss: 0.4530 - acc: 0.7956\n",
      "Epoch 20/20\n",
      " - 1s - loss: 0.4520 - acc: 0.7980\n",
      "0.38\n"
     ]
    }
   ],
   "source": [
    "lstm_base = init_lstm()\n",
    "acc_results['lstm'],pred_class_base[:,1],pred_prob_base[:,:,1] = get_pred_of_model(lstm_base,lstm_parameter['epoch'],lstm_parameter['batch'],trainX,trainY,testX,testY)"
   ]
  },
  {
   "cell_type": "code",
   "execution_count": 31,
   "metadata": {},
   "outputs": [
    {
     "name": "stdout",
     "output_type": "stream",
     "text": [
      "_________________________________________________________________\n",
      "Layer (type)                 Output Shape              Param #   \n",
      "=================================================================\n",
      "embedding_3 (Embedding)      (None, 24, 300)           802200    \n",
      "_________________________________________________________________\n",
      "bidirectional_1 (Bidirection (None, 512)               1140736   \n",
      "_________________________________________________________________\n",
      "dropout_3 (Dropout)          (None, 512)               0         \n",
      "_________________________________________________________________\n",
      "dense_4 (Dense)              (None, 5)                 2565      \n",
      "=================================================================\n",
      "Total params: 1,945,501\n",
      "Trainable params: 1,143,301\n",
      "Non-trainable params: 802,200\n",
      "_________________________________________________________________\n",
      "None\n",
      "Epoch 1/5\n",
      " - 6s - loss: 0.4960 - acc: 0.8000\n",
      "Epoch 2/5\n",
      " - 5s - loss: 0.4884 - acc: 0.8000\n",
      "Epoch 3/5\n",
      " - 6s - loss: 0.4803 - acc: 0.8000\n",
      "Epoch 4/5\n",
      " - 6s - loss: 0.4766 - acc: 0.8000\n",
      "Epoch 5/5\n",
      " - 5s - loss: 0.4687 - acc: 0.8012\n",
      "0.32\n"
     ]
    }
   ],
   "source": [
    "bi_lstm_base=init_bi_lstm()\n",
    "acc_results['bi_lstm'],pred_class_base[:,2],pred_prob_base[:,:,2] = get_pred_of_model(bi_lstm_base,bi_lstm_parameter['epoch'],bi_lstm_parameter['batch'],trainX,trainY,testX,testY)"
   ]
  },
  {
   "cell_type": "code",
   "execution_count": 32,
   "metadata": {},
   "outputs": [
    {
     "name": "stdout",
     "output_type": "stream",
     "text": [
      "_________________________________________________________________\n",
      "Layer (type)                 Output Shape              Param #   \n",
      "=================================================================\n",
      "embedding_4 (Embedding)      (None, 24, 300)           802200    \n",
      "_________________________________________________________________\n",
      "conv1d_2 (Conv1D)            (None, 24, 100)           30100     \n",
      "_________________________________________________________________\n",
      "dropout_4 (Dropout)          (None, 24, 100)           0         \n",
      "_________________________________________________________________\n",
      "max_pooling1d_1 (MaxPooling1 (None, 12, 100)           0         \n",
      "_________________________________________________________________\n",
      "lstm_3 (LSTM)                (None, 64)                42240     \n",
      "_________________________________________________________________\n",
      "dropout_5 (Dropout)          (None, 64)                0         \n",
      "_________________________________________________________________\n",
      "dense_5 (Dense)              (None, 5)                 325       \n",
      "=================================================================\n",
      "Total params: 874,865\n",
      "Trainable params: 72,665\n",
      "Non-trainable params: 802,200\n",
      "_________________________________________________________________\n",
      "None\n",
      "Epoch 1/10\n",
      " - 1s - loss: 0.4939 - acc: 0.8000\n",
      "Epoch 2/10\n",
      " - 1s - loss: 0.4906 - acc: 0.8000\n",
      "Epoch 3/10\n",
      " - 1s - loss: 0.4857 - acc: 0.8000\n",
      "Epoch 4/10\n",
      " - 1s - loss: 0.4719 - acc: 0.8000\n",
      "Epoch 5/10\n",
      " - 1s - loss: 0.4244 - acc: 0.8068\n",
      "Epoch 6/10\n",
      " - 1s - loss: 0.3899 - acc: 0.8248\n",
      "Epoch 7/10\n",
      " - 1s - loss: 0.3524 - acc: 0.8504\n",
      "Epoch 8/10\n",
      " - 1s - loss: 0.3268 - acc: 0.8612\n",
      "Epoch 9/10\n",
      " - 1s - loss: 0.2881 - acc: 0.8748\n",
      "Epoch 10/10\n",
      " - 1s - loss: 0.2542 - acc: 0.8904\n",
      "0.22\n"
     ]
    }
   ],
   "source": [
    "cnn_lstm_base = init_cnn_lstm()\n",
    "acc_results['cnn_lstm'],pred_class_base[:,3],pred_prob_base[:,:,3] = get_pred_of_model(cnn_lstm_base,cnn_lstm_parameter['epoch'],cnn_lstm_parameter['batch'],trainX,trainY,testX,testY)"
   ]
  },
  {
   "cell_type": "code",
   "execution_count": 33,
   "metadata": {},
   "outputs": [
    {
     "name": "stdout",
     "output_type": "stream",
     "text": [
      "_________________________________________________________________\n",
      "Layer (type)                 Output Shape              Param #   \n",
      "=================================================================\n",
      "embedding_5 (Embedding)      (None, 24, 300)           802200    \n",
      "_________________________________________________________________\n",
      "conv1d_3 (Conv1D)            (None, 24, 100)           30100     \n",
      "_________________________________________________________________\n",
      "dropout_6 (Dropout)          (None, 24, 100)           0         \n",
      "_________________________________________________________________\n",
      "max_pooling1d_2 (MaxPooling1 (None, 12, 100)           0         \n",
      "_________________________________________________________________\n",
      "bidirectional_2 (Bidirection (None, 128)               84480     \n",
      "_________________________________________________________________\n",
      "dropout_7 (Dropout)          (None, 128)               0         \n",
      "_________________________________________________________________\n",
      "dense_6 (Dense)              (None, 5)                 645       \n",
      "=================================================================\n",
      "Total params: 917,425\n",
      "Trainable params: 115,225\n",
      "Non-trainable params: 802,200\n",
      "_________________________________________________________________\n",
      "None\n",
      "Epoch 1/5\n",
      " - 2s - loss: 0.4908 - acc: 0.8000\n",
      "Epoch 2/5\n",
      " - 1s - loss: 0.4752 - acc: 0.8000\n",
      "Epoch 3/5\n",
      " - 1s - loss: 0.4406 - acc: 0.8044\n",
      "Epoch 4/5\n",
      " - 1s - loss: 0.3993 - acc: 0.8124\n",
      "Epoch 5/5\n",
      " - 1s - loss: 0.3664 - acc: 0.8388\n",
      "0.29\n"
     ]
    }
   ],
   "source": [
    "cnn_bi_lstm_base = init_cnn_bi_lstm()\n",
    "acc_results['cnn_bi_lstm'],pred_class_base[:,4],pred_prob_base[:,:,4] = get_pred_of_model(cnn_bi_lstm_base,cnn_bi_lstm_parameter['epoch'],cnn_bi_lstm_parameter['batch'],trainX,trainY,testX,testY)"
   ]
  },
  {
   "cell_type": "code",
   "execution_count": 34,
   "metadata": {},
   "outputs": [
    {
     "data": {
      "text/plain": [
       "{'bi_lstm': 0.32,\n",
       " 'cnn': 0.28,\n",
       " 'cnn_bi_lstm': 0.29,\n",
       " 'cnn_lstm': 0.22,\n",
       " 'lstm': 0.38}"
      ]
     },
     "execution_count": 34,
     "metadata": {},
     "output_type": "execute_result"
    }
   ],
   "source": [
    "acc_results"
   ]
  },
  {
   "cell_type": "code",
   "execution_count": 35,
   "metadata": {},
   "outputs": [
    {
     "data": {
      "text/plain": [
       "array([[1, 1, 1, 2, 2],\n",
       "       [3, 3, 3, 4, 3],\n",
       "       [3, 1, 3, 2, 2],\n",
       "       [3, 1, 3, 2, 2],\n",
       "       [3, 1, 1, 2, 0],\n",
       "       [3, 1, 3, 2, 2],\n",
       "       [3, 4, 3, 4, 4],\n",
       "       [3, 3, 3, 4, 3],\n",
       "       [3, 1, 3, 2, 2],\n",
       "       [3, 1, 3, 4, 3]], dtype=int32)"
      ]
     },
     "execution_count": 35,
     "metadata": {},
     "output_type": "execute_result"
    }
   ],
   "source": [
    "pred_class_base[:10]"
   ]
  },
  {
   "cell_type": "code",
   "execution_count": 36,
   "metadata": {},
   "outputs": [
    {
     "data": {
      "text/plain": [
       "array([[[0.18933415, 0.23297822, 0.17012943, 0.1822463 , 0.21717824],\n",
       "        [0.21396045, 0.31145039, 0.23950404, 0.18090381, 0.2198668 ],\n",
       "        [0.19101517, 0.22199279, 0.19119269, 0.48436147, 0.29239118],\n",
       "        [0.20959242, 0.18342908, 0.2383875 , 0.11143155, 0.19865343],\n",
       "        [0.19609782, 0.05014955, 0.16078636, 0.04105678, 0.07191034]],\n",
       "\n",
       "       [[0.17064513, 0.0369642 , 0.13652676, 0.01847002, 0.03351361],\n",
       "        [0.21507274, 0.14242038, 0.22737747, 0.03272643, 0.10189807],\n",
       "        [0.19511682, 0.10868961, 0.17811143, 0.0252303 , 0.16627796],\n",
       "        [0.23649947, 0.44205192, 0.2873649 , 0.42468354, 0.57762873],\n",
       "        [0.18266591, 0.26987383, 0.17061943, 0.49888965, 0.12068157]]])"
      ]
     },
     "execution_count": 36,
     "metadata": {},
     "output_type": "execute_result"
    }
   ],
   "source": [
    "pred_prob_base[:2]"
   ]
  },
  {
   "cell_type": "markdown",
   "metadata": {},
   "source": [
    "## Analyzing performance of base models "
   ]
  },
  {
   "cell_type": "code",
   "execution_count": 37,
   "metadata": {
    "collapsed": true
   },
   "outputs": [],
   "source": [
    "number_of_base_models = 5"
   ]
  },
  {
   "cell_type": "code",
   "execution_count": 38,
   "metadata": {
    "collapsed": true
   },
   "outputs": [],
   "source": [
    "correct_predicted_by_all = 0\n",
    "incorrect_predicted_by_all = 0\n",
    "correct_predicted_by_some=[0 for _ in range(number_of_base_models-1)] #index0 = correct predicted by 1, index1 = correct predicted by 2 and so on."
   ]
  },
  {
   "cell_type": "code",
   "execution_count": 39,
   "metadata": {
    "collapsed": true
   },
   "outputs": [],
   "source": [
    "# pred_class_base[0],np.bincount(pred_class_base[0]),len(np.bincount(pred_class_base[0])),testY[0]"
   ]
  },
  {
   "cell_type": "code",
   "execution_count": 40,
   "metadata": {
    "collapsed": true
   },
   "outputs": [],
   "source": [
    "for x,y in zip(pred_class_base,testY):\n",
    "    bin_count = np.bincount(x)\n",
    "    if len(bin_count)<=y or bin_count[y]==0:\n",
    "        incorrect_predicted_by_all+=1\n",
    "    elif bin_count[y] == number_of_base_models:\n",
    "        correct_predicted_by_all+=1\n",
    "    else:\n",
    "        correct_predicted_by_some[bin_count[y]-1]+=1"
   ]
  },
  {
   "cell_type": "code",
   "execution_count": 41,
   "metadata": {},
   "outputs": [
    {
     "data": {
      "text/plain": [
       "(29, 4, [26, 24, 13, 4])"
      ]
     },
     "execution_count": 41,
     "metadata": {},
     "output_type": "execute_result"
    }
   ],
   "source": [
    "incorrect_predicted_by_all,correct_predicted_by_all,correct_predicted_by_some"
   ]
  },
  {
   "cell_type": "code",
   "execution_count": 42,
   "metadata": {},
   "outputs": [
    {
     "name": "stdout",
     "output_type": "stream",
     "text": [
      "results look good\n"
     ]
    }
   ],
   "source": [
    "if sum(correct_predicted_by_some)+correct_predicted_by_all+incorrect_predicted_by_all == len(testY):\n",
    "    print(\"results look good\")\n",
    "else:\n",
    "    print(\"something went wrong\")"
   ]
  },
  {
   "cell_type": "code",
   "execution_count": 43,
   "metadata": {
    "collapsed": true
   },
   "outputs": [],
   "source": [
    "acc_results['base_model_counts']={}"
   ]
  },
  {
   "cell_type": "code",
   "execution_count": 44,
   "metadata": {
    "collapsed": true
   },
   "outputs": [],
   "source": [
    "acc_results['base_model_counts']['correct_predicted_by_all'] = correct_predicted_by_all\n",
    "acc_results['base_model_counts']['incorrect_predicted_by_all'] = incorrect_predicted_by_all\n",
    "acc_results['base_model_counts']['correct_predicted_by_some'] = correct_predicted_by_some"
   ]
  },
  {
   "cell_type": "code",
   "execution_count": 45,
   "metadata": {},
   "outputs": [
    {
     "data": {
      "text/plain": [
       "{'base_model_counts': {'correct_predicted_by_all': 4,\n",
       "  'correct_predicted_by_some': [26, 24, 13, 4],\n",
       "  'incorrect_predicted_by_all': 29},\n",
       " 'bi_lstm': 0.32,\n",
       " 'cnn': 0.28,\n",
       " 'cnn_bi_lstm': 0.29,\n",
       " 'cnn_lstm': 0.22,\n",
       " 'lstm': 0.38}"
      ]
     },
     "execution_count": 45,
     "metadata": {},
     "output_type": "execute_result"
    }
   ],
   "source": [
    "acc_results"
   ]
  },
  {
   "cell_type": "markdown",
   "metadata": {},
   "source": [
    "## prediction corelation"
   ]
  },
  {
   "cell_type": "code",
   "execution_count": 46,
   "metadata": {
    "collapsed": true
   },
   "outputs": [],
   "source": [
    "pred_df = pd.DataFrame(pred_class_base)\n",
    "pred_df.columns = [\"cnn\",\"lstm\",\"bi_lstm\",\"cnn_lstm\",\"cnn_bi_lstm\"]"
   ]
  },
  {
   "cell_type": "code",
   "execution_count": 47,
   "metadata": {},
   "outputs": [
    {
     "data": {
      "text/html": [
       "<div>\n",
       "<style>\n",
       "    .dataframe thead tr:only-child th {\n",
       "        text-align: right;\n",
       "    }\n",
       "\n",
       "    .dataframe thead th {\n",
       "        text-align: left;\n",
       "    }\n",
       "\n",
       "    .dataframe tbody tr th {\n",
       "        vertical-align: top;\n",
       "    }\n",
       "</style>\n",
       "<table border=\"1\" class=\"dataframe\">\n",
       "  <thead>\n",
       "    <tr style=\"text-align: right;\">\n",
       "      <th></th>\n",
       "      <th>cnn</th>\n",
       "      <th>lstm</th>\n",
       "      <th>bi_lstm</th>\n",
       "      <th>cnn_lstm</th>\n",
       "      <th>cnn_bi_lstm</th>\n",
       "    </tr>\n",
       "  </thead>\n",
       "  <tbody>\n",
       "    <tr>\n",
       "      <th>0</th>\n",
       "      <td>1</td>\n",
       "      <td>1</td>\n",
       "      <td>1</td>\n",
       "      <td>2</td>\n",
       "      <td>2</td>\n",
       "    </tr>\n",
       "    <tr>\n",
       "      <th>1</th>\n",
       "      <td>3</td>\n",
       "      <td>3</td>\n",
       "      <td>3</td>\n",
       "      <td>4</td>\n",
       "      <td>3</td>\n",
       "    </tr>\n",
       "    <tr>\n",
       "      <th>2</th>\n",
       "      <td>3</td>\n",
       "      <td>1</td>\n",
       "      <td>3</td>\n",
       "      <td>2</td>\n",
       "      <td>2</td>\n",
       "    </tr>\n",
       "    <tr>\n",
       "      <th>3</th>\n",
       "      <td>3</td>\n",
       "      <td>1</td>\n",
       "      <td>3</td>\n",
       "      <td>2</td>\n",
       "      <td>2</td>\n",
       "    </tr>\n",
       "    <tr>\n",
       "      <th>4</th>\n",
       "      <td>3</td>\n",
       "      <td>1</td>\n",
       "      <td>1</td>\n",
       "      <td>2</td>\n",
       "      <td>0</td>\n",
       "    </tr>\n",
       "  </tbody>\n",
       "</table>\n",
       "</div>"
      ],
      "text/plain": [
       "   cnn  lstm  bi_lstm  cnn_lstm  cnn_bi_lstm\n",
       "0    1     1        1         2            2\n",
       "1    3     3        3         4            3\n",
       "2    3     1        3         2            2\n",
       "3    3     1        3         2            2\n",
       "4    3     1        1         2            0"
      ]
     },
     "execution_count": 47,
     "metadata": {},
     "output_type": "execute_result"
    }
   ],
   "source": [
    "pred_df.head()"
   ]
  },
  {
   "cell_type": "code",
   "execution_count": 48,
   "metadata": {},
   "outputs": [
    {
     "data": {
      "image/png": "[encoded data removed]",
      "text/plain": [
       "<matplotlib.figure.Figure at 0x7ff77fb91940>"
      ]
     },
     "metadata": {},
     "output_type": "display_data"
    },
    {
     "data": {
      "text/plain": [
       "<matplotlib.axes._subplots.AxesSubplot at 0x7ff7301246a0>"
      ]
     },
     "execution_count": 48,
     "metadata": {},
     "output_type": "execute_result"
    }
   ],
   "source": [
    "# corrmat(pred_df.corr(), inflate=False,show=False)\n",
    "# plt.savefig('results/corr_matrix_base.png', bbox_inches='tight')\n",
    "corrmat(pred_df.corr(), inflate=False)"
   ]
  },
  {
   "cell_type": "markdown",
   "metadata": {},
   "source": [
    "## average"
   ]
  },
  {
   "cell_type": "code",
   "execution_count": 49,
   "metadata": {
    "collapsed": true
   },
   "outputs": [],
   "source": [
    "avg_pred_prob = pred_prob_base.mean(axis=2)"
   ]
  },
  {
   "cell_type": "code",
   "execution_count": 50,
   "metadata": {
    "collapsed": true
   },
   "outputs": [],
   "source": [
    "avg_pred_class = np.argmax(avg_pred_prob,axis=1)\n",
    "avg_pred_class=avg_pred_class.astype(int)"
   ]
  },
  {
   "cell_type": "code",
   "execution_count": 51,
   "metadata": {},
   "outputs": [
    {
     "data": {
      "text/plain": [
       "0.25"
      ]
     },
     "execution_count": 51,
     "metadata": {},
     "output_type": "execute_result"
    }
   ],
   "source": [
    "acc = accuracy_score(testY,avg_pred_class)\n",
    "acc"
   ]
  },
  {
   "cell_type": "code",
   "execution_count": 52,
   "metadata": {
    "collapsed": true
   },
   "outputs": [],
   "source": [
    "acc_results['average'] = acc"
   ]
  },
  {
   "cell_type": "code",
   "execution_count": 53,
   "metadata": {},
   "outputs": [
    {
     "data": {
      "text/plain": [
       "{'average': 0.25,\n",
       " 'base_model_counts': {'correct_predicted_by_all': 4,\n",
       "  'correct_predicted_by_some': [26, 24, 13, 4],\n",
       "  'incorrect_predicted_by_all': 29},\n",
       " 'bi_lstm': 0.32,\n",
       " 'cnn': 0.28,\n",
       " 'cnn_bi_lstm': 0.29,\n",
       " 'cnn_lstm': 0.22,\n",
       " 'lstm': 0.38}"
      ]
     },
     "execution_count": 53,
     "metadata": {},
     "output_type": "execute_result"
    }
   ],
   "source": [
    "acc_results"
   ]
  },
  {
   "cell_type": "code",
   "execution_count": 54,
   "metadata": {
    "collapsed": true
   },
   "outputs": [],
   "source": [
    "pred_df['average']=avg_pred_class"
   ]
  },
  {
   "cell_type": "markdown",
   "metadata": {},
   "source": [
    "## Majority"
   ]
  },
  {
   "cell_type": "code",
   "execution_count": 55,
   "metadata": {
    "collapsed": true
   },
   "outputs": [],
   "source": [
    "majority_pred_class = [int(np.argmax(np.bincount(x))) for x in pred_class_base]"
   ]
  },
  {
   "cell_type": "code",
   "execution_count": 56,
   "metadata": {},
   "outputs": [
    {
     "data": {
      "text/plain": [
       "0.3"
      ]
     },
     "execution_count": 56,
     "metadata": {},
     "output_type": "execute_result"
    }
   ],
   "source": [
    "acc = accuracy_score(testY,majority_pred_class)\n",
    "acc"
   ]
  },
  {
   "cell_type": "code",
   "execution_count": 57,
   "metadata": {
    "collapsed": true
   },
   "outputs": [],
   "source": [
    "acc_results['majority'] = acc"
   ]
  },
  {
   "cell_type": "code",
   "execution_count": 58,
   "metadata": {},
   "outputs": [
    {
     "data": {
      "text/plain": [
       "{'average': 0.25,\n",
       " 'base_model_counts': {'correct_predicted_by_all': 4,\n",
       "  'correct_predicted_by_some': [26, 24, 13, 4],\n",
       "  'incorrect_predicted_by_all': 29},\n",
       " 'bi_lstm': 0.32,\n",
       " 'cnn': 0.28,\n",
       " 'cnn_bi_lstm': 0.29,\n",
       " 'cnn_lstm': 0.22,\n",
       " 'lstm': 0.38,\n",
       " 'majority': 0.3}"
      ]
     },
     "execution_count": 58,
     "metadata": {},
     "output_type": "execute_result"
    }
   ],
   "source": [
    "acc_results"
   ]
  },
  {
   "cell_type": "code",
   "execution_count": 59,
   "metadata": {
    "collapsed": true
   },
   "outputs": [],
   "source": [
    "pred_df['majority']=majority_pred_class"
   ]
  },
  {
   "cell_type": "markdown",
   "metadata": {},
   "source": [
    "## Blend ensemble"
   ]
  },
  {
   "cell_type": "code",
   "execution_count": 60,
   "metadata": {
    "collapsed": true
   },
   "outputs": [],
   "source": [
    "seed=42"
   ]
  },
  {
   "cell_type": "code",
   "execution_count": 61,
   "metadata": {
    "collapsed": true
   },
   "outputs": [],
   "source": [
    "baseX, devX, baseY, devY = train_test_split(trainX, train_labels, test_size=0.10, random_state=seed)"
   ]
  },
  {
   "cell_type": "code",
   "execution_count": 62,
   "metadata": {
    "collapsed": true
   },
   "outputs": [],
   "source": [
    "baseY = np.array(baseY)\n",
    "baseY = to_categorical(baseY,num_classes=number_of_classes)"
   ]
  },
  {
   "cell_type": "code",
   "execution_count": 63,
   "metadata": {},
   "outputs": [
    {
     "data": {
      "text/plain": [
       "(450, 450, 50, 50)"
      ]
     },
     "execution_count": 63,
     "metadata": {},
     "output_type": "execute_result"
    }
   ],
   "source": [
    "len(baseX),len(baseY),len(devX),len(devY)"
   ]
  },
  {
   "cell_type": "code",
   "execution_count": 64,
   "metadata": {
    "collapsed": true
   },
   "outputs": [],
   "source": [
    "metaX = np.zeros((len(devY),5),dtype=np.int32)"
   ]
  },
  {
   "cell_type": "code",
   "execution_count": 65,
   "metadata": {},
   "outputs": [
    {
     "name": "stdout",
     "output_type": "stream",
     "text": [
      "_________________________________________________________________\n",
      "Layer (type)                 Output Shape              Param #   \n",
      "=================================================================\n",
      "embedding_6 (Embedding)      (None, 24, 300)           802200    \n",
      "_________________________________________________________________\n",
      "dropout_8 (Dropout)          (None, 24, 300)           0         \n",
      "_________________________________________________________________\n",
      "conv1d_4 (Conv1D)            (None, 19, 100)           180100    \n",
      "_________________________________________________________________\n",
      "global_max_pooling1d_2 (Glob (None, 100)               0         \n",
      "_________________________________________________________________\n",
      "dense_7 (Dense)              (None, 200)               20200     \n",
      "_________________________________________________________________\n",
      "dropout_9 (Dropout)          (None, 200)               0         \n",
      "_________________________________________________________________\n",
      "activation_3 (Activation)    (None, 200)               0         \n",
      "_________________________________________________________________\n",
      "dense_8 (Dense)              (None, 5)                 1005      \n",
      "_________________________________________________________________\n",
      "activation_4 (Activation)    (None, 5)                 0         \n",
      "=================================================================\n",
      "Total params: 1,003,505\n",
      "Trainable params: 1,003,505\n",
      "Non-trainable params: 0\n",
      "_________________________________________________________________\n",
      "None\n",
      "Epoch 1/10\n",
      " - 2s - loss: 0.5202 - acc: 0.7911\n",
      "Epoch 2/10\n",
      " - 1s - loss: 0.5101 - acc: 0.7942\n",
      "Epoch 3/10\n",
      " - 1s - loss: 0.5201 - acc: 0.7938\n",
      "Epoch 4/10\n",
      " - 2s - loss: 0.4937 - acc: 0.7947\n",
      "Epoch 5/10\n",
      " - 2s - loss: 0.4935 - acc: 0.7960\n",
      "Epoch 6/10\n",
      " - 2s - loss: 0.4869 - acc: 0.8000\n",
      "Epoch 7/10\n",
      " - 3s - loss: 0.4825 - acc: 0.8009\n",
      "Epoch 8/10\n",
      " - 3s - loss: 0.4895 - acc: 0.7991\n",
      "Epoch 9/10\n",
      " - 3s - loss: 0.4835 - acc: 0.7978\n",
      "Epoch 10/10\n",
      " - 2s - loss: 0.4839 - acc: 0.7978\n",
      "0.22\n"
     ]
    }
   ],
   "source": [
    "_,metaX[:,0],_ = get_pred_of_model(init_cnn(),cnn_parameter['epoch'],cnn_parameter['batch'],baseX,baseY,devX,devY)"
   ]
  },
  {
   "cell_type": "code",
   "execution_count": 66,
   "metadata": {},
   "outputs": [
    {
     "name": "stdout",
     "output_type": "stream",
     "text": [
      "_________________________________________________________________\n",
      "Layer (type)                 Output Shape              Param #   \n",
      "=================================================================\n",
      "embedding_7 (Embedding)      (None, 24, 300)           802200    \n",
      "_________________________________________________________________\n",
      "lstm_5 (LSTM)                (None, 128)               219648    \n",
      "_________________________________________________________________\n",
      "dense_9 (Dense)              (None, 5)                 645       \n",
      "=================================================================\n",
      "Total params: 1,022,493\n",
      "Trainable params: 220,293\n",
      "Non-trainable params: 802,200\n",
      "_________________________________________________________________\n",
      "None\n",
      "Epoch 1/20\n",
      " - 4s - loss: 0.4975 - acc: 0.8000\n",
      "Epoch 2/20\n",
      " - 2s - loss: 0.4916 - acc: 0.8000\n",
      "Epoch 3/20\n",
      " - 2s - loss: 0.4900 - acc: 0.7996\n",
      "Epoch 4/20\n",
      " - 2s - loss: 0.4880 - acc: 0.8000\n",
      "Epoch 5/20\n",
      " - 2s - loss: 0.4893 - acc: 0.7996\n",
      "Epoch 6/20\n",
      " - 2s - loss: 0.4887 - acc: 0.7964\n",
      "Epoch 7/20\n",
      " - 1s - loss: 0.4902 - acc: 0.7996\n",
      "Epoch 8/20\n",
      " - 1s - loss: 0.4860 - acc: 0.8000\n",
      "Epoch 9/20\n",
      " - 1s - loss: 0.4759 - acc: 0.8031\n",
      "Epoch 10/20\n",
      " - 1s - loss: 0.4704 - acc: 0.8004\n",
      "Epoch 11/20\n",
      " - 1s - loss: 0.4641 - acc: 0.7956\n",
      "Epoch 12/20\n",
      " - 2s - loss: 0.4778 - acc: 0.7973\n",
      "Epoch 13/20\n",
      " - 1s - loss: 0.4635 - acc: 0.7991\n",
      "Epoch 14/20\n",
      " - 1s - loss: 0.4741 - acc: 0.7907\n",
      "Epoch 15/20\n",
      " - 1s - loss: 0.4717 - acc: 0.7938\n",
      "Epoch 16/20\n",
      " - 1s - loss: 0.4691 - acc: 0.7951\n",
      "Epoch 17/20\n",
      " - 1s - loss: 0.4686 - acc: 0.7969\n",
      "Epoch 18/20\n",
      " - 1s - loss: 0.4627 - acc: 0.7982\n",
      "Epoch 19/20\n",
      " - 2s - loss: 0.4615 - acc: 0.7991\n",
      "Epoch 20/20\n",
      " - 2s - loss: 0.4884 - acc: 0.7982\n",
      "0.32\n"
     ]
    }
   ],
   "source": [
    "_,metaX[:,1],_ = get_pred_of_model(init_lstm(),lstm_parameter['epoch'],lstm_parameter['batch'],baseX,baseY,devX,devY)"
   ]
  },
  {
   "cell_type": "code",
   "execution_count": 67,
   "metadata": {},
   "outputs": [
    {
     "name": "stdout",
     "output_type": "stream",
     "text": [
      "_________________________________________________________________\n",
      "Layer (type)                 Output Shape              Param #   \n",
      "=================================================================\n",
      "embedding_8 (Embedding)      (None, 24, 300)           802200    \n",
      "_________________________________________________________________\n",
      "bidirectional_3 (Bidirection (None, 512)               1140736   \n",
      "_________________________________________________________________\n",
      "dropout_10 (Dropout)         (None, 512)               0         \n",
      "_________________________________________________________________\n",
      "dense_10 (Dense)             (None, 5)                 2565      \n",
      "=================================================================\n",
      "Total params: 1,945,501\n",
      "Trainable params: 1,143,301\n",
      "Non-trainable params: 802,200\n",
      "_________________________________________________________________\n",
      "None\n",
      "Epoch 1/5\n",
      " - 14s - loss: 0.4989 - acc: 0.8000\n",
      "Epoch 2/5\n",
      " - 11s - loss: 0.4885 - acc: 0.8000\n",
      "Epoch 3/5\n",
      " - 12s - loss: 0.4827 - acc: 0.8004\n",
      "Epoch 4/5\n",
      " - 6s - loss: 0.4774 - acc: 0.8000\n",
      "Epoch 5/5\n",
      " - 5s - loss: 0.4703 - acc: 0.8004\n",
      "0.24\n"
     ]
    }
   ],
   "source": [
    "_,metaX[:,2],_ = get_pred_of_model(init_bi_lstm(),bi_lstm_parameter['epoch'],bi_lstm_parameter['batch'],baseX,baseY,devX,devY)"
   ]
  },
  {
   "cell_type": "code",
   "execution_count": 68,
   "metadata": {},
   "outputs": [
    {
     "name": "stdout",
     "output_type": "stream",
     "text": [
      "_________________________________________________________________\n",
      "Layer (type)                 Output Shape              Param #   \n",
      "=================================================================\n",
      "embedding_9 (Embedding)      (None, 24, 300)           802200    \n",
      "_________________________________________________________________\n",
      "conv1d_5 (Conv1D)            (None, 24, 100)           30100     \n",
      "_________________________________________________________________\n",
      "dropout_11 (Dropout)         (None, 24, 100)           0         \n",
      "_________________________________________________________________\n",
      "max_pooling1d_3 (MaxPooling1 (None, 12, 100)           0         \n",
      "_________________________________________________________________\n",
      "lstm_7 (LSTM)                (None, 64)                42240     \n",
      "_________________________________________________________________\n",
      "dropout_12 (Dropout)         (None, 64)                0         \n",
      "_________________________________________________________________\n",
      "dense_11 (Dense)             (None, 5)                 325       \n",
      "=================================================================\n",
      "Total params: 874,865\n",
      "Trainable params: 72,665\n",
      "Non-trainable params: 802,200\n",
      "_________________________________________________________________\n",
      "None\n",
      "Epoch 1/10\n",
      " - 2s - loss: 0.4937 - acc: 0.8000\n",
      "Epoch 2/10\n",
      " - 1s - loss: 0.4876 - acc: 0.8004\n",
      "Epoch 3/10\n",
      " - 1s - loss: 0.4774 - acc: 0.8009\n",
      "Epoch 4/10\n",
      " - 1s - loss: 0.4469 - acc: 0.7978\n",
      "Epoch 5/10\n",
      " - 1s - loss: 0.4129 - acc: 0.8111\n",
      "Epoch 6/10\n",
      " - 1s - loss: 0.3694 - acc: 0.8302\n",
      "Epoch 7/10\n",
      " - 1s - loss: 0.3455 - acc: 0.8431\n",
      "Epoch 8/10\n",
      " - 1s - loss: 0.2965 - acc: 0.8742\n",
      "Epoch 9/10\n",
      " - 1s - loss: 0.2827 - acc: 0.8787\n",
      "Epoch 10/10\n",
      " - 1s - loss: 0.2240 - acc: 0.9089\n",
      "0.26\n"
     ]
    }
   ],
   "source": [
    "_,metaX[:,3],_ = get_pred_of_model(init_cnn_lstm(),cnn_lstm_parameter['epoch'],cnn_lstm_parameter['batch'],baseX,baseY,devX,devY)"
   ]
  },
  {
   "cell_type": "code",
   "execution_count": 69,
   "metadata": {},
   "outputs": [
    {
     "name": "stdout",
     "output_type": "stream",
     "text": [
      "_________________________________________________________________\n",
      "Layer (type)                 Output Shape              Param #   \n",
      "=================================================================\n",
      "embedding_10 (Embedding)     (None, 24, 300)           802200    \n",
      "_________________________________________________________________\n",
      "conv1d_6 (Conv1D)            (None, 24, 100)           30100     \n",
      "_________________________________________________________________\n",
      "dropout_13 (Dropout)         (None, 24, 100)           0         \n",
      "_________________________________________________________________\n",
      "max_pooling1d_4 (MaxPooling1 (None, 12, 100)           0         \n",
      "_________________________________________________________________\n",
      "bidirectional_4 (Bidirection (None, 128)               84480     \n",
      "_________________________________________________________________\n",
      "dropout_14 (Dropout)         (None, 128)               0         \n",
      "_________________________________________________________________\n",
      "dense_12 (Dense)             (None, 5)                 645       \n",
      "=================================================================\n",
      "Total params: 917,425\n",
      "Trainable params: 115,225\n",
      "Non-trainable params: 802,200\n",
      "_________________________________________________________________\n",
      "None\n",
      "Epoch 1/5\n",
      " - 2s - loss: 0.4906 - acc: 0.8000\n",
      "Epoch 2/5\n",
      " - 1s - loss: 0.4782 - acc: 0.8004\n",
      "Epoch 3/5\n",
      " - 1s - loss: 0.4606 - acc: 0.8018\n",
      "Epoch 4/5\n",
      " - 1s - loss: 0.4167 - acc: 0.8080\n",
      "Epoch 5/5\n",
      " - 1s - loss: 0.3786 - acc: 0.8284\n",
      "0.4\n"
     ]
    }
   ],
   "source": [
    "_,metaX[:,4],_ = get_pred_of_model(init_cnn_bi_lstm(),cnn_bi_lstm_parameter['epoch'],cnn_bi_lstm_parameter['batch'],baseX,baseY,devX,devY)"
   ]
  },
  {
   "cell_type": "code",
   "execution_count": 70,
   "metadata": {},
   "outputs": [
    {
     "data": {
      "text/plain": [
       "(50, 50)"
      ]
     },
     "execution_count": 70,
     "metadata": {},
     "output_type": "execute_result"
    }
   ],
   "source": [
    "len(devY),len(metaX)"
   ]
  },
  {
   "cell_type": "markdown",
   "metadata": {},
   "source": [
    "Logistic Regressing meta model"
   ]
  },
  {
   "cell_type": "code",
   "execution_count": 71,
   "metadata": {
    "collapsed": true
   },
   "outputs": [],
   "source": [
    "meta_model=LogisticRegression()"
   ]
  },
  {
   "cell_type": "code",
   "execution_count": 72,
   "metadata": {},
   "outputs": [
    {
     "data": {
      "text/plain": [
       "LogisticRegression(C=1.0, class_weight=None, dual=False, fit_intercept=True,\n",
       "          intercept_scaling=1, max_iter=100, multi_class='ovr', n_jobs=1,\n",
       "          penalty='l2', random_state=None, solver='liblinear', tol=0.0001,\n",
       "          verbose=0, warm_start=False)"
      ]
     },
     "execution_count": 72,
     "metadata": {},
     "output_type": "execute_result"
    }
   ],
   "source": [
    "meta_model.fit(metaX,devY)"
   ]
  },
  {
   "cell_type": "code",
   "execution_count": 73,
   "metadata": {
    "collapsed": true
   },
   "outputs": [],
   "source": [
    "blend_pred_class = meta_model.predict(pred_class_base)"
   ]
  },
  {
   "cell_type": "code",
   "execution_count": 74,
   "metadata": {},
   "outputs": [
    {
     "data": {
      "text/plain": [
       "0.27"
      ]
     },
     "execution_count": 74,
     "metadata": {},
     "output_type": "execute_result"
    }
   ],
   "source": [
    "acc = accuracy_score(testY,blend_pred_class)\n",
    "acc"
   ]
  },
  {
   "cell_type": "code",
   "execution_count": 75,
   "metadata": {
    "collapsed": true
   },
   "outputs": [],
   "source": [
    "acc_results['blend'] = acc"
   ]
  },
  {
   "cell_type": "code",
   "execution_count": 76,
   "metadata": {},
   "outputs": [
    {
     "data": {
      "text/plain": [
       "{'average': 0.25,\n",
       " 'base_model_counts': {'correct_predicted_by_all': 4,\n",
       "  'correct_predicted_by_some': [26, 24, 13, 4],\n",
       "  'incorrect_predicted_by_all': 29},\n",
       " 'bi_lstm': 0.32,\n",
       " 'blend': 0.27,\n",
       " 'cnn': 0.28,\n",
       " 'cnn_bi_lstm': 0.29,\n",
       " 'cnn_lstm': 0.22,\n",
       " 'lstm': 0.38,\n",
       " 'majority': 0.3}"
      ]
     },
     "execution_count": 76,
     "metadata": {},
     "output_type": "execute_result"
    }
   ],
   "source": [
    "acc_results"
   ]
  },
  {
   "cell_type": "code",
   "execution_count": 77,
   "metadata": {
    "collapsed": true
   },
   "outputs": [],
   "source": [
    "pred_df['blend']=blend_pred_class"
   ]
  },
  {
   "cell_type": "markdown",
   "metadata": {},
   "source": [
    "XGboost meta model"
   ]
  },
  {
   "cell_type": "code",
   "execution_count": 78,
   "metadata": {
    "collapsed": true
   },
   "outputs": [],
   "source": [
    "meta_model_xg = XGBClassifier()"
   ]
  },
  {
   "cell_type": "code",
   "execution_count": 79,
   "metadata": {},
   "outputs": [],
   "source": [
    "# param_grid={\n",
    "#     'max_depth': [3,4,5,6,7,8,9],\n",
    "#     'subsample': [0.4,0.5,0.6,0.7,0.8,0.9,1.0],\n",
    "#     'colsample_bytree': [0.5,0.6,0.7,0.8],\n",
    "#     'n_estimators': [1000,2000,3000],\n",
    "#     'reg_alpha': [0.01, 0.02, 0.03, 0.04]\n",
    "# }\n",
    "\n",
    "param_grid={\n",
    "    'max_depth': [3,4],\n",
    "    'subsample': [0.6,0.7],\n",
    "    'colsample_bytree': [0.6,0.7],\n",
    "    'n_estimators': [1000,2000],\n",
    "    'reg_alpha': [0.01, 0.02]\n",
    "}\n"
   ]
  },
  {
   "cell_type": "code",
   "execution_count": 80,
   "metadata": {
    "collapsed": true
   },
   "outputs": [],
   "source": [
    "kfold = StratifiedKFold(n_splits=10, shuffle=True, random_state=seed)"
   ]
  },
  {
   "cell_type": "code",
   "execution_count": 81,
   "metadata": {
    "collapsed": true
   },
   "outputs": [],
   "source": [
    "grid_search = GridSearchCV(meta_model_xg, param_grid, scoring=\"neg_log_loss\", n_jobs=-1, cv=kfold,verbose=1)"
   ]
  },
  {
   "cell_type": "code",
   "execution_count": 82,
   "metadata": {},
   "outputs": [
    {
     "name": "stdout",
     "output_type": "stream",
     "text": [
      "Fitting 10 folds for each of 32 candidates, totalling 320 fits\n"
     ]
    },
    {
     "name": "stderr",
     "output_type": "stream",
     "text": [
      "/home/hitkul/anaconda3/envs/ps3/lib/python3.6/site-packages/sklearn/model_selection/_split.py:605: Warning: The least populated class in y has only 4 members, which is too few. The minimum number of members in any class cannot be less than n_splits=10.\n",
      "  % (min_groups, self.n_splits)), Warning)\n"
     ]
    },
    {
     "ename": "JoblibValueError",
     "evalue": "JoblibValueError\n___________________________________________________________________________\nMultiprocessing exception:\n...........................................................................\n/home/hitkul/anaconda3/envs/ps3/lib/python3.6/runpy.py in _run_module_as_main(mod_name='ipykernel_launcher', alter_argv=1)\n    188         sys.exit(msg)\n    189     main_globals = sys.modules[\"__main__\"].__dict__\n    190     if alter_argv:\n    191         sys.argv[0] = mod_spec.origin\n    192     return _run_code(code, main_globals, None,\n--> 193                      \"__main__\", mod_spec)\n        mod_spec = ModuleSpec(name='ipykernel_launcher', loader=<_f...b/python3.6/site-packages/ipykernel_launcher.py')\n    194 \n    195 def run_module(mod_name, init_globals=None,\n    196                run_name=None, alter_sys=False):\n    197     \"\"\"Execute a module's code without importing it\n\n...........................................................................\n/home/hitkul/anaconda3/envs/ps3/lib/python3.6/runpy.py in _run_code(code=<code object <module> at 0x7ff8c9bedf60, file \"/...3.6/site-packages/ipykernel_launcher.py\", line 5>, run_globals={'__annotations__': {}, '__builtins__': <module 'builtins' (built-in)>, '__cached__': '/home/hitkul/anaconda3/envs/ps3/lib/python3.6/si...ges/__pycache__/ipykernel_launcher.cpython-36.pyc', '__doc__': 'Entry point for launching an IPython kernel.\\n\\nTh...orts until\\nafter removing the cwd from sys.path.\\n', '__file__': '/home/hitkul/anaconda3/envs/ps3/lib/python3.6/site-packages/ipykernel_launcher.py', '__loader__': <_frozen_importlib_external.SourceFileLoader object>, '__name__': '__main__', '__package__': '', '__spec__': ModuleSpec(name='ipykernel_launcher', loader=<_f...b/python3.6/site-packages/ipykernel_launcher.py'), 'app': <module 'ipykernel.kernelapp' from '/home/hitkul.../python3.6/site-packages/ipykernel/kernelapp.py'>, ...}, init_globals=None, mod_name='__main__', mod_spec=ModuleSpec(name='ipykernel_launcher', loader=<_f...b/python3.6/site-packages/ipykernel_launcher.py'), pkg_name='', script_name=None)\n     80                        __cached__ = cached,\n     81                        __doc__ = None,\n     82                        __loader__ = loader,\n     83                        __package__ = pkg_name,\n     84                        __spec__ = mod_spec)\n---> 85     exec(code, run_globals)\n        code = <code object <module> at 0x7ff8c9bedf60, file \"/...3.6/site-packages/ipykernel_launcher.py\", line 5>\n        run_globals = {'__annotations__': {}, '__builtins__': <module 'builtins' (built-in)>, '__cached__': '/home/hitkul/anaconda3/envs/ps3/lib/python3.6/si...ges/__pycache__/ipykernel_launcher.cpython-36.pyc', '__doc__': 'Entry point for launching an IPython kernel.\\n\\nTh...orts until\\nafter removing the cwd from sys.path.\\n', '__file__': '/home/hitkul/anaconda3/envs/ps3/lib/python3.6/site-packages/ipykernel_launcher.py', '__loader__': <_frozen_importlib_external.SourceFileLoader object>, '__name__': '__main__', '__package__': '', '__spec__': ModuleSpec(name='ipykernel_launcher', loader=<_f...b/python3.6/site-packages/ipykernel_launcher.py'), 'app': <module 'ipykernel.kernelapp' from '/home/hitkul.../python3.6/site-packages/ipykernel/kernelapp.py'>, ...}\n     86     return run_globals\n     87 \n     88 def _run_module_code(code, init_globals=None,\n     89                     mod_name=None, mod_spec=None,\n\n...........................................................................\n/home/hitkul/anaconda3/envs/ps3/lib/python3.6/site-packages/ipykernel_launcher.py in <module>()\n     11     # This is added back by InteractiveShellApp.init_path()\n     12     if sys.path[0] == '':\n     13         del sys.path[0]\n     14 \n     15     from ipykernel import kernelapp as app\n---> 16     app.launch_new_instance()\n\n...........................................................................\n/home/hitkul/anaconda3/envs/ps3/lib/python3.6/site-packages/traitlets/config/application.py in launch_instance(cls=<class 'ipykernel.kernelapp.IPKernelApp'>, argv=None, **kwargs={})\n    653 \n    654         If a global instance already exists, this reinitializes and starts it\n    655         \"\"\"\n    656         app = cls.instance(**kwargs)\n    657         app.initialize(argv)\n--> 658         app.start()\n        app.start = <bound method IPKernelApp.start of <ipykernel.kernelapp.IPKernelApp object>>\n    659 \n    660 #-----------------------------------------------------------------------------\n    661 # utility functions, for convenience\n    662 #-----------------------------------------------------------------------------\n\n...........................................................................\n/home/hitkul/anaconda3/envs/ps3/lib/python3.6/site-packages/ipykernel/kernelapp.py in start(self=<ipykernel.kernelapp.IPKernelApp object>)\n    472             return self.subapp.start()\n    473         if self.poller is not None:\n    474             self.poller.start()\n    475         self.kernel.start()\n    476         try:\n--> 477             ioloop.IOLoop.instance().start()\n    478         except KeyboardInterrupt:\n    479             pass\n    480 \n    481 launch_new_instance = IPKernelApp.launch_instance\n\n...........................................................................\n/home/hitkul/anaconda3/envs/ps3/lib/python3.6/site-packages/zmq/eventloop/ioloop.py in start(self=<zmq.eventloop.ioloop.ZMQIOLoop object>)\n    172             )\n    173         return loop\n    174     \n    175     def start(self):\n    176         try:\n--> 177             super(ZMQIOLoop, self).start()\n        self.start = <bound method ZMQIOLoop.start of <zmq.eventloop.ioloop.ZMQIOLoop object>>\n    178         except ZMQError as e:\n    179             if e.errno == ETERM:\n    180                 # quietly return on ETERM\n    181                 pass\n\n...........................................................................\n/home/hitkul/anaconda3/envs/ps3/lib/python3.6/site-packages/tornado/ioloop.py in start(self=<zmq.eventloop.ioloop.ZMQIOLoop object>)\n    883                 self._events.update(event_pairs)\n    884                 while self._events:\n    885                     fd, events = self._events.popitem()\n    886                     try:\n    887                         fd_obj, handler_func = self._handlers[fd]\n--> 888                         handler_func(fd_obj, events)\n        handler_func = <function wrap.<locals>.null_wrapper>\n        fd_obj = <zmq.sugar.socket.Socket object>\n        events = 1\n    889                     except (OSError, IOError) as e:\n    890                         if errno_from_exception(e) == errno.EPIPE:\n    891                             # Happens when the client closes the connection\n    892                             pass\n\n...........................................................................\n/home/hitkul/anaconda3/envs/ps3/lib/python3.6/site-packages/tornado/stack_context.py in null_wrapper(*args=(<zmq.sugar.socket.Socket object>, 1), **kwargs={})\n    272         # Fast path when there are no active contexts.\n    273         def null_wrapper(*args, **kwargs):\n    274             try:\n    275                 current_state = _state.contexts\n    276                 _state.contexts = cap_contexts[0]\n--> 277                 return fn(*args, **kwargs)\n        args = (<zmq.sugar.socket.Socket object>, 1)\n        kwargs = {}\n    278             finally:\n    279                 _state.contexts = current_state\n    280         null_wrapper._wrapped = True\n    281         return null_wrapper\n\n...........................................................................\n/home/hitkul/anaconda3/envs/ps3/lib/python3.6/site-packages/zmq/eventloop/zmqstream.py in _handle_events(self=<zmq.eventloop.zmqstream.ZMQStream object>, fd=<zmq.sugar.socket.Socket object>, events=1)\n    435             # dispatch events:\n    436             if events & IOLoop.ERROR:\n    437                 gen_log.error(\"got POLLERR event on ZMQStream, which doesn't make sense\")\n    438                 return\n    439             if events & IOLoop.READ:\n--> 440                 self._handle_recv()\n        self._handle_recv = <bound method ZMQStream._handle_recv of <zmq.eventloop.zmqstream.ZMQStream object>>\n    441                 if not self.socket:\n    442                     return\n    443             if events & IOLoop.WRITE:\n    444                 self._handle_send()\n\n...........................................................................\n/home/hitkul/anaconda3/envs/ps3/lib/python3.6/site-packages/zmq/eventloop/zmqstream.py in _handle_recv(self=<zmq.eventloop.zmqstream.ZMQStream object>)\n    467                 gen_log.error(\"RECV Error: %s\"%zmq.strerror(e.errno))\n    468         else:\n    469             if self._recv_callback:\n    470                 callback = self._recv_callback\n    471                 # self._recv_callback = None\n--> 472                 self._run_callback(callback, msg)\n        self._run_callback = <bound method ZMQStream._run_callback of <zmq.eventloop.zmqstream.ZMQStream object>>\n        callback = <function wrap.<locals>.null_wrapper>\n        msg = [<zmq.sugar.frame.Frame object>, <zmq.sugar.frame.Frame object>, <zmq.sugar.frame.Frame object>, <zmq.sugar.frame.Frame object>, <zmq.sugar.frame.Frame object>, <zmq.sugar.frame.Frame object>, <zmq.sugar.frame.Frame object>]\n    473                 \n    474         # self.update_state()\n    475         \n    476 \n\n...........................................................................\n/home/hitkul/anaconda3/envs/ps3/lib/python3.6/site-packages/zmq/eventloop/zmqstream.py in _run_callback(self=<zmq.eventloop.zmqstream.ZMQStream object>, callback=<function wrap.<locals>.null_wrapper>, *args=([<zmq.sugar.frame.Frame object>, <zmq.sugar.frame.Frame object>, <zmq.sugar.frame.Frame object>, <zmq.sugar.frame.Frame object>, <zmq.sugar.frame.Frame object>, <zmq.sugar.frame.Frame object>, <zmq.sugar.frame.Frame object>],), **kwargs={})\n    409         close our socket.\"\"\"\n    410         try:\n    411             # Use a NullContext to ensure that all StackContexts are run\n    412             # inside our blanket exception handler rather than outside.\n    413             with stack_context.NullContext():\n--> 414                 callback(*args, **kwargs)\n        callback = <function wrap.<locals>.null_wrapper>\n        args = ([<zmq.sugar.frame.Frame object>, <zmq.sugar.frame.Frame object>, <zmq.sugar.frame.Frame object>, <zmq.sugar.frame.Frame object>, <zmq.sugar.frame.Frame object>, <zmq.sugar.frame.Frame object>, <zmq.sugar.frame.Frame object>],)\n        kwargs = {}\n    415         except:\n    416             gen_log.error(\"Uncaught exception, closing connection.\",\n    417                           exc_info=True)\n    418             # Close the socket on an uncaught exception from a user callback\n\n...........................................................................\n/home/hitkul/anaconda3/envs/ps3/lib/python3.6/site-packages/tornado/stack_context.py in null_wrapper(*args=([<zmq.sugar.frame.Frame object>, <zmq.sugar.frame.Frame object>, <zmq.sugar.frame.Frame object>, <zmq.sugar.frame.Frame object>, <zmq.sugar.frame.Frame object>, <zmq.sugar.frame.Frame object>, <zmq.sugar.frame.Frame object>],), **kwargs={})\n    272         # Fast path when there are no active contexts.\n    273         def null_wrapper(*args, **kwargs):\n    274             try:\n    275                 current_state = _state.contexts\n    276                 _state.contexts = cap_contexts[0]\n--> 277                 return fn(*args, **kwargs)\n        args = ([<zmq.sugar.frame.Frame object>, <zmq.sugar.frame.Frame object>, <zmq.sugar.frame.Frame object>, <zmq.sugar.frame.Frame object>, <zmq.sugar.frame.Frame object>, <zmq.sugar.frame.Frame object>, <zmq.sugar.frame.Frame object>],)\n        kwargs = {}\n    278             finally:\n    279                 _state.contexts = current_state\n    280         null_wrapper._wrapped = True\n    281         return null_wrapper\n\n...........................................................................\n/home/hitkul/anaconda3/envs/ps3/lib/python3.6/site-packages/ipykernel/kernelbase.py in dispatcher(msg=[<zmq.sugar.frame.Frame object>, <zmq.sugar.frame.Frame object>, <zmq.sugar.frame.Frame object>, <zmq.sugar.frame.Frame object>, <zmq.sugar.frame.Frame object>, <zmq.sugar.frame.Frame object>, <zmq.sugar.frame.Frame object>])\n    278         if self.control_stream:\n    279             self.control_stream.on_recv(self.dispatch_control, copy=False)\n    280 \n    281         def make_dispatcher(stream):\n    282             def dispatcher(msg):\n--> 283                 return self.dispatch_shell(stream, msg)\n        msg = [<zmq.sugar.frame.Frame object>, <zmq.sugar.frame.Frame object>, <zmq.sugar.frame.Frame object>, <zmq.sugar.frame.Frame object>, <zmq.sugar.frame.Frame object>, <zmq.sugar.frame.Frame object>, <zmq.sugar.frame.Frame object>]\n    284             return dispatcher\n    285 \n    286         for s in self.shell_streams:\n    287             s.on_recv(make_dispatcher(s), copy=False)\n\n...........................................................................\n/home/hitkul/anaconda3/envs/ps3/lib/python3.6/site-packages/ipykernel/kernelbase.py in dispatch_shell(self=<ipykernel.ipkernel.IPythonKernel object>, stream=<zmq.eventloop.zmqstream.ZMQStream object>, msg={'buffers': [], 'content': {'allow_stdin': True, 'code': 'grid_result = grid_search.fit(metaX,devY)', 'silent': False, 'stop_on_error': True, 'store_history': True, 'user_expressions': {}}, 'header': {'date': datetime.datetime(2018, 4, 15, 10, 1, 20, 732982, tzinfo=tzutc()), 'msg_id': 'CC52B5D587994B56836551638953FF09', 'msg_type': 'execute_request', 'session': '5F19D8171FF34AA29CD872FE94E92DCD', 'username': 'username', 'version': '5.0'}, 'metadata': {}, 'msg_id': 'CC52B5D587994B56836551638953FF09', 'msg_type': 'execute_request', 'parent_header': {}})\n    230             self.log.warn(\"Unknown message type: %r\", msg_type)\n    231         else:\n    232             self.log.debug(\"%s: %s\", msg_type, msg)\n    233             self.pre_handler_hook()\n    234             try:\n--> 235                 handler(stream, idents, msg)\n        handler = <bound method Kernel.execute_request of <ipykernel.ipkernel.IPythonKernel object>>\n        stream = <zmq.eventloop.zmqstream.ZMQStream object>\n        idents = [b'5F19D8171FF34AA29CD872FE94E92DCD']\n        msg = {'buffers': [], 'content': {'allow_stdin': True, 'code': 'grid_result = grid_search.fit(metaX,devY)', 'silent': False, 'stop_on_error': True, 'store_history': True, 'user_expressions': {}}, 'header': {'date': datetime.datetime(2018, 4, 15, 10, 1, 20, 732982, tzinfo=tzutc()), 'msg_id': 'CC52B5D587994B56836551638953FF09', 'msg_type': 'execute_request', 'session': '5F19D8171FF34AA29CD872FE94E92DCD', 'username': 'username', 'version': '5.0'}, 'metadata': {}, 'msg_id': 'CC52B5D587994B56836551638953FF09', 'msg_type': 'execute_request', 'parent_header': {}}\n    236             except Exception:\n    237                 self.log.error(\"Exception in message handler:\", exc_info=True)\n    238             finally:\n    239                 self.post_handler_hook()\n\n...........................................................................\n/home/hitkul/anaconda3/envs/ps3/lib/python3.6/site-packages/ipykernel/kernelbase.py in execute_request(self=<ipykernel.ipkernel.IPythonKernel object>, stream=<zmq.eventloop.zmqstream.ZMQStream object>, ident=[b'5F19D8171FF34AA29CD872FE94E92DCD'], parent={'buffers': [], 'content': {'allow_stdin': True, 'code': 'grid_result = grid_search.fit(metaX,devY)', 'silent': False, 'stop_on_error': True, 'store_history': True, 'user_expressions': {}}, 'header': {'date': datetime.datetime(2018, 4, 15, 10, 1, 20, 732982, tzinfo=tzutc()), 'msg_id': 'CC52B5D587994B56836551638953FF09', 'msg_type': 'execute_request', 'session': '5F19D8171FF34AA29CD872FE94E92DCD', 'username': 'username', 'version': '5.0'}, 'metadata': {}, 'msg_id': 'CC52B5D587994B56836551638953FF09', 'msg_type': 'execute_request', 'parent_header': {}})\n    394         if not silent:\n    395             self.execution_count += 1\n    396             self._publish_execute_input(code, parent, self.execution_count)\n    397 \n    398         reply_content = self.do_execute(code, silent, store_history,\n--> 399                                         user_expressions, allow_stdin)\n        user_expressions = {}\n        allow_stdin = True\n    400 \n    401         # Flush output before sending the reply.\n    402         sys.stdout.flush()\n    403         sys.stderr.flush()\n\n...........................................................................\n/home/hitkul/anaconda3/envs/ps3/lib/python3.6/site-packages/ipykernel/ipkernel.py in do_execute(self=<ipykernel.ipkernel.IPythonKernel object>, code='grid_result = grid_search.fit(metaX,devY)', silent=False, store_history=True, user_expressions={}, allow_stdin=True)\n    191 \n    192         self._forward_input(allow_stdin)\n    193 \n    194         reply_content = {}\n    195         try:\n--> 196             res = shell.run_cell(code, store_history=store_history, silent=silent)\n        res = undefined\n        shell.run_cell = <bound method ZMQInteractiveShell.run_cell of <ipykernel.zmqshell.ZMQInteractiveShell object>>\n        code = 'grid_result = grid_search.fit(metaX,devY)'\n        store_history = True\n        silent = False\n    197         finally:\n    198             self._restore_input()\n    199 \n    200         if res.error_before_exec is not None:\n\n...........................................................................\n/home/hitkul/anaconda3/envs/ps3/lib/python3.6/site-packages/ipykernel/zmqshell.py in run_cell(self=<ipykernel.zmqshell.ZMQInteractiveShell object>, *args=('grid_result = grid_search.fit(metaX,devY)',), **kwargs={'silent': False, 'store_history': True})\n    528             )\n    529         self.payload_manager.write_payload(payload)\n    530 \n    531     def run_cell(self, *args, **kwargs):\n    532         self._last_traceback = None\n--> 533         return super(ZMQInteractiveShell, self).run_cell(*args, **kwargs)\n        self.run_cell = <bound method ZMQInteractiveShell.run_cell of <ipykernel.zmqshell.ZMQInteractiveShell object>>\n        args = ('grid_result = grid_search.fit(metaX,devY)',)\n        kwargs = {'silent': False, 'store_history': True}\n    534 \n    535     def _showtraceback(self, etype, evalue, stb):\n    536         # try to preserve ordering of tracebacks and print statements\n    537         sys.stdout.flush()\n\n...........................................................................\n/home/hitkul/anaconda3/envs/ps3/lib/python3.6/site-packages/IPython/core/interactiveshell.py in run_cell(self=<ipykernel.zmqshell.ZMQInteractiveShell object>, raw_cell='grid_result = grid_search.fit(metaX,devY)', store_history=True, silent=False, shell_futures=True)\n   2693                 self.displayhook.exec_result = result\n   2694 \n   2695                 # Execute the user code\n   2696                 interactivity = \"none\" if silent else self.ast_node_interactivity\n   2697                 has_raised = self.run_ast_nodes(code_ast.body, cell_name,\n-> 2698                    interactivity=interactivity, compiler=compiler, result=result)\n        interactivity = 'last_expr'\n        compiler = <IPython.core.compilerop.CachingCompiler object>\n   2699                 \n   2700                 self.last_execution_succeeded = not has_raised\n   2701 \n   2702                 # Reset this so later displayed values do not modify the\n\n...........................................................................\n/home/hitkul/anaconda3/envs/ps3/lib/python3.6/site-packages/IPython/core/interactiveshell.py in run_ast_nodes(self=<ipykernel.zmqshell.ZMQInteractiveShell object>, nodelist=[<_ast.Assign object>], cell_name='<ipython-input-82-c1e5ff0f2cdd>', interactivity='none', compiler=<IPython.core.compilerop.CachingCompiler object>, result=<ExecutionResult object at 7ff730124b00, executi..._before_exec=None error_in_exec=None result=None>)\n   2797 \n   2798         try:\n   2799             for i, node in enumerate(to_run_exec):\n   2800                 mod = ast.Module([node])\n   2801                 code = compiler(mod, cell_name, \"exec\")\n-> 2802                 if self.run_code(code, result):\n        self.run_code = <bound method InteractiveShell.run_code of <ipykernel.zmqshell.ZMQInteractiveShell object>>\n        code = <code object <module> at 0x7ff72b7c3540, file \"<ipython-input-82-c1e5ff0f2cdd>\", line 1>\n        result = <ExecutionResult object at 7ff730124b00, executi..._before_exec=None error_in_exec=None result=None>\n   2803                     return True\n   2804 \n   2805             for i, node in enumerate(to_run_interactive):\n   2806                 mod = ast.Interactive([node])\n\n...........................................................................\n/home/hitkul/anaconda3/envs/ps3/lib/python3.6/site-packages/IPython/core/interactiveshell.py in run_code(self=<ipykernel.zmqshell.ZMQInteractiveShell object>, code_obj=<code object <module> at 0x7ff72b7c3540, file \"<ipython-input-82-c1e5ff0f2cdd>\", line 1>, result=<ExecutionResult object at 7ff730124b00, executi..._before_exec=None error_in_exec=None result=None>)\n   2857         outflag = True  # happens in more places, so it's easier as default\n   2858         try:\n   2859             try:\n   2860                 self.hooks.pre_run_code_hook()\n   2861                 #rprint('Running code', repr(code_obj)) # dbg\n-> 2862                 exec(code_obj, self.user_global_ns, self.user_ns)\n        code_obj = <code object <module> at 0x7ff72b7c3540, file \"<ipython-input-82-c1e5ff0f2cdd>\", line 1>\n        self.user_global_ns = {'GridSearchCV': <class 'sklearn.model_selection._search.GridSearchCV'>, 'In': ['', \"# import matplotlib\\n# matplotlib.use('Agg')\\nimpo...\\nfrom sklearn.model_selection import GridSearchCV\", 'def load_data_from_file(filename):\\n    with open...()[1:]) for x in lines]\\n    return label,sentence', \"train_labels,train_sentences = load_data_from_fi...oad_data_from_file('dataset/sst1/stsa.fine.test')\", 'train_sentences = train_sentences+dev_sentence\\ntrain_labels = train_labels+dev_label', 'len(train_labels),len(train_sentences),len(test_labels),len(test_sentences)', 'train_labels = train_labels[:500]\\ntrain_sentence...abels[:100]\\ntest_sentences = test_sentences[:100]', 'number_of_classes = len(set(train_labels))\\nnumber_of_classes', 'len(train_labels),len(train_sentences),len(test_labels),len(test_sentences)', \"def remove_punctuation(s):\\n    list_punctuation ...tuation:\\n        s = s.replace(i,'')\\n    return s\", \"def clean_sentence(sentence):\\n    #removes links...]\\n    tokens = ' '.join(tokens)\\n    return tokens\", 'print(\"cleaning data\")\\ntrainX = [clean_sentence(...trainY = np.array(train_labels)\\ntestY=test_labels', 'max_len = 24', 'def create_tokenizer(lines):\\n    tokenizer = Tok...okenizer.fit_on_texts(lines)\\n    return tokenizer', \"def encode_text(tokenizer, lines, length):\\n    e... maxlen=length, padding='post')\\n    return padded\", 'def load_godin_word_embedding(path):\\n    print(\"....Word2Vec.load_word2vec_format(path, binary=True)', 'def load_google_word2vec(file_name):\\n    print(\"...tors.load_word2vec_format(file_name, binary=True)', 'def get_word_embedding_matrix(model,dim):\\n    #d...x[i]=embedding_vector\\n    return embedding_matrix', 'tokenizer = create_tokenizer(trainX)\\nvocab_size ...categorical(trainY,num_classes=number_of_classes)', '# godin_model = load_godin_word_embedding(\"../wo...d_embeddings/GoogleNews-vectors-negative300.bin\\')', ...], 'K': <module 'keras.backend' from '/home/hitkul/anaco...thon3.6/site-packages/keras/backend/__init__.py'>, 'KeyedVectors': <class 'gensim.models.keyedvectors.EuclideanKeyedVectors'>, 'LogisticRegression': <class 'sklearn.linear_model.logistic.LogisticRegression'>, 'Out': {5: (9645, 9645, 2210, 2210), 7: 5, 8: (500, 500, 100, 100), 34: {'average': 0.25, 'base_model_counts': {'correct_predicted_by_all': 4, 'correct_predicted_by_some': [26, 24, 13, 4], 'incorrect_predicted_by_all': 29}, 'bi_lstm': 0.32, 'blend': 0.27, 'cnn': 0.28, 'cnn_bi_lstm': 0.29, 'cnn_lstm': 0.22, 'lstm': 0.38, 'majority': 0.3}, 35: array([[1, 1, 1, 2, 2],\n       [3, 3, 3, 4, 3],\n..., 3, 2, 2],\n       [3, 1, 3, 4, 3]], dtype=int32), 36: array([[[0.18933415, 0.23297822, 0.17012943, 0.1....26987383, 0.17061943, 0.49888965, 0.12068157]]]), 41: (29, 4, [26, 24, 13, 4]), 45: {'average': 0.25, 'base_model_counts': {'correct_predicted_by_all': 4, 'correct_predicted_by_some': [26, 24, 13, 4], 'incorrect_predicted_by_all': 29}, 'bi_lstm': 0.32, 'blend': 0.27, 'cnn': 0.28, 'cnn_bi_lstm': 0.29, 'cnn_lstm': 0.22, 'lstm': 0.38, 'majority': 0.3}, 47:    cnn  lstm  bi_lstm  cnn_lstm  cnn_bi_lstm\n0  ...   2\n4    3     1        1         2            0, 48: <matplotlib.axes._subplots.AxesSubplot object>, ...}, 'StratifiedKFold': <class 'sklearn.model_selection._split.StratifiedKFold'>, 'Tokenizer': <class 'keras.preprocessing.text.Tokenizer'>, 'XGBClassifier': <class 'xgboost.sklearn.XGBClassifier'>, '_': array([[0.19140796, 0.26737565, 0.27935123, 0.21...3, 0.21926825, 0.01320084]],\n      dtype=float32), ...}\n        self.user_ns = {'GridSearchCV': <class 'sklearn.model_selection._search.GridSearchCV'>, 'In': ['', \"# import matplotlib\\n# matplotlib.use('Agg')\\nimpo...\\nfrom sklearn.model_selection import GridSearchCV\", 'def load_data_from_file(filename):\\n    with open...()[1:]) for x in lines]\\n    return label,sentence', \"train_labels,train_sentences = load_data_from_fi...oad_data_from_file('dataset/sst1/stsa.fine.test')\", 'train_sentences = train_sentences+dev_sentence\\ntrain_labels = train_labels+dev_label', 'len(train_labels),len(train_sentences),len(test_labels),len(test_sentences)', 'train_labels = train_labels[:500]\\ntrain_sentence...abels[:100]\\ntest_sentences = test_sentences[:100]', 'number_of_classes = len(set(train_labels))\\nnumber_of_classes', 'len(train_labels),len(train_sentences),len(test_labels),len(test_sentences)', \"def remove_punctuation(s):\\n    list_punctuation ...tuation:\\n        s = s.replace(i,'')\\n    return s\", \"def clean_sentence(sentence):\\n    #removes links...]\\n    tokens = ' '.join(tokens)\\n    return tokens\", 'print(\"cleaning data\")\\ntrainX = [clean_sentence(...trainY = np.array(train_labels)\\ntestY=test_labels', 'max_len = 24', 'def create_tokenizer(lines):\\n    tokenizer = Tok...okenizer.fit_on_texts(lines)\\n    return tokenizer', \"def encode_text(tokenizer, lines, length):\\n    e... maxlen=length, padding='post')\\n    return padded\", 'def load_godin_word_embedding(path):\\n    print(\"....Word2Vec.load_word2vec_format(path, binary=True)', 'def load_google_word2vec(file_name):\\n    print(\"...tors.load_word2vec_format(file_name, binary=True)', 'def get_word_embedding_matrix(model,dim):\\n    #d...x[i]=embedding_vector\\n    return embedding_matrix', 'tokenizer = create_tokenizer(trainX)\\nvocab_size ...categorical(trainY,num_classes=number_of_classes)', '# godin_model = load_godin_word_embedding(\"../wo...d_embeddings/GoogleNews-vectors-negative300.bin\\')', ...], 'K': <module 'keras.backend' from '/home/hitkul/anaco...thon3.6/site-packages/keras/backend/__init__.py'>, 'KeyedVectors': <class 'gensim.models.keyedvectors.EuclideanKeyedVectors'>, 'LogisticRegression': <class 'sklearn.linear_model.logistic.LogisticRegression'>, 'Out': {5: (9645, 9645, 2210, 2210), 7: 5, 8: (500, 500, 100, 100), 34: {'average': 0.25, 'base_model_counts': {'correct_predicted_by_all': 4, 'correct_predicted_by_some': [26, 24, 13, 4], 'incorrect_predicted_by_all': 29}, 'bi_lstm': 0.32, 'blend': 0.27, 'cnn': 0.28, 'cnn_bi_lstm': 0.29, 'cnn_lstm': 0.22, 'lstm': 0.38, 'majority': 0.3}, 35: array([[1, 1, 1, 2, 2],\n       [3, 3, 3, 4, 3],\n..., 3, 2, 2],\n       [3, 1, 3, 4, 3]], dtype=int32), 36: array([[[0.18933415, 0.23297822, 0.17012943, 0.1....26987383, 0.17061943, 0.49888965, 0.12068157]]]), 41: (29, 4, [26, 24, 13, 4]), 45: {'average': 0.25, 'base_model_counts': {'correct_predicted_by_all': 4, 'correct_predicted_by_some': [26, 24, 13, 4], 'incorrect_predicted_by_all': 29}, 'bi_lstm': 0.32, 'blend': 0.27, 'cnn': 0.28, 'cnn_bi_lstm': 0.29, 'cnn_lstm': 0.22, 'lstm': 0.38, 'majority': 0.3}, 47:    cnn  lstm  bi_lstm  cnn_lstm  cnn_bi_lstm\n0  ...   2\n4    3     1        1         2            0, 48: <matplotlib.axes._subplots.AxesSubplot object>, ...}, 'StratifiedKFold': <class 'sklearn.model_selection._split.StratifiedKFold'>, 'Tokenizer': <class 'keras.preprocessing.text.Tokenizer'>, 'XGBClassifier': <class 'xgboost.sklearn.XGBClassifier'>, '_': array([[0.19140796, 0.26737565, 0.27935123, 0.21...3, 0.21926825, 0.01320084]],\n      dtype=float32), ...}\n   2863             finally:\n   2864                 # Reset our crash handler in place\n   2865                 sys.excepthook = old_excepthook\n   2866         except SystemExit as e:\n\n...........................................................................\n/home/hitkul/Desktop/ps3_iiit/ensembl_work/ensemble_experiments/sst1/<ipython-input-82-c1e5ff0f2cdd> in <module>()\n----> 1 grid_result = grid_search.fit(metaX,devY)\n\n...........................................................................\n/home/hitkul/anaconda3/envs/ps3/lib/python3.6/site-packages/sklearn/model_selection/_search.py in fit(self=GridSearchCV(cv=StratifiedKFold(n_splits=10, ran...'warn',\n       scoring='neg_log_loss', verbose=1), X=array([[3, 1, 3, 1, 2],\n       [3, 1, 1, 1, 1],\n..., 3, 3, 3],\n       [3, 1, 3, 2, 1]], dtype=int32), y=[3, 0, 4, 0, 1, 0, 3, 1, 4, 4, 4, 4, 2, 1, 3, 2, 3, 4, 0, 4, ...], groups=None, **fit_params={})\n    634                                   return_train_score=self.return_train_score,\n    635                                   return_n_test_samples=True,\n    636                                   return_times=True, return_parameters=False,\n    637                                   error_score=self.error_score)\n    638           for parameters, (train, test) in product(candidate_params,\n--> 639                                                    cv.split(X, y, groups)))\n        cv.split = <bound method StratifiedKFold.split of StratifiedKFold(n_splits=10, random_state=42, shuffle=True)>\n        X = array([[3, 1, 3, 1, 2],\n       [3, 1, 1, 1, 1],\n..., 3, 3, 3],\n       [3, 1, 3, 2, 1]], dtype=int32)\n        y = [3, 0, 4, 0, 1, 0, 3, 1, 4, 4, 4, 4, 2, 1, 3, 2, 3, 4, 0, 4, ...]\n        groups = None\n    640 \n    641         # if one choose to see train score, \"out\" will contain train score info\n    642         if self.return_train_score:\n    643             (train_score_dicts, test_score_dicts, test_sample_counts, fit_time,\n\n...........................................................................\n/home/hitkul/anaconda3/envs/ps3/lib/python3.6/site-packages/sklearn/externals/joblib/parallel.py in __call__(self=Parallel(n_jobs=-1), iterable=<generator object BaseSearchCV.fit.<locals>.<genexpr>>)\n    784             if pre_dispatch == \"all\" or n_jobs == 1:\n    785                 # The iterable was consumed all at once by the above for loop.\n    786                 # No need to wait for async callbacks to trigger to\n    787                 # consumption.\n    788                 self._iterating = False\n--> 789             self.retrieve()\n        self.retrieve = <bound method Parallel.retrieve of Parallel(n_jobs=-1)>\n    790             # Make sure that we get a last message telling us we are done\n    791             elapsed_time = time.time() - self._start_time\n    792             self._print('Done %3i out of %3i | elapsed: %s finished',\n    793                         (len(self._output), len(self._output),\n\n---------------------------------------------------------------------------\nSub-process traceback:\n---------------------------------------------------------------------------\nValueError                                         Sun Apr 15 15:31:23 2018\nPID: 597           Python 3.6.3: /home/hitkul/anaconda3/envs/ps3/bin/python\n...........................................................................\n/home/hitkul/anaconda3/envs/ps3/lib/python3.6/site-packages/sklearn/externals/joblib/parallel.py in __call__(self=<sklearn.externals.joblib.parallel.BatchedCalls object>)\n    126     def __init__(self, iterator_slice):\n    127         self.items = list(iterator_slice)\n    128         self._size = len(self.items)\n    129 \n    130     def __call__(self):\n--> 131         return [func(*args, **kwargs) for func, args, kwargs in self.items]\n        self.items = [(<function _fit_and_score>, (XGBClassifier(base_score=0.5, booster='gbtree', ...=1, seed=None,\n       silent=True, subsample=0.6), array([[3, 1, 3, 1, 2],\n       [3, 1, 1, 1, 1],\n..., 3, 3, 3],\n       [3, 1, 3, 2, 1]], dtype=int32), [3, 0, 4, 0, 1, 0, 3, 1, 4, 4, 4, 4, 2, 1, 3, 2, 3, 4, 0, 4, ...], {'score': make_scorer(log_loss, greater_is_better=False, needs_proba=True)}, array([ 1,  2,  3,  4,  5,  6,  7,  8,  9, 10, 1...,\n       39, 40, 41, 42, 44, 45, 46, 47, 48, 49]), array([ 0, 29, 30, 34, 38, 43]), 1, {'colsample_bytree': 0.6, 'max_depth': 3, 'n_estimators': 1000, 'reg_alpha': 0.01, 'subsample': 0.6}), {'error_score': 'raise', 'fit_params': {}, 'return_n_test_samples': True, 'return_parameters': False, 'return_times': True, 'return_train_score': 'warn'})]\n    132 \n    133     def __len__(self):\n    134         return self._size\n    135 \n\n...........................................................................\n/home/hitkul/anaconda3/envs/ps3/lib/python3.6/site-packages/sklearn/externals/joblib/parallel.py in <listcomp>(.0=<list_iterator object>)\n    126     def __init__(self, iterator_slice):\n    127         self.items = list(iterator_slice)\n    128         self._size = len(self.items)\n    129 \n    130     def __call__(self):\n--> 131         return [func(*args, **kwargs) for func, args, kwargs in self.items]\n        func = <function _fit_and_score>\n        args = (XGBClassifier(base_score=0.5, booster='gbtree', ...=1, seed=None,\n       silent=True, subsample=0.6), array([[3, 1, 3, 1, 2],\n       [3, 1, 1, 1, 1],\n..., 3, 3, 3],\n       [3, 1, 3, 2, 1]], dtype=int32), [3, 0, 4, 0, 1, 0, 3, 1, 4, 4, 4, 4, 2, 1, 3, 2, 3, 4, 0, 4, ...], {'score': make_scorer(log_loss, greater_is_better=False, needs_proba=True)}, array([ 1,  2,  3,  4,  5,  6,  7,  8,  9, 10, 1...,\n       39, 40, 41, 42, 44, 45, 46, 47, 48, 49]), array([ 0, 29, 30, 34, 38, 43]), 1, {'colsample_bytree': 0.6, 'max_depth': 3, 'n_estimators': 1000, 'reg_alpha': 0.01, 'subsample': 0.6})\n        kwargs = {'error_score': 'raise', 'fit_params': {}, 'return_n_test_samples': True, 'return_parameters': False, 'return_times': True, 'return_train_score': 'warn'}\n    132 \n    133     def __len__(self):\n    134         return self._size\n    135 \n\n...........................................................................\n/home/hitkul/anaconda3/envs/ps3/lib/python3.6/site-packages/sklearn/model_selection/_validation.py in _fit_and_score(estimator=XGBClassifier(base_score=0.5, booster='gbtree', ...=1, seed=None,\n       silent=True, subsample=0.6), X=array([[3, 1, 3, 1, 2],\n       [3, 1, 1, 1, 1],\n..., 3, 3, 3],\n       [3, 1, 3, 2, 1]], dtype=int32), y=[3, 0, 4, 0, 1, 0, 3, 1, 4, 4, 4, 4, 2, 1, 3, 2, 3, 4, 0, 4, ...], scorer={'score': make_scorer(log_loss, greater_is_better=False, needs_proba=True)}, train=array([ 1,  2,  3,  4,  5,  6,  7,  8,  9, 10, 1...,\n       39, 40, 41, 42, 44, 45, 46, 47, 48, 49]), test=array([ 0, 29, 30, 34, 38, 43]), verbose=1, parameters={'colsample_bytree': 0.6, 'max_depth': 3, 'n_estimators': 1000, 'reg_alpha': 0.01, 'subsample': 0.6}, fit_params={}, return_train_score='warn', return_parameters=False, return_n_test_samples=True, return_times=True, error_score='raise')\n    483                              \" make sure that it has been spelled correctly.)\")\n    484 \n    485     else:\n    486         fit_time = time.time() - start_time\n    487         # _score will return dict if is_multimetric is True\n--> 488         test_scores = _score(estimator, X_test, y_test, scorer, is_multimetric)\n        test_scores = {}\n        estimator = XGBClassifier(base_score=0.5, booster='gbtree', ...=1, seed=None,\n       silent=True, subsample=0.6)\n        X_test = array([[3, 1, 3, 1, 2],\n       [3, 1, 3, 3, 3],\n..., 3, 2, 1],\n       [3, 4, 3, 4, 4]], dtype=int32)\n        y_test = [3, 3, 4, 1, 1, 4]\n        scorer = {'score': make_scorer(log_loss, greater_is_better=False, needs_proba=True)}\n        is_multimetric = True\n    489         score_time = time.time() - start_time - fit_time\n    490         if return_train_score:\n    491             train_scores = _score(estimator, X_train, y_train, scorer,\n    492                                   is_multimetric)\n\n...........................................................................\n/home/hitkul/anaconda3/envs/ps3/lib/python3.6/site-packages/sklearn/model_selection/_validation.py in _score(estimator=XGBClassifier(base_score=0.5, booster='gbtree', ...=1, seed=None,\n       silent=True, subsample=0.6), X_test=array([[3, 1, 3, 1, 2],\n       [3, 1, 3, 3, 3],\n..., 3, 2, 1],\n       [3, 4, 3, 4, 4]], dtype=int32), y_test=[3, 3, 4, 1, 1, 4], scorer={'score': make_scorer(log_loss, greater_is_better=False, needs_proba=True)}, is_multimetric=True)\n    518 \n    519     Will return a single float if is_multimetric is False and a dict of floats,\n    520     if is_multimetric is True\n    521     \"\"\"\n    522     if is_multimetric:\n--> 523         return _multimetric_score(estimator, X_test, y_test, scorer)\n        estimator = XGBClassifier(base_score=0.5, booster='gbtree', ...=1, seed=None,\n       silent=True, subsample=0.6)\n        X_test = array([[3, 1, 3, 1, 2],\n       [3, 1, 3, 3, 3],\n..., 3, 2, 1],\n       [3, 4, 3, 4, 4]], dtype=int32)\n        y_test = [3, 3, 4, 1, 1, 4]\n        scorer = {'score': make_scorer(log_loss, greater_is_better=False, needs_proba=True)}\n    524     else:\n    525         if y_test is None:\n    526             score = scorer(estimator, X_test)\n    527         else:\n\n...........................................................................\n/home/hitkul/anaconda3/envs/ps3/lib/python3.6/site-packages/sklearn/model_selection/_validation.py in _multimetric_score(estimator=XGBClassifier(base_score=0.5, booster='gbtree', ...=1, seed=None,\n       silent=True, subsample=0.6), X_test=array([[3, 1, 3, 1, 2],\n       [3, 1, 3, 3, 3],\n..., 3, 2, 1],\n       [3, 4, 3, 4, 4]], dtype=int32), y_test=[3, 3, 4, 1, 1, 4], scorers={'score': make_scorer(log_loss, greater_is_better=False, needs_proba=True)})\n    548 \n    549     for name, scorer in scorers.items():\n    550         if y_test is None:\n    551             score = scorer(estimator, X_test)\n    552         else:\n--> 553             score = scorer(estimator, X_test, y_test)\n        score = undefined\n        scorer = make_scorer(log_loss, greater_is_better=False, needs_proba=True)\n        estimator = XGBClassifier(base_score=0.5, booster='gbtree', ...=1, seed=None,\n       silent=True, subsample=0.6)\n        X_test = array([[3, 1, 3, 1, 2],\n       [3, 1, 3, 3, 3],\n..., 3, 2, 1],\n       [3, 4, 3, 4, 4]], dtype=int32)\n        y_test = [3, 3, 4, 1, 1, 4]\n    554 \n    555         if hasattr(score, 'item'):\n    556             try:\n    557                 # e.g. unwrap memmapped scalars\n\n...........................................................................\n/home/hitkul/anaconda3/envs/ps3/lib/python3.6/site-packages/sklearn/metrics/scorer.py in __call__(self=make_scorer(log_loss, greater_is_better=False, needs_proba=True), clf=XGBClassifier(base_score=0.5, booster='gbtree', ...=1, seed=None,\n       silent=True, subsample=0.6), X=array([[3, 1, 3, 1, 2],\n       [3, 1, 3, 3, 3],\n..., 3, 2, 1],\n       [3, 4, 3, 4, 4]], dtype=int32), y=[3, 3, 4, 1, 1, 4], sample_weight=None)\n    139         if sample_weight is not None:\n    140             return self._sign * self._score_func(y, y_pred,\n    141                                                  sample_weight=sample_weight,\n    142                                                  **self._kwargs)\n    143         else:\n--> 144             return self._sign * self._score_func(y, y_pred, **self._kwargs)\n        self._sign = -1\n        self._score_func = <function log_loss>\n        y = [3, 3, 4, 1, 1, 4]\n        y_pred = array([[4.6107150e-03, 6.6105820e-02, 9.2523319e...7611e-01,\n        4.9448857e-01]], dtype=float32)\n        self._kwargs = {}\n    145 \n    146     def _factory_args(self):\n    147         return \", needs_proba=True\"\n    148 \n\n...........................................................................\n/home/hitkul/anaconda3/envs/ps3/lib/python3.6/site-packages/sklearn/metrics/classification.py in log_loss(y_true=[3, 3, 4, 1, 1, 4], y_pred=array([[4.6107150e-03, 6.6105820e-02, 9.2523319e...7611e-01,\n        4.9448857e-01]], dtype=float32), eps=1e-15, normalize=True, sample_weight=None, labels=None)\n   1681                              \"classes {0}, {1}. Please provide the true \"\n   1682                              \"labels explicitly through the labels argument. \"\n   1683                              \"Classes found in \"\n   1684                              \"y_true: {2}\".format(transformed_labels.shape[1],\n   1685                                                   y_pred.shape[1],\n-> 1686                                                   lb.classes_))\n        lb.classes_ = array([1, 3, 4])\n   1687         else:\n   1688             raise ValueError('The number of classes in labels is different '\n   1689                              'from that in y_pred. Classes found in '\n   1690                              'labels: {0}'.format(lb.classes_))\n\nValueError: y_true and y_pred contain different number of classes 3, 5. Please provide the true labels explicitly through the labels argument. Classes found in y_true: [1 3 4]\n___________________________________________________________________________",
     "output_type": "error",
     "traceback": [
      "\u001b[0;31m---------------------------------------------------------------------------\u001b[0m",
      "\u001b[0;31mRemoteTraceback\u001b[0m                           Traceback (most recent call last)",
      "\u001b[0;31mRemoteTraceback\u001b[0m: \n\"\"\"\nTraceback (most recent call last):\n  File \"/home/hitkul/anaconda3/envs/ps3/lib/python3.6/site-packages/sklearn/externals/joblib/_parallel_backends.py\", line 350, in __call__\n    return self.func(*args, **kwargs)\n  File \"/home/hitkul/anaconda3/envs/ps3/lib/python3.6/site-packages/sklearn/externals/joblib/parallel.py\", line 131, in __call__\n    return [func(*args, **kwargs) for func, args, kwargs in self.items]\n  File \"/home/hitkul/anaconda3/envs/ps3/lib/python3.6/site-packages/sklearn/externals/joblib/parallel.py\", line 131, in <listcomp>\n    return [func(*args, **kwargs) for func, args, kwargs in self.items]\n  File \"/home/hitkul/anaconda3/envs/ps3/lib/python3.6/site-packages/sklearn/model_selection/_validation.py\", line 488, in _fit_and_score\n    test_scores = _score(estimator, X_test, y_test, scorer, is_multimetric)\n  File \"/home/hitkul/anaconda3/envs/ps3/lib/python3.6/site-packages/sklearn/model_selection/_validation.py\", line 523, in _score\n    return _multimetric_score(estimator, X_test, y_test, scorer)\n  File \"/home/hitkul/anaconda3/envs/ps3/lib/python3.6/site-packages/sklearn/model_selection/_validation.py\", line 553, in _multimetric_score\n    score = scorer(estimator, X_test, y_test)\n  File \"/home/hitkul/anaconda3/envs/ps3/lib/python3.6/site-packages/sklearn/metrics/scorer.py\", line 144, in __call__\n    return self._sign * self._score_func(y, y_pred, **self._kwargs)\n  File \"/home/hitkul/anaconda3/envs/ps3/lib/python3.6/site-packages/sklearn/metrics/classification.py\", line 1686, in log_loss\n    lb.classes_))\nValueError: y_true and y_pred contain different number of classes 3, 5. Please provide the true labels explicitly through the labels argument. Classes found in y_true: [1 3 4]\n\nDuring handling of the above exception, another exception occurred:\n\nTraceback (most recent call last):\n  File \"/home/hitkul/anaconda3/envs/ps3/lib/python3.6/multiprocessing/pool.py\", line 119, in worker\n    result = (True, func(*args, **kwds))\n  File \"/home/hitkul/anaconda3/envs/ps3/lib/python3.6/site-packages/sklearn/externals/joblib/_parallel_backends.py\", line 359, in __call__\n    raise TransportableException(text, e_type)\nsklearn.externals.joblib.my_exceptions.TransportableException: TransportableException\n___________________________________________________________________________\nValueError                                         Sun Apr 15 15:31:23 2018\nPID: 597           Python 3.6.3: /home/hitkul/anaconda3/envs/ps3/bin/python\n...........................................................................\n/home/hitkul/anaconda3/envs/ps3/lib/python3.6/site-packages/sklearn/externals/joblib/parallel.py in __call__(self=<sklearn.externals.joblib.parallel.BatchedCalls object>)\n    126     def __init__(self, iterator_slice):\n    127         self.items = list(iterator_slice)\n    128         self._size = len(self.items)\n    129 \n    130     def __call__(self):\n--> 131         return [func(*args, **kwargs) for func, args, kwargs in self.items]\n        self.items = [(<function _fit_and_score>, (XGBClassifier(base_score=0.5, booster='gbtree', ...=1, seed=None,\n       silent=True, subsample=0.6), array([[3, 1, 3, 1, 2],\n       [3, 1, 1, 1, 1],\n..., 3, 3, 3],\n       [3, 1, 3, 2, 1]], dtype=int32), [3, 0, 4, 0, 1, 0, 3, 1, 4, 4, 4, 4, 2, 1, 3, 2, 3, 4, 0, 4, ...], {'score': make_scorer(log_loss, greater_is_better=False, needs_proba=True)}, array([ 1,  2,  3,  4,  5,  6,  7,  8,  9, 10, 1...,\n       39, 40, 41, 42, 44, 45, 46, 47, 48, 49]), array([ 0, 29, 30, 34, 38, 43]), 1, {'colsample_bytree': 0.6, 'max_depth': 3, 'n_estimators': 1000, 'reg_alpha': 0.01, 'subsample': 0.6}), {'error_score': 'raise', 'fit_params': {}, 'return_n_test_samples': True, 'return_parameters': False, 'return_times': True, 'return_train_score': 'warn'})]\n    132 \n    133     def __len__(self):\n    134         return self._size\n    135 \n\n...........................................................................\n/home/hitkul/anaconda3/envs/ps3/lib/python3.6/site-packages/sklearn/externals/joblib/parallel.py in <listcomp>(.0=<list_iterator object>)\n    126     def __init__(self, iterator_slice):\n    127         self.items = list(iterator_slice)\n    128         self._size = len(self.items)\n    129 \n    130     def __call__(self):\n--> 131         return [func(*args, **kwargs) for func, args, kwargs in self.items]\n        func = <function _fit_and_score>\n        args = (XGBClassifier(base_score=0.5, booster='gbtree', ...=1, seed=None,\n       silent=True, subsample=0.6), array([[3, 1, 3, 1, 2],\n       [3, 1, 1, 1, 1],\n..., 3, 3, 3],\n       [3, 1, 3, 2, 1]], dtype=int32), [3, 0, 4, 0, 1, 0, 3, 1, 4, 4, 4, 4, 2, 1, 3, 2, 3, 4, 0, 4, ...], {'score': make_scorer(log_loss, greater_is_better=False, needs_proba=True)}, array([ 1,  2,  3,  4,  5,  6,  7,  8,  9, 10, 1...,\n       39, 40, 41, 42, 44, 45, 46, 47, 48, 49]), array([ 0, 29, 30, 34, 38, 43]), 1, {'colsample_bytree': 0.6, 'max_depth': 3, 'n_estimators': 1000, 'reg_alpha': 0.01, 'subsample': 0.6})\n        kwargs = {'error_score': 'raise', 'fit_params': {}, 'return_n_test_samples': True, 'return_parameters': False, 'return_times': True, 'return_train_score': 'warn'}\n    132 \n    133     def __len__(self):\n    134         return self._size\n    135 \n\n...........................................................................\n/home/hitkul/anaconda3/envs/ps3/lib/python3.6/site-packages/sklearn/model_selection/_validation.py in _fit_and_score(estimator=XGBClassifier(base_score=0.5, booster='gbtree', ...=1, seed=None,\n       silent=True, subsample=0.6), X=array([[3, 1, 3, 1, 2],\n       [3, 1, 1, 1, 1],\n..., 3, 3, 3],\n       [3, 1, 3, 2, 1]], dtype=int32), y=[3, 0, 4, 0, 1, 0, 3, 1, 4, 4, 4, 4, 2, 1, 3, 2, 3, 4, 0, 4, ...], scorer={'score': make_scorer(log_loss, greater_is_better=False, needs_proba=True)}, train=array([ 1,  2,  3,  4,  5,  6,  7,  8,  9, 10, 1...,\n       39, 40, 41, 42, 44, 45, 46, 47, 48, 49]), test=array([ 0, 29, 30, 34, 38, 43]), verbose=1, parameters={'colsample_bytree': 0.6, 'max_depth': 3, 'n_estimators': 1000, 'reg_alpha': 0.01, 'subsample': 0.6}, fit_params={}, return_train_score='warn', return_parameters=False, return_n_test_samples=True, return_times=True, error_score='raise')\n    483                              \" make sure that it has been spelled correctly.)\")\n    484 \n    485     else:\n    486         fit_time = time.time() - start_time\n    487         # _score will return dict if is_multimetric is True\n--> 488         test_scores = _score(estimator, X_test, y_test, scorer, is_multimetric)\n        test_scores = {}\n        estimator = XGBClassifier(base_score=0.5, booster='gbtree', ...=1, seed=None,\n       silent=True, subsample=0.6)\n        X_test = array([[3, 1, 3, 1, 2],\n       [3, 1, 3, 3, 3],\n..., 3, 2, 1],\n       [3, 4, 3, 4, 4]], dtype=int32)\n        y_test = [3, 3, 4, 1, 1, 4]\n        scorer = {'score': make_scorer(log_loss, greater_is_better=False, needs_proba=True)}\n        is_multimetric = True\n    489         score_time = time.time() - start_time - fit_time\n    490         if return_train_score:\n    491             train_scores = _score(estimator, X_train, y_train, scorer,\n    492                                   is_multimetric)\n\n...........................................................................\n/home/hitkul/anaconda3/envs/ps3/lib/python3.6/site-packages/sklearn/model_selection/_validation.py in _score(estimator=XGBClassifier(base_score=0.5, booster='gbtree', ...=1, seed=None,\n       silent=True, subsample=0.6), X_test=array([[3, 1, 3, 1, 2],\n       [3, 1, 3, 3, 3],\n..., 3, 2, 1],\n       [3, 4, 3, 4, 4]], dtype=int32), y_test=[3, 3, 4, 1, 1, 4], scorer={'score': make_scorer(log_loss, greater_is_better=False, needs_proba=True)}, is_multimetric=True)\n    518 \n    519     Will return a single float if is_multimetric is False and a dict of floats,\n    520     if is_multimetric is True\n    521     \"\"\"\n    522     if is_multimetric:\n--> 523         return _multimetric_score(estimator, X_test, y_test, scorer)\n        estimator = XGBClassifier(base_score=0.5, booster='gbtree', ...=1, seed=None,\n       silent=True, subsample=0.6)\n        X_test = array([[3, 1, 3, 1, 2],\n       [3, 1, 3, 3, 3],\n..., 3, 2, 1],\n       [3, 4, 3, 4, 4]], dtype=int32)\n        y_test = [3, 3, 4, 1, 1, 4]\n        scorer = {'score': make_scorer(log_loss, greater_is_better=False, needs_proba=True)}\n    524     else:\n    525         if y_test is None:\n    526             score = scorer(estimator, X_test)\n    527         else:\n\n...........................................................................\n/home/hitkul/anaconda3/envs/ps3/lib/python3.6/site-packages/sklearn/model_selection/_validation.py in _multimetric_score(estimator=XGBClassifier(base_score=0.5, booster='gbtree', ...=1, seed=None,\n       silent=True, subsample=0.6), X_test=array([[3, 1, 3, 1, 2],\n       [3, 1, 3, 3, 3],\n..., 3, 2, 1],\n       [3, 4, 3, 4, 4]], dtype=int32), y_test=[3, 3, 4, 1, 1, 4], scorers={'score': make_scorer(log_loss, greater_is_better=False, needs_proba=True)})\n    548 \n    549     for name, scorer in scorers.items():\n    550         if y_test is None:\n    551             score = scorer(estimator, X_test)\n    552         else:\n--> 553             score = scorer(estimator, X_test, y_test)\n        score = undefined\n        scorer = make_scorer(log_loss, greater_is_better=False, needs_proba=True)\n        estimator = XGBClassifier(base_score=0.5, booster='gbtree', ...=1, seed=None,\n       silent=True, subsample=0.6)\n        X_test = array([[3, 1, 3, 1, 2],\n       [3, 1, 3, 3, 3],\n..., 3, 2, 1],\n       [3, 4, 3, 4, 4]], dtype=int32)\n        y_test = [3, 3, 4, 1, 1, 4]\n    554 \n    555         if hasattr(score, 'item'):\n    556             try:\n    557                 # e.g. unwrap memmapped scalars\n\n...........................................................................\n/home/hitkul/anaconda3/envs/ps3/lib/python3.6/site-packages/sklearn/metrics/scorer.py in __call__(self=make_scorer(log_loss, greater_is_better=False, needs_proba=True), clf=XGBClassifier(base_score=0.5, booster='gbtree', ...=1, seed=None,\n       silent=True, subsample=0.6), X=array([[3, 1, 3, 1, 2],\n       [3, 1, 3, 3, 3],\n..., 3, 2, 1],\n       [3, 4, 3, 4, 4]], dtype=int32), y=[3, 3, 4, 1, 1, 4], sample_weight=None)\n    139         if sample_weight is not None:\n    140             return self._sign * self._score_func(y, y_pred,\n    141                                                  sample_weight=sample_weight,\n    142                                                  **self._kwargs)\n    143         else:\n--> 144             return self._sign * self._score_func(y, y_pred, **self._kwargs)\n        self._sign = -1\n        self._score_func = <function log_loss>\n        y = [3, 3, 4, 1, 1, 4]\n        y_pred = array([[4.6107150e-03, 6.6105820e-02, 9.2523319e...7611e-01,\n        4.9448857e-01]], dtype=float32)\n        self._kwargs = {}\n    145 \n    146     def _factory_args(self):\n    147         return \", needs_proba=True\"\n    148 \n\n...........................................................................\n/home/hitkul/anaconda3/envs/ps3/lib/python3.6/site-packages/sklearn/metrics/classification.py in log_loss(y_true=[3, 3, 4, 1, 1, 4], y_pred=array([[4.6107150e-03, 6.6105820e-02, 9.2523319e...7611e-01,\n        4.9448857e-01]], dtype=float32), eps=1e-15, normalize=True, sample_weight=None, labels=None)\n   1681                              \"classes {0}, {1}. Please provide the true \"\n   1682                              \"labels explicitly through the labels argument. \"\n   1683                              \"Classes found in \"\n   1684                              \"y_true: {2}\".format(transformed_labels.shape[1],\n   1685                                                   y_pred.shape[1],\n-> 1686                                                   lb.classes_))\n        lb.classes_ = array([1, 3, 4])\n   1687         else:\n   1688             raise ValueError('The number of classes in labels is different '\n   1689                              'from that in y_pred. Classes found in '\n   1690                              'labels: {0}'.format(lb.classes_))\n\nValueError: y_true and y_pred contain different number of classes 3, 5. Please provide the true labels explicitly through the labels argument. Classes found in y_true: [1 3 4]\n___________________________________________________________________________\n\"\"\"",
      "\nThe above exception was the direct cause of the following exception:\n",
      "\u001b[0;31mTransportableException\u001b[0m                    Traceback (most recent call last)",
      "\u001b[0;32m~/anaconda3/envs/ps3/lib/python3.6/site-packages/sklearn/externals/joblib/parallel.py\u001b[0m in \u001b[0;36mretrieve\u001b[0;34m(self)\u001b[0m\n\u001b[1;32m    698\u001b[0m                 \u001b[0;32mif\u001b[0m \u001b[0mgetattr\u001b[0m\u001b[0;34m(\u001b[0m\u001b[0mself\u001b[0m\u001b[0;34m.\u001b[0m\u001b[0m_backend\u001b[0m\u001b[0;34m,\u001b[0m \u001b[0;34m'supports_timeout'\u001b[0m\u001b[0;34m,\u001b[0m \u001b[0;32mFalse\u001b[0m\u001b[0;34m)\u001b[0m\u001b[0;34m:\u001b[0m\u001b[0;34m\u001b[0m\u001b[0m\n\u001b[0;32m--> 699\u001b[0;31m                     \u001b[0mself\u001b[0m\u001b[0;34m.\u001b[0m\u001b[0m_output\u001b[0m\u001b[0;34m.\u001b[0m\u001b[0mextend\u001b[0m\u001b[0;34m(\u001b[0m\u001b[0mjob\u001b[0m\u001b[0;34m.\u001b[0m\u001b[0mget\u001b[0m\u001b[0;34m(\u001b[0m\u001b[0mtimeout\u001b[0m\u001b[0;34m=\u001b[0m\u001b[0mself\u001b[0m\u001b[0;34m.\u001b[0m\u001b[0mtimeout\u001b[0m\u001b[0;34m)\u001b[0m\u001b[0;34m)\u001b[0m\u001b[0;34m\u001b[0m\u001b[0m\n\u001b[0m\u001b[1;32m    700\u001b[0m                 \u001b[0;32melse\u001b[0m\u001b[0;34m:\u001b[0m\u001b[0;34m\u001b[0m\u001b[0m\n",
      "\u001b[0;32m~/anaconda3/envs/ps3/lib/python3.6/multiprocessing/pool.py\u001b[0m in \u001b[0;36mget\u001b[0;34m(self, timeout)\u001b[0m\n\u001b[1;32m    643\u001b[0m         \u001b[0;32melse\u001b[0m\u001b[0;34m:\u001b[0m\u001b[0;34m\u001b[0m\u001b[0m\n\u001b[0;32m--> 644\u001b[0;31m             \u001b[0;32mraise\u001b[0m \u001b[0mself\u001b[0m\u001b[0;34m.\u001b[0m\u001b[0m_value\u001b[0m\u001b[0;34m\u001b[0m\u001b[0m\n\u001b[0m\u001b[1;32m    645\u001b[0m \u001b[0;34m\u001b[0m\u001b[0m\n",
      "\u001b[0;31mTransportableException\u001b[0m: TransportableException\n___________________________________________________________________________\nValueError                                         Sun Apr 15 15:31:23 2018\nPID: 597           Python 3.6.3: /home/hitkul/anaconda3/envs/ps3/bin/python\n...........................................................................\n/home/hitkul/anaconda3/envs/ps3/lib/python3.6/site-packages/sklearn/externals/joblib/parallel.py in __call__(self=<sklearn.externals.joblib.parallel.BatchedCalls object>)\n    126     def __init__(self, iterator_slice):\n    127         self.items = list(iterator_slice)\n    128         self._size = len(self.items)\n    129 \n    130     def __call__(self):\n--> 131         return [func(*args, **kwargs) for func, args, kwargs in self.items]\n        self.items = [(<function _fit_and_score>, (XGBClassifier(base_score=0.5, booster='gbtree', ...=1, seed=None,\n       silent=True, subsample=0.6), array([[3, 1, 3, 1, 2],\n       [3, 1, 1, 1, 1],\n..., 3, 3, 3],\n       [3, 1, 3, 2, 1]], dtype=int32), [3, 0, 4, 0, 1, 0, 3, 1, 4, 4, 4, 4, 2, 1, 3, 2, 3, 4, 0, 4, ...], {'score': make_scorer(log_loss, greater_is_better=False, needs_proba=True)}, array([ 1,  2,  3,  4,  5,  6,  7,  8,  9, 10, 1...,\n       39, 40, 41, 42, 44, 45, 46, 47, 48, 49]), array([ 0, 29, 30, 34, 38, 43]), 1, {'colsample_bytree': 0.6, 'max_depth': 3, 'n_estimators': 1000, 'reg_alpha': 0.01, 'subsample': 0.6}), {'error_score': 'raise', 'fit_params': {}, 'return_n_test_samples': True, 'return_parameters': False, 'return_times': True, 'return_train_score': 'warn'})]\n    132 \n    133     def __len__(self):\n    134         return self._size\n    135 \n\n...........................................................................\n/home/hitkul/anaconda3/envs/ps3/lib/python3.6/site-packages/sklearn/externals/joblib/parallel.py in <listcomp>(.0=<list_iterator object>)\n    126     def __init__(self, iterator_slice):\n    127         self.items = list(iterator_slice)\n    128         self._size = len(self.items)\n    129 \n    130     def __call__(self):\n--> 131         return [func(*args, **kwargs) for func, args, kwargs in self.items]\n        func = <function _fit_and_score>\n        args = (XGBClassifier(base_score=0.5, booster='gbtree', ...=1, seed=None,\n       silent=True, subsample=0.6), array([[3, 1, 3, 1, 2],\n       [3, 1, 1, 1, 1],\n..., 3, 3, 3],\n       [3, 1, 3, 2, 1]], dtype=int32), [3, 0, 4, 0, 1, 0, 3, 1, 4, 4, 4, 4, 2, 1, 3, 2, 3, 4, 0, 4, ...], {'score': make_scorer(log_loss, greater_is_better=False, needs_proba=True)}, array([ 1,  2,  3,  4,  5,  6,  7,  8,  9, 10, 1...,\n       39, 40, 41, 42, 44, 45, 46, 47, 48, 49]), array([ 0, 29, 30, 34, 38, 43]), 1, {'colsample_bytree': 0.6, 'max_depth': 3, 'n_estimators': 1000, 'reg_alpha': 0.01, 'subsample': 0.6})\n        kwargs = {'error_score': 'raise', 'fit_params': {}, 'return_n_test_samples': True, 'return_parameters': False, 'return_times': True, 'return_train_score': 'warn'}\n    132 \n    133     def __len__(self):\n    134         return self._size\n    135 \n\n...........................................................................\n/home/hitkul/anaconda3/envs/ps3/lib/python3.6/site-packages/sklearn/model_selection/_validation.py in _fit_and_score(estimator=XGBClassifier(base_score=0.5, booster='gbtree', ...=1, seed=None,\n       silent=True, subsample=0.6), X=array([[3, 1, 3, 1, 2],\n       [3, 1, 1, 1, 1],\n..., 3, 3, 3],\n       [3, 1, 3, 2, 1]], dtype=int32), y=[3, 0, 4, 0, 1, 0, 3, 1, 4, 4, 4, 4, 2, 1, 3, 2, 3, 4, 0, 4, ...], scorer={'score': make_scorer(log_loss, greater_is_better=False, needs_proba=True)}, train=array([ 1,  2,  3,  4,  5,  6,  7,  8,  9, 10, 1...,\n       39, 40, 41, 42, 44, 45, 46, 47, 48, 49]), test=array([ 0, 29, 30, 34, 38, 43]), verbose=1, parameters={'colsample_bytree': 0.6, 'max_depth': 3, 'n_estimators': 1000, 'reg_alpha': 0.01, 'subsample': 0.6}, fit_params={}, return_train_score='warn', return_parameters=False, return_n_test_samples=True, return_times=True, error_score='raise')\n    483                              \" make sure that it has been spelled correctly.)\")\n    484 \n    485     else:\n    486         fit_time = time.time() - start_time\n    487         # _score will return dict if is_multimetric is True\n--> 488         test_scores = _score(estimator, X_test, y_test, scorer, is_multimetric)\n        test_scores = {}\n        estimator = XGBClassifier(base_score=0.5, booster='gbtree', ...=1, seed=None,\n       silent=True, subsample=0.6)\n        X_test = array([[3, 1, 3, 1, 2],\n       [3, 1, 3, 3, 3],\n..., 3, 2, 1],\n       [3, 4, 3, 4, 4]], dtype=int32)\n        y_test = [3, 3, 4, 1, 1, 4]\n        scorer = {'score': make_scorer(log_loss, greater_is_better=False, needs_proba=True)}\n        is_multimetric = True\n    489         score_time = time.time() - start_time - fit_time\n    490         if return_train_score:\n    491             train_scores = _score(estimator, X_train, y_train, scorer,\n    492                                   is_multimetric)\n\n...........................................................................\n/home/hitkul/anaconda3/envs/ps3/lib/python3.6/site-packages/sklearn/model_selection/_validation.py in _score(estimator=XGBClassifier(base_score=0.5, booster='gbtree', ...=1, seed=None,\n       silent=True, subsample=0.6), X_test=array([[3, 1, 3, 1, 2],\n       [3, 1, 3, 3, 3],\n..., 3, 2, 1],\n       [3, 4, 3, 4, 4]], dtype=int32), y_test=[3, 3, 4, 1, 1, 4], scorer={'score': make_scorer(log_loss, greater_is_better=False, needs_proba=True)}, is_multimetric=True)\n    518 \n    519     Will return a single float if is_multimetric is False and a dict of floats,\n    520     if is_multimetric is True\n    521     \"\"\"\n    522     if is_multimetric:\n--> 523         return _multimetric_score(estimator, X_test, y_test, scorer)\n        estimator = XGBClassifier(base_score=0.5, booster='gbtree', ...=1, seed=None,\n       silent=True, subsample=0.6)\n        X_test = array([[3, 1, 3, 1, 2],\n       [3, 1, 3, 3, 3],\n..., 3, 2, 1],\n       [3, 4, 3, 4, 4]], dtype=int32)\n        y_test = [3, 3, 4, 1, 1, 4]\n        scorer = {'score': make_scorer(log_loss, greater_is_better=False, needs_proba=True)}\n    524     else:\n    525         if y_test is None:\n    526             score = scorer(estimator, X_test)\n    527         else:\n\n...........................................................................\n/home/hitkul/anaconda3/envs/ps3/lib/python3.6/site-packages/sklearn/model_selection/_validation.py in _multimetric_score(estimator=XGBClassifier(base_score=0.5, booster='gbtree', ...=1, seed=None,\n       silent=True, subsample=0.6), X_test=array([[3, 1, 3, 1, 2],\n       [3, 1, 3, 3, 3],\n..., 3, 2, 1],\n       [3, 4, 3, 4, 4]], dtype=int32), y_test=[3, 3, 4, 1, 1, 4], scorers={'score': make_scorer(log_loss, greater_is_better=False, needs_proba=True)})\n    548 \n    549     for name, scorer in scorers.items():\n    550         if y_test is None:\n    551             score = scorer(estimator, X_test)\n    552         else:\n--> 553             score = scorer(estimator, X_test, y_test)\n        score = undefined\n        scorer = make_scorer(log_loss, greater_is_better=False, needs_proba=True)\n        estimator = XGBClassifier(base_score=0.5, booster='gbtree', ...=1, seed=None,\n       silent=True, subsample=0.6)\n        X_test = array([[3, 1, 3, 1, 2],\n       [3, 1, 3, 3, 3],\n..., 3, 2, 1],\n       [3, 4, 3, 4, 4]], dtype=int32)\n        y_test = [3, 3, 4, 1, 1, 4]\n    554 \n    555         if hasattr(score, 'item'):\n    556             try:\n    557                 # e.g. unwrap memmapped scalars\n\n...........................................................................\n/home/hitkul/anaconda3/envs/ps3/lib/python3.6/site-packages/sklearn/metrics/scorer.py in __call__(self=make_scorer(log_loss, greater_is_better=False, needs_proba=True), clf=XGBClassifier(base_score=0.5, booster='gbtree', ...=1, seed=None,\n       silent=True, subsample=0.6), X=array([[3, 1, 3, 1, 2],\n       [3, 1, 3, 3, 3],\n..., 3, 2, 1],\n       [3, 4, 3, 4, 4]], dtype=int32), y=[3, 3, 4, 1, 1, 4], sample_weight=None)\n    139         if sample_weight is not None:\n    140             return self._sign * self._score_func(y, y_pred,\n    141                                                  sample_weight=sample_weight,\n    142                                                  **self._kwargs)\n    143         else:\n--> 144             return self._sign * self._score_func(y, y_pred, **self._kwargs)\n        self._sign = -1\n        self._score_func = <function log_loss>\n        y = [3, 3, 4, 1, 1, 4]\n        y_pred = array([[4.6107150e-03, 6.6105820e-02, 9.2523319e...7611e-01,\n        4.9448857e-01]], dtype=float32)\n        self._kwargs = {}\n    145 \n    146     def _factory_args(self):\n    147         return \", needs_proba=True\"\n    148 \n\n...........................................................................\n/home/hitkul/anaconda3/envs/ps3/lib/python3.6/site-packages/sklearn/metrics/classification.py in log_loss(y_true=[3, 3, 4, 1, 1, 4], y_pred=array([[4.6107150e-03, 6.6105820e-02, 9.2523319e...7611e-01,\n        4.9448857e-01]], dtype=float32), eps=1e-15, normalize=True, sample_weight=None, labels=None)\n   1681                              \"classes {0}, {1}. Please provide the true \"\n   1682                              \"labels explicitly through the labels argument. \"\n   1683                              \"Classes found in \"\n   1684                              \"y_true: {2}\".format(transformed_labels.shape[1],\n   1685                                                   y_pred.shape[1],\n-> 1686                                                   lb.classes_))\n        lb.classes_ = array([1, 3, 4])\n   1687         else:\n   1688             raise ValueError('The number of classes in labels is different '\n   1689                              'from that in y_pred. Classes found in '\n   1690                              'labels: {0}'.format(lb.classes_))\n\nValueError: y_true and y_pred contain different number of classes 3, 5. Please provide the true labels explicitly through the labels argument. Classes found in y_true: [1 3 4]\n___________________________________________________________________________",
      "\nDuring handling of the above exception, another exception occurred:\n",
      "\u001b[0;31mJoblibValueError\u001b[0m                          Traceback (most recent call last)",
      "\u001b[0;32m<ipython-input-82-c1e5ff0f2cdd>\u001b[0m in \u001b[0;36m<module>\u001b[0;34m()\u001b[0m\n\u001b[0;32m----> 1\u001b[0;31m \u001b[0mgrid_result\u001b[0m \u001b[0;34m=\u001b[0m \u001b[0mgrid_search\u001b[0m\u001b[0;34m.\u001b[0m\u001b[0mfit\u001b[0m\u001b[0;34m(\u001b[0m\u001b[0mmetaX\u001b[0m\u001b[0;34m,\u001b[0m\u001b[0mdevY\u001b[0m\u001b[0;34m)\u001b[0m\u001b[0;34m\u001b[0m\u001b[0m\n\u001b[0m",
      "\u001b[0;32m~/anaconda3/envs/ps3/lib/python3.6/site-packages/sklearn/model_selection/_search.py\u001b[0m in \u001b[0;36mfit\u001b[0;34m(self, X, y, groups, **fit_params)\u001b[0m\n\u001b[1;32m    637\u001b[0m                                   error_score=self.error_score)\n\u001b[1;32m    638\u001b[0m           for parameters, (train, test) in product(candidate_params,\n\u001b[0;32m--> 639\u001b[0;31m                                                    cv.split(X, y, groups)))\n\u001b[0m\u001b[1;32m    640\u001b[0m \u001b[0;34m\u001b[0m\u001b[0m\n\u001b[1;32m    641\u001b[0m         \u001b[0;31m# if one choose to see train score, \"out\" will contain train score info\u001b[0m\u001b[0;34m\u001b[0m\u001b[0;34m\u001b[0m\u001b[0m\n",
      "\u001b[0;32m~/anaconda3/envs/ps3/lib/python3.6/site-packages/sklearn/externals/joblib/parallel.py\u001b[0m in \u001b[0;36m__call__\u001b[0;34m(self, iterable)\u001b[0m\n\u001b[1;32m    787\u001b[0m                 \u001b[0;31m# consumption.\u001b[0m\u001b[0;34m\u001b[0m\u001b[0;34m\u001b[0m\u001b[0m\n\u001b[1;32m    788\u001b[0m                 \u001b[0mself\u001b[0m\u001b[0;34m.\u001b[0m\u001b[0m_iterating\u001b[0m \u001b[0;34m=\u001b[0m \u001b[0;32mFalse\u001b[0m\u001b[0;34m\u001b[0m\u001b[0m\n\u001b[0;32m--> 789\u001b[0;31m             \u001b[0mself\u001b[0m\u001b[0;34m.\u001b[0m\u001b[0mretrieve\u001b[0m\u001b[0;34m(\u001b[0m\u001b[0;34m)\u001b[0m\u001b[0;34m\u001b[0m\u001b[0m\n\u001b[0m\u001b[1;32m    790\u001b[0m             \u001b[0;31m# Make sure that we get a last message telling us we are done\u001b[0m\u001b[0;34m\u001b[0m\u001b[0;34m\u001b[0m\u001b[0m\n\u001b[1;32m    791\u001b[0m             \u001b[0melapsed_time\u001b[0m \u001b[0;34m=\u001b[0m \u001b[0mtime\u001b[0m\u001b[0;34m.\u001b[0m\u001b[0mtime\u001b[0m\u001b[0;34m(\u001b[0m\u001b[0;34m)\u001b[0m \u001b[0;34m-\u001b[0m \u001b[0mself\u001b[0m\u001b[0;34m.\u001b[0m\u001b[0m_start_time\u001b[0m\u001b[0;34m\u001b[0m\u001b[0m\n",
      "\u001b[0;32m~/anaconda3/envs/ps3/lib/python3.6/site-packages/sklearn/externals/joblib/parallel.py\u001b[0m in \u001b[0;36mretrieve\u001b[0;34m(self)\u001b[0m\n\u001b[1;32m    738\u001b[0m                     \u001b[0mexception\u001b[0m \u001b[0;34m=\u001b[0m \u001b[0mexception_type\u001b[0m\u001b[0;34m(\u001b[0m\u001b[0mreport\u001b[0m\u001b[0;34m)\u001b[0m\u001b[0;34m\u001b[0m\u001b[0m\n\u001b[1;32m    739\u001b[0m \u001b[0;34m\u001b[0m\u001b[0m\n\u001b[0;32m--> 740\u001b[0;31m                     \u001b[0;32mraise\u001b[0m \u001b[0mexception\u001b[0m\u001b[0;34m\u001b[0m\u001b[0m\n\u001b[0m\u001b[1;32m    741\u001b[0m \u001b[0;34m\u001b[0m\u001b[0m\n\u001b[1;32m    742\u001b[0m     \u001b[0;32mdef\u001b[0m \u001b[0m__call__\u001b[0m\u001b[0;34m(\u001b[0m\u001b[0mself\u001b[0m\u001b[0;34m,\u001b[0m \u001b[0miterable\u001b[0m\u001b[0;34m)\u001b[0m\u001b[0;34m:\u001b[0m\u001b[0;34m\u001b[0m\u001b[0m\n",
      "\u001b[0;31mJoblibValueError\u001b[0m: JoblibValueError\n___________________________________________________________________________\nMultiprocessing exception:\n...........................................................................\n/home/hitkul/anaconda3/envs/ps3/lib/python3.6/runpy.py in _run_module_as_main(mod_name='ipykernel_launcher', alter_argv=1)\n    188         sys.exit(msg)\n    189     main_globals = sys.modules[\"__main__\"].__dict__\n    190     if alter_argv:\n    191         sys.argv[0] = mod_spec.origin\n    192     return _run_code(code, main_globals, None,\n--> 193                      \"__main__\", mod_spec)\n        mod_spec = ModuleSpec(name='ipykernel_launcher', loader=<_f...b/python3.6/site-packages/ipykernel_launcher.py')\n    194 \n    195 def run_module(mod_name, init_globals=None,\n    196                run_name=None, alter_sys=False):\n    197     \"\"\"Execute a module's code without importing it\n\n...........................................................................\n/home/hitkul/anaconda3/envs/ps3/lib/python3.6/runpy.py in _run_code(code=<code object <module> at 0x7ff8c9bedf60, file \"/...3.6/site-packages/ipykernel_launcher.py\", line 5>, run_globals={'__annotations__': {}, '__builtins__': <module 'builtins' (built-in)>, '__cached__': '/home/hitkul/anaconda3/envs/ps3/lib/python3.6/si...ges/__pycache__/ipykernel_launcher.cpython-36.pyc', '__doc__': 'Entry point for launching an IPython kernel.\\n\\nTh...orts until\\nafter removing the cwd from sys.path.\\n', '__file__': '/home/hitkul/anaconda3/envs/ps3/lib/python3.6/site-packages/ipykernel_launcher.py', '__loader__': <_frozen_importlib_external.SourceFileLoader object>, '__name__': '__main__', '__package__': '', '__spec__': ModuleSpec(name='ipykernel_launcher', loader=<_f...b/python3.6/site-packages/ipykernel_launcher.py'), 'app': <module 'ipykernel.kernelapp' from '/home/hitkul.../python3.6/site-packages/ipykernel/kernelapp.py'>, ...}, init_globals=None, mod_name='__main__', mod_spec=ModuleSpec(name='ipykernel_launcher', loader=<_f...b/python3.6/site-packages/ipykernel_launcher.py'), pkg_name='', script_name=None)\n     80                        __cached__ = cached,\n     81                        __doc__ = None,\n     82                        __loader__ = loader,\n     83                        __package__ = pkg_name,\n     84                        __spec__ = mod_spec)\n---> 85     exec(code, run_globals)\n        code = <code object <module> at 0x7ff8c9bedf60, file \"/...3.6/site-packages/ipykernel_launcher.py\", line 5>\n        run_globals = {'__annotations__': {}, '__builtins__': <module 'builtins' (built-in)>, '__cached__': '/home/hitkul/anaconda3/envs/ps3/lib/python3.6/si...ges/__pycache__/ipykernel_launcher.cpython-36.pyc', '__doc__': 'Entry point for launching an IPython kernel.\\n\\nTh...orts until\\nafter removing the cwd from sys.path.\\n', '__file__': '/home/hitkul/anaconda3/envs/ps3/lib/python3.6/site-packages/ipykernel_launcher.py', '__loader__': <_frozen_importlib_external.SourceFileLoader object>, '__name__': '__main__', '__package__': '', '__spec__': ModuleSpec(name='ipykernel_launcher', loader=<_f...b/python3.6/site-packages/ipykernel_launcher.py'), 'app': <module 'ipykernel.kernelapp' from '/home/hitkul.../python3.6/site-packages/ipykernel/kernelapp.py'>, ...}\n     86     return run_globals\n     87 \n     88 def _run_module_code(code, init_globals=None,\n     89                     mod_name=None, mod_spec=None,\n\n...........................................................................\n/home/hitkul/anaconda3/envs/ps3/lib/python3.6/site-packages/ipykernel_launcher.py in <module>()\n     11     # This is added back by InteractiveShellApp.init_path()\n     12     if sys.path[0] == '':\n     13         del sys.path[0]\n     14 \n     15     from ipykernel import kernelapp as app\n---> 16     app.launch_new_instance()\n\n...........................................................................\n/home/hitkul/anaconda3/envs/ps3/lib/python3.6/site-packages/traitlets/config/application.py in launch_instance(cls=<class 'ipykernel.kernelapp.IPKernelApp'>, argv=None, **kwargs={})\n    653 \n    654         If a global instance already exists, this reinitializes and starts it\n    655         \"\"\"\n    656         app = cls.instance(**kwargs)\n    657         app.initialize(argv)\n--> 658         app.start()\n        app.start = <bound method IPKernelApp.start of <ipykernel.kernelapp.IPKernelApp object>>\n    659 \n    660 #-----------------------------------------------------------------------------\n    661 # utility functions, for convenience\n    662 #-----------------------------------------------------------------------------\n\n...........................................................................\n/home/hitkul/anaconda3/envs/ps3/lib/python3.6/site-packages/ipykernel/kernelapp.py in start(self=<ipykernel.kernelapp.IPKernelApp object>)\n    472             return self.subapp.start()\n    473         if self.poller is not None:\n    474             self.poller.start()\n    475         self.kernel.start()\n    476         try:\n--> 477             ioloop.IOLoop.instance().start()\n    478         except KeyboardInterrupt:\n    479             pass\n    480 \n    481 launch_new_instance = IPKernelApp.launch_instance\n\n...........................................................................\n/home/hitkul/anaconda3/envs/ps3/lib/python3.6/site-packages/zmq/eventloop/ioloop.py in start(self=<zmq.eventloop.ioloop.ZMQIOLoop object>)\n    172             )\n    173         return loop\n    174     \n    175     def start(self):\n    176         try:\n--> 177             super(ZMQIOLoop, self).start()\n        self.start = <bound method ZMQIOLoop.start of <zmq.eventloop.ioloop.ZMQIOLoop object>>\n    178         except ZMQError as e:\n    179             if e.errno == ETERM:\n    180                 # quietly return on ETERM\n    181                 pass\n\n...........................................................................\n/home/hitkul/anaconda3/envs/ps3/lib/python3.6/site-packages/tornado/ioloop.py in start(self=<zmq.eventloop.ioloop.ZMQIOLoop object>)\n    883                 self._events.update(event_pairs)\n    884                 while self._events:\n    885                     fd, events = self._events.popitem()\n    886                     try:\n    887                         fd_obj, handler_func = self._handlers[fd]\n--> 888                         handler_func(fd_obj, events)\n        handler_func = <function wrap.<locals>.null_wrapper>\n        fd_obj = <zmq.sugar.socket.Socket object>\n        events = 1\n    889                     except (OSError, IOError) as e:\n    890                         if errno_from_exception(e) == errno.EPIPE:\n    891                             # Happens when the client closes the connection\n    892                             pass\n\n...........................................................................\n/home/hitkul/anaconda3/envs/ps3/lib/python3.6/site-packages/tornado/stack_context.py in null_wrapper(*args=(<zmq.sugar.socket.Socket object>, 1), **kwargs={})\n    272         # Fast path when there are no active contexts.\n    273         def null_wrapper(*args, **kwargs):\n    274             try:\n    275                 current_state = _state.contexts\n    276                 _state.contexts = cap_contexts[0]\n--> 277                 return fn(*args, **kwargs)\n        args = (<zmq.sugar.socket.Socket object>, 1)\n        kwargs = {}\n    278             finally:\n    279                 _state.contexts = current_state\n    280         null_wrapper._wrapped = True\n    281         return null_wrapper\n\n...........................................................................\n/home/hitkul/anaconda3/envs/ps3/lib/python3.6/site-packages/zmq/eventloop/zmqstream.py in _handle_events(self=<zmq.eventloop.zmqstream.ZMQStream object>, fd=<zmq.sugar.socket.Socket object>, events=1)\n    435             # dispatch events:\n    436             if events & IOLoop.ERROR:\n    437                 gen_log.error(\"got POLLERR event on ZMQStream, which doesn't make sense\")\n    438                 return\n    439             if events & IOLoop.READ:\n--> 440                 self._handle_recv()\n        self._handle_recv = <bound method ZMQStream._handle_recv of <zmq.eventloop.zmqstream.ZMQStream object>>\n    441                 if not self.socket:\n    442                     return\n    443             if events & IOLoop.WRITE:\n    444                 self._handle_send()\n\n...........................................................................\n/home/hitkul/anaconda3/envs/ps3/lib/python3.6/site-packages/zmq/eventloop/zmqstream.py in _handle_recv(self=<zmq.eventloop.zmqstream.ZMQStream object>)\n    467                 gen_log.error(\"RECV Error: %s\"%zmq.strerror(e.errno))\n    468         else:\n    469             if self._recv_callback:\n    470                 callback = self._recv_callback\n    471                 # self._recv_callback = None\n--> 472                 self._run_callback(callback, msg)\n        self._run_callback = <bound method ZMQStream._run_callback of <zmq.eventloop.zmqstream.ZMQStream object>>\n        callback = <function wrap.<locals>.null_wrapper>\n        msg = [<zmq.sugar.frame.Frame object>, <zmq.sugar.frame.Frame object>, <zmq.sugar.frame.Frame object>, <zmq.sugar.frame.Frame object>, <zmq.sugar.frame.Frame object>, <zmq.sugar.frame.Frame object>, <zmq.sugar.frame.Frame object>]\n    473                 \n    474         # self.update_state()\n    475         \n    476 \n\n...........................................................................\n/home/hitkul/anaconda3/envs/ps3/lib/python3.6/site-packages/zmq/eventloop/zmqstream.py in _run_callback(self=<zmq.eventloop.zmqstream.ZMQStream object>, callback=<function wrap.<locals>.null_wrapper>, *args=([<zmq.sugar.frame.Frame object>, <zmq.sugar.frame.Frame object>, <zmq.sugar.frame.Frame object>, <zmq.sugar.frame.Frame object>, <zmq.sugar.frame.Frame object>, <zmq.sugar.frame.Frame object>, <zmq.sugar.frame.Frame object>],), **kwargs={})\n    409         close our socket.\"\"\"\n    410         try:\n    411             # Use a NullContext to ensure that all StackContexts are run\n    412             # inside our blanket exception handler rather than outside.\n    413             with stack_context.NullContext():\n--> 414                 callback(*args, **kwargs)\n        callback = <function wrap.<locals>.null_wrapper>\n        args = ([<zmq.sugar.frame.Frame object>, <zmq.sugar.frame.Frame object>, <zmq.sugar.frame.Frame object>, <zmq.sugar.frame.Frame object>, <zmq.sugar.frame.Frame object>, <zmq.sugar.frame.Frame object>, <zmq.sugar.frame.Frame object>],)\n        kwargs = {}\n    415         except:\n    416             gen_log.error(\"Uncaught exception, closing connection.\",\n    417                           exc_info=True)\n    418             # Close the socket on an uncaught exception from a user callback\n\n...........................................................................\n/home/hitkul/anaconda3/envs/ps3/lib/python3.6/site-packages/tornado/stack_context.py in null_wrapper(*args=([<zmq.sugar.frame.Frame object>, <zmq.sugar.frame.Frame object>, <zmq.sugar.frame.Frame object>, <zmq.sugar.frame.Frame object>, <zmq.sugar.frame.Frame object>, <zmq.sugar.frame.Frame object>, <zmq.sugar.frame.Frame object>],), **kwargs={})\n    272         # Fast path when there are no active contexts.\n    273         def null_wrapper(*args, **kwargs):\n    274             try:\n    275                 current_state = _state.contexts\n    276                 _state.contexts = cap_contexts[0]\n--> 277                 return fn(*args, **kwargs)\n        args = ([<zmq.sugar.frame.Frame object>, <zmq.sugar.frame.Frame object>, <zmq.sugar.frame.Frame object>, <zmq.sugar.frame.Frame object>, <zmq.sugar.frame.Frame object>, <zmq.sugar.frame.Frame object>, <zmq.sugar.frame.Frame object>],)\n        kwargs = {}\n    278             finally:\n    279                 _state.contexts = current_state\n    280         null_wrapper._wrapped = True\n    281         return null_wrapper\n\n...........................................................................\n/home/hitkul/anaconda3/envs/ps3/lib/python3.6/site-packages/ipykernel/kernelbase.py in dispatcher(msg=[<zmq.sugar.frame.Frame object>, <zmq.sugar.frame.Frame object>, <zmq.sugar.frame.Frame object>, <zmq.sugar.frame.Frame object>, <zmq.sugar.frame.Frame object>, <zmq.sugar.frame.Frame object>, <zmq.sugar.frame.Frame object>])\n    278         if self.control_stream:\n    279             self.control_stream.on_recv(self.dispatch_control, copy=False)\n    280 \n    281         def make_dispatcher(stream):\n    282             def dispatcher(msg):\n--> 283                 return self.dispatch_shell(stream, msg)\n        msg = [<zmq.sugar.frame.Frame object>, <zmq.sugar.frame.Frame object>, <zmq.sugar.frame.Frame object>, <zmq.sugar.frame.Frame object>, <zmq.sugar.frame.Frame object>, <zmq.sugar.frame.Frame object>, <zmq.sugar.frame.Frame object>]\n    284             return dispatcher\n    285 \n    286         for s in self.shell_streams:\n    287             s.on_recv(make_dispatcher(s), copy=False)\n\n...........................................................................\n/home/hitkul/anaconda3/envs/ps3/lib/python3.6/site-packages/ipykernel/kernelbase.py in dispatch_shell(self=<ipykernel.ipkernel.IPythonKernel object>, stream=<zmq.eventloop.zmqstream.ZMQStream object>, msg={'buffers': [], 'content': {'allow_stdin': True, 'code': 'grid_result = grid_search.fit(metaX,devY)', 'silent': False, 'stop_on_error': True, 'store_history': True, 'user_expressions': {}}, 'header': {'date': datetime.datetime(2018, 4, 15, 10, 1, 20, 732982, tzinfo=tzutc()), 'msg_id': 'CC52B5D587994B56836551638953FF09', 'msg_type': 'execute_request', 'session': '5F19D8171FF34AA29CD872FE94E92DCD', 'username': 'username', 'version': '5.0'}, 'metadata': {}, 'msg_id': 'CC52B5D587994B56836551638953FF09', 'msg_type': 'execute_request', 'parent_header': {}})\n    230             self.log.warn(\"Unknown message type: %r\", msg_type)\n    231         else:\n    232             self.log.debug(\"%s: %s\", msg_type, msg)\n    233             self.pre_handler_hook()\n    234             try:\n--> 235                 handler(stream, idents, msg)\n        handler = <bound method Kernel.execute_request of <ipykernel.ipkernel.IPythonKernel object>>\n        stream = <zmq.eventloop.zmqstream.ZMQStream object>\n        idents = [b'5F19D8171FF34AA29CD872FE94E92DCD']\n        msg = {'buffers': [], 'content': {'allow_stdin': True, 'code': 'grid_result = grid_search.fit(metaX,devY)', 'silent': False, 'stop_on_error': True, 'store_history': True, 'user_expressions': {}}, 'header': {'date': datetime.datetime(2018, 4, 15, 10, 1, 20, 732982, tzinfo=tzutc()), 'msg_id': 'CC52B5D587994B56836551638953FF09', 'msg_type': 'execute_request', 'session': '5F19D8171FF34AA29CD872FE94E92DCD', 'username': 'username', 'version': '5.0'}, 'metadata': {}, 'msg_id': 'CC52B5D587994B56836551638953FF09', 'msg_type': 'execute_request', 'parent_header': {}}\n    236             except Exception:\n    237                 self.log.error(\"Exception in message handler:\", exc_info=True)\n    238             finally:\n    239                 self.post_handler_hook()\n\n...........................................................................\n/home/hitkul/anaconda3/envs/ps3/lib/python3.6/site-packages/ipykernel/kernelbase.py in execute_request(self=<ipykernel.ipkernel.IPythonKernel object>, stream=<zmq.eventloop.zmqstream.ZMQStream object>, ident=[b'5F19D8171FF34AA29CD872FE94E92DCD'], parent={'buffers': [], 'content': {'allow_stdin': True, 'code': 'grid_result = grid_search.fit(metaX,devY)', 'silent': False, 'stop_on_error': True, 'store_history': True, 'user_expressions': {}}, 'header': {'date': datetime.datetime(2018, 4, 15, 10, 1, 20, 732982, tzinfo=tzutc()), 'msg_id': 'CC52B5D587994B56836551638953FF09', 'msg_type': 'execute_request', 'session': '5F19D8171FF34AA29CD872FE94E92DCD', 'username': 'username', 'version': '5.0'}, 'metadata': {}, 'msg_id': 'CC52B5D587994B56836551638953FF09', 'msg_type': 'execute_request', 'parent_header': {}})\n    394         if not silent:\n    395             self.execution_count += 1\n    396             self._publish_execute_input(code, parent, self.execution_count)\n    397 \n    398         reply_content = self.do_execute(code, silent, store_history,\n--> 399                                         user_expressions, allow_stdin)\n        user_expressions = {}\n        allow_stdin = True\n    400 \n    401         # Flush output before sending the reply.\n    402         sys.stdout.flush()\n    403         sys.stderr.flush()\n\n...........................................................................\n/home/hitkul/anaconda3/envs/ps3/lib/python3.6/site-packages/ipykernel/ipkernel.py in do_execute(self=<ipykernel.ipkernel.IPythonKernel object>, code='grid_result = grid_search.fit(metaX,devY)', silent=False, store_history=True, user_expressions={}, allow_stdin=True)\n    191 \n    192         self._forward_input(allow_stdin)\n    193 \n    194         reply_content = {}\n    195         try:\n--> 196             res = shell.run_cell(code, store_history=store_history, silent=silent)\n        res = undefined\n        shell.run_cell = <bound method ZMQInteractiveShell.run_cell of <ipykernel.zmqshell.ZMQInteractiveShell object>>\n        code = 'grid_result = grid_search.fit(metaX,devY)'\n        store_history = True\n        silent = False\n    197         finally:\n    198             self._restore_input()\n    199 \n    200         if res.error_before_exec is not None:\n\n...........................................................................\n/home/hitkul/anaconda3/envs/ps3/lib/python3.6/site-packages/ipykernel/zmqshell.py in run_cell(self=<ipykernel.zmqshell.ZMQInteractiveShell object>, *args=('grid_result = grid_search.fit(metaX,devY)',), **kwargs={'silent': False, 'store_history': True})\n    528             )\n    529         self.payload_manager.write_payload(payload)\n    530 \n    531     def run_cell(self, *args, **kwargs):\n    532         self._last_traceback = None\n--> 533         return super(ZMQInteractiveShell, self).run_cell(*args, **kwargs)\n        self.run_cell = <bound method ZMQInteractiveShell.run_cell of <ipykernel.zmqshell.ZMQInteractiveShell object>>\n        args = ('grid_result = grid_search.fit(metaX,devY)',)\n        kwargs = {'silent': False, 'store_history': True}\n    534 \n    535     def _showtraceback(self, etype, evalue, stb):\n    536         # try to preserve ordering of tracebacks and print statements\n    537         sys.stdout.flush()\n\n...........................................................................\n/home/hitkul/anaconda3/envs/ps3/lib/python3.6/site-packages/IPython/core/interactiveshell.py in run_cell(self=<ipykernel.zmqshell.ZMQInteractiveShell object>, raw_cell='grid_result = grid_search.fit(metaX,devY)', store_history=True, silent=False, shell_futures=True)\n   2693                 self.displayhook.exec_result = result\n   2694 \n   2695                 # Execute the user code\n   2696                 interactivity = \"none\" if silent else self.ast_node_interactivity\n   2697                 has_raised = self.run_ast_nodes(code_ast.body, cell_name,\n-> 2698                    interactivity=interactivity, compiler=compiler, result=result)\n        interactivity = 'last_expr'\n        compiler = <IPython.core.compilerop.CachingCompiler object>\n   2699                 \n   2700                 self.last_execution_succeeded = not has_raised\n   2701 \n   2702                 # Reset this so later displayed values do not modify the\n\n...........................................................................\n/home/hitkul/anaconda3/envs/ps3/lib/python3.6/site-packages/IPython/core/interactiveshell.py in run_ast_nodes(self=<ipykernel.zmqshell.ZMQInteractiveShell object>, nodelist=[<_ast.Assign object>], cell_name='<ipython-input-82-c1e5ff0f2cdd>', interactivity='none', compiler=<IPython.core.compilerop.CachingCompiler object>, result=<ExecutionResult object at 7ff730124b00, executi..._before_exec=None error_in_exec=None result=None>)\n   2797 \n   2798         try:\n   2799             for i, node in enumerate(to_run_exec):\n   2800                 mod = ast.Module([node])\n   2801                 code = compiler(mod, cell_name, \"exec\")\n-> 2802                 if self.run_code(code, result):\n        self.run_code = <bound method InteractiveShell.run_code of <ipykernel.zmqshell.ZMQInteractiveShell object>>\n        code = <code object <module> at 0x7ff72b7c3540, file \"<ipython-input-82-c1e5ff0f2cdd>\", line 1>\n        result = <ExecutionResult object at 7ff730124b00, executi..._before_exec=None error_in_exec=None result=None>\n   2803                     return True\n   2804 \n   2805             for i, node in enumerate(to_run_interactive):\n   2806                 mod = ast.Interactive([node])\n\n...........................................................................\n/home/hitkul/anaconda3/envs/ps3/lib/python3.6/site-packages/IPython/core/interactiveshell.py in run_code(self=<ipykernel.zmqshell.ZMQInteractiveShell object>, code_obj=<code object <module> at 0x7ff72b7c3540, file \"<ipython-input-82-c1e5ff0f2cdd>\", line 1>, result=<ExecutionResult object at 7ff730124b00, executi..._before_exec=None error_in_exec=None result=None>)\n   2857         outflag = True  # happens in more places, so it's easier as default\n   2858         try:\n   2859             try:\n   2860                 self.hooks.pre_run_code_hook()\n   2861                 #rprint('Running code', repr(code_obj)) # dbg\n-> 2862                 exec(code_obj, self.user_global_ns, self.user_ns)\n        code_obj = <code object <module> at 0x7ff72b7c3540, file \"<ipython-input-82-c1e5ff0f2cdd>\", line 1>\n        self.user_global_ns = {'GridSearchCV': <class 'sklearn.model_selection._search.GridSearchCV'>, 'In': ['', \"# import matplotlib\\n# matplotlib.use('Agg')\\nimpo...\\nfrom sklearn.model_selection import GridSearchCV\", 'def load_data_from_file(filename):\\n    with open...()[1:]) for x in lines]\\n    return label,sentence', \"train_labels,train_sentences = load_data_from_fi...oad_data_from_file('dataset/sst1/stsa.fine.test')\", 'train_sentences = train_sentences+dev_sentence\\ntrain_labels = train_labels+dev_label', 'len(train_labels),len(train_sentences),len(test_labels),len(test_sentences)', 'train_labels = train_labels[:500]\\ntrain_sentence...abels[:100]\\ntest_sentences = test_sentences[:100]', 'number_of_classes = len(set(train_labels))\\nnumber_of_classes', 'len(train_labels),len(train_sentences),len(test_labels),len(test_sentences)', \"def remove_punctuation(s):\\n    list_punctuation ...tuation:\\n        s = s.replace(i,'')\\n    return s\", \"def clean_sentence(sentence):\\n    #removes links...]\\n    tokens = ' '.join(tokens)\\n    return tokens\", 'print(\"cleaning data\")\\ntrainX = [clean_sentence(...trainY = np.array(train_labels)\\ntestY=test_labels', 'max_len = 24', 'def create_tokenizer(lines):\\n    tokenizer = Tok...okenizer.fit_on_texts(lines)\\n    return tokenizer', \"def encode_text(tokenizer, lines, length):\\n    e... maxlen=length, padding='post')\\n    return padded\", 'def load_godin_word_embedding(path):\\n    print(\"....Word2Vec.load_word2vec_format(path, binary=True)', 'def load_google_word2vec(file_name):\\n    print(\"...tors.load_word2vec_format(file_name, binary=True)', 'def get_word_embedding_matrix(model,dim):\\n    #d...x[i]=embedding_vector\\n    return embedding_matrix', 'tokenizer = create_tokenizer(trainX)\\nvocab_size ...categorical(trainY,num_classes=number_of_classes)', '# godin_model = load_godin_word_embedding(\"../wo...d_embeddings/GoogleNews-vectors-negative300.bin\\')', ...], 'K': <module 'keras.backend' from '/home/hitkul/anaco...thon3.6/site-packages/keras/backend/__init__.py'>, 'KeyedVectors': <class 'gensim.models.keyedvectors.EuclideanKeyedVectors'>, 'LogisticRegression': <class 'sklearn.linear_model.logistic.LogisticRegression'>, 'Out': {5: (9645, 9645, 2210, 2210), 7: 5, 8: (500, 500, 100, 100), 34: {'average': 0.25, 'base_model_counts': {'correct_predicted_by_all': 4, 'correct_predicted_by_some': [26, 24, 13, 4], 'incorrect_predicted_by_all': 29}, 'bi_lstm': 0.32, 'blend': 0.27, 'cnn': 0.28, 'cnn_bi_lstm': 0.29, 'cnn_lstm': 0.22, 'lstm': 0.38, 'majority': 0.3}, 35: array([[1, 1, 1, 2, 2],\n       [3, 3, 3, 4, 3],\n..., 3, 2, 2],\n       [3, 1, 3, 4, 3]], dtype=int32), 36: array([[[0.18933415, 0.23297822, 0.17012943, 0.1....26987383, 0.17061943, 0.49888965, 0.12068157]]]), 41: (29, 4, [26, 24, 13, 4]), 45: {'average': 0.25, 'base_model_counts': {'correct_predicted_by_all': 4, 'correct_predicted_by_some': [26, 24, 13, 4], 'incorrect_predicted_by_all': 29}, 'bi_lstm': 0.32, 'blend': 0.27, 'cnn': 0.28, 'cnn_bi_lstm': 0.29, 'cnn_lstm': 0.22, 'lstm': 0.38, 'majority': 0.3}, 47:    cnn  lstm  bi_lstm  cnn_lstm  cnn_bi_lstm\n0  ...   2\n4    3     1        1         2            0, 48: <matplotlib.axes._subplots.AxesSubplot object>, ...}, 'StratifiedKFold': <class 'sklearn.model_selection._split.StratifiedKFold'>, 'Tokenizer': <class 'keras.preprocessing.text.Tokenizer'>, 'XGBClassifier': <class 'xgboost.sklearn.XGBClassifier'>, '_': array([[0.19140796, 0.26737565, 0.27935123, 0.21...3, 0.21926825, 0.01320084]],\n      dtype=float32), ...}\n        self.user_ns = {'GridSearchCV': <class 'sklearn.model_selection._search.GridSearchCV'>, 'In': ['', \"# import matplotlib\\n# matplotlib.use('Agg')\\nimpo...\\nfrom sklearn.model_selection import GridSearchCV\", 'def load_data_from_file(filename):\\n    with open...()[1:]) for x in lines]\\n    return label,sentence', \"train_labels,train_sentences = load_data_from_fi...oad_data_from_file('dataset/sst1/stsa.fine.test')\", 'train_sentences = train_sentences+dev_sentence\\ntrain_labels = train_labels+dev_label', 'len(train_labels),len(train_sentences),len(test_labels),len(test_sentences)', 'train_labels = train_labels[:500]\\ntrain_sentence...abels[:100]\\ntest_sentences = test_sentences[:100]', 'number_of_classes = len(set(train_labels))\\nnumber_of_classes', 'len(train_labels),len(train_sentences),len(test_labels),len(test_sentences)', \"def remove_punctuation(s):\\n    list_punctuation ...tuation:\\n        s = s.replace(i,'')\\n    return s\", \"def clean_sentence(sentence):\\n    #removes links...]\\n    tokens = ' '.join(tokens)\\n    return tokens\", 'print(\"cleaning data\")\\ntrainX = [clean_sentence(...trainY = np.array(train_labels)\\ntestY=test_labels', 'max_len = 24', 'def create_tokenizer(lines):\\n    tokenizer = Tok...okenizer.fit_on_texts(lines)\\n    return tokenizer', \"def encode_text(tokenizer, lines, length):\\n    e... maxlen=length, padding='post')\\n    return padded\", 'def load_godin_word_embedding(path):\\n    print(\"....Word2Vec.load_word2vec_format(path, binary=True)', 'def load_google_word2vec(file_name):\\n    print(\"...tors.load_word2vec_format(file_name, binary=True)', 'def get_word_embedding_matrix(model,dim):\\n    #d...x[i]=embedding_vector\\n    return embedding_matrix', 'tokenizer = create_tokenizer(trainX)\\nvocab_size ...categorical(trainY,num_classes=number_of_classes)', '# godin_model = load_godin_word_embedding(\"../wo...d_embeddings/GoogleNews-vectors-negative300.bin\\')', ...], 'K': <module 'keras.backend' from '/home/hitkul/anaco...thon3.6/site-packages/keras/backend/__init__.py'>, 'KeyedVectors': <class 'gensim.models.keyedvectors.EuclideanKeyedVectors'>, 'LogisticRegression': <class 'sklearn.linear_model.logistic.LogisticRegression'>, 'Out': {5: (9645, 9645, 2210, 2210), 7: 5, 8: (500, 500, 100, 100), 34: {'average': 0.25, 'base_model_counts': {'correct_predicted_by_all': 4, 'correct_predicted_by_some': [26, 24, 13, 4], 'incorrect_predicted_by_all': 29}, 'bi_lstm': 0.32, 'blend': 0.27, 'cnn': 0.28, 'cnn_bi_lstm': 0.29, 'cnn_lstm': 0.22, 'lstm': 0.38, 'majority': 0.3}, 35: array([[1, 1, 1, 2, 2],\n       [3, 3, 3, 4, 3],\n..., 3, 2, 2],\n       [3, 1, 3, 4, 3]], dtype=int32), 36: array([[[0.18933415, 0.23297822, 0.17012943, 0.1....26987383, 0.17061943, 0.49888965, 0.12068157]]]), 41: (29, 4, [26, 24, 13, 4]), 45: {'average': 0.25, 'base_model_counts': {'correct_predicted_by_all': 4, 'correct_predicted_by_some': [26, 24, 13, 4], 'incorrect_predicted_by_all': 29}, 'bi_lstm': 0.32, 'blend': 0.27, 'cnn': 0.28, 'cnn_bi_lstm': 0.29, 'cnn_lstm': 0.22, 'lstm': 0.38, 'majority': 0.3}, 47:    cnn  lstm  bi_lstm  cnn_lstm  cnn_bi_lstm\n0  ...   2\n4    3     1        1         2            0, 48: <matplotlib.axes._subplots.AxesSubplot object>, ...}, 'StratifiedKFold': <class 'sklearn.model_selection._split.StratifiedKFold'>, 'Tokenizer': <class 'keras.preprocessing.text.Tokenizer'>, 'XGBClassifier': <class 'xgboost.sklearn.XGBClassifier'>, '_': array([[0.19140796, 0.26737565, 0.27935123, 0.21...3, 0.21926825, 0.01320084]],\n      dtype=float32), ...}\n   2863             finally:\n   2864                 # Reset our crash handler in place\n   2865                 sys.excepthook = old_excepthook\n   2866         except SystemExit as e:\n\n...........................................................................\n/home/hitkul/Desktop/ps3_iiit/ensembl_work/ensemble_experiments/sst1/<ipython-input-82-c1e5ff0f2cdd> in <module>()\n----> 1 grid_result = grid_search.fit(metaX,devY)\n\n...........................................................................\n/home/hitkul/anaconda3/envs/ps3/lib/python3.6/site-packages/sklearn/model_selection/_search.py in fit(self=GridSearchCV(cv=StratifiedKFold(n_splits=10, ran...'warn',\n       scoring='neg_log_loss', verbose=1), X=array([[3, 1, 3, 1, 2],\n       [3, 1, 1, 1, 1],\n..., 3, 3, 3],\n       [3, 1, 3, 2, 1]], dtype=int32), y=[3, 0, 4, 0, 1, 0, 3, 1, 4, 4, 4, 4, 2, 1, 3, 2, 3, 4, 0, 4, ...], groups=None, **fit_params={})\n    634                                   return_train_score=self.return_train_score,\n    635                                   return_n_test_samples=True,\n    636                                   return_times=True, return_parameters=False,\n    637                                   error_score=self.error_score)\n    638           for parameters, (train, test) in product(candidate_params,\n--> 639                                                    cv.split(X, y, groups)))\n        cv.split = <bound method StratifiedKFold.split of StratifiedKFold(n_splits=10, random_state=42, shuffle=True)>\n        X = array([[3, 1, 3, 1, 2],\n       [3, 1, 1, 1, 1],\n..., 3, 3, 3],\n       [3, 1, 3, 2, 1]], dtype=int32)\n        y = [3, 0, 4, 0, 1, 0, 3, 1, 4, 4, 4, 4, 2, 1, 3, 2, 3, 4, 0, 4, ...]\n        groups = None\n    640 \n    641         # if one choose to see train score, \"out\" will contain train score info\n    642         if self.return_train_score:\n    643             (train_score_dicts, test_score_dicts, test_sample_counts, fit_time,\n\n...........................................................................\n/home/hitkul/anaconda3/envs/ps3/lib/python3.6/site-packages/sklearn/externals/joblib/parallel.py in __call__(self=Parallel(n_jobs=-1), iterable=<generator object BaseSearchCV.fit.<locals>.<genexpr>>)\n    784             if pre_dispatch == \"all\" or n_jobs == 1:\n    785                 # The iterable was consumed all at once by the above for loop.\n    786                 # No need to wait for async callbacks to trigger to\n    787                 # consumption.\n    788                 self._iterating = False\n--> 789             self.retrieve()\n        self.retrieve = <bound method Parallel.retrieve of Parallel(n_jobs=-1)>\n    790             # Make sure that we get a last message telling us we are done\n    791             elapsed_time = time.time() - self._start_time\n    792             self._print('Done %3i out of %3i | elapsed: %s finished',\n    793                         (len(self._output), len(self._output),\n\n---------------------------------------------------------------------------\nSub-process traceback:\n---------------------------------------------------------------------------\nValueError                                         Sun Apr 15 15:31:23 2018\nPID: 597           Python 3.6.3: /home/hitkul/anaconda3/envs/ps3/bin/python\n...........................................................................\n/home/hitkul/anaconda3/envs/ps3/lib/python3.6/site-packages/sklearn/externals/joblib/parallel.py in __call__(self=<sklearn.externals.joblib.parallel.BatchedCalls object>)\n    126     def __init__(self, iterator_slice):\n    127         self.items = list(iterator_slice)\n    128         self._size = len(self.items)\n    129 \n    130     def __call__(self):\n--> 131         return [func(*args, **kwargs) for func, args, kwargs in self.items]\n        self.items = [(<function _fit_and_score>, (XGBClassifier(base_score=0.5, booster='gbtree', ...=1, seed=None,\n       silent=True, subsample=0.6), array([[3, 1, 3, 1, 2],\n       [3, 1, 1, 1, 1],\n..., 3, 3, 3],\n       [3, 1, 3, 2, 1]], dtype=int32), [3, 0, 4, 0, 1, 0, 3, 1, 4, 4, 4, 4, 2, 1, 3, 2, 3, 4, 0, 4, ...], {'score': make_scorer(log_loss, greater_is_better=False, needs_proba=True)}, array([ 1,  2,  3,  4,  5,  6,  7,  8,  9, 10, 1...,\n       39, 40, 41, 42, 44, 45, 46, 47, 48, 49]), array([ 0, 29, 30, 34, 38, 43]), 1, {'colsample_bytree': 0.6, 'max_depth': 3, 'n_estimators': 1000, 'reg_alpha': 0.01, 'subsample': 0.6}), {'error_score': 'raise', 'fit_params': {}, 'return_n_test_samples': True, 'return_parameters': False, 'return_times': True, 'return_train_score': 'warn'})]\n    132 \n    133     def __len__(self):\n    134         return self._size\n    135 \n\n...........................................................................\n/home/hitkul/anaconda3/envs/ps3/lib/python3.6/site-packages/sklearn/externals/joblib/parallel.py in <listcomp>(.0=<list_iterator object>)\n    126     def __init__(self, iterator_slice):\n    127         self.items = list(iterator_slice)\n    128         self._size = len(self.items)\n    129 \n    130     def __call__(self):\n--> 131         return [func(*args, **kwargs) for func, args, kwargs in self.items]\n        func = <function _fit_and_score>\n        args = (XGBClassifier(base_score=0.5, booster='gbtree', ...=1, seed=None,\n       silent=True, subsample=0.6), array([[3, 1, 3, 1, 2],\n       [3, 1, 1, 1, 1],\n..., 3, 3, 3],\n       [3, 1, 3, 2, 1]], dtype=int32), [3, 0, 4, 0, 1, 0, 3, 1, 4, 4, 4, 4, 2, 1, 3, 2, 3, 4, 0, 4, ...], {'score': make_scorer(log_loss, greater_is_better=False, needs_proba=True)}, array([ 1,  2,  3,  4,  5,  6,  7,  8,  9, 10, 1...,\n       39, 40, 41, 42, 44, 45, 46, 47, 48, 49]), array([ 0, 29, 30, 34, 38, 43]), 1, {'colsample_bytree': 0.6, 'max_depth': 3, 'n_estimators': 1000, 'reg_alpha': 0.01, 'subsample': 0.6})\n        kwargs = {'error_score': 'raise', 'fit_params': {}, 'return_n_test_samples': True, 'return_parameters': False, 'return_times': True, 'return_train_score': 'warn'}\n    132 \n    133     def __len__(self):\n    134         return self._size\n    135 \n\n...........................................................................\n/home/hitkul/anaconda3/envs/ps3/lib/python3.6/site-packages/sklearn/model_selection/_validation.py in _fit_and_score(estimator=XGBClassifier(base_score=0.5, booster='gbtree', ...=1, seed=None,\n       silent=True, subsample=0.6), X=array([[3, 1, 3, 1, 2],\n       [3, 1, 1, 1, 1],\n..., 3, 3, 3],\n       [3, 1, 3, 2, 1]], dtype=int32), y=[3, 0, 4, 0, 1, 0, 3, 1, 4, 4, 4, 4, 2, 1, 3, 2, 3, 4, 0, 4, ...], scorer={'score': make_scorer(log_loss, greater_is_better=False, needs_proba=True)}, train=array([ 1,  2,  3,  4,  5,  6,  7,  8,  9, 10, 1...,\n       39, 40, 41, 42, 44, 45, 46, 47, 48, 49]), test=array([ 0, 29, 30, 34, 38, 43]), verbose=1, parameters={'colsample_bytree': 0.6, 'max_depth': 3, 'n_estimators': 1000, 'reg_alpha': 0.01, 'subsample': 0.6}, fit_params={}, return_train_score='warn', return_parameters=False, return_n_test_samples=True, return_times=True, error_score='raise')\n    483                              \" make sure that it has been spelled correctly.)\")\n    484 \n    485     else:\n    486         fit_time = time.time() - start_time\n    487         # _score will return dict if is_multimetric is True\n--> 488         test_scores = _score(estimator, X_test, y_test, scorer, is_multimetric)\n        test_scores = {}\n        estimator = XGBClassifier(base_score=0.5, booster='gbtree', ...=1, seed=None,\n       silent=True, subsample=0.6)\n        X_test = array([[3, 1, 3, 1, 2],\n       [3, 1, 3, 3, 3],\n..., 3, 2, 1],\n       [3, 4, 3, 4, 4]], dtype=int32)\n        y_test = [3, 3, 4, 1, 1, 4]\n        scorer = {'score': make_scorer(log_loss, greater_is_better=False, needs_proba=True)}\n        is_multimetric = True\n    489         score_time = time.time() - start_time - fit_time\n    490         if return_train_score:\n    491             train_scores = _score(estimator, X_train, y_train, scorer,\n    492                                   is_multimetric)\n\n...........................................................................\n/home/hitkul/anaconda3/envs/ps3/lib/python3.6/site-packages/sklearn/model_selection/_validation.py in _score(estimator=XGBClassifier(base_score=0.5, booster='gbtree', ...=1, seed=None,\n       silent=True, subsample=0.6), X_test=array([[3, 1, 3, 1, 2],\n       [3, 1, 3, 3, 3],\n..., 3, 2, 1],\n       [3, 4, 3, 4, 4]], dtype=int32), y_test=[3, 3, 4, 1, 1, 4], scorer={'score': make_scorer(log_loss, greater_is_better=False, needs_proba=True)}, is_multimetric=True)\n    518 \n    519     Will return a single float if is_multimetric is False and a dict of floats,\n    520     if is_multimetric is True\n    521     \"\"\"\n    522     if is_multimetric:\n--> 523         return _multimetric_score(estimator, X_test, y_test, scorer)\n        estimator = XGBClassifier(base_score=0.5, booster='gbtree', ...=1, seed=None,\n       silent=True, subsample=0.6)\n        X_test = array([[3, 1, 3, 1, 2],\n       [3, 1, 3, 3, 3],\n..., 3, 2, 1],\n       [3, 4, 3, 4, 4]], dtype=int32)\n        y_test = [3, 3, 4, 1, 1, 4]\n        scorer = {'score': make_scorer(log_loss, greater_is_better=False, needs_proba=True)}\n    524     else:\n    525         if y_test is None:\n    526             score = scorer(estimator, X_test)\n    527         else:\n\n...........................................................................\n/home/hitkul/anaconda3/envs/ps3/lib/python3.6/site-packages/sklearn/model_selection/_validation.py in _multimetric_score(estimator=XGBClassifier(base_score=0.5, booster='gbtree', ...=1, seed=None,\n       silent=True, subsample=0.6), X_test=array([[3, 1, 3, 1, 2],\n       [3, 1, 3, 3, 3],\n..., 3, 2, 1],\n       [3, 4, 3, 4, 4]], dtype=int32), y_test=[3, 3, 4, 1, 1, 4], scorers={'score': make_scorer(log_loss, greater_is_better=False, needs_proba=True)})\n    548 \n    549     for name, scorer in scorers.items():\n    550         if y_test is None:\n    551             score = scorer(estimator, X_test)\n    552         else:\n--> 553             score = scorer(estimator, X_test, y_test)\n        score = undefined\n        scorer = make_scorer(log_loss, greater_is_better=False, needs_proba=True)\n        estimator = XGBClassifier(base_score=0.5, booster='gbtree', ...=1, seed=None,\n       silent=True, subsample=0.6)\n        X_test = array([[3, 1, 3, 1, 2],\n       [3, 1, 3, 3, 3],\n..., 3, 2, 1],\n       [3, 4, 3, 4, 4]], dtype=int32)\n        y_test = [3, 3, 4, 1, 1, 4]\n    554 \n    555         if hasattr(score, 'item'):\n    556             try:\n    557                 # e.g. unwrap memmapped scalars\n\n...........................................................................\n/home/hitkul/anaconda3/envs/ps3/lib/python3.6/site-packages/sklearn/metrics/scorer.py in __call__(self=make_scorer(log_loss, greater_is_better=False, needs_proba=True), clf=XGBClassifier(base_score=0.5, booster='gbtree', ...=1, seed=None,\n       silent=True, subsample=0.6), X=array([[3, 1, 3, 1, 2],\n       [3, 1, 3, 3, 3],\n..., 3, 2, 1],\n       [3, 4, 3, 4, 4]], dtype=int32), y=[3, 3, 4, 1, 1, 4], sample_weight=None)\n    139         if sample_weight is not None:\n    140             return self._sign * self._score_func(y, y_pred,\n    141                                                  sample_weight=sample_weight,\n    142                                                  **self._kwargs)\n    143         else:\n--> 144             return self._sign * self._score_func(y, y_pred, **self._kwargs)\n        self._sign = -1\n        self._score_func = <function log_loss>\n        y = [3, 3, 4, 1, 1, 4]\n        y_pred = array([[4.6107150e-03, 6.6105820e-02, 9.2523319e...7611e-01,\n        4.9448857e-01]], dtype=float32)\n        self._kwargs = {}\n    145 \n    146     def _factory_args(self):\n    147         return \", needs_proba=True\"\n    148 \n\n...........................................................................\n/home/hitkul/anaconda3/envs/ps3/lib/python3.6/site-packages/sklearn/metrics/classification.py in log_loss(y_true=[3, 3, 4, 1, 1, 4], y_pred=array([[4.6107150e-03, 6.6105820e-02, 9.2523319e...7611e-01,\n        4.9448857e-01]], dtype=float32), eps=1e-15, normalize=True, sample_weight=None, labels=None)\n   1681                              \"classes {0}, {1}. Please provide the true \"\n   1682                              \"labels explicitly through the labels argument. \"\n   1683                              \"Classes found in \"\n   1684                              \"y_true: {2}\".format(transformed_labels.shape[1],\n   1685                                                   y_pred.shape[1],\n-> 1686                                                   lb.classes_))\n        lb.classes_ = array([1, 3, 4])\n   1687         else:\n   1688             raise ValueError('The number of classes in labels is different '\n   1689                              'from that in y_pred. Classes found in '\n   1690                              'labels: {0}'.format(lb.classes_))\n\nValueError: y_true and y_pred contain different number of classes 3, 5. Please provide the true labels explicitly through the labels argument. Classes found in y_true: [1 3 4]\n___________________________________________________________________________"
     ]
    }
   ],
   "source": [
    "grid_result = grid_search.fit(metaX,devY)"
   ]
  },
  {
   "cell_type": "code",
   "execution_count": null,
   "metadata": {
    "collapsed": true
   },
   "outputs": [],
   "source": [
    "best_est_blen_xg = grid_result.best_estimator_"
   ]
  },
  {
   "cell_type": "code",
   "execution_count": 167,
   "metadata": {},
   "outputs": [
    {
     "name": "stderr",
     "output_type": "stream",
     "text": [
      "/home/hitkul/anaconda3/envs/ps3/lib/python3.6/site-packages/sklearn/preprocessing/label.py:151: DeprecationWarning: The truth value of an empty array is ambiguous. Returning False, but in future this will result in an error. Use `array.size > 0` to check that an array is not empty.\n",
      "  if diff:\n"
     ]
    }
   ],
   "source": [
    "blend_pred_class_xg = best_est_blen_xg.predict(pred_class_base)"
   ]
  },
  {
   "cell_type": "code",
   "execution_count": 171,
   "metadata": {},
   "outputs": [
    {
     "data": {
      "text/plain": [
       "0.32"
      ]
     },
     "execution_count": 171,
     "metadata": {},
     "output_type": "execute_result"
    }
   ],
   "source": [
    "acc = accuracy_score(testY,blend_pred_class_xg)\n",
    "acc"
   ]
  },
  {
   "cell_type": "code",
   "execution_count": 172,
   "metadata": {
    "collapsed": true
   },
   "outputs": [],
   "source": [
    "acc_results['blend_xg'] = acc"
   ]
  },
  {
   "cell_type": "code",
   "execution_count": 173,
   "metadata": {},
   "outputs": [
    {
     "data": {
      "text/plain": [
       "{'average': 0.36,\n",
       " 'base_model_counts': {'correct_predicted_by_all': 2,\n",
       "  'correct_predicted_by_some': [25, 21, 15, 8],\n",
       "  'incorrect_predicted_by_all': 29},\n",
       " 'bi_lstm': 0.33,\n",
       " 'blend': 0.34,\n",
       " 'blend_xg': 0.32,\n",
       " 'cnn': 0.26,\n",
       " 'cnn_bi_lstm': 0.34,\n",
       " 'cnn_lstm': 0.29,\n",
       " 'lstm': 0.32,\n",
       " 'majority': 0.36}"
      ]
     },
     "execution_count": 173,
     "metadata": {},
     "output_type": "execute_result"
    }
   ],
   "source": [
    "acc_results"
   ]
  },
  {
   "cell_type": "code",
   "execution_count": 174,
   "metadata": {
    "collapsed": true
   },
   "outputs": [],
   "source": [
    "pred_df['blend_xg']=blend_pred_class_xg"
   ]
  },
  {
   "cell_type": "markdown",
   "metadata": {},
   "source": [
    "## Stacked ensemble"
   ]
  },
  {
   "cell_type": "code",
   "execution_count": 175,
   "metadata": {
    "collapsed": true
   },
   "outputs": [],
   "source": [
    "np.random.seed(seed)"
   ]
  },
  {
   "cell_type": "code",
   "execution_count": 176,
   "metadata": {
    "collapsed": true
   },
   "outputs": [],
   "source": [
    "kfold = StratifiedKFold(n_splits=10, shuffle=True, random_state=seed)"
   ]
  },
  {
   "cell_type": "code",
   "execution_count": 177,
   "metadata": {
    "collapsed": true
   },
   "outputs": [],
   "source": [
    "stacked_metaX=np.array([[0, 0, 0, 0,0]],dtype=np.int64)"
   ]
  },
  {
   "cell_type": "code",
   "execution_count": 178,
   "metadata": {
    "collapsed": true
   },
   "outputs": [],
   "source": [
    "stacked_metaY = []"
   ]
  },
  {
   "cell_type": "code",
   "execution_count": 179,
   "metadata": {
    "collapsed": true
   },
   "outputs": [],
   "source": [
    "count=1"
   ]
  },
  {
   "cell_type": "code",
   "execution_count": 180,
   "metadata": {
    "collapsed": true
   },
   "outputs": [],
   "source": [
    "trainX=[clean_sentence(x) for x in train_sentences]"
   ]
  },
  {
   "cell_type": "code",
   "execution_count": 181,
   "metadata": {
    "collapsed": true
   },
   "outputs": [],
   "source": [
    "trainY=train_labels"
   ]
  },
  {
   "cell_type": "code",
   "execution_count": 182,
   "metadata": {
    "collapsed": true
   },
   "outputs": [],
   "source": [
    "trainY=np.array(trainY)\n",
    "trainX=np.array(trainX)"
   ]
  },
  {
   "cell_type": "code",
   "execution_count": 183,
   "metadata": {},
   "outputs": [
    {
     "name": "stdout",
     "output_type": "stream",
     "text": [
      "----------------------itr = 1--------------\n",
      "_________________________________________________________________\n",
      "Layer (type)                 Output Shape              Param #   \n",
      "=================================================================\n",
      "embedding_21 (Embedding)     (None, 24, 300)           759000    \n",
      "_________________________________________________________________\n",
      "dropout_29 (Dropout)         (None, 24, 300)           0         \n",
      "_________________________________________________________________\n",
      "conv1d_13 (Conv1D)           (None, 19, 100)           180100    \n",
      "_________________________________________________________________\n",
      "global_max_pooling1d_5 (Glob (None, 100)               0         \n",
      "_________________________________________________________________\n",
      "dense_25 (Dense)             (None, 200)               20200     \n",
      "_________________________________________________________________\n",
      "dropout_30 (Dropout)         (None, 200)               0         \n",
      "_________________________________________________________________\n",
      "activation_9 (Activation)    (None, 200)               0         \n",
      "_________________________________________________________________\n",
      "dense_26 (Dense)             (None, 5)                 1005      \n",
      "_________________________________________________________________\n",
      "activation_10 (Activation)   (None, 5)                 0         \n",
      "=================================================================\n",
      "Total params: 960,305\n",
      "Trainable params: 960,305\n",
      "Non-trainable params: 0\n",
      "_________________________________________________________________\n",
      "None\n",
      "Epoch 1/10\n",
      " - 3s - loss: 0.5134 - acc: 0.7924\n",
      "Epoch 2/10\n",
      " - 1s - loss: 0.5084 - acc: 0.7955\n",
      "Epoch 3/10\n",
      " - 1s - loss: 0.4974 - acc: 0.7991\n",
      "Epoch 4/10\n",
      " - 1s - loss: 0.4975 - acc: 0.7960\n",
      "Epoch 5/10\n",
      " - 1s - loss: 0.4931 - acc: 0.7987\n",
      "Epoch 6/10\n",
      " - 1s - loss: 0.4939 - acc: 0.7964\n",
      "Epoch 7/10\n",
      " - 1s - loss: 0.4937 - acc: 0.7996\n",
      "Epoch 8/10\n",
      " - 1s - loss: 0.4926 - acc: 0.7991\n",
      "Epoch 9/10\n",
      " - 1s - loss: 0.4860 - acc: 0.8000\n",
      "Epoch 10/10\n",
      " - 1s - loss: 0.4783 - acc: 0.8009\n",
      "0.33962264150943394\n",
      "_________________________________________________________________\n",
      "Layer (type)                 Output Shape              Param #   \n",
      "=================================================================\n",
      "embedding_22 (Embedding)     (None, 24, 300)           759000    \n",
      "_________________________________________________________________\n",
      "lstm_17 (LSTM)               (None, 128)               219648    \n",
      "_________________________________________________________________\n",
      "dense_27 (Dense)             (None, 5)                 645       \n",
      "=================================================================\n",
      "Total params: 979,293\n",
      "Trainable params: 220,293\n",
      "Non-trainable params: 759,000\n",
      "_________________________________________________________________\n",
      "None\n",
      "Epoch 1/20\n",
      " - 3s - loss: 0.4981 - acc: 0.8000\n",
      "Epoch 2/20\n",
      " - 1s - loss: 0.4917 - acc: 0.8000\n",
      "Epoch 3/20\n",
      " - 1s - loss: 0.4894 - acc: 0.8000\n",
      "Epoch 4/20\n",
      " - 1s - loss: 0.4856 - acc: 0.8000\n",
      "Epoch 5/20\n",
      " - 1s - loss: 0.4838 - acc: 0.8000\n",
      "Epoch 6/20\n",
      " - 1s - loss: 0.4774 - acc: 0.7996\n",
      "Epoch 7/20\n",
      " - 1s - loss: 0.4711 - acc: 0.7973\n",
      "Epoch 8/20\n",
      " - 1s - loss: 0.4760 - acc: 0.7924\n",
      "Epoch 9/20\n",
      " - 1s - loss: 0.4732 - acc: 0.7978\n",
      "Epoch 10/20\n",
      " - 1s - loss: 0.4732 - acc: 0.8004\n",
      "Epoch 11/20\n",
      " - 1s - loss: 0.4717 - acc: 0.8009\n",
      "Epoch 12/20\n",
      " - 1s - loss: 0.4693 - acc: 0.7978\n",
      "Epoch 13/20\n",
      " - 1s - loss: 0.4713 - acc: 0.7960\n",
      "Epoch 14/20\n",
      " - 1s - loss: 0.4658 - acc: 0.8013\n",
      "Epoch 15/20\n",
      " - 1s - loss: 0.4668 - acc: 0.7969\n",
      "Epoch 16/20\n",
      " - 1s - loss: 0.4583 - acc: 0.7996\n",
      "Epoch 17/20\n",
      " - 1s - loss: 0.4634 - acc: 0.7987\n",
      "Epoch 18/20\n",
      " - 1s - loss: 0.4629 - acc: 0.8004\n",
      "Epoch 19/20\n",
      " - 1s - loss: 0.4611 - acc: 0.8013\n",
      "Epoch 20/20\n",
      " - 1s - loss: 0.4572 - acc: 0.7946\n",
      "0.33962264150943394\n",
      "_________________________________________________________________\n",
      "Layer (type)                 Output Shape              Param #   \n",
      "=================================================================\n",
      "embedding_23 (Embedding)     (None, 24, 300)           759000    \n",
      "_________________________________________________________________\n",
      "bidirectional_9 (Bidirection (None, 512)               1140736   \n",
      "_________________________________________________________________\n",
      "dropout_31 (Dropout)         (None, 512)               0         \n",
      "_________________________________________________________________\n",
      "dense_28 (Dense)             (None, 5)                 2565      \n",
      "=================================================================\n",
      "Total params: 1,902,301\n",
      "Trainable params: 1,143,301\n",
      "Non-trainable params: 759,000\n",
      "_________________________________________________________________\n",
      "None\n",
      "Epoch 1/5\n",
      " - 7s - loss: 0.4958 - acc: 0.8000\n",
      "Epoch 2/5\n",
      " - 4s - loss: 0.4878 - acc: 0.8000\n",
      "Epoch 3/5\n",
      " - 4s - loss: 0.4808 - acc: 0.8000\n",
      "Epoch 4/5\n",
      " - 4s - loss: 0.4756 - acc: 0.8000\n",
      "Epoch 5/5\n",
      " - 5s - loss: 0.4691 - acc: 0.8040\n",
      "0.32075471698113206\n",
      "_________________________________________________________________\n",
      "Layer (type)                 Output Shape              Param #   \n",
      "=================================================================\n",
      "embedding_24 (Embedding)     (None, 24, 300)           759000    \n",
      "_________________________________________________________________\n",
      "conv1d_14 (Conv1D)           (None, 24, 100)           30100     \n",
      "_________________________________________________________________\n",
      "dropout_32 (Dropout)         (None, 24, 100)           0         \n",
      "_________________________________________________________________\n",
      "max_pooling1d_9 (MaxPooling1 (None, 12, 100)           0         \n",
      "_________________________________________________________________\n",
      "lstm_19 (LSTM)               (None, 64)                42240     \n",
      "_________________________________________________________________\n",
      "dropout_33 (Dropout)         (None, 64)                0         \n",
      "_________________________________________________________________\n",
      "dense_29 (Dense)             (None, 5)                 325       \n",
      "=================================================================\n",
      "Total params: 831,665\n",
      "Trainable params: 72,665\n",
      "Non-trainable params: 759,000\n",
      "_________________________________________________________________\n",
      "None\n",
      "Epoch 1/10\n",
      " - 3s - loss: 0.4924 - acc: 0.8000\n",
      "Epoch 2/10\n",
      " - 1s - loss: 0.4894 - acc: 0.8000\n",
      "Epoch 3/10\n",
      " - 1s - loss: 0.4819 - acc: 0.8000\n",
      "Epoch 4/10\n",
      " - 1s - loss: 0.4467 - acc: 0.7969\n",
      "Epoch 5/10\n",
      " - 1s - loss: 0.4171 - acc: 0.8009\n",
      "Epoch 6/10\n",
      " - 1s - loss: 0.3846 - acc: 0.8206\n",
      "Epoch 7/10\n",
      " - 1s - loss: 0.3477 - acc: 0.8385\n",
      "Epoch 8/10\n",
      " - 1s - loss: 0.3257 - acc: 0.8546\n",
      "Epoch 9/10\n",
      " - 1s - loss: 0.3010 - acc: 0.8671\n",
      "Epoch 10/10\n",
      " - 1s - loss: 0.2872 - acc: 0.8761\n",
      "0.37735849056603776\n",
      "_________________________________________________________________\n",
      "Layer (type)                 Output Shape              Param #   \n",
      "=================================================================\n",
      "embedding_25 (Embedding)     (None, 24, 300)           759000    \n",
      "_________________________________________________________________\n",
      "conv1d_15 (Conv1D)           (None, 24, 100)           30100     \n",
      "_________________________________________________________________\n",
      "dropout_34 (Dropout)         (None, 24, 100)           0         \n",
      "_________________________________________________________________\n",
      "max_pooling1d_10 (MaxPooling (None, 12, 100)           0         \n",
      "_________________________________________________________________\n",
      "bidirectional_10 (Bidirectio (None, 128)               84480     \n",
      "_________________________________________________________________\n",
      "dropout_35 (Dropout)         (None, 128)               0         \n",
      "_________________________________________________________________\n",
      "dense_30 (Dense)             (None, 5)                 645       \n",
      "=================================================================\n",
      "Total params: 874,225\n",
      "Trainable params: 115,225\n",
      "Non-trainable params: 759,000\n",
      "_________________________________________________________________\n",
      "None\n",
      "Epoch 1/5\n",
      " - 4s - loss: 0.4943 - acc: 0.8000\n",
      "Epoch 2/5\n",
      " - 1s - loss: 0.4787 - acc: 0.8000\n",
      "Epoch 3/5\n",
      " - 1s - loss: 0.4384 - acc: 0.8072\n",
      "Epoch 4/5\n",
      " - 1s - loss: 0.4116 - acc: 0.8143\n",
      "Epoch 5/5\n",
      " - 1s - loss: 0.3611 - acc: 0.8389\n",
      "0.32075471698113206\n",
      "----------------------itr = 2--------------\n",
      "_________________________________________________________________\n",
      "Layer (type)                 Output Shape              Param #   \n",
      "=================================================================\n",
      "embedding_26 (Embedding)     (None, 24, 300)           748200    \n",
      "_________________________________________________________________\n",
      "dropout_36 (Dropout)         (None, 24, 300)           0         \n",
      "_________________________________________________________________\n",
      "conv1d_16 (Conv1D)           (None, 19, 100)           180100    \n",
      "_________________________________________________________________\n",
      "global_max_pooling1d_6 (Glob (None, 100)               0         \n",
      "_________________________________________________________________\n",
      "dense_31 (Dense)             (None, 200)               20200     \n",
      "_________________________________________________________________\n",
      "dropout_37 (Dropout)         (None, 200)               0         \n",
      "_________________________________________________________________\n",
      "activation_11 (Activation)   (None, 200)               0         \n",
      "_________________________________________________________________\n",
      "dense_32 (Dense)             (None, 5)                 1005      \n",
      "_________________________________________________________________\n",
      "activation_12 (Activation)   (None, 5)                 0         \n",
      "=================================================================\n",
      "Total params: 949,505\n",
      "Trainable params: 949,505\n",
      "Non-trainable params: 0\n",
      "_________________________________________________________________\n",
      "None\n"
     ]
    },
    {
     "name": "stdout",
     "output_type": "stream",
     "text": [
      "Epoch 1/10\n",
      " - 4s - loss: 0.5158 - acc: 0.7960\n",
      "Epoch 2/10\n",
      " - 1s - loss: 0.5085 - acc: 0.7973\n",
      "Epoch 3/10\n",
      " - 1s - loss: 0.5006 - acc: 0.7982\n",
      "Epoch 4/10\n",
      " - 1s - loss: 0.4951 - acc: 0.7969\n",
      "Epoch 5/10\n",
      " - 1s - loss: 0.4905 - acc: 0.8000\n",
      "Epoch 6/10\n",
      " - 1s - loss: 0.4922 - acc: 0.7973\n",
      "Epoch 7/10\n",
      " - 1s - loss: 0.4827 - acc: 0.7996\n",
      "Epoch 8/10\n",
      " - 1s - loss: 0.4809 - acc: 0.8000\n",
      "Epoch 9/10\n",
      " - 1s - loss: 0.4774 - acc: 0.8018\n",
      "Epoch 10/10\n",
      " - 1s - loss: 0.4814 - acc: 0.7973\n",
      "0.3269230769230769\n",
      "_________________________________________________________________\n",
      "Layer (type)                 Output Shape              Param #   \n",
      "=================================================================\n",
      "embedding_27 (Embedding)     (None, 24, 300)           748200    \n",
      "_________________________________________________________________\n",
      "lstm_21 (LSTM)               (None, 128)               219648    \n",
      "_________________________________________________________________\n",
      "dense_33 (Dense)             (None, 5)                 645       \n",
      "=================================================================\n",
      "Total params: 968,493\n",
      "Trainable params: 220,293\n",
      "Non-trainable params: 748,200\n",
      "_________________________________________________________________\n",
      "None\n",
      "Epoch 1/20\n",
      " - 4s - loss: 0.4979 - acc: 0.8000\n",
      "Epoch 2/20\n",
      " - 1s - loss: 0.4914 - acc: 0.8000\n",
      "Epoch 3/20\n",
      " - 1s - loss: 0.4888 - acc: 0.8000\n",
      "Epoch 4/20\n",
      " - 1s - loss: 0.4901 - acc: 0.8000\n",
      "Epoch 5/20\n",
      " - 1s - loss: 0.4868 - acc: 0.7996\n",
      "Epoch 6/20\n",
      " - 1s - loss: 0.4888 - acc: 0.8000\n",
      "Epoch 7/20\n",
      " - 1s - loss: 0.4855 - acc: 0.8000\n",
      "Epoch 8/20\n",
      " - 1s - loss: 0.4810 - acc: 0.8013\n",
      "Epoch 9/20\n",
      " - 1s - loss: 0.4758 - acc: 0.7973\n",
      "Epoch 10/20\n",
      " - 1s - loss: 0.4730 - acc: 0.7960\n",
      "Epoch 11/20\n",
      " - 1s - loss: 0.4765 - acc: 0.7987\n",
      "Epoch 12/20\n",
      " - 1s - loss: 0.4665 - acc: 0.8004\n",
      "Epoch 13/20\n",
      " - 1s - loss: 0.4661 - acc: 0.7969\n",
      "Epoch 14/20\n",
      " - 1s - loss: 0.4607 - acc: 0.7973\n",
      "Epoch 15/20\n",
      " - 1s - loss: 0.4754 - acc: 0.7960\n",
      "Epoch 16/20\n",
      " - 1s - loss: 0.4705 - acc: 0.7982\n",
      "Epoch 17/20\n",
      " - 1s - loss: 0.4667 - acc: 0.7996\n",
      "Epoch 18/20\n",
      " - 1s - loss: 0.4691 - acc: 0.7955\n",
      "Epoch 19/20\n",
      " - 1s - loss: 0.4585 - acc: 0.8022\n",
      "Epoch 20/20\n",
      " - 1s - loss: 0.4587 - acc: 0.7946\n",
      "0.4230769230769231\n",
      "_________________________________________________________________\n",
      "Layer (type)                 Output Shape              Param #   \n",
      "=================================================================\n",
      "embedding_28 (Embedding)     (None, 24, 300)           748200    \n",
      "_________________________________________________________________\n",
      "bidirectional_11 (Bidirectio (None, 512)               1140736   \n",
      "_________________________________________________________________\n",
      "dropout_38 (Dropout)         (None, 512)               0         \n",
      "_________________________________________________________________\n",
      "dense_34 (Dense)             (None, 5)                 2565      \n",
      "=================================================================\n",
      "Total params: 1,891,501\n",
      "Trainable params: 1,143,301\n",
      "Non-trainable params: 748,200\n",
      "_________________________________________________________________\n",
      "None\n",
      "Epoch 1/5\n",
      " - 8s - loss: 0.4963 - acc: 0.8000\n",
      "Epoch 2/5\n",
      " - 4s - loss: 0.4877 - acc: 0.8000\n",
      "Epoch 3/5\n",
      " - 4s - loss: 0.4821 - acc: 0.8000\n",
      "Epoch 4/5\n",
      " - 4s - loss: 0.4773 - acc: 0.8000\n",
      "Epoch 5/5\n",
      " - 4s - loss: 0.4719 - acc: 0.8000\n",
      "0.34615384615384615\n",
      "_________________________________________________________________\n",
      "Layer (type)                 Output Shape              Param #   \n",
      "=================================================================\n",
      "embedding_29 (Embedding)     (None, 24, 300)           748200    \n",
      "_________________________________________________________________\n",
      "conv1d_17 (Conv1D)           (None, 24, 100)           30100     \n",
      "_________________________________________________________________\n",
      "dropout_39 (Dropout)         (None, 24, 100)           0         \n",
      "_________________________________________________________________\n",
      "max_pooling1d_11 (MaxPooling (None, 12, 100)           0         \n",
      "_________________________________________________________________\n",
      "lstm_23 (LSTM)               (None, 64)                42240     \n",
      "_________________________________________________________________\n",
      "dropout_40 (Dropout)         (None, 64)                0         \n",
      "_________________________________________________________________\n",
      "dense_35 (Dense)             (None, 5)                 325       \n",
      "=================================================================\n",
      "Total params: 820,865\n",
      "Trainable params: 72,665\n",
      "Non-trainable params: 748,200\n",
      "_________________________________________________________________\n",
      "None\n",
      "Epoch 1/10\n",
      " - 4s - loss: 0.4960 - acc: 0.8000\n",
      "Epoch 2/10\n",
      " - 1s - loss: 0.4902 - acc: 0.8000\n",
      "Epoch 3/10\n",
      " - 1s - loss: 0.4870 - acc: 0.8000\n",
      "Epoch 4/10\n",
      " - 1s - loss: 0.4822 - acc: 0.7982\n",
      "Epoch 5/10\n",
      " - 1s - loss: 0.4431 - acc: 0.8045\n",
      "Epoch 6/10\n",
      " - 1s - loss: 0.4158 - acc: 0.8121\n",
      "Epoch 7/10\n",
      " - 1s - loss: 0.3654 - acc: 0.8371\n",
      "Epoch 8/10\n",
      " - 1s - loss: 0.3159 - acc: 0.8634\n",
      "Epoch 9/10\n",
      " - 1s - loss: 0.2708 - acc: 0.8902\n",
      "Epoch 10/10\n",
      " - 1s - loss: 0.2392 - acc: 0.9004\n",
      "0.34615384615384615\n",
      "_________________________________________________________________\n",
      "Layer (type)                 Output Shape              Param #   \n",
      "=================================================================\n",
      "embedding_30 (Embedding)     (None, 24, 300)           748200    \n",
      "_________________________________________________________________\n",
      "conv1d_18 (Conv1D)           (None, 24, 100)           30100     \n",
      "_________________________________________________________________\n",
      "dropout_41 (Dropout)         (None, 24, 100)           0         \n",
      "_________________________________________________________________\n",
      "max_pooling1d_12 (MaxPooling (None, 12, 100)           0         \n",
      "_________________________________________________________________\n",
      "bidirectional_12 (Bidirectio (None, 128)               84480     \n",
      "_________________________________________________________________\n",
      "dropout_42 (Dropout)         (None, 128)               0         \n",
      "_________________________________________________________________\n",
      "dense_36 (Dense)             (None, 5)                 645       \n",
      "=================================================================\n",
      "Total params: 863,425\n",
      "Trainable params: 115,225\n",
      "Non-trainable params: 748,200\n",
      "_________________________________________________________________\n",
      "None\n",
      "Epoch 1/5\n",
      " - 4s - loss: 0.4933 - acc: 0.8000\n",
      "Epoch 2/5\n",
      " - 1s - loss: 0.4805 - acc: 0.8004\n",
      "Epoch 3/5\n",
      " - 1s - loss: 0.4628 - acc: 0.7987\n",
      "Epoch 4/5\n",
      " - 1s - loss: 0.4186 - acc: 0.8089\n",
      "Epoch 5/5\n",
      " - 1s - loss: 0.3731 - acc: 0.8241\n",
      "0.40384615384615385\n",
      "----------------------itr = 3--------------\n",
      "_________________________________________________________________\n",
      "Layer (type)                 Output Shape              Param #   \n",
      "=================================================================\n",
      "embedding_31 (Embedding)     (None, 24, 300)           742500    \n",
      "_________________________________________________________________\n",
      "dropout_43 (Dropout)         (None, 24, 300)           0         \n",
      "_________________________________________________________________\n",
      "conv1d_19 (Conv1D)           (None, 19, 100)           180100    \n",
      "_________________________________________________________________\n",
      "global_max_pooling1d_7 (Glob (None, 100)               0         \n",
      "_________________________________________________________________\n",
      "dense_37 (Dense)             (None, 200)               20200     \n",
      "_________________________________________________________________\n",
      "dropout_44 (Dropout)         (None, 200)               0         \n",
      "_________________________________________________________________\n",
      "activation_13 (Activation)   (None, 200)               0         \n",
      "_________________________________________________________________\n",
      "dense_38 (Dense)             (None, 5)                 1005      \n",
      "_________________________________________________________________\n",
      "activation_14 (Activation)   (None, 5)                 0         \n",
      "=================================================================\n",
      "Total params: 943,805\n",
      "Trainable params: 943,805\n",
      "Non-trainable params: 0\n",
      "_________________________________________________________________\n",
      "None\n",
      "Epoch 1/10\n",
      " - 4s - loss: 0.5227 - acc: 0.7951\n",
      "Epoch 2/10\n"
     ]
    },
    {
     "name": "stdout",
     "output_type": "stream",
     "text": [
      " - 1s - loss: 0.5047 - acc: 0.7960\n",
      "Epoch 3/10\n",
      " - 1s - loss: 0.4986 - acc: 0.7973\n",
      "Epoch 4/10\n",
      " - 1s - loss: 0.4873 - acc: 0.7982\n",
      "Epoch 5/10\n",
      " - 1s - loss: 0.4970 - acc: 0.7982\n",
      "Epoch 6/10\n",
      " - 1s - loss: 0.4875 - acc: 0.7991\n",
      "Epoch 7/10\n",
      " - 1s - loss: 0.4823 - acc: 0.7996\n",
      "Epoch 8/10\n",
      " - 1s - loss: 0.4857 - acc: 0.8004\n",
      "Epoch 9/10\n",
      " - 1s - loss: 0.4832 - acc: 0.8004\n",
      "Epoch 10/10\n",
      " - 1s - loss: 0.4803 - acc: 0.8004\n",
      "0.34615384615384615\n",
      "_________________________________________________________________\n",
      "Layer (type)                 Output Shape              Param #   \n",
      "=================================================================\n",
      "embedding_32 (Embedding)     (None, 24, 300)           742500    \n",
      "_________________________________________________________________\n",
      "lstm_25 (LSTM)               (None, 128)               219648    \n",
      "_________________________________________________________________\n",
      "dense_39 (Dense)             (None, 5)                 645       \n",
      "=================================================================\n",
      "Total params: 962,793\n",
      "Trainable params: 220,293\n",
      "Non-trainable params: 742,500\n",
      "_________________________________________________________________\n",
      "None\n",
      "Epoch 1/20\n",
      " - 4s - loss: 0.4967 - acc: 0.8000\n",
      "Epoch 2/20\n",
      " - 1s - loss: 0.4946 - acc: 0.7973\n",
      "Epoch 3/20\n",
      " - 1s - loss: 0.4903 - acc: 0.8000\n",
      "Epoch 4/20\n",
      " - 1s - loss: 0.4902 - acc: 0.8000\n",
      "Epoch 5/20\n",
      " - 1s - loss: 0.4859 - acc: 0.8000\n",
      "Epoch 6/20\n",
      " - 1s - loss: 0.4791 - acc: 0.7987\n",
      "Epoch 7/20\n",
      " - 1s - loss: 0.4756 - acc: 0.7987\n",
      "Epoch 8/20\n",
      " - 1s - loss: 0.4743 - acc: 0.7946\n",
      "Epoch 9/20\n",
      " - 1s - loss: 0.4759 - acc: 0.7915\n",
      "Epoch 10/20\n",
      " - 1s - loss: 0.4735 - acc: 0.7964\n",
      "Epoch 11/20\n",
      " - 1s - loss: 0.4701 - acc: 0.8000\n",
      "Epoch 12/20\n",
      " - 1s - loss: 0.4711 - acc: 0.7960\n",
      "Epoch 13/20\n",
      " - 1s - loss: 0.4652 - acc: 0.7973\n",
      "Epoch 14/20\n",
      " - 1s - loss: 0.4661 - acc: 0.8004\n",
      "Epoch 15/20\n",
      " - 1s - loss: 0.4498 - acc: 0.8013\n",
      "Epoch 16/20\n",
      " - 1s - loss: 0.4621 - acc: 0.7973\n",
      "Epoch 17/20\n",
      " - 1s - loss: 0.4642 - acc: 0.7987\n",
      "Epoch 18/20\n",
      " - 1s - loss: 0.4638 - acc: 0.7991\n",
      "Epoch 19/20\n",
      " - 1s - loss: 0.4685 - acc: 0.7920\n",
      "Epoch 20/20\n",
      " - 1s - loss: 0.4626 - acc: 0.8000\n",
      "0.2692307692307692\n",
      "_________________________________________________________________\n",
      "Layer (type)                 Output Shape              Param #   \n",
      "=================================================================\n",
      "embedding_33 (Embedding)     (None, 24, 300)           742500    \n",
      "_________________________________________________________________\n",
      "bidirectional_13 (Bidirectio (None, 512)               1140736   \n",
      "_________________________________________________________________\n",
      "dropout_45 (Dropout)         (None, 512)               0         \n",
      "_________________________________________________________________\n",
      "dense_40 (Dense)             (None, 5)                 2565      \n",
      "=================================================================\n",
      "Total params: 1,885,801\n",
      "Trainable params: 1,143,301\n",
      "Non-trainable params: 742,500\n",
      "_________________________________________________________________\n",
      "None\n",
      "Epoch 1/5\n",
      " - 9s - loss: 0.4960 - acc: 0.8000\n",
      "Epoch 2/5\n",
      " - 5s - loss: 0.4889 - acc: 0.8000\n",
      "Epoch 3/5\n",
      " - 6s - loss: 0.4814 - acc: 0.8000\n",
      "Epoch 4/5\n",
      " - 5s - loss: 0.4778 - acc: 0.8000\n",
      "Epoch 5/5\n",
      " - 5s - loss: 0.4729 - acc: 0.8004\n",
      "0.2692307692307692\n",
      "_________________________________________________________________\n",
      "Layer (type)                 Output Shape              Param #   \n",
      "=================================================================\n",
      "embedding_34 (Embedding)     (None, 24, 300)           742500    \n",
      "_________________________________________________________________\n",
      "conv1d_20 (Conv1D)           (None, 24, 100)           30100     \n",
      "_________________________________________________________________\n",
      "dropout_46 (Dropout)         (None, 24, 100)           0         \n",
      "_________________________________________________________________\n",
      "max_pooling1d_13 (MaxPooling (None, 12, 100)           0         \n",
      "_________________________________________________________________\n",
      "lstm_27 (LSTM)               (None, 64)                42240     \n",
      "_________________________________________________________________\n",
      "dropout_47 (Dropout)         (None, 64)                0         \n",
      "_________________________________________________________________\n",
      "dense_41 (Dense)             (None, 5)                 325       \n",
      "=================================================================\n",
      "Total params: 815,165\n",
      "Trainable params: 72,665\n",
      "Non-trainable params: 742,500\n",
      "_________________________________________________________________\n",
      "None\n",
      "Epoch 1/10\n",
      " - 5s - loss: 0.4955 - acc: 0.8000\n",
      "Epoch 2/10\n",
      " - 1s - loss: 0.4897 - acc: 0.8000\n",
      "Epoch 3/10\n",
      " - 1s - loss: 0.4840 - acc: 0.7996\n",
      "Epoch 4/10\n",
      " - 1s - loss: 0.4541 - acc: 0.7978\n",
      "Epoch 5/10\n",
      " - 1s - loss: 0.4039 - acc: 0.8174\n",
      "Epoch 6/10\n",
      " - 1s - loss: 0.3802 - acc: 0.8317\n",
      "Epoch 7/10\n",
      " - 1s - loss: 0.3241 - acc: 0.8563\n",
      "Epoch 8/10\n",
      " - 1s - loss: 0.3021 - acc: 0.8701\n",
      "Epoch 9/10\n",
      " - 1s - loss: 0.2909 - acc: 0.8737\n",
      "Epoch 10/10\n",
      " - 1s - loss: 0.2402 - acc: 0.8969\n",
      "0.21153846153846154\n",
      "_________________________________________________________________\n",
      "Layer (type)                 Output Shape              Param #   \n",
      "=================================================================\n",
      "embedding_35 (Embedding)     (None, 24, 300)           742500    \n",
      "_________________________________________________________________\n",
      "conv1d_21 (Conv1D)           (None, 24, 100)           30100     \n",
      "_________________________________________________________________\n",
      "dropout_48 (Dropout)         (None, 24, 100)           0         \n",
      "_________________________________________________________________\n",
      "max_pooling1d_14 (MaxPooling (None, 12, 100)           0         \n",
      "_________________________________________________________________\n",
      "bidirectional_14 (Bidirectio (None, 128)               84480     \n",
      "_________________________________________________________________\n",
      "dropout_49 (Dropout)         (None, 128)               0         \n",
      "_________________________________________________________________\n",
      "dense_42 (Dense)             (None, 5)                 645       \n",
      "=================================================================\n",
      "Total params: 857,725\n",
      "Trainable params: 115,225\n",
      "Non-trainable params: 742,500\n",
      "_________________________________________________________________\n",
      "None\n",
      "Epoch 1/5\n",
      " - 5s - loss: 0.4917 - acc: 0.8000\n",
      "Epoch 2/5\n",
      " - 1s - loss: 0.4780 - acc: 0.8000\n",
      "Epoch 3/5\n",
      " - 1s - loss: 0.4492 - acc: 0.8040\n",
      "Epoch 4/5\n",
      " - 1s - loss: 0.4056 - acc: 0.8161\n",
      "Epoch 5/5\n",
      " - 1s - loss: 0.3839 - acc: 0.8246\n",
      "0.25\n",
      "----------------------itr = 4--------------\n",
      "_________________________________________________________________\n",
      "Layer (type)                 Output Shape              Param #   \n",
      "=================================================================\n",
      "embedding_36 (Embedding)     (None, 24, 300)           740100    \n",
      "_________________________________________________________________\n",
      "dropout_50 (Dropout)         (None, 24, 300)           0         \n",
      "_________________________________________________________________\n",
      "conv1d_22 (Conv1D)           (None, 19, 100)           180100    \n",
      "_________________________________________________________________\n",
      "global_max_pooling1d_8 (Glob (None, 100)               0         \n",
      "_________________________________________________________________\n",
      "dense_43 (Dense)             (None, 200)               20200     \n",
      "_________________________________________________________________\n",
      "dropout_51 (Dropout)         (None, 200)               0         \n",
      "_________________________________________________________________\n",
      "activation_15 (Activation)   (None, 200)               0         \n",
      "_________________________________________________________________\n",
      "dense_44 (Dense)             (None, 5)                 1005      \n",
      "_________________________________________________________________\n",
      "activation_16 (Activation)   (None, 5)                 0         \n",
      "=================================================================\n",
      "Total params: 941,405\n",
      "Trainable params: 941,405\n",
      "Non-trainable params: 0\n",
      "_________________________________________________________________\n",
      "None\n",
      "Epoch 1/10\n",
      " - 5s - loss: 0.5121 - acc: 0.7924\n",
      "Epoch 2/10\n",
      " - 1s - loss: 0.4994 - acc: 0.7969\n",
      "Epoch 3/10\n",
      " - 1s - loss: 0.5028 - acc: 0.7938\n"
     ]
    },
    {
     "name": "stdout",
     "output_type": "stream",
     "text": [
      "Epoch 4/10\n",
      " - 1s - loss: 0.4972 - acc: 0.8004\n",
      "Epoch 5/10\n",
      " - 1s - loss: 0.4902 - acc: 0.7947\n",
      "Epoch 6/10\n",
      " - 1s - loss: 0.4939 - acc: 0.7978\n",
      "Epoch 7/10\n",
      " - 1s - loss: 0.4923 - acc: 0.7969\n",
      "Epoch 8/10\n",
      " - 1s - loss: 0.4882 - acc: 0.7991\n",
      "Epoch 9/10\n",
      " - 1s - loss: 0.4782 - acc: 0.8009\n",
      "Epoch 10/10\n",
      " - 1s - loss: 0.4824 - acc: 0.7964\n",
      "0.32\n",
      "_________________________________________________________________\n",
      "Layer (type)                 Output Shape              Param #   \n",
      "=================================================================\n",
      "embedding_37 (Embedding)     (None, 24, 300)           740100    \n",
      "_________________________________________________________________\n",
      "lstm_29 (LSTM)               (None, 128)               219648    \n",
      "_________________________________________________________________\n",
      "dense_45 (Dense)             (None, 5)                 645       \n",
      "=================================================================\n",
      "Total params: 960,393\n",
      "Trainable params: 220,293\n",
      "Non-trainable params: 740,100\n",
      "_________________________________________________________________\n",
      "None\n",
      "Epoch 1/20\n",
      " - 5s - loss: 0.4964 - acc: 0.8000\n",
      "Epoch 2/20\n",
      " - 1s - loss: 0.4903 - acc: 0.8000\n",
      "Epoch 3/20\n",
      " - 1s - loss: 0.4895 - acc: 0.7996\n",
      "Epoch 4/20\n",
      " - 1s - loss: 0.4965 - acc: 0.7973\n",
      "Epoch 5/20\n",
      " - 1s - loss: 0.4924 - acc: 0.8000\n",
      "Epoch 6/20\n",
      " - 1s - loss: 0.4911 - acc: 0.8000\n",
      "Epoch 7/20\n",
      " - 1s - loss: 0.4868 - acc: 0.8000\n",
      "Epoch 8/20\n",
      " - 1s - loss: 0.4822 - acc: 0.8004\n",
      "Epoch 9/20\n",
      " - 1s - loss: 0.4758 - acc: 0.8004\n",
      "Epoch 10/20\n",
      " - 1s - loss: 0.4895 - acc: 0.7964\n",
      "Epoch 11/20\n",
      " - 1s - loss: 0.4845 - acc: 0.7969\n",
      "Epoch 12/20\n",
      " - 1s - loss: 0.4824 - acc: 0.7996\n",
      "Epoch 13/20\n",
      " - 1s - loss: 0.4793 - acc: 0.8004\n",
      "Epoch 14/20\n",
      " - 1s - loss: 0.4754 - acc: 0.8000\n",
      "Epoch 15/20\n",
      " - 1s - loss: 0.4672 - acc: 0.8013\n",
      "Epoch 16/20\n",
      " - 1s - loss: 0.4749 - acc: 0.7924\n",
      "Epoch 17/20\n",
      " - 1s - loss: 0.4694 - acc: 0.7987\n",
      "Epoch 18/20\n",
      " - 1s - loss: 0.4662 - acc: 0.7991\n",
      "Epoch 19/20\n",
      " - 1s - loss: 0.4608 - acc: 0.7964\n",
      "Epoch 20/20\n",
      " - 1s - loss: 0.4658 - acc: 0.7911\n",
      "0.36\n",
      "_________________________________________________________________\n",
      "Layer (type)                 Output Shape              Param #   \n",
      "=================================================================\n",
      "embedding_38 (Embedding)     (None, 24, 300)           740100    \n",
      "_________________________________________________________________\n",
      "bidirectional_15 (Bidirectio (None, 512)               1140736   \n",
      "_________________________________________________________________\n",
      "dropout_52 (Dropout)         (None, 512)               0         \n",
      "_________________________________________________________________\n",
      "dense_46 (Dense)             (None, 5)                 2565      \n",
      "=================================================================\n",
      "Total params: 1,883,401\n",
      "Trainable params: 1,143,301\n",
      "Non-trainable params: 740,100\n",
      "_________________________________________________________________\n",
      "None\n",
      "Epoch 1/5\n",
      " - 9s - loss: 0.4959 - acc: 0.8000\n",
      "Epoch 2/5\n",
      " - 5s - loss: 0.4882 - acc: 0.8000\n",
      "Epoch 3/5\n",
      " - 5s - loss: 0.4822 - acc: 0.8000\n",
      "Epoch 4/5\n",
      " - 5s - loss: 0.4778 - acc: 0.8000\n",
      "Epoch 5/5\n",
      " - 5s - loss: 0.4695 - acc: 0.8013\n",
      "0.32\n",
      "_________________________________________________________________\n",
      "Layer (type)                 Output Shape              Param #   \n",
      "=================================================================\n",
      "embedding_39 (Embedding)     (None, 24, 300)           740100    \n",
      "_________________________________________________________________\n",
      "conv1d_23 (Conv1D)           (None, 24, 100)           30100     \n",
      "_________________________________________________________________\n",
      "dropout_53 (Dropout)         (None, 24, 100)           0         \n",
      "_________________________________________________________________\n",
      "max_pooling1d_15 (MaxPooling (None, 12, 100)           0         \n",
      "_________________________________________________________________\n",
      "lstm_31 (LSTM)               (None, 64)                42240     \n",
      "_________________________________________________________________\n",
      "dropout_54 (Dropout)         (None, 64)                0         \n",
      "_________________________________________________________________\n",
      "dense_47 (Dense)             (None, 5)                 325       \n",
      "=================================================================\n",
      "Total params: 812,765\n",
      "Trainable params: 72,665\n",
      "Non-trainable params: 740,100\n",
      "_________________________________________________________________\n",
      "None\n",
      "Epoch 1/10\n",
      " - 5s - loss: 0.4940 - acc: 0.8000\n",
      "Epoch 2/10\n",
      " - 1s - loss: 0.4885 - acc: 0.8009\n",
      "Epoch 3/10\n",
      " - 1s - loss: 0.4710 - acc: 0.8009\n",
      "Epoch 4/10\n",
      " - 1s - loss: 0.4416 - acc: 0.7991\n",
      "Epoch 5/10\n",
      " - 1s - loss: 0.4070 - acc: 0.8089\n",
      "Epoch 6/10\n",
      " - 1s - loss: 0.3922 - acc: 0.8196\n",
      "Epoch 7/10\n",
      " - 1s - loss: 0.3600 - acc: 0.8307\n",
      "Epoch 8/10\n",
      " - 1s - loss: 0.3110 - acc: 0.8609\n",
      "Epoch 9/10\n",
      " - 1s - loss: 0.2844 - acc: 0.8796\n",
      "Epoch 10/10\n",
      " - 1s - loss: 0.2632 - acc: 0.8849\n",
      "0.4\n",
      "_________________________________________________________________\n",
      "Layer (type)                 Output Shape              Param #   \n",
      "=================================================================\n",
      "embedding_40 (Embedding)     (None, 24, 300)           740100    \n",
      "_________________________________________________________________\n",
      "conv1d_24 (Conv1D)           (None, 24, 100)           30100     \n",
      "_________________________________________________________________\n",
      "dropout_55 (Dropout)         (None, 24, 100)           0         \n",
      "_________________________________________________________________\n",
      "max_pooling1d_16 (MaxPooling (None, 12, 100)           0         \n",
      "_________________________________________________________________\n",
      "bidirectional_16 (Bidirectio (None, 128)               84480     \n",
      "_________________________________________________________________\n",
      "dropout_56 (Dropout)         (None, 128)               0         \n",
      "_________________________________________________________________\n",
      "dense_48 (Dense)             (None, 5)                 645       \n",
      "=================================================================\n",
      "Total params: 855,325\n",
      "Trainable params: 115,225\n",
      "Non-trainable params: 740,100\n",
      "_________________________________________________________________\n",
      "None\n",
      "Epoch 1/5\n",
      " - 6s - loss: 0.4925 - acc: 0.8000\n",
      "Epoch 2/5\n",
      " - 1s - loss: 0.4783 - acc: 0.8000\n",
      "Epoch 3/5\n",
      " - 1s - loss: 0.4467 - acc: 0.7996\n",
      "Epoch 4/5\n",
      " - 1s - loss: 0.4099 - acc: 0.8138\n",
      "Epoch 5/5\n",
      " - 1s - loss: 0.3841 - acc: 0.8182\n",
      "0.32\n",
      "----------------------itr = 5--------------\n",
      "_________________________________________________________________\n",
      "Layer (type)                 Output Shape              Param #   \n",
      "=================================================================\n",
      "embedding_41 (Embedding)     (None, 24, 300)           735300    \n",
      "_________________________________________________________________\n",
      "dropout_57 (Dropout)         (None, 24, 300)           0         \n",
      "_________________________________________________________________\n",
      "conv1d_25 (Conv1D)           (None, 19, 100)           180100    \n",
      "_________________________________________________________________\n",
      "global_max_pooling1d_9 (Glob (None, 100)               0         \n",
      "_________________________________________________________________\n",
      "dense_49 (Dense)             (None, 200)               20200     \n",
      "_________________________________________________________________\n",
      "dropout_58 (Dropout)         (None, 200)               0         \n",
      "_________________________________________________________________\n",
      "activation_17 (Activation)   (None, 200)               0         \n",
      "_________________________________________________________________\n",
      "dense_50 (Dense)             (None, 5)                 1005      \n",
      "_________________________________________________________________\n",
      "activation_18 (Activation)   (None, 5)                 0         \n",
      "=================================================================\n",
      "Total params: 936,605\n",
      "Trainable params: 936,605\n",
      "Non-trainable params: 0\n",
      "_________________________________________________________________\n",
      "None\n",
      "Epoch 1/10\n",
      " - 6s - loss: 0.5118 - acc: 0.7991\n",
      "Epoch 2/10\n",
      " - 1s - loss: 0.5001 - acc: 0.7978\n",
      "Epoch 3/10\n",
      " - 1s - loss: 0.5037 - acc: 0.7973\n",
      "Epoch 4/10\n",
      " - 1s - loss: 0.4961 - acc: 0.8000\n",
      "Epoch 5/10\n",
      " - 1s - loss: 0.4945 - acc: 0.8000\n",
      "Epoch 6/10\n",
      " - 1s - loss: 0.4898 - acc: 0.7987\n"
     ]
    },
    {
     "name": "stdout",
     "output_type": "stream",
     "text": [
      "Epoch 7/10\n",
      " - 1s - loss: 0.4892 - acc: 0.7991\n",
      "Epoch 8/10\n",
      " - 1s - loss: 0.4829 - acc: 0.7996\n",
      "Epoch 9/10\n",
      " - 1s - loss: 0.4817 - acc: 0.8004\n",
      "Epoch 10/10\n",
      " - 1s - loss: 0.4748 - acc: 0.8013\n",
      "0.30612244897959184\n",
      "_________________________________________________________________\n",
      "Layer (type)                 Output Shape              Param #   \n",
      "=================================================================\n",
      "embedding_42 (Embedding)     (None, 24, 300)           735300    \n",
      "_________________________________________________________________\n",
      "lstm_33 (LSTM)               (None, 128)               219648    \n",
      "_________________________________________________________________\n",
      "dense_51 (Dense)             (None, 5)                 645       \n",
      "=================================================================\n",
      "Total params: 955,593\n",
      "Trainable params: 220,293\n",
      "Non-trainable params: 735,300\n",
      "_________________________________________________________________\n",
      "None\n",
      "Epoch 1/20\n",
      " - 5s - loss: 0.4933 - acc: 0.8000\n",
      "Epoch 2/20\n",
      " - 1s - loss: 0.5019 - acc: 0.7929\n",
      "Epoch 3/20\n",
      " - 1s - loss: 0.4924 - acc: 0.8000\n",
      "Epoch 4/20\n",
      " - 1s - loss: 0.4914 - acc: 0.8000\n",
      "Epoch 5/20\n",
      " - 1s - loss: 0.4898 - acc: 0.7991\n",
      "Epoch 6/20\n",
      " - 1s - loss: 0.4915 - acc: 0.8000\n",
      "Epoch 7/20\n",
      " - 1s - loss: 0.4872 - acc: 0.8004\n",
      "Epoch 8/20\n",
      " - 1s - loss: 0.4854 - acc: 0.8000\n",
      "Epoch 9/20\n",
      " - 1s - loss: 0.4829 - acc: 0.8000\n",
      "Epoch 10/20\n",
      " - 1s - loss: 0.4833 - acc: 0.7996\n",
      "Epoch 11/20\n",
      " - 1s - loss: 0.4782 - acc: 0.7996\n",
      "Epoch 12/20\n",
      " - 1s - loss: 0.4838 - acc: 0.7956\n",
      "Epoch 13/20\n",
      " - 1s - loss: 0.4778 - acc: 0.7991\n",
      "Epoch 14/20\n",
      " - 1s - loss: 0.4795 - acc: 0.7987\n",
      "Epoch 15/20\n",
      " - 1s - loss: 0.4811 - acc: 0.8000\n",
      "Epoch 16/20\n",
      " - 1s - loss: 0.4757 - acc: 0.7991\n",
      "Epoch 17/20\n",
      " - 1s - loss: 0.4695 - acc: 0.7969\n",
      "Epoch 18/20\n",
      " - 1s - loss: 0.4636 - acc: 0.8004\n",
      "Epoch 19/20\n",
      " - 1s - loss: 0.4813 - acc: 0.7969\n",
      "Epoch 20/20\n",
      " - 1s - loss: 0.4670 - acc: 0.7973\n",
      "0.2653061224489796\n",
      "_________________________________________________________________\n",
      "Layer (type)                 Output Shape              Param #   \n",
      "=================================================================\n",
      "embedding_43 (Embedding)     (None, 24, 300)           735300    \n",
      "_________________________________________________________________\n",
      "bidirectional_17 (Bidirectio (None, 512)               1140736   \n",
      "_________________________________________________________________\n",
      "dropout_59 (Dropout)         (None, 512)               0         \n",
      "_________________________________________________________________\n",
      "dense_52 (Dense)             (None, 5)                 2565      \n",
      "=================================================================\n",
      "Total params: 1,878,601\n",
      "Trainable params: 1,143,301\n",
      "Non-trainable params: 735,300\n",
      "_________________________________________________________________\n",
      "None\n",
      "Epoch 1/5\n",
      " - 10s - loss: 0.4971 - acc: 0.8000\n",
      "Epoch 2/5\n",
      " - 5s - loss: 0.4867 - acc: 0.8000\n",
      "Epoch 3/5\n",
      " - 5s - loss: 0.4798 - acc: 0.8000\n",
      "Epoch 4/5\n",
      " - 5s - loss: 0.4768 - acc: 0.7996\n",
      "Epoch 5/5\n",
      " - 5s - loss: 0.4683 - acc: 0.8000\n",
      "0.3469387755102041\n",
      "_________________________________________________________________\n",
      "Layer (type)                 Output Shape              Param #   \n",
      "=================================================================\n",
      "embedding_44 (Embedding)     (None, 24, 300)           735300    \n",
      "_________________________________________________________________\n",
      "conv1d_26 (Conv1D)           (None, 24, 100)           30100     \n",
      "_________________________________________________________________\n",
      "dropout_60 (Dropout)         (None, 24, 100)           0         \n",
      "_________________________________________________________________\n",
      "max_pooling1d_17 (MaxPooling (None, 12, 100)           0         \n",
      "_________________________________________________________________\n",
      "lstm_35 (LSTM)               (None, 64)                42240     \n",
      "_________________________________________________________________\n",
      "dropout_61 (Dropout)         (None, 64)                0         \n",
      "_________________________________________________________________\n",
      "dense_53 (Dense)             (None, 5)                 325       \n",
      "=================================================================\n",
      "Total params: 807,965\n",
      "Trainable params: 72,665\n",
      "Non-trainable params: 735,300\n",
      "_________________________________________________________________\n",
      "None\n",
      "Epoch 1/10\n",
      " - 6s - loss: 0.4964 - acc: 0.8000\n",
      "Epoch 2/10\n",
      " - 1s - loss: 0.4902 - acc: 0.8000\n",
      "Epoch 3/10\n",
      " - 1s - loss: 0.4870 - acc: 0.8004\n",
      "Epoch 4/10\n",
      " - 1s - loss: 0.4743 - acc: 0.8013\n",
      "Epoch 5/10\n",
      " - 1s - loss: 0.4520 - acc: 0.8084\n",
      "Epoch 6/10\n",
      " - 1s - loss: 0.4018 - acc: 0.8239\n",
      "Epoch 7/10\n",
      " - 1s - loss: 0.3385 - acc: 0.8541\n",
      "Epoch 8/10\n",
      " - 1s - loss: 0.3355 - acc: 0.8599\n",
      "Epoch 9/10\n",
      " - 1s - loss: 0.2818 - acc: 0.8869\n",
      "Epoch 10/10\n",
      " - 1s - loss: 0.2420 - acc: 0.8984\n",
      "0.24489795918367346\n",
      "_________________________________________________________________\n",
      "Layer (type)                 Output Shape              Param #   \n",
      "=================================================================\n",
      "embedding_45 (Embedding)     (None, 24, 300)           735300    \n",
      "_________________________________________________________________\n",
      "conv1d_27 (Conv1D)           (None, 24, 100)           30100     \n",
      "_________________________________________________________________\n",
      "dropout_62 (Dropout)         (None, 24, 100)           0         \n",
      "_________________________________________________________________\n",
      "max_pooling1d_18 (MaxPooling (None, 12, 100)           0         \n",
      "_________________________________________________________________\n",
      "bidirectional_18 (Bidirectio (None, 128)               84480     \n",
      "_________________________________________________________________\n",
      "dropout_63 (Dropout)         (None, 128)               0         \n",
      "_________________________________________________________________\n",
      "dense_54 (Dense)             (None, 5)                 645       \n",
      "=================================================================\n",
      "Total params: 850,525\n",
      "Trainable params: 115,225\n",
      "Non-trainable params: 735,300\n",
      "_________________________________________________________________\n",
      "None\n",
      "Epoch 1/5\n",
      " - 6s - loss: 0.4911 - acc: 0.8004\n",
      "Epoch 2/5\n",
      " - 1s - loss: 0.4784 - acc: 0.8004\n",
      "Epoch 3/5\n",
      " - 1s - loss: 0.4491 - acc: 0.8013\n",
      "Epoch 4/5\n",
      " - 1s - loss: 0.4126 - acc: 0.8124\n",
      "Epoch 5/5\n",
      " - 1s - loss: 0.3732 - acc: 0.8315\n",
      "0.2653061224489796\n",
      "----------------------itr = 6--------------\n",
      "_________________________________________________________________\n",
      "Layer (type)                 Output Shape              Param #   \n",
      "=================================================================\n",
      "embedding_46 (Embedding)     (None, 24, 300)           737100    \n",
      "_________________________________________________________________\n",
      "dropout_64 (Dropout)         (None, 24, 300)           0         \n",
      "_________________________________________________________________\n",
      "conv1d_28 (Conv1D)           (None, 19, 100)           180100    \n",
      "_________________________________________________________________\n",
      "global_max_pooling1d_10 (Glo (None, 100)               0         \n",
      "_________________________________________________________________\n",
      "dense_55 (Dense)             (None, 200)               20200     \n",
      "_________________________________________________________________\n",
      "dropout_65 (Dropout)         (None, 200)               0         \n",
      "_________________________________________________________________\n",
      "activation_19 (Activation)   (None, 200)               0         \n",
      "_________________________________________________________________\n",
      "dense_56 (Dense)             (None, 5)                 1005      \n",
      "_________________________________________________________________\n",
      "activation_20 (Activation)   (None, 5)                 0         \n",
      "=================================================================\n",
      "Total params: 938,405\n",
      "Trainable params: 938,405\n",
      "Non-trainable params: 0\n",
      "_________________________________________________________________\n",
      "None\n",
      "Epoch 1/10\n",
      " - 6s - loss: 0.5156 - acc: 0.7978\n",
      "Epoch 2/10\n",
      " - 1s - loss: 0.5018 - acc: 0.7982\n",
      "Epoch 3/10\n",
      " - 1s - loss: 0.5035 - acc: 0.7973\n",
      "Epoch 4/10\n",
      " - 1s - loss: 0.4925 - acc: 0.7978\n",
      "Epoch 5/10\n",
      " - 1s - loss: 0.4913 - acc: 0.8009\n",
      "Epoch 6/10\n",
      " - 1s - loss: 0.4951 - acc: 0.8000\n",
      "Epoch 7/10\n",
      " - 1s - loss: 0.4885 - acc: 0.8000\n",
      "Epoch 8/10\n"
     ]
    },
    {
     "name": "stdout",
     "output_type": "stream",
     "text": [
      " - 1s - loss: 0.4915 - acc: 0.7991\n",
      "Epoch 9/10\n",
      " - 1s - loss: 0.4789 - acc: 0.8009\n",
      "Epoch 10/10\n",
      " - 1s - loss: 0.4785 - acc: 0.8004\n",
      "0.3469387755102041\n",
      "_________________________________________________________________\n",
      "Layer (type)                 Output Shape              Param #   \n",
      "=================================================================\n",
      "embedding_47 (Embedding)     (None, 24, 300)           737100    \n",
      "_________________________________________________________________\n",
      "lstm_37 (LSTM)               (None, 128)               219648    \n",
      "_________________________________________________________________\n",
      "dense_57 (Dense)             (None, 5)                 645       \n",
      "=================================================================\n",
      "Total params: 957,393\n",
      "Trainable params: 220,293\n",
      "Non-trainable params: 737,100\n",
      "_________________________________________________________________\n",
      "None\n",
      "Epoch 1/20\n",
      " - 8s - loss: 0.4978 - acc: 0.8000\n",
      "Epoch 2/20\n",
      " - 1s - loss: 0.4900 - acc: 0.7996\n",
      "Epoch 3/20\n",
      " - 1s - loss: 0.4912 - acc: 0.8000\n",
      "Epoch 4/20\n",
      " - 1s - loss: 0.4828 - acc: 0.8000\n",
      "Epoch 5/20\n",
      " - 1s - loss: 0.4844 - acc: 0.8000\n",
      "Epoch 6/20\n",
      " - 1s - loss: 0.4756 - acc: 0.8022\n",
      "Epoch 7/20\n",
      " - 1s - loss: 0.4978 - acc: 0.7907\n",
      "Epoch 8/20\n",
      " - 1s - loss: 0.4848 - acc: 0.7982\n",
      "Epoch 9/20\n",
      " - 1s - loss: 0.4693 - acc: 0.8009\n",
      "Epoch 10/20\n",
      " - 1s - loss: 0.4839 - acc: 0.7871\n",
      "Epoch 11/20\n",
      " - 1s - loss: 0.4685 - acc: 0.8004\n",
      "Epoch 12/20\n",
      " - 1s - loss: 0.4774 - acc: 0.7978\n",
      "Epoch 13/20\n",
      " - 1s - loss: 0.4649 - acc: 0.7982\n",
      "Epoch 14/20\n",
      " - 1s - loss: 0.4686 - acc: 0.7942\n",
      "Epoch 15/20\n",
      " - 1s - loss: 0.4741 - acc: 0.7920\n",
      "Epoch 16/20\n",
      " - 1s - loss: 0.4671 - acc: 0.7991\n",
      "Epoch 17/20\n",
      " - 1s - loss: 0.4602 - acc: 0.7987\n",
      "Epoch 18/20\n",
      " - 1s - loss: 0.4608 - acc: 0.7951\n",
      "Epoch 19/20\n",
      " - 1s - loss: 0.4766 - acc: 0.7929\n",
      "Epoch 20/20\n",
      " - 1s - loss: 0.4598 - acc: 0.7987\n",
      "0.32653061224489793\n",
      "_________________________________________________________________\n",
      "Layer (type)                 Output Shape              Param #   \n",
      "=================================================================\n",
      "embedding_48 (Embedding)     (None, 24, 300)           737100    \n",
      "_________________________________________________________________\n",
      "bidirectional_19 (Bidirectio (None, 512)               1140736   \n",
      "_________________________________________________________________\n",
      "dropout_66 (Dropout)         (None, 512)               0         \n",
      "_________________________________________________________________\n",
      "dense_58 (Dense)             (None, 5)                 2565      \n",
      "=================================================================\n",
      "Total params: 1,880,401\n",
      "Trainable params: 1,143,301\n",
      "Non-trainable params: 737,100\n",
      "_________________________________________________________________\n",
      "None\n",
      "Epoch 1/5\n",
      " - 10s - loss: 0.4967 - acc: 0.8000\n",
      "Epoch 2/5\n",
      " - 6s - loss: 0.4872 - acc: 0.8000\n",
      "Epoch 3/5\n",
      " - 5s - loss: 0.4830 - acc: 0.8000\n",
      "Epoch 4/5\n",
      " - 5s - loss: 0.4785 - acc: 0.8000\n",
      "Epoch 5/5\n",
      " - 5s - loss: 0.4714 - acc: 0.8004\n",
      "0.2857142857142857\n",
      "_________________________________________________________________\n",
      "Layer (type)                 Output Shape              Param #   \n",
      "=================================================================\n",
      "embedding_49 (Embedding)     (None, 24, 300)           737100    \n",
      "_________________________________________________________________\n",
      "conv1d_29 (Conv1D)           (None, 24, 100)           30100     \n",
      "_________________________________________________________________\n",
      "dropout_67 (Dropout)         (None, 24, 100)           0         \n",
      "_________________________________________________________________\n",
      "max_pooling1d_19 (MaxPooling (None, 12, 100)           0         \n",
      "_________________________________________________________________\n",
      "lstm_39 (LSTM)               (None, 64)                42240     \n",
      "_________________________________________________________________\n",
      "dropout_68 (Dropout)         (None, 64)                0         \n",
      "_________________________________________________________________\n",
      "dense_59 (Dense)             (None, 5)                 325       \n",
      "=================================================================\n",
      "Total params: 809,765\n",
      "Trainable params: 72,665\n",
      "Non-trainable params: 737,100\n",
      "_________________________________________________________________\n",
      "None\n",
      "Epoch 1/10\n",
      " - 6s - loss: 0.4944 - acc: 0.8000\n",
      "Epoch 2/10\n",
      " - 1s - loss: 0.4889 - acc: 0.8000\n",
      "Epoch 3/10\n",
      " - 1s - loss: 0.4847 - acc: 0.8004\n",
      "Epoch 4/10\n",
      " - 1s - loss: 0.4560 - acc: 0.8049\n",
      "Epoch 5/10\n",
      " - 1s - loss: 0.4227 - acc: 0.8124\n",
      "Epoch 6/10\n",
      " - 1s - loss: 0.3943 - acc: 0.8195\n",
      "Epoch 7/10\n",
      " - 1s - loss: 0.3689 - acc: 0.8333\n",
      "Epoch 8/10\n",
      " - 1s - loss: 0.3203 - acc: 0.8545\n",
      "Epoch 9/10\n",
      " - 1s - loss: 0.2802 - acc: 0.8820\n",
      "Epoch 10/10\n",
      " - 1s - loss: 0.2642 - acc: 0.8860\n",
      "0.2653061224489796\n",
      "_________________________________________________________________\n",
      "Layer (type)                 Output Shape              Param #   \n",
      "=================================================================\n",
      "embedding_50 (Embedding)     (None, 24, 300)           737100    \n",
      "_________________________________________________________________\n",
      "conv1d_30 (Conv1D)           (None, 24, 100)           30100     \n",
      "_________________________________________________________________\n",
      "dropout_69 (Dropout)         (None, 24, 100)           0         \n",
      "_________________________________________________________________\n",
      "max_pooling1d_20 (MaxPooling (None, 12, 100)           0         \n",
      "_________________________________________________________________\n",
      "bidirectional_20 (Bidirectio (None, 128)               84480     \n",
      "_________________________________________________________________\n",
      "dropout_70 (Dropout)         (None, 128)               0         \n",
      "_________________________________________________________________\n",
      "dense_60 (Dense)             (None, 5)                 645       \n",
      "=================================================================\n",
      "Total params: 852,325\n",
      "Trainable params: 115,225\n",
      "Non-trainable params: 737,100\n",
      "_________________________________________________________________\n",
      "None\n",
      "Epoch 1/5\n",
      " - 7s - loss: 0.4907 - acc: 0.7982\n",
      "Epoch 2/5\n",
      " - 1s - loss: 0.4790 - acc: 0.8000\n",
      "Epoch 3/5\n",
      " - 1s - loss: 0.4500 - acc: 0.8018\n",
      "Epoch 4/5\n",
      " - 1s - loss: 0.4046 - acc: 0.8191\n",
      "Epoch 5/5\n",
      " - 1s - loss: 0.3765 - acc: 0.8337\n",
      "0.32653061224489793\n",
      "----------------------itr = 7--------------\n",
      "_________________________________________________________________\n",
      "Layer (type)                 Output Shape              Param #   \n",
      "=================================================================\n",
      "embedding_51 (Embedding)     (None, 24, 300)           751500    \n",
      "_________________________________________________________________\n",
      "dropout_71 (Dropout)         (None, 24, 300)           0         \n",
      "_________________________________________________________________\n",
      "conv1d_31 (Conv1D)           (None, 19, 100)           180100    \n",
      "_________________________________________________________________\n",
      "global_max_pooling1d_11 (Glo (None, 100)               0         \n",
      "_________________________________________________________________\n",
      "dense_61 (Dense)             (None, 200)               20200     \n",
      "_________________________________________________________________\n",
      "dropout_72 (Dropout)         (None, 200)               0         \n",
      "_________________________________________________________________\n",
      "activation_21 (Activation)   (None, 200)               0         \n",
      "_________________________________________________________________\n",
      "dense_62 (Dense)             (None, 5)                 1005      \n",
      "_________________________________________________________________\n",
      "activation_22 (Activation)   (None, 5)                 0         \n",
      "=================================================================\n",
      "Total params: 952,805\n",
      "Trainable params: 952,805\n",
      "Non-trainable params: 0\n",
      "_________________________________________________________________\n",
      "None\n",
      "Epoch 1/10\n",
      " - 7s - loss: 0.5172 - acc: 0.7973\n",
      "Epoch 2/10\n",
      " - 1s - loss: 0.5033 - acc: 0.7978\n",
      "Epoch 3/10\n",
      " - 1s - loss: 0.4997 - acc: 0.7969\n",
      "Epoch 4/10\n",
      " - 1s - loss: 0.4923 - acc: 0.7951\n",
      "Epoch 5/10\n",
      " - 1s - loss: 0.4944 - acc: 0.7982\n",
      "Epoch 6/10\n",
      " - 1s - loss: 0.4835 - acc: 0.8000\n",
      "Epoch 7/10\n",
      " - 1s - loss: 0.4897 - acc: 0.7991\n",
      "Epoch 8/10\n",
      " - 1s - loss: 0.4912 - acc: 0.7991\n",
      "Epoch 9/10\n",
      " - 1s - loss: 0.4773 - acc: 0.8004\n"
     ]
    },
    {
     "name": "stdout",
     "output_type": "stream",
     "text": [
      "Epoch 10/10\n",
      " - 1s - loss: 0.4829 - acc: 0.8018\n",
      "0.2653061224489796\n",
      "_________________________________________________________________\n",
      "Layer (type)                 Output Shape              Param #   \n",
      "=================================================================\n",
      "embedding_52 (Embedding)     (None, 24, 300)           751500    \n",
      "_________________________________________________________________\n",
      "lstm_41 (LSTM)               (None, 128)               219648    \n",
      "_________________________________________________________________\n",
      "dense_63 (Dense)             (None, 5)                 645       \n",
      "=================================================================\n",
      "Total params: 971,793\n",
      "Trainable params: 220,293\n",
      "Non-trainable params: 751,500\n",
      "_________________________________________________________________\n",
      "None\n",
      "Epoch 1/20\n",
      " - 7s - loss: 0.4980 - acc: 0.8000\n",
      "Epoch 2/20\n",
      " - 1s - loss: 0.4908 - acc: 0.8000\n",
      "Epoch 3/20\n",
      " - 1s - loss: 0.4900 - acc: 0.8009\n",
      "Epoch 4/20\n",
      " - 1s - loss: 0.4932 - acc: 0.8000\n",
      "Epoch 5/20\n",
      " - 1s - loss: 0.4830 - acc: 0.7996\n",
      "Epoch 6/20\n",
      " - 1s - loss: 0.4789 - acc: 0.7969\n",
      "Epoch 7/20\n",
      " - 1s - loss: 0.4848 - acc: 0.7925\n",
      "Epoch 8/20\n",
      " - 1s - loss: 0.4849 - acc: 0.8004\n",
      "Epoch 9/20\n",
      " - 1s - loss: 0.4782 - acc: 0.8000\n",
      "Epoch 10/20\n",
      " - 1s - loss: 0.4796 - acc: 0.7951\n",
      "Epoch 11/20\n",
      " - 1s - loss: 0.4810 - acc: 0.7956\n",
      "Epoch 12/20\n",
      " - 1s - loss: 0.4701 - acc: 0.8013\n",
      "Epoch 13/20\n",
      " - 1s - loss: 0.4707 - acc: 0.7987\n",
      "Epoch 14/20\n",
      " - 1s - loss: 0.4690 - acc: 0.7951\n",
      "Epoch 15/20\n",
      " - 1s - loss: 0.4636 - acc: 0.7987\n",
      "Epoch 16/20\n",
      " - 1s - loss: 0.4676 - acc: 0.7960\n",
      "Epoch 17/20\n",
      " - 1s - loss: 0.4647 - acc: 0.7996\n",
      "Epoch 18/20\n",
      " - 1s - loss: 0.4592 - acc: 0.8004\n",
      "Epoch 19/20\n",
      " - 1s - loss: 0.4644 - acc: 0.7960\n",
      "Epoch 20/20\n",
      " - 1s - loss: 0.4717 - acc: 0.7982\n",
      "0.2653061224489796\n",
      "_________________________________________________________________\n",
      "Layer (type)                 Output Shape              Param #   \n",
      "=================================================================\n",
      "embedding_53 (Embedding)     (None, 24, 300)           751500    \n",
      "_________________________________________________________________\n",
      "bidirectional_21 (Bidirectio (None, 512)               1140736   \n",
      "_________________________________________________________________\n",
      "dropout_73 (Dropout)         (None, 512)               0         \n",
      "_________________________________________________________________\n",
      "dense_64 (Dense)             (None, 5)                 2565      \n",
      "=================================================================\n",
      "Total params: 1,894,801\n",
      "Trainable params: 1,143,301\n",
      "Non-trainable params: 751,500\n",
      "_________________________________________________________________\n",
      "None\n",
      "Epoch 1/5\n",
      " - 11s - loss: 0.4970 - acc: 0.8000\n",
      "Epoch 2/5\n",
      " - 5s - loss: 0.4895 - acc: 0.8000\n",
      "Epoch 3/5\n",
      " - 5s - loss: 0.4839 - acc: 0.8000\n",
      "Epoch 4/5\n",
      " - 5s - loss: 0.4783 - acc: 0.8000\n",
      "Epoch 5/5\n",
      " - 5s - loss: 0.4708 - acc: 0.8009\n",
      "0.2857142857142857\n",
      "_________________________________________________________________\n",
      "Layer (type)                 Output Shape              Param #   \n",
      "=================================================================\n",
      "embedding_54 (Embedding)     (None, 24, 300)           751500    \n",
      "_________________________________________________________________\n",
      "conv1d_32 (Conv1D)           (None, 24, 100)           30100     \n",
      "_________________________________________________________________\n",
      "dropout_74 (Dropout)         (None, 24, 100)           0         \n",
      "_________________________________________________________________\n",
      "max_pooling1d_21 (MaxPooling (None, 12, 100)           0         \n",
      "_________________________________________________________________\n",
      "lstm_43 (LSTM)               (None, 64)                42240     \n",
      "_________________________________________________________________\n",
      "dropout_75 (Dropout)         (None, 64)                0         \n",
      "_________________________________________________________________\n",
      "dense_65 (Dense)             (None, 5)                 325       \n",
      "=================================================================\n",
      "Total params: 824,165\n",
      "Trainable params: 72,665\n",
      "Non-trainable params: 751,500\n",
      "_________________________________________________________________\n",
      "None\n",
      "Epoch 1/10\n",
      " - 9s - loss: 0.4961 - acc: 0.8000\n",
      "Epoch 2/10\n",
      " - 1s - loss: 0.4909 - acc: 0.8000\n",
      "Epoch 3/10\n",
      " - 1s - loss: 0.4813 - acc: 0.8018\n",
      "Epoch 4/10\n",
      " - 1s - loss: 0.4757 - acc: 0.8013\n",
      "Epoch 5/10\n",
      " - 1s - loss: 0.4337 - acc: 0.8102\n",
      "Epoch 6/10\n",
      " - 1s - loss: 0.3991 - acc: 0.8182\n",
      "Epoch 7/10\n",
      " - 1s - loss: 0.3571 - acc: 0.8457\n",
      "Epoch 8/10\n",
      " - 1s - loss: 0.3193 - acc: 0.8563\n",
      "Epoch 9/10\n",
      " - 1s - loss: 0.2791 - acc: 0.8758\n",
      "Epoch 10/10\n",
      " - 1s - loss: 0.2604 - acc: 0.8851\n",
      "0.1836734693877551\n",
      "_________________________________________________________________\n",
      "Layer (type)                 Output Shape              Param #   \n",
      "=================================================================\n",
      "embedding_55 (Embedding)     (None, 24, 300)           751500    \n",
      "_________________________________________________________________\n",
      "conv1d_33 (Conv1D)           (None, 24, 100)           30100     \n",
      "_________________________________________________________________\n",
      "dropout_76 (Dropout)         (None, 24, 100)           0         \n",
      "_________________________________________________________________\n",
      "max_pooling1d_22 (MaxPooling (None, 12, 100)           0         \n",
      "_________________________________________________________________\n",
      "bidirectional_22 (Bidirectio (None, 128)               84480     \n",
      "_________________________________________________________________\n",
      "dropout_77 (Dropout)         (None, 128)               0         \n",
      "_________________________________________________________________\n",
      "dense_66 (Dense)             (None, 5)                 645       \n",
      "=================================================================\n",
      "Total params: 866,725\n",
      "Trainable params: 115,225\n",
      "Non-trainable params: 751,500\n",
      "_________________________________________________________________\n",
      "None\n",
      "Epoch 1/5\n",
      " - 8s - loss: 0.4929 - acc: 0.8000\n",
      "Epoch 2/5\n",
      " - 1s - loss: 0.4802 - acc: 0.8000\n",
      "Epoch 3/5\n",
      " - 1s - loss: 0.4526 - acc: 0.8031\n",
      "Epoch 4/5\n",
      " - 1s - loss: 0.4050 - acc: 0.8151\n",
      "Epoch 5/5\n",
      " - 1s - loss: 0.3603 - acc: 0.8395\n",
      "0.3877551020408163\n",
      "----------------------itr = 8--------------\n",
      "_________________________________________________________________\n",
      "Layer (type)                 Output Shape              Param #   \n",
      "=================================================================\n",
      "embedding_56 (Embedding)     (None, 24, 300)           742500    \n",
      "_________________________________________________________________\n",
      "dropout_78 (Dropout)         (None, 24, 300)           0         \n",
      "_________________________________________________________________\n",
      "conv1d_34 (Conv1D)           (None, 19, 100)           180100    \n",
      "_________________________________________________________________\n",
      "global_max_pooling1d_12 (Glo (None, 100)               0         \n",
      "_________________________________________________________________\n",
      "dense_67 (Dense)             (None, 200)               20200     \n",
      "_________________________________________________________________\n",
      "dropout_79 (Dropout)         (None, 200)               0         \n",
      "_________________________________________________________________\n",
      "activation_23 (Activation)   (None, 200)               0         \n",
      "_________________________________________________________________\n",
      "dense_68 (Dense)             (None, 5)                 1005      \n",
      "_________________________________________________________________\n",
      "activation_24 (Activation)   (None, 5)                 0         \n",
      "=================================================================\n",
      "Total params: 943,805\n",
      "Trainable params: 943,805\n",
      "Non-trainable params: 0\n",
      "_________________________________________________________________\n",
      "None\n",
      "Epoch 1/10\n",
      " - 8s - loss: 0.5122 - acc: 0.7987\n",
      "Epoch 2/10\n",
      " - 1s - loss: 0.4949 - acc: 0.7978\n",
      "Epoch 3/10\n",
      " - 1s - loss: 0.4989 - acc: 0.7996\n",
      "Epoch 4/10\n",
      " - 1s - loss: 0.4925 - acc: 0.7978\n",
      "Epoch 5/10\n",
      " - 1s - loss: 0.4866 - acc: 0.8013\n",
      "Epoch 6/10\n",
      " - 1s - loss: 0.4849 - acc: 0.7982\n",
      "Epoch 7/10\n",
      " - 1s - loss: 0.4853 - acc: 0.8000\n",
      "Epoch 8/10\n",
      " - 1s - loss: 0.4818 - acc: 0.8000\n",
      "Epoch 9/10\n",
      " - 1s - loss: 0.4846 - acc: 0.7991\n",
      "Epoch 10/10\n",
      " - 1s - loss: 0.4832 - acc: 0.8000\n",
      "0.3469387755102041\n"
     ]
    },
    {
     "name": "stdout",
     "output_type": "stream",
     "text": [
      "_________________________________________________________________\n",
      "Layer (type)                 Output Shape              Param #   \n",
      "=================================================================\n",
      "embedding_57 (Embedding)     (None, 24, 300)           742500    \n",
      "_________________________________________________________________\n",
      "lstm_45 (LSTM)               (None, 128)               219648    \n",
      "_________________________________________________________________\n",
      "dense_69 (Dense)             (None, 5)                 645       \n",
      "=================================================================\n",
      "Total params: 962,793\n",
      "Trainable params: 220,293\n",
      "Non-trainable params: 742,500\n",
      "_________________________________________________________________\n",
      "None\n",
      "Epoch 1/20\n",
      " - 7s - loss: 0.4985 - acc: 0.8000\n",
      "Epoch 2/20\n",
      " - 1s - loss: 0.4898 - acc: 0.8004\n",
      "Epoch 3/20\n",
      " - 1s - loss: 0.4920 - acc: 0.7996\n",
      "Epoch 4/20\n",
      " - 1s - loss: 0.4889 - acc: 0.8000\n",
      "Epoch 5/20\n",
      " - 1s - loss: 0.4891 - acc: 0.8000\n",
      "Epoch 6/20\n",
      " - 1s - loss: 0.4847 - acc: 0.7973\n",
      "Epoch 7/20\n",
      " - 1s - loss: 0.4837 - acc: 0.7996\n",
      "Epoch 8/20\n",
      " - 1s - loss: 0.4772 - acc: 0.7973\n",
      "Epoch 9/20\n",
      " - 1s - loss: 0.4724 - acc: 0.8018\n",
      "Epoch 10/20\n",
      " - 1s - loss: 0.4738 - acc: 0.7991\n",
      "Epoch 11/20\n",
      " - 1s - loss: 0.4735 - acc: 0.8000\n",
      "Epoch 12/20\n",
      " - 1s - loss: 0.4775 - acc: 0.7916\n",
      "Epoch 13/20\n",
      " - 1s - loss: 0.4695 - acc: 0.7978\n",
      "Epoch 14/20\n",
      " - 1s - loss: 0.4685 - acc: 0.7956\n",
      "Epoch 15/20\n",
      " - 1s - loss: 0.4810 - acc: 0.7867\n",
      "Epoch 16/20\n",
      " - 1s - loss: 0.4681 - acc: 0.8013\n",
      "Epoch 17/20\n",
      " - 1s - loss: 0.4713 - acc: 0.7947\n",
      "Epoch 18/20\n",
      " - 1s - loss: 0.4622 - acc: 0.7991\n",
      "Epoch 19/20\n",
      " - 1s - loss: 0.4648 - acc: 0.8022\n",
      "Epoch 20/20\n",
      " - 1s - loss: 0.4607 - acc: 0.7951\n",
      "0.3877551020408163\n",
      "_________________________________________________________________\n",
      "Layer (type)                 Output Shape              Param #   \n",
      "=================================================================\n",
      "embedding_58 (Embedding)     (None, 24, 300)           742500    \n",
      "_________________________________________________________________\n",
      "bidirectional_23 (Bidirectio (None, 512)               1140736   \n",
      "_________________________________________________________________\n",
      "dropout_80 (Dropout)         (None, 512)               0         \n",
      "_________________________________________________________________\n",
      "dense_70 (Dense)             (None, 5)                 2565      \n",
      "=================================================================\n",
      "Total params: 1,885,801\n",
      "Trainable params: 1,143,301\n",
      "Non-trainable params: 742,500\n",
      "_________________________________________________________________\n",
      "None\n",
      "Epoch 1/5\n",
      " - 13s - loss: 0.4984 - acc: 0.8000\n",
      "Epoch 2/5\n",
      " - 5s - loss: 0.4893 - acc: 0.8000\n",
      "Epoch 3/5\n",
      " - 5s - loss: 0.4847 - acc: 0.8000\n",
      "Epoch 4/5\n",
      " - 6s - loss: 0.4797 - acc: 0.8000\n",
      "Epoch 5/5\n",
      " - 7s - loss: 0.4706 - acc: 0.8000\n",
      "0.32653061224489793\n",
      "_________________________________________________________________\n",
      "Layer (type)                 Output Shape              Param #   \n",
      "=================================================================\n",
      "embedding_59 (Embedding)     (None, 24, 300)           742500    \n",
      "_________________________________________________________________\n",
      "conv1d_35 (Conv1D)           (None, 24, 100)           30100     \n",
      "_________________________________________________________________\n",
      "dropout_81 (Dropout)         (None, 24, 100)           0         \n",
      "_________________________________________________________________\n",
      "max_pooling1d_23 (MaxPooling (None, 12, 100)           0         \n",
      "_________________________________________________________________\n",
      "lstm_47 (LSTM)               (None, 64)                42240     \n",
      "_________________________________________________________________\n",
      "dropout_82 (Dropout)         (None, 64)                0         \n",
      "_________________________________________________________________\n",
      "dense_71 (Dense)             (None, 5)                 325       \n",
      "=================================================================\n",
      "Total params: 815,165\n",
      "Trainable params: 72,665\n",
      "Non-trainable params: 742,500\n",
      "_________________________________________________________________\n",
      "None\n",
      "Epoch 1/10\n",
      " - 10s - loss: 0.4963 - acc: 0.7996\n",
      "Epoch 2/10\n",
      " - 1s - loss: 0.4885 - acc: 0.8004\n",
      "Epoch 3/10\n",
      " - 1s - loss: 0.4802 - acc: 0.8000\n",
      "Epoch 4/10\n",
      " - 1s - loss: 0.4512 - acc: 0.8031\n",
      "Epoch 5/10\n",
      " - 1s - loss: 0.4216 - acc: 0.8080\n",
      "Epoch 6/10\n",
      " - 1s - loss: 0.3745 - acc: 0.8284\n",
      "Epoch 7/10\n",
      " - 1s - loss: 0.3475 - acc: 0.8537\n",
      "Epoch 8/10\n",
      " - 1s - loss: 0.3246 - acc: 0.8625\n",
      "Epoch 9/10\n",
      " - 1s - loss: 0.2971 - acc: 0.8754\n",
      "Epoch 10/10\n",
      " - 1s - loss: 0.2548 - acc: 0.8953\n",
      "0.3469387755102041\n",
      "_________________________________________________________________\n",
      "Layer (type)                 Output Shape              Param #   \n",
      "=================================================================\n",
      "embedding_60 (Embedding)     (None, 24, 300)           742500    \n",
      "_________________________________________________________________\n",
      "conv1d_36 (Conv1D)           (None, 24, 100)           30100     \n",
      "_________________________________________________________________\n",
      "dropout_83 (Dropout)         (None, 24, 100)           0         \n",
      "_________________________________________________________________\n",
      "max_pooling1d_24 (MaxPooling (None, 12, 100)           0         \n",
      "_________________________________________________________________\n",
      "bidirectional_24 (Bidirectio (None, 128)               84480     \n",
      "_________________________________________________________________\n",
      "dropout_84 (Dropout)         (None, 128)               0         \n",
      "_________________________________________________________________\n",
      "dense_72 (Dense)             (None, 5)                 645       \n",
      "=================================================================\n",
      "Total params: 857,725\n",
      "Trainable params: 115,225\n",
      "Non-trainable params: 742,500\n",
      "_________________________________________________________________\n",
      "None\n",
      "Epoch 1/5\n",
      " - 11s - loss: 0.4927 - acc: 0.8000\n",
      "Epoch 2/5\n",
      " - 1s - loss: 0.4790 - acc: 0.8000\n",
      "Epoch 3/5\n",
      " - 1s - loss: 0.4512 - acc: 0.8022\n",
      "Epoch 4/5\n",
      " - 1s - loss: 0.3995 - acc: 0.8177\n",
      "Epoch 5/5\n",
      " - 1s - loss: 0.3520 - acc: 0.8421\n",
      "0.2653061224489796\n",
      "----------------------itr = 9--------------\n",
      "_________________________________________________________________\n",
      "Layer (type)                 Output Shape              Param #   \n",
      "=================================================================\n",
      "embedding_61 (Embedding)     (None, 24, 300)           723900    \n",
      "_________________________________________________________________\n",
      "dropout_85 (Dropout)         (None, 24, 300)           0         \n",
      "_________________________________________________________________\n",
      "conv1d_37 (Conv1D)           (None, 19, 100)           180100    \n",
      "_________________________________________________________________\n",
      "global_max_pooling1d_13 (Glo (None, 100)               0         \n",
      "_________________________________________________________________\n",
      "dense_73 (Dense)             (None, 200)               20200     \n",
      "_________________________________________________________________\n",
      "dropout_86 (Dropout)         (None, 200)               0         \n",
      "_________________________________________________________________\n",
      "activation_25 (Activation)   (None, 200)               0         \n",
      "_________________________________________________________________\n",
      "dense_74 (Dense)             (None, 5)                 1005      \n",
      "_________________________________________________________________\n",
      "activation_26 (Activation)   (None, 5)                 0         \n",
      "=================================================================\n",
      "Total params: 925,205\n",
      "Trainable params: 925,205\n",
      "Non-trainable params: 0\n",
      "_________________________________________________________________\n",
      "None\n",
      "Epoch 1/10\n",
      " - 8s - loss: 0.5185 - acc: 0.7951\n",
      "Epoch 2/10\n",
      " - 1s - loss: 0.5055 - acc: 0.8000\n",
      "Epoch 3/10\n",
      " - 1s - loss: 0.5003 - acc: 0.7978\n",
      "Epoch 4/10\n",
      " - 1s - loss: 0.4977 - acc: 0.7982\n",
      "Epoch 5/10\n",
      " - 1s - loss: 0.4903 - acc: 0.7991\n",
      "Epoch 6/10\n",
      " - 1s - loss: 0.4915 - acc: 0.7987\n",
      "Epoch 7/10\n",
      " - 1s - loss: 0.4941 - acc: 0.7978\n",
      "Epoch 8/10\n",
      " - 1s - loss: 0.4844 - acc: 0.7987\n",
      "Epoch 9/10\n",
      " - 1s - loss: 0.4865 - acc: 0.8000\n",
      "Epoch 10/10\n",
      " - 1s - loss: 0.4791 - acc: 0.8018\n",
      "0.2857142857142857\n",
      "_________________________________________________________________\n",
      "Layer (type)                 Output Shape              Param #   \n",
      "=================================================================\n",
      "embedding_62 (Embedding)     (None, 24, 300)           723900    \n",
      "_________________________________________________________________\n",
      "lstm_49 (LSTM)               (None, 128)               219648    \n",
      "_________________________________________________________________\n",
      "dense_75 (Dense)             (None, 5)                 645       \n",
      "=================================================================\n",
      "Total params: 944,193\n",
      "Trainable params: 220,293\n",
      "Non-trainable params: 723,900\n",
      "_________________________________________________________________\n",
      "None\n"
     ]
    },
    {
     "name": "stdout",
     "output_type": "stream",
     "text": [
      "Epoch 1/20\n",
      " - 8s - loss: 0.4979 - acc: 0.8000\n",
      "Epoch 2/20\n",
      " - 1s - loss: 0.4893 - acc: 0.8004\n",
      "Epoch 3/20\n",
      " - 1s - loss: 0.4918 - acc: 0.8000\n",
      "Epoch 4/20\n",
      " - 1s - loss: 0.4899 - acc: 0.8009\n",
      "Epoch 5/20\n",
      " - 1s - loss: 0.4897 - acc: 0.7996\n",
      "Epoch 6/20\n",
      " - 1s - loss: 0.4868 - acc: 0.8000\n",
      "Epoch 7/20\n",
      " - 1s - loss: 0.4887 - acc: 0.7996\n",
      "Epoch 8/20\n",
      " - 1s - loss: 0.4887 - acc: 0.8004\n",
      "Epoch 9/20\n",
      " - 1s - loss: 0.4837 - acc: 0.8018\n",
      "Epoch 10/20\n",
      " - 1s - loss: 0.4829 - acc: 0.7965\n",
      "Epoch 11/20\n",
      " - 1s - loss: 0.4872 - acc: 0.7960\n",
      "Epoch 12/20\n",
      " - 1s - loss: 0.4830 - acc: 0.8000\n",
      "Epoch 13/20\n",
      " - 1s - loss: 0.4781 - acc: 0.8022\n",
      "Epoch 14/20\n",
      " - 1s - loss: 0.4739 - acc: 0.7991\n",
      "Epoch 15/20\n",
      " - 1s - loss: 0.4714 - acc: 0.7996\n",
      "Epoch 16/20\n",
      " - 1s - loss: 0.4809 - acc: 0.7925\n",
      "Epoch 17/20\n",
      " - 1s - loss: 0.4805 - acc: 0.7973\n",
      "Epoch 18/20\n",
      " - 1s - loss: 0.4770 - acc: 0.8013\n",
      "Epoch 19/20\n",
      " - 1s - loss: 0.4731 - acc: 0.7960\n",
      "Epoch 20/20\n",
      " - 1s - loss: 0.4639 - acc: 0.8000\n",
      "0.24489795918367346\n",
      "_________________________________________________________________\n",
      "Layer (type)                 Output Shape              Param #   \n",
      "=================================================================\n",
      "embedding_63 (Embedding)     (None, 24, 300)           723900    \n",
      "_________________________________________________________________\n",
      "bidirectional_25 (Bidirectio (None, 512)               1140736   \n",
      "_________________________________________________________________\n",
      "dropout_87 (Dropout)         (None, 512)               0         \n",
      "_________________________________________________________________\n",
      "dense_76 (Dense)             (None, 5)                 2565      \n",
      "=================================================================\n",
      "Total params: 1,867,201\n",
      "Trainable params: 1,143,301\n",
      "Non-trainable params: 723,900\n",
      "_________________________________________________________________\n",
      "None\n",
      "Epoch 1/5\n",
      " - 12s - loss: 0.4979 - acc: 0.8000\n",
      "Epoch 2/5\n",
      " - 5s - loss: 0.4900 - acc: 0.8000\n",
      "Epoch 3/5\n",
      " - 5s - loss: 0.4839 - acc: 0.8000\n",
      "Epoch 4/5\n",
      " - 5s - loss: 0.4780 - acc: 0.8000\n",
      "Epoch 5/5\n",
      " - 5s - loss: 0.4604 - acc: 0.8040\n",
      "0.2857142857142857\n",
      "_________________________________________________________________\n",
      "Layer (type)                 Output Shape              Param #   \n",
      "=================================================================\n",
      "embedding_64 (Embedding)     (None, 24, 300)           723900    \n",
      "_________________________________________________________________\n",
      "conv1d_38 (Conv1D)           (None, 24, 100)           30100     \n",
      "_________________________________________________________________\n",
      "dropout_88 (Dropout)         (None, 24, 100)           0         \n",
      "_________________________________________________________________\n",
      "max_pooling1d_25 (MaxPooling (None, 12, 100)           0         \n",
      "_________________________________________________________________\n",
      "lstm_51 (LSTM)               (None, 64)                42240     \n",
      "_________________________________________________________________\n",
      "dropout_89 (Dropout)         (None, 64)                0         \n",
      "_________________________________________________________________\n",
      "dense_77 (Dense)             (None, 5)                 325       \n",
      "=================================================================\n",
      "Total params: 796,565\n",
      "Trainable params: 72,665\n",
      "Non-trainable params: 723,900\n",
      "_________________________________________________________________\n",
      "None\n",
      "Epoch 1/10\n",
      " - 8s - loss: 0.4951 - acc: 0.7996\n",
      "Epoch 2/10\n",
      " - 1s - loss: 0.4863 - acc: 0.8000\n",
      "Epoch 3/10\n",
      " - 1s - loss: 0.4678 - acc: 0.7987\n",
      "Epoch 4/10\n",
      " - 1s - loss: 0.4361 - acc: 0.8049\n",
      "Epoch 5/10\n",
      " - 1s - loss: 0.4060 - acc: 0.8102\n",
      "Epoch 6/10\n",
      " - 1s - loss: 0.3689 - acc: 0.8226\n",
      "Epoch 7/10\n",
      " - 1s - loss: 0.3524 - acc: 0.8373\n",
      "Epoch 8/10\n",
      " - 1s - loss: 0.3186 - acc: 0.8510\n",
      "Epoch 9/10\n",
      " - 1s - loss: 0.2835 - acc: 0.8745\n",
      "Epoch 10/10\n",
      " - 1s - loss: 0.2784 - acc: 0.8767\n",
      "0.30612244897959184\n",
      "_________________________________________________________________\n",
      "Layer (type)                 Output Shape              Param #   \n",
      "=================================================================\n",
      "embedding_65 (Embedding)     (None, 24, 300)           723900    \n",
      "_________________________________________________________________\n",
      "conv1d_39 (Conv1D)           (None, 24, 100)           30100     \n",
      "_________________________________________________________________\n",
      "dropout_90 (Dropout)         (None, 24, 100)           0         \n",
      "_________________________________________________________________\n",
      "max_pooling1d_26 (MaxPooling (None, 12, 100)           0         \n",
      "_________________________________________________________________\n",
      "bidirectional_26 (Bidirectio (None, 128)               84480     \n",
      "_________________________________________________________________\n",
      "dropout_91 (Dropout)         (None, 128)               0         \n",
      "_________________________________________________________________\n",
      "dense_78 (Dense)             (None, 5)                 645       \n",
      "=================================================================\n",
      "Total params: 839,125\n",
      "Trainable params: 115,225\n",
      "Non-trainable params: 723,900\n",
      "_________________________________________________________________\n",
      "None\n",
      "Epoch 1/5\n",
      " - 9s - loss: 0.4914 - acc: 0.8000\n",
      "Epoch 2/5\n",
      " - 1s - loss: 0.4783 - acc: 0.7978\n",
      "Epoch 3/5\n",
      " - 1s - loss: 0.4415 - acc: 0.8018\n",
      "Epoch 4/5\n",
      " - 1s - loss: 0.4126 - acc: 0.8106\n",
      "Epoch 5/5\n",
      " - 1s - loss: 0.3767 - acc: 0.8266\n",
      "0.40816326530612246\n",
      "----------------------itr = 10--------------\n",
      "_________________________________________________________________\n",
      "Layer (type)                 Output Shape              Param #   \n",
      "=================================================================\n",
      "embedding_66 (Embedding)     (None, 24, 300)           739500    \n",
      "_________________________________________________________________\n",
      "dropout_92 (Dropout)         (None, 24, 300)           0         \n",
      "_________________________________________________________________\n",
      "conv1d_40 (Conv1D)           (None, 19, 100)           180100    \n",
      "_________________________________________________________________\n",
      "global_max_pooling1d_14 (Glo (None, 100)               0         \n",
      "_________________________________________________________________\n",
      "dense_79 (Dense)             (None, 200)               20200     \n",
      "_________________________________________________________________\n",
      "dropout_93 (Dropout)         (None, 200)               0         \n",
      "_________________________________________________________________\n",
      "activation_27 (Activation)   (None, 200)               0         \n",
      "_________________________________________________________________\n",
      "dense_80 (Dense)             (None, 5)                 1005      \n",
      "_________________________________________________________________\n",
      "activation_28 (Activation)   (None, 5)                 0         \n",
      "=================================================================\n",
      "Total params: 940,805\n",
      "Trainable params: 940,805\n",
      "Non-trainable params: 0\n",
      "_________________________________________________________________\n",
      "None\n",
      "Epoch 1/10\n",
      " - 9s - loss: 0.5075 - acc: 0.7996\n",
      "Epoch 2/10\n",
      " - 1s - loss: 0.5010 - acc: 0.7965\n",
      "Epoch 3/10\n",
      " - 1s - loss: 0.5007 - acc: 0.7965\n",
      "Epoch 4/10\n",
      " - 1s - loss: 0.4951 - acc: 0.8004\n",
      "Epoch 5/10\n",
      " - 1s - loss: 0.4918 - acc: 0.7996\n",
      "Epoch 6/10\n",
      " - 1s - loss: 0.4886 - acc: 0.8000\n",
      "Epoch 7/10\n",
      " - 1s - loss: 0.4850 - acc: 0.7973\n",
      "Epoch 8/10\n",
      " - 1s - loss: 0.4891 - acc: 0.8000\n",
      "Epoch 9/10\n",
      " - 1s - loss: 0.4788 - acc: 0.8004\n",
      "Epoch 10/10\n",
      " - 1s - loss: 0.4803 - acc: 0.8009\n",
      "0.25\n",
      "_________________________________________________________________\n",
      "Layer (type)                 Output Shape              Param #   \n",
      "=================================================================\n",
      "embedding_67 (Embedding)     (None, 24, 300)           739500    \n",
      "_________________________________________________________________\n",
      "lstm_53 (LSTM)               (None, 128)               219648    \n",
      "_________________________________________________________________\n",
      "dense_81 (Dense)             (None, 5)                 645       \n",
      "=================================================================\n",
      "Total params: 959,793\n",
      "Trainable params: 220,293\n",
      "Non-trainable params: 739,500\n",
      "_________________________________________________________________\n",
      "None\n",
      "Epoch 1/20\n",
      " - 9s - loss: 0.4965 - acc: 0.8000\n",
      "Epoch 2/20\n",
      " - 1s - loss: 0.4902 - acc: 0.8004\n"
     ]
    },
    {
     "name": "stdout",
     "output_type": "stream",
     "text": [
      "Epoch 3/20\n",
      " - 1s - loss: 0.4873 - acc: 0.7991\n",
      "Epoch 4/20\n",
      " - 1s - loss: 0.4898 - acc: 0.7996\n",
      "Epoch 5/20\n",
      " - 1s - loss: 0.4856 - acc: 0.8009\n",
      "Epoch 6/20\n",
      " - 1s - loss: 0.4915 - acc: 0.8004\n",
      "Epoch 7/20\n",
      " - 1s - loss: 0.4864 - acc: 0.8000\n",
      "Epoch 8/20\n",
      " - 1s - loss: 0.4800 - acc: 0.8013\n",
      "Epoch 9/20\n",
      " - 1s - loss: 0.4794 - acc: 0.7973\n",
      "Epoch 10/20\n",
      " - 1s - loss: 0.4763 - acc: 0.7973\n",
      "Epoch 11/20\n",
      " - 1s - loss: 0.4790 - acc: 0.8000\n",
      "Epoch 12/20\n",
      " - 1s - loss: 0.4736 - acc: 0.7956\n",
      "Epoch 13/20\n",
      " - 1s - loss: 0.4700 - acc: 0.7982\n",
      "Epoch 14/20\n",
      " - 1s - loss: 0.4743 - acc: 0.7978\n",
      "Epoch 15/20\n",
      " - 1s - loss: 0.4760 - acc: 0.7942\n",
      "Epoch 16/20\n",
      " - 1s - loss: 0.4725 - acc: 0.7987\n",
      "Epoch 17/20\n",
      " - 1s - loss: 0.4791 - acc: 0.7885\n",
      "Epoch 18/20\n",
      " - 1s - loss: 0.4770 - acc: 0.7960\n",
      "Epoch 19/20\n",
      " - 1s - loss: 0.4732 - acc: 0.8000\n",
      "Epoch 20/20\n",
      " - 1s - loss: 0.4757 - acc: 0.7991\n",
      "0.3125\n",
      "_________________________________________________________________\n",
      "Layer (type)                 Output Shape              Param #   \n",
      "=================================================================\n",
      "embedding_68 (Embedding)     (None, 24, 300)           739500    \n",
      "_________________________________________________________________\n",
      "bidirectional_27 (Bidirectio (None, 512)               1140736   \n",
      "_________________________________________________________________\n",
      "dropout_94 (Dropout)         (None, 512)               0         \n",
      "_________________________________________________________________\n",
      "dense_82 (Dense)             (None, 5)                 2565      \n",
      "=================================================================\n",
      "Total params: 1,882,801\n",
      "Trainable params: 1,143,301\n",
      "Non-trainable params: 739,500\n",
      "_________________________________________________________________\n",
      "None\n",
      "Epoch 1/5\n",
      " - 13s - loss: 0.4983 - acc: 0.8000\n",
      "Epoch 2/5\n",
      " - 5s - loss: 0.4889 - acc: 0.8000\n",
      "Epoch 3/5\n",
      " - 5s - loss: 0.4839 - acc: 0.8000\n",
      "Epoch 4/5\n",
      " - 5s - loss: 0.4814 - acc: 0.8004\n",
      "Epoch 5/5\n",
      " - 5s - loss: 0.4746 - acc: 0.8004\n",
      "0.3333333333333333\n",
      "_________________________________________________________________\n",
      "Layer (type)                 Output Shape              Param #   \n",
      "=================================================================\n",
      "embedding_69 (Embedding)     (None, 24, 300)           739500    \n",
      "_________________________________________________________________\n",
      "conv1d_41 (Conv1D)           (None, 24, 100)           30100     \n",
      "_________________________________________________________________\n",
      "dropout_95 (Dropout)         (None, 24, 100)           0         \n",
      "_________________________________________________________________\n",
      "max_pooling1d_27 (MaxPooling (None, 12, 100)           0         \n",
      "_________________________________________________________________\n",
      "lstm_55 (LSTM)               (None, 64)                42240     \n",
      "_________________________________________________________________\n",
      "dropout_96 (Dropout)         (None, 64)                0         \n",
      "_________________________________________________________________\n",
      "dense_83 (Dense)             (None, 5)                 325       \n",
      "=================================================================\n",
      "Total params: 812,165\n",
      "Trainable params: 72,665\n",
      "Non-trainable params: 739,500\n",
      "_________________________________________________________________\n",
      "None\n",
      "Epoch 1/10\n",
      " - 9s - loss: 0.4959 - acc: 0.8000\n",
      "Epoch 2/10\n",
      " - 1s - loss: 0.4888 - acc: 0.8000\n",
      "Epoch 3/10\n",
      " - 1s - loss: 0.4777 - acc: 0.7991\n",
      "Epoch 4/10\n",
      " - 1s - loss: 0.4451 - acc: 0.8000\n",
      "Epoch 5/10\n",
      " - 1s - loss: 0.4157 - acc: 0.8181\n",
      "Epoch 6/10\n",
      " - 1s - loss: 0.3903 - acc: 0.8150\n",
      "Epoch 7/10\n",
      " - 1s - loss: 0.3852 - acc: 0.8274\n",
      "Epoch 8/10\n",
      " - 1s - loss: 0.3406 - acc: 0.8513\n",
      "Epoch 9/10\n",
      " - 1s - loss: 0.3006 - acc: 0.8681\n",
      "Epoch 10/10\n",
      " - 1s - loss: 0.2954 - acc: 0.8686\n",
      "0.2708333333333333\n",
      "_________________________________________________________________\n",
      "Layer (type)                 Output Shape              Param #   \n",
      "=================================================================\n",
      "embedding_70 (Embedding)     (None, 24, 300)           739500    \n",
      "_________________________________________________________________\n",
      "conv1d_42 (Conv1D)           (None, 24, 100)           30100     \n",
      "_________________________________________________________________\n",
      "dropout_97 (Dropout)         (None, 24, 100)           0         \n",
      "_________________________________________________________________\n",
      "max_pooling1d_28 (MaxPooling (None, 12, 100)           0         \n",
      "_________________________________________________________________\n",
      "bidirectional_28 (Bidirectio (None, 128)               84480     \n",
      "_________________________________________________________________\n",
      "dropout_98 (Dropout)         (None, 128)               0         \n",
      "_________________________________________________________________\n",
      "dense_84 (Dense)             (None, 5)                 645       \n",
      "=================================================================\n",
      "Total params: 854,725\n",
      "Trainable params: 115,225\n",
      "Non-trainable params: 739,500\n",
      "_________________________________________________________________\n",
      "None\n",
      "Epoch 1/5\n",
      " - 10s - loss: 0.4949 - acc: 0.7991\n",
      "Epoch 2/5\n",
      " - 1s - loss: 0.4733 - acc: 0.8000\n",
      "Epoch 3/5\n",
      " - 1s - loss: 0.4496 - acc: 0.8009\n",
      "Epoch 4/5\n",
      " - 1s - loss: 0.4061 - acc: 0.8159\n",
      "Epoch 5/5\n",
      " - 1s - loss: 0.3790 - acc: 0.8252\n",
      "0.3541666666666667\n"
     ]
    }
   ],
   "source": [
    "for train,test in kfold.split(trainX,trainY):\n",
    "    print(\"----------------------itr = {}--------------\".format(count))\n",
    "    stacked_trainX = list(trainX[train])\n",
    "    stacked_trainY = list(trainY[train])\n",
    "    stacked_testX = list(trainX[test])\n",
    "    stacked_testY = list(trainY[test])\n",
    "    \n",
    "    tokenizer = create_tokenizer(stacked_trainX)\n",
    "    vocab_size = len(tokenizer.word_index) + 1\n",
    "    stacked_trainX = encode_text(tokenizer, stacked_trainX, max_len)\n",
    "    stacked_testX = encode_text(tokenizer, stacked_testX, max_len)\n",
    "    stacked_trainY = to_categorical(stacked_trainY,num_classes=number_of_classes)\n",
    "    \n",
    "    embedding_matrix_word2vec = get_word_embedding_matrix(word2vec_model,300)\n",
    "    \n",
    "    for i in stacked_testY:\n",
    "        stacked_metaY.append(i)\n",
    "        \n",
    "    temp = np.zeros((len(stacked_testY),5),dtype=np.int64)\n",
    "    \n",
    "    _,temp[:,0],_ = get_pred_of_model(init_cnn(),cnn_parameter['epoch'],cnn_parameter['batch'],stacked_trainX,stacked_trainY,stacked_testX,stacked_testY)\n",
    "    _,temp[:,1],_ = get_pred_of_model(init_lstm(),lstm_parameter['epoch'],lstm_parameter['batch'],stacked_trainX,stacked_trainY,stacked_testX,stacked_testY)\n",
    "    _,temp[:,2],_ = get_pred_of_model(init_bi_lstm(),bi_lstm_parameter['epoch'],bi_lstm_parameter['batch'],stacked_trainX,stacked_trainY,stacked_testX,stacked_testY)\n",
    "    _,temp[:,3],_ = get_pred_of_model(init_cnn_lstm(),cnn_lstm_parameter['epoch'],cnn_lstm_parameter['batch'],stacked_trainX,stacked_trainY,stacked_testX,stacked_testY)\n",
    "    _,temp[:,4],_ = get_pred_of_model(init_cnn_bi_lstm(),cnn_bi_lstm_parameter['epoch'],cnn_bi_lstm_parameter['batch'],stacked_trainX,stacked_trainY,stacked_testX,stacked_testY)\n",
    "    \n",
    "    stacked_metaX = np.concatenate((stacked_metaX, temp), axis=0)\n",
    "    count+=1"
   ]
  },
  {
   "cell_type": "code",
   "execution_count": 184,
   "metadata": {},
   "outputs": [
    {
     "data": {
      "text/plain": [
       "(501, 500)"
      ]
     },
     "execution_count": 184,
     "metadata": {},
     "output_type": "execute_result"
    }
   ],
   "source": [
    "len(stacked_metaX),len(stacked_metaY)"
   ]
  },
  {
   "cell_type": "code",
   "execution_count": 185,
   "metadata": {
    "collapsed": true
   },
   "outputs": [],
   "source": [
    "stacked_metaX = np.delete(stacked_metaX, (0), axis=0)"
   ]
  },
  {
   "cell_type": "code",
   "execution_count": 186,
   "metadata": {
    "collapsed": true
   },
   "outputs": [],
   "source": [
    "#temp line\n",
    "# stacked_metaY=stacked_metaY[-500:]"
   ]
  },
  {
   "cell_type": "code",
   "execution_count": 187,
   "metadata": {},
   "outputs": [
    {
     "data": {
      "text/plain": [
       "(500, 500)"
      ]
     },
     "execution_count": 187,
     "metadata": {},
     "output_type": "execute_result"
    }
   ],
   "source": [
    "len(stacked_metaX),len(stacked_metaY)"
   ]
  },
  {
   "cell_type": "code",
   "execution_count": 188,
   "metadata": {
    "collapsed": true
   },
   "outputs": [],
   "source": [
    "stacked_meta_model=LogisticRegression()"
   ]
  },
  {
   "cell_type": "code",
   "execution_count": 189,
   "metadata": {},
   "outputs": [
    {
     "data": {
      "text/plain": [
       "LogisticRegression(C=1.0, class_weight=None, dual=False, fit_intercept=True,\n",
       "          intercept_scaling=1, max_iter=100, multi_class='ovr', n_jobs=1,\n",
       "          penalty='l2', random_state=None, solver='liblinear', tol=0.0001,\n",
       "          verbose=0, warm_start=False)"
      ]
     },
     "execution_count": 189,
     "metadata": {},
     "output_type": "execute_result"
    }
   ],
   "source": [
    "stacked_meta_model.fit(stacked_metaX,stacked_metaY)"
   ]
  },
  {
   "cell_type": "code",
   "execution_count": 190,
   "metadata": {
    "collapsed": true
   },
   "outputs": [],
   "source": [
    "stacked_pred_class = stacked_meta_model.predict(pred_class_base)"
   ]
  },
  {
   "cell_type": "code",
   "execution_count": 191,
   "metadata": {},
   "outputs": [
    {
     "data": {
      "text/plain": [
       "0.36"
      ]
     },
     "execution_count": 191,
     "metadata": {},
     "output_type": "execute_result"
    }
   ],
   "source": [
    "acc = accuracy_score(testY,stacked_pred_class)\n",
    "acc"
   ]
  },
  {
   "cell_type": "code",
   "execution_count": 192,
   "metadata": {
    "collapsed": true
   },
   "outputs": [],
   "source": [
    "acc_results['stacked'] = acc"
   ]
  },
  {
   "cell_type": "code",
   "execution_count": 193,
   "metadata": {},
   "outputs": [
    {
     "data": {
      "text/plain": [
       "{'average': 0.36,\n",
       " 'base_model_counts': {'correct_predicted_by_all': 2,\n",
       "  'correct_predicted_by_some': [25, 21, 15, 8],\n",
       "  'incorrect_predicted_by_all': 29},\n",
       " 'bi_lstm': 0.33,\n",
       " 'blend': 0.34,\n",
       " 'blend_xg': 0.32,\n",
       " 'cnn': 0.26,\n",
       " 'cnn_bi_lstm': 0.34,\n",
       " 'cnn_lstm': 0.29,\n",
       " 'lstm': 0.32,\n",
       " 'majority': 0.36,\n",
       " 'stacked': 0.36}"
      ]
     },
     "execution_count": 193,
     "metadata": {},
     "output_type": "execute_result"
    }
   ],
   "source": [
    "acc_results"
   ]
  },
  {
   "cell_type": "code",
   "execution_count": 194,
   "metadata": {
    "collapsed": true
   },
   "outputs": [],
   "source": [
    "pred_df['stacked']=stacked_pred_class"
   ]
  },
  {
   "cell_type": "markdown",
   "metadata": {},
   "source": [
    "xgboost meta model"
   ]
  },
  {
   "cell_type": "code",
   "execution_count": 197,
   "metadata": {
    "collapsed": true
   },
   "outputs": [],
   "source": [
    "# stacked_metaX\n",
    "# stacked_metaY"
   ]
  },
  {
   "cell_type": "code",
   "execution_count": 198,
   "metadata": {},
   "outputs": [
    {
     "name": "stdout",
     "output_type": "stream",
     "text": [
      "[0]\ttrain-merror:0.613086+0.017723\ttest-merror:0.698007+0.0314241\n",
      "[1]\ttrain-merror:0.592019+0.0121506\ttest-merror:0.694171+0.0183332\n",
      "[2]\ttrain-merror:0.588033+0.00738515\ttest-merror:0.694218+0.0319842\n",
      "[3]\ttrain-merror:0.575017+0.0107114\ttest-merror:0.680137+0.0196248\n",
      "[4]\ttrain-merror:0.575023+0.014948\ttest-merror:0.678129+0.0171487\n",
      "[5]\ttrain-merror:0.572047+0.0158691\ttest-merror:0.680197+0.0209734\n",
      "[6]\ttrain-merror:0.562049+0.0171796\ttest-merror:0.688194+0.0245953\n",
      "[7]\ttrain-merror:0.553003+0.0145856\ttest-merror:0.680197+0.0209734\n",
      "[8]\ttrain-merror:0.557023+0.0149199\ttest-merror:0.686258+0.0253611\n",
      "[9]\ttrain-merror:0.552033+0.0137828\ttest-merror:0.682218+0.0221659\n",
      "[10]\ttrain-merror:0.554053+0.0198694\ttest-merror:0.688277+0.0323999\n",
      "[11]\ttrain-merror:0.546081+0.0184426\ttest-merror:0.686317+0.0338945\n",
      "[12]\ttrain-merror:0.548083+0.0195143\ttest-merror:0.690214+0.0249812\n",
      "[13]\ttrain-merror:0.550064+0.0167712\ttest-merror:0.688158+0.0197414\n",
      "[14]\ttrain-merror:0.550043+0.0131644\ttest-merror:0.684153+0.024812\n",
      "[15]\ttrain-merror:0.549051+0.0120124\ttest-merror:0.682097+0.0207326\n",
      "[16]\ttrain-merror:0.546072+0.0160557\ttest-merror:0.69423+0.0295029\n",
      "[17]\ttrain-merror:0.552063+0.0137205\ttest-merror:0.692138+0.0197082\n",
      "[18]\ttrain-merror:0.54008+0.0184165\ttest-merror:0.686221+0.027139\n",
      "[19]\ttrain-merror:0.54008+0.0184165\ttest-merror:0.69013+0.0172385\n",
      "[20]\ttrain-merror:0.539082+0.0194763\ttest-merror:0.696119+0.020074\n",
      "[21]\ttrain-merror:0.534062+0.0136381\ttest-merror:0.686054+0.0133806\n",
      "[22]\ttrain-merror:0.533064+0.0146337\ttest-merror:0.696083+0.0153016\n",
      "[23]\ttrain-merror:0.53206+0.0127072\ttest-merror:0.690095+0.0123682\n",
      "[24]\ttrain-merror:0.526075+0.018095\ttest-merror:0.69209+0.0180165\n",
      "[25]\ttrain-merror:0.525071+0.0159619\ttest-merror:0.696119+0.020074\n",
      "[26]\ttrain-merror:0.522077+0.0153781\ttest-merror:0.69013+0.0172385\n",
      "[27]\ttrain-merror:0.521079+0.0160823\ttest-merror:0.696119+0.020074\n",
      "[28]\ttrain-merror:0.520081+0.0168753\ttest-merror:0.692162+0.027514\n",
      "[29]\ttrain-merror:0.52407+0.0139703\ttest-merror:0.686138+0.0196665\n",
      "[30]\ttrain-merror:0.52107+0.0139548\ttest-merror:0.686173+0.0245381\n",
      "[31]\ttrain-merror:0.519056+0.0111101\ttest-merror:0.688182+0.0270827\n",
      "[32]\ttrain-merror:0.517063+0.0125173\ttest-merror:0.684189+0.0296426\n",
      "[33]\ttrain-merror:0.516056+0.0110951\ttest-merror:0.682217+0.0319038\n",
      "[34]\ttrain-merror:0.51406+0.0126217\ttest-merror:0.686197+0.0322828\n",
      "[35]\ttrain-merror:0.515064+0.0145544\ttest-merror:0.692186+0.0356399\n",
      "[36]\ttrain-merror:0.514057+0.0131994\ttest-merror:0.688217+0.0319438\n",
      "[37]\ttrain-merror:0.515064+0.0145544\ttest-merror:0.694182+0.0271225\n",
      "[38]\ttrain-merror:0.514066+0.015617\ttest-merror:0.696274+0.0367767\n",
      "[39]\ttrain-merror:0.512064+0.0145413\ttest-merror:0.698246+0.0343696\n",
      "[40]\ttrain-merror:0.512064+0.0145413\ttest-merror:0.694266+0.0343673\n",
      "[41]\ttrain-merror:0.512076+0.0163159\ttest-merror:0.692222+0.027188\n",
      "[42]\ttrain-merror:0.510065+0.013192\ttest-merror:0.694195+0.0246426\n",
      "[43]\ttrain-merror:0.512067+0.0140181\ttest-merror:0.696167+0.022156\n",
      "[44]\ttrain-merror:0.51106+0.0126076\ttest-merror:0.702084+0.015334\n",
      "[45]\ttrain-merror:0.510053+0.0112004\ttest-merror:0.700112+0.0174594\n",
      "[46]\ttrain-merror:0.51106+0.0126076\ttest-merror:0.700112+0.0174594\n",
      "[47]\ttrain-merror:0.51106+0.0126076\ttest-merror:0.702132+0.0173291\n",
      "[48]\ttrain-merror:0.512067+0.0140181\ttest-merror:0.696215+0.0250326\n",
      "[49]\ttrain-merror:0.510053+0.0112004\ttest-merror:0.702132+0.0173291\n",
      "[50]\ttrain-merror:0.508038+0.00840277\ttest-merror:0.694242+0.0276862\n",
      "[51]\ttrain-merror:0.508038+0.00840277\ttest-merror:0.696215+0.0250326\n",
      "[52]\ttrain-merror:0.509046+0.00979814\ttest-merror:0.696215+0.0250326\n",
      "[53]\ttrain-merror:0.508051+0.0103476\ttest-merror:0.70218+0.0203292\n",
      "Fitting 10 folds for each of 20 candidates, totalling 200 fits\n",
      "[CV] colsample_bytree=0.5749080237694725, gamma=0.8556428757689246, max_depth=9, min_child_weight=5, reg_alpha=1.1707668736166799, reg_lambda=1.1706847847459028, subsample=0.5116167224336399 \n",
      "[CV] colsample_bytree=0.5749080237694725, gamma=0.8556428757689246, max_depth=9, min_child_weight=5, reg_alpha=1.1707668736166799, reg_lambda=1.1706847847459028, subsample=0.5116167224336399 \n",
      "[CV] colsample_bytree=0.5749080237694725, gamma=0.8556428757689246, max_depth=9, min_child_weight=5, reg_alpha=1.1707668736166799, reg_lambda=1.1706847847459028, subsample=0.5116167224336399 \n",
      "[CV] colsample_bytree=0.5749080237694725, gamma=0.8556428757689246, max_depth=9, min_child_weight=5, reg_alpha=1.1707668736166799, reg_lambda=1.1706847847459028, subsample=0.5116167224336399 \n"
     ]
    },
    {
     "name": "stderr",
     "output_type": "stream",
     "text": [
      "/home/hitkul/anaconda3/envs/ps3/lib/python3.6/site-packages/sklearn/preprocessing/label.py:151: DeprecationWarning: The truth value of an empty array is ambiguous. Returning False, but in future this will result in an error. Use `array.size > 0` to check that an array is not empty.\n",
      "  if diff:\n",
      "/home/hitkul/anaconda3/envs/ps3/lib/python3.6/site-packages/sklearn/preprocessing/label.py:151: DeprecationWarning: The truth value of an empty array is ambiguous. Returning False, but in future this will result in an error. Use `array.size > 0` to check that an array is not empty.\n",
      "  if diff:\n",
      "/home/hitkul/anaconda3/envs/ps3/lib/python3.6/site-packages/sklearn/preprocessing/label.py:151: DeprecationWarning: The truth value of an empty array is ambiguous. Returning False, but in future this will result in an error. Use `array.size > 0` to check that an array is not empty.\n",
      "  if diff:\n"
     ]
    },
    {
     "name": "stdout",
     "output_type": "stream",
     "text": [
      "[CV]  colsample_bytree=0.5749080237694725, gamma=0.8556428757689246, max_depth=9, min_child_weight=5, reg_alpha=1.1707668736166799, reg_lambda=1.1706847847459028, subsample=0.5116167224336399, score=0.38, total=   0.0s\n"
     ]
    },
    {
     "name": "stderr",
     "output_type": "stream",
     "text": [
      "/home/hitkul/anaconda3/envs/ps3/lib/python3.6/site-packages/sklearn/preprocessing/label.py:151: DeprecationWarning: The truth value of an empty array is ambiguous. Returning False, but in future this will result in an error. Use `array.size > 0` to check that an array is not empty.\n",
      "  if diff:\n",
      "/home/hitkul/anaconda3/envs/ps3/lib/python3.6/site-packages/sklearn/preprocessing/label.py:151: DeprecationWarning: The truth value of an empty array is ambiguous. Returning False, but in future this will result in an error. Use `array.size > 0` to check that an array is not empty.\n",
      "  if diff:\n"
     ]
    },
    {
     "name": "stdout",
     "output_type": "stream",
     "text": [
      "[CV] colsample_bytree=0.5749080237694725, gamma=0.8556428757689246, max_depth=9, min_child_weight=5, reg_alpha=1.1707668736166799, reg_lambda=1.1706847847459028, subsample=0.5116167224336399 \n"
     ]
    },
    {
     "name": "stderr",
     "output_type": "stream",
     "text": [
      "/home/hitkul/anaconda3/envs/ps3/lib/python3.6/site-packages/sklearn/preprocessing/label.py:151: DeprecationWarning: The truth value of an empty array is ambiguous. Returning False, but in future this will result in an error. Use `array.size > 0` to check that an array is not empty.\n",
      "  if diff:\n"
     ]
    },
    {
     "name": "stdout",
     "output_type": "stream",
     "text": [
      "[CV] colsample_bytree=0.5749080237694725, gamma=0.8556428757689246, max_depth=9, min_child_weight=5, reg_alpha=1.1707668736166799, reg_lambda=1.1706847847459028, subsample=0.5116167224336399 \n"
     ]
    },
    {
     "name": "stderr",
     "output_type": "stream",
     "text": [
      "/home/hitkul/anaconda3/envs/ps3/lib/python3.6/site-packages/sklearn/preprocessing/label.py:151: DeprecationWarning: The truth value of an empty array is ambiguous. Returning False, but in future this will result in an error. Use `array.size > 0` to check that an array is not empty.\n",
      "  if diff:\n"
     ]
    },
    {
     "name": "stdout",
     "output_type": "stream",
     "text": [
      "[CV]  colsample_bytree=0.5749080237694725, gamma=0.8556428757689246, max_depth=9, min_child_weight=5, reg_alpha=1.1707668736166799, reg_lambda=1.1706847847459028, subsample=0.5116167224336399, score=0.37735849056603776, total=   0.0s\n",
      "[CV]  colsample_bytree=0.5749080237694725, gamma=0.8556428757689246, max_depth=9, min_child_weight=5, reg_alpha=1.1707668736166799, reg_lambda=1.1706847847459028, subsample=0.5116167224336399, score=0.28846153846153844, total=   0.0s\n"
     ]
    },
    {
     "name": "stderr",
     "output_type": "stream",
     "text": [
      "/home/hitkul/anaconda3/envs/ps3/lib/python3.6/site-packages/sklearn/preprocessing/label.py:151: DeprecationWarning: The truth value of an empty array is ambiguous. Returning False, but in future this will result in an error. Use `array.size > 0` to check that an array is not empty.\n",
      "  if diff:\n",
      "/home/hitkul/anaconda3/envs/ps3/lib/python3.6/site-packages/sklearn/preprocessing/label.py:151: DeprecationWarning: The truth value of an empty array is ambiguous. Returning False, but in future this will result in an error. Use `array.size > 0` to check that an array is not empty.\n",
      "  if diff:\n"
     ]
    },
    {
     "name": "stdout",
     "output_type": "stream",
     "text": [
      "[CV] colsample_bytree=0.5749080237694725, gamma=0.8556428757689246, max_depth=9, min_child_weight=5, reg_alpha=1.1707668736166799, reg_lambda=1.1706847847459028, subsample=0.5116167224336399 \n"
     ]
    },
    {
     "name": "stderr",
     "output_type": "stream",
     "text": [
      "/home/hitkul/anaconda3/envs/ps3/lib/python3.6/site-packages/sklearn/preprocessing/label.py:151: DeprecationWarning: The truth value of an empty array is ambiguous. Returning False, but in future this will result in an error. Use `array.size > 0` to check that an array is not empty.\n",
      "  if diff:\n",
      "/home/hitkul/anaconda3/envs/ps3/lib/python3.6/site-packages/sklearn/preprocessing/label.py:151: DeprecationWarning: The truth value of an empty array is ambiguous. Returning False, but in future this will result in an error. Use `array.size > 0` to check that an array is not empty.\n",
      "  if diff:\n",
      "/home/hitkul/anaconda3/envs/ps3/lib/python3.6/site-packages/sklearn/preprocessing/label.py:151: DeprecationWarning: The truth value of an empty array is ambiguous. Returning False, but in future this will result in an error. Use `array.size > 0` to check that an array is not empty.\n",
      "  if diff:\n"
     ]
    },
    {
     "name": "stdout",
     "output_type": "stream",
     "text": [
      "[CV]  colsample_bytree=0.5749080237694725, gamma=0.8556428757689246, max_depth=9, min_child_weight=5, reg_alpha=1.1707668736166799, reg_lambda=1.1706847847459028, subsample=0.5116167224336399, score=0.30612244897959184, total=   0.0s\n"
     ]
    },
    {
     "name": "stderr",
     "output_type": "stream",
     "text": [
      "/home/hitkul/anaconda3/envs/ps3/lib/python3.6/site-packages/sklearn/preprocessing/label.py:151: DeprecationWarning: The truth value of an empty array is ambiguous. Returning False, but in future this will result in an error. Use `array.size > 0` to check that an array is not empty.\n",
      "  if diff:\n"
     ]
    },
    {
     "name": "stdout",
     "output_type": "stream",
     "text": [
      "[CV]  colsample_bytree=0.5749080237694725, gamma=0.8556428757689246, max_depth=9, min_child_weight=5, reg_alpha=1.1707668736166799, reg_lambda=1.1706847847459028, subsample=0.5116167224336399, score=0.40384615384615385, total=   0.0s\n",
      "[CV] colsample_bytree=0.5749080237694725, gamma=0.8556428757689246, max_depth=9, min_child_weight=5, reg_alpha=1.1707668736166799, reg_lambda=1.1706847847459028, subsample=0.5116167224336399 \n"
     ]
    },
    {
     "name": "stderr",
     "output_type": "stream",
     "text": [
      "/home/hitkul/anaconda3/envs/ps3/lib/python3.6/site-packages/sklearn/preprocessing/label.py:151: DeprecationWarning: The truth value of an empty array is ambiguous. Returning False, but in future this will result in an error. Use `array.size > 0` to check that an array is not empty.\n",
      "  if diff:\n"
     ]
    },
    {
     "name": "stdout",
     "output_type": "stream",
     "text": [
      "[CV]  colsample_bytree=0.5749080237694725, gamma=0.8556428757689246, max_depth=9, min_child_weight=5, reg_alpha=1.1707668736166799, reg_lambda=1.1706847847459028, subsample=0.5116167224336399, score=0.30612244897959184, total=   0.0s\n",
      "[CV]  colsample_bytree=0.5749080237694725, gamma=0.8556428757689246, max_depth=9, min_child_weight=5, reg_alpha=1.1707668736166799, reg_lambda=1.1706847847459028, subsample=0.5116167224336399, score=0.3673469387755102, total=   0.0s\n"
     ]
    },
    {
     "name": "stderr",
     "output_type": "stream",
     "text": [
      "/home/hitkul/anaconda3/envs/ps3/lib/python3.6/site-packages/sklearn/preprocessing/label.py:151: DeprecationWarning: The truth value of an empty array is ambiguous. Returning False, but in future this will result in an error. Use `array.size > 0` to check that an array is not empty.\n",
      "  if diff:\n",
      "/home/hitkul/anaconda3/envs/ps3/lib/python3.6/site-packages/sklearn/preprocessing/label.py:151: DeprecationWarning: The truth value of an empty array is ambiguous. Returning False, but in future this will result in an error. Use `array.size > 0` to check that an array is not empty.\n",
      "  if diff:\n"
     ]
    },
    {
     "name": "stdout",
     "output_type": "stream",
     "text": [
      "[CV] colsample_bytree=0.673235229154987, gamma=0.541003510568888, max_depth=9, min_child_weight=3, reg_alpha=2.3473719296747606, reg_lambda=2.712800217929823, subsample=0.5363649934414201 \n",
      "[CV] colsample_bytree=0.5749080237694725, gamma=0.8556428757689246, max_depth=9, min_child_weight=5, reg_alpha=1.1707668736166799, reg_lambda=1.1706847847459028, subsample=0.5116167224336399 \n",
      "[CV]  colsample_bytree=0.5749080237694725, gamma=0.8556428757689246, max_depth=9, min_child_weight=5, reg_alpha=1.1707668736166799, reg_lambda=1.1706847847459028, subsample=0.5116167224336399, score=0.3469387755102041, total=   0.0s\n",
      "[CV] colsample_bytree=0.5366809019706867, gamma=0.27381801866358396, max_depth=7, min_child_weight=9, reg_alpha=4.082225404756636, reg_lambda=7.619379988079304, subsample=0.5278987721304084 \n"
     ]
    },
    {
     "name": "stderr",
     "output_type": "stream",
     "text": [
      "/home/hitkul/anaconda3/envs/ps3/lib/python3.6/site-packages/sklearn/preprocessing/label.py:151: DeprecationWarning: The truth value of an empty array is ambiguous. Returning False, but in future this will result in an error. Use `array.size > 0` to check that an array is not empty.\n",
      "  if diff:\n",
      "/home/hitkul/anaconda3/envs/ps3/lib/python3.6/site-packages/sklearn/preprocessing/label.py:151: DeprecationWarning: The truth value of an empty array is ambiguous. Returning False, but in future this will result in an error. Use `array.size > 0` to check that an array is not empty.\n",
      "  if diff:\n"
     ]
    },
    {
     "name": "stdout",
     "output_type": "stream",
     "text": [
      "[CV] colsample_bytree=0.5749080237694725, gamma=0.8556428757689246, max_depth=9, min_child_weight=5, reg_alpha=1.1707668736166799, reg_lambda=1.1706847847459028, subsample=0.5116167224336399 \n"
     ]
    },
    {
     "name": "stderr",
     "output_type": "stream",
     "text": [
      "/home/hitkul/anaconda3/envs/ps3/lib/python3.6/site-packages/sklearn/preprocessing/label.py:151: DeprecationWarning: The truth value of an empty array is ambiguous. Returning False, but in future this will result in an error. Use `array.size > 0` to check that an array is not empty.\n",
      "  if diff:\n"
     ]
    },
    {
     "name": "stdout",
     "output_type": "stream",
     "text": [
      "[CV] colsample_bytree=0.5366809019706867, gamma=0.27381801866358396, max_depth=7, min_child_weight=9, reg_alpha=4.082225404756636, reg_lambda=7.619379988079304, subsample=0.5278987721304084 \n",
      "[CV]  colsample_bytree=0.5749080237694725, gamma=0.8556428757689246, max_depth=9, min_child_weight=5, reg_alpha=1.1707668736166799, reg_lambda=1.1706847847459028, subsample=0.5116167224336399, score=0.24489795918367346, total=   0.0s\n"
     ]
    },
    {
     "name": "stderr",
     "output_type": "stream",
     "text": [
      "/home/hitkul/anaconda3/envs/ps3/lib/python3.6/site-packages/sklearn/preprocessing/label.py:151: DeprecationWarning: The truth value of an empty array is ambiguous. Returning False, but in future this will result in an error. Use `array.size > 0` to check that an array is not empty.\n",
      "  if diff:\n"
     ]
    },
    {
     "name": "stdout",
     "output_type": "stream",
     "text": [
      "[CV]  colsample_bytree=0.673235229154987, gamma=0.541003510568888, max_depth=9, min_child_weight=3, reg_alpha=2.3473719296747606, reg_lambda=2.712800217929823, subsample=0.5363649934414201, score=0.30612244897959184, total=   0.0s\n"
     ]
    },
    {
     "name": "stderr",
     "output_type": "stream",
     "text": [
      "/home/hitkul/anaconda3/envs/ps3/lib/python3.6/site-packages/sklearn/preprocessing/label.py:151: DeprecationWarning: The truth value of an empty array is ambiguous. Returning False, but in future this will result in an error. Use `array.size > 0` to check that an array is not empty.\n",
      "  if diff:\n",
      "/home/hitkul/anaconda3/envs/ps3/lib/python3.6/site-packages/sklearn/preprocessing/label.py:151: DeprecationWarning: The truth value of an empty array is ambiguous. Returning False, but in future this will result in an error. Use `array.size > 0` to check that an array is not empty.\n",
      "  if diff:\n",
      "/home/hitkul/anaconda3/envs/ps3/lib/python3.6/site-packages/sklearn/preprocessing/label.py:151: DeprecationWarning: The truth value of an empty array is ambiguous. Returning False, but in future this will result in an error. Use `array.size > 0` to check that an array is not empty.\n",
      "  if diff:\n"
     ]
    },
    {
     "name": "stdout",
     "output_type": "stream",
     "text": [
      "[CV] colsample_bytree=0.673235229154987, gamma=0.541003510568888, max_depth=9, min_child_weight=3, reg_alpha=2.3473719296747606, reg_lambda=2.712800217929823, subsample=0.5363649934414201 \n"
     ]
    },
    {
     "name": "stderr",
     "output_type": "stream",
     "text": [
      "/home/hitkul/anaconda3/envs/ps3/lib/python3.6/site-packages/sklearn/preprocessing/label.py:151: DeprecationWarning: The truth value of an empty array is ambiguous. Returning False, but in future this will result in an error. Use `array.size > 0` to check that an array is not empty.\n",
      "  if diff:\n"
     ]
    },
    {
     "name": "stdout",
     "output_type": "stream",
     "text": [
      "[CV]  colsample_bytree=0.5749080237694725, gamma=0.8556428757689246, max_depth=9, min_child_weight=5, reg_alpha=1.1707668736166799, reg_lambda=1.1706847847459028, subsample=0.5116167224336399, score=0.3125, total=   0.0s\n"
     ]
    },
    {
     "name": "stderr",
     "output_type": "stream",
     "text": [
      "/home/hitkul/anaconda3/envs/ps3/lib/python3.6/site-packages/sklearn/preprocessing/label.py:151: DeprecationWarning: The truth value of an empty array is ambiguous. Returning False, but in future this will result in an error. Use `array.size > 0` to check that an array is not empty.\n",
      "  if diff:\n",
      "/home/hitkul/anaconda3/envs/ps3/lib/python3.6/site-packages/sklearn/preprocessing/label.py:151: DeprecationWarning: The truth value of an empty array is ambiguous. Returning False, but in future this will result in an error. Use `array.size > 0` to check that an array is not empty.\n",
      "  if diff:\n"
     ]
    },
    {
     "name": "stdout",
     "output_type": "stream",
     "text": [
      "[CV]  colsample_bytree=0.5366809019706867, gamma=0.27381801866358396, max_depth=7, min_child_weight=9, reg_alpha=4.082225404756636, reg_lambda=7.619379988079304, subsample=0.5278987721304084, score=0.37735849056603776, total=   0.0s\n",
      "[CV] colsample_bytree=0.5366809019706867, gamma=0.27381801866358396, max_depth=7, min_child_weight=9, reg_alpha=4.082225404756636, reg_lambda=7.619379988079304, subsample=0.5278987721304084 \n"
     ]
    },
    {
     "name": "stderr",
     "output_type": "stream",
     "text": [
      "/home/hitkul/anaconda3/envs/ps3/lib/python3.6/site-packages/sklearn/preprocessing/label.py:151: DeprecationWarning: The truth value of an empty array is ambiguous. Returning False, but in future this will result in an error. Use `array.size > 0` to check that an array is not empty.\n",
      "  if diff:\n"
     ]
    },
    {
     "name": "stdout",
     "output_type": "stream",
     "text": [
      "[CV] colsample_bytree=0.673235229154987, gamma=0.541003510568888, max_depth=9, min_child_weight=3, reg_alpha=2.3473719296747606, reg_lambda=2.712800217929823, subsample=0.5363649934414201 \n"
     ]
    },
    {
     "name": "stderr",
     "output_type": "stream",
     "text": [
      "/home/hitkul/anaconda3/envs/ps3/lib/python3.6/site-packages/sklearn/preprocessing/label.py:151: DeprecationWarning: The truth value of an empty array is ambiguous. Returning False, but in future this will result in an error. Use `array.size > 0` to check that an array is not empty.\n",
      "  if diff:\n"
     ]
    },
    {
     "name": "stdout",
     "output_type": "stream",
     "text": [
      "[CV]  colsample_bytree=0.5366809019706867, gamma=0.27381801866358396, max_depth=7, min_child_weight=9, reg_alpha=4.082225404756636, reg_lambda=7.619379988079304, subsample=0.5278987721304084, score=0.2857142857142857, total=   0.0s\n"
     ]
    },
    {
     "name": "stderr",
     "output_type": "stream",
     "text": [
      "/home/hitkul/anaconda3/envs/ps3/lib/python3.6/site-packages/sklearn/preprocessing/label.py:151: DeprecationWarning: The truth value of an empty array is ambiguous. Returning False, but in future this will result in an error. Use `array.size > 0` to check that an array is not empty.\n",
      "  if diff:\n",
      "/home/hitkul/anaconda3/envs/ps3/lib/python3.6/site-packages/sklearn/preprocessing/label.py:151: DeprecationWarning: The truth value of an empty array is ambiguous. Returning False, but in future this will result in an error. Use `array.size > 0` to check that an array is not empty.\n",
      "  if diff:\n"
     ]
    },
    {
     "name": "stdout",
     "output_type": "stream",
     "text": [
      "[CV]  colsample_bytree=0.5366809019706867, gamma=0.27381801866358396, max_depth=7, min_child_weight=9, reg_alpha=4.082225404756636, reg_lambda=7.619379988079304, subsample=0.5278987721304084, score=0.4423076923076923, total=   0.0s\n",
      "[CV]  colsample_bytree=0.673235229154987, gamma=0.541003510568888, max_depth=9, min_child_weight=3, reg_alpha=2.3473719296747606, reg_lambda=2.712800217929823, subsample=0.5363649934414201, score=0.3469387755102041, total=   0.0s\n",
      "[CV] colsample_bytree=0.673235229154987, gamma=0.541003510568888, max_depth=9, min_child_weight=3, reg_alpha=2.3473719296747606, reg_lambda=2.712800217929823, subsample=0.5363649934414201 \n",
      "[CV] colsample_bytree=0.5366809019706867, gamma=0.27381801866358396, max_depth=7, min_child_weight=9, reg_alpha=4.082225404756636, reg_lambda=7.619379988079304, subsample=0.5278987721304084 \n"
     ]
    },
    {
     "name": "stderr",
     "output_type": "stream",
     "text": [
      "/home/hitkul/anaconda3/envs/ps3/lib/python3.6/site-packages/sklearn/preprocessing/label.py:151: DeprecationWarning: The truth value of an empty array is ambiguous. Returning False, but in future this will result in an error. Use `array.size > 0` to check that an array is not empty.\n",
      "  if diff:\n",
      "/home/hitkul/anaconda3/envs/ps3/lib/python3.6/site-packages/sklearn/preprocessing/label.py:151: DeprecationWarning: The truth value of an empty array is ambiguous. Returning False, but in future this will result in an error. Use `array.size > 0` to check that an array is not empty.\n",
      "  if diff:\n",
      "/home/hitkul/anaconda3/envs/ps3/lib/python3.6/site-packages/sklearn/preprocessing/label.py:151: DeprecationWarning: The truth value of an empty array is ambiguous. Returning False, but in future this will result in an error. Use `array.size > 0` to check that an array is not empty.\n",
      "  if diff:\n",
      "/home/hitkul/anaconda3/envs/ps3/lib/python3.6/site-packages/sklearn/preprocessing/label.py:151: DeprecationWarning: The truth value of an empty array is ambiguous. Returning False, but in future this will result in an error. Use `array.size > 0` to check that an array is not empty.\n",
      "  if diff:\n"
     ]
    },
    {
     "name": "stdout",
     "output_type": "stream",
     "text": [
      "[CV] colsample_bytree=0.5366809019706867, gamma=0.27381801866358396, max_depth=7, min_child_weight=9, reg_alpha=4.082225404756636, reg_lambda=7.619379988079304, subsample=0.5278987721304084 \n"
     ]
    },
    {
     "name": "stderr",
     "output_type": "stream",
     "text": [
      "/home/hitkul/anaconda3/envs/ps3/lib/python3.6/site-packages/sklearn/preprocessing/label.py:151: DeprecationWarning: The truth value of an empty array is ambiguous. Returning False, but in future this will result in an error. Use `array.size > 0` to check that an array is not empty.\n",
      "  if diff:\n"
     ]
    },
    {
     "name": "stdout",
     "output_type": "stream",
     "text": [
      "[CV]  colsample_bytree=0.5366809019706867, gamma=0.27381801866358396, max_depth=7, min_child_weight=9, reg_alpha=4.082225404756636, reg_lambda=7.619379988079304, subsample=0.5278987721304084, score=0.3673469387755102, total=   0.0s\n",
      "[CV] colsample_bytree=0.5366809019706867, gamma=0.27381801866358396, max_depth=7, min_child_weight=9, reg_alpha=4.082225404756636, reg_lambda=7.619379988079304, subsample=0.5278987721304084 \n"
     ]
    },
    {
     "name": "stderr",
     "output_type": "stream",
     "text": [
      "/home/hitkul/anaconda3/envs/ps3/lib/python3.6/site-packages/sklearn/preprocessing/label.py:151: DeprecationWarning: The truth value of an empty array is ambiguous. Returning False, but in future this will result in an error. Use `array.size > 0` to check that an array is not empty.\n",
      "  if diff:\n"
     ]
    },
    {
     "name": "stdout",
     "output_type": "stream",
     "text": [
      "[CV]  colsample_bytree=0.673235229154987, gamma=0.541003510568888, max_depth=9, min_child_weight=3, reg_alpha=2.3473719296747606, reg_lambda=2.712800217929823, subsample=0.5363649934414201, score=0.2857142857142857, total=   0.0s\n",
      "[CV]  colsample_bytree=0.673235229154987, gamma=0.541003510568888, max_depth=9, min_child_weight=3, reg_alpha=2.3473719296747606, reg_lambda=2.712800217929823, subsample=0.5363649934414201, score=0.37735849056603776, total=   0.0s\n",
      "[CV] colsample_bytree=0.673235229154987, gamma=0.541003510568888, max_depth=9, min_child_weight=3, reg_alpha=2.3473719296747606, reg_lambda=2.712800217929823, subsample=0.5363649934414201 \n"
     ]
    },
    {
     "name": "stderr",
     "output_type": "stream",
     "text": [
      "/home/hitkul/anaconda3/envs/ps3/lib/python3.6/site-packages/sklearn/preprocessing/label.py:151: DeprecationWarning: The truth value of an empty array is ambiguous. Returning False, but in future this will result in an error. Use `array.size > 0` to check that an array is not empty.\n",
      "  if diff:\n",
      "/home/hitkul/anaconda3/envs/ps3/lib/python3.6/site-packages/sklearn/preprocessing/label.py:151: DeprecationWarning: The truth value of an empty array is ambiguous. Returning False, but in future this will result in an error. Use `array.size > 0` to check that an array is not empty.\n",
      "  if diff:\n",
      "/home/hitkul/anaconda3/envs/ps3/lib/python3.6/site-packages/sklearn/preprocessing/label.py:151: DeprecationWarning: The truth value of an empty array is ambiguous. Returning False, but in future this will result in an error. Use `array.size > 0` to check that an array is not empty.\n",
      "  if diff:\n",
      "/home/hitkul/anaconda3/envs/ps3/lib/python3.6/site-packages/sklearn/preprocessing/label.py:151: DeprecationWarning: The truth value of an empty array is ambiguous. Returning False, but in future this will result in an error. Use `array.size > 0` to check that an array is not empty.\n",
      "  if diff:\n"
     ]
    },
    {
     "name": "stdout",
     "output_type": "stream",
     "text": [
      "[CV] colsample_bytree=0.673235229154987, gamma=0.541003510568888, max_depth=9, min_child_weight=3, reg_alpha=2.3473719296747606, reg_lambda=2.712800217929823, subsample=0.5363649934414201 \n"
     ]
    },
    {
     "name": "stderr",
     "output_type": "stream",
     "text": [
      "/home/hitkul/anaconda3/envs/ps3/lib/python3.6/site-packages/sklearn/preprocessing/label.py:151: DeprecationWarning: The truth value of an empty array is ambiguous. Returning False, but in future this will result in an error. Use `array.size > 0` to check that an array is not empty.\n",
      "  if diff:\n"
     ]
    },
    {
     "name": "stdout",
     "output_type": "stream",
     "text": [
      "[CV]  colsample_bytree=0.5366809019706867, gamma=0.27381801866358396, max_depth=7, min_child_weight=9, reg_alpha=4.082225404756636, reg_lambda=7.619379988079304, subsample=0.5278987721304084, score=0.2653061224489796, total=   0.0s\n",
      "[CV] colsample_bytree=0.5366809019706867, gamma=0.27381801866358396, max_depth=7, min_child_weight=9, reg_alpha=4.082225404756636, reg_lambda=7.619379988079304, subsample=0.5278987721304084 \n",
      "[CV]  colsample_bytree=0.5366809019706867, gamma=0.27381801866358396, max_depth=7, min_child_weight=9, reg_alpha=4.082225404756636, reg_lambda=7.619379988079304, subsample=0.5278987721304084, score=0.34615384615384615, total=   0.0s\n"
     ]
    },
    {
     "name": "stderr",
     "output_type": "stream",
     "text": [
      "/home/hitkul/anaconda3/envs/ps3/lib/python3.6/site-packages/sklearn/preprocessing/label.py:151: DeprecationWarning: The truth value of an empty array is ambiguous. Returning False, but in future this will result in an error. Use `array.size > 0` to check that an array is not empty.\n",
      "  if diff:\n",
      "/home/hitkul/anaconda3/envs/ps3/lib/python3.6/site-packages/sklearn/preprocessing/label.py:151: DeprecationWarning: The truth value of an empty array is ambiguous. Returning False, but in future this will result in an error. Use `array.size > 0` to check that an array is not empty.\n",
      "  if diff:\n",
      "[Parallel(n_jobs=4)]: Batch computation too fast (0.0552s.) Setting batch_size=6.\n",
      "[Parallel(n_jobs=4)]: Done   5 tasks      | elapsed:    0.1s\n",
      "/home/hitkul/anaconda3/envs/ps3/lib/python3.6/site-packages/sklearn/preprocessing/label.py:151: DeprecationWarning: The truth value of an empty array is ambiguous. Returning False, but in future this will result in an error. Use `array.size > 0` to check that an array is not empty.\n",
      "  if diff:\n"
     ]
    },
    {
     "name": "stdout",
     "output_type": "stream",
     "text": [
      "[CV]  colsample_bytree=0.673235229154987, gamma=0.541003510568888, max_depth=9, min_child_weight=3, reg_alpha=2.3473719296747606, reg_lambda=2.712800217929823, subsample=0.5363649934414201, score=0.3877551020408163, total=   0.0s\n",
      "[CV] colsample_bytree=0.673235229154987, gamma=0.541003510568888, max_depth=9, min_child_weight=3, reg_alpha=2.3473719296747606, reg_lambda=2.712800217929823, subsample=0.5363649934414201 \n",
      "[CV]  colsample_bytree=0.673235229154987, gamma=0.541003510568888, max_depth=9, min_child_weight=3, reg_alpha=2.3473719296747606, reg_lambda=2.712800217929823, subsample=0.5363649934414201, score=0.40384615384615385, total=   0.0s\n",
      "[CV] colsample_bytree=0.5366809019706867, gamma=0.27381801866358396, max_depth=7, min_child_weight=9, reg_alpha=4.082225404756636, reg_lambda=7.619379988079304, subsample=0.5278987721304084 \n"
     ]
    },
    {
     "name": "stderr",
     "output_type": "stream",
     "text": [
      "/home/hitkul/anaconda3/envs/ps3/lib/python3.6/site-packages/sklearn/preprocessing/label.py:151: DeprecationWarning: The truth value of an empty array is ambiguous. Returning False, but in future this will result in an error. Use `array.size > 0` to check that an array is not empty.\n",
      "  if diff:\n",
      "/home/hitkul/anaconda3/envs/ps3/lib/python3.6/site-packages/sklearn/preprocessing/label.py:151: DeprecationWarning: The truth value of an empty array is ambiguous. Returning False, but in future this will result in an error. Use `array.size > 0` to check that an array is not empty.\n",
      "  if diff:\n"
     ]
    },
    {
     "name": "stdout",
     "output_type": "stream",
     "text": [
      "[CV] colsample_bytree=0.673235229154987, gamma=0.541003510568888, max_depth=9, min_child_weight=3, reg_alpha=2.3473719296747606, reg_lambda=2.712800217929823, subsample=0.5363649934414201 \n"
     ]
    },
    {
     "name": "stderr",
     "output_type": "stream",
     "text": [
      "/home/hitkul/anaconda3/envs/ps3/lib/python3.6/site-packages/sklearn/preprocessing/label.py:151: DeprecationWarning: The truth value of an empty array is ambiguous. Returning False, but in future this will result in an error. Use `array.size > 0` to check that an array is not empty.\n",
      "  if diff:\n",
      "/home/hitkul/anaconda3/envs/ps3/lib/python3.6/site-packages/sklearn/preprocessing/label.py:151: DeprecationWarning: The truth value of an empty array is ambiguous. Returning False, but in future this will result in an error. Use `array.size > 0` to check that an array is not empty.\n",
      "  if diff:\n",
      "/home/hitkul/anaconda3/envs/ps3/lib/python3.6/site-packages/sklearn/preprocessing/label.py:151: DeprecationWarning: The truth value of an empty array is ambiguous. Returning False, but in future this will result in an error. Use `array.size > 0` to check that an array is not empty.\n",
      "  if diff:\n",
      "/home/hitkul/anaconda3/envs/ps3/lib/python3.6/site-packages/sklearn/preprocessing/label.py:151: DeprecationWarning: The truth value of an empty array is ambiguous. Returning False, but in future this will result in an error. Use `array.size > 0` to check that an array is not empty.\n",
      "  if diff:\n"
     ]
    },
    {
     "name": "stdout",
     "output_type": "stream",
     "text": [
      "[CV]  colsample_bytree=0.5366809019706867, gamma=0.27381801866358396, max_depth=7, min_child_weight=9, reg_alpha=4.082225404756636, reg_lambda=7.619379988079304, subsample=0.5278987721304084, score=0.3125, total=   0.0s\n"
     ]
    },
    {
     "name": "stderr",
     "output_type": "stream",
     "text": [
      "/home/hitkul/anaconda3/envs/ps3/lib/python3.6/site-packages/sklearn/preprocessing/label.py:151: DeprecationWarning: The truth value of an empty array is ambiguous. Returning False, but in future this will result in an error. Use `array.size > 0` to check that an array is not empty.\n",
      "  if diff:\n"
     ]
    },
    {
     "name": "stdout",
     "output_type": "stream",
     "text": [
      "[CV]  colsample_bytree=0.5366809019706867, gamma=0.27381801866358396, max_depth=7, min_child_weight=9, reg_alpha=4.082225404756636, reg_lambda=7.619379988079304, subsample=0.5278987721304084, score=0.34, total=   0.0s\n",
      "[CV] colsample_bytree=0.5584289297070436, gamma=0.32972565896432254, max_depth=4, min_child_weight=7, reg_alpha=0.12227588747032872, reg_lambda=1.7777565856121607, subsample=0.6719880813472641 \n"
     ]
    },
    {
     "name": "stderr",
     "output_type": "stream",
     "text": [
      "/home/hitkul/anaconda3/envs/ps3/lib/python3.6/site-packages/sklearn/preprocessing/label.py:151: DeprecationWarning: The truth value of an empty array is ambiguous. Returning False, but in future this will result in an error. Use `array.size > 0` to check that an array is not empty.\n",
      "  if diff:\n"
     ]
    },
    {
     "name": "stdout",
     "output_type": "stream",
     "text": [
      "[CV] colsample_bytree=0.5366809019706867, gamma=0.27381801866358396, max_depth=7, min_child_weight=9, reg_alpha=4.082225404756636, reg_lambda=7.619379988079304, subsample=0.5278987721304084 \n",
      "[CV]  colsample_bytree=0.673235229154987, gamma=0.541003510568888, max_depth=9, min_child_weight=3, reg_alpha=2.3473719296747606, reg_lambda=2.712800217929823, subsample=0.5363649934414201, score=0.2653061224489796, total=   0.0s\n"
     ]
    },
    {
     "name": "stderr",
     "output_type": "stream",
     "text": [
      "/home/hitkul/anaconda3/envs/ps3/lib/python3.6/site-packages/sklearn/preprocessing/label.py:151: DeprecationWarning: The truth value of an empty array is ambiguous. Returning False, but in future this will result in an error. Use `array.size > 0` to check that an array is not empty.\n",
      "  if diff:\n",
      "/home/hitkul/anaconda3/envs/ps3/lib/python3.6/site-packages/sklearn/preprocessing/label.py:151: DeprecationWarning: The truth value of an empty array is ambiguous. Returning False, but in future this will result in an error. Use `array.size > 0` to check that an array is not empty.\n",
      "  if diff:\n"
     ]
    },
    {
     "name": "stdout",
     "output_type": "stream",
     "text": [
      "[CV]  colsample_bytree=0.673235229154987, gamma=0.541003510568888, max_depth=9, min_child_weight=3, reg_alpha=2.3473719296747606, reg_lambda=2.712800217929823, subsample=0.5363649934414201, score=0.34615384615384615, total=   0.0s\n",
      "[CV] colsample_bytree=0.673235229154987, gamma=0.541003510568888, max_depth=9, min_child_weight=3, reg_alpha=2.3473719296747606, reg_lambda=2.712800217929823, subsample=0.5363649934414201 \n",
      "[CV] colsample_bytree=0.673235229154987, gamma=0.541003510568888, max_depth=9, min_child_weight=3, reg_alpha=2.3473719296747606, reg_lambda=2.712800217929823, subsample=0.5363649934414201 \n"
     ]
    },
    {
     "name": "stderr",
     "output_type": "stream",
     "text": [
      "/home/hitkul/anaconda3/envs/ps3/lib/python3.6/site-packages/sklearn/preprocessing/label.py:151: DeprecationWarning: The truth value of an empty array is ambiguous. Returning False, but in future this will result in an error. Use `array.size > 0` to check that an array is not empty.\n",
      "  if diff:\n",
      "/home/hitkul/anaconda3/envs/ps3/lib/python3.6/site-packages/sklearn/preprocessing/label.py:151: DeprecationWarning: The truth value of an empty array is ambiguous. Returning False, but in future this will result in an error. Use `array.size > 0` to check that an array is not empty.\n",
      "  if diff:\n"
     ]
    },
    {
     "name": "stdout",
     "output_type": "stream",
     "text": [
      "[CV]  colsample_bytree=0.5584289297070436, gamma=0.32972565896432254, max_depth=4, min_child_weight=7, reg_alpha=0.12227588747032872, reg_lambda=1.7777565856121607, subsample=0.6719880813472641, score=0.37735849056603776, total=   0.0s\n"
     ]
    },
    {
     "name": "stderr",
     "output_type": "stream",
     "text": [
      "/home/hitkul/anaconda3/envs/ps3/lib/python3.6/site-packages/sklearn/preprocessing/label.py:151: DeprecationWarning: The truth value of an empty array is ambiguous. Returning False, but in future this will result in an error. Use `array.size > 0` to check that an array is not empty.\n",
      "  if diff:\n",
      "/home/hitkul/anaconda3/envs/ps3/lib/python3.6/site-packages/sklearn/preprocessing/label.py:151: DeprecationWarning: The truth value of an empty array is ambiguous. Returning False, but in future this will result in an error. Use `array.size > 0` to check that an array is not empty.\n",
      "  if diff:\n",
      "/home/hitkul/anaconda3/envs/ps3/lib/python3.6/site-packages/sklearn/preprocessing/label.py:151: DeprecationWarning: The truth value of an empty array is ambiguous. Returning False, but in future this will result in an error. Use `array.size > 0` to check that an array is not empty.\n",
      "  if diff:\n"
     ]
    },
    {
     "name": "stdout",
     "output_type": "stream",
     "text": [
      "[CV]  colsample_bytree=0.673235229154987, gamma=0.541003510568888, max_depth=9, min_child_weight=3, reg_alpha=2.3473719296747606, reg_lambda=2.712800217929823, subsample=0.5363649934414201, score=0.36, total=   0.0s\n",
      "[CV] colsample_bytree=0.5584289297070436, gamma=0.32972565896432254, max_depth=4, min_child_weight=7, reg_alpha=0.12227588747032872, reg_lambda=1.7777565856121607, subsample=0.6719880813472641 \n",
      "[CV] colsample_bytree=0.5584289297070436, gamma=0.32972565896432254, max_depth=4, min_child_weight=7, reg_alpha=0.12227588747032872, reg_lambda=1.7777565856121607, subsample=0.6719880813472641 \n"
     ]
    },
    {
     "name": "stderr",
     "output_type": "stream",
     "text": [
      "/home/hitkul/anaconda3/envs/ps3/lib/python3.6/site-packages/sklearn/preprocessing/label.py:151: DeprecationWarning: The truth value of an empty array is ambiguous. Returning False, but in future this will result in an error. Use `array.size > 0` to check that an array is not empty.\n",
      "  if diff:\n"
     ]
    },
    {
     "name": "stdout",
     "output_type": "stream",
     "text": [
      "[CV]  colsample_bytree=0.5366809019706867, gamma=0.27381801866358396, max_depth=7, min_child_weight=9, reg_alpha=4.082225404756636, reg_lambda=7.619379988079304, subsample=0.5278987721304084, score=0.30612244897959184, total=   0.0s\n",
      "[CV] colsample_bytree=0.5366809019706867, gamma=0.27381801866358396, max_depth=7, min_child_weight=9, reg_alpha=4.082225404756636, reg_lambda=7.619379988079304, subsample=0.5278987721304084 \n"
     ]
    },
    {
     "name": "stderr",
     "output_type": "stream",
     "text": [
      "/home/hitkul/anaconda3/envs/ps3/lib/python3.6/site-packages/sklearn/preprocessing/label.py:151: DeprecationWarning: The truth value of an empty array is ambiguous. Returning False, but in future this will result in an error. Use `array.size > 0` to check that an array is not empty.\n",
      "  if diff:\n"
     ]
    },
    {
     "name": "stdout",
     "output_type": "stream",
     "text": [
      "[CV]  colsample_bytree=0.673235229154987, gamma=0.541003510568888, max_depth=9, min_child_weight=3, reg_alpha=2.3473719296747606, reg_lambda=2.712800217929823, subsample=0.5363649934414201, score=0.2916666666666667, total=   0.0s\n"
     ]
    },
    {
     "name": "stderr",
     "output_type": "stream",
     "text": [
      "/home/hitkul/anaconda3/envs/ps3/lib/python3.6/site-packages/sklearn/preprocessing/label.py:151: DeprecationWarning: The truth value of an empty array is ambiguous. Returning False, but in future this will result in an error. Use `array.size > 0` to check that an array is not empty.\n",
      "  if diff:\n",
      "/home/hitkul/anaconda3/envs/ps3/lib/python3.6/site-packages/sklearn/preprocessing/label.py:151: DeprecationWarning: The truth value of an empty array is ambiguous. Returning False, but in future this will result in an error. Use `array.size > 0` to check that an array is not empty.\n",
      "  if diff:\n",
      "/home/hitkul/anaconda3/envs/ps3/lib/python3.6/site-packages/sklearn/preprocessing/label.py:151: DeprecationWarning: The truth value of an empty array is ambiguous. Returning False, but in future this will result in an error. Use `array.size > 0` to check that an array is not empty.\n",
      "  if diff:\n"
     ]
    },
    {
     "name": "stdout",
     "output_type": "stream",
     "text": [
      "[CV] colsample_bytree=0.5584289297070436, gamma=0.32972565896432254, max_depth=4, min_child_weight=7, reg_alpha=0.12227588747032872, reg_lambda=1.7777565856121607, subsample=0.6719880813472641 \n",
      "[CV]  colsample_bytree=0.5584289297070436, gamma=0.32972565896432254, max_depth=4, min_child_weight=7, reg_alpha=0.12227588747032872, reg_lambda=1.7777565856121607, subsample=0.6719880813472641, score=0.4230769230769231, total=   0.0s\n",
      "[CV] colsample_bytree=0.636061507717556, gamma=0.4054493267725887, max_depth=3, min_child_weight=4, reg_alpha=0.47562892158568226, reg_lambda=3.3232717137492602, subsample=0.5770833005079832 \n"
     ]
    },
    {
     "name": "stderr",
     "output_type": "stream",
     "text": [
      "/home/hitkul/anaconda3/envs/ps3/lib/python3.6/site-packages/sklearn/preprocessing/label.py:151: DeprecationWarning: The truth value of an empty array is ambiguous. Returning False, but in future this will result in an error. Use `array.size > 0` to check that an array is not empty.\n",
      "  if diff:\n",
      "/home/hitkul/anaconda3/envs/ps3/lib/python3.6/site-packages/sklearn/preprocessing/label.py:151: DeprecationWarning: The truth value of an empty array is ambiguous. Returning False, but in future this will result in an error. Use `array.size > 0` to check that an array is not empty.\n",
      "  if diff:\n"
     ]
    },
    {
     "name": "stdout",
     "output_type": "stream",
     "text": [
      "[CV]  colsample_bytree=0.5366809019706867, gamma=0.27381801866358396, max_depth=7, min_child_weight=9, reg_alpha=4.082225404756636, reg_lambda=7.619379988079304, subsample=0.5278987721304084, score=0.3469387755102041, total=   0.0s\n",
      "[CV]  colsample_bytree=0.636061507717556, gamma=0.4054493267725887, max_depth=3, min_child_weight=4, reg_alpha=0.47562892158568226, reg_lambda=3.3232717137492602, subsample=0.5770833005079832, score=0.2653061224489796, total=   0.0s\n"
     ]
    },
    {
     "name": "stderr",
     "output_type": "stream",
     "text": [
      "/home/hitkul/anaconda3/envs/ps3/lib/python3.6/site-packages/sklearn/preprocessing/label.py:151: DeprecationWarning: The truth value of an empty array is ambiguous. Returning False, but in future this will result in an error. Use `array.size > 0` to check that an array is not empty.\n",
      "  if diff:\n",
      "/home/hitkul/anaconda3/envs/ps3/lib/python3.6/site-packages/sklearn/preprocessing/label.py:151: DeprecationWarning: The truth value of an empty array is ambiguous. Returning False, but in future this will result in an error. Use `array.size > 0` to check that an array is not empty.\n",
      "  if diff:\n",
      "/home/hitkul/anaconda3/envs/ps3/lib/python3.6/site-packages/sklearn/preprocessing/label.py:151: DeprecationWarning: The truth value of an empty array is ambiguous. Returning False, but in future this will result in an error. Use `array.size > 0` to check that an array is not empty.\n",
      "  if diff:\n"
     ]
    },
    {
     "name": "stdout",
     "output_type": "stream",
     "text": [
      "[CV] colsample_bytree=0.5031932504440428, gamma=0.2078044430599341, max_depth=8, min_child_weight=8, reg_alpha=4.112724560515945, reg_lambda=6.104218249855111, subsample=0.5623422152178822 \n",
      "[CV]  colsample_bytree=0.5584289297070436, gamma=0.32972565896432254, max_depth=4, min_child_weight=7, reg_alpha=0.12227588747032872, reg_lambda=1.7777565856121607, subsample=0.6719880813472641, score=0.28846153846153844, total=   0.0s\n"
     ]
    },
    {
     "name": "stderr",
     "output_type": "stream",
     "text": [
      "/home/hitkul/anaconda3/envs/ps3/lib/python3.6/site-packages/sklearn/preprocessing/label.py:151: DeprecationWarning: The truth value of an empty array is ambiguous. Returning False, but in future this will result in an error. Use `array.size > 0` to check that an array is not empty.\n",
      "  if diff:\n"
     ]
    },
    {
     "name": "stdout",
     "output_type": "stream",
     "text": [
      "[CV] colsample_bytree=0.5584289297070436, gamma=0.32972565896432254, max_depth=4, min_child_weight=7, reg_alpha=0.12227588747032872, reg_lambda=1.7777565856121607, subsample=0.6719880813472641 \n",
      "[CV]  colsample_bytree=0.5584289297070436, gamma=0.32972565896432254, max_depth=4, min_child_weight=7, reg_alpha=0.12227588747032872, reg_lambda=1.7777565856121607, subsample=0.6719880813472641, score=0.24489795918367346, total=   0.0s\n",
      "[CV] colsample_bytree=0.5584289297070436, gamma=0.32972565896432254, max_depth=4, min_child_weight=7, reg_alpha=0.12227588747032872, reg_lambda=1.7777565856121607, subsample=0.6719880813472641 \n"
     ]
    },
    {
     "name": "stderr",
     "output_type": "stream",
     "text": [
      "/home/hitkul/anaconda3/envs/ps3/lib/python3.6/site-packages/sklearn/preprocessing/label.py:151: DeprecationWarning: The truth value of an empty array is ambiguous. Returning False, but in future this will result in an error. Use `array.size > 0` to check that an array is not empty.\n",
      "  if diff:\n"
     ]
    },
    {
     "name": "stdout",
     "output_type": "stream",
     "text": [
      "[CV] colsample_bytree=0.636061507717556, gamma=0.4054493267725887, max_depth=3, min_child_weight=4, reg_alpha=0.47562892158568226, reg_lambda=3.3232717137492602, subsample=0.5770833005079832 \n"
     ]
    },
    {
     "name": "stderr",
     "output_type": "stream",
     "text": [
      "/home/hitkul/anaconda3/envs/ps3/lib/python3.6/site-packages/sklearn/preprocessing/label.py:151: DeprecationWarning: The truth value of an empty array is ambiguous. Returning False, but in future this will result in an error. Use `array.size > 0` to check that an array is not empty.\n",
      "  if diff:\n",
      "/home/hitkul/anaconda3/envs/ps3/lib/python3.6/site-packages/sklearn/preprocessing/label.py:151: DeprecationWarning: The truth value of an empty array is ambiguous. Returning False, but in future this will result in an error. Use `array.size > 0` to check that an array is not empty.\n",
      "  if diff:\n"
     ]
    },
    {
     "name": "stdout",
     "output_type": "stream",
     "text": [
      "[CV]  colsample_bytree=0.5584289297070436, gamma=0.32972565896432254, max_depth=4, min_child_weight=7, reg_alpha=0.12227588747032872, reg_lambda=1.7777565856121607, subsample=0.6719880813472641, score=0.32, total=   0.0s\n",
      "[CV] colsample_bytree=0.5584289297070436, gamma=0.32972565896432254, max_depth=4, min_child_weight=7, reg_alpha=0.12227588747032872, reg_lambda=1.7777565856121607, subsample=0.6719880813472641 \n"
     ]
    },
    {
     "name": "stderr",
     "output_type": "stream",
     "text": [
      "/home/hitkul/anaconda3/envs/ps3/lib/python3.6/site-packages/sklearn/preprocessing/label.py:151: DeprecationWarning: The truth value of an empty array is ambiguous. Returning False, but in future this will result in an error. Use `array.size > 0` to check that an array is not empty.\n",
      "  if diff:\n",
      "/home/hitkul/anaconda3/envs/ps3/lib/python3.6/site-packages/sklearn/preprocessing/label.py:151: DeprecationWarning: The truth value of an empty array is ambiguous. Returning False, but in future this will result in an error. Use `array.size > 0` to check that an array is not empty.\n",
      "  if diff:\n",
      "/home/hitkul/anaconda3/envs/ps3/lib/python3.6/site-packages/sklearn/preprocessing/label.py:151: DeprecationWarning: The truth value of an empty array is ambiguous. Returning False, but in future this will result in an error. Use `array.size > 0` to check that an array is not empty.\n",
      "  if diff:\n",
      "/home/hitkul/anaconda3/envs/ps3/lib/python3.6/site-packages/sklearn/preprocessing/label.py:151: DeprecationWarning: The truth value of an empty array is ambiguous. Returning False, but in future this will result in an error. Use `array.size > 0` to check that an array is not empty.\n",
      "  if diff:\n"
     ]
    },
    {
     "name": "stdout",
     "output_type": "stream",
     "text": [
      "[CV]  colsample_bytree=0.5031932504440428, gamma=0.2078044430599341, max_depth=8, min_child_weight=8, reg_alpha=4.112724560515945, reg_lambda=6.104218249855111, subsample=0.5623422152178822, score=0.37735849056603776, total=   0.1s\n"
     ]
    },
    {
     "name": "stderr",
     "output_type": "stream",
     "text": [
      "/home/hitkul/anaconda3/envs/ps3/lib/python3.6/site-packages/sklearn/preprocessing/label.py:151: DeprecationWarning: The truth value of an empty array is ambiguous. Returning False, but in future this will result in an error. Use `array.size > 0` to check that an array is not empty.\n",
      "  if diff:\n",
      "/home/hitkul/anaconda3/envs/ps3/lib/python3.6/site-packages/sklearn/preprocessing/label.py:151: DeprecationWarning: The truth value of an empty array is ambiguous. Returning False, but in future this will result in an error. Use `array.size > 0` to check that an array is not empty.\n",
      "  if diff:\n"
     ]
    },
    {
     "name": "stdout",
     "output_type": "stream",
     "text": [
      "[CV] colsample_bytree=0.5031932504440428, gamma=0.2078044430599341, max_depth=8, min_child_weight=8, reg_alpha=4.112724560515945, reg_lambda=6.104218249855111, subsample=0.5623422152178822 \n",
      "[CV]  colsample_bytree=0.5584289297070436, gamma=0.32972565896432254, max_depth=4, min_child_weight=7, reg_alpha=0.12227588747032872, reg_lambda=1.7777565856121607, subsample=0.6719880813472641, score=0.2916666666666667, total=   0.0s\n",
      "[CV]  colsample_bytree=0.636061507717556, gamma=0.4054493267725887, max_depth=3, min_child_weight=4, reg_alpha=0.47562892158568226, reg_lambda=3.3232717137492602, subsample=0.5770833005079832, score=0.32653061224489793, total=   0.0s\n",
      "[CV] colsample_bytree=0.636061507717556, gamma=0.4054493267725887, max_depth=3, min_child_weight=4, reg_alpha=0.47562892158568226, reg_lambda=3.3232717137492602, subsample=0.5770833005079832 \n",
      "[CV] colsample_bytree=0.636061507717556, gamma=0.4054493267725887, max_depth=3, min_child_weight=4, reg_alpha=0.47562892158568226, reg_lambda=3.3232717137492602, subsample=0.5770833005079832 \n"
     ]
    },
    {
     "name": "stderr",
     "output_type": "stream",
     "text": [
      "/home/hitkul/anaconda3/envs/ps3/lib/python3.6/site-packages/sklearn/preprocessing/label.py:151: DeprecationWarning: The truth value of an empty array is ambiguous. Returning False, but in future this will result in an error. Use `array.size > 0` to check that an array is not empty.\n",
      "  if diff:\n"
     ]
    },
    {
     "name": "stdout",
     "output_type": "stream",
     "text": [
      "[CV]  colsample_bytree=0.5584289297070436, gamma=0.32972565896432254, max_depth=4, min_child_weight=7, reg_alpha=0.12227588747032872, reg_lambda=1.7777565856121607, subsample=0.6719880813472641, score=0.2857142857142857, total=   0.0s\n",
      "[CV] colsample_bytree=0.5584289297070436, gamma=0.32972565896432254, max_depth=4, min_child_weight=7, reg_alpha=0.12227588747032872, reg_lambda=1.7777565856121607, subsample=0.6719880813472641 \n"
     ]
    },
    {
     "name": "stderr",
     "output_type": "stream",
     "text": [
      "/home/hitkul/anaconda3/envs/ps3/lib/python3.6/site-packages/sklearn/preprocessing/label.py:151: DeprecationWarning: The truth value of an empty array is ambiguous. Returning False, but in future this will result in an error. Use `array.size > 0` to check that an array is not empty.\n",
      "  if diff:\n",
      "/home/hitkul/anaconda3/envs/ps3/lib/python3.6/site-packages/sklearn/preprocessing/label.py:151: DeprecationWarning: The truth value of an empty array is ambiguous. Returning False, but in future this will result in an error. Use `array.size > 0` to check that an array is not empty.\n",
      "  if diff:\n",
      "/home/hitkul/anaconda3/envs/ps3/lib/python3.6/site-packages/sklearn/preprocessing/label.py:151: DeprecationWarning: The truth value of an empty array is ambiguous. Returning False, but in future this will result in an error. Use `array.size > 0` to check that an array is not empty.\n",
      "  if diff:\n"
     ]
    },
    {
     "name": "stdout",
     "output_type": "stream",
     "text": [
      "[CV]  colsample_bytree=0.5031932504440428, gamma=0.2078044430599341, max_depth=8, min_child_weight=8, reg_alpha=4.112724560515945, reg_lambda=6.104218249855111, subsample=0.5623422152178822, score=0.4423076923076923, total=   0.0s\n"
     ]
    },
    {
     "name": "stderr",
     "output_type": "stream",
     "text": [
      "/home/hitkul/anaconda3/envs/ps3/lib/python3.6/site-packages/sklearn/preprocessing/label.py:151: DeprecationWarning: The truth value of an empty array is ambiguous. Returning False, but in future this will result in an error. Use `array.size > 0` to check that an array is not empty.\n",
      "  if diff:\n",
      "/home/hitkul/anaconda3/envs/ps3/lib/python3.6/site-packages/sklearn/preprocessing/label.py:151: DeprecationWarning: The truth value of an empty array is ambiguous. Returning False, but in future this will result in an error. Use `array.size > 0` to check that an array is not empty.\n",
      "  if diff:\n"
     ]
    },
    {
     "name": "stdout",
     "output_type": "stream",
     "text": [
      "[CV] colsample_bytree=0.5031932504440428, gamma=0.2078044430599341, max_depth=8, min_child_weight=8, reg_alpha=4.112724560515945, reg_lambda=6.104218249855111, subsample=0.5623422152178822 \n"
     ]
    },
    {
     "name": "stderr",
     "output_type": "stream",
     "text": [
      "/home/hitkul/anaconda3/envs/ps3/lib/python3.6/site-packages/sklearn/preprocessing/label.py:151: DeprecationWarning: The truth value of an empty array is ambiguous. Returning False, but in future this will result in an error. Use `array.size > 0` to check that an array is not empty.\n",
      "  if diff:\n"
     ]
    },
    {
     "name": "stdout",
     "output_type": "stream",
     "text": [
      "[CV]  colsample_bytree=0.636061507717556, gamma=0.4054493267725887, max_depth=3, min_child_weight=4, reg_alpha=0.47562892158568226, reg_lambda=3.3232717137492602, subsample=0.5770833005079832, score=0.2857142857142857, total=   0.0s\n",
      "[CV] colsample_bytree=0.636061507717556, gamma=0.4054493267725887, max_depth=3, min_child_weight=4, reg_alpha=0.47562892158568226, reg_lambda=3.3232717137492602, subsample=0.5770833005079832 \n"
     ]
    },
    {
     "name": "stderr",
     "output_type": "stream",
     "text": [
      "/home/hitkul/anaconda3/envs/ps3/lib/python3.6/site-packages/sklearn/preprocessing/label.py:151: DeprecationWarning: The truth value of an empty array is ambiguous. Returning False, but in future this will result in an error. Use `array.size > 0` to check that an array is not empty.\n",
      "  if diff:\n"
     ]
    },
    {
     "name": "stdout",
     "output_type": "stream",
     "text": [
      "[CV]  colsample_bytree=0.636061507717556, gamma=0.4054493267725887, max_depth=3, min_child_weight=4, reg_alpha=0.47562892158568226, reg_lambda=3.3232717137492602, subsample=0.5770833005079832, score=0.32075471698113206, total=   0.0s\n"
     ]
    },
    {
     "name": "stderr",
     "output_type": "stream",
     "text": [
      "/home/hitkul/anaconda3/envs/ps3/lib/python3.6/site-packages/sklearn/preprocessing/label.py:151: DeprecationWarning: The truth value of an empty array is ambiguous. Returning False, but in future this will result in an error. Use `array.size > 0` to check that an array is not empty.\n",
      "  if diff:\n"
     ]
    },
    {
     "name": "stdout",
     "output_type": "stream",
     "text": [
      "[CV] colsample_bytree=0.636061507717556, gamma=0.4054493267725887, max_depth=3, min_child_weight=4, reg_alpha=0.47562892158568226, reg_lambda=3.3232717137492602, subsample=0.5770833005079832 \n"
     ]
    },
    {
     "name": "stderr",
     "output_type": "stream",
     "text": [
      "/home/hitkul/anaconda3/envs/ps3/lib/python3.6/site-packages/sklearn/preprocessing/label.py:151: DeprecationWarning: The truth value of an empty array is ambiguous. Returning False, but in future this will result in an error. Use `array.size > 0` to check that an array is not empty.\n",
      "  if diff:\n",
      "/home/hitkul/anaconda3/envs/ps3/lib/python3.6/site-packages/sklearn/preprocessing/label.py:151: DeprecationWarning: The truth value of an empty array is ambiguous. Returning False, but in future this will result in an error. Use `array.size > 0` to check that an array is not empty.\n",
      "  if diff:\n"
     ]
    },
    {
     "name": "stdout",
     "output_type": "stream",
     "text": [
      "[CV]  colsample_bytree=0.5031932504440428, gamma=0.2078044430599341, max_depth=8, min_child_weight=8, reg_alpha=4.112724560515945, reg_lambda=6.104218249855111, subsample=0.5623422152178822, score=0.34615384615384615, total=   0.0s\n"
     ]
    },
    {
     "name": "stderr",
     "output_type": "stream",
     "text": [
      "/home/hitkul/anaconda3/envs/ps3/lib/python3.6/site-packages/sklearn/preprocessing/label.py:151: DeprecationWarning: The truth value of an empty array is ambiguous. Returning False, but in future this will result in an error. Use `array.size > 0` to check that an array is not empty.\n",
      "  if diff:\n"
     ]
    },
    {
     "name": "stdout",
     "output_type": "stream",
     "text": [
      "[CV] colsample_bytree=0.5031932504440428, gamma=0.2078044430599341, max_depth=8, min_child_weight=8, reg_alpha=4.112724560515945, reg_lambda=6.104218249855111, subsample=0.5623422152178822 \n",
      "[CV]  colsample_bytree=0.5584289297070436, gamma=0.32972565896432254, max_depth=4, min_child_weight=7, reg_alpha=0.12227588747032872, reg_lambda=1.7777565856121607, subsample=0.6719880813472641, score=0.3673469387755102, total=   0.0s\n"
     ]
    },
    {
     "name": "stderr",
     "output_type": "stream",
     "text": [
      "/home/hitkul/anaconda3/envs/ps3/lib/python3.6/site-packages/sklearn/preprocessing/label.py:151: DeprecationWarning: The truth value of an empty array is ambiguous. Returning False, but in future this will result in an error. Use `array.size > 0` to check that an array is not empty.\n",
      "  if diff:\n"
     ]
    },
    {
     "name": "stdout",
     "output_type": "stream",
     "text": [
      "[CV]  colsample_bytree=0.636061507717556, gamma=0.4054493267725887, max_depth=3, min_child_weight=4, reg_alpha=0.47562892158568226, reg_lambda=3.3232717137492602, subsample=0.5770833005079832, score=0.3469387755102041, total=   0.0s\n"
     ]
    },
    {
     "name": "stderr",
     "output_type": "stream",
     "text": [
      "/home/hitkul/anaconda3/envs/ps3/lib/python3.6/site-packages/sklearn/preprocessing/label.py:151: DeprecationWarning: The truth value of an empty array is ambiguous. Returning False, but in future this will result in an error. Use `array.size > 0` to check that an array is not empty.\n",
      "  if diff:\n"
     ]
    },
    {
     "name": "stdout",
     "output_type": "stream",
     "text": [
      "[CV] colsample_bytree=0.5584289297070436, gamma=0.32972565896432254, max_depth=4, min_child_weight=7, reg_alpha=0.12227588747032872, reg_lambda=1.7777565856121607, subsample=0.6719880813472641 \n",
      "[CV] colsample_bytree=0.636061507717556, gamma=0.4054493267725887, max_depth=3, min_child_weight=4, reg_alpha=0.47562892158568226, reg_lambda=3.3232717137492602, subsample=0.5770833005079832 \n"
     ]
    },
    {
     "name": "stderr",
     "output_type": "stream",
     "text": [
      "/home/hitkul/anaconda3/envs/ps3/lib/python3.6/site-packages/sklearn/preprocessing/label.py:151: DeprecationWarning: The truth value of an empty array is ambiguous. Returning False, but in future this will result in an error. Use `array.size > 0` to check that an array is not empty.\n",
      "  if diff:\n",
      "/home/hitkul/anaconda3/envs/ps3/lib/python3.6/site-packages/sklearn/preprocessing/label.py:151: DeprecationWarning: The truth value of an empty array is ambiguous. Returning False, but in future this will result in an error. Use `array.size > 0` to check that an array is not empty.\n",
      "  if diff:\n",
      "/home/hitkul/anaconda3/envs/ps3/lib/python3.6/site-packages/sklearn/preprocessing/label.py:151: DeprecationWarning: The truth value of an empty array is ambiguous. Returning False, but in future this will result in an error. Use `array.size > 0` to check that an array is not empty.\n",
      "  if diff:\n",
      "/home/hitkul/anaconda3/envs/ps3/lib/python3.6/site-packages/sklearn/preprocessing/label.py:151: DeprecationWarning: The truth value of an empty array is ambiguous. Returning False, but in future this will result in an error. Use `array.size > 0` to check that an array is not empty.\n",
      "  if diff:\n",
      "/home/hitkul/anaconda3/envs/ps3/lib/python3.6/site-packages/sklearn/preprocessing/label.py:151: DeprecationWarning: The truth value of an empty array is ambiguous. Returning False, but in future this will result in an error. Use `array.size > 0` to check that an array is not empty.\n",
      "  if diff:\n",
      "/home/hitkul/anaconda3/envs/ps3/lib/python3.6/site-packages/sklearn/preprocessing/label.py:151: DeprecationWarning: The truth value of an empty array is ambiguous. Returning False, but in future this will result in an error. Use `array.size > 0` to check that an array is not empty.\n",
      "  if diff:\n"
     ]
    },
    {
     "name": "stdout",
     "output_type": "stream",
     "text": [
      "[CV]  colsample_bytree=0.636061507717556, gamma=0.4054493267725887, max_depth=3, min_child_weight=4, reg_alpha=0.47562892158568226, reg_lambda=3.3232717137492602, subsample=0.5770833005079832, score=0.2653061224489796, total=   0.0s\n",
      "[CV]  colsample_bytree=0.5031932504440428, gamma=0.2078044430599341, max_depth=8, min_child_weight=8, reg_alpha=4.112724560515945, reg_lambda=6.104218249855111, subsample=0.5623422152178822, score=0.36, total=   0.0s\n",
      "[CV] colsample_bytree=0.5031932504440428, gamma=0.2078044430599341, max_depth=8, min_child_weight=8, reg_alpha=4.112724560515945, reg_lambda=6.104218249855111, subsample=0.5623422152178822 \n",
      "[CV]  colsample_bytree=0.5584289297070436, gamma=0.32972565896432254, max_depth=4, min_child_weight=7, reg_alpha=0.12227588747032872, reg_lambda=1.7777565856121607, subsample=0.6719880813472641, score=0.2653061224489796, total=   0.0s\n"
     ]
    },
    {
     "name": "stderr",
     "output_type": "stream",
     "text": [
      "/home/hitkul/anaconda3/envs/ps3/lib/python3.6/site-packages/sklearn/preprocessing/label.py:151: DeprecationWarning: The truth value of an empty array is ambiguous. Returning False, but in future this will result in an error. Use `array.size > 0` to check that an array is not empty.\n",
      "  if diff:\n"
     ]
    },
    {
     "name": "stdout",
     "output_type": "stream",
     "text": [
      "[CV] colsample_bytree=0.636061507717556, gamma=0.4054493267725887, max_depth=3, min_child_weight=4, reg_alpha=0.47562892158568226, reg_lambda=3.3232717137492602, subsample=0.5770833005079832 \n"
     ]
    },
    {
     "name": "stderr",
     "output_type": "stream",
     "text": [
      "[Parallel(n_jobs=4)]: Done  20 tasks      | elapsed:    0.4s\n"
     ]
    },
    {
     "name": "stdout",
     "output_type": "stream",
     "text": [
      "[CV] colsample_bytree=0.5584289297070436, gamma=0.32972565896432254, max_depth=4, min_child_weight=7, reg_alpha=0.12227588747032872, reg_lambda=1.7777565856121607, subsample=0.6719880813472641 \n",
      "[CV]  colsample_bytree=0.636061507717556, gamma=0.4054493267725887, max_depth=3, min_child_weight=4, reg_alpha=0.47562892158568226, reg_lambda=3.3232717137492602, subsample=0.5770833005079832, score=0.4230769230769231, total=   0.0s\n"
     ]
    },
    {
     "name": "stderr",
     "output_type": "stream",
     "text": [
      "/home/hitkul/anaconda3/envs/ps3/lib/python3.6/site-packages/sklearn/preprocessing/label.py:151: DeprecationWarning: The truth value of an empty array is ambiguous. Returning False, but in future this will result in an error. Use `array.size > 0` to check that an array is not empty.\n",
      "  if diff:\n",
      "/home/hitkul/anaconda3/envs/ps3/lib/python3.6/site-packages/sklearn/preprocessing/label.py:151: DeprecationWarning: The truth value of an empty array is ambiguous. Returning False, but in future this will result in an error. Use `array.size > 0` to check that an array is not empty.\n",
      "  if diff:\n"
     ]
    },
    {
     "name": "stdout",
     "output_type": "stream",
     "text": [
      "[CV]  colsample_bytree=0.636061507717556, gamma=0.4054493267725887, max_depth=3, min_child_weight=4, reg_alpha=0.47562892158568226, reg_lambda=3.3232717137492602, subsample=0.5770833005079832, score=0.2916666666666667, total=   0.0s\n"
     ]
    },
    {
     "name": "stderr",
     "output_type": "stream",
     "text": [
      "/home/hitkul/anaconda3/envs/ps3/lib/python3.6/site-packages/sklearn/preprocessing/label.py:151: DeprecationWarning: The truth value of an empty array is ambiguous. Returning False, but in future this will result in an error. Use `array.size > 0` to check that an array is not empty.\n",
      "  if diff:\n"
     ]
    },
    {
     "name": "stdout",
     "output_type": "stream",
     "text": [
      "[CV] colsample_bytree=0.636061507717556, gamma=0.4054493267725887, max_depth=3, min_child_weight=4, reg_alpha=0.47562892158568226, reg_lambda=3.3232717137492602, subsample=0.5770833005079832 \n",
      "[CV] colsample_bytree=0.5031932504440428, gamma=0.2078044430599341, max_depth=8, min_child_weight=8, reg_alpha=4.112724560515945, reg_lambda=6.104218249855111, subsample=0.5623422152178822 \n"
     ]
    },
    {
     "name": "stderr",
     "output_type": "stream",
     "text": [
      "/home/hitkul/anaconda3/envs/ps3/lib/python3.6/site-packages/sklearn/preprocessing/label.py:151: DeprecationWarning: The truth value of an empty array is ambiguous. Returning False, but in future this will result in an error. Use `array.size > 0` to check that an array is not empty.\n",
      "  if diff:\n",
      "/home/hitkul/anaconda3/envs/ps3/lib/python3.6/site-packages/sklearn/preprocessing/label.py:151: DeprecationWarning: The truth value of an empty array is ambiguous. Returning False, but in future this will result in an error. Use `array.size > 0` to check that an array is not empty.\n",
      "  if diff:\n",
      "/home/hitkul/anaconda3/envs/ps3/lib/python3.6/site-packages/sklearn/preprocessing/label.py:151: DeprecationWarning: The truth value of an empty array is ambiguous. Returning False, but in future this will result in an error. Use `array.size > 0` to check that an array is not empty.\n",
      "  if diff:\n"
     ]
    },
    {
     "name": "stdout",
     "output_type": "stream",
     "text": [
      "[CV]  colsample_bytree=0.5584289297070436, gamma=0.32972565896432254, max_depth=4, min_child_weight=7, reg_alpha=0.12227588747032872, reg_lambda=1.7777565856121607, subsample=0.6719880813472641, score=0.3673469387755102, total=   0.0s\n"
     ]
    },
    {
     "name": "stderr",
     "output_type": "stream",
     "text": [
      "/home/hitkul/anaconda3/envs/ps3/lib/python3.6/site-packages/sklearn/preprocessing/label.py:151: DeprecationWarning: The truth value of an empty array is ambiguous. Returning False, but in future this will result in an error. Use `array.size > 0` to check that an array is not empty.\n",
      "  if diff:\n"
     ]
    },
    {
     "name": "stdout",
     "output_type": "stream",
     "text": [
      "[CV]  colsample_bytree=0.5031932504440428, gamma=0.2078044430599341, max_depth=8, min_child_weight=8, reg_alpha=4.112724560515945, reg_lambda=6.104218249855111, subsample=0.5623422152178822, score=0.30612244897959184, total=   0.0s\n"
     ]
    },
    {
     "name": "stderr",
     "output_type": "stream",
     "text": [
      "/home/hitkul/anaconda3/envs/ps3/lib/python3.6/site-packages/sklearn/preprocessing/label.py:151: DeprecationWarning: The truth value of an empty array is ambiguous. Returning False, but in future this will result in an error. Use `array.size > 0` to check that an array is not empty.\n",
      "  if diff:\n"
     ]
    },
    {
     "name": "stdout",
     "output_type": "stream",
     "text": [
      "[CV] colsample_bytree=0.5031932504440428, gamma=0.2078044430599341, max_depth=8, min_child_weight=8, reg_alpha=4.112724560515945, reg_lambda=6.104218249855111, subsample=0.5623422152178822 \n"
     ]
    },
    {
     "name": "stderr",
     "output_type": "stream",
     "text": [
      "/home/hitkul/anaconda3/envs/ps3/lib/python3.6/site-packages/sklearn/preprocessing/label.py:151: DeprecationWarning: The truth value of an empty array is ambiguous. Returning False, but in future this will result in an error. Use `array.size > 0` to check that an array is not empty.\n",
      "  if diff:\n"
     ]
    },
    {
     "name": "stdout",
     "output_type": "stream",
     "text": [
      "[CV] colsample_bytree=0.6040136042355622, gamma=0.4920392514089517, max_depth=7, min_child_weight=2, reg_alpha=1.0931915802693124, reg_lambda=4.408805194743053, subsample=0.6843748470046234 \n"
     ]
    },
    {
     "name": "stderr",
     "output_type": "stream",
     "text": [
      "/home/hitkul/anaconda3/envs/ps3/lib/python3.6/site-packages/sklearn/preprocessing/label.py:151: DeprecationWarning: The truth value of an empty array is ambiguous. Returning False, but in future this will result in an error. Use `array.size > 0` to check that an array is not empty.\n",
      "  if diff:\n",
      "/home/hitkul/anaconda3/envs/ps3/lib/python3.6/site-packages/sklearn/preprocessing/label.py:151: DeprecationWarning: The truth value of an empty array is ambiguous. Returning False, but in future this will result in an error. Use `array.size > 0` to check that an array is not empty.\n",
      "  if diff:\n"
     ]
    },
    {
     "name": "stdout",
     "output_type": "stream",
     "text": [
      "[CV]  colsample_bytree=0.5031932504440428, gamma=0.2078044430599341, max_depth=8, min_child_weight=8, reg_alpha=4.112724560515945, reg_lambda=6.104218249855111, subsample=0.5623422152178822, score=0.3469387755102041, total=   0.0s\n",
      "[CV]  colsample_bytree=0.5031932504440428, gamma=0.2078044430599341, max_depth=8, min_child_weight=8, reg_alpha=4.112724560515945, reg_lambda=6.104218249855111, subsample=0.5623422152178822, score=0.30612244897959184, total=   0.0s\n"
     ]
    },
    {
     "name": "stderr",
     "output_type": "stream",
     "text": [
      "/home/hitkul/anaconda3/envs/ps3/lib/python3.6/site-packages/sklearn/preprocessing/label.py:151: DeprecationWarning: The truth value of an empty array is ambiguous. Returning False, but in future this will result in an error. Use `array.size > 0` to check that an array is not empty.\n",
      "  if diff:\n"
     ]
    },
    {
     "name": "stdout",
     "output_type": "stream",
     "text": [
      "[CV] colsample_bytree=0.6040136042355622, gamma=0.4920392514089517, max_depth=7, min_child_weight=2, reg_alpha=1.0931915802693124, reg_lambda=4.408805194743053, subsample=0.6843748470046234 \n",
      "[CV]  colsample_bytree=0.636061507717556, gamma=0.4054493267725887, max_depth=3, min_child_weight=4, reg_alpha=0.47562892158568226, reg_lambda=3.3232717137492602, subsample=0.5770833005079832, score=0.34615384615384615, total=   0.0s\n",
      "[CV] colsample_bytree=0.636061507717556, gamma=0.4054493267725887, max_depth=3, min_child_weight=4, reg_alpha=0.47562892158568226, reg_lambda=3.3232717137492602, subsample=0.5770833005079832 \n"
     ]
    },
    {
     "name": "stderr",
     "output_type": "stream",
     "text": [
      "/home/hitkul/anaconda3/envs/ps3/lib/python3.6/site-packages/sklearn/preprocessing/label.py:151: DeprecationWarning: The truth value of an empty array is ambiguous. Returning False, but in future this will result in an error. Use `array.size > 0` to check that an array is not empty.\n",
      "  if diff:\n",
      "/home/hitkul/anaconda3/envs/ps3/lib/python3.6/site-packages/sklearn/preprocessing/label.py:151: DeprecationWarning: The truth value of an empty array is ambiguous. Returning False, but in future this will result in an error. Use `array.size > 0` to check that an array is not empty.\n",
      "  if diff:\n",
      "/home/hitkul/anaconda3/envs/ps3/lib/python3.6/site-packages/sklearn/preprocessing/label.py:151: DeprecationWarning: The truth value of an empty array is ambiguous. Returning False, but in future this will result in an error. Use `array.size > 0` to check that an array is not empty.\n",
      "  if diff:\n",
      "/home/hitkul/anaconda3/envs/ps3/lib/python3.6/site-packages/sklearn/preprocessing/label.py:151: DeprecationWarning: The truth value of an empty array is ambiguous. Returning False, but in future this will result in an error. Use `array.size > 0` to check that an array is not empty.\n",
      "  if diff:\n"
     ]
    },
    {
     "name": "stdout",
     "output_type": "stream",
     "text": [
      "[CV]  colsample_bytree=0.6040136042355622, gamma=0.4920392514089517, max_depth=7, min_child_weight=2, reg_alpha=1.0931915802693124, reg_lambda=4.408805194743053, subsample=0.6843748470046234, score=0.2653061224489796, total=   0.0s\n",
      "[CV] colsample_bytree=0.6040136042355622, gamma=0.4920392514089517, max_depth=7, min_child_weight=2, reg_alpha=1.0931915802693124, reg_lambda=4.408805194743053, subsample=0.6843748470046234 \n"
     ]
    },
    {
     "name": "stderr",
     "output_type": "stream",
     "text": [
      "/home/hitkul/anaconda3/envs/ps3/lib/python3.6/site-packages/sklearn/preprocessing/label.py:151: DeprecationWarning: The truth value of an empty array is ambiguous. Returning False, but in future this will result in an error. Use `array.size > 0` to check that an array is not empty.\n",
      "  if diff:\n",
      "/home/hitkul/anaconda3/envs/ps3/lib/python3.6/site-packages/sklearn/preprocessing/label.py:151: DeprecationWarning: The truth value of an empty array is ambiguous. Returning False, but in future this will result in an error. Use `array.size > 0` to check that an array is not empty.\n",
      "  if diff:\n"
     ]
    },
    {
     "name": "stdout",
     "output_type": "stream",
     "text": [
      "[CV]  colsample_bytree=0.636061507717556, gamma=0.4054493267725887, max_depth=3, min_child_weight=4, reg_alpha=0.47562892158568226, reg_lambda=3.3232717137492602, subsample=0.5770833005079832, score=0.32, total=   0.0s\n",
      "[CV] colsample_bytree=0.5031932504440428, gamma=0.2078044430599341, max_depth=8, min_child_weight=8, reg_alpha=4.112724560515945, reg_lambda=6.104218249855111, subsample=0.5623422152178822 \n",
      "[CV]  colsample_bytree=0.6040136042355622, gamma=0.4920392514089517, max_depth=7, min_child_weight=2, reg_alpha=1.0931915802693124, reg_lambda=4.408805194743053, subsample=0.6843748470046234, score=0.34615384615384615, total=   0.0s\n"
     ]
    },
    {
     "name": "stderr",
     "output_type": "stream",
     "text": [
      "/home/hitkul/anaconda3/envs/ps3/lib/python3.6/site-packages/sklearn/preprocessing/label.py:151: DeprecationWarning: The truth value of an empty array is ambiguous. Returning False, but in future this will result in an error. Use `array.size > 0` to check that an array is not empty.\n",
      "  if diff:\n"
     ]
    },
    {
     "name": "stdout",
     "output_type": "stream",
     "text": [
      "[CV] colsample_bytree=0.6040136042355622, gamma=0.4920392514089517, max_depth=7, min_child_weight=2, reg_alpha=1.0931915802693124, reg_lambda=4.408805194743053, subsample=0.6843748470046234 \n",
      "[CV] colsample_bytree=0.5176985004103839, gamma=0.1763845761772307, max_depth=10, min_child_weight=8, reg_alpha=2.3659662473001166, reg_lambda=3.2959529921449215, subsample=0.6079384264778159 \n"
     ]
    },
    {
     "name": "stderr",
     "output_type": "stream",
     "text": [
      "/home/hitkul/anaconda3/envs/ps3/lib/python3.6/site-packages/sklearn/preprocessing/label.py:151: DeprecationWarning: The truth value of an empty array is ambiguous. Returning False, but in future this will result in an error. Use `array.size > 0` to check that an array is not empty.\n",
      "  if diff:\n",
      "/home/hitkul/anaconda3/envs/ps3/lib/python3.6/site-packages/sklearn/preprocessing/label.py:151: DeprecationWarning: The truth value of an empty array is ambiguous. Returning False, but in future this will result in an error. Use `array.size > 0` to check that an array is not empty.\n",
      "  if diff:\n",
      "/home/hitkul/anaconda3/envs/ps3/lib/python3.6/site-packages/sklearn/preprocessing/label.py:151: DeprecationWarning: The truth value of an empty array is ambiguous. Returning False, but in future this will result in an error. Use `array.size > 0` to check that an array is not empty.\n",
      "  if diff:\n"
     ]
    },
    {
     "name": "stdout",
     "output_type": "stream",
     "text": [
      "[CV]  colsample_bytree=0.6040136042355622, gamma=0.4920392514089517, max_depth=7, min_child_weight=2, reg_alpha=1.0931915802693124, reg_lambda=4.408805194743053, subsample=0.6843748470046234, score=0.3333333333333333, total=   0.0s\n",
      "[CV]  colsample_bytree=0.5031932504440428, gamma=0.2078044430599341, max_depth=8, min_child_weight=8, reg_alpha=4.112724560515945, reg_lambda=6.104218249855111, subsample=0.5623422152178822, score=0.3877551020408163, total=   0.0s\n",
      "[CV] colsample_bytree=0.5176985004103839, gamma=0.1763845761772307, max_depth=10, min_child_weight=8, reg_alpha=2.3659662473001166, reg_lambda=3.2959529921449215, subsample=0.6079384264778159 \n"
     ]
    },
    {
     "name": "stderr",
     "output_type": "stream",
     "text": [
      "/home/hitkul/anaconda3/envs/ps3/lib/python3.6/site-packages/sklearn/preprocessing/label.py:151: DeprecationWarning: The truth value of an empty array is ambiguous. Returning False, but in future this will result in an error. Use `array.size > 0` to check that an array is not empty.\n",
      "  if diff:\n",
      "/home/hitkul/anaconda3/envs/ps3/lib/python3.6/site-packages/sklearn/preprocessing/label.py:151: DeprecationWarning: The truth value of an empty array is ambiguous. Returning False, but in future this will result in an error. Use `array.size > 0` to check that an array is not empty.\n",
      "  if diff:\n"
     ]
    },
    {
     "name": "stdout",
     "output_type": "stream",
     "text": [
      "[CV] colsample_bytree=0.5031932504440428, gamma=0.2078044430599341, max_depth=8, min_child_weight=8, reg_alpha=4.112724560515945, reg_lambda=6.104218249855111, subsample=0.5623422152178822 \n"
     ]
    },
    {
     "name": "stderr",
     "output_type": "stream",
     "text": [
      "/home/hitkul/anaconda3/envs/ps3/lib/python3.6/site-packages/sklearn/preprocessing/label.py:151: DeprecationWarning: The truth value of an empty array is ambiguous. Returning False, but in future this will result in an error. Use `array.size > 0` to check that an array is not empty.\n",
      "  if diff:\n",
      "/home/hitkul/anaconda3/envs/ps3/lib/python3.6/site-packages/sklearn/preprocessing/label.py:151: DeprecationWarning: The truth value of an empty array is ambiguous. Returning False, but in future this will result in an error. Use `array.size > 0` to check that an array is not empty.\n",
      "  if diff:\n",
      "/home/hitkul/anaconda3/envs/ps3/lib/python3.6/site-packages/sklearn/preprocessing/label.py:151: DeprecationWarning: The truth value of an empty array is ambiguous. Returning False, but in future this will result in an error. Use `array.size > 0` to check that an array is not empty.\n",
      "  if diff:\n"
     ]
    },
    {
     "name": "stdout",
     "output_type": "stream",
     "text": [
      "[CV] colsample_bytree=0.5176985004103839, gamma=0.1763845761772307, max_depth=10, min_child_weight=8, reg_alpha=2.3659662473001166, reg_lambda=3.2959529921449215, subsample=0.6079384264778159 \n",
      "[CV]  colsample_bytree=0.5176985004103839, gamma=0.1763845761772307, max_depth=10, min_child_weight=8, reg_alpha=2.3659662473001166, reg_lambda=3.2959529921449215, subsample=0.6079384264778159, score=0.30612244897959184, total=   0.0s\n"
     ]
    },
    {
     "name": "stderr",
     "output_type": "stream",
     "text": [
      "/home/hitkul/anaconda3/envs/ps3/lib/python3.6/site-packages/sklearn/preprocessing/label.py:151: DeprecationWarning: The truth value of an empty array is ambiguous. Returning False, but in future this will result in an error. Use `array.size > 0` to check that an array is not empty.\n",
      "  if diff:\n"
     ]
    },
    {
     "name": "stdout",
     "output_type": "stream",
     "text": [
      "[CV]  colsample_bytree=0.5176985004103839, gamma=0.1763845761772307, max_depth=10, min_child_weight=8, reg_alpha=2.3659662473001166, reg_lambda=3.2959529921449215, subsample=0.6079384264778159, score=0.39622641509433965, total=   0.0s\n"
     ]
    },
    {
     "name": "stderr",
     "output_type": "stream",
     "text": [
      "/home/hitkul/anaconda3/envs/ps3/lib/python3.6/site-packages/sklearn/preprocessing/label.py:151: DeprecationWarning: The truth value of an empty array is ambiguous. Returning False, but in future this will result in an error. Use `array.size > 0` to check that an array is not empty.\n",
      "  if diff:\n"
     ]
    },
    {
     "name": "stdout",
     "output_type": "stream",
     "text": [
      "[CV] colsample_bytree=0.5176985004103839, gamma=0.1763845761772307, max_depth=10, min_child_weight=8, reg_alpha=2.3659662473001166, reg_lambda=3.2959529921449215, subsample=0.6079384264778159 \n"
     ]
    },
    {
     "name": "stderr",
     "output_type": "stream",
     "text": [
      "/home/hitkul/anaconda3/envs/ps3/lib/python3.6/site-packages/sklearn/preprocessing/label.py:151: DeprecationWarning: The truth value of an empty array is ambiguous. Returning False, but in future this will result in an error. Use `array.size > 0` to check that an array is not empty.\n",
      "  if diff:\n",
      "/home/hitkul/anaconda3/envs/ps3/lib/python3.6/site-packages/sklearn/preprocessing/label.py:151: DeprecationWarning: The truth value of an empty array is ambiguous. Returning False, but in future this will result in an error. Use `array.size > 0` to check that an array is not empty.\n",
      "  if diff:\n"
     ]
    },
    {
     "name": "stdout",
     "output_type": "stream",
     "text": [
      "[CV]  colsample_bytree=0.6040136042355622, gamma=0.4920392514089517, max_depth=7, min_child_weight=2, reg_alpha=1.0931915802693124, reg_lambda=4.408805194743053, subsample=0.6843748470046234, score=0.34, total=   0.0s\n",
      "[CV]  colsample_bytree=0.5176985004103839, gamma=0.1763845761772307, max_depth=10, min_child_weight=8, reg_alpha=2.3659662473001166, reg_lambda=3.2959529921449215, subsample=0.6079384264778159, score=0.3673469387755102, total=   0.0s\n"
     ]
    },
    {
     "name": "stderr",
     "output_type": "stream",
     "text": [
      "/home/hitkul/anaconda3/envs/ps3/lib/python3.6/site-packages/sklearn/preprocessing/label.py:151: DeprecationWarning: The truth value of an empty array is ambiguous. Returning False, but in future this will result in an error. Use `array.size > 0` to check that an array is not empty.\n",
      "  if diff:\n"
     ]
    },
    {
     "name": "stdout",
     "output_type": "stream",
     "text": [
      "[CV] colsample_bytree=0.6040136042355622, gamma=0.4920392514089517, max_depth=7, min_child_weight=2, reg_alpha=1.0931915802693124, reg_lambda=4.408805194743053, subsample=0.6843748470046234 \n"
     ]
    },
    {
     "name": "stderr",
     "output_type": "stream",
     "text": [
      "/home/hitkul/anaconda3/envs/ps3/lib/python3.6/site-packages/sklearn/preprocessing/label.py:151: DeprecationWarning: The truth value of an empty array is ambiguous. Returning False, but in future this will result in an error. Use `array.size > 0` to check that an array is not empty.\n",
      "  if diff:\n",
      "/home/hitkul/anaconda3/envs/ps3/lib/python3.6/site-packages/sklearn/preprocessing/label.py:151: DeprecationWarning: The truth value of an empty array is ambiguous. Returning False, but in future this will result in an error. Use `array.size > 0` to check that an array is not empty.\n",
      "  if diff:\n"
     ]
    },
    {
     "name": "stdout",
     "output_type": "stream",
     "text": [
      "[CV]  colsample_bytree=0.5176985004103839, gamma=0.1763845761772307, max_depth=10, min_child_weight=8, reg_alpha=2.3659662473001166, reg_lambda=3.2959529921449215, subsample=0.6079384264778159, score=0.4423076923076923, total=   0.0s\n",
      "[CV] colsample_bytree=0.5176985004103839, gamma=0.1763845761772307, max_depth=10, min_child_weight=8, reg_alpha=2.3659662473001166, reg_lambda=3.2959529921449215, subsample=0.6079384264778159 \n",
      "[CV] colsample_bytree=0.5176985004103839, gamma=0.1763845761772307, max_depth=10, min_child_weight=8, reg_alpha=2.3659662473001166, reg_lambda=3.2959529921449215, subsample=0.6079384264778159 \n",
      "[CV]  colsample_bytree=0.5031932504440428, gamma=0.2078044430599341, max_depth=8, min_child_weight=8, reg_alpha=4.112724560515945, reg_lambda=6.104218249855111, subsample=0.5623422152178822, score=0.2653061224489796, total=   0.0s\n"
     ]
    },
    {
     "name": "stderr",
     "output_type": "stream",
     "text": [
      "/home/hitkul/anaconda3/envs/ps3/lib/python3.6/site-packages/sklearn/preprocessing/label.py:151: DeprecationWarning: The truth value of an empty array is ambiguous. Returning False, but in future this will result in an error. Use `array.size > 0` to check that an array is not empty.\n",
      "  if diff:\n"
     ]
    },
    {
     "name": "stdout",
     "output_type": "stream",
     "text": [
      "[CV] colsample_bytree=0.5031932504440428, gamma=0.2078044430599341, max_depth=8, min_child_weight=8, reg_alpha=4.112724560515945, reg_lambda=6.104218249855111, subsample=0.5623422152178822 \n"
     ]
    },
    {
     "name": "stderr",
     "output_type": "stream",
     "text": [
      "/home/hitkul/anaconda3/envs/ps3/lib/python3.6/site-packages/sklearn/preprocessing/label.py:151: DeprecationWarning: The truth value of an empty array is ambiguous. Returning False, but in future this will result in an error. Use `array.size > 0` to check that an array is not empty.\n",
      "  if diff:\n",
      "/home/hitkul/anaconda3/envs/ps3/lib/python3.6/site-packages/sklearn/preprocessing/label.py:151: DeprecationWarning: The truth value of an empty array is ambiguous. Returning False, but in future this will result in an error. Use `array.size > 0` to check that an array is not empty.\n",
      "  if diff:\n",
      "/home/hitkul/anaconda3/envs/ps3/lib/python3.6/site-packages/sklearn/preprocessing/label.py:151: DeprecationWarning: The truth value of an empty array is ambiguous. Returning False, but in future this will result in an error. Use `array.size > 0` to check that an array is not empty.\n",
      "  if diff:\n"
     ]
    },
    {
     "name": "stdout",
     "output_type": "stream",
     "text": [
      "[CV]  colsample_bytree=0.6040136042355622, gamma=0.4920392514089517, max_depth=7, min_child_weight=2, reg_alpha=1.0931915802693124, reg_lambda=4.408805194743053, subsample=0.6843748470046234, score=0.30612244897959184, total=   0.0s\n"
     ]
    },
    {
     "name": "stderr",
     "output_type": "stream",
     "text": [
      "/home/hitkul/anaconda3/envs/ps3/lib/python3.6/site-packages/sklearn/preprocessing/label.py:151: DeprecationWarning: The truth value of an empty array is ambiguous. Returning False, but in future this will result in an error. Use `array.size > 0` to check that an array is not empty.\n",
      "  if diff:\n"
     ]
    },
    {
     "name": "stdout",
     "output_type": "stream",
     "text": [
      "[CV]  colsample_bytree=0.5176985004103839, gamma=0.1763845761772307, max_depth=10, min_child_weight=8, reg_alpha=2.3659662473001166, reg_lambda=3.2959529921449215, subsample=0.6079384264778159, score=0.2653061224489796, total=   0.0s\n",
      "[CV] colsample_bytree=0.5176985004103839, gamma=0.1763845761772307, max_depth=10, min_child_weight=8, reg_alpha=2.3659662473001166, reg_lambda=3.2959529921449215, subsample=0.6079384264778159 \n",
      "[CV] colsample_bytree=0.6040136042355622, gamma=0.4920392514089517, max_depth=7, min_child_weight=2, reg_alpha=1.0931915802693124, reg_lambda=4.408805194743053, subsample=0.6843748470046234 \n"
     ]
    },
    {
     "name": "stderr",
     "output_type": "stream",
     "text": [
      "/home/hitkul/anaconda3/envs/ps3/lib/python3.6/site-packages/sklearn/preprocessing/label.py:151: DeprecationWarning: The truth value of an empty array is ambiguous. Returning False, but in future this will result in an error. Use `array.size > 0` to check that an array is not empty.\n",
      "  if diff:\n",
      "/home/hitkul/anaconda3/envs/ps3/lib/python3.6/site-packages/sklearn/preprocessing/label.py:151: DeprecationWarning: The truth value of an empty array is ambiguous. Returning False, but in future this will result in an error. Use `array.size > 0` to check that an array is not empty.\n",
      "  if diff:\n",
      "/home/hitkul/anaconda3/envs/ps3/lib/python3.6/site-packages/sklearn/preprocessing/label.py:151: DeprecationWarning: The truth value of an empty array is ambiguous. Returning False, but in future this will result in an error. Use `array.size > 0` to check that an array is not empty.\n",
      "  if diff:\n",
      "/home/hitkul/anaconda3/envs/ps3/lib/python3.6/site-packages/sklearn/preprocessing/label.py:151: DeprecationWarning: The truth value of an empty array is ambiguous. Returning False, but in future this will result in an error. Use `array.size > 0` to check that an array is not empty.\n",
      "  if diff:\n",
      "/home/hitkul/anaconda3/envs/ps3/lib/python3.6/site-packages/sklearn/preprocessing/label.py:151: DeprecationWarning: The truth value of an empty array is ambiguous. Returning False, but in future this will result in an error. Use `array.size > 0` to check that an array is not empty.\n",
      "  if diff:\n"
     ]
    },
    {
     "name": "stdout",
     "output_type": "stream",
     "text": [
      "[CV]  colsample_bytree=0.5031932504440428, gamma=0.2078044430599341, max_depth=8, min_child_weight=8, reg_alpha=4.112724560515945, reg_lambda=6.104218249855111, subsample=0.5623422152178822, score=0.2916666666666667, total=   0.0s\n",
      "[CV]  colsample_bytree=0.5176985004103839, gamma=0.1763845761772307, max_depth=10, min_child_weight=8, reg_alpha=2.3659662473001166, reg_lambda=3.2959529921449215, subsample=0.6079384264778159, score=0.3877551020408163, total=   0.0s\n",
      "[CV]  colsample_bytree=0.5176985004103839, gamma=0.1763845761772307, max_depth=10, min_child_weight=8, reg_alpha=2.3659662473001166, reg_lambda=3.2959529921449215, subsample=0.6079384264778159, score=0.34615384615384615, total=   0.0s\n"
     ]
    },
    {
     "name": "stderr",
     "output_type": "stream",
     "text": [
      "/home/hitkul/anaconda3/envs/ps3/lib/python3.6/site-packages/sklearn/preprocessing/label.py:151: DeprecationWarning: The truth value of an empty array is ambiguous. Returning False, but in future this will result in an error. Use `array.size > 0` to check that an array is not empty.\n",
      "  if diff:\n"
     ]
    },
    {
     "name": "stdout",
     "output_type": "stream",
     "text": [
      "[CV] colsample_bytree=0.6040136042355622, gamma=0.4920392514089517, max_depth=7, min_child_weight=2, reg_alpha=1.0931915802693124, reg_lambda=4.408805194743053, subsample=0.6843748470046234 \n"
     ]
    },
    {
     "name": "stderr",
     "output_type": "stream",
     "text": [
      "/home/hitkul/anaconda3/envs/ps3/lib/python3.6/site-packages/sklearn/preprocessing/label.py:151: DeprecationWarning: The truth value of an empty array is ambiguous. Returning False, but in future this will result in an error. Use `array.size > 0` to check that an array is not empty.\n",
      "  if diff:\n"
     ]
    },
    {
     "name": "stdout",
     "output_type": "stream",
     "text": [
      "[CV] colsample_bytree=0.5176985004103839, gamma=0.1763845761772307, max_depth=10, min_child_weight=8, reg_alpha=2.3659662473001166, reg_lambda=3.2959529921449215, subsample=0.6079384264778159 \n",
      "[CV]  colsample_bytree=0.6040136042355622, gamma=0.4920392514089517, max_depth=7, min_child_weight=2, reg_alpha=1.0931915802693124, reg_lambda=4.408805194743053, subsample=0.6843748470046234, score=0.3469387755102041, total=   0.0s\n",
      "[CV] colsample_bytree=0.6040136042355622, gamma=0.4920392514089517, max_depth=7, min_child_weight=2, reg_alpha=1.0931915802693124, reg_lambda=4.408805194743053, subsample=0.6843748470046234 \n"
     ]
    },
    {
     "name": "stderr",
     "output_type": "stream",
     "text": [
      "/home/hitkul/anaconda3/envs/ps3/lib/python3.6/site-packages/sklearn/preprocessing/label.py:151: DeprecationWarning: The truth value of an empty array is ambiguous. Returning False, but in future this will result in an error. Use `array.size > 0` to check that an array is not empty.\n",
      "  if diff:\n",
      "/home/hitkul/anaconda3/envs/ps3/lib/python3.6/site-packages/sklearn/preprocessing/label.py:151: DeprecationWarning: The truth value of an empty array is ambiguous. Returning False, but in future this will result in an error. Use `array.size > 0` to check that an array is not empty.\n",
      "  if diff:\n"
     ]
    },
    {
     "name": "stdout",
     "output_type": "stream",
     "text": [
      "[CV] colsample_bytree=0.5176985004103839, gamma=0.1763845761772307, max_depth=10, min_child_weight=8, reg_alpha=2.3659662473001166, reg_lambda=3.2959529921449215, subsample=0.6079384264778159 \n"
     ]
    },
    {
     "name": "stderr",
     "output_type": "stream",
     "text": [
      "/home/hitkul/anaconda3/envs/ps3/lib/python3.6/site-packages/sklearn/preprocessing/label.py:151: DeprecationWarning: The truth value of an empty array is ambiguous. Returning False, but in future this will result in an error. Use `array.size > 0` to check that an array is not empty.\n",
      "  if diff:\n",
      "/home/hitkul/anaconda3/envs/ps3/lib/python3.6/site-packages/sklearn/preprocessing/label.py:151: DeprecationWarning: The truth value of an empty array is ambiguous. Returning False, but in future this will result in an error. Use `array.size > 0` to check that an array is not empty.\n",
      "  if diff:\n",
      "/home/hitkul/anaconda3/envs/ps3/lib/python3.6/site-packages/sklearn/preprocessing/label.py:151: DeprecationWarning: The truth value of an empty array is ambiguous. Returning False, but in future this will result in an error. Use `array.size > 0` to check that an array is not empty.\n",
      "  if diff:\n"
     ]
    },
    {
     "name": "stdout",
     "output_type": "stream",
     "text": [
      "[CV]  colsample_bytree=0.5176985004103839, gamma=0.1763845761772307, max_depth=10, min_child_weight=8, reg_alpha=2.3659662473001166, reg_lambda=3.2959529921449215, subsample=0.6079384264778159, score=0.34, total=   0.0s\n"
     ]
    },
    {
     "name": "stderr",
     "output_type": "stream",
     "text": [
      "/home/hitkul/anaconda3/envs/ps3/lib/python3.6/site-packages/sklearn/preprocessing/label.py:151: DeprecationWarning: The truth value of an empty array is ambiguous. Returning False, but in future this will result in an error. Use `array.size > 0` to check that an array is not empty.\n",
      "  if diff:\n"
     ]
    },
    {
     "name": "stdout",
     "output_type": "stream",
     "text": [
      "[CV]  colsample_bytree=0.6040136042355622, gamma=0.4920392514089517, max_depth=7, min_child_weight=2, reg_alpha=1.0931915802693124, reg_lambda=4.408805194743053, subsample=0.6843748470046234, score=0.3584905660377358, total=   0.0s\n",
      "[CV] colsample_bytree=0.6173502331327696, gamma=0.8687297765377242, max_depth=10, min_child_weight=1, reg_alpha=0.21768401236748952, reg_lambda=1.376504551231964, subsample=0.578976303635114 \n",
      "[CV] colsample_bytree=0.6040136042355622, gamma=0.4920392514089517, max_depth=7, min_child_weight=2, reg_alpha=1.0931915802693124, reg_lambda=4.408805194743053, subsample=0.6843748470046234 \n"
     ]
    },
    {
     "name": "stderr",
     "output_type": "stream",
     "text": [
      "/home/hitkul/anaconda3/envs/ps3/lib/python3.6/site-packages/sklearn/preprocessing/label.py:151: DeprecationWarning: The truth value of an empty array is ambiguous. Returning False, but in future this will result in an error. Use `array.size > 0` to check that an array is not empty.\n",
      "  if diff:\n"
     ]
    },
    {
     "name": "stdout",
     "output_type": "stream",
     "text": [
      "[CV]  colsample_bytree=0.6040136042355622, gamma=0.4920392514089517, max_depth=7, min_child_weight=2, reg_alpha=1.0931915802693124, reg_lambda=4.408805194743053, subsample=0.6843748470046234, score=0.2653061224489796, total=   0.0s\n"
     ]
    },
    {
     "name": "stderr",
     "output_type": "stream",
     "text": [
      "/home/hitkul/anaconda3/envs/ps3/lib/python3.6/site-packages/sklearn/preprocessing/label.py:151: DeprecationWarning: The truth value of an empty array is ambiguous. Returning False, but in future this will result in an error. Use `array.size > 0` to check that an array is not empty.\n",
      "  if diff:\n"
     ]
    },
    {
     "name": "stdout",
     "output_type": "stream",
     "text": [
      "[CV]  colsample_bytree=0.5176985004103839, gamma=0.1763845761772307, max_depth=10, min_child_weight=8, reg_alpha=2.3659662473001166, reg_lambda=3.2959529921449215, subsample=0.6079384264778159, score=0.2857142857142857, total=   0.0s\n"
     ]
    },
    {
     "name": "stderr",
     "output_type": "stream",
     "text": [
      "/home/hitkul/anaconda3/envs/ps3/lib/python3.6/site-packages/sklearn/preprocessing/label.py:151: DeprecationWarning: The truth value of an empty array is ambiguous. Returning False, but in future this will result in an error. Use `array.size > 0` to check that an array is not empty.\n",
      "  if diff:\n"
     ]
    },
    {
     "name": "stdout",
     "output_type": "stream",
     "text": [
      "[CV] colsample_bytree=0.6040136042355622, gamma=0.4920392514089517, max_depth=7, min_child_weight=2, reg_alpha=1.0931915802693124, reg_lambda=4.408805194743053, subsample=0.6843748470046234 \n"
     ]
    },
    {
     "name": "stderr",
     "output_type": "stream",
     "text": [
      "/home/hitkul/anaconda3/envs/ps3/lib/python3.6/site-packages/sklearn/preprocessing/label.py:151: DeprecationWarning: The truth value of an empty array is ambiguous. Returning False, but in future this will result in an error. Use `array.size > 0` to check that an array is not empty.\n",
      "  if diff:\n"
     ]
    },
    {
     "name": "stdout",
     "output_type": "stream",
     "text": [
      "[CV] colsample_bytree=0.6173502331327696, gamma=0.8687297765377242, max_depth=10, min_child_weight=1, reg_alpha=0.21768401236748952, reg_lambda=1.376504551231964, subsample=0.578976303635114 \n",
      "[CV]  colsample_bytree=0.6040136042355622, gamma=0.4920392514089517, max_depth=7, min_child_weight=2, reg_alpha=1.0931915802693124, reg_lambda=4.408805194743053, subsample=0.6843748470046234, score=0.4230769230769231, total=   0.0s\n"
     ]
    },
    {
     "name": "stderr",
     "output_type": "stream",
     "text": [
      "/home/hitkul/anaconda3/envs/ps3/lib/python3.6/site-packages/sklearn/preprocessing/label.py:151: DeprecationWarning: The truth value of an empty array is ambiguous. Returning False, but in future this will result in an error. Use `array.size > 0` to check that an array is not empty.\n",
      "  if diff:\n"
     ]
    },
    {
     "name": "stdout",
     "output_type": "stream",
     "text": [
      "[CV] colsample_bytree=0.5176985004103839, gamma=0.1763845761772307, max_depth=10, min_child_weight=8, reg_alpha=2.3659662473001166, reg_lambda=3.2959529921449215, subsample=0.6079384264778159 \n"
     ]
    },
    {
     "name": "stderr",
     "output_type": "stream",
     "text": [
      "/home/hitkul/anaconda3/envs/ps3/lib/python3.6/site-packages/sklearn/preprocessing/label.py:151: DeprecationWarning: The truth value of an empty array is ambiguous. Returning False, but in future this will result in an error. Use `array.size > 0` to check that an array is not empty.\n",
      "  if diff:\n",
      "/home/hitkul/anaconda3/envs/ps3/lib/python3.6/site-packages/sklearn/preprocessing/label.py:151: DeprecationWarning: The truth value of an empty array is ambiguous. Returning False, but in future this will result in an error. Use `array.size > 0` to check that an array is not empty.\n",
      "  if diff:\n",
      "/home/hitkul/anaconda3/envs/ps3/lib/python3.6/site-packages/sklearn/preprocessing/label.py:151: DeprecationWarning: The truth value of an empty array is ambiguous. Returning False, but in future this will result in an error. Use `array.size > 0` to check that an array is not empty.\n",
      "  if diff:\n"
     ]
    },
    {
     "name": "stdout",
     "output_type": "stream",
     "text": [
      "[CV]  colsample_bytree=0.6040136042355622, gamma=0.4920392514089517, max_depth=7, min_child_weight=2, reg_alpha=1.0931915802693124, reg_lambda=4.408805194743053, subsample=0.6843748470046234, score=0.3673469387755102, total=   0.0s\n"
     ]
    },
    {
     "name": "stderr",
     "output_type": "stream",
     "text": [
      "/home/hitkul/anaconda3/envs/ps3/lib/python3.6/site-packages/sklearn/preprocessing/label.py:151: DeprecationWarning: The truth value of an empty array is ambiguous. Returning False, but in future this will result in an error. Use `array.size > 0` to check that an array is not empty.\n",
      "  if diff:\n",
      "/home/hitkul/anaconda3/envs/ps3/lib/python3.6/site-packages/sklearn/preprocessing/label.py:151: DeprecationWarning: The truth value of an empty array is ambiguous. Returning False, but in future this will result in an error. Use `array.size > 0` to check that an array is not empty.\n",
      "  if diff:\n"
     ]
    },
    {
     "name": "stdout",
     "output_type": "stream",
     "text": [
      "[CV] colsample_bytree=0.5586976349436076, gamma=0.012671840443576011, max_depth=4, min_child_weight=1, reg_alpha=4.65292200385551, reg_lambda=3.3888370483667076, subsample=0.6211919949562023 \n",
      "[CV]  colsample_bytree=0.6173502331327696, gamma=0.8687297765377242, max_depth=10, min_child_weight=1, reg_alpha=0.21768401236748952, reg_lambda=1.376504551231964, subsample=0.578976303635114, score=0.2641509433962264, total=   0.0s\n"
     ]
    },
    {
     "name": "stderr",
     "output_type": "stream",
     "text": [
      "/home/hitkul/anaconda3/envs/ps3/lib/python3.6/site-packages/sklearn/preprocessing/label.py:151: DeprecationWarning: The truth value of an empty array is ambiguous. Returning False, but in future this will result in an error. Use `array.size > 0` to check that an array is not empty.\n",
      "  if diff:\n",
      "/home/hitkul/anaconda3/envs/ps3/lib/python3.6/site-packages/sklearn/preprocessing/label.py:151: DeprecationWarning: The truth value of an empty array is ambiguous. Returning False, but in future this will result in an error. Use `array.size > 0` to check that an array is not empty.\n",
      "  if diff:\n"
     ]
    },
    {
     "name": "stdout",
     "output_type": "stream",
     "text": [
      "[CV]  colsample_bytree=0.5176985004103839, gamma=0.1763845761772307, max_depth=10, min_child_weight=8, reg_alpha=2.3659662473001166, reg_lambda=3.2959529921449215, subsample=0.6079384264778159, score=0.2916666666666667, total=   0.0s\n"
     ]
    },
    {
     "name": "stderr",
     "output_type": "stream",
     "text": [
      "/home/hitkul/anaconda3/envs/ps3/lib/python3.6/site-packages/sklearn/preprocessing/label.py:151: DeprecationWarning: The truth value of an empty array is ambiguous. Returning False, but in future this will result in an error. Use `array.size > 0` to check that an array is not empty.\n",
      "  if diff:\n"
     ]
    },
    {
     "name": "stdout",
     "output_type": "stream",
     "text": [
      "[CV] colsample_bytree=0.6173502331327696, gamma=0.8687297765377242, max_depth=10, min_child_weight=1, reg_alpha=0.21768401236748952, reg_lambda=1.376504551231964, subsample=0.578976303635114 \n",
      "[CV] colsample_bytree=0.5586976349436076, gamma=0.012671840443576011, max_depth=4, min_child_weight=1, reg_alpha=4.65292200385551, reg_lambda=3.3888370483667076, subsample=0.6211919949562023 \n"
     ]
    },
    {
     "name": "stderr",
     "output_type": "stream",
     "text": [
      "/home/hitkul/anaconda3/envs/ps3/lib/python3.6/site-packages/sklearn/preprocessing/label.py:151: DeprecationWarning: The truth value of an empty array is ambiguous. Returning False, but in future this will result in an error. Use `array.size > 0` to check that an array is not empty.\n",
      "  if diff:\n"
     ]
    },
    {
     "name": "stdout",
     "output_type": "stream",
     "text": [
      "[CV]  colsample_bytree=0.5586976349436076, gamma=0.012671840443576011, max_depth=4, min_child_weight=1, reg_alpha=4.65292200385551, reg_lambda=3.3888370483667076, subsample=0.6211919949562023, score=0.34615384615384615, total=   0.0s\n",
      "[CV]  colsample_bytree=0.6173502331327696, gamma=0.8687297765377242, max_depth=10, min_child_weight=1, reg_alpha=0.21768401236748952, reg_lambda=1.376504551231964, subsample=0.578976303635114, score=0.2653061224489796, total=   0.0s\n",
      "[CV] colsample_bytree=0.6173502331327696, gamma=0.8687297765377242, max_depth=10, min_child_weight=1, reg_alpha=0.21768401236748952, reg_lambda=1.376504551231964, subsample=0.578976303635114 \n"
     ]
    },
    {
     "name": "stderr",
     "output_type": "stream",
     "text": [
      "/home/hitkul/anaconda3/envs/ps3/lib/python3.6/site-packages/sklearn/preprocessing/label.py:151: DeprecationWarning: The truth value of an empty array is ambiguous. Returning False, but in future this will result in an error. Use `array.size > 0` to check that an array is not empty.\n",
      "  if diff:\n",
      "/home/hitkul/anaconda3/envs/ps3/lib/python3.6/site-packages/sklearn/preprocessing/label.py:151: DeprecationWarning: The truth value of an empty array is ambiguous. Returning False, but in future this will result in an error. Use `array.size > 0` to check that an array is not empty.\n",
      "  if diff:\n"
     ]
    },
    {
     "name": "stdout",
     "output_type": "stream",
     "text": [
      "[CV] colsample_bytree=0.5586976349436076, gamma=0.012671840443576011, max_depth=4, min_child_weight=1, reg_alpha=4.65292200385551, reg_lambda=3.3888370483667076, subsample=0.6211919949562023 \n"
     ]
    },
    {
     "name": "stderr",
     "output_type": "stream",
     "text": [
      "/home/hitkul/anaconda3/envs/ps3/lib/python3.6/site-packages/sklearn/preprocessing/label.py:151: DeprecationWarning: The truth value of an empty array is ambiguous. Returning False, but in future this will result in an error. Use `array.size > 0` to check that an array is not empty.\n",
      "  if diff:\n"
     ]
    },
    {
     "name": "stdout",
     "output_type": "stream",
     "text": [
      "[CV]  colsample_bytree=0.6173502331327696, gamma=0.8687297765377242, max_depth=10, min_child_weight=1, reg_alpha=0.21768401236748952, reg_lambda=1.376504551231964, subsample=0.578976303635114, score=0.36538461538461536, total=   0.0s\n"
     ]
    },
    {
     "name": "stderr",
     "output_type": "stream",
     "text": [
      "/home/hitkul/anaconda3/envs/ps3/lib/python3.6/site-packages/sklearn/preprocessing/label.py:151: DeprecationWarning: The truth value of an empty array is ambiguous. Returning False, but in future this will result in an error. Use `array.size > 0` to check that an array is not empty.\n",
      "  if diff:\n"
     ]
    },
    {
     "name": "stdout",
     "output_type": "stream",
     "text": [
      "[CV] colsample_bytree=0.5586976349436076, gamma=0.012671840443576011, max_depth=4, min_child_weight=1, reg_alpha=4.65292200385551, reg_lambda=3.3888370483667076, subsample=0.6211919949562023 \n"
     ]
    },
    {
     "name": "stderr",
     "output_type": "stream",
     "text": [
      "/home/hitkul/anaconda3/envs/ps3/lib/python3.6/site-packages/sklearn/preprocessing/label.py:151: DeprecationWarning: The truth value of an empty array is ambiguous. Returning False, but in future this will result in an error. Use `array.size > 0` to check that an array is not empty.\n",
      "  if diff:\n"
     ]
    },
    {
     "name": "stdout",
     "output_type": "stream",
     "text": [
      "[CV]  colsample_bytree=0.5586976349436076, gamma=0.012671840443576011, max_depth=4, min_child_weight=1, reg_alpha=4.65292200385551, reg_lambda=3.3888370483667076, subsample=0.6211919949562023, score=0.2857142857142857, total=   0.0s\n",
      "[CV] colsample_bytree=0.6173502331327696, gamma=0.8687297765377242, max_depth=10, min_child_weight=1, reg_alpha=0.21768401236748952, reg_lambda=1.376504551231964, subsample=0.578976303635114 \n"
     ]
    },
    {
     "name": "stderr",
     "output_type": "stream",
     "text": [
      "/home/hitkul/anaconda3/envs/ps3/lib/python3.6/site-packages/sklearn/preprocessing/label.py:151: DeprecationWarning: The truth value of an empty array is ambiguous. Returning False, but in future this will result in an error. Use `array.size > 0` to check that an array is not empty.\n",
      "  if diff:\n",
      "/home/hitkul/anaconda3/envs/ps3/lib/python3.6/site-packages/sklearn/preprocessing/label.py:151: DeprecationWarning: The truth value of an empty array is ambiguous. Returning False, but in future this will result in an error. Use `array.size > 0` to check that an array is not empty.\n",
      "  if diff:\n"
     ]
    },
    {
     "name": "stdout",
     "output_type": "stream",
     "text": [
      "[CV]  colsample_bytree=0.5586976349436076, gamma=0.012671840443576011, max_depth=4, min_child_weight=1, reg_alpha=4.65292200385551, reg_lambda=3.3888370483667076, subsample=0.6211919949562023, score=0.34, total=   0.0s\n"
     ]
    },
    {
     "name": "stderr",
     "output_type": "stream",
     "text": [
      "/home/hitkul/anaconda3/envs/ps3/lib/python3.6/site-packages/sklearn/preprocessing/label.py:151: DeprecationWarning: The truth value of an empty array is ambiguous. Returning False, but in future this will result in an error. Use `array.size > 0` to check that an array is not empty.\n",
      "  if diff:\n",
      "/home/hitkul/anaconda3/envs/ps3/lib/python3.6/site-packages/sklearn/preprocessing/label.py:151: DeprecationWarning: The truth value of an empty array is ambiguous. Returning False, but in future this will result in an error. Use `array.size > 0` to check that an array is not empty.\n",
      "  if diff:\n"
     ]
    },
    {
     "name": "stdout",
     "output_type": "stream",
     "text": [
      "[CV] colsample_bytree=0.5586976349436076, gamma=0.012671840443576011, max_depth=4, min_child_weight=1, reg_alpha=4.65292200385551, reg_lambda=3.3888370483667076, subsample=0.6211919949562023 \n"
     ]
    },
    {
     "name": "stderr",
     "output_type": "stream",
     "text": [
      "/home/hitkul/anaconda3/envs/ps3/lib/python3.6/site-packages/sklearn/preprocessing/label.py:151: DeprecationWarning: The truth value of an empty array is ambiguous. Returning False, but in future this will result in an error. Use `array.size > 0` to check that an array is not empty.\n",
      "  if diff:\n",
      "/home/hitkul/anaconda3/envs/ps3/lib/python3.6/site-packages/sklearn/preprocessing/label.py:151: DeprecationWarning: The truth value of an empty array is ambiguous. Returning False, but in future this will result in an error. Use `array.size > 0` to check that an array is not empty.\n",
      "  if diff:\n"
     ]
    },
    {
     "name": "stdout",
     "output_type": "stream",
     "text": [
      "[CV]  colsample_bytree=0.6173502331327696, gamma=0.8687297765377242, max_depth=10, min_child_weight=1, reg_alpha=0.21768401236748952, reg_lambda=1.376504551231964, subsample=0.578976303635114, score=0.3469387755102041, total=   0.0s\n",
      "[CV] colsample_bytree=0.6852601757026698, gamma=0.5859693229517501, max_depth=8, min_child_weight=9, reg_alpha=7.540766447737414, reg_lambda=5.498234878924102, subsample=0.5127116700572047 \n",
      "[CV]  colsample_bytree=0.5586976349436076, gamma=0.012671840443576011, max_depth=4, min_child_weight=1, reg_alpha=4.65292200385551, reg_lambda=3.3888370483667076, subsample=0.6211919949562023, score=0.375, total=   0.0s\n"
     ]
    },
    {
     "name": "stderr",
     "output_type": "stream",
     "text": [
      "/home/hitkul/anaconda3/envs/ps3/lib/python3.6/site-packages/sklearn/preprocessing/label.py:151: DeprecationWarning: The truth value of an empty array is ambiguous. Returning False, but in future this will result in an error. Use `array.size > 0` to check that an array is not empty.\n",
      "  if diff:\n",
      "/home/hitkul/anaconda3/envs/ps3/lib/python3.6/site-packages/sklearn/preprocessing/label.py:151: DeprecationWarning: The truth value of an empty array is ambiguous. Returning False, but in future this will result in an error. Use `array.size > 0` to check that an array is not empty.\n",
      "  if diff:\n",
      "/home/hitkul/anaconda3/envs/ps3/lib/python3.6/site-packages/sklearn/preprocessing/label.py:151: DeprecationWarning: The truth value of an empty array is ambiguous. Returning False, but in future this will result in an error. Use `array.size > 0` to check that an array is not empty.\n",
      "  if diff:\n"
     ]
    },
    {
     "name": "stdout",
     "output_type": "stream",
     "text": [
      "[CV] colsample_bytree=0.5586976349436076, gamma=0.012671840443576011, max_depth=4, min_child_weight=1, reg_alpha=4.65292200385551, reg_lambda=3.3888370483667076, subsample=0.6211919949562023 \n",
      "[CV]  colsample_bytree=0.5586976349436076, gamma=0.012671840443576011, max_depth=4, min_child_weight=1, reg_alpha=4.65292200385551, reg_lambda=3.3888370483667076, subsample=0.6211919949562023, score=0.30612244897959184, total=   0.0s\n",
      "[CV] colsample_bytree=0.6173502331327696, gamma=0.8687297765377242, max_depth=10, min_child_weight=1, reg_alpha=0.21768401236748952, reg_lambda=1.376504551231964, subsample=0.578976303635114 \n"
     ]
    },
    {
     "name": "stderr",
     "output_type": "stream",
     "text": [
      "/home/hitkul/anaconda3/envs/ps3/lib/python3.6/site-packages/sklearn/preprocessing/label.py:151: DeprecationWarning: The truth value of an empty array is ambiguous. Returning False, but in future this will result in an error. Use `array.size > 0` to check that an array is not empty.\n",
      "  if diff:\n",
      "/home/hitkul/anaconda3/envs/ps3/lib/python3.6/site-packages/sklearn/preprocessing/label.py:151: DeprecationWarning: The truth value of an empty array is ambiguous. Returning False, but in future this will result in an error. Use `array.size > 0` to check that an array is not empty.\n",
      "  if diff:\n"
     ]
    },
    {
     "name": "stdout",
     "output_type": "stream",
     "text": [
      "[CV]  colsample_bytree=0.6852601757026698, gamma=0.5859693229517501, max_depth=8, min_child_weight=9, reg_alpha=7.540766447737414, reg_lambda=5.498234878924102, subsample=0.5127116700572047, score=0.32075471698113206, total=   0.0s\n",
      "[CV] colsample_bytree=0.6852601757026698, gamma=0.5859693229517501, max_depth=8, min_child_weight=9, reg_alpha=7.540766447737414, reg_lambda=5.498234878924102, subsample=0.5127116700572047 \n"
     ]
    },
    {
     "name": "stderr",
     "output_type": "stream",
     "text": [
      "/home/hitkul/anaconda3/envs/ps3/lib/python3.6/site-packages/sklearn/preprocessing/label.py:151: DeprecationWarning: The truth value of an empty array is ambiguous. Returning False, but in future this will result in an error. Use `array.size > 0` to check that an array is not empty.\n",
      "  if diff:\n",
      "/home/hitkul/anaconda3/envs/ps3/lib/python3.6/site-packages/sklearn/preprocessing/label.py:151: DeprecationWarning: The truth value of an empty array is ambiguous. Returning False, but in future this will result in an error. Use `array.size > 0` to check that an array is not empty.\n",
      "  if diff:\n",
      "/home/hitkul/anaconda3/envs/ps3/lib/python3.6/site-packages/sklearn/preprocessing/label.py:151: DeprecationWarning: The truth value of an empty array is ambiguous. Returning False, but in future this will result in an error. Use `array.size > 0` to check that an array is not empty.\n",
      "  if diff:\n",
      "/home/hitkul/anaconda3/envs/ps3/lib/python3.6/site-packages/sklearn/preprocessing/label.py:151: DeprecationWarning: The truth value of an empty array is ambiguous. Returning False, but in future this will result in an error. Use `array.size > 0` to check that an array is not empty.\n",
      "  if diff:\n",
      "/home/hitkul/anaconda3/envs/ps3/lib/python3.6/site-packages/sklearn/preprocessing/label.py:151: DeprecationWarning: The truth value of an empty array is ambiguous. Returning False, but in future this will result in an error. Use `array.size > 0` to check that an array is not empty.\n",
      "  if diff:\n"
     ]
    },
    {
     "name": "stdout",
     "output_type": "stream",
     "text": [
      "[CV]  colsample_bytree=0.6173502331327696, gamma=0.8687297765377242, max_depth=10, min_child_weight=1, reg_alpha=0.21768401236748952, reg_lambda=1.376504551231964, subsample=0.578976303635114, score=0.34615384615384615, total=   0.0s\n",
      "[CV]  colsample_bytree=0.5586976349436076, gamma=0.012671840443576011, max_depth=4, min_child_weight=1, reg_alpha=4.65292200385551, reg_lambda=3.3888370483667076, subsample=0.6211919949562023, score=0.3469387755102041, total=   0.0s\n"
     ]
    },
    {
     "name": "stderr",
     "output_type": "stream",
     "text": [
      "/home/hitkul/anaconda3/envs/ps3/lib/python3.6/site-packages/sklearn/preprocessing/label.py:151: DeprecationWarning: The truth value of an empty array is ambiguous. Returning False, but in future this will result in an error. Use `array.size > 0` to check that an array is not empty.\n",
      "  if diff:\n"
     ]
    },
    {
     "name": "stdout",
     "output_type": "stream",
     "text": [
      "[CV] colsample_bytree=0.6173502331327696, gamma=0.8687297765377242, max_depth=10, min_child_weight=1, reg_alpha=0.21768401236748952, reg_lambda=1.376504551231964, subsample=0.578976303635114 \n",
      "[CV]  colsample_bytree=0.6852601757026698, gamma=0.5859693229517501, max_depth=8, min_child_weight=9, reg_alpha=7.540766447737414, reg_lambda=5.498234878924102, subsample=0.5127116700572047, score=0.4230769230769231, total=   0.0s\n",
      "[CV] colsample_bytree=0.6852601757026698, gamma=0.5859693229517501, max_depth=8, min_child_weight=9, reg_alpha=7.540766447737414, reg_lambda=5.498234878924102, subsample=0.5127116700572047 \n",
      "[CV] colsample_bytree=0.5586976349436076, gamma=0.012671840443576011, max_depth=4, min_child_weight=1, reg_alpha=4.65292200385551, reg_lambda=3.3888370483667076, subsample=0.6211919949562023 \n",
      "[CV]  colsample_bytree=0.6173502331327696, gamma=0.8687297765377242, max_depth=10, min_child_weight=1, reg_alpha=0.21768401236748952, reg_lambda=1.376504551231964, subsample=0.578976303635114, score=0.2653061224489796, total=   0.0s\n"
     ]
    },
    {
     "name": "stderr",
     "output_type": "stream",
     "text": [
      "/home/hitkul/anaconda3/envs/ps3/lib/python3.6/site-packages/sklearn/preprocessing/label.py:151: DeprecationWarning: The truth value of an empty array is ambiguous. Returning False, but in future this will result in an error. Use `array.size > 0` to check that an array is not empty.\n",
      "  if diff:\n",
      "/home/hitkul/anaconda3/envs/ps3/lib/python3.6/site-packages/sklearn/preprocessing/label.py:151: DeprecationWarning: The truth value of an empty array is ambiguous. Returning False, but in future this will result in an error. Use `array.size > 0` to check that an array is not empty.\n",
      "  if diff:\n"
     ]
    },
    {
     "name": "stdout",
     "output_type": "stream",
     "text": [
      "[CV] colsample_bytree=0.6173502331327696, gamma=0.8687297765377242, max_depth=10, min_child_weight=1, reg_alpha=0.21768401236748952, reg_lambda=1.376504551231964, subsample=0.578976303635114 \n"
     ]
    },
    {
     "name": "stderr",
     "output_type": "stream",
     "text": [
      "/home/hitkul/anaconda3/envs/ps3/lib/python3.6/site-packages/sklearn/preprocessing/label.py:151: DeprecationWarning: The truth value of an empty array is ambiguous. Returning False, but in future this will result in an error. Use `array.size > 0` to check that an array is not empty.\n",
      "  if diff:\n",
      "[Parallel(n_jobs=4)]: Done  62 tasks      | elapsed:    0.8s\n",
      "/home/hitkul/anaconda3/envs/ps3/lib/python3.6/site-packages/sklearn/preprocessing/label.py:151: DeprecationWarning: The truth value of an empty array is ambiguous. Returning False, but in future this will result in an error. Use `array.size > 0` to check that an array is not empty.\n",
      "  if diff:\n",
      "/home/hitkul/anaconda3/envs/ps3/lib/python3.6/site-packages/sklearn/preprocessing/label.py:151: DeprecationWarning: The truth value of an empty array is ambiguous. Returning False, but in future this will result in an error. Use `array.size > 0` to check that an array is not empty.\n",
      "  if diff:\n"
     ]
    },
    {
     "name": "stdout",
     "output_type": "stream",
     "text": [
      "[CV]  colsample_bytree=0.6173502331327696, gamma=0.8687297765377242, max_depth=10, min_child_weight=1, reg_alpha=0.21768401236748952, reg_lambda=1.376504551231964, subsample=0.578976303635114, score=0.32, total=   0.0s\n",
      "[CV] colsample_bytree=0.6173502331327696, gamma=0.8687297765377242, max_depth=10, min_child_weight=1, reg_alpha=0.21768401236748952, reg_lambda=1.376504551231964, subsample=0.578976303635114 \n",
      "[CV]  colsample_bytree=0.5586976349436076, gamma=0.012671840443576011, max_depth=4, min_child_weight=1, reg_alpha=4.65292200385551, reg_lambda=3.3888370483667076, subsample=0.6211919949562023, score=0.2653061224489796, total=   0.0s\n"
     ]
    },
    {
     "name": "stderr",
     "output_type": "stream",
     "text": [
      "/home/hitkul/anaconda3/envs/ps3/lib/python3.6/site-packages/sklearn/preprocessing/label.py:151: DeprecationWarning: The truth value of an empty array is ambiguous. Returning False, but in future this will result in an error. Use `array.size > 0` to check that an array is not empty.\n",
      "  if diff:\n"
     ]
    },
    {
     "name": "stdout",
     "output_type": "stream",
     "text": [
      "[CV]  colsample_bytree=0.6852601757026698, gamma=0.5859693229517501, max_depth=8, min_child_weight=9, reg_alpha=7.540766447737414, reg_lambda=5.498234878924102, subsample=0.5127116700572047, score=0.34615384615384615, total=   0.0s\n",
      "[CV] colsample_bytree=0.6852601757026698, gamma=0.5859693229517501, max_depth=8, min_child_weight=9, reg_alpha=7.540766447737414, reg_lambda=5.498234878924102, subsample=0.5127116700572047 \n",
      "[CV] colsample_bytree=0.5586976349436076, gamma=0.012671840443576011, max_depth=4, min_child_weight=1, reg_alpha=4.65292200385551, reg_lambda=3.3888370483667076, subsample=0.6211919949562023 \n"
     ]
    },
    {
     "name": "stderr",
     "output_type": "stream",
     "text": [
      "/home/hitkul/anaconda3/envs/ps3/lib/python3.6/site-packages/sklearn/preprocessing/label.py:151: DeprecationWarning: The truth value of an empty array is ambiguous. Returning False, but in future this will result in an error. Use `array.size > 0` to check that an array is not empty.\n",
      "  if diff:\n",
      "/home/hitkul/anaconda3/envs/ps3/lib/python3.6/site-packages/sklearn/preprocessing/label.py:151: DeprecationWarning: The truth value of an empty array is ambiguous. Returning False, but in future this will result in an error. Use `array.size > 0` to check that an array is not empty.\n",
      "  if diff:\n",
      "/home/hitkul/anaconda3/envs/ps3/lib/python3.6/site-packages/sklearn/preprocessing/label.py:151: DeprecationWarning: The truth value of an empty array is ambiguous. Returning False, but in future this will result in an error. Use `array.size > 0` to check that an array is not empty.\n",
      "  if diff:\n",
      "/home/hitkul/anaconda3/envs/ps3/lib/python3.6/site-packages/sklearn/preprocessing/label.py:151: DeprecationWarning: The truth value of an empty array is ambiguous. Returning False, but in future this will result in an error. Use `array.size > 0` to check that an array is not empty.\n",
      "  if diff:\n",
      "/home/hitkul/anaconda3/envs/ps3/lib/python3.6/site-packages/sklearn/preprocessing/label.py:151: DeprecationWarning: The truth value of an empty array is ambiguous. Returning False, but in future this will result in an error. Use `array.size > 0` to check that an array is not empty.\n",
      "  if diff:\n",
      "/home/hitkul/anaconda3/envs/ps3/lib/python3.6/site-packages/sklearn/preprocessing/label.py:151: DeprecationWarning: The truth value of an empty array is ambiguous. Returning False, but in future this will result in an error. Use `array.size > 0` to check that an array is not empty.\n",
      "  if diff:\n"
     ]
    },
    {
     "name": "stdout",
     "output_type": "stream",
     "text": [
      "[CV]  colsample_bytree=0.6852601757026698, gamma=0.5859693229517501, max_depth=8, min_child_weight=9, reg_alpha=7.540766447737414, reg_lambda=5.498234878924102, subsample=0.5127116700572047, score=0.32, total=   0.0s\n"
     ]
    },
    {
     "name": "stderr",
     "output_type": "stream",
     "text": [
      "/home/hitkul/anaconda3/envs/ps3/lib/python3.6/site-packages/sklearn/preprocessing/label.py:151: DeprecationWarning: The truth value of an empty array is ambiguous. Returning False, but in future this will result in an error. Use `array.size > 0` to check that an array is not empty.\n",
      "  if diff:\n",
      "/home/hitkul/anaconda3/envs/ps3/lib/python3.6/site-packages/sklearn/preprocessing/label.py:151: DeprecationWarning: The truth value of an empty array is ambiguous. Returning False, but in future this will result in an error. Use `array.size > 0` to check that an array is not empty.\n",
      "  if diff:\n"
     ]
    },
    {
     "name": "stdout",
     "output_type": "stream",
     "text": [
      "[CV]  colsample_bytree=0.6173502331327696, gamma=0.8687297765377242, max_depth=10, min_child_weight=1, reg_alpha=0.21768401236748952, reg_lambda=1.376504551231964, subsample=0.578976303635114, score=0.24489795918367346, total=   0.0s\n",
      "[CV]  colsample_bytree=0.6173502331327696, gamma=0.8687297765377242, max_depth=10, min_child_weight=1, reg_alpha=0.21768401236748952, reg_lambda=1.376504551231964, subsample=0.578976303635114, score=0.3125, total=   0.0s\n",
      "[CV]  colsample_bytree=0.5586976349436076, gamma=0.012671840443576011, max_depth=4, min_child_weight=1, reg_alpha=4.65292200385551, reg_lambda=3.3888370483667076, subsample=0.6211919949562023, score=0.3877551020408163, total=   0.0s\n",
      "[CV] colsample_bytree=0.5586976349436076, gamma=0.012671840443576011, max_depth=4, min_child_weight=1, reg_alpha=4.65292200385551, reg_lambda=3.3888370483667076, subsample=0.6211919949562023 \n",
      "[CV] colsample_bytree=0.5621964643431324, gamma=0.29266498982407235, max_depth=4, min_child_weight=8, reg_alpha=2.289425385000076, reg_lambda=8.421436891829407, subsample=0.576585374950758 \n",
      "[CV] colsample_bytree=0.6173502331327696, gamma=0.8687297765377242, max_depth=10, min_child_weight=1, reg_alpha=0.21768401236748952, reg_lambda=1.376504551231964, subsample=0.578976303635114 \n",
      "[CV] colsample_bytree=0.6852601757026698, gamma=0.5859693229517501, max_depth=8, min_child_weight=9, reg_alpha=7.540766447737414, reg_lambda=5.498234878924102, subsample=0.5127116700572047 \n"
     ]
    },
    {
     "name": "stderr",
     "output_type": "stream",
     "text": [
      "/home/hitkul/anaconda3/envs/ps3/lib/python3.6/site-packages/sklearn/preprocessing/label.py:151: DeprecationWarning: The truth value of an empty array is ambiguous. Returning False, but in future this will result in an error. Use `array.size > 0` to check that an array is not empty.\n",
      "  if diff:\n",
      "/home/hitkul/anaconda3/envs/ps3/lib/python3.6/site-packages/sklearn/preprocessing/label.py:151: DeprecationWarning: The truth value of an empty array is ambiguous. Returning False, but in future this will result in an error. Use `array.size > 0` to check that an array is not empty.\n",
      "  if diff:\n",
      "/home/hitkul/anaconda3/envs/ps3/lib/python3.6/site-packages/sklearn/preprocessing/label.py:151: DeprecationWarning: The truth value of an empty array is ambiguous. Returning False, but in future this will result in an error. Use `array.size > 0` to check that an array is not empty.\n",
      "  if diff:\n",
      "/home/hitkul/anaconda3/envs/ps3/lib/python3.6/site-packages/sklearn/preprocessing/label.py:151: DeprecationWarning: The truth value of an empty array is ambiguous. Returning False, but in future this will result in an error. Use `array.size > 0` to check that an array is not empty.\n",
      "  if diff:\n"
     ]
    },
    {
     "name": "stdout",
     "output_type": "stream",
     "text": [
      "[CV]  colsample_bytree=0.6173502331327696, gamma=0.8687297765377242, max_depth=10, min_child_weight=1, reg_alpha=0.21768401236748952, reg_lambda=1.376504551231964, subsample=0.578976303635114, score=0.3469387755102041, total=   0.0s\n"
     ]
    },
    {
     "name": "stderr",
     "output_type": "stream",
     "text": [
      "/home/hitkul/anaconda3/envs/ps3/lib/python3.6/site-packages/sklearn/preprocessing/label.py:151: DeprecationWarning: The truth value of an empty array is ambiguous. Returning False, but in future this will result in an error. Use `array.size > 0` to check that an array is not empty.\n",
      "  if diff:\n",
      "/home/hitkul/anaconda3/envs/ps3/lib/python3.6/site-packages/sklearn/preprocessing/label.py:151: DeprecationWarning: The truth value of an empty array is ambiguous. Returning False, but in future this will result in an error. Use `array.size > 0` to check that an array is not empty.\n",
      "  if diff:\n",
      "/home/hitkul/anaconda3/envs/ps3/lib/python3.6/site-packages/sklearn/preprocessing/label.py:151: DeprecationWarning: The truth value of an empty array is ambiguous. Returning False, but in future this will result in an error. Use `array.size > 0` to check that an array is not empty.\n",
      "  if diff:\n"
     ]
    },
    {
     "name": "stdout",
     "output_type": "stream",
     "text": [
      "[CV]  colsample_bytree=0.5586976349436076, gamma=0.012671840443576011, max_depth=4, min_child_weight=1, reg_alpha=4.65292200385551, reg_lambda=3.3888370483667076, subsample=0.6211919949562023, score=0.39622641509433965, total=   0.0s\n",
      "[CV] colsample_bytree=0.5621964643431324, gamma=0.29266498982407235, max_depth=4, min_child_weight=8, reg_alpha=2.289425385000076, reg_lambda=8.421436891829407, subsample=0.576585374950758 \n",
      "[CV] colsample_bytree=0.5621964643431324, gamma=0.29266498982407235, max_depth=4, min_child_weight=8, reg_alpha=2.289425385000076, reg_lambda=8.421436891829407, subsample=0.576585374950758 \n",
      "[CV]  colsample_bytree=0.5621964643431324, gamma=0.29266498982407235, max_depth=4, min_child_weight=8, reg_alpha=2.289425385000076, reg_lambda=8.421436891829407, subsample=0.576585374950758, score=0.37735849056603776, total=   0.0s\n",
      "[CV] colsample_bytree=0.5586976349436076, gamma=0.012671840443576011, max_depth=4, min_child_weight=1, reg_alpha=4.65292200385551, reg_lambda=3.3888370483667076, subsample=0.6211919949562023 \n"
     ]
    },
    {
     "name": "stderr",
     "output_type": "stream",
     "text": [
      "/home/hitkul/anaconda3/envs/ps3/lib/python3.6/site-packages/sklearn/preprocessing/label.py:151: DeprecationWarning: The truth value of an empty array is ambiguous. Returning False, but in future this will result in an error. Use `array.size > 0` to check that an array is not empty.\n",
      "  if diff:\n",
      "/home/hitkul/anaconda3/envs/ps3/lib/python3.6/site-packages/sklearn/preprocessing/label.py:151: DeprecationWarning: The truth value of an empty array is ambiguous. Returning False, but in future this will result in an error. Use `array.size > 0` to check that an array is not empty.\n",
      "  if diff:\n",
      "/home/hitkul/anaconda3/envs/ps3/lib/python3.6/site-packages/sklearn/preprocessing/label.py:151: DeprecationWarning: The truth value of an empty array is ambiguous. Returning False, but in future this will result in an error. Use `array.size > 0` to check that an array is not empty.\n",
      "  if diff:\n"
     ]
    },
    {
     "name": "stdout",
     "output_type": "stream",
     "text": [
      "[CV]  colsample_bytree=0.6852601757026698, gamma=0.5859693229517501, max_depth=8, min_child_weight=9, reg_alpha=7.540766447737414, reg_lambda=5.498234878924102, subsample=0.5127116700572047, score=0.32653061224489793, total=   0.0s\n"
     ]
    },
    {
     "name": "stderr",
     "output_type": "stream",
     "text": [
      "/home/hitkul/anaconda3/envs/ps3/lib/python3.6/site-packages/sklearn/preprocessing/label.py:151: DeprecationWarning: The truth value of an empty array is ambiguous. Returning False, but in future this will result in an error. Use `array.size > 0` to check that an array is not empty.\n",
      "  if diff:\n"
     ]
    },
    {
     "name": "stdout",
     "output_type": "stream",
     "text": [
      "[CV] colsample_bytree=0.6852601757026698, gamma=0.5859693229517501, max_depth=8, min_child_weight=9, reg_alpha=7.540766447737414, reg_lambda=5.498234878924102, subsample=0.5127116700572047 \n"
     ]
    },
    {
     "name": "stderr",
     "output_type": "stream",
     "text": [
      "/home/hitkul/anaconda3/envs/ps3/lib/python3.6/site-packages/sklearn/preprocessing/label.py:151: DeprecationWarning: The truth value of an empty array is ambiguous. Returning False, but in future this will result in an error. Use `array.size > 0` to check that an array is not empty.\n",
      "  if diff:\n",
      "/home/hitkul/anaconda3/envs/ps3/lib/python3.6/site-packages/sklearn/preprocessing/label.py:151: DeprecationWarning: The truth value of an empty array is ambiguous. Returning False, but in future this will result in an error. Use `array.size > 0` to check that an array is not empty.\n",
      "  if diff:\n"
     ]
    },
    {
     "name": "stdout",
     "output_type": "stream",
     "text": [
      "[CV]  colsample_bytree=0.5621964643431324, gamma=0.29266498982407235, max_depth=4, min_child_weight=8, reg_alpha=2.289425385000076, reg_lambda=8.421436891829407, subsample=0.576585374950758, score=0.4423076923076923, total=   0.0s\n",
      "[CV]  colsample_bytree=0.5621964643431324, gamma=0.29266498982407235, max_depth=4, min_child_weight=8, reg_alpha=2.289425385000076, reg_lambda=8.421436891829407, subsample=0.576585374950758, score=0.2857142857142857, total=   0.0s\n"
     ]
    },
    {
     "name": "stderr",
     "output_type": "stream",
     "text": [
      "/home/hitkul/anaconda3/envs/ps3/lib/python3.6/site-packages/sklearn/preprocessing/label.py:151: DeprecationWarning: The truth value of an empty array is ambiguous. Returning False, but in future this will result in an error. Use `array.size > 0` to check that an array is not empty.\n",
      "  if diff:\n"
     ]
    },
    {
     "name": "stdout",
     "output_type": "stream",
     "text": [
      "[CV] colsample_bytree=0.5621964643431324, gamma=0.29266498982407235, max_depth=4, min_child_weight=8, reg_alpha=2.289425385000076, reg_lambda=8.421436891829407, subsample=0.576585374950758 \n",
      "[CV] colsample_bytree=0.5621964643431324, gamma=0.29266498982407235, max_depth=4, min_child_weight=8, reg_alpha=2.289425385000076, reg_lambda=8.421436891829407, subsample=0.576585374950758 \n"
     ]
    },
    {
     "name": "stderr",
     "output_type": "stream",
     "text": [
      "/home/hitkul/anaconda3/envs/ps3/lib/python3.6/site-packages/sklearn/preprocessing/label.py:151: DeprecationWarning: The truth value of an empty array is ambiguous. Returning False, but in future this will result in an error. Use `array.size > 0` to check that an array is not empty.\n",
      "  if diff:\n",
      "/home/hitkul/anaconda3/envs/ps3/lib/python3.6/site-packages/sklearn/preprocessing/label.py:151: DeprecationWarning: The truth value of an empty array is ambiguous. Returning False, but in future this will result in an error. Use `array.size > 0` to check that an array is not empty.\n",
      "  if diff:\n"
     ]
    },
    {
     "name": "stdout",
     "output_type": "stream",
     "text": [
      "[CV]  colsample_bytree=0.5586976349436076, gamma=0.012671840443576011, max_depth=4, min_child_weight=1, reg_alpha=4.65292200385551, reg_lambda=3.3888370483667076, subsample=0.6211919949562023, score=0.4423076923076923, total=   0.0s\n"
     ]
    },
    {
     "name": "stderr",
     "output_type": "stream",
     "text": [
      "/home/hitkul/anaconda3/envs/ps3/lib/python3.6/site-packages/sklearn/preprocessing/label.py:151: DeprecationWarning: The truth value of an empty array is ambiguous. Returning False, but in future this will result in an error. Use `array.size > 0` to check that an array is not empty.\n",
      "  if diff:\n",
      "/home/hitkul/anaconda3/envs/ps3/lib/python3.6/site-packages/sklearn/preprocessing/label.py:151: DeprecationWarning: The truth value of an empty array is ambiguous. Returning False, but in future this will result in an error. Use `array.size > 0` to check that an array is not empty.\n",
      "  if diff:\n"
     ]
    },
    {
     "name": "stdout",
     "output_type": "stream",
     "text": [
      "[CV]  colsample_bytree=0.6852601757026698, gamma=0.5859693229517501, max_depth=8, min_child_weight=9, reg_alpha=7.540766447737414, reg_lambda=5.498234878924102, subsample=0.5127116700572047, score=0.3469387755102041, total=   0.0s\n",
      "[CV] colsample_bytree=0.5621964643431324, gamma=0.29266498982407235, max_depth=4, min_child_weight=8, reg_alpha=2.289425385000076, reg_lambda=8.421436891829407, subsample=0.576585374950758 \n",
      "[CV]  colsample_bytree=0.5621964643431324, gamma=0.29266498982407235, max_depth=4, min_child_weight=8, reg_alpha=2.289425385000076, reg_lambda=8.421436891829407, subsample=0.576585374950758, score=0.3877551020408163, total=   0.0s\n",
      "[CV] colsample_bytree=0.6852601757026698, gamma=0.5859693229517501, max_depth=8, min_child_weight=9, reg_alpha=7.540766447737414, reg_lambda=5.498234878924102, subsample=0.5127116700572047 \n",
      "[CV] colsample_bytree=0.6943424190778208, gamma=0.7640224418394755, max_depth=6, min_child_weight=10, reg_alpha=3.8985094032993923, reg_lambda=4.2194818017196285, subsample=0.5080867179076862 \n"
     ]
    },
    {
     "name": "stderr",
     "output_type": "stream",
     "text": [
      "/home/hitkul/anaconda3/envs/ps3/lib/python3.6/site-packages/sklearn/preprocessing/label.py:151: DeprecationWarning: The truth value of an empty array is ambiguous. Returning False, but in future this will result in an error. Use `array.size > 0` to check that an array is not empty.\n",
      "  if diff:\n",
      "/home/hitkul/anaconda3/envs/ps3/lib/python3.6/site-packages/sklearn/preprocessing/label.py:151: DeprecationWarning: The truth value of an empty array is ambiguous. Returning False, but in future this will result in an error. Use `array.size > 0` to check that an array is not empty.\n",
      "  if diff:\n",
      "/home/hitkul/anaconda3/envs/ps3/lib/python3.6/site-packages/sklearn/preprocessing/label.py:151: DeprecationWarning: The truth value of an empty array is ambiguous. Returning False, but in future this will result in an error. Use `array.size > 0` to check that an array is not empty.\n",
      "  if diff:\n"
     ]
    },
    {
     "name": "stdout",
     "output_type": "stream",
     "text": [
      "[CV]  colsample_bytree=0.5621964643431324, gamma=0.29266498982407235, max_depth=4, min_child_weight=8, reg_alpha=2.289425385000076, reg_lambda=8.421436891829407, subsample=0.576585374950758, score=0.2653061224489796, total=   0.0s\n",
      "[CV] colsample_bytree=0.5621964643431324, gamma=0.29266498982407235, max_depth=4, min_child_weight=8, reg_alpha=2.289425385000076, reg_lambda=8.421436891829407, subsample=0.576585374950758 \n"
     ]
    },
    {
     "name": "stderr",
     "output_type": "stream",
     "text": [
      "/home/hitkul/anaconda3/envs/ps3/lib/python3.6/site-packages/sklearn/preprocessing/label.py:151: DeprecationWarning: The truth value of an empty array is ambiguous. Returning False, but in future this will result in an error. Use `array.size > 0` to check that an array is not empty.\n",
      "  if diff:\n",
      "/home/hitkul/anaconda3/envs/ps3/lib/python3.6/site-packages/sklearn/preprocessing/label.py:151: DeprecationWarning: The truth value of an empty array is ambiguous. Returning False, but in future this will result in an error. Use `array.size > 0` to check that an array is not empty.\n",
      "  if diff:\n",
      "/home/hitkul/anaconda3/envs/ps3/lib/python3.6/site-packages/sklearn/preprocessing/label.py:151: DeprecationWarning: The truth value of an empty array is ambiguous. Returning False, but in future this will result in an error. Use `array.size > 0` to check that an array is not empty.\n",
      "  if diff:\n",
      "/home/hitkul/anaconda3/envs/ps3/lib/python3.6/site-packages/sklearn/preprocessing/label.py:151: DeprecationWarning: The truth value of an empty array is ambiguous. Returning False, but in future this will result in an error. Use `array.size > 0` to check that an array is not empty.\n",
      "  if diff:\n"
     ]
    },
    {
     "name": "stdout",
     "output_type": "stream",
     "text": [
      "[CV]  colsample_bytree=0.5621964643431324, gamma=0.29266498982407235, max_depth=4, min_child_weight=8, reg_alpha=2.289425385000076, reg_lambda=8.421436891829407, subsample=0.576585374950758, score=0.34615384615384615, total=   0.1s\n"
     ]
    },
    {
     "name": "stderr",
     "output_type": "stream",
     "text": [
      "/home/hitkul/anaconda3/envs/ps3/lib/python3.6/site-packages/sklearn/preprocessing/label.py:151: DeprecationWarning: The truth value of an empty array is ambiguous. Returning False, but in future this will result in an error. Use `array.size > 0` to check that an array is not empty.\n",
      "  if diff:\n"
     ]
    },
    {
     "name": "stdout",
     "output_type": "stream",
     "text": [
      "[CV]  colsample_bytree=0.6852601757026698, gamma=0.5859693229517501, max_depth=8, min_child_weight=9, reg_alpha=7.540766447737414, reg_lambda=5.498234878924102, subsample=0.5127116700572047, score=0.30612244897959184, total=   0.0s\n",
      "[CV] colsample_bytree=0.5621964643431324, gamma=0.29266498982407235, max_depth=4, min_child_weight=8, reg_alpha=2.289425385000076, reg_lambda=8.421436891829407, subsample=0.576585374950758 \n"
     ]
    },
    {
     "name": "stderr",
     "output_type": "stream",
     "text": [
      "/home/hitkul/anaconda3/envs/ps3/lib/python3.6/site-packages/sklearn/preprocessing/label.py:151: DeprecationWarning: The truth value of an empty array is ambiguous. Returning False, but in future this will result in an error. Use `array.size > 0` to check that an array is not empty.\n",
      "  if diff:\n"
     ]
    },
    {
     "name": "stdout",
     "output_type": "stream",
     "text": [
      "[CV] colsample_bytree=0.6852601757026698, gamma=0.5859693229517501, max_depth=8, min_child_weight=9, reg_alpha=7.540766447737414, reg_lambda=5.498234878924102, subsample=0.5127116700572047 \n"
     ]
    },
    {
     "name": "stderr",
     "output_type": "stream",
     "text": [
      "/home/hitkul/anaconda3/envs/ps3/lib/python3.6/site-packages/sklearn/preprocessing/label.py:151: DeprecationWarning: The truth value of an empty array is ambiguous. Returning False, but in future this will result in an error. Use `array.size > 0` to check that an array is not empty.\n",
      "  if diff:\n"
     ]
    },
    {
     "name": "stdout",
     "output_type": "stream",
     "text": [
      "[CV]  colsample_bytree=0.6943424190778208, gamma=0.7640224418394755, max_depth=6, min_child_weight=10, reg_alpha=3.8985094032993923, reg_lambda=4.2194818017196285, subsample=0.5080867179076862, score=0.34615384615384615, total=   0.0s\n",
      "[CV] colsample_bytree=0.6943424190778208, gamma=0.7640224418394755, max_depth=6, min_child_weight=10, reg_alpha=3.8985094032993923, reg_lambda=4.2194818017196285, subsample=0.5080867179076862 \n"
     ]
    },
    {
     "name": "stderr",
     "output_type": "stream",
     "text": [
      "/home/hitkul/anaconda3/envs/ps3/lib/python3.6/site-packages/sklearn/preprocessing/label.py:151: DeprecationWarning: The truth value of an empty array is ambiguous. Returning False, but in future this will result in an error. Use `array.size > 0` to check that an array is not empty.\n",
      "  if diff:\n",
      "/home/hitkul/anaconda3/envs/ps3/lib/python3.6/site-packages/sklearn/preprocessing/label.py:151: DeprecationWarning: The truth value of an empty array is ambiguous. Returning False, but in future this will result in an error. Use `array.size > 0` to check that an array is not empty.\n",
      "  if diff:\n"
     ]
    },
    {
     "name": "stdout",
     "output_type": "stream",
     "text": [
      "[CV]  colsample_bytree=0.5621964643431324, gamma=0.29266498982407235, max_depth=4, min_child_weight=8, reg_alpha=2.289425385000076, reg_lambda=8.421436891829407, subsample=0.576585374950758, score=0.2916666666666667, total=   0.0s\n",
      "[CV] colsample_bytree=0.6943424190778208, gamma=0.7640224418394755, max_depth=6, min_child_weight=10, reg_alpha=3.8985094032993923, reg_lambda=4.2194818017196285, subsample=0.5080867179076862 \n"
     ]
    },
    {
     "name": "stderr",
     "output_type": "stream",
     "text": [
      "/home/hitkul/anaconda3/envs/ps3/lib/python3.6/site-packages/sklearn/preprocessing/label.py:151: DeprecationWarning: The truth value of an empty array is ambiguous. Returning False, but in future this will result in an error. Use `array.size > 0` to check that an array is not empty.\n",
      "  if diff:\n",
      "/home/hitkul/anaconda3/envs/ps3/lib/python3.6/site-packages/sklearn/preprocessing/label.py:151: DeprecationWarning: The truth value of an empty array is ambiguous. Returning False, but in future this will result in an error. Use `array.size > 0` to check that an array is not empty.\n",
      "  if diff:\n"
     ]
    },
    {
     "name": "stdout",
     "output_type": "stream",
     "text": [
      "[CV]  colsample_bytree=0.6852601757026698, gamma=0.5859693229517501, max_depth=8, min_child_weight=9, reg_alpha=7.540766447737414, reg_lambda=5.498234878924102, subsample=0.5127116700572047, score=0.3673469387755102, total=   0.0s\n",
      "[CV]  colsample_bytree=0.5621964643431324, gamma=0.29266498982407235, max_depth=4, min_child_weight=8, reg_alpha=2.289425385000076, reg_lambda=8.421436891829407, subsample=0.576585374950758, score=0.36, total=   0.0s\n"
     ]
    },
    {
     "name": "stderr",
     "output_type": "stream",
     "text": [
      "/home/hitkul/anaconda3/envs/ps3/lib/python3.6/site-packages/sklearn/preprocessing/label.py:151: DeprecationWarning: The truth value of an empty array is ambiguous. Returning False, but in future this will result in an error. Use `array.size > 0` to check that an array is not empty.\n",
      "  if diff:\n"
     ]
    },
    {
     "name": "stdout",
     "output_type": "stream",
     "text": [
      "[CV] colsample_bytree=0.5621964643431324, gamma=0.29266498982407235, max_depth=4, min_child_weight=8, reg_alpha=2.289425385000076, reg_lambda=8.421436891829407, subsample=0.576585374950758 \n",
      "[CV] colsample_bytree=0.6852601757026698, gamma=0.5859693229517501, max_depth=8, min_child_weight=9, reg_alpha=7.540766447737414, reg_lambda=5.498234878924102, subsample=0.5127116700572047 \n"
     ]
    },
    {
     "name": "stderr",
     "output_type": "stream",
     "text": [
      "/home/hitkul/anaconda3/envs/ps3/lib/python3.6/site-packages/sklearn/preprocessing/label.py:151: DeprecationWarning: The truth value of an empty array is ambiguous. Returning False, but in future this will result in an error. Use `array.size > 0` to check that an array is not empty.\n",
      "  if diff:\n",
      "/home/hitkul/anaconda3/envs/ps3/lib/python3.6/site-packages/sklearn/preprocessing/label.py:151: DeprecationWarning: The truth value of an empty array is ambiguous. Returning False, but in future this will result in an error. Use `array.size > 0` to check that an array is not empty.\n",
      "  if diff:\n",
      "/home/hitkul/anaconda3/envs/ps3/lib/python3.6/site-packages/sklearn/preprocessing/label.py:151: DeprecationWarning: The truth value of an empty array is ambiguous. Returning False, but in future this will result in an error. Use `array.size > 0` to check that an array is not empty.\n",
      "  if diff:\n"
     ]
    },
    {
     "name": "stdout",
     "output_type": "stream",
     "text": [
      "[CV]  colsample_bytree=0.6943424190778208, gamma=0.7640224418394755, max_depth=6, min_child_weight=10, reg_alpha=3.8985094032993923, reg_lambda=4.2194818017196285, subsample=0.5080867179076862, score=0.37735849056603776, total=   0.0s\n"
     ]
    },
    {
     "name": "stderr",
     "output_type": "stream",
     "text": [
      "/home/hitkul/anaconda3/envs/ps3/lib/python3.6/site-packages/sklearn/preprocessing/label.py:151: DeprecationWarning: The truth value of an empty array is ambiguous. Returning False, but in future this will result in an error. Use `array.size > 0` to check that an array is not empty.\n",
      "  if diff:\n"
     ]
    },
    {
     "name": "stdout",
     "output_type": "stream",
     "text": [
      "[CV] colsample_bytree=0.6943424190778208, gamma=0.7640224418394755, max_depth=6, min_child_weight=10, reg_alpha=3.8985094032993923, reg_lambda=4.2194818017196285, subsample=0.5080867179076862 \n",
      "[CV]  colsample_bytree=0.6852601757026698, gamma=0.5859693229517501, max_depth=8, min_child_weight=9, reg_alpha=7.540766447737414, reg_lambda=5.498234878924102, subsample=0.5127116700572047, score=0.2857142857142857, total=   0.0s\n"
     ]
    },
    {
     "name": "stderr",
     "output_type": "stream",
     "text": [
      "/home/hitkul/anaconda3/envs/ps3/lib/python3.6/site-packages/sklearn/preprocessing/label.py:151: DeprecationWarning: The truth value of an empty array is ambiguous. Returning False, but in future this will result in an error. Use `array.size > 0` to check that an array is not empty.\n",
      "  if diff:\n",
      "/home/hitkul/anaconda3/envs/ps3/lib/python3.6/site-packages/sklearn/preprocessing/label.py:151: DeprecationWarning: The truth value of an empty array is ambiguous. Returning False, but in future this will result in an error. Use `array.size > 0` to check that an array is not empty.\n",
      "  if diff:\n",
      "/home/hitkul/anaconda3/envs/ps3/lib/python3.6/site-packages/sklearn/preprocessing/label.py:151: DeprecationWarning: The truth value of an empty array is ambiguous. Returning False, but in future this will result in an error. Use `array.size > 0` to check that an array is not empty.\n",
      "  if diff:\n"
     ]
    },
    {
     "name": "stdout",
     "output_type": "stream",
     "text": [
      "[CV]  colsample_bytree=0.5621964643431324, gamma=0.29266498982407235, max_depth=4, min_child_weight=8, reg_alpha=2.289425385000076, reg_lambda=8.421436891829407, subsample=0.576585374950758, score=0.24489795918367346, total=   0.0s\n",
      "[CV] colsample_bytree=0.5621964643431324, gamma=0.29266498982407235, max_depth=4, min_child_weight=8, reg_alpha=2.289425385000076, reg_lambda=8.421436891829407, subsample=0.576585374950758 \n",
      "[CV] colsample_bytree=0.6852601757026698, gamma=0.5859693229517501, max_depth=8, min_child_weight=9, reg_alpha=7.540766447737414, reg_lambda=5.498234878924102, subsample=0.5127116700572047 \n"
     ]
    },
    {
     "name": "stderr",
     "output_type": "stream",
     "text": [
      "/home/hitkul/anaconda3/envs/ps3/lib/python3.6/site-packages/sklearn/preprocessing/label.py:151: DeprecationWarning: The truth value of an empty array is ambiguous. Returning False, but in future this will result in an error. Use `array.size > 0` to check that an array is not empty.\n",
      "  if diff:\n",
      "/home/hitkul/anaconda3/envs/ps3/lib/python3.6/site-packages/sklearn/preprocessing/label.py:151: DeprecationWarning: The truth value of an empty array is ambiguous. Returning False, but in future this will result in an error. Use `array.size > 0` to check that an array is not empty.\n",
      "  if diff:\n",
      "/home/hitkul/anaconda3/envs/ps3/lib/python3.6/site-packages/sklearn/preprocessing/label.py:151: DeprecationWarning: The truth value of an empty array is ambiguous. Returning False, but in future this will result in an error. Use `array.size > 0` to check that an array is not empty.\n",
      "  if diff:\n"
     ]
    },
    {
     "name": "stdout",
     "output_type": "stream",
     "text": [
      "[CV]  colsample_bytree=0.6943424190778208, gamma=0.7640224418394755, max_depth=6, min_child_weight=10, reg_alpha=3.8985094032993923, reg_lambda=4.2194818017196285, subsample=0.5080867179076862, score=0.4230769230769231, total=   0.0s\n"
     ]
    },
    {
     "name": "stderr",
     "output_type": "stream",
     "text": [
      "/home/hitkul/anaconda3/envs/ps3/lib/python3.6/site-packages/sklearn/preprocessing/label.py:151: DeprecationWarning: The truth value of an empty array is ambiguous. Returning False, but in future this will result in an error. Use `array.size > 0` to check that an array is not empty.\n",
      "  if diff:\n"
     ]
    },
    {
     "name": "stdout",
     "output_type": "stream",
     "text": [
      "[CV]  colsample_bytree=0.6943424190778208, gamma=0.7640224418394755, max_depth=6, min_child_weight=10, reg_alpha=3.8985094032993923, reg_lambda=4.2194818017196285, subsample=0.5080867179076862, score=0.38, total=   0.0s\n",
      "[CV] colsample_bytree=0.6943424190778208, gamma=0.7640224418394755, max_depth=6, min_child_weight=10, reg_alpha=3.8985094032993923, reg_lambda=4.2194818017196285, subsample=0.5080867179076862 \n",
      "[CV] colsample_bytree=0.6943424190778208, gamma=0.7640224418394755, max_depth=6, min_child_weight=10, reg_alpha=3.8985094032993923, reg_lambda=4.2194818017196285, subsample=0.5080867179076862 \n"
     ]
    },
    {
     "name": "stderr",
     "output_type": "stream",
     "text": [
      "/home/hitkul/anaconda3/envs/ps3/lib/python3.6/site-packages/sklearn/preprocessing/label.py:151: DeprecationWarning: The truth value of an empty array is ambiguous. Returning False, but in future this will result in an error. Use `array.size > 0` to check that an array is not empty.\n",
      "  if diff:\n",
      "/home/hitkul/anaconda3/envs/ps3/lib/python3.6/site-packages/sklearn/preprocessing/label.py:151: DeprecationWarning: The truth value of an empty array is ambiguous. Returning False, but in future this will result in an error. Use `array.size > 0` to check that an array is not empty.\n",
      "  if diff:\n",
      "/home/hitkul/anaconda3/envs/ps3/lib/python3.6/site-packages/sklearn/preprocessing/label.py:151: DeprecationWarning: The truth value of an empty array is ambiguous. Returning False, but in future this will result in an error. Use `array.size > 0` to check that an array is not empty.\n",
      "  if diff:\n"
     ]
    },
    {
     "name": "stdout",
     "output_type": "stream",
     "text": [
      "[CV]  colsample_bytree=0.6852601757026698, gamma=0.5859693229517501, max_depth=8, min_child_weight=9, reg_alpha=7.540766447737414, reg_lambda=5.498234878924102, subsample=0.5127116700572047, score=0.2916666666666667, total=   0.0s\n"
     ]
    },
    {
     "name": "stderr",
     "output_type": "stream",
     "text": [
      "/home/hitkul/anaconda3/envs/ps3/lib/python3.6/site-packages/sklearn/preprocessing/label.py:151: DeprecationWarning: The truth value of an empty array is ambiguous. Returning False, but in future this will result in an error. Use `array.size > 0` to check that an array is not empty.\n",
      "  if diff:\n"
     ]
    },
    {
     "name": "stdout",
     "output_type": "stream",
     "text": [
      "[CV]  colsample_bytree=0.5621964643431324, gamma=0.29266498982407235, max_depth=4, min_child_weight=8, reg_alpha=2.289425385000076, reg_lambda=8.421436891829407, subsample=0.576585374950758, score=0.3877551020408163, total=   0.0s\n"
     ]
    },
    {
     "name": "stderr",
     "output_type": "stream",
     "text": [
      "/home/hitkul/anaconda3/envs/ps3/lib/python3.6/site-packages/sklearn/preprocessing/label.py:151: DeprecationWarning: The truth value of an empty array is ambiguous. Returning False, but in future this will result in an error. Use `array.size > 0` to check that an array is not empty.\n",
      "  if diff:\n",
      "/home/hitkul/anaconda3/envs/ps3/lib/python3.6/site-packages/sklearn/preprocessing/label.py:151: DeprecationWarning: The truth value of an empty array is ambiguous. Returning False, but in future this will result in an error. Use `array.size > 0` to check that an array is not empty.\n",
      "  if diff:\n"
     ]
    },
    {
     "name": "stdout",
     "output_type": "stream",
     "text": [
      "[CV] colsample_bytree=0.6421325779371575, gamma=0.0998017387306482, max_depth=4, min_child_weight=7, reg_alpha=13.16764110306062, reg_lambda=5.1254544440543235, subsample=0.6391032172852256 \n",
      "[CV]  colsample_bytree=0.6943424190778208, gamma=0.7640224418394755, max_depth=6, min_child_weight=10, reg_alpha=3.8985094032993923, reg_lambda=4.2194818017196285, subsample=0.5080867179076862, score=0.2653061224489796, total=   0.0s\n",
      "[CV] colsample_bytree=0.5278662908811751, gamma=0.5439756413500355, max_depth=5, min_child_weight=7, reg_alpha=4.042468014465938, reg_lambda=2.5087852179226826, subsample=0.6859395304685146 \n",
      "[CV] colsample_bytree=0.6943424190778208, gamma=0.7640224418394755, max_depth=6, min_child_weight=10, reg_alpha=3.8985094032993923, reg_lambda=4.2194818017196285, subsample=0.5080867179076862 \n",
      "[CV]  colsample_bytree=0.6943424190778208, gamma=0.7640224418394755, max_depth=6, min_child_weight=10, reg_alpha=3.8985094032993923, reg_lambda=4.2194818017196285, subsample=0.5080867179076862, score=0.2857142857142857, total=   0.0s\n"
     ]
    },
    {
     "name": "stderr",
     "output_type": "stream",
     "text": [
      "/home/hitkul/anaconda3/envs/ps3/lib/python3.6/site-packages/sklearn/preprocessing/label.py:151: DeprecationWarning: The truth value of an empty array is ambiguous. Returning False, but in future this will result in an error. Use `array.size > 0` to check that an array is not empty.\n",
      "  if diff:\n",
      "/home/hitkul/anaconda3/envs/ps3/lib/python3.6/site-packages/sklearn/preprocessing/label.py:151: DeprecationWarning: The truth value of an empty array is ambiguous. Returning False, but in future this will result in an error. Use `array.size > 0` to check that an array is not empty.\n",
      "  if diff:\n"
     ]
    },
    {
     "name": "stdout",
     "output_type": "stream",
     "text": [
      "[CV] colsample_bytree=0.6943424190778208, gamma=0.7640224418394755, max_depth=6, min_child_weight=10, reg_alpha=3.8985094032993923, reg_lambda=4.2194818017196285, subsample=0.5080867179076862 \n"
     ]
    },
    {
     "name": "stderr",
     "output_type": "stream",
     "text": [
      "/home/hitkul/anaconda3/envs/ps3/lib/python3.6/site-packages/sklearn/preprocessing/label.py:151: DeprecationWarning: The truth value of an empty array is ambiguous. Returning False, but in future this will result in an error. Use `array.size > 0` to check that an array is not empty.\n",
      "  if diff:\n",
      "/home/hitkul/anaconda3/envs/ps3/lib/python3.6/site-packages/sklearn/preprocessing/label.py:151: DeprecationWarning: The truth value of an empty array is ambiguous. Returning False, but in future this will result in an error. Use `array.size > 0` to check that an array is not empty.\n",
      "  if diff:\n",
      "/home/hitkul/anaconda3/envs/ps3/lib/python3.6/site-packages/sklearn/preprocessing/label.py:151: DeprecationWarning: The truth value of an empty array is ambiguous. Returning False, but in future this will result in an error. Use `array.size > 0` to check that an array is not empty.\n",
      "  if diff:\n"
     ]
    },
    {
     "name": "stdout",
     "output_type": "stream",
     "text": [
      "[CV]  colsample_bytree=0.5278662908811751, gamma=0.5439756413500355, max_depth=5, min_child_weight=7, reg_alpha=4.042468014465938, reg_lambda=2.5087852179226826, subsample=0.6859395304685146, score=0.33962264150943394, total=   0.0s\n",
      "[CV]  colsample_bytree=0.6943424190778208, gamma=0.7640224418394755, max_depth=6, min_child_weight=10, reg_alpha=3.8985094032993923, reg_lambda=4.2194818017196285, subsample=0.5080867179076862, score=0.2916666666666667, total=   0.0s\n",
      "[CV] colsample_bytree=0.5278662908811751, gamma=0.5439756413500355, max_depth=5, min_child_weight=7, reg_alpha=4.042468014465938, reg_lambda=2.5087852179226826, subsample=0.6859395304685146 \n",
      "[CV] colsample_bytree=0.6421325779371575, gamma=0.0998017387306482, max_depth=4, min_child_weight=7, reg_alpha=13.16764110306062, reg_lambda=5.1254544440543235, subsample=0.6391032172852256 \n"
     ]
    },
    {
     "name": "stderr",
     "output_type": "stream",
     "text": [
      "/home/hitkul/anaconda3/envs/ps3/lib/python3.6/site-packages/sklearn/preprocessing/label.py:151: DeprecationWarning: The truth value of an empty array is ambiguous. Returning False, but in future this will result in an error. Use `array.size > 0` to check that an array is not empty.\n",
      "  if diff:\n",
      "/home/hitkul/anaconda3/envs/ps3/lib/python3.6/site-packages/sklearn/preprocessing/label.py:151: DeprecationWarning: The truth value of an empty array is ambiguous. Returning False, but in future this will result in an error. Use `array.size > 0` to check that an array is not empty.\n",
      "  if diff:\n",
      "/home/hitkul/anaconda3/envs/ps3/lib/python3.6/site-packages/sklearn/preprocessing/label.py:151: DeprecationWarning: The truth value of an empty array is ambiguous. Returning False, but in future this will result in an error. Use `array.size > 0` to check that an array is not empty.\n",
      "  if diff:\n"
     ]
    },
    {
     "name": "stdout",
     "output_type": "stream",
     "text": [
      "[CV]  colsample_bytree=0.6421325779371575, gamma=0.0998017387306482, max_depth=4, min_child_weight=7, reg_alpha=13.16764110306062, reg_lambda=5.1254544440543235, subsample=0.6391032172852256, score=0.2653061224489796, total=   0.0s\n",
      "[CV] colsample_bytree=0.6421325779371575, gamma=0.0998017387306482, max_depth=4, min_child_weight=7, reg_alpha=13.16764110306062, reg_lambda=5.1254544440543235, subsample=0.6391032172852256 \n"
     ]
    },
    {
     "name": "stderr",
     "output_type": "stream",
     "text": [
      "/home/hitkul/anaconda3/envs/ps3/lib/python3.6/site-packages/sklearn/preprocessing/label.py:151: DeprecationWarning: The truth value of an empty array is ambiguous. Returning False, but in future this will result in an error. Use `array.size > 0` to check that an array is not empty.\n",
      "  if diff:\n"
     ]
    },
    {
     "name": "stdout",
     "output_type": "stream",
     "text": [
      "[CV]  colsample_bytree=0.6943424190778208, gamma=0.7640224418394755, max_depth=6, min_child_weight=10, reg_alpha=3.8985094032993923, reg_lambda=4.2194818017196285, subsample=0.5080867179076862, score=0.3673469387755102, total=   0.0s\n"
     ]
    },
    {
     "name": "stderr",
     "output_type": "stream",
     "text": [
      "/home/hitkul/anaconda3/envs/ps3/lib/python3.6/site-packages/sklearn/preprocessing/label.py:151: DeprecationWarning: The truth value of an empty array is ambiguous. Returning False, but in future this will result in an error. Use `array.size > 0` to check that an array is not empty.\n",
      "  if diff:\n",
      "/home/hitkul/anaconda3/envs/ps3/lib/python3.6/site-packages/sklearn/preprocessing/label.py:151: DeprecationWarning: The truth value of an empty array is ambiguous. Returning False, but in future this will result in an error. Use `array.size > 0` to check that an array is not empty.\n",
      "  if diff:\n"
     ]
    },
    {
     "name": "stdout",
     "output_type": "stream",
     "text": [
      "[CV]  colsample_bytree=0.5278662908811751, gamma=0.5439756413500355, max_depth=5, min_child_weight=7, reg_alpha=4.042468014465938, reg_lambda=2.5087852179226826, subsample=0.6859395304685146, score=0.4423076923076923, total=   0.0s\n",
      "[CV] colsample_bytree=0.6943424190778208, gamma=0.7640224418394755, max_depth=6, min_child_weight=10, reg_alpha=3.8985094032993923, reg_lambda=4.2194818017196285, subsample=0.5080867179076862 \n"
     ]
    },
    {
     "name": "stderr",
     "output_type": "stream",
     "text": [
      "/home/hitkul/anaconda3/envs/ps3/lib/python3.6/site-packages/sklearn/preprocessing/label.py:151: DeprecationWarning: The truth value of an empty array is ambiguous. Returning False, but in future this will result in an error. Use `array.size > 0` to check that an array is not empty.\n",
      "  if diff:\n"
     ]
    },
    {
     "name": "stdout",
     "output_type": "stream",
     "text": [
      "[CV]  colsample_bytree=0.6421325779371575, gamma=0.0998017387306482, max_depth=4, min_child_weight=7, reg_alpha=13.16764110306062, reg_lambda=5.1254544440543235, subsample=0.6391032172852256, score=0.2857142857142857, total=   0.0s\n",
      "[CV] colsample_bytree=0.5278662908811751, gamma=0.5439756413500355, max_depth=5, min_child_weight=7, reg_alpha=4.042468014465938, reg_lambda=2.5087852179226826, subsample=0.6859395304685146 \n"
     ]
    },
    {
     "name": "stderr",
     "output_type": "stream",
     "text": [
      "/home/hitkul/anaconda3/envs/ps3/lib/python3.6/site-packages/sklearn/preprocessing/label.py:151: DeprecationWarning: The truth value of an empty array is ambiguous. Returning False, but in future this will result in an error. Use `array.size > 0` to check that an array is not empty.\n",
      "  if diff:\n",
      "/home/hitkul/anaconda3/envs/ps3/lib/python3.6/site-packages/sklearn/preprocessing/label.py:151: DeprecationWarning: The truth value of an empty array is ambiguous. Returning False, but in future this will result in an error. Use `array.size > 0` to check that an array is not empty.\n",
      "  if diff:\n"
     ]
    },
    {
     "name": "stdout",
     "output_type": "stream",
     "text": [
      "[CV] colsample_bytree=0.6421325779371575, gamma=0.0998017387306482, max_depth=4, min_child_weight=7, reg_alpha=13.16764110306062, reg_lambda=5.1254544440543235, subsample=0.6391032172852256 \n"
     ]
    },
    {
     "name": "stderr",
     "output_type": "stream",
     "text": [
      "/home/hitkul/anaconda3/envs/ps3/lib/python3.6/site-packages/sklearn/preprocessing/label.py:151: DeprecationWarning: The truth value of an empty array is ambiguous. Returning False, but in future this will result in an error. Use `array.size > 0` to check that an array is not empty.\n",
      "  if diff:\n"
     ]
    },
    {
     "name": "stdout",
     "output_type": "stream",
     "text": [
      "[CV]  colsample_bytree=0.6943424190778208, gamma=0.7640224418394755, max_depth=6, min_child_weight=10, reg_alpha=3.8985094032993923, reg_lambda=4.2194818017196285, subsample=0.5080867179076862, score=0.2857142857142857, total=   0.0s\n",
      "[CV] colsample_bytree=0.6943424190778208, gamma=0.7640224418394755, max_depth=6, min_child_weight=10, reg_alpha=3.8985094032993923, reg_lambda=4.2194818017196285, subsample=0.5080867179076862 \n"
     ]
    },
    {
     "name": "stderr",
     "output_type": "stream",
     "text": [
      "/home/hitkul/anaconda3/envs/ps3/lib/python3.6/site-packages/sklearn/preprocessing/label.py:151: DeprecationWarning: The truth value of an empty array is ambiguous. Returning False, but in future this will result in an error. Use `array.size > 0` to check that an array is not empty.\n",
      "  if diff:\n",
      "[Parallel(n_jobs=4)]: Done 104 tasks      | elapsed:    1.2s\n",
      "/home/hitkul/anaconda3/envs/ps3/lib/python3.6/site-packages/sklearn/preprocessing/label.py:151: DeprecationWarning: The truth value of an empty array is ambiguous. Returning False, but in future this will result in an error. Use `array.size > 0` to check that an array is not empty.\n",
      "  if diff:\n",
      "/home/hitkul/anaconda3/envs/ps3/lib/python3.6/site-packages/sklearn/preprocessing/label.py:151: DeprecationWarning: The truth value of an empty array is ambiguous. Returning False, but in future this will result in an error. Use `array.size > 0` to check that an array is not empty.\n",
      "  if diff:\n"
     ]
    },
    {
     "name": "stdout",
     "output_type": "stream",
     "text": [
      "[CV] colsample_bytree=0.5278662908811751, gamma=0.5439756413500355, max_depth=5, min_child_weight=7, reg_alpha=4.042468014465938, reg_lambda=2.5087852179226826, subsample=0.6859395304685146 \n",
      "[CV]  colsample_bytree=0.5278662908811751, gamma=0.5439756413500355, max_depth=5, min_child_weight=7, reg_alpha=4.042468014465938, reg_lambda=2.5087852179226826, subsample=0.6859395304685146, score=0.34615384615384615, total=   0.0s\n"
     ]
    },
    {
     "name": "stderr",
     "output_type": "stream",
     "text": [
      "/home/hitkul/anaconda3/envs/ps3/lib/python3.6/site-packages/sklearn/preprocessing/label.py:151: DeprecationWarning: The truth value of an empty array is ambiguous. Returning False, but in future this will result in an error. Use `array.size > 0` to check that an array is not empty.\n",
      "  if diff:\n",
      "/home/hitkul/anaconda3/envs/ps3/lib/python3.6/site-packages/sklearn/preprocessing/label.py:151: DeprecationWarning: The truth value of an empty array is ambiguous. Returning False, but in future this will result in an error. Use `array.size > 0` to check that an array is not empty.\n",
      "  if diff:\n"
     ]
    },
    {
     "name": "stdout",
     "output_type": "stream",
     "text": [
      "[CV]  colsample_bytree=0.6421325779371575, gamma=0.0998017387306482, max_depth=4, min_child_weight=7, reg_alpha=13.16764110306062, reg_lambda=5.1254544440543235, subsample=0.6391032172852256, score=0.2857142857142857, total=   0.0s\n"
     ]
    },
    {
     "name": "stderr",
     "output_type": "stream",
     "text": [
      "/home/hitkul/anaconda3/envs/ps3/lib/python3.6/site-packages/sklearn/preprocessing/label.py:151: DeprecationWarning: The truth value of an empty array is ambiguous. Returning False, but in future this will result in an error. Use `array.size > 0` to check that an array is not empty.\n",
      "  if diff:\n",
      "/home/hitkul/anaconda3/envs/ps3/lib/python3.6/site-packages/sklearn/preprocessing/label.py:151: DeprecationWarning: The truth value of an empty array is ambiguous. Returning False, but in future this will result in an error. Use `array.size > 0` to check that an array is not empty.\n",
      "  if diff:\n",
      "/home/hitkul/anaconda3/envs/ps3/lib/python3.6/site-packages/sklearn/preprocessing/label.py:151: DeprecationWarning: The truth value of an empty array is ambiguous. Returning False, but in future this will result in an error. Use `array.size > 0` to check that an array is not empty.\n",
      "  if diff:\n"
     ]
    },
    {
     "name": "stdout",
     "output_type": "stream",
     "text": [
      "[CV]  colsample_bytree=0.6421325779371575, gamma=0.0998017387306482, max_depth=4, min_child_weight=7, reg_alpha=13.16764110306062, reg_lambda=5.1254544440543235, subsample=0.6391032172852256, score=0.33962264150943394, total=   0.1s\n"
     ]
    },
    {
     "name": "stderr",
     "output_type": "stream",
     "text": [
      "/home/hitkul/anaconda3/envs/ps3/lib/python3.6/site-packages/sklearn/preprocessing/label.py:151: DeprecationWarning: The truth value of an empty array is ambiguous. Returning False, but in future this will result in an error. Use `array.size > 0` to check that an array is not empty.\n",
      "  if diff:\n"
     ]
    },
    {
     "name": "stdout",
     "output_type": "stream",
     "text": [
      "[CV] colsample_bytree=0.6421325779371575, gamma=0.0998017387306482, max_depth=4, min_child_weight=7, reg_alpha=13.16764110306062, reg_lambda=5.1254544440543235, subsample=0.6391032172852256 \n",
      "[CV] colsample_bytree=0.6421325779371575, gamma=0.0998017387306482, max_depth=4, min_child_weight=7, reg_alpha=13.16764110306062, reg_lambda=5.1254544440543235, subsample=0.6391032172852256 \n",
      "[CV]  colsample_bytree=0.5278662908811751, gamma=0.5439756413500355, max_depth=5, min_child_weight=7, reg_alpha=4.042468014465938, reg_lambda=2.5087852179226826, subsample=0.6859395304685146, score=0.34, total=   0.0s\n",
      "[CV]  colsample_bytree=0.6943424190778208, gamma=0.7640224418394755, max_depth=6, min_child_weight=10, reg_alpha=3.8985094032993923, reg_lambda=4.2194818017196285, subsample=0.5080867179076862, score=0.40816326530612246, total=   0.0s\n",
      "[CV] colsample_bytree=0.5278662908811751, gamma=0.5439756413500355, max_depth=5, min_child_weight=7, reg_alpha=4.042468014465938, reg_lambda=2.5087852179226826, subsample=0.6859395304685146 \n"
     ]
    },
    {
     "name": "stderr",
     "output_type": "stream",
     "text": [
      "/home/hitkul/anaconda3/envs/ps3/lib/python3.6/site-packages/sklearn/preprocessing/label.py:151: DeprecationWarning: The truth value of an empty array is ambiguous. Returning False, but in future this will result in an error. Use `array.size > 0` to check that an array is not empty.\n",
      "  if diff:\n",
      "/home/hitkul/anaconda3/envs/ps3/lib/python3.6/site-packages/sklearn/preprocessing/label.py:151: DeprecationWarning: The truth value of an empty array is ambiguous. Returning False, but in future this will result in an error. Use `array.size > 0` to check that an array is not empty.\n",
      "  if diff:\n"
     ]
    },
    {
     "name": "stdout",
     "output_type": "stream",
     "text": [
      "[CV] colsample_bytree=0.5278662908811751, gamma=0.5439756413500355, max_depth=5, min_child_weight=7, reg_alpha=4.042468014465938, reg_lambda=2.5087852179226826, subsample=0.6859395304685146 \n"
     ]
    },
    {
     "name": "stderr",
     "output_type": "stream",
     "text": [
      "/home/hitkul/anaconda3/envs/ps3/lib/python3.6/site-packages/sklearn/preprocessing/label.py:151: DeprecationWarning: The truth value of an empty array is ambiguous. Returning False, but in future this will result in an error. Use `array.size > 0` to check that an array is not empty.\n",
      "  if diff:\n"
     ]
    },
    {
     "name": "stdout",
     "output_type": "stream",
     "text": [
      "[CV]  colsample_bytree=0.6421325779371575, gamma=0.0998017387306482, max_depth=4, min_child_weight=7, reg_alpha=13.16764110306062, reg_lambda=5.1254544440543235, subsample=0.6391032172852256, score=0.40384615384615385, total=   0.0s\n",
      "[CV] colsample_bytree=0.6421325779371575, gamma=0.0998017387306482, max_depth=4, min_child_weight=7, reg_alpha=13.16764110306062, reg_lambda=5.1254544440543235, subsample=0.6391032172852256 \n"
     ]
    },
    {
     "name": "stderr",
     "output_type": "stream",
     "text": [
      "/home/hitkul/anaconda3/envs/ps3/lib/python3.6/site-packages/sklearn/preprocessing/label.py:151: DeprecationWarning: The truth value of an empty array is ambiguous. Returning False, but in future this will result in an error. Use `array.size > 0` to check that an array is not empty.\n",
      "  if diff:\n",
      "/home/hitkul/anaconda3/envs/ps3/lib/python3.6/site-packages/sklearn/preprocessing/label.py:151: DeprecationWarning: The truth value of an empty array is ambiguous. Returning False, but in future this will result in an error. Use `array.size > 0` to check that an array is not empty.\n",
      "  if diff:\n",
      "/home/hitkul/anaconda3/envs/ps3/lib/python3.6/site-packages/sklearn/preprocessing/label.py:151: DeprecationWarning: The truth value of an empty array is ambiguous. Returning False, but in future this will result in an error. Use `array.size > 0` to check that an array is not empty.\n",
      "  if diff:\n",
      "/home/hitkul/anaconda3/envs/ps3/lib/python3.6/site-packages/sklearn/preprocessing/label.py:151: DeprecationWarning: The truth value of an empty array is ambiguous. Returning False, but in future this will result in an error. Use `array.size > 0` to check that an array is not empty.\n",
      "  if diff:\n",
      "/home/hitkul/anaconda3/envs/ps3/lib/python3.6/site-packages/sklearn/preprocessing/label.py:151: DeprecationWarning: The truth value of an empty array is ambiguous. Returning False, but in future this will result in an error. Use `array.size > 0` to check that an array is not empty.\n",
      "  if diff:\n"
     ]
    },
    {
     "name": "stdout",
     "output_type": "stream",
     "text": [
      "[CV]  colsample_bytree=0.6421325779371575, gamma=0.0998017387306482, max_depth=4, min_child_weight=7, reg_alpha=13.16764110306062, reg_lambda=5.1254544440543235, subsample=0.6391032172852256, score=0.32653061224489793, total=   0.0s\n",
      "[CV]  colsample_bytree=0.5278662908811751, gamma=0.5439756413500355, max_depth=5, min_child_weight=7, reg_alpha=4.042468014465938, reg_lambda=2.5087852179226826, subsample=0.6859395304685146, score=0.2653061224489796, total=   0.0s\n",
      "[CV] colsample_bytree=0.5278662908811751, gamma=0.5439756413500355, max_depth=5, min_child_weight=7, reg_alpha=4.042468014465938, reg_lambda=2.5087852179226826, subsample=0.6859395304685146 \n",
      "[CV]  colsample_bytree=0.5278662908811751, gamma=0.5439756413500355, max_depth=5, min_child_weight=7, reg_alpha=4.042468014465938, reg_lambda=2.5087852179226826, subsample=0.6859395304685146, score=0.30612244897959184, total=   0.0s\n",
      "[CV] colsample_bytree=0.5278662908811751, gamma=0.5439756413500355, max_depth=5, min_child_weight=7, reg_alpha=4.042468014465938, reg_lambda=2.5087852179226826, subsample=0.6859395304685146 \n"
     ]
    },
    {
     "name": "stderr",
     "output_type": "stream",
     "text": [
      "/home/hitkul/anaconda3/envs/ps3/lib/python3.6/site-packages/sklearn/preprocessing/label.py:151: DeprecationWarning: The truth value of an empty array is ambiguous. Returning False, but in future this will result in an error. Use `array.size > 0` to check that an array is not empty.\n",
      "  if diff:\n",
      "/home/hitkul/anaconda3/envs/ps3/lib/python3.6/site-packages/sklearn/preprocessing/label.py:151: DeprecationWarning: The truth value of an empty array is ambiguous. Returning False, but in future this will result in an error. Use `array.size > 0` to check that an array is not empty.\n",
      "  if diff:\n",
      "/home/hitkul/anaconda3/envs/ps3/lib/python3.6/site-packages/sklearn/preprocessing/label.py:151: DeprecationWarning: The truth value of an empty array is ambiguous. Returning False, but in future this will result in an error. Use `array.size > 0` to check that an array is not empty.\n",
      "  if diff:\n"
     ]
    },
    {
     "name": "stdout",
     "output_type": "stream",
     "text": [
      "[CV] colsample_bytree=0.6421325779371575, gamma=0.0998017387306482, max_depth=4, min_child_weight=7, reg_alpha=13.16764110306062, reg_lambda=5.1254544440543235, subsample=0.6391032172852256 \n",
      "[CV]  colsample_bytree=0.5278662908811751, gamma=0.5439756413500355, max_depth=5, min_child_weight=7, reg_alpha=4.042468014465938, reg_lambda=2.5087852179226826, subsample=0.6859395304685146, score=0.3469387755102041, total=   0.0s\n",
      "[CV] colsample_bytree=0.6616240759128834, gamma=0.5700633808593811, max_depth=7, min_child_weight=4, reg_alpha=0.4853877467402019, reg_lambda=4.843224952664446, subsample=0.6614880310328125 \n"
     ]
    },
    {
     "name": "stderr",
     "output_type": "stream",
     "text": [
      "/home/hitkul/anaconda3/envs/ps3/lib/python3.6/site-packages/sklearn/preprocessing/label.py:151: DeprecationWarning: The truth value of an empty array is ambiguous. Returning False, but in future this will result in an error. Use `array.size > 0` to check that an array is not empty.\n",
      "  if diff:\n",
      "/home/hitkul/anaconda3/envs/ps3/lib/python3.6/site-packages/sklearn/preprocessing/label.py:151: DeprecationWarning: The truth value of an empty array is ambiguous. Returning False, but in future this will result in an error. Use `array.size > 0` to check that an array is not empty.\n",
      "  if diff:\n",
      "/home/hitkul/anaconda3/envs/ps3/lib/python3.6/site-packages/sklearn/preprocessing/label.py:151: DeprecationWarning: The truth value of an empty array is ambiguous. Returning False, but in future this will result in an error. Use `array.size > 0` to check that an array is not empty.\n",
      "  if diff:\n",
      "/home/hitkul/anaconda3/envs/ps3/lib/python3.6/site-packages/sklearn/preprocessing/label.py:151: DeprecationWarning: The truth value of an empty array is ambiguous. Returning False, but in future this will result in an error. Use `array.size > 0` to check that an array is not empty.\n",
      "  if diff:\n"
     ]
    },
    {
     "name": "stdout",
     "output_type": "stream",
     "text": [
      "[CV]  colsample_bytree=0.6421325779371575, gamma=0.0998017387306482, max_depth=4, min_child_weight=7, reg_alpha=13.16764110306062, reg_lambda=5.1254544440543235, subsample=0.6391032172852256, score=0.28846153846153844, total=   0.0s\n"
     ]
    },
    {
     "name": "stderr",
     "output_type": "stream",
     "text": [
      "/home/hitkul/anaconda3/envs/ps3/lib/python3.6/site-packages/sklearn/preprocessing/label.py:151: DeprecationWarning: The truth value of an empty array is ambiguous. Returning False, but in future this will result in an error. Use `array.size > 0` to check that an array is not empty.\n",
      "  if diff:\n"
     ]
    },
    {
     "name": "stdout",
     "output_type": "stream",
     "text": [
      "[CV]  colsample_bytree=0.5278662908811751, gamma=0.5439756413500355, max_depth=5, min_child_weight=7, reg_alpha=4.042468014465938, reg_lambda=2.5087852179226826, subsample=0.6859395304685146, score=0.3877551020408163, total=   0.0s\n"
     ]
    },
    {
     "name": "stderr",
     "output_type": "stream",
     "text": [
      "/home/hitkul/anaconda3/envs/ps3/lib/python3.6/site-packages/sklearn/preprocessing/label.py:151: DeprecationWarning: The truth value of an empty array is ambiguous. Returning False, but in future this will result in an error. Use `array.size > 0` to check that an array is not empty.\n",
      "  if diff:\n"
     ]
    },
    {
     "name": "stdout",
     "output_type": "stream",
     "text": [
      "[CV] colsample_bytree=0.6421325779371575, gamma=0.0998017387306482, max_depth=4, min_child_weight=7, reg_alpha=13.16764110306062, reg_lambda=5.1254544440543235, subsample=0.6391032172852256 \n",
      "[CV]  colsample_bytree=0.6421325779371575, gamma=0.0998017387306482, max_depth=4, min_child_weight=7, reg_alpha=13.16764110306062, reg_lambda=5.1254544440543235, subsample=0.6391032172852256, score=0.2653061224489796, total=   0.0s\n"
     ]
    },
    {
     "name": "stderr",
     "output_type": "stream",
     "text": [
      "/home/hitkul/anaconda3/envs/ps3/lib/python3.6/site-packages/sklearn/preprocessing/label.py:151: DeprecationWarning: The truth value of an empty array is ambiguous. Returning False, but in future this will result in an error. Use `array.size > 0` to check that an array is not empty.\n",
      "  if diff:\n"
     ]
    },
    {
     "name": "stdout",
     "output_type": "stream",
     "text": [
      "[CV] colsample_bytree=0.5278662908811751, gamma=0.5439756413500355, max_depth=5, min_child_weight=7, reg_alpha=4.042468014465938, reg_lambda=2.5087852179226826, subsample=0.6859395304685146 \n"
     ]
    },
    {
     "name": "stderr",
     "output_type": "stream",
     "text": [
      "/home/hitkul/anaconda3/envs/ps3/lib/python3.6/site-packages/sklearn/preprocessing/label.py:151: DeprecationWarning: The truth value of an empty array is ambiguous. Returning False, but in future this will result in an error. Use `array.size > 0` to check that an array is not empty.\n",
      "  if diff:\n"
     ]
    },
    {
     "name": "stdout",
     "output_type": "stream",
     "text": [
      "[CV] colsample_bytree=0.6421325779371575, gamma=0.0998017387306482, max_depth=4, min_child_weight=7, reg_alpha=13.16764110306062, reg_lambda=5.1254544440543235, subsample=0.6391032172852256 \n"
     ]
    },
    {
     "name": "stderr",
     "output_type": "stream",
     "text": [
      "/home/hitkul/anaconda3/envs/ps3/lib/python3.6/site-packages/sklearn/preprocessing/label.py:151: DeprecationWarning: The truth value of an empty array is ambiguous. Returning False, but in future this will result in an error. Use `array.size > 0` to check that an array is not empty.\n",
      "  if diff:\n",
      "/home/hitkul/anaconda3/envs/ps3/lib/python3.6/site-packages/sklearn/preprocessing/label.py:151: DeprecationWarning: The truth value of an empty array is ambiguous. Returning False, but in future this will result in an error. Use `array.size > 0` to check that an array is not empty.\n",
      "  if diff:\n"
     ]
    },
    {
     "name": "stdout",
     "output_type": "stream",
     "text": [
      "[CV]  colsample_bytree=0.6421325779371575, gamma=0.0998017387306482, max_depth=4, min_child_weight=7, reg_alpha=13.16764110306062, reg_lambda=5.1254544440543235, subsample=0.6391032172852256, score=0.3, total=   0.0s\n",
      "[CV]  colsample_bytree=0.6616240759128834, gamma=0.5700633808593811, max_depth=7, min_child_weight=4, reg_alpha=0.4853877467402019, reg_lambda=4.843224952664446, subsample=0.6614880310328125, score=0.34615384615384615, total=   0.0s\n",
      "[CV] colsample_bytree=0.6616240759128834, gamma=0.5700633808593811, max_depth=7, min_child_weight=4, reg_alpha=0.4853877467402019, reg_lambda=4.843224952664446, subsample=0.6614880310328125 \n",
      "[CV] colsample_bytree=0.6616240759128834, gamma=0.5700633808593811, max_depth=7, min_child_weight=4, reg_alpha=0.4853877467402019, reg_lambda=4.843224952664446, subsample=0.6614880310328125 \n"
     ]
    },
    {
     "name": "stderr",
     "output_type": "stream",
     "text": [
      "/home/hitkul/anaconda3/envs/ps3/lib/python3.6/site-packages/sklearn/preprocessing/label.py:151: DeprecationWarning: The truth value of an empty array is ambiguous. Returning False, but in future this will result in an error. Use `array.size > 0` to check that an array is not empty.\n",
      "  if diff:\n",
      "/home/hitkul/anaconda3/envs/ps3/lib/python3.6/site-packages/sklearn/preprocessing/label.py:151: DeprecationWarning: The truth value of an empty array is ambiguous. Returning False, but in future this will result in an error. Use `array.size > 0` to check that an array is not empty.\n",
      "  if diff:\n",
      "/home/hitkul/anaconda3/envs/ps3/lib/python3.6/site-packages/sklearn/preprocessing/label.py:151: DeprecationWarning: The truth value of an empty array is ambiguous. Returning False, but in future this will result in an error. Use `array.size > 0` to check that an array is not empty.\n",
      "  if diff:\n"
     ]
    },
    {
     "name": "stdout",
     "output_type": "stream",
     "text": [
      "[CV]  colsample_bytree=0.5278662908811751, gamma=0.5439756413500355, max_depth=5, min_child_weight=7, reg_alpha=4.042468014465938, reg_lambda=2.5087852179226826, subsample=0.6859395304685146, score=0.30612244897959184, total=   0.0s\n"
     ]
    },
    {
     "name": "stderr",
     "output_type": "stream",
     "text": [
      "/home/hitkul/anaconda3/envs/ps3/lib/python3.6/site-packages/sklearn/preprocessing/label.py:151: DeprecationWarning: The truth value of an empty array is ambiguous. Returning False, but in future this will result in an error. Use `array.size > 0` to check that an array is not empty.\n",
      "  if diff:\n",
      "/home/hitkul/anaconda3/envs/ps3/lib/python3.6/site-packages/sklearn/preprocessing/label.py:151: DeprecationWarning: The truth value of an empty array is ambiguous. Returning False, but in future this will result in an error. Use `array.size > 0` to check that an array is not empty.\n",
      "  if diff:\n"
     ]
    },
    {
     "name": "stdout",
     "output_type": "stream",
     "text": [
      "[CV] colsample_bytree=0.5278662908811751, gamma=0.5439756413500355, max_depth=5, min_child_weight=7, reg_alpha=4.042468014465938, reg_lambda=2.5087852179226826, subsample=0.6859395304685146 \n"
     ]
    },
    {
     "name": "stderr",
     "output_type": "stream",
     "text": [
      "/home/hitkul/anaconda3/envs/ps3/lib/python3.6/site-packages/sklearn/preprocessing/label.py:151: DeprecationWarning: The truth value of an empty array is ambiguous. Returning False, but in future this will result in an error. Use `array.size > 0` to check that an array is not empty.\n",
      "  if diff:\n",
      "/home/hitkul/anaconda3/envs/ps3/lib/python3.6/site-packages/sklearn/preprocessing/label.py:151: DeprecationWarning: The truth value of an empty array is ambiguous. Returning False, but in future this will result in an error. Use `array.size > 0` to check that an array is not empty.\n",
      "  if diff:\n"
     ]
    },
    {
     "name": "stdout",
     "output_type": "stream",
     "text": [
      "[CV]  colsample_bytree=0.6616240759128834, gamma=0.5700633808593811, max_depth=7, min_child_weight=4, reg_alpha=0.4853877467402019, reg_lambda=4.843224952664446, subsample=0.6614880310328125, score=0.36, total=   0.0s\n",
      "[CV] colsample_bytree=0.6616240759128834, gamma=0.5700633808593811, max_depth=7, min_child_weight=4, reg_alpha=0.4853877467402019, reg_lambda=4.843224952664446, subsample=0.6614880310328125 \n",
      "[CV]  colsample_bytree=0.6421325779371575, gamma=0.0998017387306482, max_depth=4, min_child_weight=7, reg_alpha=13.16764110306062, reg_lambda=5.1254544440543235, subsample=0.6391032172852256, score=0.3333333333333333, total=   0.0s\n",
      "[CV] colsample_bytree=0.6792182599846986, gamma=0.2862031274746775, max_depth=2, min_child_weight=1, reg_alpha=1.960540765660788, reg_lambda=7.317574740660593, subsample=0.6636029531844987 \n",
      "[CV]  colsample_bytree=0.6616240759128834, gamma=0.5700633808593811, max_depth=7, min_child_weight=4, reg_alpha=0.4853877467402019, reg_lambda=4.843224952664446, subsample=0.6614880310328125, score=0.24489795918367346, total=   0.0s\n"
     ]
    },
    {
     "name": "stderr",
     "output_type": "stream",
     "text": [
      "/home/hitkul/anaconda3/envs/ps3/lib/python3.6/site-packages/sklearn/preprocessing/label.py:151: DeprecationWarning: The truth value of an empty array is ambiguous. Returning False, but in future this will result in an error. Use `array.size > 0` to check that an array is not empty.\n",
      "  if diff:\n"
     ]
    },
    {
     "name": "stdout",
     "output_type": "stream",
     "text": [
      "[CV] colsample_bytree=0.6616240759128834, gamma=0.5700633808593811, max_depth=7, min_child_weight=4, reg_alpha=0.4853877467402019, reg_lambda=4.843224952664446, subsample=0.6614880310328125 \n"
     ]
    },
    {
     "name": "stderr",
     "output_type": "stream",
     "text": [
      "/home/hitkul/anaconda3/envs/ps3/lib/python3.6/site-packages/sklearn/preprocessing/label.py:151: DeprecationWarning: The truth value of an empty array is ambiguous. Returning False, but in future this will result in an error. Use `array.size > 0` to check that an array is not empty.\n",
      "  if diff:\n",
      "/home/hitkul/anaconda3/envs/ps3/lib/python3.6/site-packages/sklearn/preprocessing/label.py:151: DeprecationWarning: The truth value of an empty array is ambiguous. Returning False, but in future this will result in an error. Use `array.size > 0` to check that an array is not empty.\n",
      "  if diff:\n",
      "/home/hitkul/anaconda3/envs/ps3/lib/python3.6/site-packages/sklearn/preprocessing/label.py:151: DeprecationWarning: The truth value of an empty array is ambiguous. Returning False, but in future this will result in an error. Use `array.size > 0` to check that an array is not empty.\n",
      "  if diff:\n"
     ]
    },
    {
     "name": "stdout",
     "output_type": "stream",
     "text": [
      "[CV]  colsample_bytree=0.5278662908811751, gamma=0.5439756413500355, max_depth=5, min_child_weight=7, reg_alpha=4.042468014465938, reg_lambda=2.5087852179226826, subsample=0.6859395304685146, score=0.2916666666666667, total=   0.0s\n"
     ]
    },
    {
     "name": "stderr",
     "output_type": "stream",
     "text": [
      "/home/hitkul/anaconda3/envs/ps3/lib/python3.6/site-packages/sklearn/preprocessing/label.py:151: DeprecationWarning: The truth value of an empty array is ambiguous. Returning False, but in future this will result in an error. Use `array.size > 0` to check that an array is not empty.\n",
      "  if diff:\n"
     ]
    },
    {
     "name": "stdout",
     "output_type": "stream",
     "text": [
      "[CV] colsample_bytree=0.6616240759128834, gamma=0.5700633808593811, max_depth=7, min_child_weight=4, reg_alpha=0.4853877467402019, reg_lambda=4.843224952664446, subsample=0.6614880310328125 \n"
     ]
    },
    {
     "name": "stderr",
     "output_type": "stream",
     "text": [
      "/home/hitkul/anaconda3/envs/ps3/lib/python3.6/site-packages/sklearn/preprocessing/label.py:151: DeprecationWarning: The truth value of an empty array is ambiguous. Returning False, but in future this will result in an error. Use `array.size > 0` to check that an array is not empty.\n",
      "  if diff:\n",
      "/home/hitkul/anaconda3/envs/ps3/lib/python3.6/site-packages/sklearn/preprocessing/label.py:151: DeprecationWarning: The truth value of an empty array is ambiguous. Returning False, but in future this will result in an error. Use `array.size > 0` to check that an array is not empty.\n",
      "  if diff:\n",
      "/home/hitkul/anaconda3/envs/ps3/lib/python3.6/site-packages/sklearn/preprocessing/label.py:151: DeprecationWarning: The truth value of an empty array is ambiguous. Returning False, but in future this will result in an error. Use `array.size > 0` to check that an array is not empty.\n",
      "  if diff:\n"
     ]
    },
    {
     "name": "stdout",
     "output_type": "stream",
     "text": [
      "[CV]  colsample_bytree=0.6792182599846986, gamma=0.2862031274746775, max_depth=2, min_child_weight=1, reg_alpha=1.960540765660788, reg_lambda=7.317574740660593, subsample=0.6636029531844987, score=0.2857142857142857, total=   0.0s\n",
      "[CV] colsample_bytree=0.6792182599846986, gamma=0.2862031274746775, max_depth=2, min_child_weight=1, reg_alpha=1.960540765660788, reg_lambda=7.317574740660593, subsample=0.6636029531844987 \n",
      "[CV]  colsample_bytree=0.6616240759128834, gamma=0.5700633808593811, max_depth=7, min_child_weight=4, reg_alpha=0.4853877467402019, reg_lambda=4.843224952664446, subsample=0.6614880310328125, score=0.2857142857142857, total=   0.0s\n",
      "[CV]  colsample_bytree=0.6616240759128834, gamma=0.5700633808593811, max_depth=7, min_child_weight=4, reg_alpha=0.4853877467402019, reg_lambda=4.843224952664446, subsample=0.6614880310328125, score=0.2916666666666667, total=   0.0s\n",
      "[CV] colsample_bytree=0.6792182599846986, gamma=0.2862031274746775, max_depth=2, min_child_weight=1, reg_alpha=1.960540765660788, reg_lambda=7.317574740660593, subsample=0.6636029531844987 \n",
      "[CV] colsample_bytree=0.6616240759128834, gamma=0.5700633808593811, max_depth=7, min_child_weight=4, reg_alpha=0.4853877467402019, reg_lambda=4.843224952664446, subsample=0.6614880310328125 \n"
     ]
    },
    {
     "name": "stderr",
     "output_type": "stream",
     "text": [
      "/home/hitkul/anaconda3/envs/ps3/lib/python3.6/site-packages/sklearn/preprocessing/label.py:151: DeprecationWarning: The truth value of an empty array is ambiguous. Returning False, but in future this will result in an error. Use `array.size > 0` to check that an array is not empty.\n",
      "  if diff:\n",
      "/home/hitkul/anaconda3/envs/ps3/lib/python3.6/site-packages/sklearn/preprocessing/label.py:151: DeprecationWarning: The truth value of an empty array is ambiguous. Returning False, but in future this will result in an error. Use `array.size > 0` to check that an array is not empty.\n",
      "  if diff:\n",
      "/home/hitkul/anaconda3/envs/ps3/lib/python3.6/site-packages/sklearn/preprocessing/label.py:151: DeprecationWarning: The truth value of an empty array is ambiguous. Returning False, but in future this will result in an error. Use `array.size > 0` to check that an array is not empty.\n",
      "  if diff:\n",
      "/home/hitkul/anaconda3/envs/ps3/lib/python3.6/site-packages/sklearn/preprocessing/label.py:151: DeprecationWarning: The truth value of an empty array is ambiguous. Returning False, but in future this will result in an error. Use `array.size > 0` to check that an array is not empty.\n",
      "  if diff:\n",
      "/home/hitkul/anaconda3/envs/ps3/lib/python3.6/site-packages/sklearn/preprocessing/label.py:151: DeprecationWarning: The truth value of an empty array is ambiguous. Returning False, but in future this will result in an error. Use `array.size > 0` to check that an array is not empty.\n",
      "  if diff:\n",
      "/home/hitkul/anaconda3/envs/ps3/lib/python3.6/site-packages/sklearn/preprocessing/label.py:151: DeprecationWarning: The truth value of an empty array is ambiguous. Returning False, but in future this will result in an error. Use `array.size > 0` to check that an array is not empty.\n",
      "  if diff:\n"
     ]
    },
    {
     "name": "stdout",
     "output_type": "stream",
     "text": [
      "[CV]  colsample_bytree=0.6792182599846986, gamma=0.2862031274746775, max_depth=2, min_child_weight=1, reg_alpha=1.960540765660788, reg_lambda=7.317574740660593, subsample=0.6636029531844987, score=0.3469387755102041, total=   0.0s\n"
     ]
    },
    {
     "name": "stderr",
     "output_type": "stream",
     "text": [
      "/home/hitkul/anaconda3/envs/ps3/lib/python3.6/site-packages/sklearn/preprocessing/label.py:151: DeprecationWarning: The truth value of an empty array is ambiguous. Returning False, but in future this will result in an error. Use `array.size > 0` to check that an array is not empty.\n",
      "  if diff:\n"
     ]
    },
    {
     "name": "stdout",
     "output_type": "stream",
     "text": [
      "[CV]  colsample_bytree=0.6616240759128834, gamma=0.5700633808593811, max_depth=7, min_child_weight=4, reg_alpha=0.4853877467402019, reg_lambda=4.843224952664446, subsample=0.6614880310328125, score=0.3584905660377358, total=   0.0s\n",
      "[CV]  colsample_bytree=0.6792182599846986, gamma=0.2862031274746775, max_depth=2, min_child_weight=1, reg_alpha=1.960540765660788, reg_lambda=7.317574740660593, subsample=0.6636029531844987, score=0.37735849056603776, total=   0.0s\n",
      "[CV] colsample_bytree=0.6792182599846986, gamma=0.2862031274746775, max_depth=2, min_child_weight=1, reg_alpha=1.960540765660788, reg_lambda=7.317574740660593, subsample=0.6636029531844987 \n"
     ]
    },
    {
     "name": "stderr",
     "output_type": "stream",
     "text": [
      "/home/hitkul/anaconda3/envs/ps3/lib/python3.6/site-packages/sklearn/preprocessing/label.py:151: DeprecationWarning: The truth value of an empty array is ambiguous. Returning False, but in future this will result in an error. Use `array.size > 0` to check that an array is not empty.\n",
      "  if diff:\n"
     ]
    },
    {
     "name": "stdout",
     "output_type": "stream",
     "text": [
      "[CV] colsample_bytree=0.6616240759128834, gamma=0.5700633808593811, max_depth=7, min_child_weight=4, reg_alpha=0.4853877467402019, reg_lambda=4.843224952664446, subsample=0.6614880310328125 \n",
      "[CV] colsample_bytree=0.6792182599846986, gamma=0.2862031274746775, max_depth=2, min_child_weight=1, reg_alpha=1.960540765660788, reg_lambda=7.317574740660593, subsample=0.6636029531844987 \n",
      "[CV]  colsample_bytree=0.6616240759128834, gamma=0.5700633808593811, max_depth=7, min_child_weight=4, reg_alpha=0.4853877467402019, reg_lambda=4.843224952664446, subsample=0.6614880310328125, score=0.3469387755102041, total=   0.0s\n"
     ]
    },
    {
     "name": "stderr",
     "output_type": "stream",
     "text": [
      "/home/hitkul/anaconda3/envs/ps3/lib/python3.6/site-packages/sklearn/preprocessing/label.py:151: DeprecationWarning: The truth value of an empty array is ambiguous. Returning False, but in future this will result in an error. Use `array.size > 0` to check that an array is not empty.\n",
      "  if diff:\n",
      "/home/hitkul/anaconda3/envs/ps3/lib/python3.6/site-packages/sklearn/preprocessing/label.py:151: DeprecationWarning: The truth value of an empty array is ambiguous. Returning False, but in future this will result in an error. Use `array.size > 0` to check that an array is not empty.\n",
      "  if diff:\n",
      "/home/hitkul/anaconda3/envs/ps3/lib/python3.6/site-packages/sklearn/preprocessing/label.py:151: DeprecationWarning: The truth value of an empty array is ambiguous. Returning False, but in future this will result in an error. Use `array.size > 0` to check that an array is not empty.\n",
      "  if diff:\n",
      "/home/hitkul/anaconda3/envs/ps3/lib/python3.6/site-packages/sklearn/preprocessing/label.py:151: DeprecationWarning: The truth value of an empty array is ambiguous. Returning False, but in future this will result in an error. Use `array.size > 0` to check that an array is not empty.\n",
      "  if diff:\n",
      "/home/hitkul/anaconda3/envs/ps3/lib/python3.6/site-packages/sklearn/preprocessing/label.py:151: DeprecationWarning: The truth value of an empty array is ambiguous. Returning False, but in future this will result in an error. Use `array.size > 0` to check that an array is not empty.\n",
      "  if diff:\n"
     ]
    },
    {
     "name": "stdout",
     "output_type": "stream",
     "text": [
      "[CV]  colsample_bytree=0.6792182599846986, gamma=0.2862031274746775, max_depth=2, min_child_weight=1, reg_alpha=1.960540765660788, reg_lambda=7.317574740660593, subsample=0.6636029531844987, score=0.40384615384615385, total=   0.0s\n"
     ]
    },
    {
     "name": "stderr",
     "output_type": "stream",
     "text": [
      "/home/hitkul/anaconda3/envs/ps3/lib/python3.6/site-packages/sklearn/preprocessing/label.py:151: DeprecationWarning: The truth value of an empty array is ambiguous. Returning False, but in future this will result in an error. Use `array.size > 0` to check that an array is not empty.\n",
      "  if diff:\n"
     ]
    },
    {
     "name": "stdout",
     "output_type": "stream",
     "text": [
      "[CV] colsample_bytree=0.6616240759128834, gamma=0.5700633808593811, max_depth=7, min_child_weight=4, reg_alpha=0.4853877467402019, reg_lambda=4.843224952664446, subsample=0.6614880310328125 \n",
      "[CV]  colsample_bytree=0.6792182599846986, gamma=0.2862031274746775, max_depth=2, min_child_weight=1, reg_alpha=1.960540765660788, reg_lambda=7.317574740660593, subsample=0.6636029531844987, score=0.30612244897959184, total=   0.0s\n",
      "[CV] colsample_bytree=0.6792182599846986, gamma=0.2862031274746775, max_depth=2, min_child_weight=1, reg_alpha=1.960540765660788, reg_lambda=7.317574740660593, subsample=0.6636029531844987 \n",
      "[CV] colsample_bytree=0.6792182599846986, gamma=0.2862031274746775, max_depth=2, min_child_weight=1, reg_alpha=1.960540765660788, reg_lambda=7.317574740660593, subsample=0.6636029531844987 \n"
     ]
    },
    {
     "name": "stderr",
     "output_type": "stream",
     "text": [
      "/home/hitkul/anaconda3/envs/ps3/lib/python3.6/site-packages/sklearn/preprocessing/label.py:151: DeprecationWarning: The truth value of an empty array is ambiguous. Returning False, but in future this will result in an error. Use `array.size > 0` to check that an array is not empty.\n",
      "  if diff:\n",
      "/home/hitkul/anaconda3/envs/ps3/lib/python3.6/site-packages/sklearn/preprocessing/label.py:151: DeprecationWarning: The truth value of an empty array is ambiguous. Returning False, but in future this will result in an error. Use `array.size > 0` to check that an array is not empty.\n",
      "  if diff:\n",
      "/home/hitkul/anaconda3/envs/ps3/lib/python3.6/site-packages/sklearn/preprocessing/label.py:151: DeprecationWarning: The truth value of an empty array is ambiguous. Returning False, but in future this will result in an error. Use `array.size > 0` to check that an array is not empty.\n",
      "  if diff:\n"
     ]
    },
    {
     "name": "stdout",
     "output_type": "stream",
     "text": [
      "[CV]  colsample_bytree=0.6616240759128834, gamma=0.5700633808593811, max_depth=7, min_child_weight=4, reg_alpha=0.4853877467402019, reg_lambda=4.843224952664446, subsample=0.6614880310328125, score=0.2857142857142857, total=   0.0s\n"
     ]
    },
    {
     "name": "stderr",
     "output_type": "stream",
     "text": [
      "/home/hitkul/anaconda3/envs/ps3/lib/python3.6/site-packages/sklearn/preprocessing/label.py:151: DeprecationWarning: The truth value of an empty array is ambiguous. Returning False, but in future this will result in an error. Use `array.size > 0` to check that an array is not empty.\n",
      "  if diff:\n"
     ]
    },
    {
     "name": "stdout",
     "output_type": "stream",
     "text": [
      "[CV]  colsample_bytree=0.6616240759128834, gamma=0.5700633808593811, max_depth=7, min_child_weight=4, reg_alpha=0.4853877467402019, reg_lambda=4.843224952664446, subsample=0.6614880310328125, score=0.40384615384615385, total=   0.0s\n",
      "[CV] colsample_bytree=0.6616240759128834, gamma=0.5700633808593811, max_depth=7, min_child_weight=4, reg_alpha=0.4853877467402019, reg_lambda=4.843224952664446, subsample=0.6614880310328125 \n",
      "[CV]  colsample_bytree=0.6792182599846986, gamma=0.2862031274746775, max_depth=2, min_child_weight=1, reg_alpha=1.960540765660788, reg_lambda=7.317574740660593, subsample=0.6636029531844987, score=0.34615384615384615, total=   0.0s\n"
     ]
    },
    {
     "name": "stderr",
     "output_type": "stream",
     "text": [
      "/home/hitkul/anaconda3/envs/ps3/lib/python3.6/site-packages/sklearn/preprocessing/label.py:151: DeprecationWarning: The truth value of an empty array is ambiguous. Returning False, but in future this will result in an error. Use `array.size > 0` to check that an array is not empty.\n",
      "  if diff:\n"
     ]
    },
    {
     "name": "stdout",
     "output_type": "stream",
     "text": [
      "[CV] colsample_bytree=0.6792182599846986, gamma=0.2862031274746775, max_depth=2, min_child_weight=1, reg_alpha=1.960540765660788, reg_lambda=7.317574740660593, subsample=0.6636029531844987 \n"
     ]
    },
    {
     "name": "stderr",
     "output_type": "stream",
     "text": [
      "/home/hitkul/anaconda3/envs/ps3/lib/python3.6/site-packages/sklearn/preprocessing/label.py:151: DeprecationWarning: The truth value of an empty array is ambiguous. Returning False, but in future this will result in an error. Use `array.size > 0` to check that an array is not empty.\n",
      "  if diff:\n"
     ]
    },
    {
     "name": "stdout",
     "output_type": "stream",
     "text": [
      "[CV] colsample_bytree=0.6721461166512687, gamma=0.006256917478071633, max_depth=9, min_child_weight=9, reg_alpha=9.72557807243393, reg_lambda=0.7666822875807018, subsample=0.5538824667597043 \n"
     ]
    },
    {
     "name": "stderr",
     "output_type": "stream",
     "text": [
      "/home/hitkul/anaconda3/envs/ps3/lib/python3.6/site-packages/sklearn/preprocessing/label.py:151: DeprecationWarning: The truth value of an empty array is ambiguous. Returning False, but in future this will result in an error. Use `array.size > 0` to check that an array is not empty.\n",
      "  if diff:\n",
      "/home/hitkul/anaconda3/envs/ps3/lib/python3.6/site-packages/sklearn/preprocessing/label.py:151: DeprecationWarning: The truth value of an empty array is ambiguous. Returning False, but in future this will result in an error. Use `array.size > 0` to check that an array is not empty.\n",
      "  if diff:\n",
      "/home/hitkul/anaconda3/envs/ps3/lib/python3.6/site-packages/sklearn/preprocessing/label.py:151: DeprecationWarning: The truth value of an empty array is ambiguous. Returning False, but in future this will result in an error. Use `array.size > 0` to check that an array is not empty.\n",
      "  if diff:\n"
     ]
    },
    {
     "name": "stdout",
     "output_type": "stream",
     "text": [
      "[CV]  colsample_bytree=0.6792182599846986, gamma=0.2862031274746775, max_depth=2, min_child_weight=1, reg_alpha=1.960540765660788, reg_lambda=7.317574740660593, subsample=0.6636029531844987, score=0.34, total=   0.0s\n",
      "[CV]  colsample_bytree=0.6616240759128834, gamma=0.5700633808593811, max_depth=7, min_child_weight=4, reg_alpha=0.4853877467402019, reg_lambda=4.843224952664446, subsample=0.6614880310328125, score=0.3469387755102041, total=   0.0s\n"
     ]
    },
    {
     "name": "stderr",
     "output_type": "stream",
     "text": [
      "/home/hitkul/anaconda3/envs/ps3/lib/python3.6/site-packages/sklearn/preprocessing/label.py:151: DeprecationWarning: The truth value of an empty array is ambiguous. Returning False, but in future this will result in an error. Use `array.size > 0` to check that an array is not empty.\n",
      "  if diff:\n"
     ]
    },
    {
     "name": "stdout",
     "output_type": "stream",
     "text": [
      "[CV] colsample_bytree=0.5488251044495548, gamma=0.1514619379556375, max_depth=9, min_child_weight=9, reg_alpha=3.313691566891067, reg_lambda=0.7323640337080811, subsample=0.5507830827868689 \n"
     ]
    },
    {
     "name": "stderr",
     "output_type": "stream",
     "text": [
      "/home/hitkul/anaconda3/envs/ps3/lib/python3.6/site-packages/sklearn/preprocessing/label.py:151: DeprecationWarning: The truth value of an empty array is ambiguous. Returning False, but in future this will result in an error. Use `array.size > 0` to check that an array is not empty.\n",
      "  if diff:\n",
      "/home/hitkul/anaconda3/envs/ps3/lib/python3.6/site-packages/sklearn/preprocessing/label.py:151: DeprecationWarning: The truth value of an empty array is ambiguous. Returning False, but in future this will result in an error. Use `array.size > 0` to check that an array is not empty.\n",
      "  if diff:\n",
      "/home/hitkul/anaconda3/envs/ps3/lib/python3.6/site-packages/sklearn/preprocessing/label.py:151: DeprecationWarning: The truth value of an empty array is ambiguous. Returning False, but in future this will result in an error. Use `array.size > 0` to check that an array is not empty.\n",
      "  if diff:\n"
     ]
    },
    {
     "name": "stdout",
     "output_type": "stream",
     "text": [
      "[CV]  colsample_bytree=0.6792182599846986, gamma=0.2862031274746775, max_depth=2, min_child_weight=1, reg_alpha=1.960540765660788, reg_lambda=7.317574740660593, subsample=0.6636029531844987, score=0.3673469387755102, total=   0.0s\n",
      "[CV] colsample_bytree=0.6721461166512687, gamma=0.006256917478071633, max_depth=9, min_child_weight=9, reg_alpha=9.72557807243393, reg_lambda=0.7666822875807018, subsample=0.5538824667597043 \n",
      "[CV]  colsample_bytree=0.5488251044495548, gamma=0.1514619379556375, max_depth=9, min_child_weight=9, reg_alpha=3.313691566891067, reg_lambda=0.7323640337080811, subsample=0.5507830827868689, score=0.36538461538461536, total=   0.0s\n",
      "[CV] colsample_bytree=0.5488251044495548, gamma=0.1514619379556375, max_depth=9, min_child_weight=9, reg_alpha=3.313691566891067, reg_lambda=0.7323640337080811, subsample=0.5507830827868689 \n",
      "[CV] colsample_bytree=0.6792182599846986, gamma=0.2862031274746775, max_depth=2, min_child_weight=1, reg_alpha=1.960540765660788, reg_lambda=7.317574740660593, subsample=0.6636029531844987 \n"
     ]
    },
    {
     "name": "stderr",
     "output_type": "stream",
     "text": [
      "/home/hitkul/anaconda3/envs/ps3/lib/python3.6/site-packages/sklearn/preprocessing/label.py:151: DeprecationWarning: The truth value of an empty array is ambiguous. Returning False, but in future this will result in an error. Use `array.size > 0` to check that an array is not empty.\n",
      "  if diff:\n",
      "/home/hitkul/anaconda3/envs/ps3/lib/python3.6/site-packages/sklearn/preprocessing/label.py:151: DeprecationWarning: The truth value of an empty array is ambiguous. Returning False, but in future this will result in an error. Use `array.size > 0` to check that an array is not empty.\n",
      "  if diff:\n"
     ]
    },
    {
     "name": "stdout",
     "output_type": "stream",
     "text": [
      "[CV]  colsample_bytree=0.6721461166512687, gamma=0.006256917478071633, max_depth=9, min_child_weight=9, reg_alpha=9.72557807243393, reg_lambda=0.7666822875807018, subsample=0.5538824667597043, score=0.33962264150943394, total=   0.0s\n"
     ]
    },
    {
     "name": "stderr",
     "output_type": "stream",
     "text": [
      "/home/hitkul/anaconda3/envs/ps3/lib/python3.6/site-packages/sklearn/preprocessing/label.py:151: DeprecationWarning: The truth value of an empty array is ambiguous. Returning False, but in future this will result in an error. Use `array.size > 0` to check that an array is not empty.\n",
      "  if diff:\n",
      "/home/hitkul/anaconda3/envs/ps3/lib/python3.6/site-packages/sklearn/preprocessing/label.py:151: DeprecationWarning: The truth value of an empty array is ambiguous. Returning False, but in future this will result in an error. Use `array.size > 0` to check that an array is not empty.\n",
      "  if diff:\n"
     ]
    },
    {
     "name": "stdout",
     "output_type": "stream",
     "text": [
      "[CV]  colsample_bytree=0.5488251044495548, gamma=0.1514619379556375, max_depth=9, min_child_weight=9, reg_alpha=3.313691566891067, reg_lambda=0.7323640337080811, subsample=0.5507830827868689, score=0.34, total=   0.0s\n"
     ]
    },
    {
     "name": "stderr",
     "output_type": "stream",
     "text": [
      "/home/hitkul/anaconda3/envs/ps3/lib/python3.6/site-packages/sklearn/preprocessing/label.py:151: DeprecationWarning: The truth value of an empty array is ambiguous. Returning False, but in future this will result in an error. Use `array.size > 0` to check that an array is not empty.\n",
      "  if diff:\n"
     ]
    },
    {
     "name": "stdout",
     "output_type": "stream",
     "text": [
      "[CV] colsample_bytree=0.5488251044495548, gamma=0.1514619379556375, max_depth=9, min_child_weight=9, reg_alpha=3.313691566891067, reg_lambda=0.7323640337080811, subsample=0.5507830827868689 \n",
      "[CV] colsample_bytree=0.6721461166512687, gamma=0.006256917478071633, max_depth=9, min_child_weight=9, reg_alpha=9.72557807243393, reg_lambda=0.7666822875807018, subsample=0.5538824667597043 \n",
      "[CV]  colsample_bytree=0.6721461166512687, gamma=0.006256917478071633, max_depth=9, min_child_weight=9, reg_alpha=9.72557807243393, reg_lambda=0.7666822875807018, subsample=0.5538824667597043, score=0.30612244897959184, total=   0.0s\n",
      "[CV] colsample_bytree=0.6721461166512687, gamma=0.006256917478071633, max_depth=9, min_child_weight=9, reg_alpha=9.72557807243393, reg_lambda=0.7666822875807018, subsample=0.5538824667597043 \n"
     ]
    },
    {
     "name": "stderr",
     "output_type": "stream",
     "text": [
      "/home/hitkul/anaconda3/envs/ps3/lib/python3.6/site-packages/sklearn/preprocessing/label.py:151: DeprecationWarning: The truth value of an empty array is ambiguous. Returning False, but in future this will result in an error. Use `array.size > 0` to check that an array is not empty.\n",
      "  if diff:\n",
      "/home/hitkul/anaconda3/envs/ps3/lib/python3.6/site-packages/sklearn/preprocessing/label.py:151: DeprecationWarning: The truth value of an empty array is ambiguous. Returning False, but in future this will result in an error. Use `array.size > 0` to check that an array is not empty.\n",
      "  if diff:\n",
      "/home/hitkul/anaconda3/envs/ps3/lib/python3.6/site-packages/sklearn/preprocessing/label.py:151: DeprecationWarning: The truth value of an empty array is ambiguous. Returning False, but in future this will result in an error. Use `array.size > 0` to check that an array is not empty.\n",
      "  if diff:\n",
      "/home/hitkul/anaconda3/envs/ps3/lib/python3.6/site-packages/sklearn/preprocessing/label.py:151: DeprecationWarning: The truth value of an empty array is ambiguous. Returning False, but in future this will result in an error. Use `array.size > 0` to check that an array is not empty.\n",
      "  if diff:\n",
      "/home/hitkul/anaconda3/envs/ps3/lib/python3.6/site-packages/sklearn/preprocessing/label.py:151: DeprecationWarning: The truth value of an empty array is ambiguous. Returning False, but in future this will result in an error. Use `array.size > 0` to check that an array is not empty.\n",
      "  if diff:\n"
     ]
    },
    {
     "name": "stdout",
     "output_type": "stream",
     "text": [
      "[CV]  colsample_bytree=0.6721461166512687, gamma=0.006256917478071633, max_depth=9, min_child_weight=9, reg_alpha=9.72557807243393, reg_lambda=0.7666822875807018, subsample=0.5538824667597043, score=0.3673469387755102, total=   0.0s\n"
     ]
    },
    {
     "name": "stderr",
     "output_type": "stream",
     "text": [
      "/home/hitkul/anaconda3/envs/ps3/lib/python3.6/site-packages/sklearn/preprocessing/label.py:151: DeprecationWarning: The truth value of an empty array is ambiguous. Returning False, but in future this will result in an error. Use `array.size > 0` to check that an array is not empty.\n",
      "  if diff:\n",
      "/home/hitkul/anaconda3/envs/ps3/lib/python3.6/site-packages/sklearn/preprocessing/label.py:151: DeprecationWarning: The truth value of an empty array is ambiguous. Returning False, but in future this will result in an error. Use `array.size > 0` to check that an array is not empty.\n",
      "  if diff:\n"
     ]
    },
    {
     "name": "stdout",
     "output_type": "stream",
     "text": [
      "[CV] colsample_bytree=0.6721461166512687, gamma=0.006256917478071633, max_depth=9, min_child_weight=9, reg_alpha=9.72557807243393, reg_lambda=0.7666822875807018, subsample=0.5538824667597043 \n",
      "[CV]  colsample_bytree=0.5488251044495548, gamma=0.1514619379556375, max_depth=9, min_child_weight=9, reg_alpha=3.313691566891067, reg_lambda=0.7323640337080811, subsample=0.5507830827868689, score=0.2857142857142857, total=   0.0s\n"
     ]
    },
    {
     "name": "stderr",
     "output_type": "stream",
     "text": [
      "/home/hitkul/anaconda3/envs/ps3/lib/python3.6/site-packages/sklearn/preprocessing/label.py:151: DeprecationWarning: The truth value of an empty array is ambiguous. Returning False, but in future this will result in an error. Use `array.size > 0` to check that an array is not empty.\n",
      "  if diff:\n"
     ]
    },
    {
     "name": "stdout",
     "output_type": "stream",
     "text": [
      "[CV]  colsample_bytree=0.6792182599846986, gamma=0.2862031274746775, max_depth=2, min_child_weight=1, reg_alpha=1.960540765660788, reg_lambda=7.317574740660593, subsample=0.6636029531844987, score=0.2857142857142857, total=   0.0s\n"
     ]
    },
    {
     "name": "stderr",
     "output_type": "stream",
     "text": [
      "/home/hitkul/anaconda3/envs/ps3/lib/python3.6/site-packages/sklearn/preprocessing/label.py:151: DeprecationWarning: The truth value of an empty array is ambiguous. Returning False, but in future this will result in an error. Use `array.size > 0` to check that an array is not empty.\n",
      "  if diff:\n"
     ]
    },
    {
     "name": "stdout",
     "output_type": "stream",
     "text": [
      "[CV] colsample_bytree=0.6792182599846986, gamma=0.2862031274746775, max_depth=2, min_child_weight=1, reg_alpha=1.960540765660788, reg_lambda=7.317574740660593, subsample=0.6636029531844987 \n",
      "[CV] colsample_bytree=0.5488251044495548, gamma=0.1514619379556375, max_depth=9, min_child_weight=9, reg_alpha=3.313691566891067, reg_lambda=0.7323640337080811, subsample=0.5507830827868689 \n",
      "[CV]  colsample_bytree=0.6721461166512687, gamma=0.006256917478071633, max_depth=9, min_child_weight=9, reg_alpha=9.72557807243393, reg_lambda=0.7666822875807018, subsample=0.5538824667597043, score=0.4230769230769231, total=   0.0s\n"
     ]
    },
    {
     "name": "stderr",
     "output_type": "stream",
     "text": [
      "/home/hitkul/anaconda3/envs/ps3/lib/python3.6/site-packages/sklearn/preprocessing/label.py:151: DeprecationWarning: The truth value of an empty array is ambiguous. Returning False, but in future this will result in an error. Use `array.size > 0` to check that an array is not empty.\n",
      "  if diff:\n"
     ]
    },
    {
     "name": "stdout",
     "output_type": "stream",
     "text": [
      "[CV]  colsample_bytree=0.6721461166512687, gamma=0.006256917478071633, max_depth=9, min_child_weight=9, reg_alpha=9.72557807243393, reg_lambda=0.7666822875807018, subsample=0.5538824667597043, score=0.2653061224489796, total=   0.0s\n"
     ]
    },
    {
     "name": "stderr",
     "output_type": "stream",
     "text": [
      "/home/hitkul/anaconda3/envs/ps3/lib/python3.6/site-packages/sklearn/preprocessing/label.py:151: DeprecationWarning: The truth value of an empty array is ambiguous. Returning False, but in future this will result in an error. Use `array.size > 0` to check that an array is not empty.\n",
      "  if diff:\n",
      "/home/hitkul/anaconda3/envs/ps3/lib/python3.6/site-packages/sklearn/preprocessing/label.py:151: DeprecationWarning: The truth value of an empty array is ambiguous. Returning False, but in future this will result in an error. Use `array.size > 0` to check that an array is not empty.\n",
      "  if diff:\n"
     ]
    },
    {
     "name": "stdout",
     "output_type": "stream",
     "text": [
      "[CV] colsample_bytree=0.6721461166512687, gamma=0.006256917478071633, max_depth=9, min_child_weight=9, reg_alpha=9.72557807243393, reg_lambda=0.7666822875807018, subsample=0.5538824667597043 \n"
     ]
    },
    {
     "name": "stderr",
     "output_type": "stream",
     "text": [
      "/home/hitkul/anaconda3/envs/ps3/lib/python3.6/site-packages/sklearn/preprocessing/label.py:151: DeprecationWarning: The truth value of an empty array is ambiguous. Returning False, but in future this will result in an error. Use `array.size > 0` to check that an array is not empty.\n",
      "  if diff:\n",
      "/home/hitkul/anaconda3/envs/ps3/lib/python3.6/site-packages/sklearn/preprocessing/label.py:151: DeprecationWarning: The truth value of an empty array is ambiguous. Returning False, but in future this will result in an error. Use `array.size > 0` to check that an array is not empty.\n",
      "  if diff:\n"
     ]
    },
    {
     "name": "stdout",
     "output_type": "stream",
     "text": [
      "[CV]  colsample_bytree=0.5488251044495548, gamma=0.1514619379556375, max_depth=9, min_child_weight=9, reg_alpha=3.313691566891067, reg_lambda=0.7323640337080811, subsample=0.5507830827868689, score=0.3673469387755102, total=   0.0s\n",
      "[CV] colsample_bytree=0.5488251044495548, gamma=0.1514619379556375, max_depth=9, min_child_weight=9, reg_alpha=3.313691566891067, reg_lambda=0.7323640337080811, subsample=0.5507830827868689 \n",
      "[CV] colsample_bytree=0.6721461166512687, gamma=0.006256917478071633, max_depth=9, min_child_weight=9, reg_alpha=9.72557807243393, reg_lambda=0.7666822875807018, subsample=0.5538824667597043 \n"
     ]
    },
    {
     "name": "stderr",
     "output_type": "stream",
     "text": [
      "/home/hitkul/anaconda3/envs/ps3/lib/python3.6/site-packages/sklearn/preprocessing/label.py:151: DeprecationWarning: The truth value of an empty array is ambiguous. Returning False, but in future this will result in an error. Use `array.size > 0` to check that an array is not empty.\n",
      "  if diff:\n"
     ]
    },
    {
     "name": "stdout",
     "output_type": "stream",
     "text": [
      "[CV]  colsample_bytree=0.6792182599846986, gamma=0.2862031274746775, max_depth=2, min_child_weight=1, reg_alpha=1.960540765660788, reg_lambda=7.317574740660593, subsample=0.6636029531844987, score=0.2916666666666667, total=   0.0s\n"
     ]
    },
    {
     "name": "stderr",
     "output_type": "stream",
     "text": [
      "/home/hitkul/anaconda3/envs/ps3/lib/python3.6/site-packages/sklearn/preprocessing/label.py:151: DeprecationWarning: The truth value of an empty array is ambiguous. Returning False, but in future this will result in an error. Use `array.size > 0` to check that an array is not empty.\n",
      "  if diff:\n",
      "/home/hitkul/anaconda3/envs/ps3/lib/python3.6/site-packages/sklearn/preprocessing/label.py:151: DeprecationWarning: The truth value of an empty array is ambiguous. Returning False, but in future this will result in an error. Use `array.size > 0` to check that an array is not empty.\n",
      "  if diff:\n"
     ]
    },
    {
     "name": "stdout",
     "output_type": "stream",
     "text": [
      "[CV] colsample_bytree=0.5488251044495548, gamma=0.1514619379556375, max_depth=9, min_child_weight=9, reg_alpha=3.313691566891067, reg_lambda=0.7323640337080811, subsample=0.5507830827868689 \n"
     ]
    },
    {
     "name": "stderr",
     "output_type": "stream",
     "text": [
      "/home/hitkul/anaconda3/envs/ps3/lib/python3.6/site-packages/sklearn/preprocessing/label.py:151: DeprecationWarning: The truth value of an empty array is ambiguous. Returning False, but in future this will result in an error. Use `array.size > 0` to check that an array is not empty.\n",
      "  if diff:\n",
      "/home/hitkul/anaconda3/envs/ps3/lib/python3.6/site-packages/sklearn/preprocessing/label.py:151: DeprecationWarning: The truth value of an empty array is ambiguous. Returning False, but in future this will result in an error. Use `array.size > 0` to check that an array is not empty.\n",
      "  if diff:\n",
      "/home/hitkul/anaconda3/envs/ps3/lib/python3.6/site-packages/sklearn/preprocessing/label.py:151: DeprecationWarning: The truth value of an empty array is ambiguous. Returning False, but in future this will result in an error. Use `array.size > 0` to check that an array is not empty.\n",
      "  if diff:\n"
     ]
    },
    {
     "name": "stdout",
     "output_type": "stream",
     "text": [
      "[CV]  colsample_bytree=0.5488251044495548, gamma=0.1514619379556375, max_depth=9, min_child_weight=9, reg_alpha=3.313691566891067, reg_lambda=0.7323640337080811, subsample=0.5507830827868689, score=0.2857142857142857, total=   0.0s\n",
      "[CV]  colsample_bytree=0.6721461166512687, gamma=0.006256917478071633, max_depth=9, min_child_weight=9, reg_alpha=9.72557807243393, reg_lambda=0.7666822875807018, subsample=0.5538824667597043, score=0.34615384615384615, total=   0.0s\n",
      "[CV] colsample_bytree=0.5488251044495548, gamma=0.1514619379556375, max_depth=9, min_child_weight=9, reg_alpha=3.313691566891067, reg_lambda=0.7323640337080811, subsample=0.5507830827868689 \n",
      "[CV] colsample_bytree=0.6721461166512687, gamma=0.006256917478071633, max_depth=9, min_child_weight=9, reg_alpha=9.72557807243393, reg_lambda=0.7666822875807018, subsample=0.5538824667597043 \n"
     ]
    },
    {
     "name": "stderr",
     "output_type": "stream",
     "text": [
      "/home/hitkul/anaconda3/envs/ps3/lib/python3.6/site-packages/sklearn/preprocessing/label.py:151: DeprecationWarning: The truth value of an empty array is ambiguous. Returning False, but in future this will result in an error. Use `array.size > 0` to check that an array is not empty.\n",
      "  if diff:\n",
      "/home/hitkul/anaconda3/envs/ps3/lib/python3.6/site-packages/sklearn/preprocessing/label.py:151: DeprecationWarning: The truth value of an empty array is ambiguous. Returning False, but in future this will result in an error. Use `array.size > 0` to check that an array is not empty.\n",
      "  if diff:\n"
     ]
    },
    {
     "name": "stdout",
     "output_type": "stream",
     "text": [
      "[CV]  colsample_bytree=0.6721461166512687, gamma=0.006256917478071633, max_depth=9, min_child_weight=9, reg_alpha=9.72557807243393, reg_lambda=0.7666822875807018, subsample=0.5538824667597043, score=0.2916666666666667, total=   0.0s\n"
     ]
    },
    {
     "name": "stderr",
     "output_type": "stream",
     "text": [
      "/home/hitkul/anaconda3/envs/ps3/lib/python3.6/site-packages/sklearn/preprocessing/label.py:151: DeprecationWarning: The truth value of an empty array is ambiguous. Returning False, but in future this will result in an error. Use `array.size > 0` to check that an array is not empty.\n",
      "  if diff:\n",
      "/home/hitkul/anaconda3/envs/ps3/lib/python3.6/site-packages/sklearn/preprocessing/label.py:151: DeprecationWarning: The truth value of an empty array is ambiguous. Returning False, but in future this will result in an error. Use `array.size > 0` to check that an array is not empty.\n",
      "  if diff:\n"
     ]
    },
    {
     "name": "stdout",
     "output_type": "stream",
     "text": [
      "[CV]  colsample_bytree=0.5488251044495548, gamma=0.1514619379556375, max_depth=9, min_child_weight=9, reg_alpha=3.313691566891067, reg_lambda=0.7323640337080811, subsample=0.5507830827868689, score=0.2653061224489796, total=   0.0s\n",
      "[CV]  colsample_bytree=0.6721461166512687, gamma=0.006256917478071633, max_depth=9, min_child_weight=9, reg_alpha=9.72557807243393, reg_lambda=0.7666822875807018, subsample=0.5538824667597043, score=0.34, total=   0.0s\n",
      "[CV] colsample_bytree=0.5488251044495548, gamma=0.1514619379556375, max_depth=9, min_child_weight=9, reg_alpha=3.313691566891067, reg_lambda=0.7323640337080811, subsample=0.5507830827868689 \n"
     ]
    },
    {
     "name": "stderr",
     "output_type": "stream",
     "text": [
      "/home/hitkul/anaconda3/envs/ps3/lib/python3.6/site-packages/sklearn/preprocessing/label.py:151: DeprecationWarning: The truth value of an empty array is ambiguous. Returning False, but in future this will result in an error. Use `array.size > 0` to check that an array is not empty.\n",
      "  if diff:\n"
     ]
    },
    {
     "name": "stdout",
     "output_type": "stream",
     "text": [
      "[CV] colsample_bytree=0.5488251044495548, gamma=0.1514619379556375, max_depth=9, min_child_weight=9, reg_alpha=3.313691566891067, reg_lambda=0.7323640337080811, subsample=0.5507830827868689 \n"
     ]
    },
    {
     "name": "stderr",
     "output_type": "stream",
     "text": [
      "/home/hitkul/anaconda3/envs/ps3/lib/python3.6/site-packages/sklearn/preprocessing/label.py:151: DeprecationWarning: The truth value of an empty array is ambiguous. Returning False, but in future this will result in an error. Use `array.size > 0` to check that an array is not empty.\n",
      "  if diff:\n"
     ]
    },
    {
     "name": "stdout",
     "output_type": "stream",
     "text": [
      "[CV] colsample_bytree=0.6721461166512687, gamma=0.006256917478071633, max_depth=9, min_child_weight=9, reg_alpha=9.72557807243393, reg_lambda=0.7666822875807018, subsample=0.5538824667597043 \n"
     ]
    },
    {
     "name": "stderr",
     "output_type": "stream",
     "text": [
      "/home/hitkul/anaconda3/envs/ps3/lib/python3.6/site-packages/sklearn/preprocessing/label.py:151: DeprecationWarning: The truth value of an empty array is ambiguous. Returning False, but in future this will result in an error. Use `array.size > 0` to check that an array is not empty.\n",
      "  if diff:\n",
      "/home/hitkul/anaconda3/envs/ps3/lib/python3.6/site-packages/sklearn/preprocessing/label.py:151: DeprecationWarning: The truth value of an empty array is ambiguous. Returning False, but in future this will result in an error. Use `array.size > 0` to check that an array is not empty.\n",
      "  if diff:\n",
      "/home/hitkul/anaconda3/envs/ps3/lib/python3.6/site-packages/sklearn/preprocessing/label.py:151: DeprecationWarning: The truth value of an empty array is ambiguous. Returning False, but in future this will result in an error. Use `array.size > 0` to check that an array is not empty.\n",
      "  if diff:\n"
     ]
    },
    {
     "name": "stdout",
     "output_type": "stream",
     "text": [
      "[CV]  colsample_bytree=0.5488251044495548, gamma=0.1514619379556375, max_depth=9, min_child_weight=9, reg_alpha=3.313691566891067, reg_lambda=0.7323640337080811, subsample=0.5507830827868689, score=0.37735849056603776, total=   0.0s\n"
     ]
    },
    {
     "name": "stderr",
     "output_type": "stream",
     "text": [
      "/home/hitkul/anaconda3/envs/ps3/lib/python3.6/site-packages/sklearn/preprocessing/label.py:151: DeprecationWarning: The truth value of an empty array is ambiguous. Returning False, but in future this will result in an error. Use `array.size > 0` to check that an array is not empty.\n",
      "  if diff:\n"
     ]
    },
    {
     "name": "stdout",
     "output_type": "stream",
     "text": [
      "[CV] colsample_bytree=0.5488251044495548, gamma=0.1514619379556375, max_depth=9, min_child_weight=9, reg_alpha=3.313691566891067, reg_lambda=0.7323640337080811, subsample=0.5507830827868689 \n",
      "[CV]  colsample_bytree=0.5488251044495548, gamma=0.1514619379556375, max_depth=9, min_child_weight=9, reg_alpha=3.313691566891067, reg_lambda=0.7323640337080811, subsample=0.5507830827868689, score=0.3673469387755102, total=   0.0s\n"
     ]
    },
    {
     "name": "stderr",
     "output_type": "stream",
     "text": [
      "/home/hitkul/anaconda3/envs/ps3/lib/python3.6/site-packages/sklearn/preprocessing/label.py:151: DeprecationWarning: The truth value of an empty array is ambiguous. Returning False, but in future this will result in an error. Use `array.size > 0` to check that an array is not empty.\n",
      "  if diff:\n"
     ]
    },
    {
     "name": "stdout",
     "output_type": "stream",
     "text": [
      "[CV] colsample_bytree=0.5493752125677203, gamma=0.6266738455558095, max_depth=4, min_child_weight=1, reg_alpha=2.2088301161300645, reg_lambda=0.4208254259058871, subsample=0.5690142496053366 \n",
      "[CV]  colsample_bytree=0.6721461166512687, gamma=0.006256917478071633, max_depth=9, min_child_weight=9, reg_alpha=9.72557807243393, reg_lambda=0.7666822875807018, subsample=0.5538824667597043, score=0.30612244897959184, total=   0.0s\n"
     ]
    },
    {
     "name": "stderr",
     "output_type": "stream",
     "text": [
      "/home/hitkul/anaconda3/envs/ps3/lib/python3.6/site-packages/sklearn/preprocessing/label.py:151: DeprecationWarning: The truth value of an empty array is ambiguous. Returning False, but in future this will result in an error. Use `array.size > 0` to check that an array is not empty.\n",
      "  if diff:\n"
     ]
    },
    {
     "name": "stdout",
     "output_type": "stream",
     "text": [
      "[CV] colsample_bytree=0.6721461166512687, gamma=0.006256917478071633, max_depth=9, min_child_weight=9, reg_alpha=9.72557807243393, reg_lambda=0.7666822875807018, subsample=0.5538824667597043 \n"
     ]
    },
    {
     "name": "stderr",
     "output_type": "stream",
     "text": [
      "/home/hitkul/anaconda3/envs/ps3/lib/python3.6/site-packages/sklearn/preprocessing/label.py:151: DeprecationWarning: The truth value of an empty array is ambiguous. Returning False, but in future this will result in an error. Use `array.size > 0` to check that an array is not empty.\n",
      "  if diff:\n",
      "[Parallel(n_jobs=4)]: Done 158 tasks      | elapsed:    1.7s\n"
     ]
    },
    {
     "name": "stdout",
     "output_type": "stream",
     "text": [
      "[CV]  colsample_bytree=0.5488251044495548, gamma=0.1514619379556375, max_depth=9, min_child_weight=9, reg_alpha=3.313691566891067, reg_lambda=0.7323640337080811, subsample=0.5507830827868689, score=0.2916666666666667, total=   0.0s\n"
     ]
    },
    {
     "name": "stderr",
     "output_type": "stream",
     "text": [
      "/home/hitkul/anaconda3/envs/ps3/lib/python3.6/site-packages/sklearn/preprocessing/label.py:151: DeprecationWarning: The truth value of an empty array is ambiguous. Returning False, but in future this will result in an error. Use `array.size > 0` to check that an array is not empty.\n",
      "  if diff:\n",
      "/home/hitkul/anaconda3/envs/ps3/lib/python3.6/site-packages/sklearn/preprocessing/label.py:151: DeprecationWarning: The truth value of an empty array is ambiguous. Returning False, but in future this will result in an error. Use `array.size > 0` to check that an array is not empty.\n",
      "  if diff:\n",
      "/home/hitkul/anaconda3/envs/ps3/lib/python3.6/site-packages/sklearn/preprocessing/label.py:151: DeprecationWarning: The truth value of an empty array is ambiguous. Returning False, but in future this will result in an error. Use `array.size > 0` to check that an array is not empty.\n",
      "  if diff:\n"
     ]
    },
    {
     "name": "stdout",
     "output_type": "stream",
     "text": [
      "[CV]  colsample_bytree=0.5493752125677203, gamma=0.6266738455558095, max_depth=4, min_child_weight=1, reg_alpha=2.2088301161300645, reg_lambda=0.4208254259058871, subsample=0.5690142496053366, score=0.2653061224489796, total=   0.0s\n"
     ]
    },
    {
     "name": "stderr",
     "output_type": "stream",
     "text": [
      "/home/hitkul/anaconda3/envs/ps3/lib/python3.6/site-packages/sklearn/preprocessing/label.py:151: DeprecationWarning: The truth value of an empty array is ambiguous. Returning False, but in future this will result in an error. Use `array.size > 0` to check that an array is not empty.\n",
      "  if diff:\n"
     ]
    },
    {
     "name": "stdout",
     "output_type": "stream",
     "text": [
      "[CV] colsample_bytree=0.5493752125677203, gamma=0.6266738455558095, max_depth=4, min_child_weight=1, reg_alpha=2.2088301161300645, reg_lambda=0.4208254259058871, subsample=0.5690142496053366 \n",
      "[CV] colsample_bytree=0.5493752125677203, gamma=0.6266738455558095, max_depth=4, min_child_weight=1, reg_alpha=2.2088301161300645, reg_lambda=0.4208254259058871, subsample=0.5690142496053366 \n"
     ]
    },
    {
     "name": "stderr",
     "output_type": "stream",
     "text": [
      "/home/hitkul/anaconda3/envs/ps3/lib/python3.6/site-packages/sklearn/preprocessing/label.py:151: DeprecationWarning: The truth value of an empty array is ambiguous. Returning False, but in future this will result in an error. Use `array.size > 0` to check that an array is not empty.\n",
      "  if diff:\n"
     ]
    },
    {
     "name": "stdout",
     "output_type": "stream",
     "text": [
      "[CV]  colsample_bytree=0.6721461166512687, gamma=0.006256917478071633, max_depth=9, min_child_weight=9, reg_alpha=9.72557807243393, reg_lambda=0.7666822875807018, subsample=0.5538824667597043, score=0.2857142857142857, total=   0.0s\n",
      "[CV]  colsample_bytree=0.5488251044495548, gamma=0.1514619379556375, max_depth=9, min_child_weight=9, reg_alpha=3.313691566891067, reg_lambda=0.7323640337080811, subsample=0.5507830827868689, score=0.4423076923076923, total=   0.0s\n"
     ]
    },
    {
     "name": "stderr",
     "output_type": "stream",
     "text": [
      "/home/hitkul/anaconda3/envs/ps3/lib/python3.6/site-packages/sklearn/preprocessing/label.py:151: DeprecationWarning: The truth value of an empty array is ambiguous. Returning False, but in future this will result in an error. Use `array.size > 0` to check that an array is not empty.\n",
      "  if diff:\n",
      "/home/hitkul/anaconda3/envs/ps3/lib/python3.6/site-packages/sklearn/preprocessing/label.py:151: DeprecationWarning: The truth value of an empty array is ambiguous. Returning False, but in future this will result in an error. Use `array.size > 0` to check that an array is not empty.\n",
      "  if diff:\n"
     ]
    },
    {
     "name": "stdout",
     "output_type": "stream",
     "text": [
      "[CV]  colsample_bytree=0.5493752125677203, gamma=0.6266738455558095, max_depth=4, min_child_weight=1, reg_alpha=2.2088301161300645, reg_lambda=0.4208254259058871, subsample=0.5690142496053366, score=0.2653061224489796, total=   0.0s\n"
     ]
    },
    {
     "name": "stderr",
     "output_type": "stream",
     "text": [
      "/home/hitkul/anaconda3/envs/ps3/lib/python3.6/site-packages/sklearn/preprocessing/label.py:151: DeprecationWarning: The truth value of an empty array is ambiguous. Returning False, but in future this will result in an error. Use `array.size > 0` to check that an array is not empty.\n",
      "  if diff:\n"
     ]
    },
    {
     "name": "stdout",
     "output_type": "stream",
     "text": [
      "[CV] colsample_bytree=0.5493752125677203, gamma=0.6266738455558095, max_depth=4, min_child_weight=1, reg_alpha=2.2088301161300645, reg_lambda=0.4208254259058871, subsample=0.5690142496053366 \n"
     ]
    },
    {
     "name": "stderr",
     "output_type": "stream",
     "text": [
      "/home/hitkul/anaconda3/envs/ps3/lib/python3.6/site-packages/sklearn/preprocessing/label.py:151: DeprecationWarning: The truth value of an empty array is ambiguous. Returning False, but in future this will result in an error. Use `array.size > 0` to check that an array is not empty.\n",
      "  if diff:\n"
     ]
    },
    {
     "name": "stdout",
     "output_type": "stream",
     "text": [
      "[CV]  colsample_bytree=0.5493752125677203, gamma=0.6266738455558095, max_depth=4, min_child_weight=1, reg_alpha=2.2088301161300645, reg_lambda=0.4208254259058871, subsample=0.5690142496053366, score=0.37735849056603776, total=   0.0s\n",
      "[CV] colsample_bytree=0.5493752125677203, gamma=0.6266738455558095, max_depth=4, min_child_weight=1, reg_alpha=2.2088301161300645, reg_lambda=0.4208254259058871, subsample=0.5690142496053366 \n"
     ]
    },
    {
     "name": "stderr",
     "output_type": "stream",
     "text": [
      "/home/hitkul/anaconda3/envs/ps3/lib/python3.6/site-packages/sklearn/preprocessing/label.py:151: DeprecationWarning: The truth value of an empty array is ambiguous. Returning False, but in future this will result in an error. Use `array.size > 0` to check that an array is not empty.\n",
      "  if diff:\n",
      "/home/hitkul/anaconda3/envs/ps3/lib/python3.6/site-packages/sklearn/preprocessing/label.py:151: DeprecationWarning: The truth value of an empty array is ambiguous. Returning False, but in future this will result in an error. Use `array.size > 0` to check that an array is not empty.\n",
      "  if diff:\n"
     ]
    },
    {
     "name": "stdout",
     "output_type": "stream",
     "text": [
      "[CV]  colsample_bytree=0.5493752125677203, gamma=0.6266738455558095, max_depth=4, min_child_weight=1, reg_alpha=2.2088301161300645, reg_lambda=0.4208254259058871, subsample=0.5690142496053366, score=0.2857142857142857, total=   0.0s\n",
      "[CV] colsample_bytree=0.5493752125677203, gamma=0.6266738455558095, max_depth=4, min_child_weight=1, reg_alpha=2.2088301161300645, reg_lambda=0.4208254259058871, subsample=0.5690142496053366 \n"
     ]
    },
    {
     "name": "stderr",
     "output_type": "stream",
     "text": [
      "/home/hitkul/anaconda3/envs/ps3/lib/python3.6/site-packages/sklearn/preprocessing/label.py:151: DeprecationWarning: The truth value of an empty array is ambiguous. Returning False, but in future this will result in an error. Use `array.size > 0` to check that an array is not empty.\n",
      "  if diff:\n",
      "/home/hitkul/anaconda3/envs/ps3/lib/python3.6/site-packages/sklearn/preprocessing/label.py:151: DeprecationWarning: The truth value of an empty array is ambiguous. Returning False, but in future this will result in an error. Use `array.size > 0` to check that an array is not empty.\n",
      "  if diff:\n"
     ]
    },
    {
     "name": "stdout",
     "output_type": "stream",
     "text": [
      "[CV]  colsample_bytree=0.5493752125677203, gamma=0.6266738455558095, max_depth=4, min_child_weight=1, reg_alpha=2.2088301161300645, reg_lambda=0.4208254259058871, subsample=0.5690142496053366, score=0.4423076923076923, total=   0.0s\n",
      "[CV] colsample_bytree=0.5493752125677203, gamma=0.6266738455558095, max_depth=4, min_child_weight=1, reg_alpha=2.2088301161300645, reg_lambda=0.4208254259058871, subsample=0.5690142496053366 \n"
     ]
    },
    {
     "name": "stderr",
     "output_type": "stream",
     "text": [
      "/home/hitkul/anaconda3/envs/ps3/lib/python3.6/site-packages/sklearn/preprocessing/label.py:151: DeprecationWarning: The truth value of an empty array is ambiguous. Returning False, but in future this will result in an error. Use `array.size > 0` to check that an array is not empty.\n",
      "  if diff:\n",
      "/home/hitkul/anaconda3/envs/ps3/lib/python3.6/site-packages/sklearn/preprocessing/label.py:151: DeprecationWarning: The truth value of an empty array is ambiguous. Returning False, but in future this will result in an error. Use `array.size > 0` to check that an array is not empty.\n",
      "  if diff:\n"
     ]
    },
    {
     "name": "stdout",
     "output_type": "stream",
     "text": [
      "[CV]  colsample_bytree=0.5493752125677203, gamma=0.6266738455558095, max_depth=4, min_child_weight=1, reg_alpha=2.2088301161300645, reg_lambda=0.4208254259058871, subsample=0.5690142496053366, score=0.3673469387755102, total=   0.0s\n"
     ]
    },
    {
     "name": "stderr",
     "output_type": "stream",
     "text": [
      "/home/hitkul/anaconda3/envs/ps3/lib/python3.6/site-packages/sklearn/preprocessing/label.py:151: DeprecationWarning: The truth value of an empty array is ambiguous. Returning False, but in future this will result in an error. Use `array.size > 0` to check that an array is not empty.\n",
      "  if diff:\n"
     ]
    },
    {
     "name": "stdout",
     "output_type": "stream",
     "text": [
      "[CV] colsample_bytree=0.5493752125677203, gamma=0.6266738455558095, max_depth=4, min_child_weight=1, reg_alpha=2.2088301161300645, reg_lambda=0.4208254259058871, subsample=0.5690142496053366 \n"
     ]
    },
    {
     "name": "stderr",
     "output_type": "stream",
     "text": [
      "/home/hitkul/anaconda3/envs/ps3/lib/python3.6/site-packages/sklearn/preprocessing/label.py:151: DeprecationWarning: The truth value of an empty array is ambiguous. Returning False, but in future this will result in an error. Use `array.size > 0` to check that an array is not empty.\n",
      "  if diff:\n"
     ]
    },
    {
     "name": "stdout",
     "output_type": "stream",
     "text": [
      "[CV]  colsample_bytree=0.5493752125677203, gamma=0.6266738455558095, max_depth=4, min_child_weight=1, reg_alpha=2.2088301161300645, reg_lambda=0.4208254259058871, subsample=0.5690142496053366, score=0.28846153846153844, total=   0.0s\n",
      "[CV] colsample_bytree=0.5493752125677203, gamma=0.6266738455558095, max_depth=4, min_child_weight=1, reg_alpha=2.2088301161300645, reg_lambda=0.4208254259058871, subsample=0.5690142496053366 \n"
     ]
    },
    {
     "name": "stderr",
     "output_type": "stream",
     "text": [
      "/home/hitkul/anaconda3/envs/ps3/lib/python3.6/site-packages/sklearn/preprocessing/label.py:151: DeprecationWarning: The truth value of an empty array is ambiguous. Returning False, but in future this will result in an error. Use `array.size > 0` to check that an array is not empty.\n",
      "  if diff:\n",
      "/home/hitkul/anaconda3/envs/ps3/lib/python3.6/site-packages/sklearn/preprocessing/label.py:151: DeprecationWarning: The truth value of an empty array is ambiguous. Returning False, but in future this will result in an error. Use `array.size > 0` to check that an array is not empty.\n",
      "  if diff:\n",
      "/home/hitkul/anaconda3/envs/ps3/lib/python3.6/site-packages/sklearn/preprocessing/label.py:151: DeprecationWarning: The truth value of an empty array is ambiguous. Returning False, but in future this will result in an error. Use `array.size > 0` to check that an array is not empty.\n",
      "  if diff:\n"
     ]
    },
    {
     "name": "stdout",
     "output_type": "stream",
     "text": [
      "[CV]  colsample_bytree=0.5493752125677203, gamma=0.6266738455558095, max_depth=4, min_child_weight=1, reg_alpha=2.2088301161300645, reg_lambda=0.4208254259058871, subsample=0.5690142496053366, score=0.24489795918367346, total=   0.0s\n",
      "[CV] colsample_bytree=0.5493752125677203, gamma=0.6266738455558095, max_depth=4, min_child_weight=1, reg_alpha=2.2088301161300645, reg_lambda=0.4208254259058871, subsample=0.5690142496053366 \n"
     ]
    },
    {
     "name": "stderr",
     "output_type": "stream",
     "text": [
      "/home/hitkul/anaconda3/envs/ps3/lib/python3.6/site-packages/sklearn/preprocessing/label.py:151: DeprecationWarning: The truth value of an empty array is ambiguous. Returning False, but in future this will result in an error. Use `array.size > 0` to check that an array is not empty.\n",
      "  if diff:\n"
     ]
    },
    {
     "name": "stdout",
     "output_type": "stream",
     "text": [
      "[CV]  colsample_bytree=0.5493752125677203, gamma=0.6266738455558095, max_depth=4, min_child_weight=1, reg_alpha=2.2088301161300645, reg_lambda=0.4208254259058871, subsample=0.5690142496053366, score=0.38, total=   0.0s\n"
     ]
    },
    {
     "name": "stderr",
     "output_type": "stream",
     "text": [
      "/home/hitkul/anaconda3/envs/ps3/lib/python3.6/site-packages/sklearn/preprocessing/label.py:151: DeprecationWarning: The truth value of an empty array is ambiguous. Returning False, but in future this will result in an error. Use `array.size > 0` to check that an array is not empty.\n",
      "  if diff:\n",
      "/home/hitkul/anaconda3/envs/ps3/lib/python3.6/site-packages/sklearn/preprocessing/label.py:151: DeprecationWarning: The truth value of an empty array is ambiguous. Returning False, but in future this will result in an error. Use `array.size > 0` to check that an array is not empty.\n",
      "  if diff:\n"
     ]
    },
    {
     "name": "stdout",
     "output_type": "stream",
     "text": [
      "[CV]  colsample_bytree=0.5493752125677203, gamma=0.6266738455558095, max_depth=4, min_child_weight=1, reg_alpha=2.2088301161300645, reg_lambda=0.4208254259058871, subsample=0.5690142496053366, score=0.3125, total=   0.0s\n"
     ]
    },
    {
     "name": "stderr",
     "output_type": "stream",
     "text": [
      "[Parallel(n_jobs=4)]: Done 200 out of 200 | elapsed:    2.1s finished\n"
     ]
    },
    {
     "name": "stdout",
     "output_type": "stream",
     "text": [
      "[0]\ttrain-merror:0.677011+0.0093717\ttest-merror:0.702002+0.0245915\n",
      "[1]\ttrain-merror:0.666026+0.0167188\ttest-merror:0.689941+0.0193023\n",
      "[2]\ttrain-merror:0.666017+0.00942847\ttest-merror:0.683905+0.0237299\n",
      "[3]\ttrain-merror:0.663032+0.00702179\ttest-merror:0.683941+0.0193205\n",
      "[4]\ttrain-merror:0.662025+0.00599174\ttest-merror:0.687921+0.0181069\n",
      "[5]\ttrain-merror:0.65904+0.00825194\ttest-merror:0.685913+0.0209143\n",
      "[6]\ttrain-merror:0.665037+0.00836774\ttest-merror:0.687861+0.0170287\n",
      "[7]\ttrain-merror:0.662034+0.00693013\ttest-merror:0.689893+0.0199906\n",
      "[8]\ttrain-merror:0.661027+0.00571071\ttest-merror:0.685913+0.0209143\n",
      "[9]\ttrain-merror:0.660029+0.00577127\ttest-merror:0.687921+0.0181069\n",
      "[10]\ttrain-merror:0.660029+0.00577127\ttest-merror:0.689929+0.0153114\n",
      "[11]\ttrain-merror:0.663035+0.00877747\ttest-merror:0.683964+0.010826\n",
      "[12]\ttrain-merror:0.664015+0.00328782\ttest-merror:0.689917+0.0120405\n",
      "[13]\ttrain-merror:0.664018+0.00516353\ttest-merror:0.689917+0.0120405\n",
      "[14]\ttrain-merror:0.660035+0.00876542\ttest-merror:0.689917+0.0120405\n",
      "[15]\ttrain-merror:0.656034+0.00690045\ttest-merror:0.681956+0.0136626\n",
      "[16]\ttrain-merror:0.656034+0.00690045\ttest-merror:0.679948+0.0165003\n",
      "[17]\ttrain-merror:0.655042+0.00968189\ttest-merror:0.685901+0.0173049\n",
      "[18]\ttrain-merror:0.654035+0.00874107\ttest-merror:0.679948+0.0165003\n",
      "[19]\ttrain-merror:0.653037+0.00831389\ttest-merror:0.679948+0.0165003\n",
      "[20]\ttrain-merror:0.65304+0.0101367\ttest-merror:0.679936+0.0125958\n",
      "[21]\ttrain-merror:0.654047+0.0110494\ttest-merror:0.681956+0.0136626\n",
      "[22]\ttrain-merror:0.660026+0.00875964\ttest-merror:0.685972+0.00799165\n",
      "[23]\ttrain-merror:0.657032+0.00699421\ttest-merror:0.681956+0.0136626\n",
      "[24]\ttrain-merror:0.657032+0.00699421\ttest-merror:0.683976+0.0151989\n",
      "[25]\ttrain-merror:0.658027+0.00569641\ttest-merror:0.677928+0.0153667\n",
      "[26]\ttrain-merror:0.658027+0.00569641\ttest-merror:0.679936+0.0125958\n",
      "[27]\ttrain-merror:0.660029+0.00577127\ttest-merror:0.679936+0.0125958\n",
      "[28]\ttrain-merror:0.660029+0.00577127\ttest-merror:0.679936+0.0125958\n",
      "[29]\ttrain-merror:0.660032+0.007008\ttest-merror:0.679936+0.0125958\n",
      "[30]\ttrain-merror:0.660038+0.00757768\ttest-merror:0.679936+0.0125958\n",
      "[31]\ttrain-merror:0.663029+0.00578646\ttest-merror:0.679936+0.0125958\n",
      "[32]\ttrain-merror:0.661033+0.00684468\ttest-merror:0.679936+0.0125958\n",
      "[33]\ttrain-merror:0.661033+0.00684468\ttest-merror:0.677928+0.0153667\n",
      "[34]\ttrain-merror:0.660035+0.00771421\ttest-merror:0.677928+0.0153667\n",
      "[35]\ttrain-merror:0.663032+0.00702179\ttest-merror:0.673899+0.0173738\n",
      "[36]\ttrain-merror:0.659046+0.00936629\ttest-merror:0.675908+0.0147084\n",
      "[37]\ttrain-merror:0.661036+0.00712264\ttest-merror:0.677928+0.0153667\n",
      "[38]\ttrain-merror:0.663032+0.00702179\ttest-merror:0.675919+0.0181593\n",
      "[39]\ttrain-merror:0.661036+0.00712264\ttest-merror:0.675908+0.0147084\n",
      "[40]\ttrain-merror:0.661036+0.00712264\ttest-merror:0.675908+0.0147084\n",
      "[41]\ttrain-merror:0.661036+0.00712264\ttest-merror:0.675908+0.0147084\n",
      "[42]\ttrain-merror:0.663032+0.00702179\ttest-merror:0.675872+0.0195511\n",
      "[43]\ttrain-merror:0.663032+0.00702179\ttest-merror:0.671927+0.0153952\n",
      "[44]\ttrain-merror:0.66403+0.00738703\ttest-merror:0.671927+0.0153952\n",
      "[45]\ttrain-merror:0.663032+0.00702179\ttest-merror:0.673899+0.0173738\n",
      "[46]\ttrain-merror:0.662034+0.00693013\ttest-merror:0.673899+0.0173738\n",
      "[47]\ttrain-merror:0.662034+0.00693013\ttest-merror:0.673899+0.0173738\n",
      "[48]\ttrain-merror:0.662034+0.00693013\ttest-merror:0.673899+0.0173738\n",
      "[49]\ttrain-merror:0.663029+0.00578646\ttest-merror:0.673899+0.0173738\n",
      "[50]\ttrain-merror:0.662031+0.00617854\ttest-merror:0.673899+0.0173738\n",
      "[51]\ttrain-merror:0.658033+0.00683009\ttest-merror:0.675908+0.0147084\n",
      "[52]\ttrain-merror:0.662034+0.00693013\ttest-merror:0.673899+0.0173738\n",
      "[53]\ttrain-merror:0.658033+0.00683009\ttest-merror:0.675908+0.0147084\n",
      "[54]\ttrain-merror:0.658036+0.00710736\ttest-merror:0.675908+0.0147084\n",
      "[55]\ttrain-merror:0.657038+0.00756253\ttest-merror:0.675908+0.0147084\n",
      "[56]\ttrain-merror:0.657038+0.00756253\ttest-merror:0.675908+0.0147084\n",
      "[57]\ttrain-merror:0.658033+0.00683009\ttest-merror:0.675908+0.0147084\n",
      "[58]\ttrain-merror:0.658033+0.00683009\ttest-merror:0.675908+0.0147084\n",
      "[59]\ttrain-merror:0.658033+0.00683009\ttest-merror:0.675908+0.0147084\n",
      "[60]\ttrain-merror:0.65904+0.00825194\ttest-merror:0.675908+0.0147084\n",
      "[61]\ttrain-merror:0.658033+0.00683009\ttest-merror:0.675908+0.0147084\n",
      "[62]\ttrain-merror:0.658033+0.00683009\ttest-merror:0.675908+0.0147084\n",
      "[63]\ttrain-merror:0.658033+0.00683009\ttest-merror:0.675908+0.0147084\n",
      "[64]\ttrain-merror:0.658033+0.00683009\ttest-merror:0.675908+0.0147084\n",
      "[65]\ttrain-merror:0.658033+0.00683009\ttest-merror:0.675908+0.0147084\n",
      "[66]\ttrain-merror:0.659031+0.00616334\ttest-merror:0.675908+0.0147084\n",
      "[67]\ttrain-merror:0.659031+0.00616334\ttest-merror:0.675908+0.0147084\n",
      "[68]\ttrain-merror:0.659031+0.00616334\ttest-merror:0.675908+0.0147084\n",
      "[69]\ttrain-merror:0.660029+0.00577127\ttest-merror:0.675908+0.0147084\n",
      "[70]\ttrain-merror:0.659031+0.00616334\ttest-merror:0.675908+0.0147084\n",
      "[71]\ttrain-merror:0.659031+0.00616334\ttest-merror:0.673935+0.0126263\n",
      "[72]\ttrain-merror:0.659031+0.00616334\ttest-merror:0.673935+0.0126263\n",
      "[73]\ttrain-merror:0.659031+0.00616334\ttest-merror:0.673935+0.0126263\n",
      "[74]\ttrain-merror:0.658033+0.00683009\ttest-merror:0.673935+0.0126263\n",
      "[75]\ttrain-merror:0.659031+0.00616334\ttest-merror:0.673935+0.0126263\n",
      "[76]\ttrain-merror:0.658033+0.00683009\ttest-merror:0.673935+0.0126263\n",
      "[77]\ttrain-merror:0.658042+0.0090968\ttest-merror:0.673935+0.0126263\n",
      "[78]\ttrain-merror:0.658042+0.0090968\ttest-merror:0.673935+0.0126263\n",
      "[79]\ttrain-merror:0.65904+0.00825194\ttest-merror:0.673935+0.0126263\n",
      "[80]\ttrain-merror:0.660047+0.00967446\ttest-merror:0.673935+0.0126263\n",
      "[81]\ttrain-merror:0.660047+0.00967446\ttest-merror:0.673935+0.0126263\n",
      "[82]\ttrain-merror:0.660047+0.00967446\ttest-merror:0.673935+0.0126263\n",
      "[83]\ttrain-merror:0.65904+0.00825194\ttest-merror:0.673935+0.0126263\n",
      "[84]\ttrain-merror:0.65904+0.00825194\ttest-merror:0.673935+0.0126263\n",
      "[85]\ttrain-merror:0.65904+0.00825194\ttest-merror:0.673935+0.0126263\n",
      "[86]\ttrain-merror:0.65904+0.00825194\ttest-merror:0.673935+0.0126263\n",
      "[87]\ttrain-merror:0.65904+0.00825194\ttest-merror:0.673935+0.0126263\n",
      "[88]\ttrain-merror:0.660047+0.00967446\ttest-merror:0.673935+0.0126263\n",
      "[89]\ttrain-merror:0.65904+0.00825194\ttest-merror:0.673935+0.0126263\n",
      "[90]\ttrain-merror:0.660047+0.00967446\ttest-merror:0.673935+0.0126263\n",
      "[91]\ttrain-merror:0.660047+0.00967446\ttest-merror:0.673935+0.0126263\n",
      "[92]\ttrain-merror:0.660047+0.00967446\ttest-merror:0.673935+0.0126263\n"
     ]
    }
   ],
   "source": [
    "best_params, history = tune_xgb_params(\n",
    "    cv_folds=10,\n",
    "    label=np.array(stacked_metaY),\n",
    "    metric_sklearn='accuracy',\n",
    "    metric_xgb='merror',\n",
    "    n_jobs=4,\n",
    "    objective='multi:softprob',\n",
    "    random_state=seed,\n",
    "    strategy='randomized',\n",
    "    train=stacked_metaX,\n",
    "    colsample_bytree_loc=0.5,\n",
    "    colsample_bytree_scale=0.2,\n",
    "    subsample_loc=0.5,\n",
    "    subsample_scale=0.2\n",
    ")"
   ]
  },
  {
   "cell_type": "code",
   "execution_count": 199,
   "metadata": {},
   "outputs": [
    {
     "data": {
      "text/plain": [
       "{'colsample_bytree': 0.5586976349436076,\n",
       " 'gamma': 0.012671840443576011,\n",
       " 'learning_rate': 0.01,\n",
       " 'max_depth': 4,\n",
       " 'min_child_weight': 1,\n",
       " 'n_estimators': 44,\n",
       " 'nthread': 4,\n",
       " 'objective': 'multi:softprob',\n",
       " 'random_state': 42,\n",
       " 'reg_alpha': 4.65292200385551,\n",
       " 'reg_lambda': 3.3888370483667076,\n",
       " 'scale_pos_weight': 1,\n",
       " 'subsample': 0.6211919949562023}"
      ]
     },
     "execution_count": 199,
     "metadata": {},
     "output_type": "execute_result"
    }
   ],
   "source": [
    "best_params"
   ]
  },
  {
   "cell_type": "code",
   "execution_count": 200,
   "metadata": {
    "collapsed": true
   },
   "outputs": [],
   "source": [
    "stacked_meta_model_xg = XGBClassifier(colsample_bytree=best_params['colsample_bytree'],\n",
    "                              gamma=best_params['gamma'],\n",
    "                              learning_rate=best_params['learning_rate'],\n",
    "                              max_depth=best_params['max_depth'],\n",
    "                              min_child_weight=best_params['min_child_weight'],\n",
    "                              n_estimators=best_params['n_estimators'],\n",
    "                              nthread=best_params['nthread'],\n",
    "                              objective=best_params['objective'],\n",
    "                              random_state=best_params['random_state'],\n",
    "                              reg_alpha=best_params['reg_alpha'],\n",
    "                              reg_lambda=best_params['reg_lambda'],\n",
    "                              scale_pos_weight=best_params['scale_pos_weight'],\n",
    "                              subsample=best_params['subsample'])"
   ]
  },
  {
   "cell_type": "code",
   "execution_count": 201,
   "metadata": {},
   "outputs": [
    {
     "data": {
      "text/plain": [
       "XGBClassifier(base_score=0.5, booster='gbtree', colsample_bylevel=1,\n",
       "       colsample_bytree=0.5586976349436076, gamma=0.012671840443576011,\n",
       "       learning_rate=0.01, max_delta_step=0, max_depth=4,\n",
       "       min_child_weight=1, missing=None, n_estimators=44, n_jobs=1,\n",
       "       nthread=4, objective='multi:softprob', random_state=42,\n",
       "       reg_alpha=4.65292200385551, reg_lambda=3.3888370483667076,\n",
       "       scale_pos_weight=1, seed=None, silent=True,\n",
       "       subsample=0.6211919949562023)"
      ]
     },
     "execution_count": 201,
     "metadata": {},
     "output_type": "execute_result"
    }
   ],
   "source": [
    "stacked_meta_model_xg.fit(stacked_metaX,stacked_metaY)"
   ]
  },
  {
   "cell_type": "code",
   "execution_count": 202,
   "metadata": {},
   "outputs": [
    {
     "name": "stderr",
     "output_type": "stream",
     "text": [
      "/home/hitkul/anaconda3/envs/ps3/lib/python3.6/site-packages/sklearn/preprocessing/label.py:151: DeprecationWarning: The truth value of an empty array is ambiguous. Returning False, but in future this will result in an error. Use `array.size > 0` to check that an array is not empty.\n",
      "  if diff:\n"
     ]
    }
   ],
   "source": [
    "stacked_pred_class_xg = stacked_meta_model_xg.predict(pred_class_base)"
   ]
  },
  {
   "cell_type": "code",
   "execution_count": 203,
   "metadata": {},
   "outputs": [
    {
     "data": {
      "text/plain": [
       "0.35"
      ]
     },
     "execution_count": 203,
     "metadata": {},
     "output_type": "execute_result"
    }
   ],
   "source": [
    "acc = accuracy_score(testY,stacked_pred_class_xg)\n",
    "acc"
   ]
  },
  {
   "cell_type": "code",
   "execution_count": 204,
   "metadata": {
    "collapsed": true
   },
   "outputs": [],
   "source": [
    "acc_results['stacked_xg'] = acc"
   ]
  },
  {
   "cell_type": "code",
   "execution_count": 205,
   "metadata": {},
   "outputs": [
    {
     "data": {
      "text/plain": [
       "{'average': 0.36,\n",
       " 'base_model_counts': {'correct_predicted_by_all': 2,\n",
       "  'correct_predicted_by_some': [25, 21, 15, 8],\n",
       "  'incorrect_predicted_by_all': 29},\n",
       " 'bi_lstm': 0.33,\n",
       " 'blend': 0.34,\n",
       " 'blend_xg': 0.32,\n",
       " 'cnn': 0.26,\n",
       " 'cnn_bi_lstm': 0.34,\n",
       " 'cnn_lstm': 0.29,\n",
       " 'lstm': 0.32,\n",
       " 'majority': 0.36,\n",
       " 'stacked': 0.36,\n",
       " 'stacked_xg': 0.35}"
      ]
     },
     "execution_count": 205,
     "metadata": {},
     "output_type": "execute_result"
    }
   ],
   "source": [
    "acc_results"
   ]
  },
  {
   "cell_type": "code",
   "execution_count": 206,
   "metadata": {
    "collapsed": true
   },
   "outputs": [],
   "source": [
    "pred_df['stacked_xg']=stacked_pred_class"
   ]
  },
  {
   "cell_type": "markdown",
   "metadata": {},
   "source": [
    "## Prediction Correlation"
   ]
  },
  {
   "cell_type": "code",
   "execution_count": 207,
   "metadata": {},
   "outputs": [
    {
     "data": {
      "image/png": "[encoded data removed]",
      "text/plain": [
       "<matplotlib.figure.Figure at 0x7f3a37001b00>"
      ]
     },
     "metadata": {},
     "output_type": "display_data"
    },
    {
     "data": {
      "text/plain": [
       "<matplotlib.axes._subplots.AxesSubplot at 0x7f3a1c653a58>"
      ]
     },
     "execution_count": 207,
     "metadata": {},
     "output_type": "execute_result"
    }
   ],
   "source": [
    "# corrmat(pred_df.corr(), inflate=False,show=False)\n",
    "# plt.savefig('results/corr_matrix_full.png', bbox_inches='tight')\n",
    "corrmat(pred_df.corr(), inflate=False)"
   ]
  },
  {
   "cell_type": "markdown",
   "metadata": {},
   "source": [
    "## saving results"
   ]
  },
  {
   "cell_type": "code",
   "execution_count": 208,
   "metadata": {
    "collapsed": true
   },
   "outputs": [],
   "source": [
    "with open('results/ens_result.json','w') as fout:\n",
    "    json.dump(acc_results,fout,indent=4)"
   ]
  },
  {
   "cell_type": "code",
   "execution_count": null,
   "metadata": {
    "collapsed": true
   },
   "outputs": [],
   "source": []
  }
 ],
 "metadata": {
  "kernelspec": {
   "display_name": "Python 3",
   "language": "python",
   "name": "python3"
  },
  "language_info": {
   "codemirror_mode": {
    "name": "ipython",
    "version": 3
   },
   "file_extension": ".py",
   "mimetype": "text/x-python",
   "name": "python",
   "nbconvert_exporter": "python",
   "pygments_lexer": "ipython3",
   "version": "3.6.3"
  }
 },
 "nbformat": 4,
 "nbformat_minor": 2
}
