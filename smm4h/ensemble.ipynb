{
 "cells": [
  {
   "cell_type": "code",
   "execution_count": 78,
   "metadata": {},
   "outputs": [],
   "source": [
    "import sys\n",
    "sys.path.append('../')\n",
    "import string\n",
    "from nltk.corpus import stopwords\n",
    "import numpy as np\n",
    "import pandas as pd\n",
    "from pprint import pprint\n",
    "import re\n",
    "from keras.preprocessing.text import Tokenizer\n",
    "from keras.preprocessing.sequence import pad_sequences\n",
    "from keras.models import load_model\n",
    "from keras.utils import to_categorical\n",
    "import keras.backend as K\n",
    "from gensim.models import KeyedVectors\n",
    "import word2vecReader as godin_embedding\n",
    "from sklearn.metrics import accuracy_score, f1_score,precision_score, recall_score\n",
    "%matplotlib inline\n",
    "import matplotlib.pyplot as plt\n",
    "plt.rcParams[\"figure.figsize\"] = [12,10]\n",
    "from mlens.visualization import corrmat\n",
    "from base_learners import cnn,bi_lstm,cnn_bi_lstm,cnn_lstm\n",
    "from sklearn.model_selection import train_test_split\n",
    "from sklearn.linear_model import LogisticRegression"
   ]
  },
  {
   "cell_type": "code",
   "execution_count": 2,
   "metadata": {
    "collapsed": true
   },
   "outputs": [],
   "source": [
    "def load_data_from_file(filename,test_flag = False):\n",
    "    data = pd.read_csv(filename, sep=\"\\t\", header=None)\n",
    "    if not test_flag:\n",
    "        data.columns = [\"tweet_id\", \"username\", \"database_id\", \"class\",\"tweet\"]\n",
    "    else:\n",
    "        data.columns = [\"a\", \"b\", \"med\",\"med\", \"tweet\",\"class\",]\n",
    "    return data"
   ]
  },
  {
   "cell_type": "code",
   "execution_count": 3,
   "metadata": {
    "collapsed": true
   },
   "outputs": [],
   "source": [
    "train_data = load_data_from_file('dataset/personal_intake_tweets.txt')\n",
    "dev_data = load_data_from_file('dataset/personal_intake_tweets_dev.txt')"
   ]
  },
  {
   "cell_type": "code",
   "execution_count": 4,
   "metadata": {
    "collapsed": true
   },
   "outputs": [],
   "source": [
    "train_sentences = train_data['tweet'].tolist()+dev_data['tweet'].tolist()\n",
    "train_labels = train_data['class'].tolist()+dev_data['class'].tolist()"
   ]
  },
  {
   "cell_type": "code",
   "execution_count": 5,
   "metadata": {
    "collapsed": true
   },
   "outputs": [],
   "source": [
    "test_data = load_data_from_file('dataset/task_2_test_full_form.txt',test_flag=True)"
   ]
  },
  {
   "cell_type": "code",
   "execution_count": 6,
   "metadata": {
    "collapsed": true
   },
   "outputs": [],
   "source": [
    "test_labels = test_data['class'].tolist()\n",
    "test_sentences = test_data['tweet'].tolist()"
   ]
  },
  {
   "cell_type": "code",
   "execution_count": 7,
   "metadata": {},
   "outputs": [
    {
     "data": {
      "text/plain": [
       "(9107, 9107, 7419, 7419)"
      ]
     },
     "execution_count": 7,
     "metadata": {},
     "output_type": "execute_result"
    }
   ],
   "source": [
    "len(train_labels),len(train_sentences),len(test_labels),len(test_sentences)"
   ]
  },
  {
   "cell_type": "code",
   "execution_count": 8,
   "metadata": {
    "collapsed": true
   },
   "outputs": [],
   "source": [
    "test_labels = [x-1 for x in test_labels]\n",
    "train_labels = [x-1 for x in train_labels]"
   ]
  },
  {
   "cell_type": "code",
   "execution_count": 9,
   "metadata": {},
   "outputs": [
    {
     "data": {
      "text/plain": [
       "3"
      ]
     },
     "execution_count": 9,
     "metadata": {},
     "output_type": "execute_result"
    }
   ],
   "source": [
    "number_of_classes = len(set(train_labels))\n",
    "number_of_classes"
   ]
  },
  {
   "cell_type": "code",
   "execution_count": 10,
   "metadata": {
    "collapsed": true
   },
   "outputs": [],
   "source": [
    "def remove_punctuation(s):\n",
    "    list_punctuation = list(string.punctuation)\n",
    "    for i in list_punctuation:\n",
    "        s = s.replace(i,'')\n",
    "    return s"
   ]
  },
  {
   "cell_type": "code",
   "execution_count": 11,
   "metadata": {
    "collapsed": true
   },
   "outputs": [],
   "source": [
    "def clean_sentence(sentence):\n",
    "    #removes links\n",
    "    sentence = re.sub(r'(?P<url>https?://[^\\s]+)', r'', sentence)\n",
    "    # remove @usernames\n",
    "    sentence = re.sub(r\"\\@(\\w+)\", \"\", sentence)\n",
    "    #remove # from #tags\n",
    "    sentence = sentence.replace('#','')\n",
    "    # split into tokens by white space\n",
    "    tokens = sentence.split()\n",
    "    # remove punctuation from each token\n",
    "    # should have used translate but for some reason it breaks on my server\n",
    "    tokens = [remove_punctuation(w) for w in tokens]\n",
    "    # remove remaining tokens that are not alphabetic\n",
    "    tokens = [word for word in tokens if word.isalpha()]\n",
    "    # filter out stop words\n",
    "    stop_words = set(stopwords.words('english'))\n",
    "    tokens = [w for w in tokens if not w in stop_words]\n",
    "    # filter out short tokens\n",
    "    tokens = [word for word in tokens if len(word) > 1]\n",
    "    tokens = ' '.join(tokens)\n",
    "    return tokens"
   ]
  },
  {
   "cell_type": "code",
   "execution_count": 12,
   "metadata": {},
   "outputs": [
    {
     "name": "stdout",
     "output_type": "stream",
     "text": [
      "cleaning data\n"
     ]
    }
   ],
   "source": [
    "print(\"cleaning data\")\n",
    "trainX = [clean_sentence(s) for s in train_sentences]\n",
    "testX = [clean_sentence(s) for s in test_sentences]\n",
    "trainY = np.array(train_labels)"
   ]
  },
  {
   "cell_type": "code",
   "execution_count": 13,
   "metadata": {
    "collapsed": true
   },
   "outputs": [],
   "source": [
    "max_len = 20"
   ]
  },
  {
   "cell_type": "code",
   "execution_count": 14,
   "metadata": {
    "collapsed": true
   },
   "outputs": [],
   "source": [
    "def create_tokenizer(lines):\n",
    "    tokenizer = Tokenizer()\n",
    "    tokenizer.fit_on_texts(lines)\n",
    "    return tokenizer"
   ]
  },
  {
   "cell_type": "code",
   "execution_count": 15,
   "metadata": {
    "collapsed": true
   },
   "outputs": [],
   "source": [
    "def encode_text(tokenizer, lines, length):\n",
    "    encoded = tokenizer.texts_to_sequences(lines)\n",
    "    padded = pad_sequences(encoded, maxlen=length, padding='post')\n",
    "    return padded"
   ]
  },
  {
   "cell_type": "code",
   "execution_count": 16,
   "metadata": {
    "collapsed": true
   },
   "outputs": [],
   "source": [
    "def load_godin_word_embedding(path):\n",
    "    print(\"Loading Goding model.\")\n",
    "    return godin_embedding.Word2Vec.load_word2vec_format(path, binary=True)"
   ]
  },
  {
   "cell_type": "code",
   "execution_count": 17,
   "metadata": {
    "collapsed": true
   },
   "outputs": [],
   "source": [
    "def get_word_embedding_matrix(model,dim):\n",
    "    #dim = 300 for google word2vec\n",
    "    #dim = 400 for godin\n",
    "    #dim = 100 for fast text\n",
    "    embedding_matrix = np.zeros((vocab_size,dim))\n",
    "    for word, i in tokenizer.word_index.items():\n",
    "        try:\n",
    "            embedding_vector = model[word]\n",
    "        except KeyError:\n",
    "            embedding_vector = None\n",
    "        if embedding_vector is not None:\n",
    "            embedding_matrix[i]=embedding_vector\n",
    "    return embedding_matrix"
   ]
  },
  {
   "cell_type": "code",
   "execution_count": 18,
   "metadata": {
    "collapsed": true
   },
   "outputs": [],
   "source": [
    "def get_results(test_labels,pred_class):\n",
    "    f1 = f1_score(test_labels,pred_class,labels=[0,1],average='micro')\n",
    "    p = precision_score(test_labels,pred_class,labels=[0,1],average='micro')\n",
    "    r = recall_score(test_labels,pred_class,labels=[0,1],average='micro')\n",
    "    acc = accuracy_score(test_labels,pred_class)\n",
    "    return [f1,p,r,acc]"
   ]
  },
  {
   "cell_type": "code",
   "execution_count": 19,
   "metadata": {
    "collapsed": true
   },
   "outputs": [],
   "source": [
    "def get_pred_class(model):\n",
    "    pred = model.predict(testX)\n",
    "    return [int(np.argmax(x)) for x in pred]"
   ]
  },
  {
   "cell_type": "code",
   "execution_count": 20,
   "metadata": {},
   "outputs": [
    {
     "name": "stdout",
     "output_type": "stream",
     "text": [
      "Max document length: 20\n",
      "Vocabulary size: 10940\n"
     ]
    }
   ],
   "source": [
    "tokenizer = create_tokenizer(trainX)\n",
    "vocab_size = len(tokenizer.word_index) + 1\n",
    "print('Max document length: %d' % max_len)\n",
    "print('Vocabulary size: %d' % vocab_size)\n",
    "trainX = encode_text(tokenizer, trainX, max_len)\n",
    "testX = encode_text(tokenizer, testX, max_len)\n",
    "trainY = to_categorical(trainY,num_classes=number_of_classes)"
   ]
  },
  {
   "cell_type": "code",
   "execution_count": 58,
   "metadata": {},
   "outputs": [
    {
     "name": "stdout",
     "output_type": "stream",
     "text": [
      "Loading Goding model.\n"
     ]
    }
   ],
   "source": [
    "godin_model = load_godin_word_embedding(\"../word_embeddings/word2vec_twitter_model.bin\")"
   ]
  },
  {
   "cell_type": "code",
   "execution_count": 59,
   "metadata": {
    "collapsed": true
   },
   "outputs": [],
   "source": [
    "embedding_matrix_godin = get_word_embedding_matrix(godin_model,400)"
   ]
  },
  {
   "cell_type": "markdown",
   "metadata": {},
   "source": [
    "## Base Learners"
   ]
  },
  {
   "cell_type": "code",
   "execution_count": 23,
   "metadata": {
    "collapsed": true
   },
   "outputs": [],
   "source": [
    "model_cnn = load_model('models/cnn.h5')\n",
    "model_bi_lstm = load_model('models/bi_lstm.h5')\n",
    "model_cnn_bi_lstm = load_model('models/cnn_bi_lstm.h5')\n",
    "model_cnn_lstm = load_model('models/cnn_lstm.h5')"
   ]
  },
  {
   "cell_type": "code",
   "execution_count": 24,
   "metadata": {
    "collapsed": true
   },
   "outputs": [],
   "source": [
    "base_models = [('cnn',model_cnn),('bi_lstm',model_bi_lstm),('cnn_bi_lstm',model_cnn_bi_lstm),('cnn_lstm',model_cnn_lstm)]"
   ]
  },
  {
   "cell_type": "code",
   "execution_count": 25,
   "metadata": {
    "collapsed": true
   },
   "outputs": [],
   "source": [
    "pred_class_base = [(name,get_pred_class(m)) for name,m in base_models]"
   ]
  },
  {
   "cell_type": "code",
   "execution_count": 26,
   "metadata": {
    "collapsed": true
   },
   "outputs": [],
   "source": [
    "pred_mat = np.zeros((len(pred_class_base[0][1]),len(pred_class_base)),dtype = np.int64)\n",
    "for i,p in enumerate(pred_class_base):\n",
    "    pred_mat[:,i] = p[1]\n",
    "\n",
    "pred_df = pd.DataFrame(pred_mat)\n",
    "pred_df.columns = [\"cnn\", \"bi_lstm\",\"cnn_bi_lstm\",\"cnn_lstm\"]"
   ]
  },
  {
   "cell_type": "code",
   "execution_count": 28,
   "metadata": {
    "collapsed": true
   },
   "outputs": [],
   "source": [
    "result_base = [(name,get_results(test_labels,pred_class)) for name,pred_class in pred_class_base]\n",
    "result_base_f = []\n",
    "for t in result_base:\n",
    "    temp = [t[0]]\n",
    "    for x in t[1]:\n",
    "        temp.append(x)\n",
    "    result_base_f.append(temp)"
   ]
  },
  {
   "cell_type": "code",
   "execution_count": 29,
   "metadata": {
    "collapsed": true
   },
   "outputs": [],
   "source": [
    "model_performance = pd.DataFrame(columns=['model','f1', 'precision', 'recall','accuracy'])"
   ]
  },
  {
   "cell_type": "code",
   "execution_count": 30,
   "metadata": {
    "collapsed": true
   },
   "outputs": [],
   "source": [
    "for i,result in enumerate(result_base_f):\n",
    "    model_performance.loc[i] = result"
   ]
  },
  {
   "cell_type": "code",
   "execution_count": 31,
   "metadata": {},
   "outputs": [
    {
     "data": {
      "text/html": [
       "<div>\n",
       "<style>\n",
       "    .dataframe thead tr:only-child th {\n",
       "        text-align: right;\n",
       "    }\n",
       "\n",
       "    .dataframe thead th {\n",
       "        text-align: left;\n",
       "    }\n",
       "\n",
       "    .dataframe tbody tr th {\n",
       "        vertical-align: top;\n",
       "    }\n",
       "</style>\n",
       "<table border=\"1\" class=\"dataframe\">\n",
       "  <thead>\n",
       "    <tr style=\"text-align: right;\">\n",
       "      <th></th>\n",
       "      <th>model</th>\n",
       "      <th>f1</th>\n",
       "      <th>precision</th>\n",
       "      <th>recall</th>\n",
       "      <th>accuracy</th>\n",
       "    </tr>\n",
       "  </thead>\n",
       "  <tbody>\n",
       "    <tr>\n",
       "      <th>0</th>\n",
       "      <td>cnn</td>\n",
       "      <td>0.623187</td>\n",
       "      <td>0.587997</td>\n",
       "      <td>0.662857</td>\n",
       "      <td>0.637957</td>\n",
       "    </tr>\n",
       "    <tr>\n",
       "      <th>1</th>\n",
       "      <td>bi_lstm</td>\n",
       "      <td>0.617651</td>\n",
       "      <td>0.654555</td>\n",
       "      <td>0.584686</td>\n",
       "      <td>0.662758</td>\n",
       "    </tr>\n",
       "    <tr>\n",
       "      <th>2</th>\n",
       "      <td>cnn_bi_lstm</td>\n",
       "      <td>0.632167</td>\n",
       "      <td>0.659142</td>\n",
       "      <td>0.607314</td>\n",
       "      <td>0.672058</td>\n",
       "    </tr>\n",
       "    <tr>\n",
       "      <th>3</th>\n",
       "      <td>cnn_lstm</td>\n",
       "      <td>0.637507</td>\n",
       "      <td>0.632135</td>\n",
       "      <td>0.642971</td>\n",
       "      <td>0.669902</td>\n",
       "    </tr>\n",
       "  </tbody>\n",
       "</table>\n",
       "</div>"
      ],
      "text/plain": [
       "         model        f1  precision    recall  accuracy\n",
       "0          cnn  0.623187   0.587997  0.662857  0.637957\n",
       "1      bi_lstm  0.617651   0.654555  0.584686  0.662758\n",
       "2  cnn_bi_lstm  0.632167   0.659142  0.607314  0.672058\n",
       "3     cnn_lstm  0.637507   0.632135  0.642971  0.669902"
      ]
     },
     "execution_count": 31,
     "metadata": {},
     "output_type": "execute_result"
    }
   ],
   "source": [
    "model_performance"
   ]
  },
  {
   "cell_type": "markdown",
   "metadata": {},
   "source": [
    "## Error prediction Correlation"
   ]
  },
  {
   "cell_type": "code",
   "execution_count": 32,
   "metadata": {},
   "outputs": [
    {
     "data": {
      "image/png": "[encoded data removed]",
      "text/plain": [
       "<matplotlib.figure.Figure at 0x7ff19e0fce10>"
      ]
     },
     "metadata": {},
     "output_type": "display_data"
    },
    {
     "data": {
      "text/plain": [
       "<matplotlib.axes._subplots.AxesSubplot at 0x7ff19e36f080>"
      ]
     },
     "execution_count": 32,
     "metadata": {},
     "output_type": "execute_result"
    }
   ],
   "source": [
    "corrmat(pred_df.corr(), inflate=False)"
   ]
  },
  {
   "cell_type": "markdown",
   "metadata": {},
   "source": [
    "Correlation values are moderately low, there is scope of improvement"
   ]
  },
  {
   "cell_type": "markdown",
   "metadata": {},
   "source": [
    "## Simple Average"
   ]
  },
  {
   "cell_type": "code",
   "execution_count": 33,
   "metadata": {
    "collapsed": true
   },
   "outputs": [],
   "source": [
    "pred_prob_models = np.zeros((len(testX),number_of_classes,len(base_models)))"
   ]
  },
  {
   "cell_type": "code",
   "execution_count": 34,
   "metadata": {
    "collapsed": true
   },
   "outputs": [],
   "source": [
    "for i,p in enumerate(base_models):\n",
    "    pred_prob_models[:,:,i] = p[1].predict(testX)"
   ]
  },
  {
   "cell_type": "code",
   "execution_count": 35,
   "metadata": {
    "collapsed": true
   },
   "outputs": [],
   "source": [
    "avg_pred_prob = pred_prob_models.mean(axis=2)"
   ]
  },
  {
   "cell_type": "code",
   "execution_count": 36,
   "metadata": {
    "collapsed": true
   },
   "outputs": [],
   "source": [
    "avg_pred_class = [int(np.argmax(x)) for x in avg_pred_prob]"
   ]
  },
  {
   "cell_type": "code",
   "execution_count": 37,
   "metadata": {
    "collapsed": true
   },
   "outputs": [],
   "source": [
    "avg_ensemble_result = get_results(test_labels,avg_pred_class)"
   ]
  },
  {
   "cell_type": "code",
   "execution_count": 38,
   "metadata": {
    "collapsed": true
   },
   "outputs": [],
   "source": [
    "avg_ensemble_result.insert(0,'avg_ensemble')"
   ]
  },
  {
   "cell_type": "code",
   "execution_count": 39,
   "metadata": {
    "collapsed": true
   },
   "outputs": [],
   "source": [
    "model_performance.loc[4] = avg_ensemble_result"
   ]
  },
  {
   "cell_type": "code",
   "execution_count": 40,
   "metadata": {},
   "outputs": [
    {
     "data": {
      "text/html": [
       "<div>\n",
       "<style>\n",
       "    .dataframe thead tr:only-child th {\n",
       "        text-align: right;\n",
       "    }\n",
       "\n",
       "    .dataframe thead th {\n",
       "        text-align: left;\n",
       "    }\n",
       "\n",
       "    .dataframe tbody tr th {\n",
       "        vertical-align: top;\n",
       "    }\n",
       "</style>\n",
       "<table border=\"1\" class=\"dataframe\">\n",
       "  <thead>\n",
       "    <tr style=\"text-align: right;\">\n",
       "      <th></th>\n",
       "      <th>model</th>\n",
       "      <th>f1</th>\n",
       "      <th>precision</th>\n",
       "      <th>recall</th>\n",
       "      <th>accuracy</th>\n",
       "    </tr>\n",
       "  </thead>\n",
       "  <tbody>\n",
       "    <tr>\n",
       "      <th>0</th>\n",
       "      <td>cnn</td>\n",
       "      <td>0.623187</td>\n",
       "      <td>0.587997</td>\n",
       "      <td>0.662857</td>\n",
       "      <td>0.637957</td>\n",
       "    </tr>\n",
       "    <tr>\n",
       "      <th>1</th>\n",
       "      <td>bi_lstm</td>\n",
       "      <td>0.617651</td>\n",
       "      <td>0.654555</td>\n",
       "      <td>0.584686</td>\n",
       "      <td>0.662758</td>\n",
       "    </tr>\n",
       "    <tr>\n",
       "      <th>2</th>\n",
       "      <td>cnn_bi_lstm</td>\n",
       "      <td>0.632167</td>\n",
       "      <td>0.659142</td>\n",
       "      <td>0.607314</td>\n",
       "      <td>0.672058</td>\n",
       "    </tr>\n",
       "    <tr>\n",
       "      <th>3</th>\n",
       "      <td>cnn_lstm</td>\n",
       "      <td>0.637507</td>\n",
       "      <td>0.632135</td>\n",
       "      <td>0.642971</td>\n",
       "      <td>0.669902</td>\n",
       "    </tr>\n",
       "    <tr>\n",
       "      <th>4</th>\n",
       "      <td>avg_ensemble</td>\n",
       "      <td>0.646064</td>\n",
       "      <td>0.659524</td>\n",
       "      <td>0.633143</td>\n",
       "      <td>0.682572</td>\n",
       "    </tr>\n",
       "  </tbody>\n",
       "</table>\n",
       "</div>"
      ],
      "text/plain": [
       "          model        f1  precision    recall  accuracy\n",
       "0           cnn  0.623187   0.587997  0.662857  0.637957\n",
       "1       bi_lstm  0.617651   0.654555  0.584686  0.662758\n",
       "2   cnn_bi_lstm  0.632167   0.659142  0.607314  0.672058\n",
       "3      cnn_lstm  0.637507   0.632135  0.642971  0.669902\n",
       "4  avg_ensemble  0.646064   0.659524  0.633143  0.682572"
      ]
     },
     "execution_count": 40,
     "metadata": {},
     "output_type": "execute_result"
    }
   ],
   "source": [
    "model_performance"
   ]
  },
  {
   "cell_type": "markdown",
   "metadata": {},
   "source": [
    "## Majority Voting "
   ]
  },
  {
   "cell_type": "code",
   "execution_count": 41,
   "metadata": {
    "collapsed": true
   },
   "outputs": [],
   "source": [
    "base_pred_class = np.zeros((len(testX),len(pred_class_base)),dtype = np.int64)"
   ]
  },
  {
   "cell_type": "code",
   "execution_count": 42,
   "metadata": {
    "collapsed": true
   },
   "outputs": [],
   "source": [
    "for i,p in enumerate(base_models):\n",
    "    base_pred_class[:,i] = get_pred_class(p[1])"
   ]
  },
  {
   "cell_type": "code",
   "execution_count": 43,
   "metadata": {},
   "outputs": [
    {
     "data": {
      "text/plain": [
       "array([[2, 2, 2, 2],\n",
       "       [1, 2, 2, 2],\n",
       "       [1, 1, 1, 1],\n",
       "       ...,\n",
       "       [1, 1, 1, 1],\n",
       "       [2, 2, 2, 2],\n",
       "       [1, 2, 2, 2]])"
      ]
     },
     "execution_count": 43,
     "metadata": {},
     "output_type": "execute_result"
    }
   ],
   "source": [
    "base_pred_class"
   ]
  },
  {
   "cell_type": "code",
   "execution_count": 44,
   "metadata": {
    "collapsed": true
   },
   "outputs": [],
   "source": [
    "majority_pred_class = [int(np.argmax(np.bincount(x))) for x in base_pred_class]"
   ]
  },
  {
   "cell_type": "code",
   "execution_count": 45,
   "metadata": {
    "collapsed": true
   },
   "outputs": [],
   "source": [
    "majority_ensemble_result = get_results(test_labels,majority_pred_class)"
   ]
  },
  {
   "cell_type": "code",
   "execution_count": 46,
   "metadata": {
    "collapsed": true
   },
   "outputs": [],
   "source": [
    "majority_ensemble_result.insert(0,'majority_ensemble')"
   ]
  },
  {
   "cell_type": "code",
   "execution_count": 47,
   "metadata": {
    "collapsed": true
   },
   "outputs": [],
   "source": [
    "model_performance.loc[5] = majority_ensemble_result"
   ]
  },
  {
   "cell_type": "code",
   "execution_count": 48,
   "metadata": {},
   "outputs": [
    {
     "data": {
      "text/html": [
       "<div>\n",
       "<style>\n",
       "    .dataframe thead tr:only-child th {\n",
       "        text-align: right;\n",
       "    }\n",
       "\n",
       "    .dataframe thead th {\n",
       "        text-align: left;\n",
       "    }\n",
       "\n",
       "    .dataframe tbody tr th {\n",
       "        vertical-align: top;\n",
       "    }\n",
       "</style>\n",
       "<table border=\"1\" class=\"dataframe\">\n",
       "  <thead>\n",
       "    <tr style=\"text-align: right;\">\n",
       "      <th></th>\n",
       "      <th>model</th>\n",
       "      <th>f1</th>\n",
       "      <th>precision</th>\n",
       "      <th>recall</th>\n",
       "      <th>accuracy</th>\n",
       "    </tr>\n",
       "  </thead>\n",
       "  <tbody>\n",
       "    <tr>\n",
       "      <th>0</th>\n",
       "      <td>cnn</td>\n",
       "      <td>0.623187</td>\n",
       "      <td>0.587997</td>\n",
       "      <td>0.662857</td>\n",
       "      <td>0.637957</td>\n",
       "    </tr>\n",
       "    <tr>\n",
       "      <th>1</th>\n",
       "      <td>bi_lstm</td>\n",
       "      <td>0.617651</td>\n",
       "      <td>0.654555</td>\n",
       "      <td>0.584686</td>\n",
       "      <td>0.662758</td>\n",
       "    </tr>\n",
       "    <tr>\n",
       "      <th>2</th>\n",
       "      <td>cnn_bi_lstm</td>\n",
       "      <td>0.632167</td>\n",
       "      <td>0.659142</td>\n",
       "      <td>0.607314</td>\n",
       "      <td>0.672058</td>\n",
       "    </tr>\n",
       "    <tr>\n",
       "      <th>3</th>\n",
       "      <td>cnn_lstm</td>\n",
       "      <td>0.637507</td>\n",
       "      <td>0.632135</td>\n",
       "      <td>0.642971</td>\n",
       "      <td>0.669902</td>\n",
       "    </tr>\n",
       "    <tr>\n",
       "      <th>4</th>\n",
       "      <td>avg_ensemble</td>\n",
       "      <td>0.646064</td>\n",
       "      <td>0.659524</td>\n",
       "      <td>0.633143</td>\n",
       "      <td>0.682572</td>\n",
       "    </tr>\n",
       "    <tr>\n",
       "      <th>5</th>\n",
       "      <td>majority_ensemble</td>\n",
       "      <td>0.653894</td>\n",
       "      <td>0.644953</td>\n",
       "      <td>0.663086</td>\n",
       "      <td>0.682437</td>\n",
       "    </tr>\n",
       "  </tbody>\n",
       "</table>\n",
       "</div>"
      ],
      "text/plain": [
       "               model        f1  precision    recall  accuracy\n",
       "0                cnn  0.623187   0.587997  0.662857  0.637957\n",
       "1            bi_lstm  0.617651   0.654555  0.584686  0.662758\n",
       "2        cnn_bi_lstm  0.632167   0.659142  0.607314  0.672058\n",
       "3           cnn_lstm  0.637507   0.632135  0.642971  0.669902\n",
       "4       avg_ensemble  0.646064   0.659524  0.633143  0.682572\n",
       "5  majority_ensemble  0.653894   0.644953  0.663086  0.682437"
      ]
     },
     "execution_count": 48,
     "metadata": {},
     "output_type": "execute_result"
    }
   ],
   "source": [
    "model_performance"
   ]
  },
  {
   "cell_type": "markdown",
   "metadata": {},
   "source": [
    "## Super learner - blending "
   ]
  },
  {
   "cell_type": "code",
   "execution_count": 61,
   "metadata": {
    "collapsed": true
   },
   "outputs": [],
   "source": [
    "seed = 42"
   ]
  },
  {
   "cell_type": "code",
   "execution_count": 70,
   "metadata": {
    "collapsed": true
   },
   "outputs": [],
   "source": [
    "parameters_cnn = {\n",
    "            \"n_dense\": 100,\n",
    "            \"dropout\": 0.7,\n",
    "            \"n_filters\": 100,\n",
    "            \"filter_size\": 2,\n",
    "            \"em\": 'embedding_matrix_godin',\n",
    "            \"batch\": 16,\n",
    "            \"epoch\": 7\n",
    "        }\n",
    "\n",
    "\n",
    "parameters_bi_lstm = {\n",
    "            \"dropout\": 0.7,\n",
    "            \"units_out\": 128,\n",
    "            \"em\": 'embedding_matrix_godin',\n",
    "            \"batch\": 8,\n",
    "            \"epoch\": 9\n",
    "        }\n",
    "\n",
    "parameters_bi_lstm_cnn = {\n",
    "            \"n_filters\":400,\n",
    "            \"filter_size\":4,\n",
    "            \"em\": 'embedding_matrix_godin',\n",
    "            \"conv_dropout\":0.7,\n",
    "            \"l_or_g_dropout\":0.2,\n",
    "            \"units_out\":16,\n",
    "            \"batch\": 8,\n",
    "            \"epoch\": 12\n",
    "        }\n",
    "\n",
    "parameters_lstm_cnn = {\n",
    "            \"n_filters\":300,\n",
    "            \"filter_size\":2,\n",
    "            \"em\": 'embedding_matrix_godin',\n",
    "            \"conv_dropout\":0.8,\n",
    "            \"l_or_g_dropout\":0.2,\n",
    "            \"units_out\":128,\n",
    "            \"batch\": 8,\n",
    "            \"epoch\": 15\n",
    "        }"
   ]
  },
  {
   "cell_type": "code",
   "execution_count": 71,
   "metadata": {},
   "outputs": [
    {
     "name": "stdout",
     "output_type": "stream",
     "text": [
      "_________________________________________________________________\n",
      "Layer (type)                 Output Shape              Param #   \n",
      "=================================================================\n",
      "embedding_5 (Embedding)      (None, 20, 400)           4376000   \n",
      "_________________________________________________________________\n",
      "dropout_8 (Dropout)          (None, 20, 400)           0         \n",
      "_________________________________________________________________\n",
      "conv1d_4 (Conv1D)            (None, 19, 100)           80100     \n",
      "_________________________________________________________________\n",
      "global_max_pooling1d_2 (Glob (None, 100)               0         \n",
      "_________________________________________________________________\n",
      "dense_6 (Dense)              (None, 100)               10100     \n",
      "_________________________________________________________________\n",
      "dropout_9 (Dropout)          (None, 100)               0         \n",
      "_________________________________________________________________\n",
      "activation_3 (Activation)    (None, 100)               0         \n",
      "_________________________________________________________________\n",
      "dense_7 (Dense)              (None, 3)                 303       \n",
      "_________________________________________________________________\n",
      "activation_4 (Activation)    (None, 3)                 0         \n",
      "=================================================================\n",
      "Total params: 4,466,503\n",
      "Trainable params: 90,503\n",
      "Non-trainable params: 4,376,000\n",
      "_________________________________________________________________\n",
      "None\n",
      "_________________________________________________________________\n",
      "Layer (type)                 Output Shape              Param #   \n",
      "=================================================================\n",
      "embedding_6 (Embedding)      (None, 20, 400)           4376000   \n",
      "_________________________________________________________________\n",
      "bidirectional_3 (Bidirection (None, 256)               541696    \n",
      "_________________________________________________________________\n",
      "dropout_10 (Dropout)         (None, 256)               0         \n",
      "_________________________________________________________________\n",
      "dense_8 (Dense)              (None, 3)                 771       \n",
      "=================================================================\n",
      "Total params: 4,918,467\n",
      "Trainable params: 542,467\n",
      "Non-trainable params: 4,376,000\n",
      "_________________________________________________________________\n",
      "None\n",
      "_________________________________________________________________\n",
      "Layer (type)                 Output Shape              Param #   \n",
      "=================================================================\n",
      "embedding_7 (Embedding)      (None, 20, 400)           4376000   \n",
      "_________________________________________________________________\n",
      "conv1d_5 (Conv1D)            (None, 17, 400)           640400    \n",
      "_________________________________________________________________\n",
      "dropout_11 (Dropout)         (None, 17, 400)           0         \n",
      "_________________________________________________________________\n",
      "max_pooling1d_3 (MaxPooling1 (None, 8, 400)            0         \n",
      "_________________________________________________________________\n",
      "bidirectional_4 (Bidirection (None, 32)                53376     \n",
      "_________________________________________________________________\n",
      "dropout_12 (Dropout)         (None, 32)                0         \n",
      "_________________________________________________________________\n",
      "dense_9 (Dense)              (None, 3)                 99        \n",
      "=================================================================\n",
      "Total params: 5,069,875\n",
      "Trainable params: 693,875\n",
      "Non-trainable params: 4,376,000\n",
      "_________________________________________________________________\n",
      "None\n",
      "_________________________________________________________________\n",
      "Layer (type)                 Output Shape              Param #   \n",
      "=================================================================\n",
      "embedding_8 (Embedding)      (None, 20, 400)           4376000   \n",
      "_________________________________________________________________\n",
      "conv1d_6 (Conv1D)            (None, 17, 400)           640400    \n",
      "_________________________________________________________________\n",
      "dropout_13 (Dropout)         (None, 17, 400)           0         \n",
      "_________________________________________________________________\n",
      "max_pooling1d_4 (MaxPooling1 (None, 8, 400)            0         \n",
      "_________________________________________________________________\n",
      "lstm_6 (LSTM)                (None, 16)                26688     \n",
      "_________________________________________________________________\n",
      "dropout_14 (Dropout)         (None, 16)                0         \n",
      "_________________________________________________________________\n",
      "dense_10 (Dense)             (None, 3)                 51        \n",
      "=================================================================\n",
      "Total params: 5,043,139\n",
      "Trainable params: 667,139\n",
      "Non-trainable params: 4,376,000\n",
      "_________________________________________________________________\n",
      "None\n"
     ]
    }
   ],
   "source": [
    "blend_base_cnn = cnn(length=max_len,\n",
    "                vocab_size=vocab_size,\n",
    "                n_dense=parameters_cnn['n_dense'],\n",
    "                dropout=parameters_cnn['dropout'],\n",
    "                n_filters=parameters_cnn['n_filters'],\n",
    "                filter_size=int(parameters_cnn['filter_size']),\n",
    "                em = eval(parameters_cnn['em']),\n",
    "                number_of_classes=number_of_classes)\n",
    "\n",
    "blend_base_bi_lstm = bi_lstm(length=max_len,\n",
    "                        vocab_size=vocab_size,\n",
    "                        dropout=parameters_bi_lstm['dropout'],\n",
    "                        units_out=parameters_bi_lstm['units_out'],\n",
    "                        em=eval(parameters_bi_lstm['em']),\n",
    "                        number_of_classes=number_of_classes)\n",
    "\n",
    "\n",
    "blend_base_cnn_bi_lstm = cnn_bi_lstm(length=max_len,\n",
    "                                vocab_size=vocab_size,\n",
    "                                n_filters=parameters_bi_lstm_cnn['n_filters'],\n",
    "                                filter_size=parameters_bi_lstm_cnn['filter_size'],\n",
    "                                em=eval(parameters_bi_lstm_cnn['em']),\n",
    "                                number_of_classes=number_of_classes,\n",
    "                                conv_dropout=parameters_bi_lstm_cnn['conv_dropout'],\n",
    "                                l_or_g_dropout=parameters_bi_lstm_cnn['l_or_g_dropout'],\n",
    "                                units_out=parameters_bi_lstm_cnn['units_out'])\n",
    "\n",
    "\n",
    "blend_base_cnn_lstm = cnn_lstm(length=max_len,\n",
    "                                vocab_size=vocab_size,\n",
    "                                n_filters=parameters_bi_lstm_cnn['n_filters'],\n",
    "                                filter_size=parameters_bi_lstm_cnn['filter_size'],\n",
    "                                em=eval(parameters_bi_lstm_cnn['em']),\n",
    "                                number_of_classes=number_of_classes,\n",
    "                                conv_dropout=parameters_bi_lstm_cnn['conv_dropout'],\n",
    "                                l_or_g_dropout=parameters_bi_lstm_cnn['l_or_g_dropout'],\n",
    "                                units_out=parameters_bi_lstm_cnn['units_out'])"
   ]
  },
  {
   "cell_type": "code",
   "execution_count": 72,
   "metadata": {
    "collapsed": true
   },
   "outputs": [],
   "source": [
    "blend_base_models = [(parameters_cnn,blend_base_cnn),(parameters_bi_lstm,blend_base_bi_lstm),(parameters_bi_lstm_cnn,blend_base_cnn_bi_lstm),(parameters_lstm_cnn,blend_base_cnn_lstm)]"
   ]
  },
  {
   "cell_type": "code",
   "execution_count": 73,
   "metadata": {
    "collapsed": true
   },
   "outputs": [],
   "source": [
    "blend_trainX, blend_testX, blend_trainY, blend_testY = train_test_split(trainX, trainY, test_size=0.10, random_state=seed)"
   ]
  },
  {
   "cell_type": "code",
   "execution_count": 74,
   "metadata": {},
   "outputs": [
    {
     "data": {
      "text/plain": [
       "(8196, 8196, 911, 911)"
      ]
     },
     "execution_count": 74,
     "metadata": {},
     "output_type": "execute_result"
    }
   ],
   "source": [
    "len(blend_trainX),len(blend_trainY),len(blend_testX),len(blend_testY)"
   ]
  },
  {
   "cell_type": "code",
   "execution_count": 75,
   "metadata": {
    "collapsed": true
   },
   "outputs": [],
   "source": [
    "metalearner_trainX = np.zeros((len(blend_testX),len(blend_base_models)),dtype=np.int64)"
   ]
  },
  {
   "cell_type": "code",
   "execution_count": 76,
   "metadata": {},
   "outputs": [
    {
     "name": "stdout",
     "output_type": "stream",
     "text": [
      "0\n",
      "Epoch 1/7\n",
      "8196/8196 [==============================] - 7s 801us/step - loss: 0.5680 - acc: 0.7110\n",
      "Epoch 2/7\n",
      "8196/8196 [==============================] - 5s 631us/step - loss: 0.5079 - acc: 0.7524\n",
      "Epoch 3/7\n",
      "8196/8196 [==============================] - 5s 612us/step - loss: 0.4845 - acc: 0.7693\n",
      "Epoch 4/7\n",
      "8196/8196 [==============================] - 6s 684us/step - loss: 0.4615 - acc: 0.7813\n",
      "Epoch 5/7\n",
      "8196/8196 [==============================] - 6s 696us/step - loss: 0.4557 - acc: 0.7875\n",
      "Epoch 6/7\n",
      "8196/8196 [==============================] - 6s 697us/step - loss: 0.4399 - acc: 0.7961\n",
      "Epoch 7/7\n",
      "8196/8196 [==============================] - 6s 699us/step - loss: 0.4306 - acc: 0.8020\n",
      "1\n",
      "Epoch 1/9\n",
      "8196/8196 [==============================] - 47s 6ms/step - loss: 0.4992 - acc: 0.7594\n",
      "Epoch 2/9\n",
      "8196/8196 [==============================] - 45s 5ms/step - loss: 0.4308 - acc: 0.8020\n",
      "Epoch 3/9\n",
      "8196/8196 [==============================] - 44s 5ms/step - loss: 0.4073 - acc: 0.8160\n",
      "Epoch 4/9\n",
      "8196/8196 [==============================] - 44s 5ms/step - loss: 0.3829 - acc: 0.8303\n",
      "Epoch 5/9\n",
      "8196/8196 [==============================] - 49s 6ms/step - loss: 0.3712 - acc: 0.8351\n",
      "Epoch 6/9\n",
      "8196/8196 [==============================] - 44s 5ms/step - loss: 0.3547 - acc: 0.8452\n",
      "Epoch 7/9\n",
      "8196/8196 [==============================] - 46s 6ms/step - loss: 0.3361 - acc: 0.8506\n",
      "Epoch 8/9\n",
      "8196/8196 [==============================] - 47s 6ms/step - loss: 0.3189 - acc: 0.8605\n",
      "Epoch 9/9\n",
      "8196/8196 [==============================] - 46s 6ms/step - loss: 0.3013 - acc: 0.8694\n",
      "2\n",
      "Epoch 1/12\n",
      "8196/8196 [==============================] - 34s 4ms/step - loss: 0.4921 - acc: 0.7607\n",
      "Epoch 2/12\n",
      "8196/8196 [==============================] - 33s 4ms/step - loss: 0.4169 - acc: 0.8094\n",
      "Epoch 3/12\n",
      "8196/8196 [==============================] - 34s 4ms/step - loss: 0.3855 - acc: 0.8278\n",
      "Epoch 4/12\n",
      "8196/8196 [==============================] - 34s 4ms/step - loss: 0.3569 - acc: 0.8424: 0s - loss: 0.3566 - acc:\n",
      "Epoch 5/12\n",
      "8196/8196 [==============================] - 33s 4ms/step - loss: 0.3310 - acc: 0.8566\n",
      "Epoch 6/12\n",
      "8196/8196 [==============================] - 33s 4ms/step - loss: 0.3088 - acc: 0.8672\n",
      "Epoch 7/12\n",
      "8196/8196 [==============================] - 33s 4ms/step - loss: 0.2866 - acc: 0.8781\n",
      "Epoch 8/12\n",
      "8196/8196 [==============================] - 34s 4ms/step - loss: 0.2634 - acc: 0.8910\n",
      "Epoch 9/12\n",
      "8196/8196 [==============================] - 34s 4ms/step - loss: 0.2397 - acc: 0.9047\n",
      "Epoch 10/12\n",
      "8196/8196 [==============================] - 33s 4ms/step - loss: 0.2201 - acc: 0.9124\n",
      "Epoch 11/12\n",
      "8196/8196 [==============================] - 33s 4ms/step - loss: 0.2037 - acc: 0.9207\n",
      "Epoch 12/12\n",
      "8196/8196 [==============================] - 34s 4ms/step - loss: 0.1958 - acc: 0.9243\n",
      "3\n",
      "Epoch 1/15\n",
      "8196/8196 [==============================] - 31s 4ms/step - loss: 0.5221 - acc: 0.7440\n",
      "Epoch 2/15\n",
      "8196/8196 [==============================] - 30s 4ms/step - loss: 0.4468 - acc: 0.7930\n",
      "Epoch 3/15\n",
      "8196/8196 [==============================] - 31s 4ms/step - loss: 0.4097 - acc: 0.8172\n",
      "Epoch 4/15\n",
      "8196/8196 [==============================] - 31s 4ms/step - loss: 0.3850 - acc: 0.8315\n",
      "Epoch 5/15\n",
      "8196/8196 [==============================] - 30s 4ms/step - loss: 0.3561 - acc: 0.8466\n",
      "Epoch 6/15\n",
      "8196/8196 [==============================] - 30s 4ms/step - loss: 0.3332 - acc: 0.8611\n",
      "Epoch 7/15\n",
      "8196/8196 [==============================] - 30s 4ms/step - loss: 0.3142 - acc: 0.8703\n",
      "Epoch 8/15\n",
      "8196/8196 [==============================] - 30s 4ms/step - loss: 0.2899 - acc: 0.8840\n",
      "Epoch 9/15\n",
      "8196/8196 [==============================] - 31s 4ms/step - loss: 0.2639 - acc: 0.8962\n",
      "Epoch 10/15\n",
      "8196/8196 [==============================] - 30s 4ms/step - loss: 0.2547 - acc: 0.8980\n",
      "Epoch 11/15\n",
      "8196/8196 [==============================] - 30s 4ms/step - loss: 0.2346 - acc: 0.9080\n",
      "Epoch 12/15\n",
      "8196/8196 [==============================] - 30s 4ms/step - loss: 0.2315 - acc: 0.9101\n",
      "Epoch 13/15\n",
      "8196/8196 [==============================] - 30s 4ms/step - loss: 0.2192 - acc: 0.9138\n",
      "Epoch 14/15\n",
      "8196/8196 [==============================] - 30s 4ms/step - loss: 0.2009 - acc: 0.9232\n",
      "Epoch 15/15\n",
      "8196/8196 [==============================] - 30s 4ms/step - loss: 0.1978 - acc: 0.9252\n"
     ]
    }
   ],
   "source": [
    "for i,m in enumerate(blend_base_models):\n",
    "    print(i)\n",
    "    history = m[1].fit(blend_trainX,blend_trainY,epochs=m[0][\"epoch\"],batch_size=m[0][\"batch\"])\n",
    "    pred = m[1].predict(blend_testX)\n",
    "    metalearner_trainX[:,i] = [int(np.argmax(x)) for x in pred]"
   ]
  },
  {
   "cell_type": "code",
   "execution_count": 81,
   "metadata": {},
   "outputs": [],
   "source": [
    "blend_meta_model = LogisticRegression()"
   ]
  },
  {
   "cell_type": "code",
   "execution_count": 85,
   "metadata": {},
   "outputs": [],
   "source": [
    "blend_testY = np.array([int(np.argmax(x)) for x in blend_testY])"
   ]
  },
  {
   "cell_type": "code",
   "execution_count": 89,
   "metadata": {},
   "outputs": [
    {
     "data": {
      "text/plain": [
       "LogisticRegression(C=1.0, class_weight=None, dual=False, fit_intercept=True,\n",
       "          intercept_scaling=1, max_iter=100, multi_class='ovr', n_jobs=1,\n",
       "          penalty='l2', random_state=None, solver='liblinear', tol=0.0001,\n",
       "          verbose=0, warm_start=False)"
      ]
     },
     "execution_count": 89,
     "metadata": {},
     "output_type": "execute_result"
    }
   ],
   "source": [
    "blend_meta_model.fit(metalearner_trainX, blend_testY)"
   ]
  },
  {
   "cell_type": "code",
   "execution_count": 90,
   "metadata": {
    "collapsed": true
   },
   "outputs": [],
   "source": [
    "test_pred_class = np.zeros((len(testX),len(blend_base_models)),dtype = np.int64)"
   ]
  },
  {
   "cell_type": "code",
   "execution_count": 91,
   "metadata": {
    "collapsed": true
   },
   "outputs": [],
   "source": [
    "for i,p in enumerate(base_models):\n",
    "    test_pred_class[:,i] = get_pred_class(p[1])"
   ]
  },
  {
   "cell_type": "code",
   "execution_count": 93,
   "metadata": {},
   "outputs": [],
   "source": [
    "blend_ensemble_pred_class = blend_meta_model.predict(test_pred_class)"
   ]
  },
  {
   "cell_type": "code",
   "execution_count": 96,
   "metadata": {},
   "outputs": [],
   "source": [
    "blend_ensemble_pred_class = list(blend_ensemble_pred_class)"
   ]
  },
  {
   "cell_type": "code",
   "execution_count": 98,
   "metadata": {},
   "outputs": [],
   "source": [
    "blend_ensemble_result = get_results(test_labels,blend_ensemble_pred_class)"
   ]
  },
  {
   "cell_type": "code",
   "execution_count": 99,
   "metadata": {
    "collapsed": true
   },
   "outputs": [],
   "source": [
    "blend_ensemble_result.insert(0,'blend_ensemble')"
   ]
  },
  {
   "cell_type": "code",
   "execution_count": 100,
   "metadata": {
    "collapsed": true
   },
   "outputs": [],
   "source": [
    "model_performance.loc[6] = blend_ensemble_result"
   ]
  },
  {
   "cell_type": "code",
   "execution_count": 101,
   "metadata": {},
   "outputs": [
    {
     "data": {
      "text/html": [
       "<div>\n",
       "<style>\n",
       "    .dataframe thead tr:only-child th {\n",
       "        text-align: right;\n",
       "    }\n",
       "\n",
       "    .dataframe thead th {\n",
       "        text-align: left;\n",
       "    }\n",
       "\n",
       "    .dataframe tbody tr th {\n",
       "        vertical-align: top;\n",
       "    }\n",
       "</style>\n",
       "<table border=\"1\" class=\"dataframe\">\n",
       "  <thead>\n",
       "    <tr style=\"text-align: right;\">\n",
       "      <th></th>\n",
       "      <th>model</th>\n",
       "      <th>f1</th>\n",
       "      <th>precision</th>\n",
       "      <th>recall</th>\n",
       "      <th>accuracy</th>\n",
       "    </tr>\n",
       "  </thead>\n",
       "  <tbody>\n",
       "    <tr>\n",
       "      <th>0</th>\n",
       "      <td>cnn</td>\n",
       "      <td>0.623187</td>\n",
       "      <td>0.587997</td>\n",
       "      <td>0.662857</td>\n",
       "      <td>0.637957</td>\n",
       "    </tr>\n",
       "    <tr>\n",
       "      <th>1</th>\n",
       "      <td>bi_lstm</td>\n",
       "      <td>0.617651</td>\n",
       "      <td>0.654555</td>\n",
       "      <td>0.584686</td>\n",
       "      <td>0.662758</td>\n",
       "    </tr>\n",
       "    <tr>\n",
       "      <th>2</th>\n",
       "      <td>cnn_bi_lstm</td>\n",
       "      <td>0.632167</td>\n",
       "      <td>0.659142</td>\n",
       "      <td>0.607314</td>\n",
       "      <td>0.672058</td>\n",
       "    </tr>\n",
       "    <tr>\n",
       "      <th>3</th>\n",
       "      <td>cnn_lstm</td>\n",
       "      <td>0.637507</td>\n",
       "      <td>0.632135</td>\n",
       "      <td>0.642971</td>\n",
       "      <td>0.669902</td>\n",
       "    </tr>\n",
       "    <tr>\n",
       "      <th>4</th>\n",
       "      <td>avg_ensemble</td>\n",
       "      <td>0.646064</td>\n",
       "      <td>0.659524</td>\n",
       "      <td>0.633143</td>\n",
       "      <td>0.682572</td>\n",
       "    </tr>\n",
       "    <tr>\n",
       "      <th>5</th>\n",
       "      <td>majority_ensemble</td>\n",
       "      <td>0.653894</td>\n",
       "      <td>0.644953</td>\n",
       "      <td>0.663086</td>\n",
       "      <td>0.682437</td>\n",
       "    </tr>\n",
       "    <tr>\n",
       "      <th>6</th>\n",
       "      <td>blend_ensemble</td>\n",
       "      <td>0.613343</td>\n",
       "      <td>0.677919</td>\n",
       "      <td>0.560000</td>\n",
       "      <td>0.668149</td>\n",
       "    </tr>\n",
       "  </tbody>\n",
       "</table>\n",
       "</div>"
      ],
      "text/plain": [
       "               model        f1  precision    recall  accuracy\n",
       "0                cnn  0.623187   0.587997  0.662857  0.637957\n",
       "1            bi_lstm  0.617651   0.654555  0.584686  0.662758\n",
       "2        cnn_bi_lstm  0.632167   0.659142  0.607314  0.672058\n",
       "3           cnn_lstm  0.637507   0.632135  0.642971  0.669902\n",
       "4       avg_ensemble  0.646064   0.659524  0.633143  0.682572\n",
       "5  majority_ensemble  0.653894   0.644953  0.663086  0.682437\n",
       "6     blend_ensemble  0.613343   0.677919  0.560000  0.668149"
      ]
     },
     "execution_count": 101,
     "metadata": {},
     "output_type": "execute_result"
    }
   ],
   "source": [
    "model_performance"
   ]
  },
  {
   "cell_type": "code",
   "execution_count": null,
   "metadata": {
    "collapsed": true
   },
   "outputs": [],
   "source": []
  }
 ],
 "metadata": {
  "kernelspec": {
   "display_name": "Python 3",
   "language": "python",
   "name": "python3"
  },
  "language_info": {
   "codemirror_mode": {
    "name": "ipython",
    "version": 3
   },
   "file_extension": ".py",
   "mimetype": "text/x-python",
   "name": "python",
   "nbconvert_exporter": "python",
   "pygments_lexer": "ipython3",
   "version": "3.6.3"
  }
 },
 "nbformat": 4,
 "nbformat_minor": 2
}
